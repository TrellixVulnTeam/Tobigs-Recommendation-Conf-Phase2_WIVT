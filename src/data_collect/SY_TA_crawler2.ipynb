{
 "cells": [
  {
   "cell_type": "code",
   "execution_count": null,
   "metadata": {},
   "outputs": [],
   "source": [
    "import pandas as pd\n",
    "import requests\n",
    "from bs4 import BeautifulSoup\n",
    "import re\n",
    "import json\n",
    "import os\n",
    "\n",
    "pd.set_option(\"display.max_columns\",0)\n",
    "\n",
    "df = pd.read_json(os.path.join(\"..\",\"..\",\"data\",\"TA_User_Review_Seoul_all_v2.json\"))"
   ]
  },
  {
   "cell_type": "code",
   "execution_count": 60,
   "metadata": {},
   "outputs": [
    {
     "data": {
      "text/html": [
       "<div>\n",
       "<style scoped>\n",
       "    .dataframe tbody tr th:only-of-type {\n",
       "        vertical-align: middle;\n",
       "    }\n",
       "\n",
       "    .dataframe tbody tr th {\n",
       "        vertical-align: top;\n",
       "    }\n",
       "\n",
       "    .dataframe thead th {\n",
       "        text-align: right;\n",
       "    }\n",
       "</style>\n",
       "<table border=\"1\" class=\"dataframe\">\n",
       "  <thead>\n",
       "    <tr style=\"text-align: right;\">\n",
       "      <th></th>\n",
       "      <th>__typename</th>\n",
       "      <th>createdDate</th>\n",
       "      <th>helpfulVotes</th>\n",
       "      <th>id</th>\n",
       "      <th>language</th>\n",
       "      <th>location.__typename</th>\n",
       "      <th>location.additionalNames.long</th>\n",
       "      <th>location.additionalNames.longOnlyParent</th>\n",
       "      <th>location.locationId</th>\n",
       "      <th>location.name</th>\n",
       "      <th>location.parent.additionalNames.long</th>\n",
       "      <th>location.parent.locationId</th>\n",
       "      <th>location.parentGeoId</th>\n",
       "      <th>location.placeType</th>\n",
       "      <th>photoIds</th>\n",
       "      <th>photos</th>\n",
       "      <th>rating</th>\n",
       "      <th>socialStatistics.followCount</th>\n",
       "      <th>socialStatistics.isFollowing</th>\n",
       "      <th>socialStatistics.isLiked</th>\n",
       "      <th>socialStatistics.isReposted</th>\n",
       "      <th>socialStatistics.isSaved</th>\n",
       "      <th>socialStatistics.likeCount</th>\n",
       "      <th>socialStatistics.repostCount</th>\n",
       "      <th>socialStatistics.tripCount</th>\n",
       "      <th>text</th>\n",
       "      <th>title</th>\n",
       "      <th>userId</th>\n",
       "      <th>userProfile.contributionCounts.sumAllUgc</th>\n",
       "      <th>userProfile.isMe</th>\n",
       "      <th>userProfile.isVerified</th>\n",
       "      <th>userProfile.userId</th>\n",
       "    </tr>\n",
       "  </thead>\n",
       "  <tbody>\n",
       "    <tr>\n",
       "      <th>0</th>\n",
       "      <td>Review</td>\n",
       "      <td>2020-03-06</td>\n",
       "      <td>0</td>\n",
       "      <td>749418557</td>\n",
       "      <td>ja</td>\n",
       "      <td>LocationInformation</td>\n",
       "      <td>Hotel Gracery Seoul, South Korea</td>\n",
       "      <td>South Korea</td>\n",
       "      <td>14159911</td>\n",
       "      <td>Hotel Gracery Seoul</td>\n",
       "      <td>Seoul, South Korea</td>\n",
       "      <td>294197</td>\n",
       "      <td>294197</td>\n",
       "      <td>ACCOMMODATION</td>\n",
       "      <td>[]</td>\n",
       "      <td>[]</td>\n",
       "      <td>4</td>\n",
       "      <td>0</td>\n",
       "      <td>False</td>\n",
       "      <td>False</td>\n",
       "      <td>False</td>\n",
       "      <td>False</td>\n",
       "      <td>0</td>\n",
       "      <td>0</td>\n",
       "      <td>0</td>\n",
       "      <td>日系のホテルなので日本語OK\\n南大門も明洞も歩いて行けます\\nトリプルルーム　お部屋は狭め...</td>\n",
       "      <td>グレイスリーホテルソウル</td>\n",
       "      <td>E44FFBC7D1E0A97FECCCF7F8EB052E0C</td>\n",
       "      <td>8</td>\n",
       "      <td>0</td>\n",
       "      <td>0</td>\n",
       "      <td>E44FFBC7D1E0A97FECCCF7F8EB052E0C</td>\n",
       "    </tr>\n",
       "    <tr>\n",
       "      <th>1</th>\n",
       "      <td>Review</td>\n",
       "      <td>2020-03-01</td>\n",
       "      <td>0</td>\n",
       "      <td>748454819</td>\n",
       "      <td>en</td>\n",
       "      <td>LocationInformation</td>\n",
       "      <td>Hotel Gracery Seoul, South Korea</td>\n",
       "      <td>South Korea</td>\n",
       "      <td>14159911</td>\n",
       "      <td>Hotel Gracery Seoul</td>\n",
       "      <td>Seoul, South Korea</td>\n",
       "      <td>294197</td>\n",
       "      <td>294197</td>\n",
       "      <td>ACCOMMODATION</td>\n",
       "      <td>[453807126]</td>\n",
       "      <td>[{'id': 453807126, 'statuses': ['PENDING'], 'p...</td>\n",
       "      <td>5</td>\n",
       "      <td>0</td>\n",
       "      <td>False</td>\n",
       "      <td>False</td>\n",
       "      <td>False</td>\n",
       "      <td>False</td>\n",
       "      <td>0</td>\n",
       "      <td>0</td>\n",
       "      <td>0</td>\n",
       "      <td>I really enjoyed our stay here in Gracery Hote...</td>\n",
       "      <td>Great Hotel</td>\n",
       "      <td>F9AD0C1F6409A1574AD0AFC237D2A4CE</td>\n",
       "      <td>7</td>\n",
       "      <td>0</td>\n",
       "      <td>0</td>\n",
       "      <td>F9AD0C1F6409A1574AD0AFC237D2A4CE</td>\n",
       "    </tr>\n",
       "    <tr>\n",
       "      <th>2</th>\n",
       "      <td>Review</td>\n",
       "      <td>2020-02-16</td>\n",
       "      <td>0</td>\n",
       "      <td>745371386</td>\n",
       "      <td>ja</td>\n",
       "      <td>LocationInformation</td>\n",
       "      <td>Hotel Gracery Seoul, South Korea</td>\n",
       "      <td>South Korea</td>\n",
       "      <td>14159911</td>\n",
       "      <td>Hotel Gracery Seoul</td>\n",
       "      <td>Seoul, South Korea</td>\n",
       "      <td>294197</td>\n",
       "      <td>294197</td>\n",
       "      <td>ACCOMMODATION</td>\n",
       "      <td>[]</td>\n",
       "      <td>[]</td>\n",
       "      <td>5</td>\n",
       "      <td>0</td>\n",
       "      <td>False</td>\n",
       "      <td>False</td>\n",
       "      <td>False</td>\n",
       "      <td>False</td>\n",
       "      <td>0</td>\n",
       "      <td>0</td>\n",
       "      <td>0</td>\n",
       "      <td>今回はagoda経由で予約しました。予約後に日系のホテルと知った次第です。\\nチェックイン後...</td>\n",
       "      <td>安心出来ます</td>\n",
       "      <td>770775D59B126E71D38D56FAB9B95F93</td>\n",
       "      <td>57</td>\n",
       "      <td>0</td>\n",
       "      <td>0</td>\n",
       "      <td>770775D59B126E71D38D56FAB9B95F93</td>\n",
       "    </tr>\n",
       "  </tbody>\n",
       "</table>\n",
       "</div>"
      ],
      "text/plain": [
       "  __typename createdDate  ...  userProfile.isVerified                userProfile.userId\n",
       "0     Review  2020-03-06  ...                       0  E44FFBC7D1E0A97FECCCF7F8EB052E0C\n",
       "1     Review  2020-03-01  ...                       0  F9AD0C1F6409A1574AD0AFC237D2A4CE\n",
       "2     Review  2020-02-16  ...                       0  770775D59B126E71D38D56FAB9B95F93\n",
       "\n",
       "[3 rows x 32 columns]"
      ]
     },
     "execution_count": 60,
     "metadata": {},
     "output_type": "execute_result"
    }
   ],
   "source": [
    "df.head(3)"
   ]
  },
  {
   "cell_type": "code",
   "execution_count": 47,
   "metadata": {},
   "outputs": [
    {
     "data": {
      "text/plain": [
       "(144434, 32)"
      ]
     },
     "execution_count": 47,
     "metadata": {},
     "output_type": "execute_result"
    }
   ],
   "source": [
    "df.shape"
   ]
  },
  {
   "cell_type": "code",
   "execution_count": null,
   "metadata": {},
   "outputs": [],
   "source": []
  },
  {
   "cell_type": "code",
   "execution_count": 48,
   "metadata": {},
   "outputs": [],
   "source": [
    "df_seoul_eat = df[(df['location.parent.additionalNames.long'] == \"Seoul, South Korea\") & (df['location.placeType'] == \"EATERY\")]"
   ]
  },
  {
   "cell_type": "code",
   "execution_count": 54,
   "metadata": {},
   "outputs": [],
   "source": [
    "seoul_eatery_location_ids = df_seoul_eat['location.locationId'].unique()"
   ]
  },
  {
   "cell_type": "code",
   "execution_count": 56,
   "metadata": {},
   "outputs": [],
   "source": [
    "for i, url in enumerate(seoul_eatery_location_ids):\n",
    "    PAGE_URL = \"https://www.tripadvisor.co.kr/{}\".format(url)\n",
    "    res = requests.get(PAGE_URL)\n",
    "    break"
   ]
  },
  {
   "cell_type": "code",
   "execution_count": 57,
   "metadata": {},
   "outputs": [],
   "source": [
    "soup = BeautifulSoup(res.text,'html.parser')"
   ]
  },
  {
   "cell_type": "code",
   "execution_count": 59,
   "metadata": {},
   "outputs": [
    {
     "data": {
      "text/plain": [
       "<title>마르코 폴로, 서울 - 레스토랑 리뷰 - 트립어드바이저</title>"
      ]
     },
     "execution_count": 59,
     "metadata": {},
     "output_type": "execute_result"
    }
   ],
   "source": [
    "soup.title"
   ]
  },
  {
   "cell_type": "markdown",
   "metadata": {},
   "source": [
    "# 뽑을 정보 정리 필요함\n",
    "\n",
    "[링크](https://www.tripadvisor.co.kr/Restaurant_Review-g294197-d788542-Reviews-Marco_Polo-Seoul.html)"
   ]
  },
  {
   "cell_type": "code",
   "execution_count": null,
   "metadata": {},
   "outputs": [],
   "source": []
  },
  {
   "cell_type": "code",
   "execution_count": null,
   "metadata": {},
   "outputs": [],
   "source": []
  },
  {
   "cell_type": "code",
   "execution_count": null,
   "metadata": {},
   "outputs": [],
   "source": []
  },
  {
   "cell_type": "code",
   "execution_count": null,
   "metadata": {},
   "outputs": [],
   "source": []
  },
  {
   "cell_type": "code",
   "execution_count": null,
   "metadata": {},
   "outputs": [],
   "source": []
  }
 ],
 "metadata": {
  "kernelspec": {
   "display_name": "Python 3",
   "language": "python",
   "name": "python3"
  },
  "language_info": {
   "codemirror_mode": {
    "name": "ipython",
    "version": 3
   },
   "file_extension": ".py",
   "mimetype": "text/x-python",
   "name": "python",
   "nbconvert_exporter": "python",
   "pygments_lexer": "ipython3",
   "version": "3.7.4"
  }
 },
 "nbformat": 4,
 "nbformat_minor": 4
}
