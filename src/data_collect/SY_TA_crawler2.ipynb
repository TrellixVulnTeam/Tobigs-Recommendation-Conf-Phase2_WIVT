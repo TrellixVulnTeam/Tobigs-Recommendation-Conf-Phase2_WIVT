{
 "cells": [
  {
   "cell_type": "code",
   "execution_count": null,
   "metadata": {},
   "outputs": [],
   "source": [
    "import pandas as pd\n",
    "import requests\n",
    "from bs4 import BeautifulSoup\n",
    "import re\n",
    "import json\n",
    "import os\n",
    "\n",
    "pd.set_option(\"display.max_columns\",0)\n",
    "\n",
    "df = pd.read_json(os.path.join(\"..\",\"..\",\"data\",\"TA_User_Review_Seoul_all_v2.json\"))"
   ]
  },
  {
   "cell_type": "code",
   "execution_count": 60,
   "metadata": {},
   "outputs": [
    {
     "data": {
      "text/html": [
       "<div>\n",
       "<style scoped>\n",
       "    .dataframe tbody tr th:only-of-type {\n",
       "        vertical-align: middle;\n",
       "    }\n",
       "\n",
       "    .dataframe tbody tr th {\n",
       "        vertical-align: top;\n",
       "    }\n",
       "\n",
       "    .dataframe thead th {\n",
       "        text-align: right;\n",
       "    }\n",
       "</style>\n",
       "<table border=\"1\" class=\"dataframe\">\n",
       "  <thead>\n",
       "    <tr style=\"text-align: right;\">\n",
       "      <th></th>\n",
       "      <th>__typename</th>\n",
       "      <th>createdDate</th>\n",
       "      <th>helpfulVotes</th>\n",
       "      <th>id</th>\n",
       "      <th>language</th>\n",
       "      <th>location.__typename</th>\n",
       "      <th>location.additionalNames.long</th>\n",
       "      <th>location.additionalNames.longOnlyParent</th>\n",
       "      <th>location.locationId</th>\n",
       "      <th>location.name</th>\n",
       "      <th>location.parent.additionalNames.long</th>\n",
       "      <th>location.parent.locationId</th>\n",
       "      <th>location.parentGeoId</th>\n",
       "      <th>location.placeType</th>\n",
       "      <th>photoIds</th>\n",
       "      <th>photos</th>\n",
       "      <th>rating</th>\n",
       "      <th>socialStatistics.followCount</th>\n",
       "      <th>socialStatistics.isFollowing</th>\n",
       "      <th>socialStatistics.isLiked</th>\n",
       "      <th>socialStatistics.isReposted</th>\n",
       "      <th>socialStatistics.isSaved</th>\n",
       "      <th>socialStatistics.likeCount</th>\n",
       "      <th>socialStatistics.repostCount</th>\n",
       "      <th>socialStatistics.tripCount</th>\n",
       "      <th>text</th>\n",
       "      <th>title</th>\n",
       "      <th>userId</th>\n",
       "      <th>userProfile.contributionCounts.sumAllUgc</th>\n",
       "      <th>userProfile.isMe</th>\n",
       "      <th>userProfile.isVerified</th>\n",
       "      <th>userProfile.userId</th>\n",
       "    </tr>\n",
       "  </thead>\n",
       "  <tbody>\n",
       "    <tr>\n",
       "      <th>0</th>\n",
       "      <td>Review</td>\n",
       "      <td>2020-03-06</td>\n",
       "      <td>0</td>\n",
       "      <td>749418557</td>\n",
       "      <td>ja</td>\n",
       "      <td>LocationInformation</td>\n",
       "      <td>Hotel Gracery Seoul, South Korea</td>\n",
       "      <td>South Korea</td>\n",
       "      <td>14159911</td>\n",
       "      <td>Hotel Gracery Seoul</td>\n",
       "      <td>Seoul, South Korea</td>\n",
       "      <td>294197</td>\n",
       "      <td>294197</td>\n",
       "      <td>ACCOMMODATION</td>\n",
       "      <td>[]</td>\n",
       "      <td>[]</td>\n",
       "      <td>4</td>\n",
       "      <td>0</td>\n",
       "      <td>False</td>\n",
       "      <td>False</td>\n",
       "      <td>False</td>\n",
       "      <td>False</td>\n",
       "      <td>0</td>\n",
       "      <td>0</td>\n",
       "      <td>0</td>\n",
       "      <td>日系のホテルなので日本語OK\\n南大門も明洞も歩いて行けます\\nトリプルルーム　お部屋は狭め...</td>\n",
       "      <td>グレイスリーホテルソウル</td>\n",
       "      <td>E44FFBC7D1E0A97FECCCF7F8EB052E0C</td>\n",
       "      <td>8</td>\n",
       "      <td>0</td>\n",
       "      <td>0</td>\n",
       "      <td>E44FFBC7D1E0A97FECCCF7F8EB052E0C</td>\n",
       "    </tr>\n",
       "    <tr>\n",
       "      <th>1</th>\n",
       "      <td>Review</td>\n",
       "      <td>2020-03-01</td>\n",
       "      <td>0</td>\n",
       "      <td>748454819</td>\n",
       "      <td>en</td>\n",
       "      <td>LocationInformation</td>\n",
       "      <td>Hotel Gracery Seoul, South Korea</td>\n",
       "      <td>South Korea</td>\n",
       "      <td>14159911</td>\n",
       "      <td>Hotel Gracery Seoul</td>\n",
       "      <td>Seoul, South Korea</td>\n",
       "      <td>294197</td>\n",
       "      <td>294197</td>\n",
       "      <td>ACCOMMODATION</td>\n",
       "      <td>[453807126]</td>\n",
       "      <td>[{'id': 453807126, 'statuses': ['PENDING'], 'p...</td>\n",
       "      <td>5</td>\n",
       "      <td>0</td>\n",
       "      <td>False</td>\n",
       "      <td>False</td>\n",
       "      <td>False</td>\n",
       "      <td>False</td>\n",
       "      <td>0</td>\n",
       "      <td>0</td>\n",
       "      <td>0</td>\n",
       "      <td>I really enjoyed our stay here in Gracery Hote...</td>\n",
       "      <td>Great Hotel</td>\n",
       "      <td>F9AD0C1F6409A1574AD0AFC237D2A4CE</td>\n",
       "      <td>7</td>\n",
       "      <td>0</td>\n",
       "      <td>0</td>\n",
       "      <td>F9AD0C1F6409A1574AD0AFC237D2A4CE</td>\n",
       "    </tr>\n",
       "    <tr>\n",
       "      <th>2</th>\n",
       "      <td>Review</td>\n",
       "      <td>2020-02-16</td>\n",
       "      <td>0</td>\n",
       "      <td>745371386</td>\n",
       "      <td>ja</td>\n",
       "      <td>LocationInformation</td>\n",
       "      <td>Hotel Gracery Seoul, South Korea</td>\n",
       "      <td>South Korea</td>\n",
       "      <td>14159911</td>\n",
       "      <td>Hotel Gracery Seoul</td>\n",
       "      <td>Seoul, South Korea</td>\n",
       "      <td>294197</td>\n",
       "      <td>294197</td>\n",
       "      <td>ACCOMMODATION</td>\n",
       "      <td>[]</td>\n",
       "      <td>[]</td>\n",
       "      <td>5</td>\n",
       "      <td>0</td>\n",
       "      <td>False</td>\n",
       "      <td>False</td>\n",
       "      <td>False</td>\n",
       "      <td>False</td>\n",
       "      <td>0</td>\n",
       "      <td>0</td>\n",
       "      <td>0</td>\n",
       "      <td>今回はagoda経由で予約しました。予約後に日系のホテルと知った次第です。\\nチェックイン後...</td>\n",
       "      <td>安心出来ます</td>\n",
       "      <td>770775D59B126E71D38D56FAB9B95F93</td>\n",
       "      <td>57</td>\n",
       "      <td>0</td>\n",
       "      <td>0</td>\n",
       "      <td>770775D59B126E71D38D56FAB9B95F93</td>\n",
       "    </tr>\n",
       "  </tbody>\n",
       "</table>\n",
       "</div>"
      ],
      "text/plain": [
       "  __typename createdDate  ...  userProfile.isVerified                userProfile.userId\n",
       "0     Review  2020-03-06  ...                       0  E44FFBC7D1E0A97FECCCF7F8EB052E0C\n",
       "1     Review  2020-03-01  ...                       0  F9AD0C1F6409A1574AD0AFC237D2A4CE\n",
       "2     Review  2020-02-16  ...                       0  770775D59B126E71D38D56FAB9B95F93\n",
       "\n",
       "[3 rows x 32 columns]"
      ]
     },
     "execution_count": 60,
     "metadata": {},
     "output_type": "execute_result"
    }
   ],
   "source": [
    "df.head(3)"
   ]
  },
  {
   "cell_type": "code",
   "execution_count": 47,
   "metadata": {},
   "outputs": [
    {
     "data": {
      "text/plain": [
       "(144434, 32)"
      ]
     },
     "execution_count": 47,
     "metadata": {},
     "output_type": "execute_result"
    }
   ],
   "source": [
    "df.shape"
   ]
  },
  {
   "cell_type": "code",
   "execution_count": 61,
   "metadata": {},
   "outputs": [
    {
     "data": {
      "text/plain": [
       "array(['ACCOMMODATION', 'EATERY', 'ATTRACTION', 'ACTIVITY'], dtype=object)"
      ]
     },
     "execution_count": 61,
     "metadata": {},
     "output_type": "execute_result"
    }
   ],
   "source": [
    "df['location.placeType'].unique()"
   ]
  },
  {
   "cell_type": "code",
   "execution_count": 64,
   "metadata": {},
   "outputs": [
    {
     "data": {
      "text/html": [
       "<div>\n",
       "<style scoped>\n",
       "    .dataframe tbody tr th:only-of-type {\n",
       "        vertical-align: middle;\n",
       "    }\n",
       "\n",
       "    .dataframe tbody tr th {\n",
       "        vertical-align: top;\n",
       "    }\n",
       "\n",
       "    .dataframe thead th {\n",
       "        text-align: right;\n",
       "    }\n",
       "</style>\n",
       "<table border=\"1\" class=\"dataframe\">\n",
       "  <thead>\n",
       "    <tr style=\"text-align: right;\">\n",
       "      <th></th>\n",
       "      <th>__typename</th>\n",
       "      <th>createdDate</th>\n",
       "      <th>helpfulVotes</th>\n",
       "      <th>id</th>\n",
       "      <th>language</th>\n",
       "      <th>location.__typename</th>\n",
       "      <th>location.additionalNames.long</th>\n",
       "      <th>location.additionalNames.longOnlyParent</th>\n",
       "      <th>location.locationId</th>\n",
       "      <th>location.name</th>\n",
       "      <th>location.parent.additionalNames.long</th>\n",
       "      <th>location.parent.locationId</th>\n",
       "      <th>location.parentGeoId</th>\n",
       "      <th>location.placeType</th>\n",
       "      <th>photoIds</th>\n",
       "      <th>photos</th>\n",
       "      <th>rating</th>\n",
       "      <th>socialStatistics.followCount</th>\n",
       "      <th>socialStatistics.isFollowing</th>\n",
       "      <th>socialStatistics.isLiked</th>\n",
       "      <th>socialStatistics.isReposted</th>\n",
       "      <th>socialStatistics.isSaved</th>\n",
       "      <th>socialStatistics.likeCount</th>\n",
       "      <th>socialStatistics.repostCount</th>\n",
       "      <th>socialStatistics.tripCount</th>\n",
       "      <th>text</th>\n",
       "      <th>title</th>\n",
       "      <th>userId</th>\n",
       "      <th>userProfile.contributionCounts.sumAllUgc</th>\n",
       "      <th>userProfile.isMe</th>\n",
       "      <th>userProfile.isVerified</th>\n",
       "      <th>userProfile.userId</th>\n",
       "    </tr>\n",
       "  </thead>\n",
       "  <tbody>\n",
       "    <tr>\n",
       "      <th>134853</th>\n",
       "      <td>Review</td>\n",
       "      <td>2020-02-14</td>\n",
       "      <td>0</td>\n",
       "      <td>744980685</td>\n",
       "      <td>en</td>\n",
       "      <td>LocationInformation</td>\n",
       "      <td>Hongik University Street, South Korea</td>\n",
       "      <td>South Korea</td>\n",
       "      <td>1958940</td>\n",
       "      <td>Hongik University Street</td>\n",
       "      <td>Seoul, South Korea</td>\n",
       "      <td>294197</td>\n",
       "      <td>294197</td>\n",
       "      <td>ATTRACTION</td>\n",
       "      <td>[]</td>\n",
       "      <td>[]</td>\n",
       "      <td>5</td>\n",
       "      <td>0</td>\n",
       "      <td>False</td>\n",
       "      <td>False</td>\n",
       "      <td>False</td>\n",
       "      <td>False</td>\n",
       "      <td>0</td>\n",
       "      <td>0</td>\n",
       "      <td>0</td>\n",
       "      <td>This is a place for you to laidback and have s...</td>\n",
       "      <td>Vibrant and Trendy</td>\n",
       "      <td>23EF5413495FF530151DB7E5C0FEF38D</td>\n",
       "      <td>225</td>\n",
       "      <td>0</td>\n",
       "      <td>0</td>\n",
       "      <td>23EF5413495FF530151DB7E5C0FEF38D</td>\n",
       "    </tr>\n",
       "    <tr>\n",
       "      <th>134855</th>\n",
       "      <td>Review</td>\n",
       "      <td>2020-02-14</td>\n",
       "      <td>0</td>\n",
       "      <td>744973034</td>\n",
       "      <td>en</td>\n",
       "      <td>LocationInformation</td>\n",
       "      <td>Myeongdong Shopping Street, South Korea</td>\n",
       "      <td>South Korea</td>\n",
       "      <td>553546</td>\n",
       "      <td>Myeongdong Shopping Street</td>\n",
       "      <td>Seoul, South Korea</td>\n",
       "      <td>294197</td>\n",
       "      <td>294197</td>\n",
       "      <td>ATTRACTION</td>\n",
       "      <td>[]</td>\n",
       "      <td>[]</td>\n",
       "      <td>4</td>\n",
       "      <td>0</td>\n",
       "      <td>False</td>\n",
       "      <td>False</td>\n",
       "      <td>False</td>\n",
       "      <td>False</td>\n",
       "      <td>0</td>\n",
       "      <td>0</td>\n",
       "      <td>0</td>\n",
       "      <td>This is the place where you can shop any cosme...</td>\n",
       "      <td>Chaotic Street Food</td>\n",
       "      <td>23EF5413495FF530151DB7E5C0FEF38D</td>\n",
       "      <td>225</td>\n",
       "      <td>0</td>\n",
       "      <td>0</td>\n",
       "      <td>23EF5413495FF530151DB7E5C0FEF38D</td>\n",
       "    </tr>\n",
       "    <tr>\n",
       "      <th>134856</th>\n",
       "      <td>Review</td>\n",
       "      <td>2020-02-07</td>\n",
       "      <td>0</td>\n",
       "      <td>743505782</td>\n",
       "      <td>en</td>\n",
       "      <td>LocationInformation</td>\n",
       "      <td>Lotte World, South Korea</td>\n",
       "      <td>South Korea</td>\n",
       "      <td>324891</td>\n",
       "      <td>Lotte World</td>\n",
       "      <td>Seoul, South Korea</td>\n",
       "      <td>294197</td>\n",
       "      <td>294197</td>\n",
       "      <td>ATTRACTION</td>\n",
       "      <td>[]</td>\n",
       "      <td>[]</td>\n",
       "      <td>4</td>\n",
       "      <td>0</td>\n",
       "      <td>False</td>\n",
       "      <td>False</td>\n",
       "      <td>False</td>\n",
       "      <td>False</td>\n",
       "      <td>0</td>\n",
       "      <td>0</td>\n",
       "      <td>0</td>\n",
       "      <td>we went there during our winter holiday, and f...</td>\n",
       "      <td>To the Magic Island for more challenging exper...</td>\n",
       "      <td>23EF5413495FF530151DB7E5C0FEF38D</td>\n",
       "      <td>225</td>\n",
       "      <td>0</td>\n",
       "      <td>0</td>\n",
       "      <td>23EF5413495FF530151DB7E5C0FEF38D</td>\n",
       "    </tr>\n",
       "    <tr>\n",
       "      <th>134857</th>\n",
       "      <td>Review</td>\n",
       "      <td>2020-02-07</td>\n",
       "      <td>0</td>\n",
       "      <td>743504308</td>\n",
       "      <td>en</td>\n",
       "      <td>LocationInformation</td>\n",
       "      <td>N Seoul Tower, South Korea</td>\n",
       "      <td>South Korea</td>\n",
       "      <td>1169465</td>\n",
       "      <td>N Seoul Tower</td>\n",
       "      <td>Seoul, South Korea</td>\n",
       "      <td>294197</td>\n",
       "      <td>294197</td>\n",
       "      <td>ATTRACTION</td>\n",
       "      <td>[]</td>\n",
       "      <td>[]</td>\n",
       "      <td>4</td>\n",
       "      <td>0</td>\n",
       "      <td>False</td>\n",
       "      <td>False</td>\n",
       "      <td>False</td>\n",
       "      <td>False</td>\n",
       "      <td>0</td>\n",
       "      <td>0</td>\n",
       "      <td>0</td>\n",
       "      <td>from myeongdong, we walk uphil to the cable ca...</td>\n",
       "      <td>Beautiful View, thats all</td>\n",
       "      <td>23EF5413495FF530151DB7E5C0FEF38D</td>\n",
       "      <td>225</td>\n",
       "      <td>0</td>\n",
       "      <td>0</td>\n",
       "      <td>23EF5413495FF530151DB7E5C0FEF38D</td>\n",
       "    </tr>\n",
       "    <tr>\n",
       "      <th>134858</th>\n",
       "      <td>Review</td>\n",
       "      <td>2019-06-29</td>\n",
       "      <td>0</td>\n",
       "      <td>685203058</td>\n",
       "      <td>en</td>\n",
       "      <td>LocationInformation</td>\n",
       "      <td>Gwanghwamun Gate, South Korea</td>\n",
       "      <td>South Korea</td>\n",
       "      <td>590748</td>\n",
       "      <td>Gwanghwamun Gate</td>\n",
       "      <td>Seoul, South Korea</td>\n",
       "      <td>294197</td>\n",
       "      <td>294197</td>\n",
       "      <td>ATTRACTION</td>\n",
       "      <td>[404554709, 404553876, 404553841, 404553853, 4...</td>\n",
       "      <td>[{'id': 404554709, 'title': None, 'description...</td>\n",
       "      <td>3</td>\n",
       "      <td>0</td>\n",
       "      <td>False</td>\n",
       "      <td>False</td>\n",
       "      <td>False</td>\n",
       "      <td>False</td>\n",
       "      <td>0</td>\n",
       "      <td>0</td>\n",
       "      <td>0</td>\n",
       "      <td>Gwanghwamun is in fact same location as Gyeong...</td>\n",
       "      <td>The Palace Main Gate</td>\n",
       "      <td>FDCBDCCE742F09AAD83CB28AF5A26AD8</td>\n",
       "      <td>1864</td>\n",
       "      <td>0</td>\n",
       "      <td>0</td>\n",
       "      <td>FDCBDCCE742F09AAD83CB28AF5A26AD8</td>\n",
       "    </tr>\n",
       "    <tr>\n",
       "      <th>...</th>\n",
       "      <td>...</td>\n",
       "      <td>...</td>\n",
       "      <td>...</td>\n",
       "      <td>...</td>\n",
       "      <td>...</td>\n",
       "      <td>...</td>\n",
       "      <td>...</td>\n",
       "      <td>...</td>\n",
       "      <td>...</td>\n",
       "      <td>...</td>\n",
       "      <td>...</td>\n",
       "      <td>...</td>\n",
       "      <td>...</td>\n",
       "      <td>...</td>\n",
       "      <td>...</td>\n",
       "      <td>...</td>\n",
       "      <td>...</td>\n",
       "      <td>...</td>\n",
       "      <td>...</td>\n",
       "      <td>...</td>\n",
       "      <td>...</td>\n",
       "      <td>...</td>\n",
       "      <td>...</td>\n",
       "      <td>...</td>\n",
       "      <td>...</td>\n",
       "      <td>...</td>\n",
       "      <td>...</td>\n",
       "      <td>...</td>\n",
       "      <td>...</td>\n",
       "      <td>...</td>\n",
       "      <td>...</td>\n",
       "      <td>...</td>\n",
       "    </tr>\n",
       "    <tr>\n",
       "      <th>144429</th>\n",
       "      <td>Review</td>\n",
       "      <td>2016-09-15</td>\n",
       "      <td>0</td>\n",
       "      <td>418986337</td>\n",
       "      <td>en</td>\n",
       "      <td>LocationInformation</td>\n",
       "      <td>Myeongdong Shopping Street, South Korea</td>\n",
       "      <td>South Korea</td>\n",
       "      <td>553546</td>\n",
       "      <td>Myeongdong Shopping Street</td>\n",
       "      <td>Seoul, South Korea</td>\n",
       "      <td>294197</td>\n",
       "      <td>294197</td>\n",
       "      <td>ATTRACTION</td>\n",
       "      <td>[217742139]</td>\n",
       "      <td>[{'id': 217742139, 'title': 'photo1.jpg', 'des...</td>\n",
       "      <td>5</td>\n",
       "      <td>0</td>\n",
       "      <td>False</td>\n",
       "      <td>False</td>\n",
       "      <td>False</td>\n",
       "      <td>False</td>\n",
       "      <td>0</td>\n",
       "      <td>0</td>\n",
       "      <td>0</td>\n",
       "      <td>If you're all about make up and skin care, be ...</td>\n",
       "      <td>Shopping Haven</td>\n",
       "      <td>1089B7473BE17E5E1A41C064A9F3B01A</td>\n",
       "      <td>170</td>\n",
       "      <td>0</td>\n",
       "      <td>0</td>\n",
       "      <td>1089B7473BE17E5E1A41C064A9F3B01A</td>\n",
       "    </tr>\n",
       "    <tr>\n",
       "      <th>144430</th>\n",
       "      <td>Review</td>\n",
       "      <td>2016-09-15</td>\n",
       "      <td>0</td>\n",
       "      <td>418987119</td>\n",
       "      <td>en</td>\n",
       "      <td>LocationInformation</td>\n",
       "      <td>National Folk Museum of Korea, South Korea</td>\n",
       "      <td>South Korea</td>\n",
       "      <td>324890</td>\n",
       "      <td>National Folk Museum of Korea</td>\n",
       "      <td>Seoul, South Korea</td>\n",
       "      <td>294197</td>\n",
       "      <td>294197</td>\n",
       "      <td>ATTRACTION</td>\n",
       "      <td>[]</td>\n",
       "      <td>[]</td>\n",
       "      <td>5</td>\n",
       "      <td>0</td>\n",
       "      <td>False</td>\n",
       "      <td>False</td>\n",
       "      <td>False</td>\n",
       "      <td>False</td>\n",
       "      <td>0</td>\n",
       "      <td>0</td>\n",
       "      <td>0</td>\n",
       "      <td>This just behind the Gyeobokgung Palace. And i...</td>\n",
       "      <td>Folk Museum</td>\n",
       "      <td>1089B7473BE17E5E1A41C064A9F3B01A</td>\n",
       "      <td>170</td>\n",
       "      <td>0</td>\n",
       "      <td>0</td>\n",
       "      <td>1089B7473BE17E5E1A41C064A9F3B01A</td>\n",
       "    </tr>\n",
       "    <tr>\n",
       "      <th>144431</th>\n",
       "      <td>Review</td>\n",
       "      <td>2016-09-14</td>\n",
       "      <td>1</td>\n",
       "      <td>418402883</td>\n",
       "      <td>en</td>\n",
       "      <td>LocationInformation</td>\n",
       "      <td>Gyeongbokgung Palace, South Korea</td>\n",
       "      <td>South Korea</td>\n",
       "      <td>324888</td>\n",
       "      <td>Gyeongbokgung Palace</td>\n",
       "      <td>Seoul, South Korea</td>\n",
       "      <td>294197</td>\n",
       "      <td>294197</td>\n",
       "      <td>ATTRACTION</td>\n",
       "      <td>[217330451, 217330452, 217330454, 217330455, 2...</td>\n",
       "      <td>[{'id': 217330451, 'title': 'photo0.jpg', 'des...</td>\n",
       "      <td>5</td>\n",
       "      <td>0</td>\n",
       "      <td>False</td>\n",
       "      <td>False</td>\n",
       "      <td>False</td>\n",
       "      <td>False</td>\n",
       "      <td>0</td>\n",
       "      <td>0</td>\n",
       "      <td>0</td>\n",
       "      <td>Eat. Sunblock. Comfy Shoes.\\nThe place is huge...</td>\n",
       "      <td>Palaces</td>\n",
       "      <td>1089B7473BE17E5E1A41C064A9F3B01A</td>\n",
       "      <td>170</td>\n",
       "      <td>0</td>\n",
       "      <td>0</td>\n",
       "      <td>1089B7473BE17E5E1A41C064A9F3B01A</td>\n",
       "    </tr>\n",
       "    <tr>\n",
       "      <th>144432</th>\n",
       "      <td>Review</td>\n",
       "      <td>2016-09-14</td>\n",
       "      <td>1</td>\n",
       "      <td>418406637</td>\n",
       "      <td>en</td>\n",
       "      <td>LocationInformation</td>\n",
       "      <td>Namsan Cable Car, South Korea</td>\n",
       "      <td>South Korea</td>\n",
       "      <td>3600495</td>\n",
       "      <td>Namsan Cable Car</td>\n",
       "      <td>Seoul, South Korea</td>\n",
       "      <td>294197</td>\n",
       "      <td>294197</td>\n",
       "      <td>ATTRACTION</td>\n",
       "      <td>[]</td>\n",
       "      <td>[]</td>\n",
       "      <td>5</td>\n",
       "      <td>0</td>\n",
       "      <td>False</td>\n",
       "      <td>False</td>\n",
       "      <td>False</td>\n",
       "      <td>False</td>\n",
       "      <td>0</td>\n",
       "      <td>0</td>\n",
       "      <td>0</td>\n",
       "      <td>For the lazy ones like us and does not like th...</td>\n",
       "      <td>Cable Ride</td>\n",
       "      <td>1089B7473BE17E5E1A41C064A9F3B01A</td>\n",
       "      <td>170</td>\n",
       "      <td>0</td>\n",
       "      <td>0</td>\n",
       "      <td>1089B7473BE17E5E1A41C064A9F3B01A</td>\n",
       "    </tr>\n",
       "    <tr>\n",
       "      <th>144433</th>\n",
       "      <td>Review</td>\n",
       "      <td>2016-09-14</td>\n",
       "      <td>0</td>\n",
       "      <td>418410467</td>\n",
       "      <td>en</td>\n",
       "      <td>LocationInformation</td>\n",
       "      <td>National Palace Museum of Korea, South Korea</td>\n",
       "      <td>South Korea</td>\n",
       "      <td>1836198</td>\n",
       "      <td>National Palace Museum of Korea</td>\n",
       "      <td>Seoul, South Korea</td>\n",
       "      <td>294197</td>\n",
       "      <td>294197</td>\n",
       "      <td>ATTRACTION</td>\n",
       "      <td>[217333282, 217333283, 217333284]</td>\n",
       "      <td>[{'id': 217333282, 'title': 'photo0.jpg', 'des...</td>\n",
       "      <td>5</td>\n",
       "      <td>0</td>\n",
       "      <td>False</td>\n",
       "      <td>False</td>\n",
       "      <td>False</td>\n",
       "      <td>False</td>\n",
       "      <td>0</td>\n",
       "      <td>0</td>\n",
       "      <td>0</td>\n",
       "      <td>For history, this is the place you must see. W...</td>\n",
       "      <td>National Palace Museum</td>\n",
       "      <td>1089B7473BE17E5E1A41C064A9F3B01A</td>\n",
       "      <td>170</td>\n",
       "      <td>0</td>\n",
       "      <td>0</td>\n",
       "      <td>1089B7473BE17E5E1A41C064A9F3B01A</td>\n",
       "    </tr>\n",
       "  </tbody>\n",
       "</table>\n",
       "<p>6856 rows × 32 columns</p>\n",
       "</div>"
      ],
      "text/plain": [
       "       __typename createdDate  ...  userProfile.isVerified                userProfile.userId\n",
       "134853     Review  2020-02-14  ...                       0  23EF5413495FF530151DB7E5C0FEF38D\n",
       "134855     Review  2020-02-14  ...                       0  23EF5413495FF530151DB7E5C0FEF38D\n",
       "134856     Review  2020-02-07  ...                       0  23EF5413495FF530151DB7E5C0FEF38D\n",
       "134857     Review  2020-02-07  ...                       0  23EF5413495FF530151DB7E5C0FEF38D\n",
       "134858     Review  2019-06-29  ...                       0  FDCBDCCE742F09AAD83CB28AF5A26AD8\n",
       "...           ...         ...  ...                     ...                               ...\n",
       "144429     Review  2016-09-15  ...                       0  1089B7473BE17E5E1A41C064A9F3B01A\n",
       "144430     Review  2016-09-15  ...                       0  1089B7473BE17E5E1A41C064A9F3B01A\n",
       "144431     Review  2016-09-14  ...                       0  1089B7473BE17E5E1A41C064A9F3B01A\n",
       "144432     Review  2016-09-14  ...                       0  1089B7473BE17E5E1A41C064A9F3B01A\n",
       "144433     Review  2016-09-14  ...                       0  1089B7473BE17E5E1A41C064A9F3B01A\n",
       "\n",
       "[6856 rows x 32 columns]"
      ]
     },
     "execution_count": 64,
     "metadata": {},
     "output_type": "execute_result"
    }
   ],
   "source": [
    "df[df['location.placeType'] == 'ATTRACTION']"
   ]
  },
  {
   "cell_type": "code",
   "execution_count": 67,
   "metadata": {},
   "outputs": [],
   "source": [
    "df['photo_count'] = df.photoIds.map(lambda x: len(x))"
   ]
  },
  {
   "cell_type": "code",
   "execution_count": 89,
   "metadata": {},
   "outputs": [
    {
     "data": {
      "text/plain": [
       "<matplotlib.axes._subplots.AxesSubplot at 0x1c627d2d0>"
      ]
     },
     "execution_count": 89,
     "metadata": {},
     "output_type": "execute_result"
    },
    {
     "data": {
      "image/png": "[encoded data removed]",
      "text/plain": [
       "<Figure size 432x288 with 1 Axes>"
      ]
     },
     "metadata": {
      "needs_background": "light"
     },
     "output_type": "display_data"
    }
   ],
   "source": [
    "df.groupby(['photo_count'])['rating'].mean().sort_index()[:10].plot()"
   ]
  },
  {
   "cell_type": "code",
   "execution_count": 90,
   "metadata": {},
   "outputs": [],
   "source": [
    "# df.sort_values(['photo_count'])"
   ]
  },
  {
   "cell_type": "code",
   "execution_count": 91,
   "metadata": {},
   "outputs": [],
   "source": [
    "# df.loc[43211].photos"
   ]
  },
  {
   "cell_type": "code",
   "execution_count": null,
   "metadata": {},
   "outputs": [],
   "source": []
  },
  {
   "cell_type": "code",
   "execution_count": null,
   "metadata": {},
   "outputs": [],
   "source": []
  },
  {
   "cell_type": "code",
   "execution_count": 48,
   "metadata": {},
   "outputs": [],
   "source": [
    "df_seoul_eat = df[(df['location.parent.additionalNames.long'] == \"Seoul, South Korea\") & (df['location.placeType'] == \"EATERY\")]"
   ]
  },
  {
   "cell_type": "code",
   "execution_count": 54,
   "metadata": {},
   "outputs": [],
   "source": [
    "seoul_eatery_location_ids = df_seoul_eat['location.locationId'].unique()"
   ]
  },
  {
   "cell_type": "code",
   "execution_count": 113,
   "metadata": {},
   "outputs": [
    {
     "data": {
      "text/plain": [
       "5578"
      ]
     },
     "execution_count": 113,
     "metadata": {},
     "output_type": "execute_result"
    }
   ],
   "source": [
    "len(seoul_eatery_location_ids)"
   ]
  },
  {
   "cell_type": "code",
   "execution_count": 114,
   "metadata": {},
   "outputs": [],
   "source": [
    "import time"
   ]
  },
  {
   "cell_type": "code",
   "execution_count": 117,
   "metadata": {},
   "outputs": [
    {
     "data": {
      "text/plain": [
       "4698"
      ]
     },
     "execution_count": 117,
     "metadata": {},
     "output_type": "execute_result"
    }
   ],
   "source": [
    "i"
   ]
  },
  {
   "cell_type": "code",
   "execution_count": null,
   "metadata": {},
   "outputs": [],
   "source": [
    "result_arr = []"
   ]
  },
  {
   "cell_type": "code",
   "execution_count": 119,
   "metadata": {},
   "outputs": [],
   "source": [
    "# result_arr"
   ]
  },
  {
   "cell_type": "code",
   "execution_count": 120,
   "metadata": {},
   "outputs": [
    {
     "name": "stdout",
     "output_type": "stream",
     "text": [
      "0\n",
      "100\n",
      "200\n",
      "300\n",
      "400\n",
      "500\n",
      "600\n",
      "700\n",
      "800\n"
     ]
    }
   ],
   "source": [
    "for i, url in enumerate(seoul_eatery_location_ids[4699:]):\n",
    "    res = requests.get(\"https://www.tripadvisor.co.kr/data/1.0/location/{}\".format(url))\n",
    "    try:\n",
    "        result_arr.append(res.json())\n",
    "        print(i) if i % 100 == 0 else ''\n",
    "    except:\n",
    "        print(\"Error!\")\n",
    "        time.sleep(5)\n",
    "        continue"
   ]
  },
  {
   "cell_type": "code",
   "execution_count": 121,
   "metadata": {},
   "outputs": [],
   "source": [
    "df = pd.json_normalize(result_arr)"
   ]
  },
  {
   "cell_type": "code",
   "execution_count": null,
   "metadata": {},
   "outputs": [],
   "source": []
  },
  {
   "cell_type": "code",
   "execution_count": 133,
   "metadata": {},
   "outputs": [
    {
     "data": {
      "text/plain": [
       "['location_id',\n",
       " 'name',\n",
       " 'latitude',\n",
       " 'longitude',\n",
       " 'address',\n",
       " 'web_url',\n",
       " 'rating']"
      ]
     },
     "execution_count": 133,
     "metadata": {},
     "output_type": "execute_result"
    }
   ],
   "source": []
  },
  {
   "cell_type": "code",
   "execution_count": null,
   "metadata": {},
   "outputs": [],
   "source": []
  },
  {
   "cell_type": "code",
   "execution_count": 140,
   "metadata": {},
   "outputs": [],
   "source": [
    "df2 = df.dropna(subset=['name'])[['location_id','name','latitude','longitude','address','web_url','rating']]"
   ]
  },
  {
   "cell_type": "code",
   "execution_count": 144,
   "metadata": {},
   "outputs": [],
   "source": [
    "# df2[df2['latitude'] != df2['latitude']]"
   ]
  },
  {
   "cell_type": "code",
   "execution_count": 146,
   "metadata": {},
   "outputs": [],
   "source": [
    "df2.reset_index(drop=True).to_excel(os.path.join(\"..\",\"..\",\"data\",\"TA_음식점_한글이름_주소_정보.xlsx\"), index=False)"
   ]
  },
  {
   "cell_type": "code",
   "execution_count": 147,
   "metadata": {},
   "outputs": [
    {
     "data": {
      "text/plain": [
       "(5574, 7)"
      ]
     },
     "execution_count": 147,
     "metadata": {},
     "output_type": "execute_result"
    }
   ],
   "source": [
    "df2.shape"
   ]
  },
  {
   "cell_type": "code",
   "execution_count": null,
   "metadata": {},
   "outputs": [],
   "source": []
  },
  {
   "cell_type": "code",
   "execution_count": null,
   "metadata": {},
   "outputs": [],
   "source": []
  },
  {
   "cell_type": "code",
   "execution_count": null,
   "metadata": {},
   "outputs": [],
   "source": []
  },
  {
   "cell_type": "code",
   "execution_count": null,
   "metadata": {},
   "outputs": [],
   "source": []
  },
  {
   "cell_type": "code",
   "execution_count": null,
   "metadata": {},
   "outputs": [],
   "source": []
  },
  {
   "cell_type": "code",
   "execution_count": 123,
   "metadata": {},
   "outputs": [
    {
     "data": {
      "text/plain": [
       "Index(['location_id', 'name', 'latitude', 'longitude', 'num_reviews',\n",
       "       'timezone', 'location_string', 'awards', 'doubleclick_zone',\n",
       "       'preferred_map_engine', 'raw_ranking', 'ranking_geo', 'ranking_geo_id',\n",
       "       'ranking_position', 'ranking_denominator', 'ranking_category',\n",
       "       'ranking', 'distance', 'distance_string', 'bearing', 'rating',\n",
       "       'is_closed', 'is_long_closed', 'price_level', 'neighborhood_info',\n",
       "       'campaign_point_strings', 'description', 'web_url', 'write_review',\n",
       "       'ancestors', 'subcategory', 'parent_display_name', 'is_jfy_enabled',\n",
       "       'nearest_metro_station', 'phone', 'address',\n",
       "       'is_candidate_for_contact_info_suppression', 'cuisine',\n",
       "       'dietary_restrictions', 'tags', 'display_hours', 'category.key',\n",
       "       'category.name', 'address_obj.street1', 'address_obj.street2',\n",
       "       'address_obj.city', 'address_obj.state', 'address_obj.country',\n",
       "       'address_obj.postalcode', 'photo.id', 'photo.caption',\n",
       "       'photo.published_date', 'photo.helpful_votes', 'photo.is_blessed',\n",
       "       'photo.uploaded_date', 'photo.images.small.url',\n",
       "       'photo.images.small.width', 'photo.images.small.height',\n",
       "       'photo.images.thumbnail.url', 'photo.images.thumbnail.width',\n",
       "       'photo.images.thumbnail.height', 'photo.images.original.url',\n",
       "       'photo.images.original.width', 'photo.images.original.height',\n",
       "       'photo.images.large.url', 'photo.images.large.width',\n",
       "       'photo.images.large.height', 'photo.images.medium.url',\n",
       "       'photo.images.medium.width', 'photo.images.medium.height', 'website',\n",
       "       'open_now_text', 'price', 'email', 'hours.week_ranges',\n",
       "       'hours.timezone', 'photo', 'ta_message.is_red',\n",
       "       'ta_message.is_sensitive_issue', 'ta_message.text',\n",
       "       'ta_message.owner_response', 'error.message'],\n",
       "      dtype='object')"
      ]
     },
     "execution_count": 123,
     "metadata": {},
     "output_type": "execute_result"
    }
   ],
   "source": [
    "df.columns"
   ]
  },
  {
   "cell_type": "code",
   "execution_count": null,
   "metadata": {},
   "outputs": [],
   "source": []
  },
  {
   "cell_type": "markdown",
   "metadata": {},
   "source": [
    "# 뽑을 정보 정리 필요함\n",
    "\n",
    "[링크](https://www.tripadvisor.co.kr/Restaurant_Review-g294197-d788542-Reviews-Marco_Polo-Seoul.html)"
   ]
  },
  {
   "cell_type": "markdown",
   "metadata": {},
   "source": [
    "1. Location\n",
    "    1. location_id\n",
    "    2. location_address - lng, lat\n",
    "    3. location_name\n",
    "    4. location_type - 숙박, 음식, 명소\n",
    "    \n",
    "    => 평균 평점, 전체 리뷰수 \n",
    "    \n",
    "2. Rating\n",
    "    1. rating\n",
    "    2. visit_time (YYYY-MM-DD)\n",
    "    3. photo_count\n",
    "    4. content\n",
    "3. User\n",
    "    1. user_id\n",
    "    2. user_name\n",
    "    3. is_domestic\n",
    "    4. review_count"
   ]
  },
  {
   "cell_type": "code",
   "execution_count": null,
   "metadata": {},
   "outputs": [],
   "source": []
  },
  {
   "cell_type": "code",
   "execution_count": null,
   "metadata": {},
   "outputs": [],
   "source": []
  },
  {
   "cell_type": "code",
   "execution_count": null,
   "metadata": {},
   "outputs": [],
   "source": []
  },
  {
   "cell_type": "code",
   "execution_count": null,
   "metadata": {},
   "outputs": [],
   "source": []
  }
 ],
 "metadata": {
  "kernelspec": {
   "display_name": "Python 3",
   "language": "python",
   "name": "python3"
  },
  "language_info": {
   "codemirror_mode": {
    "name": "ipython",
    "version": 3
   },
   "file_extension": ".py",
   "mimetype": "text/x-python",
   "name": "python",
   "nbconvert_exporter": "python",
   "pygments_lexer": "ipython3",
   "version": "3.7.4"
  }
 },
 "nbformat": 4,
 "nbformat_minor": 4
}
