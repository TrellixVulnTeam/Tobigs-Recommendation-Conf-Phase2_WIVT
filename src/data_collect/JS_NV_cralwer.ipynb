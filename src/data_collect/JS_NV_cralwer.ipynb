{
 "cells": [
  {
   "cell_type": "code",
   "execution_count": 88,
   "metadata": {
    "Collapsed": "false"
   },
   "outputs": [],
   "source": [
    "import os\n",
    "import imp\n",
    "import json\n",
    "import joblib\n",
    "import pandas as pd\n",
    "import JS_crawler as JS\n",
    "from tqdm import tqdm"
   ]
  },
  {
   "cell_type": "code",
   "execution_count": 163,
   "metadata": {
    "Collapsed": "false"
   },
   "outputs": [
    {
     "data": {
      "text/plain": [
       "<module 'JS_crawler' from '/Users/jinseok/Jupyter/투빅스/conference/Tobigs-Recommendation-Conf-Phase2/src/data_collect/JS_crawler.py'>"
      ]
     },
     "execution_count": 163,
     "metadata": {},
     "output_type": "execute_result"
    }
   ],
   "source": [
    "# 모듈 reload\n",
    "imp.reload(JS)"
   ]
  },
  {
   "cell_type": "markdown",
   "metadata": {
    "Collapsed": "false"
   },
   "source": [
    "# 01-트리바고 서울 호텔 기준 인근 음식점(네이버 지도)"
   ]
  },
  {
   "cell_type": "code",
   "execution_count": 39,
   "metadata": {
    "Collapsed": "false"
   },
   "outputs": [],
   "source": [
    "hotel_seoul = pd.read_excel(os.path.join(\"..\",\"..\", \"data\",\"JS_01_Trivago_seoul_hotel.xlsx\"))"
   ]
  },
  {
   "cell_type": "code",
   "execution_count": 37,
   "metadata": {
    "Collapsed": "false"
   },
   "outputs": [
    {
     "name": "stderr",
     "output_type": "stream",
     "text": [
      "100%|██████████| 863/863 [04:48<00:00,  2.99it/s]\n"
     ]
    }
   ],
   "source": [
    "i = 0\n",
    "place_list = []\n",
    "\n",
    "for hotel, lat, lng in tqdm(hotel_seoul[['item_id', 'lat', 'lng']].values):\n",
    "    value = JS.getPlaces(hotel, lat, lng)\n",
    "    if value == 'end':\n",
    "        continue\n",
    "    \n",
    "    place_list.extend(value)\n",
    "    i += 1"
   ]
  },
  {
   "cell_type": "code",
   "execution_count": 40,
   "metadata": {
    "Collapsed": "false"
   },
   "outputs": [],
   "source": [
    "places = pd.json_normalize(place_list)"
   ]
  },
  {
   "cell_type": "code",
   "execution_count": 49,
   "metadata": {
    "Collapsed": "false"
   },
   "outputs": [],
   "source": [
    "places = places.drop_duplicates('id')"
   ]
  },
  {
   "cell_type": "markdown",
   "metadata": {
    "Collapsed": "false"
   },
   "source": [
    "# 02-places에 해당하는 영수증 리뷰"
   ]
  },
  {
   "cell_type": "code",
   "execution_count": null,
   "metadata": {
    "Collapsed": "false"
   },
   "outputs": [],
   "source": [
    "# 서울 호텔 인근 places는 총 4148개"
   ]
  },
  {
   "cell_type": "code",
   "execution_count": 54,
   "metadata": {
    "Collapsed": "false"
   },
   "outputs": [],
   "source": [
    "places = pd.read_excel(os.path.join(\"..\",\"..\", \"data\",\"JS_02_places_naverMaps.xlsx\"))"
   ]
  },
  {
   "cell_type": "code",
   "execution_count": 62,
   "metadata": {
    "Collapsed": "false"
   },
   "outputs": [
    {
     "name": "stderr",
     "output_type": "stream",
     "text": [
      "  0%|          | 1/4148 [00:03<3:42:57,  3.23s/it]\n"
     ]
    }
   ],
   "source": [
    "i = 0\n",
    "users = []\n",
    "for idx in tqdm(places['id']):\n",
    "    value = JS.getUsers(idx)\n",
    "    users.extend(value)\n",
    "    i += 1\n",
    "    \n",
    "    if i == 2:\n",
    "        break"
   ]
  },
  {
   "cell_type": "code",
   "execution_count": 98,
   "metadata": {
    "Collapsed": "false"
   },
   "outputs": [],
   "source": [
    "place_users = pd.DataFrame(users, columns = ['nick','review', 'star', 'href', 'place_id'])"
   ]
  },
  {
   "cell_type": "code",
   "execution_count": 100,
   "metadata": {
    "Collapsed": "false"
   },
   "outputs": [
    {
     "data": {
      "text/plain": [
       "['../../data/JS_03_place_users_list.pkl']"
      ]
     },
     "execution_count": 100,
     "metadata": {},
     "output_type": "execute_result"
    }
   ],
   "source": [
    "joblib.dump(place_users, os.path.join(\"..\",\"..\", \"data\",'JS_03_place_users_list.pkl'))"
   ]
  },
  {
   "cell_type": "markdown",
   "metadata": {
    "Collapsed": "false"
   },
   "source": [
    "# 03-각 users의 idno 가져오기"
   ]
  },
  {
   "cell_type": "code",
   "execution_count": 102,
   "metadata": {
    "Collapsed": "false"
   },
   "outputs": [],
   "source": [
    "user_list = joblib.load(os.path.join(\"..\",\"..\", \"data\",\"JS_03_place_users_list.pkl\"))"
   ]
  },
  {
   "cell_type": "code",
   "execution_count": 109,
   "metadata": {
    "Collapsed": "false"
   },
   "outputs": [
    {
     "data": {
      "text/plain": [
       "37038"
      ]
     },
     "execution_count": 109,
     "metadata": {},
     "output_type": "execute_result"
    }
   ],
   "source": [
    "# 각 유저가 남긴 다른 리뷰를 모두 가져오기 위해서 고유 유저가 몇명인지 확인해야함\n",
    "# 4148개의 places에 리뷰를 남긴 user는 총 37038명\n",
    "user_list['href'].nunique()"
   ]
  },
  {
   "cell_type": "code",
   "execution_count": 117,
   "metadata": {
    "Collapsed": "false"
   },
   "outputs": [],
   "source": [
    "unique_user = user_list[['nick', 'href']].drop_duplicates('href')"
   ]
  },
  {
   "cell_type": "code",
   "execution_count": 118,
   "metadata": {
    "Collapsed": "false"
   },
   "outputs": [
    {
     "data": {
      "text/html": [
       "<div>\n",
       "<style scoped>\n",
       "    .dataframe tbody tr th:only-of-type {\n",
       "        vertical-align: middle;\n",
       "    }\n",
       "\n",
       "    .dataframe tbody tr th {\n",
       "        vertical-align: top;\n",
       "    }\n",
       "\n",
       "    .dataframe thead th {\n",
       "        text-align: right;\n",
       "    }\n",
       "</style>\n",
       "<table border=\"1\" class=\"dataframe\">\n",
       "  <thead>\n",
       "    <tr style=\"text-align: right;\">\n",
       "      <th></th>\n",
       "      <th>nick</th>\n",
       "      <th>href</th>\n",
       "    </tr>\n",
       "  </thead>\n",
       "  <tbody>\n",
       "    <tr>\n",
       "      <th>0</th>\n",
       "      <td>DreamWalker</td>\n",
       "      <td>5e54ee7a8f87a842bc78e1e1</td>\n",
       "    </tr>\n",
       "    <tr>\n",
       "      <th>1</th>\n",
       "      <td>효지니</td>\n",
       "      <td>5c0803580cab5ff50aad602d</td>\n",
       "    </tr>\n",
       "    <tr>\n",
       "      <th>2</th>\n",
       "      <td>꾸미</td>\n",
       "      <td>5c15e7756f069e27d36b9aaa</td>\n",
       "    </tr>\n",
       "    <tr>\n",
       "      <th>3</th>\n",
       "      <td>ksb******</td>\n",
       "      <td>5b6fc61dedc436284b1a2d62</td>\n",
       "    </tr>\n",
       "    <tr>\n",
       "      <th>4</th>\n",
       "      <td>luv****</td>\n",
       "      <td>5dbd0bc18f87a842bc207c32</td>\n",
       "    </tr>\n",
       "    <tr>\n",
       "      <th>...</th>\n",
       "      <td>...</td>\n",
       "      <td>...</td>\n",
       "    </tr>\n",
       "    <tr>\n",
       "      <th>24301</th>\n",
       "      <td>럭키맘</td>\n",
       "      <td>5d6cd90e8f87a842bc5e2f04</td>\n",
       "    </tr>\n",
       "    <tr>\n",
       "      <th>24302</th>\n",
       "      <td>타워버거</td>\n",
       "      <td>5c0669f1021848e953d2ee08</td>\n",
       "    </tr>\n",
       "    <tr>\n",
       "      <th>24303</th>\n",
       "      <td>gks******</td>\n",
       "      <td>5de0e4439ec8258e4accb058</td>\n",
       "    </tr>\n",
       "    <tr>\n",
       "      <th>24304</th>\n",
       "      <td>고고고</td>\n",
       "      <td>5c0333f50a8688980bfe27c7</td>\n",
       "    </tr>\n",
       "    <tr>\n",
       "      <th>24308</th>\n",
       "      <td>미뇽의 먹부림</td>\n",
       "      <td>5df50c878f87a842bca1b175</td>\n",
       "    </tr>\n",
       "  </tbody>\n",
       "</table>\n",
       "<p>37038 rows × 2 columns</p>\n",
       "</div>"
      ],
      "text/plain": [
       "              nick                      href\n",
       "0      DreamWalker  5e54ee7a8f87a842bc78e1e1\n",
       "1              효지니  5c0803580cab5ff50aad602d\n",
       "2               꾸미  5c15e7756f069e27d36b9aaa\n",
       "3        ksb******  5b6fc61dedc436284b1a2d62\n",
       "4          luv****  5dbd0bc18f87a842bc207c32\n",
       "...            ...                       ...\n",
       "24301          럭키맘  5d6cd90e8f87a842bc5e2f04\n",
       "24302         타워버거  5c0669f1021848e953d2ee08\n",
       "24303    gks******  5de0e4439ec8258e4accb058\n",
       "24304          고고고  5c0333f50a8688980bfe27c7\n",
       "24308      미뇽의 먹부림  5df50c878f87a842bca1b175\n",
       "\n",
       "[37038 rows x 2 columns]"
      ]
     },
     "execution_count": 118,
     "metadata": {},
     "output_type": "execute_result"
    }
   ],
   "source": [
    "unique_user"
   ]
  },
  {
   "cell_type": "code",
   "execution_count": 130,
   "metadata": {
    "Collapsed": "false"
   },
   "outputs": [],
   "source": [
    "url = \"https://m.place.naver.com/my/graphql\"\n",
    "headers = {\n",
    "  'Content-Type': 'application/json'\n",
    "}"
   ]
  },
  {
   "cell_type": "code",
   "execution_count": 133,
   "metadata": {
    "Collapsed": "false"
   },
   "outputs": [
    {
     "name": "stderr",
     "output_type": "stream",
     "text": [
      "  0%|          | 0/37038 [00:00<?, ?it/s]\n"
     ]
    }
   ],
   "source": [
    "i = 0\n",
    "users_idno = []\n",
    "\n",
    "for href in tqdm(unique_user['href']):\n",
    "    value = JS.getIDno(href)\n",
    "    if value == 'end':\n",
    "        print(i)\n",
    "        break\n",
    "    \n",
    "    users_idno.append(value)\n",
    "    i += 1"
   ]
  },
  {
   "cell_type": "code",
   "execution_count": null,
   "metadata": {
    "Collapsed": "false"
   },
   "outputs": [],
   "source": [
    "users_info = pd.DataFrame(users_idno, columns = 'href', 'idno', 'nick', 'count')"
   ]
  },
  {
   "cell_type": "code",
   "execution_count": null,
   "metadata": {
    "Collapsed": "false"
   },
   "outputs": [],
   "source": [
    "joblib.dump(users_info, os.path.join(\"..\",\"..\", \"data\",'JS_04_users_info.pkl'))"
   ]
  },
  {
   "cell_type": "markdown",
   "metadata": {
    "Collapsed": "false"
   },
   "source": [
    "# 04-각 user의 모든 리뷰 가져오기"
   ]
  },
  {
   "cell_type": "code",
   "execution_count": 154,
   "metadata": {
    "Collapsed": "false"
   },
   "outputs": [],
   "source": [
    "users_info = joblib.load(os.path.join(\"..\",\"..\", \"data\",\"JS_04_users_info.pkl\"))"
   ]
  },
  {
   "cell_type": "code",
   "execution_count": 157,
   "metadata": {
    "Collapsed": "false"
   },
   "outputs": [
    {
     "data": {
      "text/html": [
       "<div>\n",
       "<style scoped>\n",
       "    .dataframe tbody tr th:only-of-type {\n",
       "        vertical-align: middle;\n",
       "    }\n",
       "\n",
       "    .dataframe tbody tr th {\n",
       "        vertical-align: top;\n",
       "    }\n",
       "\n",
       "    .dataframe thead th {\n",
       "        text-align: right;\n",
       "    }\n",
       "</style>\n",
       "<table border=\"1\" class=\"dataframe\">\n",
       "  <thead>\n",
       "    <tr style=\"text-align: right;\">\n",
       "      <th></th>\n",
       "      <th>nick_x</th>\n",
       "      <th>href</th>\n",
       "      <th>idno</th>\n",
       "      <th>nick_y</th>\n",
       "      <th>count</th>\n",
       "    </tr>\n",
       "  </thead>\n",
       "  <tbody>\n",
       "    <tr>\n",
       "      <th>7664</th>\n",
       "      <td>호호소녀</td>\n",
       "      <td>5c6fc8159b90dc048b43bfa4</td>\n",
       "      <td>6wKan</td>\n",
       "      <td>호호소녀</td>\n",
       "      <td>2796</td>\n",
       "    </tr>\n",
       "    <tr>\n",
       "      <th>3149</th>\n",
       "      <td>쪼콜렛</td>\n",
       "      <td>5ba0b88280c03107ddd9ea9c</td>\n",
       "      <td>1LMMA</td>\n",
       "      <td>쪼콜렛</td>\n",
       "      <td>2661</td>\n",
       "    </tr>\n",
       "    <tr>\n",
       "      <th>4388</th>\n",
       "      <td>랄라라</td>\n",
       "      <td>5c6e6ad54bb61f68d9a4d398</td>\n",
       "      <td>KALK</td>\n",
       "      <td>랄라라</td>\n",
       "      <td>2604</td>\n",
       "    </tr>\n",
       "    <tr>\n",
       "      <th>29089</th>\n",
       "      <td>12</td>\n",
       "      <td>5c4c1eb747bf2c73612d6986</td>\n",
       "      <td>2vzdR</td>\n",
       "      <td>12</td>\n",
       "      <td>2484</td>\n",
       "    </tr>\n",
       "    <tr>\n",
       "      <th>8957</th>\n",
       "      <td>마스터피스</td>\n",
       "      <td>5cd22aaf8f87a842bc2c6704</td>\n",
       "      <td>1MruI</td>\n",
       "      <td>마스터피스</td>\n",
       "      <td>2450</td>\n",
       "    </tr>\n",
       "    <tr>\n",
       "      <th>...</th>\n",
       "      <td>...</td>\n",
       "      <td>...</td>\n",
       "      <td>...</td>\n",
       "      <td>...</td>\n",
       "      <td>...</td>\n",
       "    </tr>\n",
       "    <tr>\n",
       "      <th>36909</th>\n",
       "      <td>꼬리카레</td>\n",
       "      <td>5ce8aaf61d5cf0631ce410cc</td>\n",
       "      <td>6VgCO</td>\n",
       "      <td>꼬리카레</td>\n",
       "      <td>1</td>\n",
       "    </tr>\n",
       "    <tr>\n",
       "      <th>7279</th>\n",
       "      <td>김수연</td>\n",
       "      <td>5dea73c39ec8258e4a2b8921</td>\n",
       "      <td>3EMAJ</td>\n",
       "      <td>김수연</td>\n",
       "      <td>1</td>\n",
       "    </tr>\n",
       "    <tr>\n",
       "      <th>713</th>\n",
       "      <td>파파야</td>\n",
       "      <td>5be54781d170ccf4e68a8c67</td>\n",
       "      <td>5oQGC</td>\n",
       "      <td>파파야</td>\n",
       "      <td>1</td>\n",
       "    </tr>\n",
       "    <tr>\n",
       "      <th>709</th>\n",
       "      <td>DD</td>\n",
       "      <td>5e59f2838f87a842bc3926b3</td>\n",
       "      <td>n0fW</td>\n",
       "      <td>DD</td>\n",
       "      <td>1</td>\n",
       "    </tr>\n",
       "    <tr>\n",
       "      <th>6204</th>\n",
       "      <td>ksiwha</td>\n",
       "      <td>5ea825368f87a842bc33e169</td>\n",
       "      <td>zDxj</td>\n",
       "      <td>ksiwha</td>\n",
       "      <td>1</td>\n",
       "    </tr>\n",
       "  </tbody>\n",
       "</table>\n",
       "<p>37038 rows × 5 columns</p>\n",
       "</div>"
      ],
      "text/plain": [
       "       nick_x                      href   idno  nick_y  count\n",
       "7664     호호소녀  5c6fc8159b90dc048b43bfa4  6wKan    호호소녀   2796\n",
       "3149      쪼콜렛  5ba0b88280c03107ddd9ea9c  1LMMA     쪼콜렛   2661\n",
       "4388      랄라라  5c6e6ad54bb61f68d9a4d398   KALK     랄라라   2604\n",
       "29089      12  5c4c1eb747bf2c73612d6986  2vzdR      12   2484\n",
       "8957    마스터피스  5cd22aaf8f87a842bc2c6704  1MruI   마스터피스   2450\n",
       "...       ...                       ...    ...     ...    ...\n",
       "36909    꼬리카레  5ce8aaf61d5cf0631ce410cc  6VgCO    꼬리카레      1\n",
       "7279      김수연  5dea73c39ec8258e4a2b8921  3EMAJ     김수연      1\n",
       "713       파파야  5be54781d170ccf4e68a8c67  5oQGC     파파야      1\n",
       "709        DD  5e59f2838f87a842bc3926b3   n0fW      DD      1\n",
       "6204   ksiwha  5ea825368f87a842bc33e169   zDxj  ksiwha      1\n",
       "\n",
       "[37038 rows x 5 columns]"
      ]
     },
     "execution_count": 157,
     "metadata": {},
     "output_type": "execute_result"
    }
   ],
   "source": [
    "users_info = users_info.sort_values('count', ascending = False)\n",
    "users_info"
   ]
  },
  {
   "cell_type": "code",
   "execution_count": 159,
   "metadata": {
    "Collapsed": "false"
   },
   "outputs": [
    {
     "data": {
      "text/plain": [
       "array([['6wKan', 2796],\n",
       "       ['1LMMA', 2661],\n",
       "       ['KALK', 2604],\n",
       "       ...,\n",
       "       ['5oQGC', 1],\n",
       "       ['n0fW', 1],\n",
       "       ['zDxj', 1]], dtype=object)"
      ]
     },
     "execution_count": 159,
     "metadata": {},
     "output_type": "execute_result"
    }
   ],
   "source": [
    "users_info[['idno', 'count']].values"
   ]
  },
  {
   "cell_type": "code",
   "execution_count": 165,
   "metadata": {
    "Collapsed": "false"
   },
   "outputs": [
    {
     "name": "stderr",
     "output_type": "stream",
     "text": [
      "  0%|          | 1/37038 [00:21<218:39:05, 21.25s/it]"
     ]
    }
   ],
   "source": [
    "i = 0\n",
    "reviews = []\n",
    "breaker = False\n",
    "\n",
    "for idno, count in tqdm(users_info[['idno', 'count']].values):\n",
    "    if breaker == True:\n",
    "        break\n",
    "    pages = (count // 100) + 1 # 총 리뷰가 100개 이상인 user\n",
    "#     pages = 1 # 총 리뷰가 100개 미만인 user\n",
    "    for page in range(1, pages+1):\n",
    "        value = JS.getRv(idno, str(page))\n",
    "        if value == 'end':\n",
    "            print(i)\n",
    "            breaker = True\n",
    "            break\n",
    "        value = list(map(lambda x : JS.addv(x, idno), value))\n",
    "        reviews.extend(value)\n",
    "    i += 1\n",
    "    if i == 2:\n",
    "        break"
   ]
  },
  {
   "cell_type": "code",
   "execution_count": 168,
   "metadata": {
    "Collapsed": "false"
   },
   "outputs": [
    {
     "data": {
      "text/plain": [
       "['../../data/JS_05_reviews.pkl']"
      ]
     },
     "execution_count": 168,
     "metadata": {},
     "output_type": "execute_result"
    }
   ],
   "source": [
    "joblib.dump(reviews, os.path.join(\"..\",\"..\", \"data\",'JS_05_reviews.pkl'))"
   ]
  },
  {
   "cell_type": "code",
   "execution_count": null,
   "metadata": {
    "Collapsed": "false"
   },
   "outputs": [],
   "source": []
  }
 ],
 "metadata": {
  "kernelspec": {
   "display_name": "Python 3",
   "language": "python",
   "name": "python3"
  },
  "language_info": {
   "codemirror_mode": {
    "name": "ipython",
    "version": 3
   },
   "file_extension": ".py",
   "mimetype": "text/x-python",
   "name": "python",
   "nbconvert_exporter": "python",
   "pygments_lexer": "ipython3",
   "version": "3.7.6"
  }
 },
 "nbformat": 4,
 "nbformat_minor": 4
}
