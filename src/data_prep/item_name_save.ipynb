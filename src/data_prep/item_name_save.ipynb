{
 "cells": [
  {
   "cell_type": "code",
   "execution_count": 1,
   "metadata": {},
   "outputs": [
    {
     "output_type": "execute_result",
     "data": {
      "text/plain": "  __typename createdDate  helpfulVotes         id language  \\\n0     Review  2020-03-06             0  749418557       ja   \n1     Review  2020-03-01             0  748454819       en   \n2     Review  2020-02-16             0  745371386       ja   \n3     Review  2020-02-11             0  744426202       ja   \n4     Review  2020-02-05             0  743141310       en   \n\n   location.__typename     location.additionalNames.long  \\\n0  LocationInformation  Hotel Gracery Seoul, South Korea   \n1  LocationInformation  Hotel Gracery Seoul, South Korea   \n2  LocationInformation  Hotel Gracery Seoul, South Korea   \n3  LocationInformation  Hotel Gracery Seoul, South Korea   \n4  LocationInformation  Hotel Gracery Seoul, South Korea   \n\n  location.additionalNames.longOnlyParent  location.locationId  \\\n0                             South Korea             14159911   \n1                             South Korea             14159911   \n2                             South Korea             14159911   \n3                             South Korea             14159911   \n4                             South Korea             14159911   \n\n         location.name location.parent.additionalNames.long  \\\n0  Hotel Gracery Seoul                   Seoul, South Korea   \n1  Hotel Gracery Seoul                   Seoul, South Korea   \n2  Hotel Gracery Seoul                   Seoul, South Korea   \n3  Hotel Gracery Seoul                   Seoul, South Korea   \n4  Hotel Gracery Seoul                   Seoul, South Korea   \n\n   location.parent.locationId  ...  socialStatistics.isReposted  \\\n0                      294197  ...                        False   \n1                      294197  ...                        False   \n2                      294197  ...                        False   \n3                      294197  ...                        False   \n4                      294197  ...                        False   \n\n  socialStatistics.isSaved socialStatistics.likeCount  \\\n0                    False                          0   \n1                    False                          0   \n2                    False                          0   \n3                    False                          0   \n4                    False                          0   \n\n  socialStatistics.repostCount  socialStatistics.tripCount  \\\n0                            0                           0   \n1                            0                           0   \n2                            0                           0   \n3                            0                           0   \n4                            0                           0   \n\n                                                text  \\\n0  日系のホテルなので日本語OK\\n南大門も明洞も歩いて行けます\\nトリプルルーム　お部屋は狭め...   \n1  I really enjoyed our stay here in Gracery Hote...   \n2  今回はagoda経由で予約しました。予約後に日系のホテルと知った次第です。\\nチェックイン後...   \n3  こちらのホテルは夫婦で何度か利用させていただいてます。立地もいいですが、お風呂とトイレが別な...   \n4  Its about 7 minutes walking distance to City H...   \n\n                                           title  \\\n0                                   グレイスリーホテルソウル   \n1                                   Great Hotel    \n2                                         安心出来ます   \n3                                        やはり落ち着く   \n4  Ask for higher floor, it has better city view   \n\n                             userId  userProfile.contributionCounts.sumAllUgc  \\\n0  E44FFBC7D1E0A97FECCCF7F8EB052E0C                                         8   \n1  F9AD0C1F6409A1574AD0AFC237D2A4CE                                         7   \n2  770775D59B126E71D38D56FAB9B95F93                                        57   \n3  4F1BF9403CA4EB27756E0C824A088553                                        43   \n4  23EF5413495FF530151DB7E5C0FEF38D                                       225   \n\n   userProfile.isMe  userProfile.isVerified                userProfile.userId  \n0                 0                       0  E44FFBC7D1E0A97FECCCF7F8EB052E0C  \n1                 0                       0  F9AD0C1F6409A1574AD0AFC237D2A4CE  \n2                 0                       0  770775D59B126E71D38D56FAB9B95F93  \n3                 0                       0  4F1BF9403CA4EB27756E0C824A088553  \n4                 0                       0  23EF5413495FF530151DB7E5C0FEF38D  \n\n[5 rows x 32 columns]",
      "text/html": "<div>\n<style scoped>\n    .dataframe tbody tr th:only-of-type {\n        vertical-align: middle;\n    }\n\n    .dataframe tbody tr th {\n        vertical-align: top;\n    }\n\n    .dataframe thead th {\n        text-align: right;\n    }\n</style>\n<table border=\"1\" class=\"dataframe\">\n  <thead>\n    <tr style=\"text-align: right;\">\n      <th></th>\n      <th>__typename</th>\n      <th>createdDate</th>\n      <th>helpfulVotes</th>\n      <th>id</th>\n      <th>language</th>\n      <th>location.__typename</th>\n      <th>location.additionalNames.long</th>\n      <th>location.additionalNames.longOnlyParent</th>\n      <th>location.locationId</th>\n      <th>location.name</th>\n      <th>location.parent.additionalNames.long</th>\n      <th>location.parent.locationId</th>\n      <th>...</th>\n      <th>socialStatistics.isReposted</th>\n      <th>socialStatistics.isSaved</th>\n      <th>socialStatistics.likeCount</th>\n      <th>socialStatistics.repostCount</th>\n      <th>socialStatistics.tripCount</th>\n      <th>text</th>\n      <th>title</th>\n      <th>userId</th>\n      <th>userProfile.contributionCounts.sumAllUgc</th>\n      <th>userProfile.isMe</th>\n      <th>userProfile.isVerified</th>\n      <th>userProfile.userId</th>\n    </tr>\n  </thead>\n  <tbody>\n    <tr>\n      <th>0</th>\n      <td>Review</td>\n      <td>2020-03-06</td>\n      <td>0</td>\n      <td>749418557</td>\n      <td>ja</td>\n      <td>LocationInformation</td>\n      <td>Hotel Gracery Seoul, South Korea</td>\n      <td>South Korea</td>\n      <td>14159911</td>\n      <td>Hotel Gracery Seoul</td>\n      <td>Seoul, South Korea</td>\n      <td>294197</td>\n      <td>...</td>\n      <td>False</td>\n      <td>False</td>\n      <td>0</td>\n      <td>0</td>\n      <td>0</td>\n      <td>日系のホテルなので日本語OK\\n南大門も明洞も歩いて行けます\\nトリプルルーム　お部屋は狭め...</td>\n      <td>グレイスリーホテルソウル</td>\n      <td>E44FFBC7D1E0A97FECCCF7F8EB052E0C</td>\n      <td>8</td>\n      <td>0</td>\n      <td>0</td>\n      <td>E44FFBC7D1E0A97FECCCF7F8EB052E0C</td>\n    </tr>\n    <tr>\n      <th>1</th>\n      <td>Review</td>\n      <td>2020-03-01</td>\n      <td>0</td>\n      <td>748454819</td>\n      <td>en</td>\n      <td>LocationInformation</td>\n      <td>Hotel Gracery Seoul, South Korea</td>\n      <td>South Korea</td>\n      <td>14159911</td>\n      <td>Hotel Gracery Seoul</td>\n      <td>Seoul, South Korea</td>\n      <td>294197</td>\n      <td>...</td>\n      <td>False</td>\n      <td>False</td>\n      <td>0</td>\n      <td>0</td>\n      <td>0</td>\n      <td>I really enjoyed our stay here in Gracery Hote...</td>\n      <td>Great Hotel</td>\n      <td>F9AD0C1F6409A1574AD0AFC237D2A4CE</td>\n      <td>7</td>\n      <td>0</td>\n      <td>0</td>\n      <td>F9AD0C1F6409A1574AD0AFC237D2A4CE</td>\n    </tr>\n    <tr>\n      <th>2</th>\n      <td>Review</td>\n      <td>2020-02-16</td>\n      <td>0</td>\n      <td>745371386</td>\n      <td>ja</td>\n      <td>LocationInformation</td>\n      <td>Hotel Gracery Seoul, South Korea</td>\n      <td>South Korea</td>\n      <td>14159911</td>\n      <td>Hotel Gracery Seoul</td>\n      <td>Seoul, South Korea</td>\n      <td>294197</td>\n      <td>...</td>\n      <td>False</td>\n      <td>False</td>\n      <td>0</td>\n      <td>0</td>\n      <td>0</td>\n      <td>今回はagoda経由で予約しました。予約後に日系のホテルと知った次第です。\\nチェックイン後...</td>\n      <td>安心出来ます</td>\n      <td>770775D59B126E71D38D56FAB9B95F93</td>\n      <td>57</td>\n      <td>0</td>\n      <td>0</td>\n      <td>770775D59B126E71D38D56FAB9B95F93</td>\n    </tr>\n    <tr>\n      <th>3</th>\n      <td>Review</td>\n      <td>2020-02-11</td>\n      <td>0</td>\n      <td>744426202</td>\n      <td>ja</td>\n      <td>LocationInformation</td>\n      <td>Hotel Gracery Seoul, South Korea</td>\n      <td>South Korea</td>\n      <td>14159911</td>\n      <td>Hotel Gracery Seoul</td>\n      <td>Seoul, South Korea</td>\n      <td>294197</td>\n      <td>...</td>\n      <td>False</td>\n      <td>False</td>\n      <td>0</td>\n      <td>0</td>\n      <td>0</td>\n      <td>こちらのホテルは夫婦で何度か利用させていただいてます。立地もいいですが、お風呂とトイレが別な...</td>\n      <td>やはり落ち着く</td>\n      <td>4F1BF9403CA4EB27756E0C824A088553</td>\n      <td>43</td>\n      <td>0</td>\n      <td>0</td>\n      <td>4F1BF9403CA4EB27756E0C824A088553</td>\n    </tr>\n    <tr>\n      <th>4</th>\n      <td>Review</td>\n      <td>2020-02-05</td>\n      <td>0</td>\n      <td>743141310</td>\n      <td>en</td>\n      <td>LocationInformation</td>\n      <td>Hotel Gracery Seoul, South Korea</td>\n      <td>South Korea</td>\n      <td>14159911</td>\n      <td>Hotel Gracery Seoul</td>\n      <td>Seoul, South Korea</td>\n      <td>294197</td>\n      <td>...</td>\n      <td>False</td>\n      <td>False</td>\n      <td>0</td>\n      <td>0</td>\n      <td>0</td>\n      <td>Its about 7 minutes walking distance to City H...</td>\n      <td>Ask for higher floor, it has better city view</td>\n      <td>23EF5413495FF530151DB7E5C0FEF38D</td>\n      <td>225</td>\n      <td>0</td>\n      <td>0</td>\n      <td>23EF5413495FF530151DB7E5C0FEF38D</td>\n    </tr>\n  </tbody>\n</table>\n<p>5 rows × 32 columns</p>\n</div>"
     },
     "metadata": {},
     "execution_count": 1
    }
   ],
   "source": [
    "import pandas as pd\n",
    "import numpy as np\n",
    "import re\n",
    "pd.set_option('display.max_columns', 25)\n",
    "\n",
    "df = pd.read_json(os.path.join(\"..\",\"..\",\"data\",\"TA_User_Review_Seoul_all_v2.json\"))\n",
    "df.head()"
   ]
  },
  {
   "cell_type": "code",
   "execution_count": 6,
   "metadata": {},
   "outputs": [
    {
     "output_type": "execute_result",
     "data": {
      "text/plain": "        location.locationId                 location.name\n0                  14159911           Hotel Gracery Seoul\n80                  8587847      Four Seasons Hotel Seoul\n1809               10205834  Tmark Grand Hotel Myeongdong\n3186               10692374            Hotel28 Myeongdong\n4278                4071465    The Grand Hotel Myeongdong\n...                     ...                           ...\n144376              1625995                    Bong House\n144398              4095486     Ahmsadong Seonsa Joogeoji\n144402              6892917         24 Guesthouse Sinchon\n144405              3568978         Hyosundang Guesthouse\n144406              6622691                  Itaewon Land\n\n[6712 rows x 2 columns]",
      "text/html": "<div>\n<style scoped>\n    .dataframe tbody tr th:only-of-type {\n        vertical-align: middle;\n    }\n\n    .dataframe tbody tr th {\n        vertical-align: top;\n    }\n\n    .dataframe thead th {\n        text-align: right;\n    }\n</style>\n<table border=\"1\" class=\"dataframe\">\n  <thead>\n    <tr style=\"text-align: right;\">\n      <th></th>\n      <th>location.locationId</th>\n      <th>location.name</th>\n    </tr>\n  </thead>\n  <tbody>\n    <tr>\n      <th>0</th>\n      <td>14159911</td>\n      <td>Hotel Gracery Seoul</td>\n    </tr>\n    <tr>\n      <th>80</th>\n      <td>8587847</td>\n      <td>Four Seasons Hotel Seoul</td>\n    </tr>\n    <tr>\n      <th>1809</th>\n      <td>10205834</td>\n      <td>Tmark Grand Hotel Myeongdong</td>\n    </tr>\n    <tr>\n      <th>3186</th>\n      <td>10692374</td>\n      <td>Hotel28 Myeongdong</td>\n    </tr>\n    <tr>\n      <th>4278</th>\n      <td>4071465</td>\n      <td>The Grand Hotel Myeongdong</td>\n    </tr>\n    <tr>\n      <th>...</th>\n      <td>...</td>\n      <td>...</td>\n    </tr>\n    <tr>\n      <th>144376</th>\n      <td>1625995</td>\n      <td>Bong House</td>\n    </tr>\n    <tr>\n      <th>144398</th>\n      <td>4095486</td>\n      <td>Ahmsadong Seonsa Joogeoji</td>\n    </tr>\n    <tr>\n      <th>144402</th>\n      <td>6892917</td>\n      <td>24 Guesthouse Sinchon</td>\n    </tr>\n    <tr>\n      <th>144405</th>\n      <td>3568978</td>\n      <td>Hyosundang Guesthouse</td>\n    </tr>\n    <tr>\n      <th>144406</th>\n      <td>6622691</td>\n      <td>Itaewon Land</td>\n    </tr>\n  </tbody>\n</table>\n<p>6712 rows × 2 columns</p>\n</div>"
     },
     "metadata": {},
     "execution_count": 6
    }
   ],
   "source": [
    "locations = df.loc[:,['location.locationId','location.name']].drop_duplicates(['location.locationId'], keep='first')\n",
    "locations"
   ]
  },
  {
   "cell_type": "code",
   "execution_count": 34,
   "metadata": {},
   "outputs": [],
   "source": [
    "location_dict = locations.set_index('location.locationId').T.to_dict()\n",
    "# location_dict"
   ]
  },
  {
   "cell_type": "code",
   "execution_count": 33,
   "metadata": {},
   "outputs": [
    {
     "output_type": "execute_result",
     "data": {
      "text/plain": "'Mountain Village'"
     },
     "metadata": {},
     "execution_count": 33
    }
   ],
   "source": [
    "location_dict[9421565]['location.name']"
   ]
  },
  {
   "cell_type": "code",
   "execution_count": null,
   "metadata": {},
   "outputs": [],
   "source": [
    "location_dict"
   ]
  },
  {
   "cell_type": "code",
   "execution_count": 35,
   "metadata": {},
   "outputs": [],
   "source": [
    "import pickle\n",
    "\n",
    "# save\n",
    "with open(os.path.join(\"..\",\"..\",\"data\",'item_name.pickle'), 'wb') as f:\n",
    "    pickle.dump(location_dict, f, pickle.HIGHEST_PROTOCOL)"
   ]
  },
  {
   "cell_type": "markdown",
   "metadata": {},
   "source": [
    "# 식당 만 뽑기"
   ]
  },
  {
   "cell_type": "code",
   "execution_count": 5,
   "metadata": {},
   "outputs": [
    {
     "output_type": "execute_result",
     "data": {
      "text/plain": "Index(['__typename', 'createdDate', 'helpfulVotes', 'id', 'language',\n       'location.__typename', 'location.additionalNames.long',\n       'location.additionalNames.longOnlyParent', 'location.locationId',\n       'location.name', 'location.parent.additionalNames.long',\n       'location.parent.locationId', 'location.parentGeoId',\n       'location.placeType', 'photoIds', 'photos', 'rating',\n       'socialStatistics.followCount', 'socialStatistics.isFollowing',\n       'socialStatistics.isLiked', 'socialStatistics.isReposted',\n       'socialStatistics.isSaved', 'socialStatistics.likeCount',\n       'socialStatistics.repostCount', 'socialStatistics.tripCount', 'text',\n       'title', 'userId', 'userProfile.contributionCounts.sumAllUgc',\n       'userProfile.isMe', 'userProfile.isVerified', 'userProfile.userId'],\n      dtype='object')"
     },
     "metadata": {},
     "execution_count": 5
    }
   ],
   "source": [
    "df.columns"
   ]
  },
  {
   "cell_type": "code",
   "execution_count": 11,
   "metadata": {},
   "outputs": [
    {
     "output_type": "execute_result",
     "data": {
      "text/plain": "        location.locationId                              location.name\n53208                788542                                 Marco Polo\n53228               4077917              Butter Finger Pancake Gangnam\n53308               9732387                                Bread Comma\n53316               9379120               Myeongdong Korean Restaurant\n53317              13833720  Starbucks Reserve - Yongsan Pruzio Summit\n...                     ...                                        ...\n134527              3894901     Starbucks Gyeongbokgung Station 3 Line\n134539               948337                                Coffee Love\n134587              9035619                 Haejeokseon Seafood Buffet\n134588             14969071         Wolhwa Gogi - Bolamae Jikyeongjeom\n134777              6771075                  Sanaeum Seoul Arts Center\n\n[5578 rows x 2 columns]",
      "text/html": "<div>\n<style scoped>\n    .dataframe tbody tr th:only-of-type {\n        vertical-align: middle;\n    }\n\n    .dataframe tbody tr th {\n        vertical-align: top;\n    }\n\n    .dataframe thead th {\n        text-align: right;\n    }\n</style>\n<table border=\"1\" class=\"dataframe\">\n  <thead>\n    <tr style=\"text-align: right;\">\n      <th></th>\n      <th>location.locationId</th>\n      <th>location.name</th>\n    </tr>\n  </thead>\n  <tbody>\n    <tr>\n      <th>53208</th>\n      <td>788542</td>\n      <td>Marco Polo</td>\n    </tr>\n    <tr>\n      <th>53228</th>\n      <td>4077917</td>\n      <td>Butter Finger Pancake Gangnam</td>\n    </tr>\n    <tr>\n      <th>53308</th>\n      <td>9732387</td>\n      <td>Bread Comma</td>\n    </tr>\n    <tr>\n      <th>53316</th>\n      <td>9379120</td>\n      <td>Myeongdong Korean Restaurant</td>\n    </tr>\n    <tr>\n      <th>53317</th>\n      <td>13833720</td>\n      <td>Starbucks Reserve - Yongsan Pruzio Summit</td>\n    </tr>\n    <tr>\n      <th>...</th>\n      <td>...</td>\n      <td>...</td>\n    </tr>\n    <tr>\n      <th>134527</th>\n      <td>3894901</td>\n      <td>Starbucks Gyeongbokgung Station 3 Line</td>\n    </tr>\n    <tr>\n      <th>134539</th>\n      <td>948337</td>\n      <td>Coffee Love</td>\n    </tr>\n    <tr>\n      <th>134587</th>\n      <td>9035619</td>\n      <td>Haejeokseon Seafood Buffet</td>\n    </tr>\n    <tr>\n      <th>134588</th>\n      <td>14969071</td>\n      <td>Wolhwa Gogi - Bolamae Jikyeongjeom</td>\n    </tr>\n    <tr>\n      <th>134777</th>\n      <td>6771075</td>\n      <td>Sanaeum Seoul Arts Center</td>\n    </tr>\n  </tbody>\n</table>\n<p>5578 rows × 2 columns</p>\n</div>"
     },
     "metadata": {},
     "execution_count": 11
    }
   ],
   "source": [
    "eatery = df.loc[df['location.placeType'] == 'EATERY'].loc[:,['location.locationId','location.name']].drop_duplicates(['location.locationId'], keep='first')\n",
    "eatery"
   ]
  },
  {
   "cell_type": "code",
   "execution_count": 14,
   "metadata": {},
   "outputs": [],
   "source": [
    "eatery_dict = eatery.set_index('location.locationId').T.to_dict()\n",
    "# eatery_dict"
   ]
  },
  {
   "cell_type": "code",
   "execution_count": 13,
   "metadata": {},
   "outputs": [
    {
     "output_type": "execute_result",
     "data": {
      "text/plain": "{'location.name': 'Pork Ji Ga'}"
     },
     "metadata": {},
     "execution_count": 13
    }
   ],
   "source": [
    "eatery_dict[9333997]"
   ]
  },
  {
   "cell_type": "code",
   "execution_count": 15,
   "metadata": {},
   "outputs": [],
   "source": [
    "import pickle\n",
    "\n",
    "# save\n",
    "with open(os.path.join(\"..\",\"..\",\"data\",'item_name_eatery.pickle'), 'wb') as f:\n",
    "    pickle.dump(eatery_dict, f, pickle.HIGHEST_PROTOCOL)"
   ]
  },
  {
   "cell_type": "code",
   "execution_count": null,
   "metadata": {},
   "outputs": [],
   "source": []
  }
 ],
 "metadata": {
  "language_info": {
   "codemirror_mode": {
    "name": "ipython",
    "version": 3
   },
   "file_extension": ".py",
   "mimetype": "text/x-python",
   "name": "python",
   "nbconvert_exporter": "python",
   "pygments_lexer": "ipython3",
   "version": "3.7.6-final"
  },
  "orig_nbformat": 2,
  "kernelspec": {
   "name": "python3",
   "display_name": "Python 3"
  }
 },
 "nbformat": 4,
 "nbformat_minor": 2
}