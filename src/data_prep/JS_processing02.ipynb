{
 "cells": [
  {
   "cell_type": "code",
   "execution_count": 275,
   "metadata": {
    "Collapsed": "false"
   },
   "outputs": [],
   "source": [
    "import os\n",
    "import joblib\n",
    "import numpy as np\n",
    "import pandas as pd\n",
    "from tqdm import tqdm"
   ]
  },
  {
   "cell_type": "markdown",
   "metadata": {
    "Collapsed": "false"
   },
   "source": [
    "# NV + TA place"
   ]
  },
  {
   "cell_type": "code",
   "execution_count": 3,
   "metadata": {
    "Collapsed": "false"
   },
   "outputs": [],
   "source": [
    "nv_place = pd.read_excel(os.path.join(\"..\",\"..\", \"data\",\"JS_0601_select_place.xlsx\"))"
   ]
  },
  {
   "cell_type": "code",
   "execution_count": 4,
   "metadata": {
    "Collapsed": "false"
   },
   "outputs": [],
   "source": [
    "nv_review = pd.read_excel(os.path.join(\"..\",\"..\", \"data\",\"JS_0502_reviews_seoul_select.xlsx\"))"
   ]
  },
  {
   "cell_type": "code",
   "execution_count": 142,
   "metadata": {
    "Collapsed": "false"
   },
   "outputs": [],
   "source": [
    "ta_place = pd.read_excel(os.path.join(\"..\",\"..\", \"data\",\"TA_음식점_한글이름_주소_정보.xlsx\"), index_col = 0)"
   ]
  },
  {
   "cell_type": "code",
   "execution_count": 8,
   "metadata": {
    "Collapsed": "false"
   },
   "outputs": [],
   "source": [
    "ta_review = pd.read_json(os.path.join(\"..\",\"..\", \"data\",\"TA_User_Review_Seoul_all_v2.json\"))"
   ]
  },
  {
   "cell_type": "code",
   "execution_count": 38,
   "metadata": {
    "Collapsed": "false"
   },
   "outputs": [],
   "source": [
    "same_place = pd.read_excel(os.path.join(\"..\",\"..\", \"data\",\"JS_0602_same_place_index.xlsx\"), index_col = 0)"
   ]
  },
  {
   "cell_type": "code",
   "execution_count": 39,
   "metadata": {
    "Collapsed": "false"
   },
   "outputs": [
    {
     "data": {
      "text/html": [
       "<div>\n",
       "<style scoped>\n",
       "    .dataframe tbody tr th:only-of-type {\n",
       "        vertical-align: middle;\n",
       "    }\n",
       "\n",
       "    .dataframe tbody tr th {\n",
       "        vertical-align: top;\n",
       "    }\n",
       "\n",
       "    .dataframe thead th {\n",
       "        text-align: right;\n",
       "    }\n",
       "</style>\n",
       "<table border=\"1\" class=\"dataframe\">\n",
       "  <thead>\n",
       "    <tr style=\"text-align: right;\">\n",
       "      <th></th>\n",
       "      <th>place.id</th>\n",
       "      <th>location_id</th>\n",
       "    </tr>\n",
       "  </thead>\n",
       "  <tbody>\n",
       "    <tr>\n",
       "      <th>2</th>\n",
       "      <td>11605455</td>\n",
       "      <td>2241571</td>\n",
       "    </tr>\n",
       "    <tr>\n",
       "      <th>22</th>\n",
       "      <td>10976694</td>\n",
       "      <td>5926853</td>\n",
       "    </tr>\n",
       "    <tr>\n",
       "      <th>24</th>\n",
       "      <td>11398664</td>\n",
       "      <td>4032150</td>\n",
       "    </tr>\n",
       "    <tr>\n",
       "      <th>25</th>\n",
       "      <td>11663081</td>\n",
       "      <td>3922609</td>\n",
       "    </tr>\n",
       "    <tr>\n",
       "      <th>26</th>\n",
       "      <td>11677544</td>\n",
       "      <td>4033804</td>\n",
       "    </tr>\n",
       "    <tr>\n",
       "      <th>...</th>\n",
       "      <td>...</td>\n",
       "      <td>...</td>\n",
       "    </tr>\n",
       "    <tr>\n",
       "      <th>1032</th>\n",
       "      <td>32817375</td>\n",
       "      <td>4784018</td>\n",
       "    </tr>\n",
       "    <tr>\n",
       "      <th>1035</th>\n",
       "      <td>19723511</td>\n",
       "      <td>9209252</td>\n",
       "    </tr>\n",
       "    <tr>\n",
       "      <th>1039</th>\n",
       "      <td>33758018</td>\n",
       "      <td>8948116</td>\n",
       "    </tr>\n",
       "    <tr>\n",
       "      <th>1063</th>\n",
       "      <td>35162551</td>\n",
       "      <td>9029313</td>\n",
       "    </tr>\n",
       "    <tr>\n",
       "      <th>1067</th>\n",
       "      <td>37663862</td>\n",
       "      <td>13964808</td>\n",
       "    </tr>\n",
       "  </tbody>\n",
       "</table>\n",
       "<p>266 rows × 2 columns</p>\n",
       "</div>"
      ],
      "text/plain": [
       "      place.id  location_id\n",
       "2     11605455      2241571\n",
       "22    10976694      5926853\n",
       "24    11398664      4032150\n",
       "25    11663081      3922609\n",
       "26    11677544      4033804\n",
       "...        ...          ...\n",
       "1032  32817375      4784018\n",
       "1035  19723511      9209252\n",
       "1039  33758018      8948116\n",
       "1063  35162551      9029313\n",
       "1067  37663862     13964808\n",
       "\n",
       "[266 rows x 2 columns]"
      ]
     },
     "execution_count": 39,
     "metadata": {},
     "output_type": "execute_result"
    }
   ],
   "source": [
    "# 네이버와 트립어드바이저의 같은 place\n",
    "same_place"
   ]
  },
  {
   "cell_type": "code",
   "execution_count": 37,
   "metadata": {
    "Collapsed": "false"
   },
   "outputs": [],
   "source": [
    "# 트립어드바이저의 location_id를 네이버의 place.id로 대체"
   ]
  },
  {
   "cell_type": "code",
   "execution_count": 40,
   "metadata": {
    "Collapsed": "false"
   },
   "outputs": [],
   "source": [
    "same_place.reset_index(inplace = True)"
   ]
  },
  {
   "cell_type": "code",
   "execution_count": 45,
   "metadata": {
    "Collapsed": "false"
   },
   "outputs": [],
   "source": [
    "nv_place['place.id'] = nv_place['place.id'].astype(str)\n",
    "ta_place['location_id'] = ta_place['location_id'].astype(str)\n",
    "same_place['place.id'] = same_place['place.id'].astype(str)\n",
    "same_place['location_id'] = same_place['location_id'].astype(str)"
   ]
  },
  {
   "cell_type": "code",
   "execution_count": null,
   "metadata": {
    "Collapsed": "false"
   },
   "outputs": [],
   "source": [
    "# merge 전 feature 정리"
   ]
  },
  {
   "cell_type": "code",
   "execution_count": 49,
   "metadata": {
    "Collapsed": "false"
   },
   "outputs": [],
   "source": [
    "nv_place = nv_place[['place.id', 'place.name','place.category', 'review.count.again', 'review.allcount', 'place.count', 'review.avgcount', 'is_fch', 'rating', 'land.addr', 'lat', 'lng']]"
   ]
  },
  {
   "cell_type": "code",
   "execution_count": 52,
   "metadata": {
    "Collapsed": "false"
   },
   "outputs": [
    {
     "data": {
      "text/html": [
       "<div>\n",
       "<style scoped>\n",
       "    .dataframe tbody tr th:only-of-type {\n",
       "        vertical-align: middle;\n",
       "    }\n",
       "\n",
       "    .dataframe tbody tr th {\n",
       "        vertical-align: top;\n",
       "    }\n",
       "\n",
       "    .dataframe thead th {\n",
       "        text-align: right;\n",
       "    }\n",
       "</style>\n",
       "<table border=\"1\" class=\"dataframe\">\n",
       "  <thead>\n",
       "    <tr style=\"text-align: right;\">\n",
       "      <th></th>\n",
       "      <th>place.id</th>\n",
       "      <th>place.name</th>\n",
       "      <th>place.category</th>\n",
       "      <th>review.count.again</th>\n",
       "      <th>review.allcount</th>\n",
       "      <th>place.count</th>\n",
       "      <th>review.avgcount</th>\n",
       "      <th>is_fch</th>\n",
       "      <th>rating</th>\n",
       "      <th>land.addr</th>\n",
       "      <th>lat</th>\n",
       "      <th>lng</th>\n",
       "    </tr>\n",
       "  </thead>\n",
       "  <tbody>\n",
       "    <tr>\n",
       "      <th>0</th>\n",
       "      <td>11678788</td>\n",
       "      <td>부산아구</td>\n",
       "      <td>아귀찜,해물찜-일반</td>\n",
       "      <td>20.0</td>\n",
       "      <td>2443</td>\n",
       "      <td>333</td>\n",
       "      <td>7.336336</td>\n",
       "      <td>0</td>\n",
       "      <td>4.150000</td>\n",
       "      <td>서울특별시 강남구 논현동 16-1</td>\n",
       "      <td>37.515770</td>\n",
       "      <td>127.020739</td>\n",
       "    </tr>\n",
       "    <tr>\n",
       "      <th>1</th>\n",
       "      <td>11679292</td>\n",
       "      <td>옛날집낙원아구찜</td>\n",
       "      <td>아귀찜,해물찜-일반</td>\n",
       "      <td>22.0</td>\n",
       "      <td>2443</td>\n",
       "      <td>333</td>\n",
       "      <td>7.336336</td>\n",
       "      <td>0</td>\n",
       "      <td>4.681818</td>\n",
       "      <td>서울특별시 종로구 낙원동 48</td>\n",
       "      <td>37.573505</td>\n",
       "      <td>126.988013</td>\n",
       "    </tr>\n",
       "    <tr>\n",
       "      <th>2</th>\n",
       "      <td>11679479</td>\n",
       "      <td>통나무식당 낙원본점</td>\n",
       "      <td>아귀찜,해물찜-일반</td>\n",
       "      <td>24.0</td>\n",
       "      <td>2443</td>\n",
       "      <td>333</td>\n",
       "      <td>7.336336</td>\n",
       "      <td>0</td>\n",
       "      <td>4.229167</td>\n",
       "      <td>서울특별시 종로구 낙원동 45-3</td>\n",
       "      <td>37.573604</td>\n",
       "      <td>126.988038</td>\n",
       "    </tr>\n",
       "    <tr>\n",
       "      <th>3</th>\n",
       "      <td>1188261307</td>\n",
       "      <td>진아구</td>\n",
       "      <td>아귀찜,해물찜-일반</td>\n",
       "      <td>20.0</td>\n",
       "      <td>2443</td>\n",
       "      <td>333</td>\n",
       "      <td>7.336336</td>\n",
       "      <td>0</td>\n",
       "      <td>4.225000</td>\n",
       "      <td>서울특별시 양천구 신정동 886-6 로데오프라자</td>\n",
       "      <td>37.526858</td>\n",
       "      <td>126.861398</td>\n",
       "    </tr>\n",
       "    <tr>\n",
       "      <th>4</th>\n",
       "      <td>12018058</td>\n",
       "      <td>알부자알요리</td>\n",
       "      <td>아귀찜,해물찜-일반</td>\n",
       "      <td>65.0</td>\n",
       "      <td>2443</td>\n",
       "      <td>333</td>\n",
       "      <td>7.336336</td>\n",
       "      <td>0</td>\n",
       "      <td>4.335821</td>\n",
       "      <td>서울특별시 강남구 역삼동 817-34 재상빌딩</td>\n",
       "      <td>37.500701</td>\n",
       "      <td>127.027850</td>\n",
       "    </tr>\n",
       "  </tbody>\n",
       "</table>\n",
       "</div>"
      ],
      "text/plain": [
       "     place.id  place.name place.category  review.count.again  review.allcount  \\\n",
       "0    11678788        부산아구     아귀찜,해물찜-일반                20.0             2443   \n",
       "1    11679292    옛날집낙원아구찜     아귀찜,해물찜-일반                22.0             2443   \n",
       "2    11679479  통나무식당 낙원본점     아귀찜,해물찜-일반                24.0             2443   \n",
       "3  1188261307         진아구     아귀찜,해물찜-일반                20.0             2443   \n",
       "4    12018058      알부자알요리     아귀찜,해물찜-일반                65.0             2443   \n",
       "\n",
       "   place.count  review.avgcount is_fch    rating                   land.addr  \\\n",
       "0          333         7.336336      0  4.150000          서울특별시 강남구 논현동 16-1   \n",
       "1          333         7.336336      0  4.681818            서울특별시 종로구 낙원동 48   \n",
       "2          333         7.336336      0  4.229167          서울특별시 종로구 낙원동 45-3   \n",
       "3          333         7.336336      0  4.225000  서울특별시 양천구 신정동 886-6 로데오프라자   \n",
       "4          333         7.336336      0  4.335821   서울특별시 강남구 역삼동 817-34 재상빌딩   \n",
       "\n",
       "         lat         lng  \n",
       "0  37.515770  127.020739  \n",
       "1  37.573505  126.988013  \n",
       "2  37.573604  126.988038  \n",
       "3  37.526858  126.861398  \n",
       "4  37.500701  127.027850  "
      ]
     },
     "execution_count": 52,
     "metadata": {},
     "output_type": "execute_result"
    }
   ],
   "source": [
    "nv_place.head()"
   ]
  },
  {
   "cell_type": "code",
   "execution_count": 57,
   "metadata": {
    "Collapsed": "false"
   },
   "outputs": [],
   "source": [
    "ta_place = ta_place[['location_id', 'name', 'rating', 'land.addr', 'lat', 'lng']]"
   ]
  },
  {
   "cell_type": "code",
   "execution_count": 59,
   "metadata": {
    "Collapsed": "false"
   },
   "outputs": [
    {
     "data": {
      "text/html": [
       "<div>\n",
       "<style scoped>\n",
       "    .dataframe tbody tr th:only-of-type {\n",
       "        vertical-align: middle;\n",
       "    }\n",
       "\n",
       "    .dataframe tbody tr th {\n",
       "        vertical-align: top;\n",
       "    }\n",
       "\n",
       "    .dataframe thead th {\n",
       "        text-align: right;\n",
       "    }\n",
       "</style>\n",
       "<table border=\"1\" class=\"dataframe\">\n",
       "  <thead>\n",
       "    <tr style=\"text-align: right;\">\n",
       "      <th></th>\n",
       "      <th>location_id</th>\n",
       "      <th>name</th>\n",
       "      <th>rating</th>\n",
       "      <th>land.addr</th>\n",
       "      <th>lat</th>\n",
       "      <th>lng</th>\n",
       "    </tr>\n",
       "  </thead>\n",
       "  <tbody>\n",
       "    <tr>\n",
       "      <th>0</th>\n",
       "      <td>788542</td>\n",
       "      <td>마르코 폴로</td>\n",
       "      <td>4.0</td>\n",
       "      <td>서울특별시 강남구 삼성동 159-1 트레이드타워</td>\n",
       "      <td>37.510404</td>\n",
       "      <td>127.061219</td>\n",
       "    </tr>\n",
       "    <tr>\n",
       "      <th>1</th>\n",
       "      <td>4077917</td>\n",
       "      <td>버터핑거 팬케이크 강남점</td>\n",
       "      <td>4.0</td>\n",
       "      <td>서울특별시 서초구 서초동 1317</td>\n",
       "      <td>37.498844</td>\n",
       "      <td>127.025400</td>\n",
       "    </tr>\n",
       "    <tr>\n",
       "      <th>2</th>\n",
       "      <td>9732387</td>\n",
       "      <td>빵꼼마</td>\n",
       "      <td>4.5</td>\n",
       "      <td>서울특별시 마포구 동교동 153-32</td>\n",
       "      <td>37.559316</td>\n",
       "      <td>126.924645</td>\n",
       "    </tr>\n",
       "    <tr>\n",
       "      <th>3</th>\n",
       "      <td>9379120</td>\n",
       "      <td>명동한식당</td>\n",
       "      <td>5.0</td>\n",
       "      <td>서울특별시 종로구 인사동 92</td>\n",
       "      <td>37.570578</td>\n",
       "      <td>126.985935</td>\n",
       "    </tr>\n",
       "    <tr>\n",
       "      <th>4</th>\n",
       "      <td>13833720</td>\n",
       "      <td>스타벅스 리져브 - 용산푸르지오써밋점</td>\n",
       "      <td>4.0</td>\n",
       "      <td>서울특별시 용산구 한강로2가 391</td>\n",
       "      <td>37.527471</td>\n",
       "      <td>126.965248</td>\n",
       "    </tr>\n",
       "  </tbody>\n",
       "</table>\n",
       "</div>"
      ],
      "text/plain": [
       "  location_id                  name  rating                   land.addr  \\\n",
       "0      788542                마르코 폴로     4.0  서울특별시 강남구 삼성동 159-1 트레이드타워   \n",
       "1     4077917         버터핑거 팬케이크 강남점     4.0          서울특별시 서초구 서초동 1317   \n",
       "2     9732387                   빵꼼마     4.5        서울특별시 마포구 동교동 153-32   \n",
       "3     9379120                 명동한식당     5.0            서울특별시 종로구 인사동 92   \n",
       "4    13833720  스타벅스 리져브 - 용산푸르지오써밋점     4.0         서울특별시 용산구 한강로2가 391   \n",
       "\n",
       "         lat         lng  \n",
       "0  37.510404  127.061219  \n",
       "1  37.498844  127.025400  \n",
       "2  37.559316  126.924645  \n",
       "3  37.570578  126.985935  \n",
       "4  37.527471  126.965248  "
      ]
     },
     "execution_count": 59,
     "metadata": {},
     "output_type": "execute_result"
    }
   ],
   "source": [
    "ta_place.head()"
   ]
  },
  {
   "cell_type": "code",
   "execution_count": 63,
   "metadata": {
    "Collapsed": "false"
   },
   "outputs": [],
   "source": [
    "# 먼저 naver와 merge (네이버-트립어드바이저 겹치는 부분 네이버 정보 사용)\n",
    "places = same_place.merge(nv_place, on = 'place.id', how = 'inner').drop('index', axis = 1)"
   ]
  },
  {
   "cell_type": "code",
   "execution_count": 67,
   "metadata": {
    "Collapsed": "false"
   },
   "outputs": [],
   "source": [
    "# 트립어드바이저 location_id 삭제\n",
    "places = places.drop('location_id', axis = 1)"
   ]
  },
  {
   "cell_type": "code",
   "execution_count": 71,
   "metadata": {
    "Collapsed": "false"
   },
   "outputs": [
    {
     "data": {
      "text/html": [
       "<div>\n",
       "<style scoped>\n",
       "    .dataframe tbody tr th:only-of-type {\n",
       "        vertical-align: middle;\n",
       "    }\n",
       "\n",
       "    .dataframe tbody tr th {\n",
       "        vertical-align: top;\n",
       "    }\n",
       "\n",
       "    .dataframe thead th {\n",
       "        text-align: right;\n",
       "    }\n",
       "</style>\n",
       "<table border=\"1\" class=\"dataframe\">\n",
       "  <thead>\n",
       "    <tr style=\"text-align: right;\">\n",
       "      <th></th>\n",
       "      <th>place.id</th>\n",
       "      <th>place.name</th>\n",
       "      <th>place.category</th>\n",
       "      <th>review.count.again</th>\n",
       "      <th>review.allcount</th>\n",
       "      <th>place.count</th>\n",
       "      <th>review.avgcount</th>\n",
       "      <th>is_fch</th>\n",
       "      <th>rating</th>\n",
       "      <th>land.addr</th>\n",
       "      <th>lat</th>\n",
       "      <th>lng</th>\n",
       "    </tr>\n",
       "  </thead>\n",
       "  <tbody>\n",
       "    <tr>\n",
       "      <th>0</th>\n",
       "      <td>11605455</td>\n",
       "      <td>가미분식</td>\n",
       "      <td>종합분식</td>\n",
       "      <td>22.0</td>\n",
       "      <td>18625</td>\n",
       "      <td>2121</td>\n",
       "      <td>8.781235</td>\n",
       "      <td>0</td>\n",
       "      <td>4.217391</td>\n",
       "      <td>서울특별시 서대문구 대현동 54-1 무궁화상가아파트</td>\n",
       "      <td>37.558661</td>\n",
       "      <td>126.945960</td>\n",
       "    </tr>\n",
       "    <tr>\n",
       "      <th>1</th>\n",
       "      <td>10976694</td>\n",
       "      <td>유래회관</td>\n",
       "      <td>육류,고기요리-일반</td>\n",
       "      <td>18.0</td>\n",
       "      <td>24041</td>\n",
       "      <td>3347</td>\n",
       "      <td>7.182850</td>\n",
       "      <td>0</td>\n",
       "      <td>4.300000</td>\n",
       "      <td>서울특별시 성동구 홍익동 357 유래회관</td>\n",
       "      <td>37.566438</td>\n",
       "      <td>127.031591</td>\n",
       "    </tr>\n",
       "    <tr>\n",
       "      <th>2</th>\n",
       "      <td>11398664</td>\n",
       "      <td>대성갈비</td>\n",
       "      <td>육류,고기요리-일반</td>\n",
       "      <td>55.0</td>\n",
       "      <td>24041</td>\n",
       "      <td>3347</td>\n",
       "      <td>7.182850</td>\n",
       "      <td>0</td>\n",
       "      <td>4.216667</td>\n",
       "      <td>서울특별시 성동구 성수동1가 668-21</td>\n",
       "      <td>37.547073</td>\n",
       "      <td>127.044028</td>\n",
       "    </tr>\n",
       "    <tr>\n",
       "      <th>3</th>\n",
       "      <td>11663081</td>\n",
       "      <td>철길왕갈비살</td>\n",
       "      <td>육류,고기요리-일반</td>\n",
       "      <td>34.0</td>\n",
       "      <td>24041</td>\n",
       "      <td>3347</td>\n",
       "      <td>7.182850</td>\n",
       "      <td>0</td>\n",
       "      <td>4.400000</td>\n",
       "      <td>서울특별시 마포구 창전동 4-2</td>\n",
       "      <td>37.554546</td>\n",
       "      <td>126.931666</td>\n",
       "    </tr>\n",
       "    <tr>\n",
       "      <th>4</th>\n",
       "      <td>11677544</td>\n",
       "      <td>황소고집</td>\n",
       "      <td>육류,고기요리-일반</td>\n",
       "      <td>49.0</td>\n",
       "      <td>24041</td>\n",
       "      <td>3347</td>\n",
       "      <td>7.182850</td>\n",
       "      <td>0</td>\n",
       "      <td>4.379310</td>\n",
       "      <td>서울특별시 종로구 관철동 11-11</td>\n",
       "      <td>37.568593</td>\n",
       "      <td>126.986046</td>\n",
       "    </tr>\n",
       "    <tr>\n",
       "      <th>...</th>\n",
       "      <td>...</td>\n",
       "      <td>...</td>\n",
       "      <td>...</td>\n",
       "      <td>...</td>\n",
       "      <td>...</td>\n",
       "      <td>...</td>\n",
       "      <td>...</td>\n",
       "      <td>...</td>\n",
       "      <td>...</td>\n",
       "      <td>...</td>\n",
       "      <td>...</td>\n",
       "      <td>...</td>\n",
       "    </tr>\n",
       "    <tr>\n",
       "      <th>9861</th>\n",
       "      <td>37402391</td>\n",
       "      <td>포시즌스호텔서울 더마켓키친</td>\n",
       "      <td>특급호텔레스토랑</td>\n",
       "      <td>36.0</td>\n",
       "      <td>38</td>\n",
       "      <td>1</td>\n",
       "      <td>38.000000</td>\n",
       "      <td>0</td>\n",
       "      <td>4.276316</td>\n",
       "      <td>서울특별시 종로구 당주동 30</td>\n",
       "      <td>37.570776</td>\n",
       "      <td>126.975422</td>\n",
       "    </tr>\n",
       "    <tr>\n",
       "      <th>9862</th>\n",
       "      <td>970385130</td>\n",
       "      <td>빵장수단팥빵 우장산점</td>\n",
       "      <td>빵장수단팥빵</td>\n",
       "      <td>29.0</td>\n",
       "      <td>135</td>\n",
       "      <td>5</td>\n",
       "      <td>27.000000</td>\n",
       "      <td>1</td>\n",
       "      <td>4.545455</td>\n",
       "      <td>서울특별시 강서구 화곡동 1165-1 강서힐스테이트</td>\n",
       "      <td>37.547216</td>\n",
       "      <td>126.836820</td>\n",
       "    </tr>\n",
       "    <tr>\n",
       "      <th>9863</th>\n",
       "      <td>37663561</td>\n",
       "      <td>또보겠지떡볶이집 호호시스터점</td>\n",
       "      <td>또보겠지떡볶이집</td>\n",
       "      <td>85.0</td>\n",
       "      <td>344</td>\n",
       "      <td>4</td>\n",
       "      <td>86.000000</td>\n",
       "      <td>1</td>\n",
       "      <td>4.532967</td>\n",
       "      <td>서울특별시 마포구 서교동 396-32</td>\n",
       "      <td>37.548958</td>\n",
       "      <td>126.916815</td>\n",
       "    </tr>\n",
       "    <tr>\n",
       "      <th>9865</th>\n",
       "      <td>37914918</td>\n",
       "      <td>장도뚝배기 낙성대점</td>\n",
       "      <td>장도뚝배기</td>\n",
       "      <td>23.0</td>\n",
       "      <td>45</td>\n",
       "      <td>3</td>\n",
       "      <td>15.000000</td>\n",
       "      <td>0</td>\n",
       "      <td>4.340000</td>\n",
       "      <td>서울특별시 관악구 봉천동 1628-18</td>\n",
       "      <td>37.477342</td>\n",
       "      <td>126.960617</td>\n",
       "    </tr>\n",
       "    <tr>\n",
       "      <th>9866</th>\n",
       "      <td>38473337</td>\n",
       "      <td>95도씨카페 가산벽산6차점</td>\n",
       "      <td>95도씨카페</td>\n",
       "      <td>13.0</td>\n",
       "      <td>43</td>\n",
       "      <td>3</td>\n",
       "      <td>14.333333</td>\n",
       "      <td>1</td>\n",
       "      <td>4.666667</td>\n",
       "      <td>서울특별시 금천구 가산동 481-4 벽산디지털밸리6차</td>\n",
       "      <td>37.484444</td>\n",
       "      <td>126.879045</td>\n",
       "    </tr>\n",
       "  </tbody>\n",
       "</table>\n",
       "<p>9867 rows × 12 columns</p>\n",
       "</div>"
      ],
      "text/plain": [
       "       place.id       place.name place.category  review.count.again  \\\n",
       "0      11605455             가미분식           종합분식                22.0   \n",
       "1      10976694             유래회관     육류,고기요리-일반                18.0   \n",
       "2      11398664             대성갈비     육류,고기요리-일반                55.0   \n",
       "3      11663081           철길왕갈비살     육류,고기요리-일반                34.0   \n",
       "4      11677544             황소고집     육류,고기요리-일반                49.0   \n",
       "...         ...              ...            ...                 ...   \n",
       "9861   37402391   포시즌스호텔서울 더마켓키친       특급호텔레스토랑                36.0   \n",
       "9862  970385130      빵장수단팥빵 우장산점         빵장수단팥빵                29.0   \n",
       "9863   37663561  또보겠지떡볶이집 호호시스터점       또보겠지떡볶이집                85.0   \n",
       "9865   37914918       장도뚝배기 낙성대점          장도뚝배기                23.0   \n",
       "9866   38473337   95도씨카페 가산벽산6차점         95도씨카페                13.0   \n",
       "\n",
       "      review.allcount  place.count  review.avgcount is_fch    rating  \\\n",
       "0               18625         2121         8.781235      0  4.217391   \n",
       "1               24041         3347         7.182850      0  4.300000   \n",
       "2               24041         3347         7.182850      0  4.216667   \n",
       "3               24041         3347         7.182850      0  4.400000   \n",
       "4               24041         3347         7.182850      0  4.379310   \n",
       "...               ...          ...              ...    ...       ...   \n",
       "9861               38            1        38.000000      0  4.276316   \n",
       "9862              135            5        27.000000      1  4.545455   \n",
       "9863              344            4        86.000000      1  4.532967   \n",
       "9865               45            3        15.000000      0  4.340000   \n",
       "9866               43            3        14.333333      1  4.666667   \n",
       "\n",
       "                          land.addr        lat         lng  \n",
       "0      서울특별시 서대문구 대현동 54-1 무궁화상가아파트  37.558661  126.945960  \n",
       "1            서울특별시 성동구 홍익동 357 유래회관  37.566438  127.031591  \n",
       "2            서울특별시 성동구 성수동1가 668-21  37.547073  127.044028  \n",
       "3                 서울특별시 마포구 창전동 4-2  37.554546  126.931666  \n",
       "4               서울특별시 종로구 관철동 11-11  37.568593  126.986046  \n",
       "...                             ...        ...         ...  \n",
       "9861               서울특별시 종로구 당주동 30  37.570776  126.975422  \n",
       "9862   서울특별시 강서구 화곡동 1165-1 강서힐스테이트  37.547216  126.836820  \n",
       "9863           서울특별시 마포구 서교동 396-32  37.548958  126.916815  \n",
       "9865          서울특별시 관악구 봉천동 1628-18  37.477342  126.960617  \n",
       "9866  서울특별시 금천구 가산동 481-4 벽산디지털밸리6차  37.484444  126.879045  \n",
       "\n",
       "[9867 rows x 12 columns]"
      ]
     },
     "execution_count": 71,
     "metadata": {},
     "output_type": "execute_result"
    }
   ],
   "source": [
    "# 네이버 플레이스 concat 후 중복제거\n",
    "places = pd.concat([places, nv_place], axis = 0).drop_duplicates()\n",
    "places"
   ]
  },
  {
   "cell_type": "code",
   "execution_count": 76,
   "metadata": {
    "Collapsed": "false"
   },
   "outputs": [],
   "source": [
    "ta = ta_place.merge(same_place, on = 'location_id', how = 'left')"
   ]
  },
  {
   "cell_type": "code",
   "execution_count": 79,
   "metadata": {
    "Collapsed": "false"
   },
   "outputs": [],
   "source": [
    "# 네이버와 중복되는 부분 제거\n",
    "ta = ta.loc[ta['place.id'].isnull(), ['location_id', 'name', 'rating', 'land.addr', 'lat', 'lng']]"
   ]
  },
  {
   "cell_type": "code",
   "execution_count": 81,
   "metadata": {
    "Collapsed": "false"
   },
   "outputs": [
    {
     "data": {
      "text/html": [
       "<div>\n",
       "<style scoped>\n",
       "    .dataframe tbody tr th:only-of-type {\n",
       "        vertical-align: middle;\n",
       "    }\n",
       "\n",
       "    .dataframe tbody tr th {\n",
       "        vertical-align: top;\n",
       "    }\n",
       "\n",
       "    .dataframe thead th {\n",
       "        text-align: right;\n",
       "    }\n",
       "</style>\n",
       "<table border=\"1\" class=\"dataframe\">\n",
       "  <thead>\n",
       "    <tr style=\"text-align: right;\">\n",
       "      <th></th>\n",
       "      <th>place.id</th>\n",
       "      <th>place.name</th>\n",
       "      <th>rating</th>\n",
       "      <th>land.addr</th>\n",
       "      <th>lat</th>\n",
       "      <th>lng</th>\n",
       "    </tr>\n",
       "  </thead>\n",
       "  <tbody>\n",
       "    <tr>\n",
       "      <th>0</th>\n",
       "      <td>788542</td>\n",
       "      <td>마르코 폴로</td>\n",
       "      <td>4.0</td>\n",
       "      <td>서울특별시 강남구 삼성동 159-1 트레이드타워</td>\n",
       "      <td>37.510404</td>\n",
       "      <td>127.061219</td>\n",
       "    </tr>\n",
       "    <tr>\n",
       "      <th>2</th>\n",
       "      <td>9732387</td>\n",
       "      <td>빵꼼마</td>\n",
       "      <td>4.5</td>\n",
       "      <td>서울특별시 마포구 동교동 153-32</td>\n",
       "      <td>37.559316</td>\n",
       "      <td>126.924645</td>\n",
       "    </tr>\n",
       "    <tr>\n",
       "      <th>3</th>\n",
       "      <td>9379120</td>\n",
       "      <td>명동한식당</td>\n",
       "      <td>5.0</td>\n",
       "      <td>서울특별시 종로구 인사동 92</td>\n",
       "      <td>37.570578</td>\n",
       "      <td>126.985935</td>\n",
       "    </tr>\n",
       "    <tr>\n",
       "      <th>5</th>\n",
       "      <td>8904596</td>\n",
       "      <td>빠나미</td>\n",
       "      <td>5.0</td>\n",
       "      <td>서울특별시 중구 남대문로5가 541 서울스퀘어</td>\n",
       "      <td>37.555506</td>\n",
       "      <td>126.973768</td>\n",
       "    </tr>\n",
       "    <tr>\n",
       "      <th>6</th>\n",
       "      <td>8904578</td>\n",
       "      <td>빠나미</td>\n",
       "      <td>5.0</td>\n",
       "      <td>서울특별시 강남구 삼성동 159-6 한국도심공항터미널</td>\n",
       "      <td>37.509551</td>\n",
       "      <td>127.059469</td>\n",
       "    </tr>\n",
       "    <tr>\n",
       "      <th>...</th>\n",
       "      <td>...</td>\n",
       "      <td>...</td>\n",
       "      <td>...</td>\n",
       "      <td>...</td>\n",
       "      <td>...</td>\n",
       "      <td>...</td>\n",
       "    </tr>\n",
       "    <tr>\n",
       "      <th>5572</th>\n",
       "      <td>10161356</td>\n",
       "      <td>모모카페 코트야드 서울 남대문</td>\n",
       "      <td>4.5</td>\n",
       "      <td>서울특별시 중구 남대문로4가 17-23 남대문호텔</td>\n",
       "      <td>37.561200</td>\n",
       "      <td>126.976882</td>\n",
       "    </tr>\n",
       "    <tr>\n",
       "      <th>5573</th>\n",
       "      <td>3894901</td>\n",
       "      <td>스타벅스 경복궁역점</td>\n",
       "      <td>4.0</td>\n",
       "      <td>서울특별시 종로구 통의동 35-41 우진빌딩</td>\n",
       "      <td>37.577200</td>\n",
       "      <td>126.972778</td>\n",
       "    </tr>\n",
       "    <tr>\n",
       "      <th>5574</th>\n",
       "      <td>948337</td>\n",
       "      <td>커피愛</td>\n",
       "      <td>4.5</td>\n",
       "      <td>서울특별시 중구 명동2가 27-1</td>\n",
       "      <td>37.562855</td>\n",
       "      <td>126.985572</td>\n",
       "    </tr>\n",
       "    <tr>\n",
       "      <th>5575</th>\n",
       "      <td>9035619</td>\n",
       "      <td>해적선해물부페</td>\n",
       "      <td>4.0</td>\n",
       "      <td>서울특별시 구로구 고척동 76-160 골든타워빌딩</td>\n",
       "      <td>37.497622</td>\n",
       "      <td>126.864067</td>\n",
       "    </tr>\n",
       "    <tr>\n",
       "      <th>5576</th>\n",
       "      <td>14969071</td>\n",
       "      <td>월화고기 - 보라매직영점</td>\n",
       "      <td>4.5</td>\n",
       "      <td>서울특별시 관악구 봉천동 732-3</td>\n",
       "      <td>37.491641</td>\n",
       "      <td>126.926301</td>\n",
       "    </tr>\n",
       "  </tbody>\n",
       "</table>\n",
       "<p>5311 rows × 6 columns</p>\n",
       "</div>"
      ],
      "text/plain": [
       "      place.id        place.name  rating                      land.addr  \\\n",
       "0       788542            마르코 폴로     4.0     서울특별시 강남구 삼성동 159-1 트레이드타워   \n",
       "2      9732387               빵꼼마     4.5           서울특별시 마포구 동교동 153-32   \n",
       "3      9379120             명동한식당     5.0               서울특별시 종로구 인사동 92   \n",
       "5      8904596               빠나미     5.0      서울특별시 중구 남대문로5가 541 서울스퀘어   \n",
       "6      8904578               빠나미     5.0  서울특별시 강남구 삼성동 159-6 한국도심공항터미널   \n",
       "...        ...               ...     ...                            ...   \n",
       "5572  10161356  모모카페 코트야드 서울 남대문     4.5    서울특별시 중구 남대문로4가 17-23 남대문호텔   \n",
       "5573   3894901        스타벅스 경복궁역점     4.0       서울특별시 종로구 통의동 35-41 우진빌딩   \n",
       "5574    948337               커피愛     4.5             서울특별시 중구 명동2가 27-1   \n",
       "5575   9035619           해적선해물부페     4.0    서울특별시 구로구 고척동 76-160 골든타워빌딩   \n",
       "5576  14969071     월화고기 - 보라매직영점     4.5            서울특별시 관악구 봉천동 732-3   \n",
       "\n",
       "            lat         lng  \n",
       "0     37.510404  127.061219  \n",
       "2     37.559316  126.924645  \n",
       "3     37.570578  126.985935  \n",
       "5     37.555506  126.973768  \n",
       "6     37.509551  127.059469  \n",
       "...         ...         ...  \n",
       "5572  37.561200  126.976882  \n",
       "5573  37.577200  126.972778  \n",
       "5574  37.562855  126.985572  \n",
       "5575  37.497622  126.864067  \n",
       "5576  37.491641  126.926301  \n",
       "\n",
       "[5311 rows x 6 columns]"
      ]
     },
     "execution_count": 81,
     "metadata": {},
     "output_type": "execute_result"
    }
   ],
   "source": [
    "ta.columns = ['place.id', 'place.name', 'rating', 'land.addr', 'lat', 'lng']\n",
    "ta"
   ]
  },
  {
   "cell_type": "code",
   "execution_count": 83,
   "metadata": {
    "Collapsed": "false"
   },
   "outputs": [],
   "source": [
    "places = pd.concat([places, ta], axis = 0)"
   ]
  },
  {
   "cell_type": "code",
   "execution_count": 95,
   "metadata": {
    "Collapsed": "false"
   },
   "outputs": [],
   "source": [
    "places.reset_index(drop = True, inplace = True)"
   ]
  },
  {
   "cell_type": "code",
   "execution_count": 101,
   "metadata": {
    "Collapsed": "false"
   },
   "outputs": [
    {
     "data": {
      "text/html": [
       "<div>\n",
       "<style scoped>\n",
       "    .dataframe tbody tr th:only-of-type {\n",
       "        vertical-align: middle;\n",
       "    }\n",
       "\n",
       "    .dataframe tbody tr th {\n",
       "        vertical-align: top;\n",
       "    }\n",
       "\n",
       "    .dataframe thead th {\n",
       "        text-align: right;\n",
       "    }\n",
       "</style>\n",
       "<table border=\"1\" class=\"dataframe\">\n",
       "  <thead>\n",
       "    <tr style=\"text-align: right;\">\n",
       "      <th></th>\n",
       "      <th>place.id</th>\n",
       "      <th>place.name</th>\n",
       "      <th>place.category</th>\n",
       "      <th>review.count.again</th>\n",
       "      <th>review.allcount</th>\n",
       "      <th>place.count</th>\n",
       "      <th>review.avgcount</th>\n",
       "      <th>is_fch</th>\n",
       "      <th>rating</th>\n",
       "      <th>land.addr</th>\n",
       "      <th>lat</th>\n",
       "      <th>lng</th>\n",
       "    </tr>\n",
       "  </thead>\n",
       "  <tbody>\n",
       "    <tr>\n",
       "      <th>2861</th>\n",
       "      <td>1129806733</td>\n",
       "      <td>코레우리</td>\n",
       "      <td>카페,디저트-일반</td>\n",
       "      <td>52.0</td>\n",
       "      <td>76934.0</td>\n",
       "      <td>7641.0</td>\n",
       "      <td>10.068577</td>\n",
       "      <td>0</td>\n",
       "      <td>4.103448</td>\n",
       "      <td>서울특별시 강서구 마곡동 812 서울식물원</td>\n",
       "      <td>37.567789</td>\n",
       "      <td>126.832333</td>\n",
       "    </tr>\n",
       "    <tr>\n",
       "      <th>2862</th>\n",
       "      <td>1129806733</td>\n",
       "      <td>코레우리 서울식물원카페</td>\n",
       "      <td>카페,디저트-일반</td>\n",
       "      <td>52.0</td>\n",
       "      <td>76934.0</td>\n",
       "      <td>7641.0</td>\n",
       "      <td>10.068577</td>\n",
       "      <td>0</td>\n",
       "      <td>4.103448</td>\n",
       "      <td>서울특별시 강서구 마곡동 812 서울식물원</td>\n",
       "      <td>37.567789</td>\n",
       "      <td>126.832333</td>\n",
       "    </tr>\n",
       "    <tr>\n",
       "      <th>4159</th>\n",
       "      <td>11736500</td>\n",
       "      <td>허수아비돈까스본점</td>\n",
       "      <td>돈가스-일반</td>\n",
       "      <td>37.0</td>\n",
       "      <td>11397.0</td>\n",
       "      <td>903.0</td>\n",
       "      <td>12.621262</td>\n",
       "      <td>0</td>\n",
       "      <td>4.703704</td>\n",
       "      <td>서울특별시 서초구 서초동 1451-52</td>\n",
       "      <td>37.482072</td>\n",
       "      <td>127.012759</td>\n",
       "    </tr>\n",
       "    <tr>\n",
       "      <th>12709</th>\n",
       "      <td>11736500</td>\n",
       "      <td>에머이</td>\n",
       "      <td>NaN</td>\n",
       "      <td>NaN</td>\n",
       "      <td>NaN</td>\n",
       "      <td>NaN</td>\n",
       "      <td>NaN</td>\n",
       "      <td>NaN</td>\n",
       "      <td>4.000000</td>\n",
       "      <td>서울특별시 종로구 관철동 16-9</td>\n",
       "      <td>37.569860</td>\n",
       "      <td>126.984622</td>\n",
       "    </tr>\n",
       "  </tbody>\n",
       "</table>\n",
       "</div>"
      ],
      "text/plain": [
       "         place.id    place.name place.category  review.count.again  \\\n",
       "2861   1129806733          코레우리      카페,디저트-일반                52.0   \n",
       "2862   1129806733  코레우리 서울식물원카페      카페,디저트-일반                52.0   \n",
       "4159     11736500     허수아비돈까스본점         돈가스-일반                37.0   \n",
       "12709    11736500           에머이            NaN                 NaN   \n",
       "\n",
       "       review.allcount  place.count  review.avgcount is_fch    rating  \\\n",
       "2861           76934.0       7641.0        10.068577      0  4.103448   \n",
       "2862           76934.0       7641.0        10.068577      0  4.103448   \n",
       "4159           11397.0        903.0        12.621262      0  4.703704   \n",
       "12709              NaN          NaN              NaN    NaN  4.000000   \n",
       "\n",
       "                     land.addr        lat         lng  \n",
       "2861   서울특별시 강서구 마곡동 812 서울식물원  37.567789  126.832333  \n",
       "2862   서울특별시 강서구 마곡동 812 서울식물원  37.567789  126.832333  \n",
       "4159     서울특별시 서초구 서초동 1451-52  37.482072  127.012759  \n",
       "12709       서울특별시 종로구 관철동 16-9  37.569860  126.984622  "
      ]
     },
     "execution_count": 101,
     "metadata": {},
     "output_type": "execute_result"
    }
   ],
   "source": [
    "places.loc[places['place.id'].duplicated(keep = False) == True]"
   ]
  },
  {
   "cell_type": "code",
   "execution_count": 102,
   "metadata": {
    "Collapsed": "false"
   },
   "outputs": [],
   "source": [
    "places.loc[12709, 'place.id'] = '117365000'"
   ]
  },
  {
   "cell_type": "code",
   "execution_count": 105,
   "metadata": {
    "Collapsed": "false"
   },
   "outputs": [],
   "source": [
    "places = places.drop_duplicates('place.id')"
   ]
  },
  {
   "cell_type": "code",
   "execution_count": 106,
   "metadata": {
    "Collapsed": "false",
    "collapsed": true,
    "jupyter": {
     "outputs_hidden": true
    }
   },
   "outputs": [
    {
     "data": {
      "text/html": [
       "<div>\n",
       "<style scoped>\n",
       "    .dataframe tbody tr th:only-of-type {\n",
       "        vertical-align: middle;\n",
       "    }\n",
       "\n",
       "    .dataframe tbody tr th {\n",
       "        vertical-align: top;\n",
       "    }\n",
       "\n",
       "    .dataframe thead th {\n",
       "        text-align: right;\n",
       "    }\n",
       "</style>\n",
       "<table border=\"1\" class=\"dataframe\">\n",
       "  <thead>\n",
       "    <tr style=\"text-align: right;\">\n",
       "      <th></th>\n",
       "      <th>place.id</th>\n",
       "      <th>place.name</th>\n",
       "      <th>place.category</th>\n",
       "      <th>review.count.again</th>\n",
       "      <th>review.allcount</th>\n",
       "      <th>place.count</th>\n",
       "      <th>review.avgcount</th>\n",
       "      <th>is_fch</th>\n",
       "      <th>rating</th>\n",
       "      <th>land.addr</th>\n",
       "      <th>lat</th>\n",
       "      <th>lng</th>\n",
       "    </tr>\n",
       "  </thead>\n",
       "  <tbody>\n",
       "    <tr>\n",
       "      <th>0</th>\n",
       "      <td>11605455</td>\n",
       "      <td>가미분식</td>\n",
       "      <td>종합분식</td>\n",
       "      <td>22.0</td>\n",
       "      <td>18625.0</td>\n",
       "      <td>2121.0</td>\n",
       "      <td>8.781235</td>\n",
       "      <td>0</td>\n",
       "      <td>4.217391</td>\n",
       "      <td>서울특별시 서대문구 대현동 54-1 무궁화상가아파트</td>\n",
       "      <td>37.558661</td>\n",
       "      <td>126.945960</td>\n",
       "    </tr>\n",
       "    <tr>\n",
       "      <th>1</th>\n",
       "      <td>10976694</td>\n",
       "      <td>유래회관</td>\n",
       "      <td>육류,고기요리-일반</td>\n",
       "      <td>18.0</td>\n",
       "      <td>24041.0</td>\n",
       "      <td>3347.0</td>\n",
       "      <td>7.182850</td>\n",
       "      <td>0</td>\n",
       "      <td>4.300000</td>\n",
       "      <td>서울특별시 성동구 홍익동 357 유래회관</td>\n",
       "      <td>37.566438</td>\n",
       "      <td>127.031591</td>\n",
       "    </tr>\n",
       "    <tr>\n",
       "      <th>2</th>\n",
       "      <td>11398664</td>\n",
       "      <td>대성갈비</td>\n",
       "      <td>육류,고기요리-일반</td>\n",
       "      <td>55.0</td>\n",
       "      <td>24041.0</td>\n",
       "      <td>3347.0</td>\n",
       "      <td>7.182850</td>\n",
       "      <td>0</td>\n",
       "      <td>4.216667</td>\n",
       "      <td>서울특별시 성동구 성수동1가 668-21</td>\n",
       "      <td>37.547073</td>\n",
       "      <td>127.044028</td>\n",
       "    </tr>\n",
       "    <tr>\n",
       "      <th>3</th>\n",
       "      <td>11663081</td>\n",
       "      <td>철길왕갈비살</td>\n",
       "      <td>육류,고기요리-일반</td>\n",
       "      <td>34.0</td>\n",
       "      <td>24041.0</td>\n",
       "      <td>3347.0</td>\n",
       "      <td>7.182850</td>\n",
       "      <td>0</td>\n",
       "      <td>4.400000</td>\n",
       "      <td>서울특별시 마포구 창전동 4-2</td>\n",
       "      <td>37.554546</td>\n",
       "      <td>126.931666</td>\n",
       "    </tr>\n",
       "    <tr>\n",
       "      <th>4</th>\n",
       "      <td>11677544</td>\n",
       "      <td>황소고집</td>\n",
       "      <td>육류,고기요리-일반</td>\n",
       "      <td>49.0</td>\n",
       "      <td>24041.0</td>\n",
       "      <td>3347.0</td>\n",
       "      <td>7.182850</td>\n",
       "      <td>0</td>\n",
       "      <td>4.379310</td>\n",
       "      <td>서울특별시 종로구 관철동 11-11</td>\n",
       "      <td>37.568593</td>\n",
       "      <td>126.986046</td>\n",
       "    </tr>\n",
       "    <tr>\n",
       "      <th>...</th>\n",
       "      <td>...</td>\n",
       "      <td>...</td>\n",
       "      <td>...</td>\n",
       "      <td>...</td>\n",
       "      <td>...</td>\n",
       "      <td>...</td>\n",
       "      <td>...</td>\n",
       "      <td>...</td>\n",
       "      <td>...</td>\n",
       "      <td>...</td>\n",
       "      <td>...</td>\n",
       "      <td>...</td>\n",
       "    </tr>\n",
       "    <tr>\n",
       "      <th>15173</th>\n",
       "      <td>10161356</td>\n",
       "      <td>모모카페 코트야드 서울 남대문</td>\n",
       "      <td>NaN</td>\n",
       "      <td>NaN</td>\n",
       "      <td>NaN</td>\n",
       "      <td>NaN</td>\n",
       "      <td>NaN</td>\n",
       "      <td>NaN</td>\n",
       "      <td>4.500000</td>\n",
       "      <td>서울특별시 중구 남대문로4가 17-23 남대문호텔</td>\n",
       "      <td>37.561200</td>\n",
       "      <td>126.976882</td>\n",
       "    </tr>\n",
       "    <tr>\n",
       "      <th>15174</th>\n",
       "      <td>3894901</td>\n",
       "      <td>스타벅스 경복궁역점</td>\n",
       "      <td>NaN</td>\n",
       "      <td>NaN</td>\n",
       "      <td>NaN</td>\n",
       "      <td>NaN</td>\n",
       "      <td>NaN</td>\n",
       "      <td>NaN</td>\n",
       "      <td>4.000000</td>\n",
       "      <td>서울특별시 종로구 통의동 35-41 우진빌딩</td>\n",
       "      <td>37.577200</td>\n",
       "      <td>126.972778</td>\n",
       "    </tr>\n",
       "    <tr>\n",
       "      <th>15175</th>\n",
       "      <td>948337</td>\n",
       "      <td>커피愛</td>\n",
       "      <td>NaN</td>\n",
       "      <td>NaN</td>\n",
       "      <td>NaN</td>\n",
       "      <td>NaN</td>\n",
       "      <td>NaN</td>\n",
       "      <td>NaN</td>\n",
       "      <td>4.500000</td>\n",
       "      <td>서울특별시 중구 명동2가 27-1</td>\n",
       "      <td>37.562855</td>\n",
       "      <td>126.985572</td>\n",
       "    </tr>\n",
       "    <tr>\n",
       "      <th>15176</th>\n",
       "      <td>9035619</td>\n",
       "      <td>해적선해물부페</td>\n",
       "      <td>NaN</td>\n",
       "      <td>NaN</td>\n",
       "      <td>NaN</td>\n",
       "      <td>NaN</td>\n",
       "      <td>NaN</td>\n",
       "      <td>NaN</td>\n",
       "      <td>4.000000</td>\n",
       "      <td>서울특별시 구로구 고척동 76-160 골든타워빌딩</td>\n",
       "      <td>37.497622</td>\n",
       "      <td>126.864067</td>\n",
       "    </tr>\n",
       "    <tr>\n",
       "      <th>15177</th>\n",
       "      <td>14969071</td>\n",
       "      <td>월화고기 - 보라매직영점</td>\n",
       "      <td>NaN</td>\n",
       "      <td>NaN</td>\n",
       "      <td>NaN</td>\n",
       "      <td>NaN</td>\n",
       "      <td>NaN</td>\n",
       "      <td>NaN</td>\n",
       "      <td>4.500000</td>\n",
       "      <td>서울특별시 관악구 봉천동 732-3</td>\n",
       "      <td>37.491641</td>\n",
       "      <td>126.926301</td>\n",
       "    </tr>\n",
       "  </tbody>\n",
       "</table>\n",
       "<p>15177 rows × 12 columns</p>\n",
       "</div>"
      ],
      "text/plain": [
       "       place.id        place.name place.category  review.count.again  \\\n",
       "0      11605455              가미분식           종합분식                22.0   \n",
       "1      10976694              유래회관     육류,고기요리-일반                18.0   \n",
       "2      11398664              대성갈비     육류,고기요리-일반                55.0   \n",
       "3      11663081            철길왕갈비살     육류,고기요리-일반                34.0   \n",
       "4      11677544              황소고집     육류,고기요리-일반                49.0   \n",
       "...         ...               ...            ...                 ...   \n",
       "15173  10161356  모모카페 코트야드 서울 남대문            NaN                 NaN   \n",
       "15174   3894901        스타벅스 경복궁역점            NaN                 NaN   \n",
       "15175    948337               커피愛            NaN                 NaN   \n",
       "15176   9035619           해적선해물부페            NaN                 NaN   \n",
       "15177  14969071     월화고기 - 보라매직영점            NaN                 NaN   \n",
       "\n",
       "       review.allcount  place.count  review.avgcount is_fch    rating  \\\n",
       "0              18625.0       2121.0         8.781235      0  4.217391   \n",
       "1              24041.0       3347.0         7.182850      0  4.300000   \n",
       "2              24041.0       3347.0         7.182850      0  4.216667   \n",
       "3              24041.0       3347.0         7.182850      0  4.400000   \n",
       "4              24041.0       3347.0         7.182850      0  4.379310   \n",
       "...                ...          ...              ...    ...       ...   \n",
       "15173              NaN          NaN              NaN    NaN  4.500000   \n",
       "15174              NaN          NaN              NaN    NaN  4.000000   \n",
       "15175              NaN          NaN              NaN    NaN  4.500000   \n",
       "15176              NaN          NaN              NaN    NaN  4.000000   \n",
       "15177              NaN          NaN              NaN    NaN  4.500000   \n",
       "\n",
       "                          land.addr        lat         lng  \n",
       "0      서울특별시 서대문구 대현동 54-1 무궁화상가아파트  37.558661  126.945960  \n",
       "1            서울특별시 성동구 홍익동 357 유래회관  37.566438  127.031591  \n",
       "2            서울특별시 성동구 성수동1가 668-21  37.547073  127.044028  \n",
       "3                 서울특별시 마포구 창전동 4-2  37.554546  126.931666  \n",
       "4               서울특별시 종로구 관철동 11-11  37.568593  126.986046  \n",
       "...                             ...        ...         ...  \n",
       "15173   서울특별시 중구 남대문로4가 17-23 남대문호텔  37.561200  126.976882  \n",
       "15174      서울특별시 종로구 통의동 35-41 우진빌딩  37.577200  126.972778  \n",
       "15175            서울특별시 중구 명동2가 27-1  37.562855  126.985572  \n",
       "15176   서울특별시 구로구 고척동 76-160 골든타워빌딩  37.497622  126.864067  \n",
       "15177           서울특별시 관악구 봉천동 732-3  37.491641  126.926301  \n",
       "\n",
       "[15177 rows x 12 columns]"
      ]
     },
     "execution_count": 106,
     "metadata": {},
     "output_type": "execute_result"
    }
   ],
   "source": [
    "# 네이버 + 트립어드바이저 place\n",
    "places"
   ]
  },
  {
   "cell_type": "code",
   "execution_count": 108,
   "metadata": {
    "Collapsed": "false"
   },
   "outputs": [],
   "source": [
    "places.to_excel(os.path.join(\"..\",\"..\", \"data\",\"JS_10_data_places.xlsx\"))"
   ]
  },
  {
   "cell_type": "markdown",
   "metadata": {
    "Collapsed": "false"
   },
   "source": [
    "# NV + TA Review"
   ]
  },
  {
   "cell_type": "code",
   "execution_count": 110,
   "metadata": {
    "Collapsed": "false"
   },
   "outputs": [],
   "source": [
    "nv_review = pd.read_excel(os.path.join(\"..\",\"..\", \"data\",\"JS_0502_reviews_seoul_select.xlsx\"))\n",
    "ta_review = pd.read_json(os.path.join(\"..\",\"..\", \"data\",\"TA_User_Review_Seoul_all_v2.json\"))"
   ]
  },
  {
   "cell_type": "code",
   "execution_count": 280,
   "metadata": {
    "Collapsed": "false"
   },
   "outputs": [],
   "source": [
    "places = pd.read_excel(os.path.join(\"..\",\"..\", \"data\",\"JS_10_data_places.xlsx\"))"
   ]
  },
  {
   "cell_type": "code",
   "execution_count": 165,
   "metadata": {
    "Collapsed": "false"
   },
   "outputs": [],
   "source": [
    "ta_review = ta_review.merge(ta_place['location_id'], left_on = 'location.locationId', right_on = 'location_id', how = 'inner')"
   ]
  },
  {
   "cell_type": "code",
   "execution_count": 167,
   "metadata": {
    "Collapsed": "false"
   },
   "outputs": [
    {
     "data": {
      "text/plain": [
       "Index(['__typename', 'createdDate', 'helpfulVotes', 'id', 'language',\n",
       "       'location.__typename', 'location.additionalNames.long',\n",
       "       'location.additionalNames.longOnlyParent', 'location.locationId',\n",
       "       'location.name', 'location.parent.additionalNames.long',\n",
       "       'location.parent.locationId', 'location.parentGeoId',\n",
       "       'location.placeType', 'photoIds', 'photos', 'rating',\n",
       "       'socialStatistics.followCount', 'socialStatistics.isFollowing',\n",
       "       'socialStatistics.isLiked', 'socialStatistics.isReposted',\n",
       "       'socialStatistics.isSaved', 'socialStatistics.likeCount',\n",
       "       'socialStatistics.repostCount', 'socialStatistics.tripCount', 'text',\n",
       "       'title', 'userId', 'userProfile.contributionCounts.sumAllUgc',\n",
       "       'userProfile.isMe', 'userProfile.isVerified', 'userProfile.userId',\n",
       "       'location_id'],\n",
       "      dtype='object')"
      ]
     },
     "execution_count": 167,
     "metadata": {},
     "output_type": "execute_result"
    }
   ],
   "source": [
    "ta_review.columns"
   ]
  },
  {
   "cell_type": "code",
   "execution_count": 170,
   "metadata": {
    "Collapsed": "false"
   },
   "outputs": [],
   "source": [
    "# 위에서 nv랑 겹치는 ta place 인데스 정보 변경 적용하기\n",
    "ta_review.loc[ta_review['location.locationId'] == 11736500, 'location.locationId'] = 117365000"
   ]
  },
  {
   "cell_type": "code",
   "execution_count": 171,
   "metadata": {
    "Collapsed": "false"
   },
   "outputs": [
    {
     "data": {
      "text/html": [
       "<div>\n",
       "<style scoped>\n",
       "    .dataframe tbody tr th:only-of-type {\n",
       "        vertical-align: middle;\n",
       "    }\n",
       "\n",
       "    .dataframe tbody tr th {\n",
       "        vertical-align: top;\n",
       "    }\n",
       "\n",
       "    .dataframe thead th {\n",
       "        text-align: right;\n",
       "    }\n",
       "</style>\n",
       "<table border=\"1\" class=\"dataframe\">\n",
       "  <thead>\n",
       "    <tr style=\"text-align: right;\">\n",
       "      <th></th>\n",
       "      <th>index</th>\n",
       "      <th>place.id</th>\n",
       "      <th>location_id</th>\n",
       "    </tr>\n",
       "  </thead>\n",
       "  <tbody>\n",
       "    <tr>\n",
       "      <th>0</th>\n",
       "      <td>2</td>\n",
       "      <td>11605455</td>\n",
       "      <td>2241571</td>\n",
       "    </tr>\n",
       "    <tr>\n",
       "      <th>1</th>\n",
       "      <td>22</td>\n",
       "      <td>10976694</td>\n",
       "      <td>5926853</td>\n",
       "    </tr>\n",
       "    <tr>\n",
       "      <th>2</th>\n",
       "      <td>24</td>\n",
       "      <td>11398664</td>\n",
       "      <td>4032150</td>\n",
       "    </tr>\n",
       "    <tr>\n",
       "      <th>3</th>\n",
       "      <td>25</td>\n",
       "      <td>11663081</td>\n",
       "      <td>3922609</td>\n",
       "    </tr>\n",
       "    <tr>\n",
       "      <th>4</th>\n",
       "      <td>26</td>\n",
       "      <td>11677544</td>\n",
       "      <td>4033804</td>\n",
       "    </tr>\n",
       "    <tr>\n",
       "      <th>...</th>\n",
       "      <td>...</td>\n",
       "      <td>...</td>\n",
       "      <td>...</td>\n",
       "    </tr>\n",
       "    <tr>\n",
       "      <th>261</th>\n",
       "      <td>1032</td>\n",
       "      <td>32817375</td>\n",
       "      <td>4784018</td>\n",
       "    </tr>\n",
       "    <tr>\n",
       "      <th>262</th>\n",
       "      <td>1035</td>\n",
       "      <td>19723511</td>\n",
       "      <td>9209252</td>\n",
       "    </tr>\n",
       "    <tr>\n",
       "      <th>263</th>\n",
       "      <td>1039</td>\n",
       "      <td>33758018</td>\n",
       "      <td>8948116</td>\n",
       "    </tr>\n",
       "    <tr>\n",
       "      <th>264</th>\n",
       "      <td>1063</td>\n",
       "      <td>35162551</td>\n",
       "      <td>9029313</td>\n",
       "    </tr>\n",
       "    <tr>\n",
       "      <th>265</th>\n",
       "      <td>1067</td>\n",
       "      <td>37663862</td>\n",
       "      <td>13964808</td>\n",
       "    </tr>\n",
       "  </tbody>\n",
       "</table>\n",
       "<p>266 rows × 3 columns</p>\n",
       "</div>"
      ],
      "text/plain": [
       "     index  place.id location_id\n",
       "0        2  11605455     2241571\n",
       "1       22  10976694     5926853\n",
       "2       24  11398664     4032150\n",
       "3       25  11663081     3922609\n",
       "4       26  11677544     4033804\n",
       "..     ...       ...         ...\n",
       "261   1032  32817375     4784018\n",
       "262   1035  19723511     9209252\n",
       "263   1039  33758018     8948116\n",
       "264   1063  35162551     9029313\n",
       "265   1067  37663862    13964808\n",
       "\n",
       "[266 rows x 3 columns]"
      ]
     },
     "execution_count": 171,
     "metadata": {},
     "output_type": "execute_result"
    }
   ],
   "source": [
    "# same_place의 location_id에 해당하는 ta_review의 location.locationId를 모두 plcae.id로 바꿔줘야함\n",
    "same_place"
   ]
  },
  {
   "cell_type": "code",
   "execution_count": 175,
   "metadata": {
    "Collapsed": "false"
   },
   "outputs": [],
   "source": [
    "for nv_id, ta_id in same_place.values[:,1:]:\n",
    "    ta_review.loc[ta_review['location.locationId'] == int(ta_id), 'location.locationId'] = nv_id"
   ]
  },
  {
   "cell_type": "code",
   "execution_count": 179,
   "metadata": {
    "Collapsed": "false"
   },
   "outputs": [
    {
     "data": {
      "text/html": [
       "<div>\n",
       "<style scoped>\n",
       "    .dataframe tbody tr th:only-of-type {\n",
       "        vertical-align: middle;\n",
       "    }\n",
       "\n",
       "    .dataframe tbody tr th {\n",
       "        vertical-align: top;\n",
       "    }\n",
       "\n",
       "    .dataframe thead th {\n",
       "        text-align: right;\n",
       "    }\n",
       "</style>\n",
       "<table border=\"1\" class=\"dataframe\">\n",
       "  <thead>\n",
       "    <tr style=\"text-align: right;\">\n",
       "      <th></th>\n",
       "      <th>place.id</th>\n",
       "      <th>place.name</th>\n",
       "      <th>place.category</th>\n",
       "      <th>review.count.again</th>\n",
       "      <th>review.allcount</th>\n",
       "      <th>place.count</th>\n",
       "      <th>review.avgcount</th>\n",
       "      <th>is_fch</th>\n",
       "      <th>rating</th>\n",
       "      <th>land.addr</th>\n",
       "      <th>lat</th>\n",
       "      <th>lng</th>\n",
       "    </tr>\n",
       "  </thead>\n",
       "  <tbody>\n",
       "    <tr>\n",
       "      <th>1</th>\n",
       "      <td>10976694</td>\n",
       "      <td>유래회관</td>\n",
       "      <td>육류,고기요리-일반</td>\n",
       "      <td>18.0</td>\n",
       "      <td>24041.0</td>\n",
       "      <td>3347.0</td>\n",
       "      <td>7.18285</td>\n",
       "      <td>0</td>\n",
       "      <td>4.3</td>\n",
       "      <td>서울특별시 성동구 홍익동 357 유래회관</td>\n",
       "      <td>37.566438</td>\n",
       "      <td>127.031591</td>\n",
       "    </tr>\n",
       "  </tbody>\n",
       "</table>\n",
       "</div>"
      ],
      "text/plain": [
       "   place.id place.name place.category  review.count.again  review.allcount  \\\n",
       "1  10976694       유래회관     육류,고기요리-일반                18.0          24041.0   \n",
       "\n",
       "   place.count  review.avgcount is_fch  rating               land.addr  \\\n",
       "1       3347.0          7.18285      0     4.3  서울특별시 성동구 홍익동 357 유래회관   \n",
       "\n",
       "         lat         lng  \n",
       "1  37.566438  127.031591  "
      ]
     },
     "execution_count": 179,
     "metadata": {},
     "output_type": "execute_result"
    }
   ],
   "source": [
    "places.loc[places['place.id'] == '10976694']"
   ]
  },
  {
   "cell_type": "code",
   "execution_count": 178,
   "metadata": {
    "Collapsed": "false"
   },
   "outputs": [
    {
     "data": {
      "text/plain": [
       "3459    대도식당가 같이 팬을 달구어 소기름으로 준비하고 고기를 굽고 다 먹으면 그 팬에 된...\n",
       "3460    도선동 성동구에 아주 오래된 음식점으로 대도식당과 근처에서 라이벌인듯 하구요..근데...\n",
       "3461    동그란 팬을 달구어  소기름으로 기름칠을 하고 고기를 굽습니다.고기를 다 먹으면 그...\n",
       "3462    다른 고급 한우집 대비 조금은 저렴한 가격에 등심을 먹을 수 있습니다. 직접 구어 ...\n",
       "3463    비싼 가격만큼 고기의 질은 좋은 음식점입니다.다만 근처에 있는 훨씬 오래된 고기집과...\n",
       "3464    성동구청과 왕십리에서 가까운 소고기 등심집.\\n규모가 커서 대규모 모임에도 적합하다...\n",
       "3465    상왕십리역에서 내려 성동보건소방향으로 가다 보면 있는 유래회관은 한 건물 전체를 사...\n",
       "3466    소고기를 전문적으로 판매하는 음식점인데, 숯불이 아닌 두꺼운 후라이팬에 구워먹는 소...\n",
       "3467    전철역 상왕십리역 2번출구에서 양지사거리에 도착후 성동구보건소방향으로 가다보면 보이...\n",
       "Name: text, dtype: object"
      ]
     },
     "execution_count": 178,
     "metadata": {},
     "output_type": "execute_result"
    }
   ],
   "source": [
    "ta_review.loc[ta_review['location.locationId'] == '10976694', 'text']"
   ]
  },
  {
   "cell_type": "code",
   "execution_count": 182,
   "metadata": {
    "Collapsed": "false"
   },
   "outputs": [
    {
     "data": {
      "text/plain": [
       "279640                                                  NaN\n",
       "279641                                                  NaN\n",
       "279642                                                  NaN\n",
       "279643                                                  NaN\n",
       "279644                                                  NaN\n",
       "279645                                       서비스도 좋고 맛도 좋네요\n",
       "279646                                            한우가 맛있는곳!\n",
       "279647    좋은점\\n1.기다리지않고 먹음\\n2. 서버들이 친절한건아니었으나 불친절하지도않았음\\...\n",
       "279648                                       소고기가 꿀맛. 조금 비쌈\n",
       "279649                                                 none\n",
       "279650                                                  NaN\n",
       "279651                                                  NaN\n",
       "279652                                                  NaN\n",
       "279653                                                    굿\n",
       "279654                                   가성비 나쁨 비싸지만 고기는 쏘쏘\n",
       "279655                                                  NaN\n",
       "279656                                    담당 서버님이 불친절하셨어요ㅠ \n",
       "279657                                                  NaN\n",
       "Name: body, dtype: object"
      ]
     },
     "execution_count": 182,
     "metadata": {},
     "output_type": "execute_result"
    }
   ],
   "source": [
    "nv_review.loc[nv_review['place.id'] == 10976694, 'body']"
   ]
  },
  {
   "cell_type": "code",
   "execution_count": 183,
   "metadata": {
    "Collapsed": "false"
   },
   "outputs": [],
   "source": [
    "# nv, ta columns 선택하기"
   ]
  },
  {
   "cell_type": "code",
   "execution_count": 184,
   "metadata": {
    "Collapsed": "false"
   },
   "outputs": [
    {
     "data": {
      "text/plain": [
       "Index(['rating', 'body', 'visitCount', 'viewCount', 'thumbnail', 'status',\n",
       "       'media', 'id', '__typename', 'idno', 'visitedDate.date',\n",
       "       'visitedDate.displayDate', 'visitedDate.displayDateTime',\n",
       "       'visitedDate.__typename', 'place.id', 'place.name', 'place.category',\n",
       "       'place.categoryCode', 'place.categoryCodes', 'place.phone',\n",
       "       'place.address', 'place.__typename', 'isseoul', 'media_count'],\n",
       "      dtype='object')"
      ]
     },
     "execution_count": 184,
     "metadata": {},
     "output_type": "execute_result"
    }
   ],
   "source": [
    "nv_review.columns"
   ]
  },
  {
   "cell_type": "code",
   "execution_count": 185,
   "metadata": {
    "Collapsed": "false"
   },
   "outputs": [
    {
     "data": {
      "text/plain": [
       "Index(['__typename', 'createdDate', 'helpfulVotes', 'id', 'language',\n",
       "       'location.__typename', 'location.additionalNames.long',\n",
       "       'location.additionalNames.longOnlyParent', 'location.locationId',\n",
       "       'location.name', 'location.parent.additionalNames.long',\n",
       "       'location.parent.locationId', 'location.parentGeoId',\n",
       "       'location.placeType', 'photoIds', 'photos', 'rating',\n",
       "       'socialStatistics.followCount', 'socialStatistics.isFollowing',\n",
       "       'socialStatistics.isLiked', 'socialStatistics.isReposted',\n",
       "       'socialStatistics.isSaved', 'socialStatistics.likeCount',\n",
       "       'socialStatistics.repostCount', 'socialStatistics.tripCount', 'text',\n",
       "       'title', 'userId', 'userProfile.contributionCounts.sumAllUgc',\n",
       "       'userProfile.isMe', 'userProfile.isVerified', 'userProfile.userId',\n",
       "       'location_id'],\n",
       "      dtype='object')"
      ]
     },
     "execution_count": 185,
     "metadata": {},
     "output_type": "execute_result"
    }
   ],
   "source": [
    "ta_review.columns"
   ]
  },
  {
   "cell_type": "code",
   "execution_count": 287,
   "metadata": {
    "Collapsed": "false"
   },
   "outputs": [],
   "source": [
    "nv = nv_review[['idno', 'rating', 'place.id']]"
   ]
  },
  {
   "cell_type": "code",
   "execution_count": 288,
   "metadata": {
    "Collapsed": "false"
   },
   "outputs": [],
   "source": [
    "ta= ta_review[['userId', 'rating', 'location.locationId']]"
   ]
  },
  {
   "cell_type": "code",
   "execution_count": 289,
   "metadata": {
    "Collapsed": "false"
   },
   "outputs": [],
   "source": [
    "ta.columns = ['idno', 'rating', 'place.id']"
   ]
  },
  {
   "cell_type": "code",
   "execution_count": 476,
   "metadata": {
    "Collapsed": "false"
   },
   "outputs": [
    {
     "name": "stdout",
     "output_type": "stream",
     "text": [
      "<class 'pandas.core.frame.DataFrame'>\n",
      "Int64Index: 415515 entries, 0 to 81630\n",
      "Data columns (total 3 columns):\n",
      " #   Column    Non-Null Count   Dtype  \n",
      "---  ------    --------------   -----  \n",
      " 0   idno      415515 non-null  object \n",
      " 1   rating    415515 non-null  float64\n",
      " 2   place.id  415515 non-null  object \n",
      "dtypes: float64(1), object(2)\n",
      "memory usage: 12.7+ MB\n"
     ]
    }
   ],
   "source": []
  },
  {
   "cell_type": "code",
   "execution_count": 290,
   "metadata": {
    "Collapsed": "false"
   },
   "outputs": [],
   "source": [
    "rating = pd.concat([nv, ta], axis = 0)"
   ]
  },
  {
   "cell_type": "code",
   "execution_count": 481,
   "metadata": {
    "Collapsed": "false"
   },
   "outputs": [],
   "source": [
    "rating.to_excel(os.path.join(\"..\",\"..\", \"data\",\"JS_10_data_rating.xlsx\"), index = False)"
   ]
  },
  {
   "cell_type": "code",
   "execution_count": 219,
   "metadata": {
    "Collapsed": "false"
   },
   "outputs": [],
   "source": [
    "rating_matrix['rating'] = rating_matrix['rating'].astype(float)"
   ]
  },
  {
   "cell_type": "code",
   "execution_count": 220,
   "metadata": {
    "Collapsed": "false"
   },
   "outputs": [],
   "source": [
    "rating_matrix = pd.pivot_table(rating_matrix, index = 'idno', columns = 'place.id', values = 'rating', fill_value=0)"
   ]
  },
  {
   "cell_type": "code",
   "execution_count": 225,
   "metadata": {
    "Collapsed": "false"
   },
   "outputs": [],
   "source": [
    "rating_matrix.to_pickle(os.path.join(\"..\",\"..\", \"data\",\"JS_10_data_rating_matrix.pickle\"))"
   ]
  },
  {
   "cell_type": "code",
   "execution_count": 474,
   "metadata": {
    "Collapsed": "false"
   },
   "outputs": [
    {
     "name": "stdout",
     "output_type": "stream",
     "text": [
      "<class 'pandas.core.frame.DataFrame'>\n",
      "Index: 65804 entries, 0002C7C9BF0686DB770487FD63B5C6F5 to zzi2\n",
      "Columns: 15439 entries, 776544 to 880014619\n",
      "dtypes: float64(7856), int64(7583)\n",
      "memory usage: 7.6+ GB\n"
     ]
    }
   ],
   "source": [
    "rating_matrix.info()"
   ]
  },
  {
   "cell_type": "code",
   "execution_count": null,
   "metadata": {
    "Collapsed": "false"
   },
   "outputs": [],
   "source": [
    "rating_matrix.to_excel(os.path.join(\"..\",\"..\", \"data\",\"JS_10_data_rating_matrix.xlsx\"), index = False)"
   ]
  },
  {
   "cell_type": "markdown",
   "metadata": {
    "Collapsed": "false"
   },
   "source": [
    "# places NaN 채우기"
   ]
  },
  {
   "cell_type": "code",
   "execution_count": 281,
   "metadata": {
    "Collapsed": "false"
   },
   "outputs": [
    {
     "data": {
      "text/html": [
       "<div>\n",
       "<style scoped>\n",
       "    .dataframe tbody tr th:only-of-type {\n",
       "        vertical-align: middle;\n",
       "    }\n",
       "\n",
       "    .dataframe tbody tr th {\n",
       "        vertical-align: top;\n",
       "    }\n",
       "\n",
       "    .dataframe thead th {\n",
       "        text-align: right;\n",
       "    }\n",
       "</style>\n",
       "<table border=\"1\" class=\"dataframe\">\n",
       "  <thead>\n",
       "    <tr style=\"text-align: right;\">\n",
       "      <th></th>\n",
       "      <th>place.id</th>\n",
       "      <th>place.name</th>\n",
       "      <th>place.category</th>\n",
       "      <th>review.count.again</th>\n",
       "      <th>review.allcount</th>\n",
       "      <th>place.count</th>\n",
       "      <th>review.avgcount</th>\n",
       "      <th>is_fch</th>\n",
       "      <th>rating</th>\n",
       "      <th>land.addr</th>\n",
       "      <th>lat</th>\n",
       "      <th>lng</th>\n",
       "    </tr>\n",
       "  </thead>\n",
       "  <tbody>\n",
       "    <tr>\n",
       "      <th>0</th>\n",
       "      <td>11605455</td>\n",
       "      <td>가미분식</td>\n",
       "      <td>종합분식</td>\n",
       "      <td>22.0</td>\n",
       "      <td>18625.0</td>\n",
       "      <td>2121.0</td>\n",
       "      <td>8.781235</td>\n",
       "      <td>0</td>\n",
       "      <td>4.217391</td>\n",
       "      <td>서울특별시 서대문구 대현동 54-1 무궁화상가아파트</td>\n",
       "      <td>37.558661</td>\n",
       "      <td>126.945960</td>\n",
       "    </tr>\n",
       "    <tr>\n",
       "      <th>1</th>\n",
       "      <td>10976694</td>\n",
       "      <td>유래회관</td>\n",
       "      <td>육류,고기요리-일반</td>\n",
       "      <td>18.0</td>\n",
       "      <td>24041.0</td>\n",
       "      <td>3347.0</td>\n",
       "      <td>7.182850</td>\n",
       "      <td>0</td>\n",
       "      <td>4.300000</td>\n",
       "      <td>서울특별시 성동구 홍익동 357 유래회관</td>\n",
       "      <td>37.566438</td>\n",
       "      <td>127.031591</td>\n",
       "    </tr>\n",
       "    <tr>\n",
       "      <th>2</th>\n",
       "      <td>11398664</td>\n",
       "      <td>대성갈비</td>\n",
       "      <td>육류,고기요리-일반</td>\n",
       "      <td>55.0</td>\n",
       "      <td>24041.0</td>\n",
       "      <td>3347.0</td>\n",
       "      <td>7.182850</td>\n",
       "      <td>0</td>\n",
       "      <td>4.216667</td>\n",
       "      <td>서울특별시 성동구 성수동1가 668-21</td>\n",
       "      <td>37.547073</td>\n",
       "      <td>127.044028</td>\n",
       "    </tr>\n",
       "    <tr>\n",
       "      <th>3</th>\n",
       "      <td>11663081</td>\n",
       "      <td>철길왕갈비살</td>\n",
       "      <td>육류,고기요리-일반</td>\n",
       "      <td>34.0</td>\n",
       "      <td>24041.0</td>\n",
       "      <td>3347.0</td>\n",
       "      <td>7.182850</td>\n",
       "      <td>0</td>\n",
       "      <td>4.400000</td>\n",
       "      <td>서울특별시 마포구 창전동 4-2</td>\n",
       "      <td>37.554546</td>\n",
       "      <td>126.931666</td>\n",
       "    </tr>\n",
       "    <tr>\n",
       "      <th>4</th>\n",
       "      <td>11677544</td>\n",
       "      <td>황소고집</td>\n",
       "      <td>육류,고기요리-일반</td>\n",
       "      <td>49.0</td>\n",
       "      <td>24041.0</td>\n",
       "      <td>3347.0</td>\n",
       "      <td>7.182850</td>\n",
       "      <td>0</td>\n",
       "      <td>4.379310</td>\n",
       "      <td>서울특별시 종로구 관철동 11-11</td>\n",
       "      <td>37.568593</td>\n",
       "      <td>126.986046</td>\n",
       "    </tr>\n",
       "    <tr>\n",
       "      <th>...</th>\n",
       "      <td>...</td>\n",
       "      <td>...</td>\n",
       "      <td>...</td>\n",
       "      <td>...</td>\n",
       "      <td>...</td>\n",
       "      <td>...</td>\n",
       "      <td>...</td>\n",
       "      <td>...</td>\n",
       "      <td>...</td>\n",
       "      <td>...</td>\n",
       "      <td>...</td>\n",
       "      <td>...</td>\n",
       "    </tr>\n",
       "    <tr>\n",
       "      <th>15172</th>\n",
       "      <td>10161356</td>\n",
       "      <td>모모카페 코트야드 서울 남대문</td>\n",
       "      <td>NaN</td>\n",
       "      <td>NaN</td>\n",
       "      <td>NaN</td>\n",
       "      <td>NaN</td>\n",
       "      <td>NaN</td>\n",
       "      <td>NaN</td>\n",
       "      <td>4.500000</td>\n",
       "      <td>서울특별시 중구 남대문로4가 17-23 남대문호텔</td>\n",
       "      <td>37.561200</td>\n",
       "      <td>126.976882</td>\n",
       "    </tr>\n",
       "    <tr>\n",
       "      <th>15173</th>\n",
       "      <td>3894901</td>\n",
       "      <td>스타벅스 경복궁역점</td>\n",
       "      <td>NaN</td>\n",
       "      <td>NaN</td>\n",
       "      <td>NaN</td>\n",
       "      <td>NaN</td>\n",
       "      <td>NaN</td>\n",
       "      <td>NaN</td>\n",
       "      <td>4.000000</td>\n",
       "      <td>서울특별시 종로구 통의동 35-41 우진빌딩</td>\n",
       "      <td>37.577200</td>\n",
       "      <td>126.972778</td>\n",
       "    </tr>\n",
       "    <tr>\n",
       "      <th>15174</th>\n",
       "      <td>948337</td>\n",
       "      <td>커피愛</td>\n",
       "      <td>NaN</td>\n",
       "      <td>NaN</td>\n",
       "      <td>NaN</td>\n",
       "      <td>NaN</td>\n",
       "      <td>NaN</td>\n",
       "      <td>NaN</td>\n",
       "      <td>4.500000</td>\n",
       "      <td>서울특별시 중구 명동2가 27-1</td>\n",
       "      <td>37.562855</td>\n",
       "      <td>126.985572</td>\n",
       "    </tr>\n",
       "    <tr>\n",
       "      <th>15175</th>\n",
       "      <td>9035619</td>\n",
       "      <td>해적선해물부페</td>\n",
       "      <td>NaN</td>\n",
       "      <td>NaN</td>\n",
       "      <td>NaN</td>\n",
       "      <td>NaN</td>\n",
       "      <td>NaN</td>\n",
       "      <td>NaN</td>\n",
       "      <td>4.000000</td>\n",
       "      <td>서울특별시 구로구 고척동 76-160 골든타워빌딩</td>\n",
       "      <td>37.497622</td>\n",
       "      <td>126.864067</td>\n",
       "    </tr>\n",
       "    <tr>\n",
       "      <th>15176</th>\n",
       "      <td>14969071</td>\n",
       "      <td>월화고기 - 보라매직영점</td>\n",
       "      <td>NaN</td>\n",
       "      <td>NaN</td>\n",
       "      <td>NaN</td>\n",
       "      <td>NaN</td>\n",
       "      <td>NaN</td>\n",
       "      <td>NaN</td>\n",
       "      <td>4.500000</td>\n",
       "      <td>서울특별시 관악구 봉천동 732-3</td>\n",
       "      <td>37.491641</td>\n",
       "      <td>126.926301</td>\n",
       "    </tr>\n",
       "  </tbody>\n",
       "</table>\n",
       "<p>15177 rows × 12 columns</p>\n",
       "</div>"
      ],
      "text/plain": [
       "       place.id        place.name place.category  review.count.again  \\\n",
       "0      11605455              가미분식           종합분식                22.0   \n",
       "1      10976694              유래회관     육류,고기요리-일반                18.0   \n",
       "2      11398664              대성갈비     육류,고기요리-일반                55.0   \n",
       "3      11663081            철길왕갈비살     육류,고기요리-일반                34.0   \n",
       "4      11677544              황소고집     육류,고기요리-일반                49.0   \n",
       "...         ...               ...            ...                 ...   \n",
       "15172  10161356  모모카페 코트야드 서울 남대문            NaN                 NaN   \n",
       "15173   3894901        스타벅스 경복궁역점            NaN                 NaN   \n",
       "15174    948337               커피愛            NaN                 NaN   \n",
       "15175   9035619           해적선해물부페            NaN                 NaN   \n",
       "15176  14969071     월화고기 - 보라매직영점            NaN                 NaN   \n",
       "\n",
       "       review.allcount  place.count  review.avgcount is_fch    rating  \\\n",
       "0              18625.0       2121.0         8.781235      0  4.217391   \n",
       "1              24041.0       3347.0         7.182850      0  4.300000   \n",
       "2              24041.0       3347.0         7.182850      0  4.216667   \n",
       "3              24041.0       3347.0         7.182850      0  4.400000   \n",
       "4              24041.0       3347.0         7.182850      0  4.379310   \n",
       "...                ...          ...              ...    ...       ...   \n",
       "15172              NaN          NaN              NaN    NaN  4.500000   \n",
       "15173              NaN          NaN              NaN    NaN  4.000000   \n",
       "15174              NaN          NaN              NaN    NaN  4.500000   \n",
       "15175              NaN          NaN              NaN    NaN  4.000000   \n",
       "15176              NaN          NaN              NaN    NaN  4.500000   \n",
       "\n",
       "                          land.addr        lat         lng  \n",
       "0      서울특별시 서대문구 대현동 54-1 무궁화상가아파트  37.558661  126.945960  \n",
       "1            서울특별시 성동구 홍익동 357 유래회관  37.566438  127.031591  \n",
       "2            서울특별시 성동구 성수동1가 668-21  37.547073  127.044028  \n",
       "3                 서울특별시 마포구 창전동 4-2  37.554546  126.931666  \n",
       "4               서울특별시 종로구 관철동 11-11  37.568593  126.986046  \n",
       "...                             ...        ...         ...  \n",
       "15172   서울특별시 중구 남대문로4가 17-23 남대문호텔  37.561200  126.976882  \n",
       "15173      서울특별시 종로구 통의동 35-41 우진빌딩  37.577200  126.972778  \n",
       "15174            서울특별시 중구 명동2가 27-1  37.562855  126.985572  \n",
       "15175   서울특별시 구로구 고척동 76-160 골든타워빌딩  37.497622  126.864067  \n",
       "15176           서울특별시 관악구 봉천동 732-3  37.491641  126.926301  \n",
       "\n",
       "[15177 rows x 12 columns]"
      ]
     },
     "execution_count": 281,
     "metadata": {},
     "output_type": "execute_result"
    }
   ],
   "source": [
    "places"
   ]
  },
  {
   "cell_type": "code",
   "execution_count": 332,
   "metadata": {
    "Collapsed": "false"
   },
   "outputs": [],
   "source": [
    "rating['place.id'] = rating['place.id'].astype(str)"
   ]
  },
  {
   "cell_type": "code",
   "execution_count": 333,
   "metadata": {
    "Collapsed": "false"
   },
   "outputs": [],
   "source": [
    "temp = rating.groupby('place.id')['idno'].count().reset_index()"
   ]
  },
  {
   "cell_type": "code",
   "execution_count": 337,
   "metadata": {
    "Collapsed": "false"
   },
   "outputs": [],
   "source": [
    "temp.columns = ['place.id', 'review.count']"
   ]
  },
  {
   "cell_type": "code",
   "execution_count": 349,
   "metadata": {
    "Collapsed": "false"
   },
   "outputs": [],
   "source": [
    "places = places.merge(temp, on = 'place.id', how = 'left')"
   ]
  },
  {
   "cell_type": "code",
   "execution_count": 350,
   "metadata": {
    "Collapsed": "false"
   },
   "outputs": [
    {
     "data": {
      "text/html": [
       "<div>\n",
       "<style scoped>\n",
       "    .dataframe tbody tr th:only-of-type {\n",
       "        vertical-align: middle;\n",
       "    }\n",
       "\n",
       "    .dataframe tbody tr th {\n",
       "        vertical-align: top;\n",
       "    }\n",
       "\n",
       "    .dataframe thead th {\n",
       "        text-align: right;\n",
       "    }\n",
       "</style>\n",
       "<table border=\"1\" class=\"dataframe\">\n",
       "  <thead>\n",
       "    <tr style=\"text-align: right;\">\n",
       "      <th></th>\n",
       "      <th>place.id</th>\n",
       "      <th>place.name</th>\n",
       "      <th>place.category</th>\n",
       "      <th>review.count.again</th>\n",
       "      <th>review.allcount</th>\n",
       "      <th>place.count</th>\n",
       "      <th>review.avgcount</th>\n",
       "      <th>is_fch</th>\n",
       "      <th>rating</th>\n",
       "      <th>land.addr</th>\n",
       "      <th>lat</th>\n",
       "      <th>lng</th>\n",
       "      <th>review.count</th>\n",
       "    </tr>\n",
       "  </thead>\n",
       "  <tbody>\n",
       "    <tr>\n",
       "      <th>6745</th>\n",
       "      <td>none</td>\n",
       "      <td>역사가 우리를 망쳐 놨지만 그래도 상관없다</td>\n",
       "      <td>한정식-일반</td>\n",
       "      <td>NaN</td>\n",
       "      <td>3215.0</td>\n",
       "      <td>430.0</td>\n",
       "      <td>7.476744</td>\n",
       "      <td>0</td>\n",
       "      <td>4.146667</td>\n",
       "      <td>서울특별시 용산구 용산동2가 17</td>\n",
       "      <td>37.545679</td>\n",
       "      <td>126.985451</td>\n",
       "      <td>NaN</td>\n",
       "    </tr>\n",
       "  </tbody>\n",
       "</table>\n",
       "</div>"
      ],
      "text/plain": [
       "     place.id               place.name place.category  review.count.again  \\\n",
       "6745     none  역사가 우리를 망쳐 놨지만 그래도 상관없다         한정식-일반                 NaN   \n",
       "\n",
       "      review.allcount  place.count  review.avgcount is_fch    rating  \\\n",
       "6745           3215.0        430.0         7.476744      0  4.146667   \n",
       "\n",
       "               land.addr        lat         lng  review.count  \n",
       "6745  서울특별시 용산구 용산동2가 17  37.545679  126.985451           NaN  "
      ]
     },
     "execution_count": 350,
     "metadata": {},
     "output_type": "execute_result"
    }
   ],
   "source": [
    "places.loc[places['review.count'].isnull()]"
   ]
  },
  {
   "cell_type": "code",
   "execution_count": 352,
   "metadata": {
    "Collapsed": "false"
   },
   "outputs": [],
   "source": [
    "places = places.drop(6745)"
   ]
  },
  {
   "cell_type": "code",
   "execution_count": 356,
   "metadata": {
    "Collapsed": "false"
   },
   "outputs": [],
   "source": [
    "places = places[['place.id', 'place.name', 'place.category', 'rating','review.count', 'is_fch', 'lat', 'lng', 'land.addr']]"
   ]
  },
  {
   "cell_type": "code",
   "execution_count": 358,
   "metadata": {
    "Collapsed": "false"
   },
   "outputs": [],
   "source": [
    "places.to_excel(os.path.join('..', '..', 'data', 'JS_10_data_places_v2.xlsx'))"
   ]
  },
  {
   "cell_type": "markdown",
   "metadata": {
    "Collapsed": "false"
   },
   "source": [
    "# Review"
   ]
  },
  {
   "cell_type": "code",
   "execution_count": 367,
   "metadata": {
    "Collapsed": "false"
   },
   "outputs": [],
   "source": [
    "nv = nv_review[['idno', 'rating', 'place.id', 'id']]\n",
    "ta= ta_review[['userId', 'rating', 'location.locationId', 'id']]"
   ]
  },
  {
   "cell_type": "code",
   "execution_count": 370,
   "metadata": {
    "Collapsed": "false"
   },
   "outputs": [],
   "source": [
    "nv = nv.rename(columns = {'id' : 'review.id'})\n",
    "ta.columns = ['idno', 'rating', 'place.id', 'review.id']"
   ]
  },
  {
   "cell_type": "code",
   "execution_count": 372,
   "metadata": {
    "Collapsed": "false"
   },
   "outputs": [],
   "source": [
    "reviews = pd.concat([nv, ta], axis = 0)"
   ]
  },
  {
   "cell_type": "code",
   "execution_count": 375,
   "metadata": {
    "Collapsed": "false"
   },
   "outputs": [
    {
     "data": {
      "text/html": [
       "<div>\n",
       "<style scoped>\n",
       "    .dataframe tbody tr th:only-of-type {\n",
       "        vertical-align: middle;\n",
       "    }\n",
       "\n",
       "    .dataframe tbody tr th {\n",
       "        vertical-align: top;\n",
       "    }\n",
       "\n",
       "    .dataframe thead th {\n",
       "        text-align: right;\n",
       "    }\n",
       "</style>\n",
       "<table border=\"1\" class=\"dataframe\">\n",
       "  <thead>\n",
       "    <tr style=\"text-align: right;\">\n",
       "      <th></th>\n",
       "      <th>idno</th>\n",
       "      <th>rating</th>\n",
       "      <th>place.id</th>\n",
       "      <th>review.id</th>\n",
       "    </tr>\n",
       "  </thead>\n",
       "  <tbody>\n",
       "    <tr>\n",
       "      <th>0</th>\n",
       "      <td>4TXey</td>\n",
       "      <td>4.5</td>\n",
       "      <td>1150710065</td>\n",
       "      <td>5ec7ec658160f100109a8368</td>\n",
       "    </tr>\n",
       "    <tr>\n",
       "      <th>1</th>\n",
       "      <td>awWC</td>\n",
       "      <td>5.0</td>\n",
       "      <td>1150710065</td>\n",
       "      <td>5d14eaa963951f37e4243fa5</td>\n",
       "    </tr>\n",
       "    <tr>\n",
       "      <th>2</th>\n",
       "      <td>1Unzg</td>\n",
       "      <td>5.0</td>\n",
       "      <td>1150710065</td>\n",
       "      <td>5e69024bf896230011648a61</td>\n",
       "    </tr>\n",
       "    <tr>\n",
       "      <th>3</th>\n",
       "      <td>LRVl</td>\n",
       "      <td>5.0</td>\n",
       "      <td>1150710065</td>\n",
       "      <td>5e4f98b95543c700113e18e7</td>\n",
       "    </tr>\n",
       "    <tr>\n",
       "      <th>4</th>\n",
       "      <td>ESN1</td>\n",
       "      <td>5.0</td>\n",
       "      <td>1150710065</td>\n",
       "      <td>5c8528bdf9e6b96d632ae302</td>\n",
       "    </tr>\n",
       "  </tbody>\n",
       "</table>\n",
       "</div>"
      ],
      "text/plain": [
       "    idno  rating    place.id                 review.id\n",
       "0  4TXey     4.5  1150710065  5ec7ec658160f100109a8368\n",
       "1   awWC     5.0  1150710065  5d14eaa963951f37e4243fa5\n",
       "2  1Unzg     5.0  1150710065  5e69024bf896230011648a61\n",
       "3   LRVl     5.0  1150710065  5e4f98b95543c700113e18e7\n",
       "4   ESN1     5.0  1150710065  5c8528bdf9e6b96d632ae302"
      ]
     },
     "execution_count": 375,
     "metadata": {},
     "output_type": "execute_result"
    }
   ],
   "source": [
    "reviews.head()"
   ]
  },
  {
   "cell_type": "code",
   "execution_count": 373,
   "metadata": {
    "Collapsed": "false"
   },
   "outputs": [
    {
     "data": {
      "text/plain": [
       "rating                                                          4.5\n",
       "body                                                            NaN\n",
       "visitCount                                                        2\n",
       "viewCount                                                         1\n",
       "thumbnail                                                      none\n",
       "status                                                    published\n",
       "media                                                            []\n",
       "id                                         5ec7ec658160f100109a8368\n",
       "__typename                                                   Review\n",
       "idno                                                          4TXey\n",
       "visitedDate.date                              2020. 05. 21 20:42:00\n",
       "visitedDate.displayDate                                     05.21 목\n",
       "visitedDate.displayDateTime                    2020. 05. 21 목 20:42\n",
       "visitedDate.__typename                                  VisitedTime\n",
       "place.id                                                 1150710065\n",
       "place.name                                             스타벅스 보라매공원R점\n",
       "place.category                                                 스타벅스\n",
       "place.categoryCode                                           221275\n",
       "place.categoryCodes                [220036, 220052, 220576, 221275]\n",
       "place.phone                                               1522-3232\n",
       "place.address                  서울특별시 동작구 신대방동 395-65 파크스퀘어,보라매현대APT\n",
       "place.__typename                                              Place\n",
       "isseoul                                                           1\n",
       "media_count                                                    none\n",
       "Name: 0, dtype: object"
      ]
     },
     "execution_count": 373,
     "metadata": {},
     "output_type": "execute_result"
    }
   ],
   "source": [
    "nv_review.loc[0]"
   ]
  },
  {
   "cell_type": "code",
   "execution_count": 417,
   "metadata": {
    "Collapsed": "false"
   },
   "outputs": [],
   "source": [
    "nv_review['photonum'] = nv_review['media'].apply(lambda x: x.count('IMAGE'))"
   ]
  },
  {
   "cell_type": "code",
   "execution_count": 424,
   "metadata": {
    "Collapsed": "false"
   },
   "outputs": [
    {
     "data": {
      "text/plain": [
       "155333    1118. 12. 29 11:58:00\n",
       "133583    1410. 04. 20 19:18:00\n",
       "306682    1991. 02. 01 00:00:00\n",
       "106279    1999. 07. 27 00:00:00\n",
       "324673    2000. 01. 13 13:26:00\n",
       "                  ...          \n",
       "151865    2020. 05. 30 23:49:43\n",
       "32948     2020. 05. 31 00:22:00\n",
       "330452    2020. 05. 31 00:29:49\n",
       "310458    2020. 05. 31 00:31:16\n",
       "243397    2020. 05. 31 00:47:19\n",
       "Name: visitedDate.date, Length: 333884, dtype: object"
      ]
     },
     "execution_count": 424,
     "metadata": {},
     "output_type": "execute_result"
    }
   ],
   "source": [
    "nv_review['visitedDate.date'].sort_values()"
   ]
  },
  {
   "cell_type": "code",
   "execution_count": 433,
   "metadata": {
    "Collapsed": "false"
   },
   "outputs": [],
   "source": [
    "nv_review.loc[155333, 'visitedDate.date'] = '2018-12-29 11:58:00'\n",
    "nv_review.loc[133583, 'visitedDate.date'] = '2010-04-20 19:18:00'"
   ]
  },
  {
   "cell_type": "code",
   "execution_count": 435,
   "metadata": {
    "Collapsed": "false"
   },
   "outputs": [],
   "source": [
    "nv_review['createdDate'] = nv_review['visitedDate.date'].astype(str).astype('datetime64') "
   ]
  },
  {
   "cell_type": "code",
   "execution_count": 452,
   "metadata": {
    "Collapsed": "false"
   },
   "outputs": [],
   "source": [
    "ta_review['photonum'] = ta_review['photos'].apply(lambda x: len(x))"
   ]
  },
  {
   "cell_type": "code",
   "execution_count": 438,
   "metadata": {
    "Collapsed": "false"
   },
   "outputs": [],
   "source": [
    "ta_review['createdDate'] = ta_review['createdDate'].astype(str).astype('datetime64')"
   ]
  },
  {
   "cell_type": "code",
   "execution_count": 363,
   "metadata": {
    "Collapsed": "false"
   },
   "outputs": [
    {
     "data": {
      "text/plain": [
       "__typename                                                                             Review\n",
       "createdDate                                                                        2018-03-14\n",
       "helpfulVotes                                                                                0\n",
       "id                                                                                  566403778\n",
       "language                                                                                   ko\n",
       "location.__typename                                                       LocationInformation\n",
       "location.additionalNames.long                                         Marco Polo, South Korea\n",
       "location.additionalNames.longOnlyParent                                           South Korea\n",
       "location.locationId                                                                    788542\n",
       "location.name                                                                      Marco Polo\n",
       "location.parent.additionalNames.long                                       Seoul, South Korea\n",
       "location.parent.locationId                                                             294197\n",
       "location.parentGeoId                                                                   294197\n",
       "location.placeType                                                                     EATERY\n",
       "photoIds                                                                                   []\n",
       "photos                                                                                     []\n",
       "rating                                                                                      5\n",
       "socialStatistics.followCount                                                                0\n",
       "socialStatistics.isFollowing                                                            False\n",
       "socialStatistics.isLiked                                                                False\n",
       "socialStatistics.isReposted                                                             False\n",
       "socialStatistics.isSaved                                                                False\n",
       "socialStatistics.likeCount                                                                  0\n",
       "socialStatistics.repostCount                                                                0\n",
       "socialStatistics.tripCount                                                                  0\n",
       "text                                        기념일 식사로 좋습니다. 음식도 무난한데 전망이 멋있어서 분위기 있게 와인 마시는걸...\n",
       "title                                                                                 야경이 이쁜곳\n",
       "userId                                                       7386DBCA506A3BEFD1691E858ACACFD6\n",
       "userProfile.contributionCounts.sumAllUgc                                                  108\n",
       "userProfile.isMe                                                                            0\n",
       "userProfile.isVerified                                                                      0\n",
       "userProfile.userId                                           7386DBCA506A3BEFD1691E858ACACFD6\n",
       "location_id                                                                            788542\n",
       "Name: 0, dtype: object"
      ]
     },
     "execution_count": 363,
     "metadata": {},
     "output_type": "execute_result"
    }
   ],
   "source": [
    "ta_review.loc[0]"
   ]
  },
  {
   "cell_type": "code",
   "execution_count": 454,
   "metadata": {
    "Collapsed": "false"
   },
   "outputs": [],
   "source": [
    "nv_review = nv_review[['id', 'rating', 'body', 'idno', 'place.id', 'place.name', 'photonum', 'createdDate']]"
   ]
  },
  {
   "cell_type": "code",
   "execution_count": 455,
   "metadata": {
    "Collapsed": "false"
   },
   "outputs": [],
   "source": [
    "ta_review = ta_review[['id', 'rating', 'text', 'userId', 'location.locationId', 'location.name', 'photonum', 'createdDate']]"
   ]
  },
  {
   "cell_type": "code",
   "execution_count": 457,
   "metadata": {
    "Collapsed": "false"
   },
   "outputs": [],
   "source": [
    "ta_review.columns = ['id', 'rating', 'body', 'idno', 'place.id', 'place.name', 'photonum', 'createdDate']"
   ]
  },
  {
   "cell_type": "code",
   "execution_count": 463,
   "metadata": {
    "Collapsed": "false"
   },
   "outputs": [],
   "source": [
    "reviews = pd.concat([nv_review, ta_review], axis = 0)"
   ]
  },
  {
   "cell_type": "code",
   "execution_count": 466,
   "metadata": {
    "Collapsed": "false"
   },
   "outputs": [],
   "source": [
    "reviews['place.id'] = reviews['place.id'].astype(str)"
   ]
  },
  {
   "cell_type": "code",
   "execution_count": 468,
   "metadata": {
    "Collapsed": "false"
   },
   "outputs": [],
   "source": [
    "reviews.to_excel(os.path.join('..', '..', 'data', 'JS_10_data_review.xlsx'), index = False)"
   ]
  }
 ],
 "metadata": {
  "kernelspec": {
   "display_name": "Python 3",
   "language": "python",
   "name": "python3"
  },
  "language_info": {
   "codemirror_mode": {
    "name": "ipython",
    "version": 3
   },
   "file_extension": ".py",
   "mimetype": "text/x-python",
   "name": "python",
   "nbconvert_exporter": "python",
   "pygments_lexer": "ipython3",
   "version": "3.7.6"
  }
 },
 "nbformat": 4,
 "nbformat_minor": 4
}
