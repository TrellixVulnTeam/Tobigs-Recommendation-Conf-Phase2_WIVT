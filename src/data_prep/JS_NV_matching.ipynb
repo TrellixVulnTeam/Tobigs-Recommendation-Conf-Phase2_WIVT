{
 "cells": [
  {
   "cell_type": "code",
   "execution_count": 1,
   "metadata": {
    "Collapsed": "false"
   },
   "outputs": [],
   "source": [
    "import os\n",
    "import gc\n",
    "import numpy as np\n",
    "import pandas as pd\n",
    "import JS_NV_crawler as JS"
   ]
  },
  {
   "cell_type": "markdown",
   "metadata": {
    "Collapsed": "false"
   },
   "source": [
    "# 데이터 로딩"
   ]
  },
  {
   "cell_type": "code",
   "execution_count": 227,
   "metadata": {
    "Collapsed": "false"
   },
   "outputs": [],
   "source": [
    "# 네이버 서울 음식점\n",
    "nv_place = pd.read_excel(os.path.join(\"..\",\"..\", \"data\",\"JS_0601_select_place.xlsx\"))"
   ]
  },
  {
   "cell_type": "code",
   "execution_count": 174,
   "metadata": {
    "Collapsed": "false"
   },
   "outputs": [],
   "source": [
    "# 트립어드바이저 서울 음식점\n",
    "ta_place = pd.read_excel(os.path.join(\"..\",\"..\", \"data\",\"TA_음식점_한글이름_주소_정보.xlsx\"))"
   ]
  },
  {
   "cell_type": "code",
   "execution_count": 7,
   "metadata": {
    "Collapsed": "false"
   },
   "outputs": [
    {
     "data": {
      "text/plain": [
       "(9867, 18)"
      ]
     },
     "execution_count": 7,
     "metadata": {},
     "output_type": "execute_result"
    }
   ],
   "source": [
    "nv_place.shape"
   ]
  },
  {
   "cell_type": "code",
   "execution_count": 8,
   "metadata": {
    "Collapsed": "false"
   },
   "outputs": [
    {
     "data": {
      "text/plain": [
       "(5574, 7)"
      ]
     },
     "execution_count": 8,
     "metadata": {},
     "output_type": "execute_result"
    }
   ],
   "source": [
    "ta_place.shape"
   ]
  },
  {
   "cell_type": "code",
   "execution_count": 67,
   "metadata": {
    "Collapsed": "false"
   },
   "outputs": [],
   "source": [
    "# 이름만으로 매칭되는 것은 900개 정도\n",
    "nv_place.merge(ta_place, left_on = 'place.name', right_on = 'name', how = 'inner')"
   ]
  },
  {
   "cell_type": "code",
   "execution_count": 109,
   "metadata": {
    "Collapsed": "false"
   },
   "outputs": [
    {
     "data": {
      "text/html": [
       "<div>\n",
       "<style scoped>\n",
       "    .dataframe tbody tr th:only-of-type {\n",
       "        vertical-align: middle;\n",
       "    }\n",
       "\n",
       "    .dataframe tbody tr th {\n",
       "        vertical-align: top;\n",
       "    }\n",
       "\n",
       "    .dataframe thead th {\n",
       "        text-align: right;\n",
       "    }\n",
       "</style>\n",
       "<table border=\"1\" class=\"dataframe\">\n",
       "  <thead>\n",
       "    <tr style=\"text-align: right;\">\n",
       "      <th></th>\n",
       "      <th>place.name</th>\n",
       "      <th>name</th>\n",
       "      <th>land.addr</th>\n",
       "      <th>lat_x</th>\n",
       "      <th>lng_x</th>\n",
       "      <th>lat_y</th>\n",
       "      <th>lng_y</th>\n",
       "    </tr>\n",
       "  </thead>\n",
       "  <tbody>\n",
       "    <tr>\n",
       "      <th>0</th>\n",
       "      <td>안동찜닭&amp;해물떡찜</td>\n",
       "      <td>커피빈 삼성오크우드점</td>\n",
       "      <td>서울특별시 강남구 삼성동 159 코엑스</td>\n",
       "      <td>37.511662</td>\n",
       "      <td>127.059427</td>\n",
       "      <td>37.511662</td>\n",
       "      <td>127.059427</td>\n",
       "    </tr>\n",
       "    <tr>\n",
       "      <th>1</th>\n",
       "      <td>안동찜닭&amp;해물떡찜</td>\n",
       "      <td>롯데리아</td>\n",
       "      <td>서울특별시 강남구 삼성동 159 코엑스</td>\n",
       "      <td>37.511662</td>\n",
       "      <td>127.059427</td>\n",
       "      <td>37.511662</td>\n",
       "      <td>127.059427</td>\n",
       "    </tr>\n",
       "    <tr>\n",
       "      <th>2</th>\n",
       "      <td>안동찜닭&amp;해물떡찜</td>\n",
       "      <td>테이블스타</td>\n",
       "      <td>서울특별시 강남구 삼성동 159 코엑스</td>\n",
       "      <td>37.511662</td>\n",
       "      <td>127.059427</td>\n",
       "      <td>37.511662</td>\n",
       "      <td>127.059427</td>\n",
       "    </tr>\n",
       "    <tr>\n",
       "      <th>3</th>\n",
       "      <td>안동찜닭&amp;해물떡찜</td>\n",
       "      <td>하동관 코엑스몰직영점</td>\n",
       "      <td>서울특별시 강남구 삼성동 159 코엑스</td>\n",
       "      <td>37.511662</td>\n",
       "      <td>127.059427</td>\n",
       "      <td>37.511662</td>\n",
       "      <td>127.059427</td>\n",
       "    </tr>\n",
       "    <tr>\n",
       "      <th>4</th>\n",
       "      <td>안동찜닭&amp;해물떡찜</td>\n",
       "      <td>테라로사</td>\n",
       "      <td>서울특별시 강남구 삼성동 159 코엑스</td>\n",
       "      <td>37.511662</td>\n",
       "      <td>127.059427</td>\n",
       "      <td>37.511662</td>\n",
       "      <td>127.059427</td>\n",
       "    </tr>\n",
       "  </tbody>\n",
       "</table>\n",
       "</div>"
      ],
      "text/plain": [
       "  place.name         name              land.addr      lat_x       lng_x  \\\n",
       "0  안동찜닭&해물떡찜  커피빈 삼성오크우드점  서울특별시 강남구 삼성동 159 코엑스  37.511662  127.059427   \n",
       "1  안동찜닭&해물떡찜         롯데리아  서울특별시 강남구 삼성동 159 코엑스  37.511662  127.059427   \n",
       "2  안동찜닭&해물떡찜        테이블스타  서울특별시 강남구 삼성동 159 코엑스  37.511662  127.059427   \n",
       "3  안동찜닭&해물떡찜  하동관 코엑스몰직영점  서울특별시 강남구 삼성동 159 코엑스  37.511662  127.059427   \n",
       "4  안동찜닭&해물떡찜         테라로사  서울특별시 강남구 삼성동 159 코엑스  37.511662  127.059427   \n",
       "\n",
       "       lat_y       lng_y  \n",
       "0  37.511662  127.059427  \n",
       "1  37.511662  127.059427  \n",
       "2  37.511662  127.059427  \n",
       "3  37.511662  127.059427  \n",
       "4  37.511662  127.059427  "
      ]
     },
     "execution_count": 109,
     "metadata": {},
     "output_type": "execute_result"
    }
   ],
   "source": [
    "# 주소로만 매칭하는 것도 안될 것 같음, 심지어 위경도도 같아버림\n",
    "nv_place.merge(ta_place, on = 'land.addr', how = 'inner').head(5)[['place.name', 'name', 'land.addr', 'lat_x', 'lng_x', 'lat_y', 'lng_y']]"
   ]
  },
  {
   "cell_type": "markdown",
   "metadata": {
    "Collapsed": "false"
   },
   "source": [
    "# ta 위경도 값 없는 것 가져오기"
   ]
  },
  {
   "cell_type": "code",
   "execution_count": 71,
   "metadata": {
    "Collapsed": "false"
   },
   "outputs": [],
   "source": [
    "addrs = ta_place['address']"
   ]
  },
  {
   "cell_type": "code",
   "execution_count": 72,
   "metadata": {
    "Collapsed": "false"
   },
   "outputs": [],
   "source": [
    "from tqdm import tqdm"
   ]
  },
  {
   "cell_type": "code",
   "execution_count": 73,
   "metadata": {
    "Collapsed": "false"
   },
   "outputs": [
    {
     "name": "stderr",
     "output_type": "stream",
     "text": [
      "100%|██████████| 5574/5574 [08:57<00:00, 10.37it/s] \n"
     ]
    }
   ],
   "source": [
    "addr_list = []\n",
    "for addr in tqdm(addrs):\n",
    "    value = JS.NVgeocoding(addr)\n",
    "    addr_list.append(value)"
   ]
  },
  {
   "cell_type": "markdown",
   "metadata": {
    "Collapsed": "false"
   },
   "source": [
    "# 트립어드바이저 새로운 주소 붙여주기"
   ]
  },
  {
   "cell_type": "code",
   "execution_count": 35,
   "metadata": {
    "Collapsed": "false"
   },
   "outputs": [],
   "source": [
    "temp = pd.DataFrame(addr_list, columns =['land.addr', 'road.addr', 'lat', 'lng'])"
   ]
  },
  {
   "cell_type": "code",
   "execution_count": 175,
   "metadata": {
    "Collapsed": "false"
   },
   "outputs": [],
   "source": [
    "ta_place = pd.concat([ta_place, temp], axis = 1)"
   ]
  },
  {
   "cell_type": "code",
   "execution_count": 205,
   "metadata": {
    "Collapsed": "false"
   },
   "outputs": [],
   "source": [
    "# 트립어드바이저 서울 음식점 위치 네이버로 업데이트\n",
    "ta_place.to_excel(os.path.join(\"..\",\"..\", \"data\",\"TA_음식점_한글이름_주소_정보.xlsx\"))"
   ]
  },
  {
   "cell_type": "markdown",
   "metadata": {
    "Collapsed": "false"
   },
   "source": [
    "# nv 와 ta 거리 계산하기 9000 * 5000"
   ]
  },
  {
   "cell_type": "code",
   "execution_count": 93,
   "metadata": {
    "Collapsed": "false"
   },
   "outputs": [],
   "source": [
    "from scipy.spatial import distance"
   ]
  },
  {
   "cell_type": "code",
   "execution_count": 110,
   "metadata": {
    "Collapsed": "false"
   },
   "outputs": [],
   "source": [
    "nv_place['lat'] = nv_place['lat'].astype(float)\n",
    "nv_place['lng'] = nv_place['lng'].astype(float)\n",
    "ta_place['lat'] = ta_place['lat'].astype(float)\n",
    "ta_place['lng'] = ta_place['lng'].astype(float)"
   ]
  },
  {
   "cell_type": "code",
   "execution_count": 111,
   "metadata": {
    "Collapsed": "false"
   },
   "outputs": [],
   "source": [
    "from tqdm import tqdm"
   ]
  },
  {
   "cell_type": "code",
   "execution_count": 112,
   "metadata": {
    "Collapsed": "false"
   },
   "outputs": [
    {
     "name": "stderr",
     "output_type": "stream",
     "text": [
      "100%|██████████| 9867/9867 [16:27<00:00,  9.99it/s]\n"
     ]
    }
   ],
   "source": [
    "i = 0\n",
    "total = []\n",
    "for args in tqdm(nv_place[['place.id','lat', 'lng']].values):\n",
    "    nv_idx = args[0]\n",
    "    n_lat, n_lng = args[1:]\n",
    "    dis_all = []\n",
    "    for kwargs in ta_place[['location_id', 'lat', 'lng']].values:\n",
    "        ta_idx = kwargs[0]\n",
    "        t_lat, t_lng = kwargs[1:]\n",
    "        dis = distance.euclidean((n_lat, n_lng), (t_lat, t_lng))\n",
    "        value = [nv_idx, ta_idx, dis]\n",
    "        dis_all.append(value)\n",
    "        \n",
    "    if float(min(np.array(dis_all)[:,2])) < 0.0001:\n",
    "        loc = np.argmin(np.array(dis_all)[:,2])\n",
    "        value = np.array(dis_all)[loc]\n",
    "    else:\n",
    "        value = 'none'\n",
    "    i += 1\n",
    "    total.append(value)"
   ]
  },
  {
   "cell_type": "code",
   "execution_count": 113,
   "metadata": {
    "Collapsed": "false"
   },
   "outputs": [
    {
     "data": {
      "text/plain": [
       "9867"
      ]
     },
     "execution_count": 113,
     "metadata": {},
     "output_type": "execute_result"
    }
   ],
   "source": [
    "len(total)"
   ]
  },
  {
   "cell_type": "code",
   "execution_count": 114,
   "metadata": {
    "Collapsed": "false"
   },
   "outputs": [],
   "source": [
    "total = pd.DataFrame(total)"
   ]
  },
  {
   "cell_type": "code",
   "execution_count": 139,
   "metadata": {
    "Collapsed": "false"
   },
   "outputs": [],
   "source": [
    "total['is_valid'] = total[0].apply(lambda x: 1 if len(str(x).split(',')[0]) > 4 else 0)"
   ]
  },
  {
   "cell_type": "code",
   "execution_count": 141,
   "metadata": {
    "Collapsed": "false"
   },
   "outputs": [],
   "source": [
    "total = total.loc[total['is_valid'] == 1]"
   ]
  },
  {
   "cell_type": "code",
   "execution_count": 161,
   "metadata": {
    "Collapsed": "false"
   },
   "outputs": [
    {
     "name": "stderr",
     "output_type": "stream",
     "text": [
      "/Users/jinseok/opt/anaconda3/lib/python3.7/site-packages/ipykernel_launcher.py:1: SettingWithCopyWarning: \n",
      "A value is trying to be set on a copy of a slice from a DataFrame.\n",
      "Try using .loc[row_indexer,col_indexer] = value instead\n",
      "\n",
      "See the caveats in the documentation: https://pandas.pydata.org/pandas-docs/stable/user_guide/indexing.html#returning-a-view-versus-a-copy\n",
      "  \"\"\"Entry point for launching an IPython kernel.\n",
      "/Users/jinseok/opt/anaconda3/lib/python3.7/site-packages/ipykernel_launcher.py:2: SettingWithCopyWarning: \n",
      "A value is trying to be set on a copy of a slice from a DataFrame.\n",
      "Try using .loc[row_indexer,col_indexer] = value instead\n",
      "\n",
      "See the caveats in the documentation: https://pandas.pydata.org/pandas-docs/stable/user_guide/indexing.html#returning-a-view-versus-a-copy\n",
      "  \n"
     ]
    }
   ],
   "source": [
    "total['place.id'] = total[0].apply(lambda x : x[0])\n",
    "total['location_id'] = total[0].apply(lambda x : x[1])"
   ]
  },
  {
   "cell_type": "code",
   "execution_count": 163,
   "metadata": {
    "Collapsed": "false"
   },
   "outputs": [
    {
     "name": "stderr",
     "output_type": "stream",
     "text": [
      "/Users/jinseok/opt/anaconda3/lib/python3.7/site-packages/pandas/core/frame.py:3997: SettingWithCopyWarning: \n",
      "A value is trying to be set on a copy of a slice from a DataFrame\n",
      "\n",
      "See the caveats in the documentation: https://pandas.pydata.org/pandas-docs/stable/user_guide/indexing.html#returning-a-view-versus-a-copy\n",
      "  errors=errors,\n"
     ]
    }
   ],
   "source": [
    "total.drop([0,'is_valid'], axis = 1, inplace = True)"
   ]
  },
  {
   "cell_type": "code",
   "execution_count": 164,
   "metadata": {
    "Collapsed": "false"
   },
   "outputs": [
    {
     "data": {
      "text/html": [
       "<div>\n",
       "<style scoped>\n",
       "    .dataframe tbody tr th:only-of-type {\n",
       "        vertical-align: middle;\n",
       "    }\n",
       "\n",
       "    .dataframe tbody tr th {\n",
       "        vertical-align: top;\n",
       "    }\n",
       "\n",
       "    .dataframe thead th {\n",
       "        text-align: right;\n",
       "    }\n",
       "</style>\n",
       "<table border=\"1\" class=\"dataframe\">\n",
       "  <thead>\n",
       "    <tr style=\"text-align: right;\">\n",
       "      <th></th>\n",
       "      <th>place.id</th>\n",
       "      <th>location_id</th>\n",
       "    </tr>\n",
       "  </thead>\n",
       "  <tbody>\n",
       "    <tr>\n",
       "      <th>14</th>\n",
       "      <td>33879152</td>\n",
       "      <td>9141260.0</td>\n",
       "    </tr>\n",
       "    <tr>\n",
       "      <th>34</th>\n",
       "      <td>36166539</td>\n",
       "      <td>3938485.0</td>\n",
       "    </tr>\n",
       "    <tr>\n",
       "      <th>62</th>\n",
       "      <td>11605455</td>\n",
       "      <td>2241571.0</td>\n",
       "    </tr>\n",
       "    <tr>\n",
       "      <th>81</th>\n",
       "      <td>1266909878</td>\n",
       "      <td>9318901.0</td>\n",
       "    </tr>\n",
       "    <tr>\n",
       "      <th>84</th>\n",
       "      <td>1288556612</td>\n",
       "      <td>3911442.0</td>\n",
       "    </tr>\n",
       "    <tr>\n",
       "      <th>...</th>\n",
       "      <td>...</td>\n",
       "      <td>...</td>\n",
       "    </tr>\n",
       "    <tr>\n",
       "      <th>9839</th>\n",
       "      <td>35162551</td>\n",
       "      <td>9029313.0</td>\n",
       "    </tr>\n",
       "    <tr>\n",
       "      <th>9840</th>\n",
       "      <td>36667369</td>\n",
       "      <td>8942305.0</td>\n",
       "    </tr>\n",
       "    <tr>\n",
       "      <th>9843</th>\n",
       "      <td>37204578</td>\n",
       "      <td>4034834.0</td>\n",
       "    </tr>\n",
       "    <tr>\n",
       "      <th>9844</th>\n",
       "      <td>38404658</td>\n",
       "      <td>9402393.0</td>\n",
       "    </tr>\n",
       "    <tr>\n",
       "      <th>9864</th>\n",
       "      <td>37663862</td>\n",
       "      <td>13964808.0</td>\n",
       "    </tr>\n",
       "  </tbody>\n",
       "</table>\n",
       "<p>1068 rows × 2 columns</p>\n",
       "</div>"
      ],
      "text/plain": [
       "        place.id location_id\n",
       "14      33879152   9141260.0\n",
       "34      36166539   3938485.0\n",
       "62      11605455   2241571.0\n",
       "81    1266909878   9318901.0\n",
       "84    1288556612   3911442.0\n",
       "...          ...         ...\n",
       "9839    35162551   9029313.0\n",
       "9840    36667369   8942305.0\n",
       "9843    37204578   4034834.0\n",
       "9844    38404658   9402393.0\n",
       "9864    37663862  13964808.0\n",
       "\n",
       "[1068 rows x 2 columns]"
      ]
     },
     "execution_count": 164,
     "metadata": {},
     "output_type": "execute_result"
    }
   ],
   "source": [
    "total"
   ]
  },
  {
   "cell_type": "code",
   "execution_count": 159,
   "metadata": {
    "Collapsed": "false"
   },
   "outputs": [],
   "source": [
    "def matchName(nv, ta):\n",
    "    nv_name = nv_place.loc[nv_place['place.id'] == nv, 'place.name'].values[0]\n",
    "    ta_name = ta_place.loc[ta_place['location_id'] == float(ta), 'name'].values[0]\n",
    "    return nv_name, ta_name"
   ]
  },
  {
   "cell_type": "code",
   "execution_count": 165,
   "metadata": {
    "Collapsed": "false"
   },
   "outputs": [
    {
     "data": {
      "text/plain": [
       "('부산아구', '첨벙아구찜')"
      ]
     },
     "execution_count": 165,
     "metadata": {},
     "output_type": "execute_result"
    }
   ],
   "source": [
    "matchName(*total.values[:,:2][0])"
   ]
  },
  {
   "cell_type": "code",
   "execution_count": 166,
   "metadata": {
    "Collapsed": "false"
   },
   "outputs": [],
   "source": [
    "total.to_excel(os.path.join(\"..\",\"..\", \"data\",\"JS_09_between_distance.xlsx\"))"
   ]
  },
  {
   "cell_type": "markdown",
   "metadata": {
    "Collapsed": "false"
   },
   "source": [
    "# idx 기준 주소와 이름 가져오기"
   ]
  },
  {
   "cell_type": "code",
   "execution_count": 180,
   "metadata": {
    "Collapsed": "false"
   },
   "outputs": [],
   "source": [
    "dt = total.copy()"
   ]
  },
  {
   "cell_type": "code",
   "execution_count": 177,
   "metadata": {
    "Collapsed": "false"
   },
   "outputs": [],
   "source": [
    "nv_place_t = nv_place[['place.id', 'place.name', 'land.addr']]"
   ]
  },
  {
   "cell_type": "code",
   "execution_count": 178,
   "metadata": {
    "Collapsed": "false"
   },
   "outputs": [],
   "source": [
    "ta_place_t = ta_place[['location_id', 'name', 'land.addr']]"
   ]
  },
  {
   "cell_type": "code",
   "execution_count": 181,
   "metadata": {
    "Collapsed": "false"
   },
   "outputs": [],
   "source": [
    "dt = dt.merge(nv_place_t, on = 'place.id', how = 'left')"
   ]
  },
  {
   "cell_type": "code",
   "execution_count": 182,
   "metadata": {
    "Collapsed": "false"
   },
   "outputs": [
    {
     "data": {
      "text/plain": [
       "0        9141260.0\n",
       "1        3938485.0\n",
       "2        2241571.0\n",
       "3        9318901.0\n",
       "4        3911442.0\n",
       "           ...    \n",
       "1063     9029313.0\n",
       "1064     8942305.0\n",
       "1065     4034834.0\n",
       "1066     9402393.0\n",
       "1067    13964808.0\n",
       "Name: location_id, Length: 1068, dtype: object"
      ]
     },
     "execution_count": 182,
     "metadata": {},
     "output_type": "execute_result"
    }
   ],
   "source": [
    "dt['location_id']"
   ]
  },
  {
   "cell_type": "code",
   "execution_count": 183,
   "metadata": {
    "Collapsed": "false"
   },
   "outputs": [],
   "source": [
    "dt['location_id'] = dt['location_id'].apply(lambda x : int(float(x)) if x != 'o' else x)"
   ]
  },
  {
   "cell_type": "code",
   "execution_count": 184,
   "metadata": {
    "Collapsed": "false"
   },
   "outputs": [],
   "source": [
    "dt = dt.merge(ta_place_t, on = 'location_id', how = 'left')"
   ]
  },
  {
   "cell_type": "code",
   "execution_count": 185,
   "metadata": {
    "Collapsed": "false"
   },
   "outputs": [
    {
     "data": {
      "text/html": [
       "<div>\n",
       "<style scoped>\n",
       "    .dataframe tbody tr th:only-of-type {\n",
       "        vertical-align: middle;\n",
       "    }\n",
       "\n",
       "    .dataframe tbody tr th {\n",
       "        vertical-align: top;\n",
       "    }\n",
       "\n",
       "    .dataframe thead th {\n",
       "        text-align: right;\n",
       "    }\n",
       "</style>\n",
       "<table border=\"1\" class=\"dataframe\">\n",
       "  <thead>\n",
       "    <tr style=\"text-align: right;\">\n",
       "      <th></th>\n",
       "      <th>place.id</th>\n",
       "      <th>location_id</th>\n",
       "      <th>place.name</th>\n",
       "      <th>land.addr_x</th>\n",
       "      <th>name</th>\n",
       "      <th>land.addr_y</th>\n",
       "    </tr>\n",
       "  </thead>\n",
       "  <tbody>\n",
       "    <tr>\n",
       "      <th>0</th>\n",
       "      <td>33879152</td>\n",
       "      <td>9141260</td>\n",
       "      <td>안동찜닭&amp;해물떡찜</td>\n",
       "      <td>서울특별시 강남구 삼성동 159 코엑스</td>\n",
       "      <td>커피빈 삼성오크우드점</td>\n",
       "      <td>서울특별시 강남구 삼성동 159 코엑스</td>\n",
       "    </tr>\n",
       "    <tr>\n",
       "      <th>1</th>\n",
       "      <td>36166539</td>\n",
       "      <td>3938485</td>\n",
       "      <td>에스키모 코엑스몰점</td>\n",
       "      <td>서울특별시 강남구 삼성동 159 코엑스인터콘티넨탈서울</td>\n",
       "      <td>아웃백 코엑스점</td>\n",
       "      <td>서울특별시 강남구 삼성동 159 코엑스인터콘티넨탈서울</td>\n",
       "    </tr>\n",
       "    <tr>\n",
       "      <th>2</th>\n",
       "      <td>11605455</td>\n",
       "      <td>2241571</td>\n",
       "      <td>가미분식</td>\n",
       "      <td>서울특별시 서대문구 대현동 54-1 무궁화상가아파트</td>\n",
       "      <td>가미 분식</td>\n",
       "      <td>서울특별시 서대문구 대현동 54-1 무궁화상가아파트</td>\n",
       "    </tr>\n",
       "    <tr>\n",
       "      <th>3</th>\n",
       "      <td>1266909878</td>\n",
       "      <td>9318901</td>\n",
       "      <td>우리두리</td>\n",
       "      <td>서울특별시 용산구 동자동 43-205 한국철도공사</td>\n",
       "      <td>파리크라상</td>\n",
       "      <td>서울특별시 용산구 동자동 43-205 한국철도공사</td>\n",
       "    </tr>\n",
       "    <tr>\n",
       "      <th>4</th>\n",
       "      <td>1288556612</td>\n",
       "      <td>3911442</td>\n",
       "      <td>마포만두</td>\n",
       "      <td>서울특별시 양천구 목1동 404-177 썬택씨티빌딩</td>\n",
       "      <td>스타벅스 오목교점</td>\n",
       "      <td>서울특별시 양천구 목동 404-177 썬택씨티빌딩</td>\n",
       "    </tr>\n",
       "    <tr>\n",
       "      <th>...</th>\n",
       "      <td>...</td>\n",
       "      <td>...</td>\n",
       "      <td>...</td>\n",
       "      <td>...</td>\n",
       "      <td>...</td>\n",
       "      <td>...</td>\n",
       "    </tr>\n",
       "    <tr>\n",
       "      <th>1063</th>\n",
       "      <td>35162551</td>\n",
       "      <td>9029313</td>\n",
       "      <td>계절밥상 용산아이파크몰점</td>\n",
       "      <td>서울특별시 용산구 한강로3가 40-999 용산역</td>\n",
       "      <td>계절밥상 - 용산아이파크몰점</td>\n",
       "      <td>서울특별시 용산구 한강로3가 40-999 용산역</td>\n",
       "    </tr>\n",
       "    <tr>\n",
       "      <th>1064</th>\n",
       "      <td>36667369</td>\n",
       "      <td>8942305</td>\n",
       "      <td>계절밥상 동대문롯데피트인점</td>\n",
       "      <td>서울특별시 중구 을지로6가 21-31 롯데 FiTin</td>\n",
       "      <td>엔제리너스</td>\n",
       "      <td>서울특별시 중구 을지로6가 21-31 롯데 FiTin</td>\n",
       "    </tr>\n",
       "    <tr>\n",
       "      <th>1065</th>\n",
       "      <td>37204578</td>\n",
       "      <td>4034834</td>\n",
       "      <td>계절밥상 잠실점</td>\n",
       "      <td>서울특별시 송파구 신천동 7-18 롯데캐슬골드</td>\n",
       "      <td>무스쿠스 잠실점</td>\n",
       "      <td>서울특별시 송파구 신천동 7-18 롯데캐슬골드</td>\n",
       "    </tr>\n",
       "    <tr>\n",
       "      <th>1066</th>\n",
       "      <td>38404658</td>\n",
       "      <td>9402393</td>\n",
       "      <td>계절밥상 서울역사점</td>\n",
       "      <td>서울특별시 중구 봉래동2가 122-11 경부고속철도서울민자역사</td>\n",
       "      <td>맥도날드</td>\n",
       "      <td>서울특별시 중구 봉래동2가 122-11 경부고속철도서울민자역사</td>\n",
       "    </tr>\n",
       "    <tr>\n",
       "      <th>1067</th>\n",
       "      <td>37663862</td>\n",
       "      <td>13964808</td>\n",
       "      <td>또보겠지떡볶이집 붕붕허니비점</td>\n",
       "      <td>서울특별시 마포구 동교동 153-3</td>\n",
       "      <td>또보겠지떡볶이집</td>\n",
       "      <td>서울특별시 마포구 동교동 153-3</td>\n",
       "    </tr>\n",
       "  </tbody>\n",
       "</table>\n",
       "<p>1068 rows × 6 columns</p>\n",
       "</div>"
      ],
      "text/plain": [
       "        place.id  location_id       place.name  \\\n",
       "0       33879152      9141260        안동찜닭&해물떡찜   \n",
       "1       36166539      3938485       에스키모 코엑스몰점   \n",
       "2       11605455      2241571             가미분식   \n",
       "3     1266909878      9318901             우리두리   \n",
       "4     1288556612      3911442             마포만두   \n",
       "...          ...          ...              ...   \n",
       "1063    35162551      9029313    계절밥상 용산아이파크몰점   \n",
       "1064    36667369      8942305   계절밥상 동대문롯데피트인점   \n",
       "1065    37204578      4034834         계절밥상 잠실점   \n",
       "1066    38404658      9402393       계절밥상 서울역사점   \n",
       "1067    37663862     13964808  또보겠지떡볶이집 붕붕허니비점   \n",
       "\n",
       "                             land.addr_x             name  \\\n",
       "0                  서울특별시 강남구 삼성동 159 코엑스      커피빈 삼성오크우드점   \n",
       "1          서울특별시 강남구 삼성동 159 코엑스인터콘티넨탈서울         아웃백 코엑스점   \n",
       "2           서울특별시 서대문구 대현동 54-1 무궁화상가아파트            가미 분식   \n",
       "3            서울특별시 용산구 동자동 43-205 한국철도공사            파리크라상   \n",
       "4           서울특별시 양천구 목1동 404-177 썬택씨티빌딩        스타벅스 오목교점   \n",
       "...                                  ...              ...   \n",
       "1063          서울특별시 용산구 한강로3가 40-999 용산역  계절밥상 - 용산아이파크몰점   \n",
       "1064       서울특별시 중구 을지로6가 21-31 롯데 FiTin            엔제리너스   \n",
       "1065           서울특별시 송파구 신천동 7-18 롯데캐슬골드         무스쿠스 잠실점   \n",
       "1066  서울특별시 중구 봉래동2가 122-11 경부고속철도서울민자역사             맥도날드   \n",
       "1067                 서울특별시 마포구 동교동 153-3         또보겠지떡볶이집   \n",
       "\n",
       "                             land.addr_y  \n",
       "0                  서울특별시 강남구 삼성동 159 코엑스  \n",
       "1          서울특별시 강남구 삼성동 159 코엑스인터콘티넨탈서울  \n",
       "2           서울특별시 서대문구 대현동 54-1 무궁화상가아파트  \n",
       "3            서울특별시 용산구 동자동 43-205 한국철도공사  \n",
       "4            서울특별시 양천구 목동 404-177 썬택씨티빌딩  \n",
       "...                                  ...  \n",
       "1063          서울특별시 용산구 한강로3가 40-999 용산역  \n",
       "1064       서울특별시 중구 을지로6가 21-31 롯데 FiTin  \n",
       "1065           서울특별시 송파구 신천동 7-18 롯데캐슬골드  \n",
       "1066  서울특별시 중구 봉래동2가 122-11 경부고속철도서울민자역사  \n",
       "1067                 서울특별시 마포구 동교동 153-3  \n",
       "\n",
       "[1068 rows x 6 columns]"
      ]
     },
     "execution_count": 185,
     "metadata": {},
     "output_type": "execute_result"
    }
   ],
   "source": [
    "dt"
   ]
  },
  {
   "cell_type": "code",
   "execution_count": 187,
   "metadata": {
    "Collapsed": "false"
   },
   "outputs": [],
   "source": [
    "dt = dt[['place.id', 'location_id', 'place.name', 'name', 'land.addr_x', 'land.addr_y']]"
   ]
  },
  {
   "cell_type": "code",
   "execution_count": 188,
   "metadata": {
    "Collapsed": "false"
   },
   "outputs": [
    {
     "data": {
      "text/html": [
       "<div>\n",
       "<style scoped>\n",
       "    .dataframe tbody tr th:only-of-type {\n",
       "        vertical-align: middle;\n",
       "    }\n",
       "\n",
       "    .dataframe tbody tr th {\n",
       "        vertical-align: top;\n",
       "    }\n",
       "\n",
       "    .dataframe thead th {\n",
       "        text-align: right;\n",
       "    }\n",
       "</style>\n",
       "<table border=\"1\" class=\"dataframe\">\n",
       "  <thead>\n",
       "    <tr style=\"text-align: right;\">\n",
       "      <th></th>\n",
       "      <th>place.id</th>\n",
       "      <th>location_id</th>\n",
       "      <th>place.name</th>\n",
       "      <th>name</th>\n",
       "      <th>land.addr_x</th>\n",
       "      <th>land.addr_y</th>\n",
       "    </tr>\n",
       "  </thead>\n",
       "  <tbody>\n",
       "    <tr>\n",
       "      <th>0</th>\n",
       "      <td>33879152</td>\n",
       "      <td>9141260</td>\n",
       "      <td>안동찜닭&amp;해물떡찜</td>\n",
       "      <td>커피빈 삼성오크우드점</td>\n",
       "      <td>서울특별시 강남구 삼성동 159 코엑스</td>\n",
       "      <td>서울특별시 강남구 삼성동 159 코엑스</td>\n",
       "    </tr>\n",
       "    <tr>\n",
       "      <th>1</th>\n",
       "      <td>36166539</td>\n",
       "      <td>3938485</td>\n",
       "      <td>에스키모 코엑스몰점</td>\n",
       "      <td>아웃백 코엑스점</td>\n",
       "      <td>서울특별시 강남구 삼성동 159 코엑스인터콘티넨탈서울</td>\n",
       "      <td>서울특별시 강남구 삼성동 159 코엑스인터콘티넨탈서울</td>\n",
       "    </tr>\n",
       "    <tr>\n",
       "      <th>2</th>\n",
       "      <td>11605455</td>\n",
       "      <td>2241571</td>\n",
       "      <td>가미분식</td>\n",
       "      <td>가미 분식</td>\n",
       "      <td>서울특별시 서대문구 대현동 54-1 무궁화상가아파트</td>\n",
       "      <td>서울특별시 서대문구 대현동 54-1 무궁화상가아파트</td>\n",
       "    </tr>\n",
       "    <tr>\n",
       "      <th>3</th>\n",
       "      <td>1266909878</td>\n",
       "      <td>9318901</td>\n",
       "      <td>우리두리</td>\n",
       "      <td>파리크라상</td>\n",
       "      <td>서울특별시 용산구 동자동 43-205 한국철도공사</td>\n",
       "      <td>서울특별시 용산구 동자동 43-205 한국철도공사</td>\n",
       "    </tr>\n",
       "    <tr>\n",
       "      <th>4</th>\n",
       "      <td>1288556612</td>\n",
       "      <td>3911442</td>\n",
       "      <td>마포만두</td>\n",
       "      <td>스타벅스 오목교점</td>\n",
       "      <td>서울특별시 양천구 목1동 404-177 썬택씨티빌딩</td>\n",
       "      <td>서울특별시 양천구 목동 404-177 썬택씨티빌딩</td>\n",
       "    </tr>\n",
       "    <tr>\n",
       "      <th>...</th>\n",
       "      <td>...</td>\n",
       "      <td>...</td>\n",
       "      <td>...</td>\n",
       "      <td>...</td>\n",
       "      <td>...</td>\n",
       "      <td>...</td>\n",
       "    </tr>\n",
       "    <tr>\n",
       "      <th>1063</th>\n",
       "      <td>35162551</td>\n",
       "      <td>9029313</td>\n",
       "      <td>계절밥상 용산아이파크몰점</td>\n",
       "      <td>계절밥상 - 용산아이파크몰점</td>\n",
       "      <td>서울특별시 용산구 한강로3가 40-999 용산역</td>\n",
       "      <td>서울특별시 용산구 한강로3가 40-999 용산역</td>\n",
       "    </tr>\n",
       "    <tr>\n",
       "      <th>1064</th>\n",
       "      <td>36667369</td>\n",
       "      <td>8942305</td>\n",
       "      <td>계절밥상 동대문롯데피트인점</td>\n",
       "      <td>엔제리너스</td>\n",
       "      <td>서울특별시 중구 을지로6가 21-31 롯데 FiTin</td>\n",
       "      <td>서울특별시 중구 을지로6가 21-31 롯데 FiTin</td>\n",
       "    </tr>\n",
       "    <tr>\n",
       "      <th>1065</th>\n",
       "      <td>37204578</td>\n",
       "      <td>4034834</td>\n",
       "      <td>계절밥상 잠실점</td>\n",
       "      <td>무스쿠스 잠실점</td>\n",
       "      <td>서울특별시 송파구 신천동 7-18 롯데캐슬골드</td>\n",
       "      <td>서울특별시 송파구 신천동 7-18 롯데캐슬골드</td>\n",
       "    </tr>\n",
       "    <tr>\n",
       "      <th>1066</th>\n",
       "      <td>38404658</td>\n",
       "      <td>9402393</td>\n",
       "      <td>계절밥상 서울역사점</td>\n",
       "      <td>맥도날드</td>\n",
       "      <td>서울특별시 중구 봉래동2가 122-11 경부고속철도서울민자역사</td>\n",
       "      <td>서울특별시 중구 봉래동2가 122-11 경부고속철도서울민자역사</td>\n",
       "    </tr>\n",
       "    <tr>\n",
       "      <th>1067</th>\n",
       "      <td>37663862</td>\n",
       "      <td>13964808</td>\n",
       "      <td>또보겠지떡볶이집 붕붕허니비점</td>\n",
       "      <td>또보겠지떡볶이집</td>\n",
       "      <td>서울특별시 마포구 동교동 153-3</td>\n",
       "      <td>서울특별시 마포구 동교동 153-3</td>\n",
       "    </tr>\n",
       "  </tbody>\n",
       "</table>\n",
       "<p>1068 rows × 6 columns</p>\n",
       "</div>"
      ],
      "text/plain": [
       "        place.id  location_id       place.name             name  \\\n",
       "0       33879152      9141260        안동찜닭&해물떡찜      커피빈 삼성오크우드점   \n",
       "1       36166539      3938485       에스키모 코엑스몰점         아웃백 코엑스점   \n",
       "2       11605455      2241571             가미분식            가미 분식   \n",
       "3     1266909878      9318901             우리두리            파리크라상   \n",
       "4     1288556612      3911442             마포만두        스타벅스 오목교점   \n",
       "...          ...          ...              ...              ...   \n",
       "1063    35162551      9029313    계절밥상 용산아이파크몰점  계절밥상 - 용산아이파크몰점   \n",
       "1064    36667369      8942305   계절밥상 동대문롯데피트인점            엔제리너스   \n",
       "1065    37204578      4034834         계절밥상 잠실점         무스쿠스 잠실점   \n",
       "1066    38404658      9402393       계절밥상 서울역사점             맥도날드   \n",
       "1067    37663862     13964808  또보겠지떡볶이집 붕붕허니비점         또보겠지떡볶이집   \n",
       "\n",
       "                             land.addr_x                         land.addr_y  \n",
       "0                  서울특별시 강남구 삼성동 159 코엑스               서울특별시 강남구 삼성동 159 코엑스  \n",
       "1          서울특별시 강남구 삼성동 159 코엑스인터콘티넨탈서울       서울특별시 강남구 삼성동 159 코엑스인터콘티넨탈서울  \n",
       "2           서울특별시 서대문구 대현동 54-1 무궁화상가아파트        서울특별시 서대문구 대현동 54-1 무궁화상가아파트  \n",
       "3            서울특별시 용산구 동자동 43-205 한국철도공사         서울특별시 용산구 동자동 43-205 한국철도공사  \n",
       "4           서울특별시 양천구 목1동 404-177 썬택씨티빌딩         서울특별시 양천구 목동 404-177 썬택씨티빌딩  \n",
       "...                                  ...                                 ...  \n",
       "1063          서울특별시 용산구 한강로3가 40-999 용산역          서울특별시 용산구 한강로3가 40-999 용산역  \n",
       "1064       서울특별시 중구 을지로6가 21-31 롯데 FiTin       서울특별시 중구 을지로6가 21-31 롯데 FiTin  \n",
       "1065           서울특별시 송파구 신천동 7-18 롯데캐슬골드           서울특별시 송파구 신천동 7-18 롯데캐슬골드  \n",
       "1066  서울특별시 중구 봉래동2가 122-11 경부고속철도서울민자역사  서울특별시 중구 봉래동2가 122-11 경부고속철도서울민자역사  \n",
       "1067                 서울특별시 마포구 동교동 153-3                 서울특별시 마포구 동교동 153-3  \n",
       "\n",
       "[1068 rows x 6 columns]"
      ]
     },
     "execution_count": 188,
     "metadata": {},
     "output_type": "execute_result"
    }
   ],
   "source": [
    "dt"
   ]
  },
  {
   "cell_type": "markdown",
   "metadata": {
    "Collapsed": "false"
   },
   "source": [
    "# 서로서로 이름이 속하면 같은 매장으로"
   ]
  },
  {
   "cell_type": "code",
   "execution_count": 189,
   "metadata": {
    "Collapsed": "false"
   },
   "outputs": [],
   "source": [
    "arg = dt.values[0]"
   ]
  },
  {
   "cell_type": "code",
   "execution_count": 191,
   "metadata": {
    "Collapsed": "false"
   },
   "outputs": [
    {
     "data": {
      "text/plain": [
       "('안동찜닭&해물떡찜', '커피빈 삼성오크우드점')"
      ]
     },
     "execution_count": 191,
     "metadata": {},
     "output_type": "execute_result"
    }
   ],
   "source": [
    "arg[2], arg[3]"
   ]
  },
  {
   "cell_type": "code",
   "execution_count": 192,
   "metadata": {
    "Collapsed": "false"
   },
   "outputs": [
    {
     "data": {
      "text/plain": [
       "'커피빈삼성오크우드점'"
      ]
     },
     "execution_count": 192,
     "metadata": {},
     "output_type": "execute_result"
    }
   ],
   "source": [
    "arg[3].replace(' ','')"
   ]
  },
  {
   "cell_type": "code",
   "execution_count": 201,
   "metadata": {
    "Collapsed": "false"
   },
   "outputs": [],
   "source": [
    "name_duplicate = []\n",
    "for arg in dt.values:\n",
    "    nv_name = arg[2].replace(' ', '')\n",
    "    ta_name = arg[3].replace(' ', '')\n",
    "    if nv_name in ta_name:\n",
    "        value = 1\n",
    "    elif ta_name in nv_name:\n",
    "        value = 1\n",
    "    else:\n",
    "        value = 0\n",
    "    name_duplicate.append(value)"
   ]
  },
  {
   "cell_type": "code",
   "execution_count": 202,
   "metadata": {
    "Collapsed": "false"
   },
   "outputs": [
    {
     "name": "stderr",
     "output_type": "stream",
     "text": [
      "/Users/jinseok/opt/anaconda3/lib/python3.7/site-packages/ipykernel_launcher.py:1: SettingWithCopyWarning: \n",
      "A value is trying to be set on a copy of a slice from a DataFrame.\n",
      "Try using .loc[row_indexer,col_indexer] = value instead\n",
      "\n",
      "See the caveats in the documentation: https://pandas.pydata.org/pandas-docs/stable/user_guide/indexing.html#returning-a-view-versus-a-copy\n",
      "  \"\"\"Entry point for launching an IPython kernel.\n"
     ]
    }
   ],
   "source": [
    "dt['name_duplicate'] = name_duplicate"
   ]
  },
  {
   "cell_type": "code",
   "execution_count": 203,
   "metadata": {
    "Collapsed": "false"
   },
   "outputs": [
    {
     "data": {
      "text/html": [
       "<div>\n",
       "<style scoped>\n",
       "    .dataframe tbody tr th:only-of-type {\n",
       "        vertical-align: middle;\n",
       "    }\n",
       "\n",
       "    .dataframe tbody tr th {\n",
       "        vertical-align: top;\n",
       "    }\n",
       "\n",
       "    .dataframe thead th {\n",
       "        text-align: right;\n",
       "    }\n",
       "</style>\n",
       "<table border=\"1\" class=\"dataframe\">\n",
       "  <thead>\n",
       "    <tr style=\"text-align: right;\">\n",
       "      <th></th>\n",
       "      <th>place.id</th>\n",
       "      <th>location_id</th>\n",
       "      <th>place.name</th>\n",
       "      <th>name</th>\n",
       "      <th>land.addr_x</th>\n",
       "      <th>land.addr_y</th>\n",
       "      <th>name_duplicate</th>\n",
       "    </tr>\n",
       "  </thead>\n",
       "  <tbody>\n",
       "    <tr>\n",
       "      <th>0</th>\n",
       "      <td>33879152</td>\n",
       "      <td>9141260</td>\n",
       "      <td>안동찜닭&amp;해물떡찜</td>\n",
       "      <td>커피빈 삼성오크우드점</td>\n",
       "      <td>서울특별시 강남구 삼성동 159 코엑스</td>\n",
       "      <td>서울특별시 강남구 삼성동 159 코엑스</td>\n",
       "      <td>0</td>\n",
       "    </tr>\n",
       "    <tr>\n",
       "      <th>1</th>\n",
       "      <td>36166539</td>\n",
       "      <td>3938485</td>\n",
       "      <td>에스키모 코엑스몰점</td>\n",
       "      <td>아웃백 코엑스점</td>\n",
       "      <td>서울특별시 강남구 삼성동 159 코엑스인터콘티넨탈서울</td>\n",
       "      <td>서울특별시 강남구 삼성동 159 코엑스인터콘티넨탈서울</td>\n",
       "      <td>0</td>\n",
       "    </tr>\n",
       "    <tr>\n",
       "      <th>2</th>\n",
       "      <td>11605455</td>\n",
       "      <td>2241571</td>\n",
       "      <td>가미분식</td>\n",
       "      <td>가미 분식</td>\n",
       "      <td>서울특별시 서대문구 대현동 54-1 무궁화상가아파트</td>\n",
       "      <td>서울특별시 서대문구 대현동 54-1 무궁화상가아파트</td>\n",
       "      <td>1</td>\n",
       "    </tr>\n",
       "    <tr>\n",
       "      <th>3</th>\n",
       "      <td>1266909878</td>\n",
       "      <td>9318901</td>\n",
       "      <td>우리두리</td>\n",
       "      <td>파리크라상</td>\n",
       "      <td>서울특별시 용산구 동자동 43-205 한국철도공사</td>\n",
       "      <td>서울특별시 용산구 동자동 43-205 한국철도공사</td>\n",
       "      <td>0</td>\n",
       "    </tr>\n",
       "    <tr>\n",
       "      <th>4</th>\n",
       "      <td>1288556612</td>\n",
       "      <td>3911442</td>\n",
       "      <td>마포만두</td>\n",
       "      <td>스타벅스 오목교점</td>\n",
       "      <td>서울특별시 양천구 목1동 404-177 썬택씨티빌딩</td>\n",
       "      <td>서울특별시 양천구 목동 404-177 썬택씨티빌딩</td>\n",
       "      <td>0</td>\n",
       "    </tr>\n",
       "    <tr>\n",
       "      <th>...</th>\n",
       "      <td>...</td>\n",
       "      <td>...</td>\n",
       "      <td>...</td>\n",
       "      <td>...</td>\n",
       "      <td>...</td>\n",
       "      <td>...</td>\n",
       "      <td>...</td>\n",
       "    </tr>\n",
       "    <tr>\n",
       "      <th>1063</th>\n",
       "      <td>35162551</td>\n",
       "      <td>9029313</td>\n",
       "      <td>계절밥상 용산아이파크몰점</td>\n",
       "      <td>계절밥상 - 용산아이파크몰점</td>\n",
       "      <td>서울특별시 용산구 한강로3가 40-999 용산역</td>\n",
       "      <td>서울특별시 용산구 한강로3가 40-999 용산역</td>\n",
       "      <td>0</td>\n",
       "    </tr>\n",
       "    <tr>\n",
       "      <th>1064</th>\n",
       "      <td>36667369</td>\n",
       "      <td>8942305</td>\n",
       "      <td>계절밥상 동대문롯데피트인점</td>\n",
       "      <td>엔제리너스</td>\n",
       "      <td>서울특별시 중구 을지로6가 21-31 롯데 FiTin</td>\n",
       "      <td>서울특별시 중구 을지로6가 21-31 롯데 FiTin</td>\n",
       "      <td>0</td>\n",
       "    </tr>\n",
       "    <tr>\n",
       "      <th>1065</th>\n",
       "      <td>37204578</td>\n",
       "      <td>4034834</td>\n",
       "      <td>계절밥상 잠실점</td>\n",
       "      <td>무스쿠스 잠실점</td>\n",
       "      <td>서울특별시 송파구 신천동 7-18 롯데캐슬골드</td>\n",
       "      <td>서울특별시 송파구 신천동 7-18 롯데캐슬골드</td>\n",
       "      <td>0</td>\n",
       "    </tr>\n",
       "    <tr>\n",
       "      <th>1066</th>\n",
       "      <td>38404658</td>\n",
       "      <td>9402393</td>\n",
       "      <td>계절밥상 서울역사점</td>\n",
       "      <td>맥도날드</td>\n",
       "      <td>서울특별시 중구 봉래동2가 122-11 경부고속철도서울민자역사</td>\n",
       "      <td>서울특별시 중구 봉래동2가 122-11 경부고속철도서울민자역사</td>\n",
       "      <td>0</td>\n",
       "    </tr>\n",
       "    <tr>\n",
       "      <th>1067</th>\n",
       "      <td>37663862</td>\n",
       "      <td>13964808</td>\n",
       "      <td>또보겠지떡볶이집 붕붕허니비점</td>\n",
       "      <td>또보겠지떡볶이집</td>\n",
       "      <td>서울특별시 마포구 동교동 153-3</td>\n",
       "      <td>서울특별시 마포구 동교동 153-3</td>\n",
       "      <td>1</td>\n",
       "    </tr>\n",
       "  </tbody>\n",
       "</table>\n",
       "<p>1068 rows × 7 columns</p>\n",
       "</div>"
      ],
      "text/plain": [
       "        place.id  location_id       place.name             name  \\\n",
       "0       33879152      9141260        안동찜닭&해물떡찜      커피빈 삼성오크우드점   \n",
       "1       36166539      3938485       에스키모 코엑스몰점         아웃백 코엑스점   \n",
       "2       11605455      2241571             가미분식            가미 분식   \n",
       "3     1266909878      9318901             우리두리            파리크라상   \n",
       "4     1288556612      3911442             마포만두        스타벅스 오목교점   \n",
       "...          ...          ...              ...              ...   \n",
       "1063    35162551      9029313    계절밥상 용산아이파크몰점  계절밥상 - 용산아이파크몰점   \n",
       "1064    36667369      8942305   계절밥상 동대문롯데피트인점            엔제리너스   \n",
       "1065    37204578      4034834         계절밥상 잠실점         무스쿠스 잠실점   \n",
       "1066    38404658      9402393       계절밥상 서울역사점             맥도날드   \n",
       "1067    37663862     13964808  또보겠지떡볶이집 붕붕허니비점         또보겠지떡볶이집   \n",
       "\n",
       "                             land.addr_x                         land.addr_y  \\\n",
       "0                  서울특별시 강남구 삼성동 159 코엑스               서울특별시 강남구 삼성동 159 코엑스   \n",
       "1          서울특별시 강남구 삼성동 159 코엑스인터콘티넨탈서울       서울특별시 강남구 삼성동 159 코엑스인터콘티넨탈서울   \n",
       "2           서울특별시 서대문구 대현동 54-1 무궁화상가아파트        서울특별시 서대문구 대현동 54-1 무궁화상가아파트   \n",
       "3            서울특별시 용산구 동자동 43-205 한국철도공사         서울특별시 용산구 동자동 43-205 한국철도공사   \n",
       "4           서울특별시 양천구 목1동 404-177 썬택씨티빌딩         서울특별시 양천구 목동 404-177 썬택씨티빌딩   \n",
       "...                                  ...                                 ...   \n",
       "1063          서울특별시 용산구 한강로3가 40-999 용산역          서울특별시 용산구 한강로3가 40-999 용산역   \n",
       "1064       서울특별시 중구 을지로6가 21-31 롯데 FiTin       서울특별시 중구 을지로6가 21-31 롯데 FiTin   \n",
       "1065           서울특별시 송파구 신천동 7-18 롯데캐슬골드           서울특별시 송파구 신천동 7-18 롯데캐슬골드   \n",
       "1066  서울특별시 중구 봉래동2가 122-11 경부고속철도서울민자역사  서울특별시 중구 봉래동2가 122-11 경부고속철도서울민자역사   \n",
       "1067                 서울특별시 마포구 동교동 153-3                 서울특별시 마포구 동교동 153-3   \n",
       "\n",
       "      name_duplicate  \n",
       "0                  0  \n",
       "1                  0  \n",
       "2                  1  \n",
       "3                  0  \n",
       "4                  0  \n",
       "...              ...  \n",
       "1063               0  \n",
       "1064               0  \n",
       "1065               0  \n",
       "1066               0  \n",
       "1067               1  \n",
       "\n",
       "[1068 rows x 7 columns]"
      ]
     },
     "execution_count": 203,
     "metadata": {},
     "output_type": "execute_result"
    }
   ],
   "source": [
    "dt"
   ]
  },
  {
   "cell_type": "code",
   "execution_count": 209,
   "metadata": {
    "Collapsed": "false"
   },
   "outputs": [
    {
     "data": {
      "text/html": [
       "<div>\n",
       "<style scoped>\n",
       "    .dataframe tbody tr th:only-of-type {\n",
       "        vertical-align: middle;\n",
       "    }\n",
       "\n",
       "    .dataframe tbody tr th {\n",
       "        vertical-align: top;\n",
       "    }\n",
       "\n",
       "    .dataframe thead th {\n",
       "        text-align: right;\n",
       "    }\n",
       "</style>\n",
       "<table border=\"1\" class=\"dataframe\">\n",
       "  <thead>\n",
       "    <tr style=\"text-align: right;\">\n",
       "      <th></th>\n",
       "      <th>place.id</th>\n",
       "      <th>location_id</th>\n",
       "      <th>place.name</th>\n",
       "      <th>name</th>\n",
       "      <th>land.addr_x</th>\n",
       "      <th>land.addr_y</th>\n",
       "      <th>name_duplicate</th>\n",
       "    </tr>\n",
       "  </thead>\n",
       "  <tbody>\n",
       "    <tr>\n",
       "      <th>2</th>\n",
       "      <td>11605455</td>\n",
       "      <td>2241571</td>\n",
       "      <td>가미분식</td>\n",
       "      <td>가미 분식</td>\n",
       "      <td>서울특별시 서대문구 대현동 54-1 무궁화상가아파트</td>\n",
       "      <td>서울특별시 서대문구 대현동 54-1 무궁화상가아파트</td>\n",
       "      <td>1</td>\n",
       "    </tr>\n",
       "    <tr>\n",
       "      <th>22</th>\n",
       "      <td>10976694</td>\n",
       "      <td>5926853</td>\n",
       "      <td>유래회관</td>\n",
       "      <td>유래회관</td>\n",
       "      <td>서울특별시 성동구 홍익동 357 유래회관</td>\n",
       "      <td>서울특별시 성동구 홍익동 357 유래회관</td>\n",
       "      <td>1</td>\n",
       "    </tr>\n",
       "    <tr>\n",
       "      <th>24</th>\n",
       "      <td>11398664</td>\n",
       "      <td>4032150</td>\n",
       "      <td>대성갈비</td>\n",
       "      <td>대성갈비</td>\n",
       "      <td>서울특별시 성동구 성수동1가 668-21</td>\n",
       "      <td>서울특별시 성동구 성수동1가 668-21</td>\n",
       "      <td>1</td>\n",
       "    </tr>\n",
       "    <tr>\n",
       "      <th>25</th>\n",
       "      <td>11663081</td>\n",
       "      <td>3922609</td>\n",
       "      <td>철길왕갈비살</td>\n",
       "      <td>철길 왕 갈비살</td>\n",
       "      <td>서울특별시 마포구 창전동 4-2</td>\n",
       "      <td>서울특별시 마포구 창전동 4-2</td>\n",
       "      <td>1</td>\n",
       "    </tr>\n",
       "    <tr>\n",
       "      <th>26</th>\n",
       "      <td>11677544</td>\n",
       "      <td>4033804</td>\n",
       "      <td>황소고집</td>\n",
       "      <td>황소고집</td>\n",
       "      <td>서울특별시 종로구 관철동 11-11</td>\n",
       "      <td>서울특별시 종로구 관철동 11-11</td>\n",
       "      <td>1</td>\n",
       "    </tr>\n",
       "    <tr>\n",
       "      <th>...</th>\n",
       "      <td>...</td>\n",
       "      <td>...</td>\n",
       "      <td>...</td>\n",
       "      <td>...</td>\n",
       "      <td>...</td>\n",
       "      <td>...</td>\n",
       "      <td>...</td>\n",
       "    </tr>\n",
       "    <tr>\n",
       "      <th>1029</th>\n",
       "      <td>12447840</td>\n",
       "      <td>4070735</td>\n",
       "      <td>김영모과자점 도곡타워점</td>\n",
       "      <td>김영모과자점 도곡타워점</td>\n",
       "      <td>서울특별시 강남구 도곡동 467-19 현대비전21</td>\n",
       "      <td>서울특별시 강남구 도곡2동 467-19 현대비전21</td>\n",
       "      <td>1</td>\n",
       "    </tr>\n",
       "    <tr>\n",
       "      <th>1030</th>\n",
       "      <td>13575110</td>\n",
       "      <td>6818439</td>\n",
       "      <td>미즈컨테이너 강남 웨스트</td>\n",
       "      <td>미즈컨테이너</td>\n",
       "      <td>서울특별시 서초구 서초동 1316-29 타임빌딩</td>\n",
       "      <td>서울특별시 서초구 서초동 1316-29 타임빌딩</td>\n",
       "      <td>1</td>\n",
       "    </tr>\n",
       "    <tr>\n",
       "      <th>1032</th>\n",
       "      <td>32817375</td>\n",
       "      <td>4784018</td>\n",
       "      <td>생어거스틴 경복궁점</td>\n",
       "      <td>생어거스틴 경복궁점</td>\n",
       "      <td>서울특별시 종로구 중학동 19 더케이트윈타워</td>\n",
       "      <td>서울특별시 종로구 중학동 19 더케이트윈타워</td>\n",
       "      <td>1</td>\n",
       "    </tr>\n",
       "    <tr>\n",
       "      <th>1039</th>\n",
       "      <td>33758018</td>\n",
       "      <td>8948116</td>\n",
       "      <td>아웃닭 홍대점</td>\n",
       "      <td>아웃닭</td>\n",
       "      <td>서울특별시 마포구 서교동 409-17</td>\n",
       "      <td>서울특별시 마포구 서교동 409-17</td>\n",
       "      <td>1</td>\n",
       "    </tr>\n",
       "    <tr>\n",
       "      <th>1067</th>\n",
       "      <td>37663862</td>\n",
       "      <td>13964808</td>\n",
       "      <td>또보겠지떡볶이집 붕붕허니비점</td>\n",
       "      <td>또보겠지떡볶이집</td>\n",
       "      <td>서울특별시 마포구 동교동 153-3</td>\n",
       "      <td>서울특별시 마포구 동교동 153-3</td>\n",
       "      <td>1</td>\n",
       "    </tr>\n",
       "  </tbody>\n",
       "</table>\n",
       "<p>227 rows × 7 columns</p>\n",
       "</div>"
      ],
      "text/plain": [
       "      place.id  location_id       place.name          name  \\\n",
       "2     11605455      2241571             가미분식         가미 분식   \n",
       "22    10976694      5926853             유래회관          유래회관   \n",
       "24    11398664      4032150             대성갈비          대성갈비   \n",
       "25    11663081      3922609           철길왕갈비살      철길 왕 갈비살   \n",
       "26    11677544      4033804             황소고집          황소고집   \n",
       "...        ...          ...              ...           ...   \n",
       "1029  12447840      4070735     김영모과자점 도곡타워점  김영모과자점 도곡타워점   \n",
       "1030  13575110      6818439    미즈컨테이너 강남 웨스트        미즈컨테이너   \n",
       "1032  32817375      4784018       생어거스틴 경복궁점    생어거스틴 경복궁점   \n",
       "1039  33758018      8948116          아웃닭 홍대점           아웃닭   \n",
       "1067  37663862     13964808  또보겠지떡볶이집 붕붕허니비점      또보겠지떡볶이집   \n",
       "\n",
       "                       land.addr_x                   land.addr_y  \\\n",
       "2     서울특별시 서대문구 대현동 54-1 무궁화상가아파트  서울특별시 서대문구 대현동 54-1 무궁화상가아파트   \n",
       "22          서울특별시 성동구 홍익동 357 유래회관        서울특별시 성동구 홍익동 357 유래회관   \n",
       "24          서울특별시 성동구 성수동1가 668-21        서울특별시 성동구 성수동1가 668-21   \n",
       "25               서울특별시 마포구 창전동 4-2             서울특별시 마포구 창전동 4-2   \n",
       "26             서울특별시 종로구 관철동 11-11           서울특별시 종로구 관철동 11-11   \n",
       "...                            ...                           ...   \n",
       "1029   서울특별시 강남구 도곡동 467-19 현대비전21  서울특별시 강남구 도곡2동 467-19 현대비전21   \n",
       "1030    서울특별시 서초구 서초동 1316-29 타임빌딩    서울특별시 서초구 서초동 1316-29 타임빌딩   \n",
       "1032      서울특별시 종로구 중학동 19 더케이트윈타워      서울특별시 종로구 중학동 19 더케이트윈타워   \n",
       "1039          서울특별시 마포구 서교동 409-17          서울특별시 마포구 서교동 409-17   \n",
       "1067           서울특별시 마포구 동교동 153-3           서울특별시 마포구 동교동 153-3   \n",
       "\n",
       "      name_duplicate  \n",
       "2                  1  \n",
       "22                 1  \n",
       "24                 1  \n",
       "25                 1  \n",
       "26                 1  \n",
       "...              ...  \n",
       "1029               1  \n",
       "1030               1  \n",
       "1032               1  \n",
       "1039               1  \n",
       "1067               1  \n",
       "\n",
       "[227 rows x 7 columns]"
      ]
     },
     "execution_count": 209,
     "metadata": {},
     "output_type": "execute_result"
    }
   ],
   "source": [
    "dt.loc[dt['name_duplicate'] == 1]"
   ]
  },
  {
   "cell_type": "code",
   "execution_count": 207,
   "metadata": {
    "Collapsed": "false"
   },
   "outputs": [],
   "source": [
    "dt.loc[dt['name_duplicate'] == 0].to_excel('./place_check.xlsx')"
   ]
  },
  {
   "cell_type": "code",
   "execution_count": 210,
   "metadata": {
    "Collapsed": "false"
   },
   "outputs": [],
   "source": [
    "dt2 = pd.read_excel('./place_check.xlsx')"
   ]
  },
  {
   "cell_type": "code",
   "execution_count": 215,
   "metadata": {
    "Collapsed": "false"
   },
   "outputs": [
    {
     "name": "stderr",
     "output_type": "stream",
     "text": [
      "/Users/jinseok/opt/anaconda3/lib/python3.7/site-packages/pandas/core/indexing.py:965: SettingWithCopyWarning: \n",
      "A value is trying to be set on a copy of a slice from a DataFrame.\n",
      "Try using .loc[row_indexer,col_indexer] = value instead\n",
      "\n",
      "See the caveats in the documentation: https://pandas.pydata.org/pandas-docs/stable/user_guide/indexing.html#returning-a-view-versus-a-copy\n",
      "  self.obj[item] = s\n"
     ]
    }
   ],
   "source": [
    "dt.loc[dt['name_duplicate'] == 0, 'name_duplicate'] = dt2['매칭여부'].values"
   ]
  },
  {
   "cell_type": "code",
   "execution_count": 230,
   "metadata": {
    "Collapsed": "false"
   },
   "outputs": [],
   "source": [
    "# 네이버와 트립어드바이저 같은 place\n",
    "same_place = dt.loc[dt['name_duplicate'] == 1, ['place.id', 'location_id']]"
   ]
  },
  {
   "cell_type": "code",
   "execution_count": 233,
   "metadata": {
    "Collapsed": "false"
   },
   "outputs": [],
   "source": [
    "same_place.to_excel(os.path.join(\"..\", \"..\", \"data\", \"JS_0602_same_place_index.xlsx\"))"
   ]
  },
  {
   "cell_type": "code",
   "execution_count": null,
   "metadata": {
    "Collapsed": "false"
   },
   "outputs": [],
   "source": []
  }
 ],
 "metadata": {
  "kernelspec": {
   "display_name": "Python 3",
   "language": "python",
   "name": "python3"
  },
  "language_info": {
   "codemirror_mode": {
    "name": "ipython",
    "version": 3
   },
   "file_extension": ".py",
   "mimetype": "text/x-python",
   "name": "python",
   "nbconvert_exporter": "python",
   "pygments_lexer": "ipython3",
   "version": "3.7.6"
  }
 },
 "nbformat": 4,
 "nbformat_minor": 4
}
