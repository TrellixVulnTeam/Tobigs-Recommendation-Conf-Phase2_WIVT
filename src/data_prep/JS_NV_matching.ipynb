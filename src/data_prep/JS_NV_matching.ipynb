{
 "cells": [
  {
   "cell_type": "code",
   "execution_count": 134,
   "metadata": {
    "Collapsed": "false"
   },
   "outputs": [],
   "source": [
    "import os\n",
    "import sys\n",
    "sys.path.append(os.path.join('..','data_collect'))\n",
    "import gc\n",
    "import numpy as np\n",
    "import pandas as pd\n",
    "import JS_NV_crawler as JS\n",
    "from tqdm import tqdm"
   ]
  },
  {
   "cell_type": "markdown",
   "metadata": {
    "Collapsed": "false"
   },
   "source": [
    "# 데이터 로딩"
   ]
  },
  {
   "cell_type": "code",
   "execution_count": 227,
   "metadata": {
    "Collapsed": "false"
   },
   "outputs": [],
   "source": [
    "# 네이버 서울 음식점\n",
    "nv_place = pd.read_excel(os.path.join(\"..\",\"..\", \"data\",\"JS_0601_select_place.xlsx\"))"
   ]
  },
  {
   "cell_type": "code",
   "execution_count": 174,
   "metadata": {
    "Collapsed": "false"
   },
   "outputs": [],
   "source": [
    "# 트립어드바이저 서울 음식점\n",
    "ta_place = pd.read_excel(os.path.join(\"..\",\"..\", \"data\",\"TA_음식점_한글이름_주소_정보.xlsx\"))"
   ]
  },
  {
   "cell_type": "code",
   "execution_count": 7,
   "metadata": {
    "Collapsed": "false"
   },
   "outputs": [
    {
     "data": {
      "text/plain": [
       "(9867, 18)"
      ]
     },
     "execution_count": 7,
     "metadata": {},
     "output_type": "execute_result"
    }
   ],
   "source": [
    "nv_place.shape"
   ]
  },
  {
   "cell_type": "code",
   "execution_count": 8,
   "metadata": {
    "Collapsed": "false"
   },
   "outputs": [
    {
     "data": {
      "text/plain": [
       "(5574, 7)"
      ]
     },
     "execution_count": 8,
     "metadata": {},
     "output_type": "execute_result"
    }
   ],
   "source": [
    "ta_place.shape"
   ]
  },
  {
   "cell_type": "code",
   "execution_count": 67,
   "metadata": {
    "Collapsed": "false"
   },
   "outputs": [],
   "source": [
    "# 이름만으로 매칭되는 것은 900개 정도\n",
    "nv_place.merge(ta_place, left_on = 'place.name', right_on = 'name', how = 'inner')"
   ]
  },
  {
   "cell_type": "code",
   "execution_count": 109,
   "metadata": {
    "Collapsed": "false"
   },
   "outputs": [
    {
     "data": {
      "text/html": [
       "<div>\n",
       "<style scoped>\n",
       "    .dataframe tbody tr th:only-of-type {\n",
       "        vertical-align: middle;\n",
       "    }\n",
       "\n",
       "    .dataframe tbody tr th {\n",
       "        vertical-align: top;\n",
       "    }\n",
       "\n",
       "    .dataframe thead th {\n",
       "        text-align: right;\n",
       "    }\n",
       "</style>\n",
       "<table border=\"1\" class=\"dataframe\">\n",
       "  <thead>\n",
       "    <tr style=\"text-align: right;\">\n",
       "      <th></th>\n",
       "      <th>place.name</th>\n",
       "      <th>name</th>\n",
       "      <th>land.addr</th>\n",
       "      <th>lat_x</th>\n",
       "      <th>lng_x</th>\n",
       "      <th>lat_y</th>\n",
       "      <th>lng_y</th>\n",
       "    </tr>\n",
       "  </thead>\n",
       "  <tbody>\n",
       "    <tr>\n",
       "      <th>0</th>\n",
       "      <td>안동찜닭&amp;해물떡찜</td>\n",
       "      <td>커피빈 삼성오크우드점</td>\n",
       "      <td>서울특별시 강남구 삼성동 159 코엑스</td>\n",
       "      <td>37.511662</td>\n",
       "      <td>127.059427</td>\n",
       "      <td>37.511662</td>\n",
       "      <td>127.059427</td>\n",
       "    </tr>\n",
       "    <tr>\n",
       "      <th>1</th>\n",
       "      <td>안동찜닭&amp;해물떡찜</td>\n",
       "      <td>롯데리아</td>\n",
       "      <td>서울특별시 강남구 삼성동 159 코엑스</td>\n",
       "      <td>37.511662</td>\n",
       "      <td>127.059427</td>\n",
       "      <td>37.511662</td>\n",
       "      <td>127.059427</td>\n",
       "    </tr>\n",
       "    <tr>\n",
       "      <th>2</th>\n",
       "      <td>안동찜닭&amp;해물떡찜</td>\n",
       "      <td>테이블스타</td>\n",
       "      <td>서울특별시 강남구 삼성동 159 코엑스</td>\n",
       "      <td>37.511662</td>\n",
       "      <td>127.059427</td>\n",
       "      <td>37.511662</td>\n",
       "      <td>127.059427</td>\n",
       "    </tr>\n",
       "    <tr>\n",
       "      <th>3</th>\n",
       "      <td>안동찜닭&amp;해물떡찜</td>\n",
       "      <td>하동관 코엑스몰직영점</td>\n",
       "      <td>서울특별시 강남구 삼성동 159 코엑스</td>\n",
       "      <td>37.511662</td>\n",
       "      <td>127.059427</td>\n",
       "      <td>37.511662</td>\n",
       "      <td>127.059427</td>\n",
       "    </tr>\n",
       "    <tr>\n",
       "      <th>4</th>\n",
       "      <td>안동찜닭&amp;해물떡찜</td>\n",
       "      <td>테라로사</td>\n",
       "      <td>서울특별시 강남구 삼성동 159 코엑스</td>\n",
       "      <td>37.511662</td>\n",
       "      <td>127.059427</td>\n",
       "      <td>37.511662</td>\n",
       "      <td>127.059427</td>\n",
       "    </tr>\n",
       "  </tbody>\n",
       "</table>\n",
       "</div>"
      ],
      "text/plain": [
       "  place.name         name              land.addr      lat_x       lng_x  \\\n",
       "0  안동찜닭&해물떡찜  커피빈 삼성오크우드점  서울특별시 강남구 삼성동 159 코엑스  37.511662  127.059427   \n",
       "1  안동찜닭&해물떡찜         롯데리아  서울특별시 강남구 삼성동 159 코엑스  37.511662  127.059427   \n",
       "2  안동찜닭&해물떡찜        테이블스타  서울특별시 강남구 삼성동 159 코엑스  37.511662  127.059427   \n",
       "3  안동찜닭&해물떡찜  하동관 코엑스몰직영점  서울특별시 강남구 삼성동 159 코엑스  37.511662  127.059427   \n",
       "4  안동찜닭&해물떡찜         테라로사  서울특별시 강남구 삼성동 159 코엑스  37.511662  127.059427   \n",
       "\n",
       "       lat_y       lng_y  \n",
       "0  37.511662  127.059427  \n",
       "1  37.511662  127.059427  \n",
       "2  37.511662  127.059427  \n",
       "3  37.511662  127.059427  \n",
       "4  37.511662  127.059427  "
      ]
     },
     "execution_count": 109,
     "metadata": {},
     "output_type": "execute_result"
    }
   ],
   "source": [
    "# 주소로만 매칭하는 것도 안될 것 같음, 심지어 위경도도 같아버림\n",
    "nv_place.merge(ta_place, on = 'land.addr', how = 'inner').head(5)[['place.name', 'name', 'land.addr', 'lat_x', 'lng_x', 'lat_y', 'lng_y']]"
   ]
  },
  {
   "cell_type": "markdown",
   "metadata": {
    "Collapsed": "false"
   },
   "source": [
    "# ta 위경도 값 없는 것 가져오기"
   ]
  },
  {
   "cell_type": "code",
   "execution_count": 71,
   "metadata": {
    "Collapsed": "false"
   },
   "outputs": [],
   "source": [
    "addrs = ta_place['address']"
   ]
  },
  {
   "cell_type": "code",
   "execution_count": 72,
   "metadata": {
    "Collapsed": "false"
   },
   "outputs": [],
   "source": [
    "from tqdm import tqdm"
   ]
  },
  {
   "cell_type": "code",
   "execution_count": 73,
   "metadata": {
    "Collapsed": "false"
   },
   "outputs": [
    {
     "name": "stderr",
     "output_type": "stream",
     "text": [
      "100%|██████████| 5574/5574 [08:57<00:00, 10.37it/s] \n"
     ]
    }
   ],
   "source": [
    "addr_list = []\n",
    "for addr in tqdm(addrs):\n",
    "    value = JS.NVgeocoding(addr)\n",
    "    addr_list.append(value)"
   ]
  },
  {
   "cell_type": "markdown",
   "metadata": {
    "Collapsed": "false"
   },
   "source": [
    "# 트립어드바이저 새로운 주소 붙여주기"
   ]
  },
  {
   "cell_type": "code",
   "execution_count": 35,
   "metadata": {
    "Collapsed": "false"
   },
   "outputs": [],
   "source": [
    "temp = pd.DataFrame(addr_list, columns =['land.addr', 'road.addr', 'lat', 'lng'])"
   ]
  },
  {
   "cell_type": "code",
   "execution_count": 175,
   "metadata": {
    "Collapsed": "false"
   },
   "outputs": [],
   "source": [
    "ta_place = pd.concat([ta_place, temp], axis = 1)"
   ]
  },
  {
   "cell_type": "code",
   "execution_count": 205,
   "metadata": {
    "Collapsed": "false"
   },
   "outputs": [],
   "source": [
    "# 트립어드바이저 서울 음식점 위치 네이버로 업데이트\n",
    "ta_place.to_excel(os.path.join(\"..\",\"..\", \"data\",\"TA_음식점_한글이름_주소_정보.xlsx\"))"
   ]
  },
  {
   "cell_type": "markdown",
   "metadata": {
    "Collapsed": "false"
   },
   "source": [
    "# nv 와 ta 거리 계산하기 9000 * 5000"
   ]
  },
  {
   "cell_type": "code",
   "execution_count": 158,
   "metadata": {
    "Collapsed": "false"
   },
   "outputs": [],
   "source": [
    "from scipy.spatial import distance"
   ]
  },
  {
   "cell_type": "code",
   "execution_count": 110,
   "metadata": {
    "Collapsed": "false"
   },
   "outputs": [],
   "source": [
    "nv_place['lat'] = nv_place['lat'].astype(float)\n",
    "nv_place['lng'] = nv_place['lng'].astype(float)\n",
    "ta_place['lat'] = ta_place['lat'].astype(float)\n",
    "ta_place['lng'] = ta_place['lng'].astype(float)"
   ]
  },
  {
   "cell_type": "code",
   "execution_count": 112,
   "metadata": {
    "Collapsed": "false"
   },
   "outputs": [
    {
     "name": "stderr",
     "output_type": "stream",
     "text": [
      "100%|██████████| 9867/9867 [16:27<00:00,  9.99it/s]\n"
     ]
    }
   ],
   "source": [
    "i = 0\n",
    "total = []\n",
    "for args in tqdm(nv_place[['place.id','lat', 'lng']].values):\n",
    "    nv_idx = args[0]\n",
    "    n_lat, n_lng = args[1:]\n",
    "    dis_all = []\n",
    "    for kwargs in ta_place[['location_id', 'lat', 'lng']].values:\n",
    "        ta_idx = kwargs[0]\n",
    "        t_lat, t_lng = kwargs[1:]\n",
    "        dis = distance.euclidean((n_lat, n_lng), (t_lat, t_lng))\n",
    "        value = [nv_idx, ta_idx, dis]\n",
    "        dis_all.append(value)\n",
    "        \n",
    "    if float(min(np.array(dis_all)[:,2])) < 0.0001:\n",
    "        loc = np.argmin(np.array(dis_all)[:,2])\n",
    "        value = np.array(dis_all)[loc]\n",
    "    else:\n",
    "        value = 'none'\n",
    "    i += 1\n",
    "    total.append(value)"
   ]
  },
  {
   "cell_type": "code",
   "execution_count": 113,
   "metadata": {
    "Collapsed": "false"
   },
   "outputs": [
    {
     "data": {
      "text/plain": [
       "9867"
      ]
     },
     "execution_count": 113,
     "metadata": {},
     "output_type": "execute_result"
    }
   ],
   "source": [
    "len(total)"
   ]
  },
  {
   "cell_type": "code",
   "execution_count": 114,
   "metadata": {
    "Collapsed": "false"
   },
   "outputs": [],
   "source": [
    "total = pd.DataFrame(total)"
   ]
  },
  {
   "cell_type": "code",
   "execution_count": 139,
   "metadata": {
    "Collapsed": "false"
   },
   "outputs": [],
   "source": [
    "total['is_valid'] = total[0].apply(lambda x: 1 if len(str(x).split(',')[0]) > 4 else 0)"
   ]
  },
  {
   "cell_type": "code",
   "execution_count": 141,
   "metadata": {
    "Collapsed": "false"
   },
   "outputs": [],
   "source": [
    "total = total.loc[total['is_valid'] == 1]"
   ]
  },
  {
   "cell_type": "code",
   "execution_count": 161,
   "metadata": {
    "Collapsed": "false"
   },
   "outputs": [
    {
     "name": "stderr",
     "output_type": "stream",
     "text": [
      "/Users/jinseok/opt/anaconda3/lib/python3.7/site-packages/ipykernel_launcher.py:1: SettingWithCopyWarning: \n",
      "A value is trying to be set on a copy of a slice from a DataFrame.\n",
      "Try using .loc[row_indexer,col_indexer] = value instead\n",
      "\n",
      "See the caveats in the documentation: https://pandas.pydata.org/pandas-docs/stable/user_guide/indexing.html#returning-a-view-versus-a-copy\n",
      "  \"\"\"Entry point for launching an IPython kernel.\n",
      "/Users/jinseok/opt/anaconda3/lib/python3.7/site-packages/ipykernel_launcher.py:2: SettingWithCopyWarning: \n",
      "A value is trying to be set on a copy of a slice from a DataFrame.\n",
      "Try using .loc[row_indexer,col_indexer] = value instead\n",
      "\n",
      "See the caveats in the documentation: https://pandas.pydata.org/pandas-docs/stable/user_guide/indexing.html#returning-a-view-versus-a-copy\n",
      "  \n"
     ]
    }
   ],
   "source": [
    "total['place.id'] = total[0].apply(lambda x : x[0])\n",
    "total['location_id'] = total[0].apply(lambda x : x[1])"
   ]
  },
  {
   "cell_type": "code",
   "execution_count": 163,
   "metadata": {
    "Collapsed": "false"
   },
   "outputs": [
    {
     "name": "stderr",
     "output_type": "stream",
     "text": [
      "/Users/jinseok/opt/anaconda3/lib/python3.7/site-packages/pandas/core/frame.py:3997: SettingWithCopyWarning: \n",
      "A value is trying to be set on a copy of a slice from a DataFrame\n",
      "\n",
      "See the caveats in the documentation: https://pandas.pydata.org/pandas-docs/stable/user_guide/indexing.html#returning-a-view-versus-a-copy\n",
      "  errors=errors,\n"
     ]
    }
   ],
   "source": [
    "total.drop([0,'is_valid'], axis = 1, inplace = True)"
   ]
  },
  {
   "cell_type": "code",
   "execution_count": 164,
   "metadata": {
    "Collapsed": "false"
   },
   "outputs": [
    {
     "data": {
      "text/html": [
       "<div>\n",
       "<style scoped>\n",
       "    .dataframe tbody tr th:only-of-type {\n",
       "        vertical-align: middle;\n",
       "    }\n",
       "\n",
       "    .dataframe tbody tr th {\n",
       "        vertical-align: top;\n",
       "    }\n",
       "\n",
       "    .dataframe thead th {\n",
       "        text-align: right;\n",
       "    }\n",
       "</style>\n",
       "<table border=\"1\" class=\"dataframe\">\n",
       "  <thead>\n",
       "    <tr style=\"text-align: right;\">\n",
       "      <th></th>\n",
       "      <th>place.id</th>\n",
       "      <th>location_id</th>\n",
       "    </tr>\n",
       "  </thead>\n",
       "  <tbody>\n",
       "    <tr>\n",
       "      <th>14</th>\n",
       "      <td>33879152</td>\n",
       "      <td>9141260.0</td>\n",
       "    </tr>\n",
       "    <tr>\n",
       "      <th>34</th>\n",
       "      <td>36166539</td>\n",
       "      <td>3938485.0</td>\n",
       "    </tr>\n",
       "    <tr>\n",
       "      <th>62</th>\n",
       "      <td>11605455</td>\n",
       "      <td>2241571.0</td>\n",
       "    </tr>\n",
       "    <tr>\n",
       "      <th>81</th>\n",
       "      <td>1266909878</td>\n",
       "      <td>9318901.0</td>\n",
       "    </tr>\n",
       "    <tr>\n",
       "      <th>84</th>\n",
       "      <td>1288556612</td>\n",
       "      <td>3911442.0</td>\n",
       "    </tr>\n",
       "    <tr>\n",
       "      <th>...</th>\n",
       "      <td>...</td>\n",
       "      <td>...</td>\n",
       "    </tr>\n",
       "    <tr>\n",
       "      <th>9839</th>\n",
       "      <td>35162551</td>\n",
       "      <td>9029313.0</td>\n",
       "    </tr>\n",
       "    <tr>\n",
       "      <th>9840</th>\n",
       "      <td>36667369</td>\n",
       "      <td>8942305.0</td>\n",
       "    </tr>\n",
       "    <tr>\n",
       "      <th>9843</th>\n",
       "      <td>37204578</td>\n",
       "      <td>4034834.0</td>\n",
       "    </tr>\n",
       "    <tr>\n",
       "      <th>9844</th>\n",
       "      <td>38404658</td>\n",
       "      <td>9402393.0</td>\n",
       "    </tr>\n",
       "    <tr>\n",
       "      <th>9864</th>\n",
       "      <td>37663862</td>\n",
       "      <td>13964808.0</td>\n",
       "    </tr>\n",
       "  </tbody>\n",
       "</table>\n",
       "<p>1068 rows × 2 columns</p>\n",
       "</div>"
      ],
      "text/plain": [
       "        place.id location_id\n",
       "14      33879152   9141260.0\n",
       "34      36166539   3938485.0\n",
       "62      11605455   2241571.0\n",
       "81    1266909878   9318901.0\n",
       "84    1288556612   3911442.0\n",
       "...          ...         ...\n",
       "9839    35162551   9029313.0\n",
       "9840    36667369   8942305.0\n",
       "9843    37204578   4034834.0\n",
       "9844    38404658   9402393.0\n",
       "9864    37663862  13964808.0\n",
       "\n",
       "[1068 rows x 2 columns]"
      ]
     },
     "execution_count": 164,
     "metadata": {},
     "output_type": "execute_result"
    }
   ],
   "source": [
    "total"
   ]
  },
  {
   "cell_type": "code",
   "execution_count": 159,
   "metadata": {
    "Collapsed": "false"
   },
   "outputs": [],
   "source": [
    "def matchName(nv, ta):\n",
    "    nv_name = nv_place.loc[nv_place['place.id'] == nv, 'place.name'].values[0]\n",
    "    ta_name = ta_place.loc[ta_place['location_id'] == float(ta), 'name'].values[0]\n",
    "    return nv_name, ta_name"
   ]
  },
  {
   "cell_type": "code",
   "execution_count": 165,
   "metadata": {
    "Collapsed": "false"
   },
   "outputs": [
    {
     "data": {
      "text/plain": [
       "('부산아구', '첨벙아구찜')"
      ]
     },
     "execution_count": 165,
     "metadata": {},
     "output_type": "execute_result"
    }
   ],
   "source": [
    "matchName(*total.values[:,:2][0])"
   ]
  },
  {
   "cell_type": "code",
   "execution_count": 166,
   "metadata": {
    "Collapsed": "false"
   },
   "outputs": [],
   "source": [
    "total.to_excel(os.path.join(\"..\",\"..\", \"data\",\"JS_09_between_distance.xlsx\"))"
   ]
  },
  {
   "cell_type": "markdown",
   "metadata": {
    "Collapsed": "false"
   },
   "source": [
    "# idx 기준 주소와 이름 가져오기"
   ]
  },
  {
   "cell_type": "code",
   "execution_count": 180,
   "metadata": {
    "Collapsed": "false"
   },
   "outputs": [],
   "source": [
    "dt = total.copy()"
   ]
  },
  {
   "cell_type": "code",
   "execution_count": 177,
   "metadata": {
    "Collapsed": "false"
   },
   "outputs": [],
   "source": [
    "nv_place_t = nv_place[['place.id', 'place.name', 'land.addr']]"
   ]
  },
  {
   "cell_type": "code",
   "execution_count": 178,
   "metadata": {
    "Collapsed": "false"
   },
   "outputs": [],
   "source": [
    "ta_place_t = ta_place[['location_id', 'name', 'land.addr']]"
   ]
  },
  {
   "cell_type": "code",
   "execution_count": 181,
   "metadata": {
    "Collapsed": "false"
   },
   "outputs": [],
   "source": [
    "dt = dt.merge(nv_place_t, on = 'place.id', how = 'left')"
   ]
  },
  {
   "cell_type": "code",
   "execution_count": 182,
   "metadata": {
    "Collapsed": "false"
   },
   "outputs": [
    {
     "data": {
      "text/plain": [
       "0        9141260.0\n",
       "1        3938485.0\n",
       "2        2241571.0\n",
       "3        9318901.0\n",
       "4        3911442.0\n",
       "           ...    \n",
       "1063     9029313.0\n",
       "1064     8942305.0\n",
       "1065     4034834.0\n",
       "1066     9402393.0\n",
       "1067    13964808.0\n",
       "Name: location_id, Length: 1068, dtype: object"
      ]
     },
     "execution_count": 182,
     "metadata": {},
     "output_type": "execute_result"
    }
   ],
   "source": [
    "dt['location_id']"
   ]
  },
  {
   "cell_type": "code",
   "execution_count": 183,
   "metadata": {
    "Collapsed": "false"
   },
   "outputs": [],
   "source": [
    "dt['location_id'] = dt['location_id'].apply(lambda x : int(float(x)) if x != 'o' else x)"
   ]
  },
  {
   "cell_type": "code",
   "execution_count": 184,
   "metadata": {
    "Collapsed": "false"
   },
   "outputs": [],
   "source": [
    "dt = dt.merge(ta_place_t, on = 'location_id', how = 'left')"
   ]
  },
  {
   "cell_type": "code",
   "execution_count": 185,
   "metadata": {
    "Collapsed": "false"
   },
   "outputs": [
    {
     "data": {
      "text/html": [
       "<div>\n",
       "<style scoped>\n",
       "    .dataframe tbody tr th:only-of-type {\n",
       "        vertical-align: middle;\n",
       "    }\n",
       "\n",
       "    .dataframe tbody tr th {\n",
       "        vertical-align: top;\n",
       "    }\n",
       "\n",
       "    .dataframe thead th {\n",
       "        text-align: right;\n",
       "    }\n",
       "</style>\n",
       "<table border=\"1\" class=\"dataframe\">\n",
       "  <thead>\n",
       "    <tr style=\"text-align: right;\">\n",
       "      <th></th>\n",
       "      <th>place.id</th>\n",
       "      <th>location_id</th>\n",
       "      <th>place.name</th>\n",
       "      <th>land.addr_x</th>\n",
       "      <th>name</th>\n",
       "      <th>land.addr_y</th>\n",
       "    </tr>\n",
       "  </thead>\n",
       "  <tbody>\n",
       "    <tr>\n",
       "      <th>0</th>\n",
       "      <td>33879152</td>\n",
       "      <td>9141260</td>\n",
       "      <td>안동찜닭&amp;해물떡찜</td>\n",
       "      <td>서울특별시 강남구 삼성동 159 코엑스</td>\n",
       "      <td>커피빈 삼성오크우드점</td>\n",
       "      <td>서울특별시 강남구 삼성동 159 코엑스</td>\n",
       "    </tr>\n",
       "    <tr>\n",
       "      <th>1</th>\n",
       "      <td>36166539</td>\n",
       "      <td>3938485</td>\n",
       "      <td>에스키모 코엑스몰점</td>\n",
       "      <td>서울특별시 강남구 삼성동 159 코엑스인터콘티넨탈서울</td>\n",
       "      <td>아웃백 코엑스점</td>\n",
       "      <td>서울특별시 강남구 삼성동 159 코엑스인터콘티넨탈서울</td>\n",
       "    </tr>\n",
       "    <tr>\n",
       "      <th>2</th>\n",
       "      <td>11605455</td>\n",
       "      <td>2241571</td>\n",
       "      <td>가미분식</td>\n",
       "      <td>서울특별시 서대문구 대현동 54-1 무궁화상가아파트</td>\n",
       "      <td>가미 분식</td>\n",
       "      <td>서울특별시 서대문구 대현동 54-1 무궁화상가아파트</td>\n",
       "    </tr>\n",
       "    <tr>\n",
       "      <th>3</th>\n",
       "      <td>1266909878</td>\n",
       "      <td>9318901</td>\n",
       "      <td>우리두리</td>\n",
       "      <td>서울특별시 용산구 동자동 43-205 한국철도공사</td>\n",
       "      <td>파리크라상</td>\n",
       "      <td>서울특별시 용산구 동자동 43-205 한국철도공사</td>\n",
       "    </tr>\n",
       "    <tr>\n",
       "      <th>4</th>\n",
       "      <td>1288556612</td>\n",
       "      <td>3911442</td>\n",
       "      <td>마포만두</td>\n",
       "      <td>서울특별시 양천구 목1동 404-177 썬택씨티빌딩</td>\n",
       "      <td>스타벅스 오목교점</td>\n",
       "      <td>서울특별시 양천구 목동 404-177 썬택씨티빌딩</td>\n",
       "    </tr>\n",
       "    <tr>\n",
       "      <th>...</th>\n",
       "      <td>...</td>\n",
       "      <td>...</td>\n",
       "      <td>...</td>\n",
       "      <td>...</td>\n",
       "      <td>...</td>\n",
       "      <td>...</td>\n",
       "    </tr>\n",
       "    <tr>\n",
       "      <th>1063</th>\n",
       "      <td>35162551</td>\n",
       "      <td>9029313</td>\n",
       "      <td>계절밥상 용산아이파크몰점</td>\n",
       "      <td>서울특별시 용산구 한강로3가 40-999 용산역</td>\n",
       "      <td>계절밥상 - 용산아이파크몰점</td>\n",
       "      <td>서울특별시 용산구 한강로3가 40-999 용산역</td>\n",
       "    </tr>\n",
       "    <tr>\n",
       "      <th>1064</th>\n",
       "      <td>36667369</td>\n",
       "      <td>8942305</td>\n",
       "      <td>계절밥상 동대문롯데피트인점</td>\n",
       "      <td>서울특별시 중구 을지로6가 21-31 롯데 FiTin</td>\n",
       "      <td>엔제리너스</td>\n",
       "      <td>서울특별시 중구 을지로6가 21-31 롯데 FiTin</td>\n",
       "    </tr>\n",
       "    <tr>\n",
       "      <th>1065</th>\n",
       "      <td>37204578</td>\n",
       "      <td>4034834</td>\n",
       "      <td>계절밥상 잠실점</td>\n",
       "      <td>서울특별시 송파구 신천동 7-18 롯데캐슬골드</td>\n",
       "      <td>무스쿠스 잠실점</td>\n",
       "      <td>서울특별시 송파구 신천동 7-18 롯데캐슬골드</td>\n",
       "    </tr>\n",
       "    <tr>\n",
       "      <th>1066</th>\n",
       "      <td>38404658</td>\n",
       "      <td>9402393</td>\n",
       "      <td>계절밥상 서울역사점</td>\n",
       "      <td>서울특별시 중구 봉래동2가 122-11 경부고속철도서울민자역사</td>\n",
       "      <td>맥도날드</td>\n",
       "      <td>서울특별시 중구 봉래동2가 122-11 경부고속철도서울민자역사</td>\n",
       "    </tr>\n",
       "    <tr>\n",
       "      <th>1067</th>\n",
       "      <td>37663862</td>\n",
       "      <td>13964808</td>\n",
       "      <td>또보겠지떡볶이집 붕붕허니비점</td>\n",
       "      <td>서울특별시 마포구 동교동 153-3</td>\n",
       "      <td>또보겠지떡볶이집</td>\n",
       "      <td>서울특별시 마포구 동교동 153-3</td>\n",
       "    </tr>\n",
       "  </tbody>\n",
       "</table>\n",
       "<p>1068 rows × 6 columns</p>\n",
       "</div>"
      ],
      "text/plain": [
       "        place.id  location_id       place.name  \\\n",
       "0       33879152      9141260        안동찜닭&해물떡찜   \n",
       "1       36166539      3938485       에스키모 코엑스몰점   \n",
       "2       11605455      2241571             가미분식   \n",
       "3     1266909878      9318901             우리두리   \n",
       "4     1288556612      3911442             마포만두   \n",
       "...          ...          ...              ...   \n",
       "1063    35162551      9029313    계절밥상 용산아이파크몰점   \n",
       "1064    36667369      8942305   계절밥상 동대문롯데피트인점   \n",
       "1065    37204578      4034834         계절밥상 잠실점   \n",
       "1066    38404658      9402393       계절밥상 서울역사점   \n",
       "1067    37663862     13964808  또보겠지떡볶이집 붕붕허니비점   \n",
       "\n",
       "                             land.addr_x             name  \\\n",
       "0                  서울특별시 강남구 삼성동 159 코엑스      커피빈 삼성오크우드점   \n",
       "1          서울특별시 강남구 삼성동 159 코엑스인터콘티넨탈서울         아웃백 코엑스점   \n",
       "2           서울특별시 서대문구 대현동 54-1 무궁화상가아파트            가미 분식   \n",
       "3            서울특별시 용산구 동자동 43-205 한국철도공사            파리크라상   \n",
       "4           서울특별시 양천구 목1동 404-177 썬택씨티빌딩        스타벅스 오목교점   \n",
       "...                                  ...              ...   \n",
       "1063          서울특별시 용산구 한강로3가 40-999 용산역  계절밥상 - 용산아이파크몰점   \n",
       "1064       서울특별시 중구 을지로6가 21-31 롯데 FiTin            엔제리너스   \n",
       "1065           서울특별시 송파구 신천동 7-18 롯데캐슬골드         무스쿠스 잠실점   \n",
       "1066  서울특별시 중구 봉래동2가 122-11 경부고속철도서울민자역사             맥도날드   \n",
       "1067                 서울특별시 마포구 동교동 153-3         또보겠지떡볶이집   \n",
       "\n",
       "                             land.addr_y  \n",
       "0                  서울특별시 강남구 삼성동 159 코엑스  \n",
       "1          서울특별시 강남구 삼성동 159 코엑스인터콘티넨탈서울  \n",
       "2           서울특별시 서대문구 대현동 54-1 무궁화상가아파트  \n",
       "3            서울특별시 용산구 동자동 43-205 한국철도공사  \n",
       "4            서울특별시 양천구 목동 404-177 썬택씨티빌딩  \n",
       "...                                  ...  \n",
       "1063          서울특별시 용산구 한강로3가 40-999 용산역  \n",
       "1064       서울특별시 중구 을지로6가 21-31 롯데 FiTin  \n",
       "1065           서울특별시 송파구 신천동 7-18 롯데캐슬골드  \n",
       "1066  서울특별시 중구 봉래동2가 122-11 경부고속철도서울민자역사  \n",
       "1067                 서울특별시 마포구 동교동 153-3  \n",
       "\n",
       "[1068 rows x 6 columns]"
      ]
     },
     "execution_count": 185,
     "metadata": {},
     "output_type": "execute_result"
    }
   ],
   "source": [
    "dt"
   ]
  },
  {
   "cell_type": "code",
   "execution_count": 187,
   "metadata": {
    "Collapsed": "false"
   },
   "outputs": [],
   "source": [
    "dt = dt[['place.id', 'location_id', 'place.name', 'name', 'land.addr_x', 'land.addr_y']]"
   ]
  },
  {
   "cell_type": "code",
   "execution_count": 188,
   "metadata": {
    "Collapsed": "false"
   },
   "outputs": [
    {
     "data": {
      "text/html": [
       "<div>\n",
       "<style scoped>\n",
       "    .dataframe tbody tr th:only-of-type {\n",
       "        vertical-align: middle;\n",
       "    }\n",
       "\n",
       "    .dataframe tbody tr th {\n",
       "        vertical-align: top;\n",
       "    }\n",
       "\n",
       "    .dataframe thead th {\n",
       "        text-align: right;\n",
       "    }\n",
       "</style>\n",
       "<table border=\"1\" class=\"dataframe\">\n",
       "  <thead>\n",
       "    <tr style=\"text-align: right;\">\n",
       "      <th></th>\n",
       "      <th>place.id</th>\n",
       "      <th>location_id</th>\n",
       "      <th>place.name</th>\n",
       "      <th>name</th>\n",
       "      <th>land.addr_x</th>\n",
       "      <th>land.addr_y</th>\n",
       "    </tr>\n",
       "  </thead>\n",
       "  <tbody>\n",
       "    <tr>\n",
       "      <th>0</th>\n",
       "      <td>33879152</td>\n",
       "      <td>9141260</td>\n",
       "      <td>안동찜닭&amp;해물떡찜</td>\n",
       "      <td>커피빈 삼성오크우드점</td>\n",
       "      <td>서울특별시 강남구 삼성동 159 코엑스</td>\n",
       "      <td>서울특별시 강남구 삼성동 159 코엑스</td>\n",
       "    </tr>\n",
       "    <tr>\n",
       "      <th>1</th>\n",
       "      <td>36166539</td>\n",
       "      <td>3938485</td>\n",
       "      <td>에스키모 코엑스몰점</td>\n",
       "      <td>아웃백 코엑스점</td>\n",
       "      <td>서울특별시 강남구 삼성동 159 코엑스인터콘티넨탈서울</td>\n",
       "      <td>서울특별시 강남구 삼성동 159 코엑스인터콘티넨탈서울</td>\n",
       "    </tr>\n",
       "    <tr>\n",
       "      <th>2</th>\n",
       "      <td>11605455</td>\n",
       "      <td>2241571</td>\n",
       "      <td>가미분식</td>\n",
       "      <td>가미 분식</td>\n",
       "      <td>서울특별시 서대문구 대현동 54-1 무궁화상가아파트</td>\n",
       "      <td>서울특별시 서대문구 대현동 54-1 무궁화상가아파트</td>\n",
       "    </tr>\n",
       "    <tr>\n",
       "      <th>3</th>\n",
       "      <td>1266909878</td>\n",
       "      <td>9318901</td>\n",
       "      <td>우리두리</td>\n",
       "      <td>파리크라상</td>\n",
       "      <td>서울특별시 용산구 동자동 43-205 한국철도공사</td>\n",
       "      <td>서울특별시 용산구 동자동 43-205 한국철도공사</td>\n",
       "    </tr>\n",
       "    <tr>\n",
       "      <th>4</th>\n",
       "      <td>1288556612</td>\n",
       "      <td>3911442</td>\n",
       "      <td>마포만두</td>\n",
       "      <td>스타벅스 오목교점</td>\n",
       "      <td>서울특별시 양천구 목1동 404-177 썬택씨티빌딩</td>\n",
       "      <td>서울특별시 양천구 목동 404-177 썬택씨티빌딩</td>\n",
       "    </tr>\n",
       "    <tr>\n",
       "      <th>...</th>\n",
       "      <td>...</td>\n",
       "      <td>...</td>\n",
       "      <td>...</td>\n",
       "      <td>...</td>\n",
       "      <td>...</td>\n",
       "      <td>...</td>\n",
       "    </tr>\n",
       "    <tr>\n",
       "      <th>1063</th>\n",
       "      <td>35162551</td>\n",
       "      <td>9029313</td>\n",
       "      <td>계절밥상 용산아이파크몰점</td>\n",
       "      <td>계절밥상 - 용산아이파크몰점</td>\n",
       "      <td>서울특별시 용산구 한강로3가 40-999 용산역</td>\n",
       "      <td>서울특별시 용산구 한강로3가 40-999 용산역</td>\n",
       "    </tr>\n",
       "    <tr>\n",
       "      <th>1064</th>\n",
       "      <td>36667369</td>\n",
       "      <td>8942305</td>\n",
       "      <td>계절밥상 동대문롯데피트인점</td>\n",
       "      <td>엔제리너스</td>\n",
       "      <td>서울특별시 중구 을지로6가 21-31 롯데 FiTin</td>\n",
       "      <td>서울특별시 중구 을지로6가 21-31 롯데 FiTin</td>\n",
       "    </tr>\n",
       "    <tr>\n",
       "      <th>1065</th>\n",
       "      <td>37204578</td>\n",
       "      <td>4034834</td>\n",
       "      <td>계절밥상 잠실점</td>\n",
       "      <td>무스쿠스 잠실점</td>\n",
       "      <td>서울특별시 송파구 신천동 7-18 롯데캐슬골드</td>\n",
       "      <td>서울특별시 송파구 신천동 7-18 롯데캐슬골드</td>\n",
       "    </tr>\n",
       "    <tr>\n",
       "      <th>1066</th>\n",
       "      <td>38404658</td>\n",
       "      <td>9402393</td>\n",
       "      <td>계절밥상 서울역사점</td>\n",
       "      <td>맥도날드</td>\n",
       "      <td>서울특별시 중구 봉래동2가 122-11 경부고속철도서울민자역사</td>\n",
       "      <td>서울특별시 중구 봉래동2가 122-11 경부고속철도서울민자역사</td>\n",
       "    </tr>\n",
       "    <tr>\n",
       "      <th>1067</th>\n",
       "      <td>37663862</td>\n",
       "      <td>13964808</td>\n",
       "      <td>또보겠지떡볶이집 붕붕허니비점</td>\n",
       "      <td>또보겠지떡볶이집</td>\n",
       "      <td>서울특별시 마포구 동교동 153-3</td>\n",
       "      <td>서울특별시 마포구 동교동 153-3</td>\n",
       "    </tr>\n",
       "  </tbody>\n",
       "</table>\n",
       "<p>1068 rows × 6 columns</p>\n",
       "</div>"
      ],
      "text/plain": [
       "        place.id  location_id       place.name             name  \\\n",
       "0       33879152      9141260        안동찜닭&해물떡찜      커피빈 삼성오크우드점   \n",
       "1       36166539      3938485       에스키모 코엑스몰점         아웃백 코엑스점   \n",
       "2       11605455      2241571             가미분식            가미 분식   \n",
       "3     1266909878      9318901             우리두리            파리크라상   \n",
       "4     1288556612      3911442             마포만두        스타벅스 오목교점   \n",
       "...          ...          ...              ...              ...   \n",
       "1063    35162551      9029313    계절밥상 용산아이파크몰점  계절밥상 - 용산아이파크몰점   \n",
       "1064    36667369      8942305   계절밥상 동대문롯데피트인점            엔제리너스   \n",
       "1065    37204578      4034834         계절밥상 잠실점         무스쿠스 잠실점   \n",
       "1066    38404658      9402393       계절밥상 서울역사점             맥도날드   \n",
       "1067    37663862     13964808  또보겠지떡볶이집 붕붕허니비점         또보겠지떡볶이집   \n",
       "\n",
       "                             land.addr_x                         land.addr_y  \n",
       "0                  서울특별시 강남구 삼성동 159 코엑스               서울특별시 강남구 삼성동 159 코엑스  \n",
       "1          서울특별시 강남구 삼성동 159 코엑스인터콘티넨탈서울       서울특별시 강남구 삼성동 159 코엑스인터콘티넨탈서울  \n",
       "2           서울특별시 서대문구 대현동 54-1 무궁화상가아파트        서울특별시 서대문구 대현동 54-1 무궁화상가아파트  \n",
       "3            서울특별시 용산구 동자동 43-205 한국철도공사         서울특별시 용산구 동자동 43-205 한국철도공사  \n",
       "4           서울특별시 양천구 목1동 404-177 썬택씨티빌딩         서울특별시 양천구 목동 404-177 썬택씨티빌딩  \n",
       "...                                  ...                                 ...  \n",
       "1063          서울특별시 용산구 한강로3가 40-999 용산역          서울특별시 용산구 한강로3가 40-999 용산역  \n",
       "1064       서울특별시 중구 을지로6가 21-31 롯데 FiTin       서울특별시 중구 을지로6가 21-31 롯데 FiTin  \n",
       "1065           서울특별시 송파구 신천동 7-18 롯데캐슬골드           서울특별시 송파구 신천동 7-18 롯데캐슬골드  \n",
       "1066  서울특별시 중구 봉래동2가 122-11 경부고속철도서울민자역사  서울특별시 중구 봉래동2가 122-11 경부고속철도서울민자역사  \n",
       "1067                 서울특별시 마포구 동교동 153-3                 서울특별시 마포구 동교동 153-3  \n",
       "\n",
       "[1068 rows x 6 columns]"
      ]
     },
     "execution_count": 188,
     "metadata": {},
     "output_type": "execute_result"
    }
   ],
   "source": [
    "dt"
   ]
  },
  {
   "cell_type": "markdown",
   "metadata": {
    "Collapsed": "true"
   },
   "source": [
    "# 서로서로 이름이 속하면 같은 매장으로"
   ]
  },
  {
   "cell_type": "code",
   "execution_count": 189,
   "metadata": {
    "Collapsed": "false"
   },
   "outputs": [],
   "source": [
    "arg = dt.values[0]"
   ]
  },
  {
   "cell_type": "code",
   "execution_count": 191,
   "metadata": {
    "Collapsed": "false"
   },
   "outputs": [
    {
     "data": {
      "text/plain": [
       "('안동찜닭&해물떡찜', '커피빈 삼성오크우드점')"
      ]
     },
     "execution_count": 191,
     "metadata": {},
     "output_type": "execute_result"
    }
   ],
   "source": [
    "arg[2], arg[3]"
   ]
  },
  {
   "cell_type": "code",
   "execution_count": 192,
   "metadata": {
    "Collapsed": "false"
   },
   "outputs": [
    {
     "data": {
      "text/plain": [
       "'커피빈삼성오크우드점'"
      ]
     },
     "execution_count": 192,
     "metadata": {},
     "output_type": "execute_result"
    }
   ],
   "source": [
    "arg[3].replace(' ','')"
   ]
  },
  {
   "cell_type": "code",
   "execution_count": 201,
   "metadata": {
    "Collapsed": "false"
   },
   "outputs": [],
   "source": [
    "name_duplicate = []\n",
    "for arg in dt.values:\n",
    "    nv_name = arg[2].replace(' ', '')\n",
    "    ta_name = arg[3].replace(' ', '')\n",
    "    if nv_name in ta_name:\n",
    "        value = 1\n",
    "    elif ta_name in nv_name:\n",
    "        value = 1\n",
    "    else:\n",
    "        value = 0\n",
    "    name_duplicate.append(value)"
   ]
  },
  {
   "cell_type": "code",
   "execution_count": 202,
   "metadata": {
    "Collapsed": "false"
   },
   "outputs": [
    {
     "name": "stderr",
     "output_type": "stream",
     "text": [
      "/Users/jinseok/opt/anaconda3/lib/python3.7/site-packages/ipykernel_launcher.py:1: SettingWithCopyWarning: \n",
      "A value is trying to be set on a copy of a slice from a DataFrame.\n",
      "Try using .loc[row_indexer,col_indexer] = value instead\n",
      "\n",
      "See the caveats in the documentation: https://pandas.pydata.org/pandas-docs/stable/user_guide/indexing.html#returning-a-view-versus-a-copy\n",
      "  \"\"\"Entry point for launching an IPython kernel.\n"
     ]
    }
   ],
   "source": [
    "dt['name_duplicate'] = name_duplicate"
   ]
  },
  {
   "cell_type": "code",
   "execution_count": 203,
   "metadata": {
    "Collapsed": "false"
   },
   "outputs": [
    {
     "data": {
      "text/html": [
       "<div>\n",
       "<style scoped>\n",
       "    .dataframe tbody tr th:only-of-type {\n",
       "        vertical-align: middle;\n",
       "    }\n",
       "\n",
       "    .dataframe tbody tr th {\n",
       "        vertical-align: top;\n",
       "    }\n",
       "\n",
       "    .dataframe thead th {\n",
       "        text-align: right;\n",
       "    }\n",
       "</style>\n",
       "<table border=\"1\" class=\"dataframe\">\n",
       "  <thead>\n",
       "    <tr style=\"text-align: right;\">\n",
       "      <th></th>\n",
       "      <th>place.id</th>\n",
       "      <th>location_id</th>\n",
       "      <th>place.name</th>\n",
       "      <th>name</th>\n",
       "      <th>land.addr_x</th>\n",
       "      <th>land.addr_y</th>\n",
       "      <th>name_duplicate</th>\n",
       "    </tr>\n",
       "  </thead>\n",
       "  <tbody>\n",
       "    <tr>\n",
       "      <th>0</th>\n",
       "      <td>33879152</td>\n",
       "      <td>9141260</td>\n",
       "      <td>안동찜닭&amp;해물떡찜</td>\n",
       "      <td>커피빈 삼성오크우드점</td>\n",
       "      <td>서울특별시 강남구 삼성동 159 코엑스</td>\n",
       "      <td>서울특별시 강남구 삼성동 159 코엑스</td>\n",
       "      <td>0</td>\n",
       "    </tr>\n",
       "    <tr>\n",
       "      <th>1</th>\n",
       "      <td>36166539</td>\n",
       "      <td>3938485</td>\n",
       "      <td>에스키모 코엑스몰점</td>\n",
       "      <td>아웃백 코엑스점</td>\n",
       "      <td>서울특별시 강남구 삼성동 159 코엑스인터콘티넨탈서울</td>\n",
       "      <td>서울특별시 강남구 삼성동 159 코엑스인터콘티넨탈서울</td>\n",
       "      <td>0</td>\n",
       "    </tr>\n",
       "    <tr>\n",
       "      <th>2</th>\n",
       "      <td>11605455</td>\n",
       "      <td>2241571</td>\n",
       "      <td>가미분식</td>\n",
       "      <td>가미 분식</td>\n",
       "      <td>서울특별시 서대문구 대현동 54-1 무궁화상가아파트</td>\n",
       "      <td>서울특별시 서대문구 대현동 54-1 무궁화상가아파트</td>\n",
       "      <td>1</td>\n",
       "    </tr>\n",
       "    <tr>\n",
       "      <th>3</th>\n",
       "      <td>1266909878</td>\n",
       "      <td>9318901</td>\n",
       "      <td>우리두리</td>\n",
       "      <td>파리크라상</td>\n",
       "      <td>서울특별시 용산구 동자동 43-205 한국철도공사</td>\n",
       "      <td>서울특별시 용산구 동자동 43-205 한국철도공사</td>\n",
       "      <td>0</td>\n",
       "    </tr>\n",
       "    <tr>\n",
       "      <th>4</th>\n",
       "      <td>1288556612</td>\n",
       "      <td>3911442</td>\n",
       "      <td>마포만두</td>\n",
       "      <td>스타벅스 오목교점</td>\n",
       "      <td>서울특별시 양천구 목1동 404-177 썬택씨티빌딩</td>\n",
       "      <td>서울특별시 양천구 목동 404-177 썬택씨티빌딩</td>\n",
       "      <td>0</td>\n",
       "    </tr>\n",
       "    <tr>\n",
       "      <th>...</th>\n",
       "      <td>...</td>\n",
       "      <td>...</td>\n",
       "      <td>...</td>\n",
       "      <td>...</td>\n",
       "      <td>...</td>\n",
       "      <td>...</td>\n",
       "      <td>...</td>\n",
       "    </tr>\n",
       "    <tr>\n",
       "      <th>1063</th>\n",
       "      <td>35162551</td>\n",
       "      <td>9029313</td>\n",
       "      <td>계절밥상 용산아이파크몰점</td>\n",
       "      <td>계절밥상 - 용산아이파크몰점</td>\n",
       "      <td>서울특별시 용산구 한강로3가 40-999 용산역</td>\n",
       "      <td>서울특별시 용산구 한강로3가 40-999 용산역</td>\n",
       "      <td>0</td>\n",
       "    </tr>\n",
       "    <tr>\n",
       "      <th>1064</th>\n",
       "      <td>36667369</td>\n",
       "      <td>8942305</td>\n",
       "      <td>계절밥상 동대문롯데피트인점</td>\n",
       "      <td>엔제리너스</td>\n",
       "      <td>서울특별시 중구 을지로6가 21-31 롯데 FiTin</td>\n",
       "      <td>서울특별시 중구 을지로6가 21-31 롯데 FiTin</td>\n",
       "      <td>0</td>\n",
       "    </tr>\n",
       "    <tr>\n",
       "      <th>1065</th>\n",
       "      <td>37204578</td>\n",
       "      <td>4034834</td>\n",
       "      <td>계절밥상 잠실점</td>\n",
       "      <td>무스쿠스 잠실점</td>\n",
       "      <td>서울특별시 송파구 신천동 7-18 롯데캐슬골드</td>\n",
       "      <td>서울특별시 송파구 신천동 7-18 롯데캐슬골드</td>\n",
       "      <td>0</td>\n",
       "    </tr>\n",
       "    <tr>\n",
       "      <th>1066</th>\n",
       "      <td>38404658</td>\n",
       "      <td>9402393</td>\n",
       "      <td>계절밥상 서울역사점</td>\n",
       "      <td>맥도날드</td>\n",
       "      <td>서울특별시 중구 봉래동2가 122-11 경부고속철도서울민자역사</td>\n",
       "      <td>서울특별시 중구 봉래동2가 122-11 경부고속철도서울민자역사</td>\n",
       "      <td>0</td>\n",
       "    </tr>\n",
       "    <tr>\n",
       "      <th>1067</th>\n",
       "      <td>37663862</td>\n",
       "      <td>13964808</td>\n",
       "      <td>또보겠지떡볶이집 붕붕허니비점</td>\n",
       "      <td>또보겠지떡볶이집</td>\n",
       "      <td>서울특별시 마포구 동교동 153-3</td>\n",
       "      <td>서울특별시 마포구 동교동 153-3</td>\n",
       "      <td>1</td>\n",
       "    </tr>\n",
       "  </tbody>\n",
       "</table>\n",
       "<p>1068 rows × 7 columns</p>\n",
       "</div>"
      ],
      "text/plain": [
       "        place.id  location_id       place.name             name  \\\n",
       "0       33879152      9141260        안동찜닭&해물떡찜      커피빈 삼성오크우드점   \n",
       "1       36166539      3938485       에스키모 코엑스몰점         아웃백 코엑스점   \n",
       "2       11605455      2241571             가미분식            가미 분식   \n",
       "3     1266909878      9318901             우리두리            파리크라상   \n",
       "4     1288556612      3911442             마포만두        스타벅스 오목교점   \n",
       "...          ...          ...              ...              ...   \n",
       "1063    35162551      9029313    계절밥상 용산아이파크몰점  계절밥상 - 용산아이파크몰점   \n",
       "1064    36667369      8942305   계절밥상 동대문롯데피트인점            엔제리너스   \n",
       "1065    37204578      4034834         계절밥상 잠실점         무스쿠스 잠실점   \n",
       "1066    38404658      9402393       계절밥상 서울역사점             맥도날드   \n",
       "1067    37663862     13964808  또보겠지떡볶이집 붕붕허니비점         또보겠지떡볶이집   \n",
       "\n",
       "                             land.addr_x                         land.addr_y  \\\n",
       "0                  서울특별시 강남구 삼성동 159 코엑스               서울특별시 강남구 삼성동 159 코엑스   \n",
       "1          서울특별시 강남구 삼성동 159 코엑스인터콘티넨탈서울       서울특별시 강남구 삼성동 159 코엑스인터콘티넨탈서울   \n",
       "2           서울특별시 서대문구 대현동 54-1 무궁화상가아파트        서울특별시 서대문구 대현동 54-1 무궁화상가아파트   \n",
       "3            서울특별시 용산구 동자동 43-205 한국철도공사         서울특별시 용산구 동자동 43-205 한국철도공사   \n",
       "4           서울특별시 양천구 목1동 404-177 썬택씨티빌딩         서울특별시 양천구 목동 404-177 썬택씨티빌딩   \n",
       "...                                  ...                                 ...   \n",
       "1063          서울특별시 용산구 한강로3가 40-999 용산역          서울특별시 용산구 한강로3가 40-999 용산역   \n",
       "1064       서울특별시 중구 을지로6가 21-31 롯데 FiTin       서울특별시 중구 을지로6가 21-31 롯데 FiTin   \n",
       "1065           서울특별시 송파구 신천동 7-18 롯데캐슬골드           서울특별시 송파구 신천동 7-18 롯데캐슬골드   \n",
       "1066  서울특별시 중구 봉래동2가 122-11 경부고속철도서울민자역사  서울특별시 중구 봉래동2가 122-11 경부고속철도서울민자역사   \n",
       "1067                 서울특별시 마포구 동교동 153-3                 서울특별시 마포구 동교동 153-3   \n",
       "\n",
       "      name_duplicate  \n",
       "0                  0  \n",
       "1                  0  \n",
       "2                  1  \n",
       "3                  0  \n",
       "4                  0  \n",
       "...              ...  \n",
       "1063               0  \n",
       "1064               0  \n",
       "1065               0  \n",
       "1066               0  \n",
       "1067               1  \n",
       "\n",
       "[1068 rows x 7 columns]"
      ]
     },
     "execution_count": 203,
     "metadata": {},
     "output_type": "execute_result"
    }
   ],
   "source": [
    "dt"
   ]
  },
  {
   "cell_type": "code",
   "execution_count": 209,
   "metadata": {
    "Collapsed": "false"
   },
   "outputs": [
    {
     "data": {
      "text/html": [
       "<div>\n",
       "<style scoped>\n",
       "    .dataframe tbody tr th:only-of-type {\n",
       "        vertical-align: middle;\n",
       "    }\n",
       "\n",
       "    .dataframe tbody tr th {\n",
       "        vertical-align: top;\n",
       "    }\n",
       "\n",
       "    .dataframe thead th {\n",
       "        text-align: right;\n",
       "    }\n",
       "</style>\n",
       "<table border=\"1\" class=\"dataframe\">\n",
       "  <thead>\n",
       "    <tr style=\"text-align: right;\">\n",
       "      <th></th>\n",
       "      <th>place.id</th>\n",
       "      <th>location_id</th>\n",
       "      <th>place.name</th>\n",
       "      <th>name</th>\n",
       "      <th>land.addr_x</th>\n",
       "      <th>land.addr_y</th>\n",
       "      <th>name_duplicate</th>\n",
       "    </tr>\n",
       "  </thead>\n",
       "  <tbody>\n",
       "    <tr>\n",
       "      <th>2</th>\n",
       "      <td>11605455</td>\n",
       "      <td>2241571</td>\n",
       "      <td>가미분식</td>\n",
       "      <td>가미 분식</td>\n",
       "      <td>서울특별시 서대문구 대현동 54-1 무궁화상가아파트</td>\n",
       "      <td>서울특별시 서대문구 대현동 54-1 무궁화상가아파트</td>\n",
       "      <td>1</td>\n",
       "    </tr>\n",
       "    <tr>\n",
       "      <th>22</th>\n",
       "      <td>10976694</td>\n",
       "      <td>5926853</td>\n",
       "      <td>유래회관</td>\n",
       "      <td>유래회관</td>\n",
       "      <td>서울특별시 성동구 홍익동 357 유래회관</td>\n",
       "      <td>서울특별시 성동구 홍익동 357 유래회관</td>\n",
       "      <td>1</td>\n",
       "    </tr>\n",
       "    <tr>\n",
       "      <th>24</th>\n",
       "      <td>11398664</td>\n",
       "      <td>4032150</td>\n",
       "      <td>대성갈비</td>\n",
       "      <td>대성갈비</td>\n",
       "      <td>서울특별시 성동구 성수동1가 668-21</td>\n",
       "      <td>서울특별시 성동구 성수동1가 668-21</td>\n",
       "      <td>1</td>\n",
       "    </tr>\n",
       "    <tr>\n",
       "      <th>25</th>\n",
       "      <td>11663081</td>\n",
       "      <td>3922609</td>\n",
       "      <td>철길왕갈비살</td>\n",
       "      <td>철길 왕 갈비살</td>\n",
       "      <td>서울특별시 마포구 창전동 4-2</td>\n",
       "      <td>서울특별시 마포구 창전동 4-2</td>\n",
       "      <td>1</td>\n",
       "    </tr>\n",
       "    <tr>\n",
       "      <th>26</th>\n",
       "      <td>11677544</td>\n",
       "      <td>4033804</td>\n",
       "      <td>황소고집</td>\n",
       "      <td>황소고집</td>\n",
       "      <td>서울특별시 종로구 관철동 11-11</td>\n",
       "      <td>서울특별시 종로구 관철동 11-11</td>\n",
       "      <td>1</td>\n",
       "    </tr>\n",
       "    <tr>\n",
       "      <th>...</th>\n",
       "      <td>...</td>\n",
       "      <td>...</td>\n",
       "      <td>...</td>\n",
       "      <td>...</td>\n",
       "      <td>...</td>\n",
       "      <td>...</td>\n",
       "      <td>...</td>\n",
       "    </tr>\n",
       "    <tr>\n",
       "      <th>1029</th>\n",
       "      <td>12447840</td>\n",
       "      <td>4070735</td>\n",
       "      <td>김영모과자점 도곡타워점</td>\n",
       "      <td>김영모과자점 도곡타워점</td>\n",
       "      <td>서울특별시 강남구 도곡동 467-19 현대비전21</td>\n",
       "      <td>서울특별시 강남구 도곡2동 467-19 현대비전21</td>\n",
       "      <td>1</td>\n",
       "    </tr>\n",
       "    <tr>\n",
       "      <th>1030</th>\n",
       "      <td>13575110</td>\n",
       "      <td>6818439</td>\n",
       "      <td>미즈컨테이너 강남 웨스트</td>\n",
       "      <td>미즈컨테이너</td>\n",
       "      <td>서울특별시 서초구 서초동 1316-29 타임빌딩</td>\n",
       "      <td>서울특별시 서초구 서초동 1316-29 타임빌딩</td>\n",
       "      <td>1</td>\n",
       "    </tr>\n",
       "    <tr>\n",
       "      <th>1032</th>\n",
       "      <td>32817375</td>\n",
       "      <td>4784018</td>\n",
       "      <td>생어거스틴 경복궁점</td>\n",
       "      <td>생어거스틴 경복궁점</td>\n",
       "      <td>서울특별시 종로구 중학동 19 더케이트윈타워</td>\n",
       "      <td>서울특별시 종로구 중학동 19 더케이트윈타워</td>\n",
       "      <td>1</td>\n",
       "    </tr>\n",
       "    <tr>\n",
       "      <th>1039</th>\n",
       "      <td>33758018</td>\n",
       "      <td>8948116</td>\n",
       "      <td>아웃닭 홍대점</td>\n",
       "      <td>아웃닭</td>\n",
       "      <td>서울특별시 마포구 서교동 409-17</td>\n",
       "      <td>서울특별시 마포구 서교동 409-17</td>\n",
       "      <td>1</td>\n",
       "    </tr>\n",
       "    <tr>\n",
       "      <th>1067</th>\n",
       "      <td>37663862</td>\n",
       "      <td>13964808</td>\n",
       "      <td>또보겠지떡볶이집 붕붕허니비점</td>\n",
       "      <td>또보겠지떡볶이집</td>\n",
       "      <td>서울특별시 마포구 동교동 153-3</td>\n",
       "      <td>서울특별시 마포구 동교동 153-3</td>\n",
       "      <td>1</td>\n",
       "    </tr>\n",
       "  </tbody>\n",
       "</table>\n",
       "<p>227 rows × 7 columns</p>\n",
       "</div>"
      ],
      "text/plain": [
       "      place.id  location_id       place.name          name  \\\n",
       "2     11605455      2241571             가미분식         가미 분식   \n",
       "22    10976694      5926853             유래회관          유래회관   \n",
       "24    11398664      4032150             대성갈비          대성갈비   \n",
       "25    11663081      3922609           철길왕갈비살      철길 왕 갈비살   \n",
       "26    11677544      4033804             황소고집          황소고집   \n",
       "...        ...          ...              ...           ...   \n",
       "1029  12447840      4070735     김영모과자점 도곡타워점  김영모과자점 도곡타워점   \n",
       "1030  13575110      6818439    미즈컨테이너 강남 웨스트        미즈컨테이너   \n",
       "1032  32817375      4784018       생어거스틴 경복궁점    생어거스틴 경복궁점   \n",
       "1039  33758018      8948116          아웃닭 홍대점           아웃닭   \n",
       "1067  37663862     13964808  또보겠지떡볶이집 붕붕허니비점      또보겠지떡볶이집   \n",
       "\n",
       "                       land.addr_x                   land.addr_y  \\\n",
       "2     서울특별시 서대문구 대현동 54-1 무궁화상가아파트  서울특별시 서대문구 대현동 54-1 무궁화상가아파트   \n",
       "22          서울특별시 성동구 홍익동 357 유래회관        서울특별시 성동구 홍익동 357 유래회관   \n",
       "24          서울특별시 성동구 성수동1가 668-21        서울특별시 성동구 성수동1가 668-21   \n",
       "25               서울특별시 마포구 창전동 4-2             서울특별시 마포구 창전동 4-2   \n",
       "26             서울특별시 종로구 관철동 11-11           서울특별시 종로구 관철동 11-11   \n",
       "...                            ...                           ...   \n",
       "1029   서울특별시 강남구 도곡동 467-19 현대비전21  서울특별시 강남구 도곡2동 467-19 현대비전21   \n",
       "1030    서울특별시 서초구 서초동 1316-29 타임빌딩    서울특별시 서초구 서초동 1316-29 타임빌딩   \n",
       "1032      서울특별시 종로구 중학동 19 더케이트윈타워      서울특별시 종로구 중학동 19 더케이트윈타워   \n",
       "1039          서울특별시 마포구 서교동 409-17          서울특별시 마포구 서교동 409-17   \n",
       "1067           서울특별시 마포구 동교동 153-3           서울특별시 마포구 동교동 153-3   \n",
       "\n",
       "      name_duplicate  \n",
       "2                  1  \n",
       "22                 1  \n",
       "24                 1  \n",
       "25                 1  \n",
       "26                 1  \n",
       "...              ...  \n",
       "1029               1  \n",
       "1030               1  \n",
       "1032               1  \n",
       "1039               1  \n",
       "1067               1  \n",
       "\n",
       "[227 rows x 7 columns]"
      ]
     },
     "execution_count": 209,
     "metadata": {},
     "output_type": "execute_result"
    }
   ],
   "source": [
    "dt.loc[dt['name_duplicate'] == 1]"
   ]
  },
  {
   "cell_type": "code",
   "execution_count": 207,
   "metadata": {
    "Collapsed": "false"
   },
   "outputs": [],
   "source": [
    "dt.loc[dt['name_duplicate'] == 0].to_excel('./place_check.xlsx')"
   ]
  },
  {
   "cell_type": "code",
   "execution_count": 210,
   "metadata": {
    "Collapsed": "false"
   },
   "outputs": [],
   "source": [
    "dt2 = pd.read_excel('./place_check.xlsx')"
   ]
  },
  {
   "cell_type": "code",
   "execution_count": 215,
   "metadata": {
    "Collapsed": "false"
   },
   "outputs": [
    {
     "name": "stderr",
     "output_type": "stream",
     "text": [
      "/Users/jinseok/opt/anaconda3/lib/python3.7/site-packages/pandas/core/indexing.py:965: SettingWithCopyWarning: \n",
      "A value is trying to be set on a copy of a slice from a DataFrame.\n",
      "Try using .loc[row_indexer,col_indexer] = value instead\n",
      "\n",
      "See the caveats in the documentation: https://pandas.pydata.org/pandas-docs/stable/user_guide/indexing.html#returning-a-view-versus-a-copy\n",
      "  self.obj[item] = s\n"
     ]
    }
   ],
   "source": [
    "dt.loc[dt['name_duplicate'] == 0, 'name_duplicate'] = dt2['매칭여부'].values"
   ]
  },
  {
   "cell_type": "code",
   "execution_count": 230,
   "metadata": {
    "Collapsed": "false"
   },
   "outputs": [],
   "source": [
    "# 네이버와 트립어드바이저 같은 place\n",
    "same_place = dt.loc[dt['name_duplicate'] == 1, ['place.id', 'location_id']]"
   ]
  },
  {
   "cell_type": "code",
   "execution_count": 233,
   "metadata": {
    "Collapsed": "false"
   },
   "outputs": [],
   "source": [
    "same_place.to_excel(os.path.join(\"..\", \"..\", \"data\", \"JS_0602_same_place_index.xlsx\"))"
   ]
  },
  {
   "cell_type": "markdown",
   "metadata": {
    "Collapsed": "false"
   },
   "source": [
    "# ACM 매칭"
   ]
  },
  {
   "cell_type": "code",
   "execution_count": 63,
   "metadata": {
    "Collapsed": "false"
   },
   "outputs": [
    {
     "name": "stderr",
     "output_type": "stream",
     "text": [
      "/Users/jinseok/opt/anaconda3/lib/python3.7/site-packages/IPython/core/interactiveshell.py:3063: DtypeWarning: Columns (6,16) have mixed types.Specify dtype option on import or set low_memory=False.\n",
      "  interactivity=interactivity, compiler=compiler, result=result)\n"
     ]
    }
   ],
   "source": [
    "place = pd.read_csv(os.path.join(\"..\",\"..\", \"data\",\"input_data.csv\"),  index_col = 0, dtype = {'place.id' : str})"
   ]
  },
  {
   "cell_type": "code",
   "execution_count": 82,
   "metadata": {
    "Collapsed": "false"
   },
   "outputs": [],
   "source": [
    "hotel = place.loc[place['category'] != 'EAT'].drop_duplicates('place.id')[['place.id', 'place.name','category', 'land.addr']]"
   ]
  },
  {
   "cell_type": "code",
   "execution_count": 93,
   "metadata": {
    "Collapsed": "false"
   },
   "outputs": [],
   "source": [
    "hotel['place.id'] = hotel['place.id'].apply(lambda x : str(int(float(x))))"
   ]
  },
  {
   "cell_type": "code",
   "execution_count": 106,
   "metadata": {
    "Collapsed": "false"
   },
   "outputs": [],
   "source": [
    "ta_hotel_info = pd.read_excel(os.path.join('..', '..', 'data', 'TA_호텔_한글이름_주소_정보.xlsx'))"
   ]
  },
  {
   "cell_type": "code",
   "execution_count": 107,
   "metadata": {
    "Collapsed": "false"
   },
   "outputs": [],
   "source": [
    "ta_hotel_info['location_id'] = ta_hotel_info['location_id'].astype(str)"
   ]
  },
  {
   "cell_type": "code",
   "execution_count": 103,
   "metadata": {
    "Collapsed": "false"
   },
   "outputs": [],
   "source": [
    "ta_hotel = hotel.loc[hotel['land.addr'].isnull()]\n",
    "nv_hotel = hotel.loc[hotel['land.addr'].notnull()]"
   ]
  },
  {
   "cell_type": "code",
   "execution_count": 104,
   "metadata": {
    "Collapsed": "false"
   },
   "outputs": [
    {
     "data": {
      "text/plain": [
       "((592, 4), (221, 4))"
      ]
     },
     "execution_count": 104,
     "metadata": {},
     "output_type": "execute_result"
    }
   ],
   "source": [
    "ta_hotel.shape, nv_hotel.shape"
   ]
  },
  {
   "cell_type": "code",
   "execution_count": 111,
   "metadata": {
    "Collapsed": "false"
   },
   "outputs": [],
   "source": [
    "ta_hotel_info.rename(columns = {'location_id' : 'place.id', 'name' : 'place.name'}, inplace = True)"
   ]
  },
  {
   "cell_type": "code",
   "execution_count": 115,
   "metadata": {
    "Collapsed": "false"
   },
   "outputs": [],
   "source": [
    "ta_hotel = ta_hotel.merge(ta_hotel_info[['place.id', 'name', 'address']], on = 'place.id')"
   ]
  },
  {
   "cell_type": "code",
   "execution_count": 119,
   "metadata": {
    "Collapsed": "false"
   },
   "outputs": [],
   "source": [
    "ta_hotel.drop(['place.name', 'land.addr'], axis = 1, inplace = True)"
   ]
  },
  {
   "cell_type": "code",
   "execution_count": 123,
   "metadata": {
    "Collapsed": "false"
   },
   "outputs": [
    {
     "name": "stderr",
     "output_type": "stream",
     "text": [
      "/Users/jinseok/opt/anaconda3/lib/python3.7/site-packages/pandas/core/frame.py:4133: SettingWithCopyWarning: \n",
      "A value is trying to be set on a copy of a slice from a DataFrame\n",
      "\n",
      "See the caveats in the documentation: https://pandas.pydata.org/pandas-docs/stable/user_guide/indexing.html#returning-a-view-versus-a-copy\n",
      "  errors=errors,\n"
     ]
    }
   ],
   "source": [
    "nv_hotel.rename(columns = {'land.addr' : 'address'}, inplace = True)"
   ]
  },
  {
   "cell_type": "code",
   "execution_count": 139,
   "metadata": {
    "Collapsed": "false"
   },
   "outputs": [
    {
     "name": "stderr",
     "output_type": "stream",
     "text": [
      "100%|██████████| 221/221 [00:17<00:00, 12.44it/s]\n"
     ]
    }
   ],
   "source": [
    "# 네이버 호텔\n",
    "addr_list = []\n",
    "for addr in tqdm(nv_hotel.address.values):\n",
    "    value = JS.NVgeocoding(addr)\n",
    "    addr_list.append(value)"
   ]
  },
  {
   "cell_type": "code",
   "execution_count": 140,
   "metadata": {
    "Collapsed": "false"
   },
   "outputs": [
    {
     "data": {
      "text/html": [
       "<div>\n",
       "<style scoped>\n",
       "    .dataframe tbody tr th:only-of-type {\n",
       "        vertical-align: middle;\n",
       "    }\n",
       "\n",
       "    .dataframe tbody tr th {\n",
       "        vertical-align: top;\n",
       "    }\n",
       "\n",
       "    .dataframe thead th {\n",
       "        text-align: right;\n",
       "    }\n",
       "</style>\n",
       "<table border=\"1\" class=\"dataframe\">\n",
       "  <thead>\n",
       "    <tr style=\"text-align: right;\">\n",
       "      <th></th>\n",
       "      <th>place.id</th>\n",
       "      <th>place.name</th>\n",
       "      <th>category</th>\n",
       "      <th>address</th>\n",
       "    </tr>\n",
       "  </thead>\n",
       "  <tbody>\n",
       "    <tr>\n",
       "      <th>415515</th>\n",
       "      <td>36728037</td>\n",
       "      <td>31 페이지</td>\n",
       "      <td>ACM</td>\n",
       "      <td>서울특별시 동대문구 전농동 597-23</td>\n",
       "    </tr>\n",
       "    <tr>\n",
       "      <th>415516</th>\n",
       "      <td>34300204</td>\n",
       "      <td>Ever8레지던스</td>\n",
       "      <td>ACM</td>\n",
       "      <td>서울특별시 서대문구 대현동 104-5</td>\n",
       "    </tr>\n",
       "    <tr>\n",
       "      <th>415517</th>\n",
       "      <td>37490209</td>\n",
       "      <td>E호텔</td>\n",
       "      <td>ACM</td>\n",
       "      <td>서울특별시 서초구 반포대로18길 40 E 호텔</td>\n",
       "    </tr>\n",
       "    <tr>\n",
       "      <th>415518</th>\n",
       "      <td>966279439</td>\n",
       "      <td>G2 호텔</td>\n",
       "      <td>ACM</td>\n",
       "      <td>서울특별시 중구 저동2가 48-27</td>\n",
       "    </tr>\n",
       "    <tr>\n",
       "      <th>415519</th>\n",
       "      <td>1245880236</td>\n",
       "      <td>Hotel in 9</td>\n",
       "      <td>ACM</td>\n",
       "      <td>서울특별시 강남구 영동대로 618 Hotel in 9</td>\n",
       "    </tr>\n",
       "    <tr>\n",
       "      <th>...</th>\n",
       "      <td>...</td>\n",
       "      <td>...</td>\n",
       "      <td>...</td>\n",
       "      <td>...</td>\n",
       "    </tr>\n",
       "    <tr>\n",
       "      <th>416757</th>\n",
       "      <td>11659048</td>\n",
       "      <td>퍼시픽호텔</td>\n",
       "      <td>ACM</td>\n",
       "      <td>서울특별시 중구 남산동2가 31-1</td>\n",
       "    </tr>\n",
       "    <tr>\n",
       "      <th>416758</th>\n",
       "      <td>1670545829</td>\n",
       "      <td>포포인츠 바이 쉐라톤 서울 강남</td>\n",
       "      <td>ACM</td>\n",
       "      <td>서울특별시 강남구 신사동 587-21</td>\n",
       "    </tr>\n",
       "    <tr>\n",
       "      <th>416773</th>\n",
       "      <td>36628778</td>\n",
       "      <td>포포인츠 바이 쉐라톤 서울남산</td>\n",
       "      <td>ACM</td>\n",
       "      <td>서울특별시 용산구 동자동 37-85</td>\n",
       "    </tr>\n",
       "    <tr>\n",
       "      <th>416784</th>\n",
       "      <td>11659052</td>\n",
       "      <td>프레지던트 호텔</td>\n",
       "      <td>ACM</td>\n",
       "      <td>서울특별시 중구 을지로1가 188-3</td>\n",
       "    </tr>\n",
       "    <tr>\n",
       "      <th>416786</th>\n",
       "      <td>11579381</td>\n",
       "      <td>해밀톤 호텔</td>\n",
       "      <td>ACM</td>\n",
       "      <td>서울특별시 용산구 이태원로 179 해밀톤관광호텔</td>\n",
       "    </tr>\n",
       "  </tbody>\n",
       "</table>\n",
       "<p>221 rows × 4 columns</p>\n",
       "</div>"
      ],
      "text/plain": [
       "          place.id         place.name category                        address\n",
       "415515    36728037             31 페이지      ACM          서울특별시 동대문구 전농동 597-23\n",
       "415516    34300204          Ever8레지던스      ACM           서울특별시 서대문구 대현동 104-5\n",
       "415517    37490209                E호텔      ACM      서울특별시 서초구 반포대로18길 40 E 호텔\n",
       "415518   966279439              G2 호텔      ACM            서울특별시 중구 저동2가 48-27\n",
       "415519  1245880236         Hotel in 9      ACM  서울특별시 강남구 영동대로 618 Hotel in 9\n",
       "...            ...                ...      ...                            ...\n",
       "416757    11659048              퍼시픽호텔      ACM            서울특별시 중구 남산동2가 31-1\n",
       "416758  1670545829  포포인츠 바이 쉐라톤 서울 강남      ACM           서울특별시 강남구 신사동 587-21\n",
       "416773    36628778   포포인츠 바이 쉐라톤 서울남산      ACM            서울특별시 용산구 동자동 37-85\n",
       "416784    11659052           프레지던트 호텔      ACM           서울특별시 중구 을지로1가 188-3\n",
       "416786    11579381             해밀톤 호텔      ACM     서울특별시 용산구 이태원로 179 해밀톤관광호텔\n",
       "\n",
       "[221 rows x 4 columns]"
      ]
     },
     "execution_count": 140,
     "metadata": {},
     "output_type": "execute_result"
    }
   ],
   "source": [
    "nv_hotel"
   ]
  },
  {
   "cell_type": "code",
   "execution_count": 143,
   "metadata": {
    "Collapsed": "false"
   },
   "outputs": [],
   "source": [
    "nv_addr = pd.DataFrame(addr_list, columns = ['land.addr', 'road.addr', 'lat', 'lng'])"
   ]
  },
  {
   "cell_type": "code",
   "execution_count": 149,
   "metadata": {
    "Collapsed": "false"
   },
   "outputs": [],
   "source": [
    "nv_hotel = nv_hotel.reset_index(drop = True)"
   ]
  },
  {
   "cell_type": "code",
   "execution_count": 151,
   "metadata": {
    "Collapsed": "false"
   },
   "outputs": [],
   "source": [
    "nv_hotel = pd.concat([nv_hotel, nv_addr], axis = 1)"
   ]
  },
  {
   "cell_type": "code",
   "execution_count": 152,
   "metadata": {
    "Collapsed": "false"
   },
   "outputs": [
    {
     "name": "stderr",
     "output_type": "stream",
     "text": [
      "100%|██████████| 592/592 [00:49<00:00, 11.93it/s]\n"
     ]
    }
   ],
   "source": [
    "# 트립어드바이저 호텔\n",
    "addr_list = []\n",
    "for addr in tqdm(ta_hotel.address.values):\n",
    "    value = JS.NVgeocoding(addr)\n",
    "    addr_list.append(value)"
   ]
  },
  {
   "cell_type": "code",
   "execution_count": 154,
   "metadata": {
    "Collapsed": "false"
   },
   "outputs": [],
   "source": [
    "ta_addr = pd.DataFrame(addr_list, columns = ['land.addr', 'road.addr', 'lat', 'lng'])"
   ]
  },
  {
   "cell_type": "code",
   "execution_count": 156,
   "metadata": {
    "Collapsed": "false"
   },
   "outputs": [],
   "source": [
    "ta_hotel = pd.concat([ta_hotel, ta_addr], axis = 1)"
   ]
  },
  {
   "cell_type": "code",
   "execution_count": 197,
   "metadata": {
    "Collapsed": "false"
   },
   "outputs": [],
   "source": [
    "total2 = nv_hotel.merge(ta_hotel, on = 'land.addr')[['place.id_x', 'place.name_x', 'place.name_y', 'place.id_y', 'land.addr']]"
   ]
  },
  {
   "cell_type": "code",
   "execution_count": 198,
   "metadata": {
    "Collapsed": "false"
   },
   "outputs": [],
   "source": [
    "total2.to_excel('./hotel.distance.check.xlsx')"
   ]
  },
  {
   "cell_type": "code",
   "execution_count": 498,
   "metadata": {
    "Collapsed": "false"
   },
   "outputs": [],
   "source": [
    "totel2 = pd.read_excel('./hotel.distance.check.xlsx')"
   ]
  },
  {
   "cell_type": "code",
   "execution_count": 499,
   "metadata": {
    "Collapsed": "false"
   },
   "outputs": [
    {
     "data": {
      "text/html": [
       "<div>\n",
       "<style scoped>\n",
       "    .dataframe tbody tr th:only-of-type {\n",
       "        vertical-align: middle;\n",
       "    }\n",
       "\n",
       "    .dataframe tbody tr th {\n",
       "        vertical-align: top;\n",
       "    }\n",
       "\n",
       "    .dataframe thead th {\n",
       "        text-align: right;\n",
       "    }\n",
       "</style>\n",
       "<table border=\"1\" class=\"dataframe\">\n",
       "  <thead>\n",
       "    <tr style=\"text-align: right;\">\n",
       "      <th></th>\n",
       "      <th>place.id_x</th>\n",
       "      <th>place.id_y</th>\n",
       "    </tr>\n",
       "  </thead>\n",
       "  <tbody>\n",
       "    <tr>\n",
       "      <th>8</th>\n",
       "      <td>958174664</td>\n",
       "      <td>12707683</td>\n",
       "    </tr>\n",
       "    <tr>\n",
       "      <th>9</th>\n",
       "      <td>958174664</td>\n",
       "      <td>12707649</td>\n",
       "    </tr>\n",
       "    <tr>\n",
       "      <th>10</th>\n",
       "      <td>958174664</td>\n",
       "      <td>12698628</td>\n",
       "    </tr>\n",
       "    <tr>\n",
       "      <th>11</th>\n",
       "      <td>1475741466</td>\n",
       "      <td>12690380</td>\n",
       "    </tr>\n",
       "    <tr>\n",
       "      <th>12</th>\n",
       "      <td>1475741466</td>\n",
       "      <td>12707683</td>\n",
       "    </tr>\n",
       "    <tr>\n",
       "      <th>14</th>\n",
       "      <td>1475741466</td>\n",
       "      <td>12698628</td>\n",
       "    </tr>\n",
       "    <tr>\n",
       "      <th>15</th>\n",
       "      <td>1137153331</td>\n",
       "      <td>12690380</td>\n",
       "    </tr>\n",
       "    <tr>\n",
       "      <th>16</th>\n",
       "      <td>1137153331</td>\n",
       "      <td>12707683</td>\n",
       "    </tr>\n",
       "    <tr>\n",
       "      <th>17</th>\n",
       "      <td>1137153331</td>\n",
       "      <td>12707649</td>\n",
       "    </tr>\n",
       "    <tr>\n",
       "      <th>18</th>\n",
       "      <td>1137153331</td>\n",
       "      <td>12698628</td>\n",
       "    </tr>\n",
       "    <tr>\n",
       "      <th>19</th>\n",
       "      <td>1433721445</td>\n",
       "      <td>12690380</td>\n",
       "    </tr>\n",
       "    <tr>\n",
       "      <th>20</th>\n",
       "      <td>1433721445</td>\n",
       "      <td>12707683</td>\n",
       "    </tr>\n",
       "    <tr>\n",
       "      <th>21</th>\n",
       "      <td>1433721445</td>\n",
       "      <td>12707649</td>\n",
       "    </tr>\n",
       "    <tr>\n",
       "      <th>22</th>\n",
       "      <td>1433721445</td>\n",
       "      <td>12698628</td>\n",
       "    </tr>\n",
       "    <tr>\n",
       "      <th>23</th>\n",
       "      <td>1517144962</td>\n",
       "      <td>12690380</td>\n",
       "    </tr>\n",
       "    <tr>\n",
       "      <th>24</th>\n",
       "      <td>1517144962</td>\n",
       "      <td>12707683</td>\n",
       "    </tr>\n",
       "    <tr>\n",
       "      <th>25</th>\n",
       "      <td>1517144962</td>\n",
       "      <td>12707649</td>\n",
       "    </tr>\n",
       "    <tr>\n",
       "      <th>28</th>\n",
       "      <td>38218856</td>\n",
       "      <td>306115</td>\n",
       "    </tr>\n",
       "    <tr>\n",
       "      <th>29</th>\n",
       "      <td>34364327</td>\n",
       "      <td>306114</td>\n",
       "    </tr>\n",
       "    <tr>\n",
       "      <th>30</th>\n",
       "      <td>34364327</td>\n",
       "      <td>1657413</td>\n",
       "    </tr>\n",
       "    <tr>\n",
       "      <th>32</th>\n",
       "      <td>1922838423</td>\n",
       "      <td>754311</td>\n",
       "    </tr>\n",
       "    <tr>\n",
       "      <th>39</th>\n",
       "      <td>37536793</td>\n",
       "      <td>12940832</td>\n",
       "    </tr>\n",
       "    <tr>\n",
       "      <th>40</th>\n",
       "      <td>36172647</td>\n",
       "      <td>12310284</td>\n",
       "    </tr>\n",
       "    <tr>\n",
       "      <th>42</th>\n",
       "      <td>1866553915</td>\n",
       "      <td>6663003</td>\n",
       "    </tr>\n",
       "    <tr>\n",
       "      <th>45</th>\n",
       "      <td>1741224830</td>\n",
       "      <td>1465296</td>\n",
       "    </tr>\n",
       "    <tr>\n",
       "      <th>47</th>\n",
       "      <td>1569821908</td>\n",
       "      <td>306130</td>\n",
       "    </tr>\n",
       "    <tr>\n",
       "      <th>52</th>\n",
       "      <td>1287253850</td>\n",
       "      <td>1796658</td>\n",
       "    </tr>\n",
       "    <tr>\n",
       "      <th>70</th>\n",
       "      <td>31044289</td>\n",
       "      <td>299536</td>\n",
       "    </tr>\n",
       "    <tr>\n",
       "      <th>73</th>\n",
       "      <td>18552459</td>\n",
       "      <td>6378634</td>\n",
       "    </tr>\n",
       "    <tr>\n",
       "      <th>74</th>\n",
       "      <td>18552459</td>\n",
       "      <td>15557776</td>\n",
       "    </tr>\n",
       "    <tr>\n",
       "      <th>75</th>\n",
       "      <td>18552459</td>\n",
       "      <td>4071531</td>\n",
       "    </tr>\n",
       "    <tr>\n",
       "      <th>76</th>\n",
       "      <td>18552459</td>\n",
       "      <td>6628354</td>\n",
       "    </tr>\n",
       "    <tr>\n",
       "      <th>77</th>\n",
       "      <td>18552459</td>\n",
       "      <td>7790768</td>\n",
       "    </tr>\n",
       "    <tr>\n",
       "      <th>78</th>\n",
       "      <td>18552459</td>\n",
       "      <td>14159911</td>\n",
       "    </tr>\n",
       "    <tr>\n",
       "      <th>79</th>\n",
       "      <td>18552459</td>\n",
       "      <td>7613319</td>\n",
       "    </tr>\n",
       "    <tr>\n",
       "      <th>80</th>\n",
       "      <td>18552459</td>\n",
       "      <td>2539264</td>\n",
       "    </tr>\n",
       "    <tr>\n",
       "      <th>81</th>\n",
       "      <td>18552459</td>\n",
       "      <td>7103656</td>\n",
       "    </tr>\n",
       "    <tr>\n",
       "      <th>82</th>\n",
       "      <td>33880177</td>\n",
       "      <td>1150903</td>\n",
       "    </tr>\n",
       "    <tr>\n",
       "      <th>84</th>\n",
       "      <td>33880173</td>\n",
       "      <td>649806</td>\n",
       "    </tr>\n",
       "    <tr>\n",
       "      <th>86</th>\n",
       "      <td>12309433</td>\n",
       "      <td>299154</td>\n",
       "    </tr>\n",
       "    <tr>\n",
       "      <th>92</th>\n",
       "      <td>749127139</td>\n",
       "      <td>7951531</td>\n",
       "    </tr>\n",
       "    <tr>\n",
       "      <th>94</th>\n",
       "      <td>1135614482</td>\n",
       "      <td>15059533</td>\n",
       "    </tr>\n",
       "    <tr>\n",
       "      <th>99</th>\n",
       "      <td>36508138</td>\n",
       "      <td>306118</td>\n",
       "    </tr>\n",
       "    <tr>\n",
       "      <th>114</th>\n",
       "      <td>1500428988</td>\n",
       "      <td>2367780</td>\n",
       "    </tr>\n",
       "    <tr>\n",
       "      <th>115</th>\n",
       "      <td>1500428988</td>\n",
       "      <td>7358763</td>\n",
       "    </tr>\n",
       "    <tr>\n",
       "      <th>116</th>\n",
       "      <td>35905715</td>\n",
       "      <td>7274687</td>\n",
       "    </tr>\n",
       "  </tbody>\n",
       "</table>\n",
       "</div>"
      ],
      "text/plain": [
       "     place.id_x place.id_y\n",
       "8     958174664   12707683\n",
       "9     958174664   12707649\n",
       "10    958174664   12698628\n",
       "11   1475741466   12690380\n",
       "12   1475741466   12707683\n",
       "14   1475741466   12698628\n",
       "15   1137153331   12690380\n",
       "16   1137153331   12707683\n",
       "17   1137153331   12707649\n",
       "18   1137153331   12698628\n",
       "19   1433721445   12690380\n",
       "20   1433721445   12707683\n",
       "21   1433721445   12707649\n",
       "22   1433721445   12698628\n",
       "23   1517144962   12690380\n",
       "24   1517144962   12707683\n",
       "25   1517144962   12707649\n",
       "28     38218856     306115\n",
       "29     34364327     306114\n",
       "30     34364327    1657413\n",
       "32   1922838423     754311\n",
       "39     37536793   12940832\n",
       "40     36172647   12310284\n",
       "42   1866553915    6663003\n",
       "45   1741224830    1465296\n",
       "47   1569821908     306130\n",
       "52   1287253850    1796658\n",
       "70     31044289     299536\n",
       "73     18552459    6378634\n",
       "74     18552459   15557776\n",
       "75     18552459    4071531\n",
       "76     18552459    6628354\n",
       "77     18552459    7790768\n",
       "78     18552459   14159911\n",
       "79     18552459    7613319\n",
       "80     18552459    2539264\n",
       "81     18552459    7103656\n",
       "82     33880177    1150903\n",
       "84     33880173     649806\n",
       "86     12309433     299154\n",
       "92    749127139    7951531\n",
       "94   1135614482   15059533\n",
       "99     36508138     306118\n",
       "114  1500428988    2367780\n",
       "115  1500428988    7358763\n",
       "116    35905715    7274687"
      ]
     },
     "execution_count": 499,
     "metadata": {},
     "output_type": "execute_result"
    }
   ],
   "source": [
    "total2"
   ]
  },
  {
   "cell_type": "code",
   "execution_count": 202,
   "metadata": {
    "Collapsed": "false"
   },
   "outputs": [],
   "source": [
    "res = joblib.load(os.path.join('..', '..', 'data', 'JS_05_reviews.pkl'))"
   ]
  },
  {
   "cell_type": "code",
   "execution_count": 213,
   "metadata": {
    "Collapsed": "false"
   },
   "outputs": [
    {
     "name": "stdin",
     "output_type": "stream",
     "text": [
      " 0 0 0 0 0 0 0 0      0             0 0    0  0 0 0 0 0 0   0  0 0  0  0 0 0 0  0 0 0 0 0 0 0 0 0 0 0 0 0 0 0 0 0  0 0           0  0  0 0 0 0 0  0  0 0 0 0  0 0 0 0 0 0 0 0 0 0 0 0 0 0    0 0 0 0 0 0 0 0 0 0 0 0 0 0 0 0 0 0 0 0 0 0 0 0 0 0 0 0\n"
     ]
    }
   ],
   "source": [
    "index = input().split(' ')"
   ]
  },
  {
   "cell_type": "code",
   "execution_count": null,
   "metadata": {
    "Collapsed": "false"
   },
   "outputs": [],
   "source": [
    "total2['is_valid'] = index"
   ]
  },
  {
   "cell_type": "code",
   "execution_count": 218,
   "metadata": {
    "Collapsed": "false"
   },
   "outputs": [
    {
     "data": {
      "text/html": [
       "<div>\n",
       "<style scoped>\n",
       "    .dataframe tbody tr th:only-of-type {\n",
       "        vertical-align: middle;\n",
       "    }\n",
       "\n",
       "    .dataframe tbody tr th {\n",
       "        vertical-align: top;\n",
       "    }\n",
       "\n",
       "    .dataframe thead th {\n",
       "        text-align: right;\n",
       "    }\n",
       "</style>\n",
       "<table border=\"1\" class=\"dataframe\">\n",
       "  <thead>\n",
       "    <tr style=\"text-align: right;\">\n",
       "      <th></th>\n",
       "      <th>place.id_x</th>\n",
       "      <th>place.name_x</th>\n",
       "      <th>place.name_y</th>\n",
       "      <th>place.id_y</th>\n",
       "      <th>land.addr</th>\n",
       "      <th>is_valid</th>\n",
       "    </tr>\n",
       "  </thead>\n",
       "  <tbody>\n",
       "    <tr>\n",
       "      <th>0</th>\n",
       "      <td>34300204</td>\n",
       "      <td>Ever8레지던스</td>\n",
       "      <td>Ever8 서비스 레지던스</td>\n",
       "      <td>6402635</td>\n",
       "      <td>서울특별시 서대문구 대현동 104-5 신촌푸르지오시티</td>\n",
       "      <td>0</td>\n",
       "    </tr>\n",
       "    <tr>\n",
       "      <th>1</th>\n",
       "      <td>966279439</td>\n",
       "      <td>G2 호텔</td>\n",
       "      <td>G2 호텔</td>\n",
       "      <td>12287729</td>\n",
       "      <td>서울특별시 중구 저동2가 48-27</td>\n",
       "      <td>0</td>\n",
       "    </tr>\n",
       "    <tr>\n",
       "      <th>2</th>\n",
       "      <td>1245880236</td>\n",
       "      <td>Hotel in 9</td>\n",
       "      <td>호텔인나인</td>\n",
       "      <td>16741053</td>\n",
       "      <td>서울특별시 강남구 삼성동 91-28</td>\n",
       "      <td>0</td>\n",
       "    </tr>\n",
       "    <tr>\n",
       "      <th>3</th>\n",
       "      <td>12873138</td>\n",
       "      <td>MEASeoul</td>\n",
       "      <td>여의도파크센터 서울 - 메리어트 이그제큐티브 아파트먼트</td>\n",
       "      <td>659341</td>\n",
       "      <td>서울특별시 영등포구 여의도동 28-3 여의도파크센터</td>\n",
       "      <td>0</td>\n",
       "    </tr>\n",
       "    <tr>\n",
       "      <th>4</th>\n",
       "      <td>13286706</td>\n",
       "      <td>강남아르누보시티</td>\n",
       "      <td>강남 아르누보 씨티 II</td>\n",
       "      <td>1643621</td>\n",
       "      <td>서울특별시 서초구 서초동 1330-4 아르누보씨티2</td>\n",
       "      <td>0</td>\n",
       "    </tr>\n",
       "    <tr>\n",
       "      <th>...</th>\n",
       "      <td>...</td>\n",
       "      <td>...</td>\n",
       "      <td>...</td>\n",
       "      <td>...</td>\n",
       "      <td>...</td>\n",
       "      <td>...</td>\n",
       "    </tr>\n",
       "    <tr>\n",
       "      <th>140</th>\n",
       "      <td>13217405</td>\n",
       "      <td>코트야드 메리어트 서울 타임스퀘어</td>\n",
       "      <td>코트야드 메리어트 서울 타임스퀘어</td>\n",
       "      <td>1557869</td>\n",
       "      <td>서울특별시 영등포구 영등포동4가 442 타임스퀘어</td>\n",
       "      <td>0</td>\n",
       "    </tr>\n",
       "    <tr>\n",
       "      <th>141</th>\n",
       "      <td>11659048</td>\n",
       "      <td>퍼시픽호텔</td>\n",
       "      <td>퍼시픽호텔</td>\n",
       "      <td>455976</td>\n",
       "      <td>서울특별시 중구 남산동2가 31-1 퍼시픽호텔</td>\n",
       "      <td>0</td>\n",
       "    </tr>\n",
       "    <tr>\n",
       "      <th>142</th>\n",
       "      <td>1670545829</td>\n",
       "      <td>포포인츠 바이 쉐라톤 서울 강남</td>\n",
       "      <td>포포인츠 바이 쉐라톤 서울 강남</td>\n",
       "      <td>13781380</td>\n",
       "      <td>서울특별시 강남구 신사동 587-21 포포인츠바이쉐라톤서울강남</td>\n",
       "      <td>0</td>\n",
       "    </tr>\n",
       "    <tr>\n",
       "      <th>143</th>\n",
       "      <td>11659052</td>\n",
       "      <td>프레지던트 호텔</td>\n",
       "      <td>호텔 프레지던트</td>\n",
       "      <td>306136</td>\n",
       "      <td>서울특별시 중구 을지로1가 188-3 프레지던트호텔</td>\n",
       "      <td>0</td>\n",
       "    </tr>\n",
       "    <tr>\n",
       "      <th>144</th>\n",
       "      <td>11579381</td>\n",
       "      <td>해밀톤 호텔</td>\n",
       "      <td>해밀톤 호텔</td>\n",
       "      <td>309826</td>\n",
       "      <td>서울특별시 용산구 이태원동 108-9 해밀톤호텔 (본관)</td>\n",
       "      <td>0</td>\n",
       "    </tr>\n",
       "  </tbody>\n",
       "</table>\n",
       "<p>99 rows × 6 columns</p>\n",
       "</div>"
      ],
      "text/plain": [
       "     place.id_x        place.name_x                    place.name_y  \\\n",
       "0      34300204           Ever8레지던스                  Ever8 서비스 레지던스   \n",
       "1     966279439               G2 호텔                           G2 호텔   \n",
       "2    1245880236          Hotel in 9                           호텔인나인   \n",
       "3      12873138            MEASeoul  여의도파크센터 서울 - 메리어트 이그제큐티브 아파트먼트   \n",
       "4      13286706            강남아르누보시티                   강남 아르누보 씨티 II   \n",
       "..          ...                 ...                             ...   \n",
       "140    13217405  코트야드 메리어트 서울 타임스퀘어              코트야드 메리어트 서울 타임스퀘어   \n",
       "141    11659048               퍼시픽호텔                           퍼시픽호텔   \n",
       "142  1670545829   포포인츠 바이 쉐라톤 서울 강남               포포인츠 바이 쉐라톤 서울 강남   \n",
       "143    11659052            프레지던트 호텔                        호텔 프레지던트   \n",
       "144    11579381              해밀톤 호텔                          해밀톤 호텔   \n",
       "\n",
       "    place.id_y                           land.addr is_valid  \n",
       "0      6402635       서울특별시 서대문구 대현동 104-5 신촌푸르지오시티        0  \n",
       "1     12287729                 서울특별시 중구 저동2가 48-27        0  \n",
       "2     16741053                 서울특별시 강남구 삼성동 91-28        0  \n",
       "3       659341        서울특별시 영등포구 여의도동 28-3 여의도파크센터        0  \n",
       "4      1643621        서울특별시 서초구 서초동 1330-4 아르누보씨티2        0  \n",
       "..         ...                                 ...      ...  \n",
       "140    1557869         서울특별시 영등포구 영등포동4가 442 타임스퀘어        0  \n",
       "141     455976           서울특별시 중구 남산동2가 31-1 퍼시픽호텔        0  \n",
       "142   13781380  서울특별시 강남구 신사동 587-21 포포인츠바이쉐라톤서울강남        0  \n",
       "143     306136        서울특별시 중구 을지로1가 188-3 프레지던트호텔        0  \n",
       "144     309826     서울특별시 용산구 이태원동 108-9 해밀톤호텔 (본관)        0  \n",
       "\n",
       "[99 rows x 6 columns]"
      ]
     },
     "execution_count": 218,
     "metadata": {},
     "output_type": "execute_result"
    }
   ],
   "source": [
    "total2[total2.is_valid == '0']"
   ]
  },
  {
   "cell_type": "code",
   "execution_count": 222,
   "metadata": {
    "Collapsed": "false"
   },
   "outputs": [],
   "source": [
    "res.loc[res['place.id'] == '1866553915', 'place.id'] = '34907069'"
   ]
  },
  {
   "cell_type": "code",
   "execution_count": 224,
   "metadata": {
    "Collapsed": "false"
   },
   "outputs": [],
   "source": [
    "res.loc[res['place.id'] == '1741224830', 'place.id'] = '13069031'\n",
    "res.loc[res['place.id'] == '13401813', 'place.id'] = '1287253850'"
   ]
  },
  {
   "cell_type": "code",
   "execution_count": 233,
   "metadata": {
    "Collapsed": "false"
   },
   "outputs": [],
   "source": [
    "change_index = total2.loc[total2.is_valid == '0', ['place.id_x', 'place.id_y']]"
   ]
  },
  {
   "cell_type": "code",
   "execution_count": 354,
   "metadata": {
    "Collapsed": "false"
   },
   "outputs": [],
   "source": [
    "ta = pd.read_json(os.path.join('..', '..', 'data','TA_User_Review_Seoul_all_v2.json'))"
   ]
  },
  {
   "cell_type": "code",
   "execution_count": 239,
   "metadata": {
    "Collapsed": "false"
   },
   "outputs": [
    {
     "data": {
      "text/html": [
       "<div>\n",
       "<style scoped>\n",
       "    .dataframe tbody tr th:only-of-type {\n",
       "        vertical-align: middle;\n",
       "    }\n",
       "\n",
       "    .dataframe tbody tr th {\n",
       "        vertical-align: top;\n",
       "    }\n",
       "\n",
       "    .dataframe thead th {\n",
       "        text-align: right;\n",
       "    }\n",
       "</style>\n",
       "<table border=\"1\" class=\"dataframe\">\n",
       "  <thead>\n",
       "    <tr style=\"text-align: right;\">\n",
       "      <th></th>\n",
       "      <th>place.id_x</th>\n",
       "      <th>place.id_y</th>\n",
       "    </tr>\n",
       "  </thead>\n",
       "  <tbody>\n",
       "    <tr>\n",
       "      <th>0</th>\n",
       "      <td>34300204</td>\n",
       "      <td>6402635</td>\n",
       "    </tr>\n",
       "    <tr>\n",
       "      <th>1</th>\n",
       "      <td>966279439</td>\n",
       "      <td>12287729</td>\n",
       "    </tr>\n",
       "    <tr>\n",
       "      <th>2</th>\n",
       "      <td>1245880236</td>\n",
       "      <td>16741053</td>\n",
       "    </tr>\n",
       "    <tr>\n",
       "      <th>3</th>\n",
       "      <td>12873138</td>\n",
       "      <td>659341</td>\n",
       "    </tr>\n",
       "    <tr>\n",
       "      <th>4</th>\n",
       "      <td>13286706</td>\n",
       "      <td>1643621</td>\n",
       "    </tr>\n",
       "    <tr>\n",
       "      <th>...</th>\n",
       "      <td>...</td>\n",
       "      <td>...</td>\n",
       "    </tr>\n",
       "    <tr>\n",
       "      <th>140</th>\n",
       "      <td>13217405</td>\n",
       "      <td>1557869</td>\n",
       "    </tr>\n",
       "    <tr>\n",
       "      <th>141</th>\n",
       "      <td>11659048</td>\n",
       "      <td>455976</td>\n",
       "    </tr>\n",
       "    <tr>\n",
       "      <th>142</th>\n",
       "      <td>1670545829</td>\n",
       "      <td>13781380</td>\n",
       "    </tr>\n",
       "    <tr>\n",
       "      <th>143</th>\n",
       "      <td>11659052</td>\n",
       "      <td>306136</td>\n",
       "    </tr>\n",
       "    <tr>\n",
       "      <th>144</th>\n",
       "      <td>11579381</td>\n",
       "      <td>309826</td>\n",
       "    </tr>\n",
       "  </tbody>\n",
       "</table>\n",
       "<p>99 rows × 2 columns</p>\n",
       "</div>"
      ],
      "text/plain": [
       "     place.id_x place.id_y\n",
       "0      34300204    6402635\n",
       "1     966279439   12287729\n",
       "2    1245880236   16741053\n",
       "3      12873138     659341\n",
       "4      13286706    1643621\n",
       "..          ...        ...\n",
       "140    13217405    1557869\n",
       "141    11659048     455976\n",
       "142  1670545829   13781380\n",
       "143    11659052     306136\n",
       "144    11579381     309826\n",
       "\n",
       "[99 rows x 2 columns]"
      ]
     },
     "execution_count": 239,
     "metadata": {},
     "output_type": "execute_result"
    }
   ],
   "source": [
    "change_index"
   ]
  },
  {
   "cell_type": "code",
   "execution_count": 259,
   "metadata": {
    "Collapsed": "false"
   },
   "outputs": [],
   "source": [
    "total2 = total2.loc[total2['is_valid'] == '', ['place.id_x', 'place.id_y']]"
   ]
  },
  {
   "cell_type": "code",
   "execution_count": 241,
   "metadata": {
    "Collapsed": "false"
   },
   "outputs": [],
   "source": [
    "ta_review['location.locationId'] = ta_review['location.locationId'].astype(str)"
   ]
  },
  {
   "cell_type": "code",
   "execution_count": 243,
   "metadata": {
    "Collapsed": "false"
   },
   "outputs": [],
   "source": [
    "for nv_idx, ta_idx in change_index.values:\n",
    "    ta_review.loc[ta_review['location.locationId'] == ta_idx, 'location.locationId'] = nv_idx"
   ]
  },
  {
   "cell_type": "code",
   "execution_count": 260,
   "metadata": {
    "Collapsed": "false"
   },
   "outputs": [
    {
     "data": {
      "text/html": [
       "<div>\n",
       "<style scoped>\n",
       "    .dataframe tbody tr th:only-of-type {\n",
       "        vertical-align: middle;\n",
       "    }\n",
       "\n",
       "    .dataframe tbody tr th {\n",
       "        vertical-align: top;\n",
       "    }\n",
       "\n",
       "    .dataframe thead th {\n",
       "        text-align: right;\n",
       "    }\n",
       "</style>\n",
       "<table border=\"1\" class=\"dataframe\">\n",
       "  <thead>\n",
       "    <tr style=\"text-align: right;\">\n",
       "      <th></th>\n",
       "      <th>place.id_x</th>\n",
       "      <th>place.id_y</th>\n",
       "    </tr>\n",
       "  </thead>\n",
       "  <tbody>\n",
       "    <tr>\n",
       "      <th>8</th>\n",
       "      <td>958174664</td>\n",
       "      <td>12707683</td>\n",
       "    </tr>\n",
       "    <tr>\n",
       "      <th>9</th>\n",
       "      <td>958174664</td>\n",
       "      <td>12707649</td>\n",
       "    </tr>\n",
       "    <tr>\n",
       "      <th>10</th>\n",
       "      <td>958174664</td>\n",
       "      <td>12698628</td>\n",
       "    </tr>\n",
       "    <tr>\n",
       "      <th>11</th>\n",
       "      <td>1475741466</td>\n",
       "      <td>12690380</td>\n",
       "    </tr>\n",
       "    <tr>\n",
       "      <th>12</th>\n",
       "      <td>1475741466</td>\n",
       "      <td>12707683</td>\n",
       "    </tr>\n",
       "    <tr>\n",
       "      <th>14</th>\n",
       "      <td>1475741466</td>\n",
       "      <td>12698628</td>\n",
       "    </tr>\n",
       "    <tr>\n",
       "      <th>15</th>\n",
       "      <td>1137153331</td>\n",
       "      <td>12690380</td>\n",
       "    </tr>\n",
       "    <tr>\n",
       "      <th>16</th>\n",
       "      <td>1137153331</td>\n",
       "      <td>12707683</td>\n",
       "    </tr>\n",
       "    <tr>\n",
       "      <th>17</th>\n",
       "      <td>1137153331</td>\n",
       "      <td>12707649</td>\n",
       "    </tr>\n",
       "    <tr>\n",
       "      <th>18</th>\n",
       "      <td>1137153331</td>\n",
       "      <td>12698628</td>\n",
       "    </tr>\n",
       "    <tr>\n",
       "      <th>19</th>\n",
       "      <td>1433721445</td>\n",
       "      <td>12690380</td>\n",
       "    </tr>\n",
       "    <tr>\n",
       "      <th>20</th>\n",
       "      <td>1433721445</td>\n",
       "      <td>12707683</td>\n",
       "    </tr>\n",
       "    <tr>\n",
       "      <th>21</th>\n",
       "      <td>1433721445</td>\n",
       "      <td>12707649</td>\n",
       "    </tr>\n",
       "    <tr>\n",
       "      <th>22</th>\n",
       "      <td>1433721445</td>\n",
       "      <td>12698628</td>\n",
       "    </tr>\n",
       "    <tr>\n",
       "      <th>23</th>\n",
       "      <td>1517144962</td>\n",
       "      <td>12690380</td>\n",
       "    </tr>\n",
       "    <tr>\n",
       "      <th>24</th>\n",
       "      <td>1517144962</td>\n",
       "      <td>12707683</td>\n",
       "    </tr>\n",
       "    <tr>\n",
       "      <th>25</th>\n",
       "      <td>1517144962</td>\n",
       "      <td>12707649</td>\n",
       "    </tr>\n",
       "    <tr>\n",
       "      <th>28</th>\n",
       "      <td>38218856</td>\n",
       "      <td>306115</td>\n",
       "    </tr>\n",
       "    <tr>\n",
       "      <th>29</th>\n",
       "      <td>34364327</td>\n",
       "      <td>306114</td>\n",
       "    </tr>\n",
       "    <tr>\n",
       "      <th>30</th>\n",
       "      <td>34364327</td>\n",
       "      <td>1657413</td>\n",
       "    </tr>\n",
       "    <tr>\n",
       "      <th>32</th>\n",
       "      <td>1922838423</td>\n",
       "      <td>754311</td>\n",
       "    </tr>\n",
       "    <tr>\n",
       "      <th>39</th>\n",
       "      <td>37536793</td>\n",
       "      <td>12940832</td>\n",
       "    </tr>\n",
       "    <tr>\n",
       "      <th>40</th>\n",
       "      <td>36172647</td>\n",
       "      <td>12310284</td>\n",
       "    </tr>\n",
       "    <tr>\n",
       "      <th>42</th>\n",
       "      <td>1866553915</td>\n",
       "      <td>6663003</td>\n",
       "    </tr>\n",
       "    <tr>\n",
       "      <th>45</th>\n",
       "      <td>1741224830</td>\n",
       "      <td>1465296</td>\n",
       "    </tr>\n",
       "    <tr>\n",
       "      <th>47</th>\n",
       "      <td>1569821908</td>\n",
       "      <td>306130</td>\n",
       "    </tr>\n",
       "    <tr>\n",
       "      <th>52</th>\n",
       "      <td>1287253850</td>\n",
       "      <td>1796658</td>\n",
       "    </tr>\n",
       "    <tr>\n",
       "      <th>70</th>\n",
       "      <td>31044289</td>\n",
       "      <td>299536</td>\n",
       "    </tr>\n",
       "    <tr>\n",
       "      <th>73</th>\n",
       "      <td>18552459</td>\n",
       "      <td>6378634</td>\n",
       "    </tr>\n",
       "    <tr>\n",
       "      <th>74</th>\n",
       "      <td>18552459</td>\n",
       "      <td>15557776</td>\n",
       "    </tr>\n",
       "    <tr>\n",
       "      <th>75</th>\n",
       "      <td>18552459</td>\n",
       "      <td>4071531</td>\n",
       "    </tr>\n",
       "    <tr>\n",
       "      <th>76</th>\n",
       "      <td>18552459</td>\n",
       "      <td>6628354</td>\n",
       "    </tr>\n",
       "    <tr>\n",
       "      <th>77</th>\n",
       "      <td>18552459</td>\n",
       "      <td>7790768</td>\n",
       "    </tr>\n",
       "    <tr>\n",
       "      <th>78</th>\n",
       "      <td>18552459</td>\n",
       "      <td>14159911</td>\n",
       "    </tr>\n",
       "    <tr>\n",
       "      <th>79</th>\n",
       "      <td>18552459</td>\n",
       "      <td>7613319</td>\n",
       "    </tr>\n",
       "    <tr>\n",
       "      <th>80</th>\n",
       "      <td>18552459</td>\n",
       "      <td>2539264</td>\n",
       "    </tr>\n",
       "    <tr>\n",
       "      <th>81</th>\n",
       "      <td>18552459</td>\n",
       "      <td>7103656</td>\n",
       "    </tr>\n",
       "    <tr>\n",
       "      <th>82</th>\n",
       "      <td>33880177</td>\n",
       "      <td>1150903</td>\n",
       "    </tr>\n",
       "    <tr>\n",
       "      <th>84</th>\n",
       "      <td>33880173</td>\n",
       "      <td>649806</td>\n",
       "    </tr>\n",
       "    <tr>\n",
       "      <th>86</th>\n",
       "      <td>12309433</td>\n",
       "      <td>299154</td>\n",
       "    </tr>\n",
       "    <tr>\n",
       "      <th>92</th>\n",
       "      <td>749127139</td>\n",
       "      <td>7951531</td>\n",
       "    </tr>\n",
       "    <tr>\n",
       "      <th>94</th>\n",
       "      <td>1135614482</td>\n",
       "      <td>15059533</td>\n",
       "    </tr>\n",
       "    <tr>\n",
       "      <th>99</th>\n",
       "      <td>36508138</td>\n",
       "      <td>306118</td>\n",
       "    </tr>\n",
       "    <tr>\n",
       "      <th>114</th>\n",
       "      <td>1500428988</td>\n",
       "      <td>2367780</td>\n",
       "    </tr>\n",
       "    <tr>\n",
       "      <th>115</th>\n",
       "      <td>1500428988</td>\n",
       "      <td>7358763</td>\n",
       "    </tr>\n",
       "    <tr>\n",
       "      <th>116</th>\n",
       "      <td>35905715</td>\n",
       "      <td>7274687</td>\n",
       "    </tr>\n",
       "  </tbody>\n",
       "</table>\n",
       "</div>"
      ],
      "text/plain": [
       "     place.id_x place.id_y\n",
       "8     958174664   12707683\n",
       "9     958174664   12707649\n",
       "10    958174664   12698628\n",
       "11   1475741466   12690380\n",
       "12   1475741466   12707683\n",
       "14   1475741466   12698628\n",
       "15   1137153331   12690380\n",
       "16   1137153331   12707683\n",
       "17   1137153331   12707649\n",
       "18   1137153331   12698628\n",
       "19   1433721445   12690380\n",
       "20   1433721445   12707683\n",
       "21   1433721445   12707649\n",
       "22   1433721445   12698628\n",
       "23   1517144962   12690380\n",
       "24   1517144962   12707683\n",
       "25   1517144962   12707649\n",
       "28     38218856     306115\n",
       "29     34364327     306114\n",
       "30     34364327    1657413\n",
       "32   1922838423     754311\n",
       "39     37536793   12940832\n",
       "40     36172647   12310284\n",
       "42   1866553915    6663003\n",
       "45   1741224830    1465296\n",
       "47   1569821908     306130\n",
       "52   1287253850    1796658\n",
       "70     31044289     299536\n",
       "73     18552459    6378634\n",
       "74     18552459   15557776\n",
       "75     18552459    4071531\n",
       "76     18552459    6628354\n",
       "77     18552459    7790768\n",
       "78     18552459   14159911\n",
       "79     18552459    7613319\n",
       "80     18552459    2539264\n",
       "81     18552459    7103656\n",
       "82     33880177    1150903\n",
       "84     33880173     649806\n",
       "86     12309433     299154\n",
       "92    749127139    7951531\n",
       "94   1135614482   15059533\n",
       "99     36508138     306118\n",
       "114  1500428988    2367780\n",
       "115  1500428988    7358763\n",
       "116    35905715    7274687"
      ]
     },
     "execution_count": 260,
     "metadata": {},
     "output_type": "execute_result"
    }
   ],
   "source": [
    "total2"
   ]
  },
  {
   "cell_type": "code",
   "execution_count": 264,
   "metadata": {
    "Collapsed": "false"
   },
   "outputs": [],
   "source": [
    "temp1 = res.merge(total2[['place.id_x']], left_on = 'place.id', right_on = 'place.id_x')"
   ]
  },
  {
   "cell_type": "code",
   "execution_count": 265,
   "metadata": {
    "Collapsed": "false"
   },
   "outputs": [],
   "source": [
    "temp2 = res.merge(change_index[['place.id_x']], left_on = 'place.id', right_on = 'place.id_x')"
   ]
  },
  {
   "cell_type": "code",
   "execution_count": 267,
   "metadata": {
    "Collapsed": "false"
   },
   "outputs": [],
   "source": [
    "temp3 = ta_review.merge(total2[['place.id_y']], left_on = 'location.locationId', right_on = 'place.id_y')"
   ]
  },
  {
   "cell_type": "code",
   "execution_count": 268,
   "metadata": {
    "Collapsed": "false"
   },
   "outputs": [],
   "source": [
    "temp4 = ta_review.merge(change_index[['place.id_x']], left_on = 'location.locationId', right_on = 'place.id_x')"
   ]
  },
  {
   "cell_type": "code",
   "execution_count": 270,
   "metadata": {
    "Collapsed": "false"
   },
   "outputs": [
    {
     "data": {
      "text/plain": [
       "((316, 25), (966, 25), (5626, 33), (14689, 33))"
      ]
     },
     "execution_count": 270,
     "metadata": {},
     "output_type": "execute_result"
    }
   ],
   "source": [
    "temp1.shape, temp2.shape, temp3.shape, temp4.shape"
   ]
  },
  {
   "cell_type": "code",
   "execution_count": 286,
   "metadata": {
    "Collapsed": "false"
   },
   "outputs": [],
   "source": [
    "nv_review = pd.concat([temp1, temp2], axis = 0)"
   ]
  },
  {
   "cell_type": "code",
   "execution_count": 288,
   "metadata": {
    "Collapsed": "false"
   },
   "outputs": [],
   "source": [
    "nv_review['photonum'] = nv_review['media'].apply(lambda x: x.count('IMAGE'))"
   ]
  },
  {
   "cell_type": "code",
   "execution_count": 290,
   "metadata": {
    "Collapsed": "false"
   },
   "outputs": [],
   "source": [
    "nv_review['createdDate'] = nv_review['visitedDate.date'].astype(str).astype('datetime64') "
   ]
  },
  {
   "cell_type": "code",
   "execution_count": 469,
   "metadata": {
    "Collapsed": "false"
   },
   "outputs": [],
   "source": [
    "ta_review = pd.concat([temp3, temp4], axis = 0)"
   ]
  },
  {
   "cell_type": "code",
   "execution_count": 470,
   "metadata": {
    "Collapsed": "false"
   },
   "outputs": [],
   "source": [
    "ta_review['photonum'] = ta_review['photos'].apply(lambda x: len(x))"
   ]
  },
  {
   "cell_type": "code",
   "execution_count": 471,
   "metadata": {
    "Collapsed": "false"
   },
   "outputs": [],
   "source": [
    "ta_review['createdDate'] = ta_review['createdDate'].astype(str).astype('datetime64')"
   ]
  },
  {
   "cell_type": "code",
   "execution_count": 304,
   "metadata": {
    "Collapsed": "false"
   },
   "outputs": [],
   "source": [
    "nv_review = nv_review[['id', 'rating', 'body', 'idno', 'place.id', 'place.name', 'photonum', 'createdDate']]"
   ]
  },
  {
   "cell_type": "code",
   "execution_count": 472,
   "metadata": {
    "Collapsed": "false"
   },
   "outputs": [],
   "source": [
    "ta_review = ta_review[['id', 'rating', 'text', 'userId', 'location.locationId', 'location.name', 'photonum', 'createdDate', 'language']]"
   ]
  },
  {
   "cell_type": "code",
   "execution_count": 473,
   "metadata": {
    "Collapsed": "false"
   },
   "outputs": [
    {
     "name": "stderr",
     "output_type": "stream",
     "text": [
      "/Users/jinseok/opt/anaconda3/lib/python3.7/site-packages/ipykernel_launcher.py:1: SettingWithCopyWarning: \n",
      "A value is trying to be set on a copy of a slice from a DataFrame.\n",
      "Try using .loc[row_indexer,col_indexer] = value instead\n",
      "\n",
      "See the caveats in the documentation: https://pandas.pydata.org/pandas-docs/stable/user_guide/indexing.html#returning-a-view-versus-a-copy\n",
      "  \"\"\"Entry point for launching an IPython kernel.\n"
     ]
    }
   ],
   "source": [
    "nv_review['is_fch'] = 0\n",
    "ta_review['is_fch'] = 0"
   ]
  },
  {
   "cell_type": "code",
   "execution_count": 318,
   "metadata": {
    "Collapsed": "false"
   },
   "outputs": [
    {
     "name": "stderr",
     "output_type": "stream",
     "text": [
      "/Users/jinseok/opt/anaconda3/lib/python3.7/site-packages/ipykernel_launcher.py:1: SettingWithCopyWarning: \n",
      "A value is trying to be set on a copy of a slice from a DataFrame.\n",
      "Try using .loc[row_indexer,col_indexer] = value instead\n",
      "\n",
      "See the caveats in the documentation: https://pandas.pydata.org/pandas-docs/stable/user_guide/indexing.html#returning-a-view-versus-a-copy\n",
      "  \"\"\"Entry point for launching an IPython kernel.\n"
     ]
    }
   ],
   "source": [
    "nv_review['language'] = 'ko'"
   ]
  },
  {
   "cell_type": "code",
   "execution_count": 330,
   "metadata": {
    "Collapsed": "false"
   },
   "outputs": [],
   "source": [
    "for nv_idx, ta_idx in change_index.values:\n",
    "    ta_hotel.loc[ta_hotel['place.id'] == ta_idx, 'place.id'] = 0"
   ]
  },
  {
   "cell_type": "code",
   "execution_count": 335,
   "metadata": {
    "Collapsed": "false"
   },
   "outputs": [],
   "source": [
    "ta_hotel = ta_hotel.loc[ta_hotel['place.id'] != 0]"
   ]
  },
  {
   "cell_type": "code",
   "execution_count": 340,
   "metadata": {
    "Collapsed": "false"
   },
   "outputs": [],
   "source": [
    "hotel = pd.concat([nv_hotel, ta_hotel], axis = 0)"
   ]
  },
  {
   "cell_type": "code",
   "execution_count": 343,
   "metadata": {
    "Collapsed": "false"
   },
   "outputs": [],
   "source": [
    "final_review = pd.read_excel(os.path.join('..', '..', 'data','JS_10_data_review.xlsx'))"
   ]
  },
  {
   "cell_type": "code",
   "execution_count": 344,
   "metadata": {
    "Collapsed": "false"
   },
   "outputs": [
    {
     "data": {
      "text/html": [
       "<div>\n",
       "<style scoped>\n",
       "    .dataframe tbody tr th:only-of-type {\n",
       "        vertical-align: middle;\n",
       "    }\n",
       "\n",
       "    .dataframe tbody tr th {\n",
       "        vertical-align: top;\n",
       "    }\n",
       "\n",
       "    .dataframe thead th {\n",
       "        text-align: right;\n",
       "    }\n",
       "</style>\n",
       "<table border=\"1\" class=\"dataframe\">\n",
       "  <thead>\n",
       "    <tr style=\"text-align: right;\">\n",
       "      <th></th>\n",
       "      <th>id</th>\n",
       "      <th>rating</th>\n",
       "      <th>body</th>\n",
       "      <th>idno</th>\n",
       "      <th>place.id</th>\n",
       "      <th>place.name</th>\n",
       "      <th>photonum</th>\n",
       "      <th>createdDate</th>\n",
       "    </tr>\n",
       "  </thead>\n",
       "  <tbody>\n",
       "    <tr>\n",
       "      <th>0</th>\n",
       "      <td>5ec7ec658160f100109a8368</td>\n",
       "      <td>4.5</td>\n",
       "      <td>NaN</td>\n",
       "      <td>4TXey</td>\n",
       "      <td>1150710065</td>\n",
       "      <td>스타벅스 보라매공원R점</td>\n",
       "      <td>0</td>\n",
       "      <td>2020-05-21 20:42:00</td>\n",
       "    </tr>\n",
       "    <tr>\n",
       "      <th>1</th>\n",
       "      <td>5d14eaa963951f37e4243fa5</td>\n",
       "      <td>5.0</td>\n",
       "      <td>none</td>\n",
       "      <td>awWC</td>\n",
       "      <td>1150710065</td>\n",
       "      <td>스타벅스 보라매공원R점</td>\n",
       "      <td>0</td>\n",
       "      <td>2019-06-28 01:11:03</td>\n",
       "    </tr>\n",
       "    <tr>\n",
       "      <th>2</th>\n",
       "      <td>5e69024bf896230011648a61</td>\n",
       "      <td>5.0</td>\n",
       "      <td>NaN</td>\n",
       "      <td>1Unzg</td>\n",
       "      <td>1150710065</td>\n",
       "      <td>스타벅스 보라매공원R점</td>\n",
       "      <td>0</td>\n",
       "      <td>2020-03-12 00:22:00</td>\n",
       "    </tr>\n",
       "    <tr>\n",
       "      <th>3</th>\n",
       "      <td>5e4f98b95543c700113e18e7</td>\n",
       "      <td>5.0</td>\n",
       "      <td>NaN</td>\n",
       "      <td>LRVl</td>\n",
       "      <td>1150710065</td>\n",
       "      <td>스타벅스 보라매공원R점</td>\n",
       "      <td>0</td>\n",
       "      <td>2020-02-16 17:06:00</td>\n",
       "    </tr>\n",
       "    <tr>\n",
       "      <th>4</th>\n",
       "      <td>5c8528bdf9e6b96d632ae302</td>\n",
       "      <td>5.0</td>\n",
       "      <td>2019.03.06\\nHH</td>\n",
       "      <td>ESN1</td>\n",
       "      <td>1150710065</td>\n",
       "      <td>스타벅스 보라매공원R점</td>\n",
       "      <td>0</td>\n",
       "      <td>2019-03-11 00:08:48</td>\n",
       "    </tr>\n",
       "    <tr>\n",
       "      <th>...</th>\n",
       "      <td>...</td>\n",
       "      <td>...</td>\n",
       "      <td>...</td>\n",
       "      <td>...</td>\n",
       "      <td>...</td>\n",
       "      <td>...</td>\n",
       "      <td>...</td>\n",
       "      <td>...</td>\n",
       "    </tr>\n",
       "    <tr>\n",
       "      <th>415510</th>\n",
       "      <td>377783462</td>\n",
       "      <td>5.0</td>\n",
       "      <td>Excellent breakfast something for everyone. Fr...</td>\n",
       "      <td>0D7BA322E49206AF13A9369774B88AE0</td>\n",
       "      <td>10161356</td>\n",
       "      <td>MoMo Cafe</td>\n",
       "      <td>0</td>\n",
       "      <td>2016-05-29 00:00:00</td>\n",
       "    </tr>\n",
       "    <tr>\n",
       "      <th>415511</th>\n",
       "      <td>654067981</td>\n",
       "      <td>3.0</td>\n",
       "      <td>자주가는 매장인데 오래된 곳인만큼 아직도 USB충전이 안되는 테이블을 사용합니다. ...</td>\n",
       "      <td>A3EFF472632FABBF7B76AFDBC7E0D27C</td>\n",
       "      <td>3894901</td>\n",
       "      <td>Starbucks Gyeongbokgung Station 3 Line</td>\n",
       "      <td>0</td>\n",
       "      <td>2019-02-22 00:00:00</td>\n",
       "    </tr>\n",
       "    <tr>\n",
       "      <th>415512</th>\n",
       "      <td>381624991</td>\n",
       "      <td>5.0</td>\n",
       "      <td>This is an adorable coffee shop in Myeongdong....</td>\n",
       "      <td>11424075023A02372320A7F4A93A55A2</td>\n",
       "      <td>948337</td>\n",
       "      <td>Coffee Love</td>\n",
       "      <td>0</td>\n",
       "      <td>2016-06-11 00:00:00</td>\n",
       "    </tr>\n",
       "    <tr>\n",
       "      <th>415513</th>\n",
       "      <td>671052612</td>\n",
       "      <td>4.0</td>\n",
       "      <td>다양한 해산물과 소고기와 함께 뷔페까지 먹을 수 있는 단체 모임장소로도 좋은 샤브샤...</td>\n",
       "      <td>7D786BDC124247789DBC1E9860C54B81</td>\n",
       "      <td>9035619</td>\n",
       "      <td>Haejeokseon Seafood Buffet</td>\n",
       "      <td>4</td>\n",
       "      <td>2019-05-03 00:00:00</td>\n",
       "    </tr>\n",
       "    <tr>\n",
       "      <th>415514</th>\n",
       "      <td>670618102</td>\n",
       "      <td>5.0</td>\n",
       "      <td>2층의 넓은 매장으로 질좋군 돼지고기와 소고기 한우를 맛볼 수 있는 곳으로 깔끔한 ...</td>\n",
       "      <td>7D786BDC124247789DBC1E9860C54B81</td>\n",
       "      <td>14969071</td>\n",
       "      <td>Wolhwa Gogi - Bolamae Jikyeongjeom</td>\n",
       "      <td>2</td>\n",
       "      <td>2019-05-01 00:00:00</td>\n",
       "    </tr>\n",
       "  </tbody>\n",
       "</table>\n",
       "<p>415515 rows × 8 columns</p>\n",
       "</div>"
      ],
      "text/plain": [
       "                              id  rating  \\\n",
       "0       5ec7ec658160f100109a8368     4.5   \n",
       "1       5d14eaa963951f37e4243fa5     5.0   \n",
       "2       5e69024bf896230011648a61     5.0   \n",
       "3       5e4f98b95543c700113e18e7     5.0   \n",
       "4       5c8528bdf9e6b96d632ae302     5.0   \n",
       "...                          ...     ...   \n",
       "415510                 377783462     5.0   \n",
       "415511                 654067981     3.0   \n",
       "415512                 381624991     5.0   \n",
       "415513                 671052612     4.0   \n",
       "415514                 670618102     5.0   \n",
       "\n",
       "                                                     body  \\\n",
       "0                                                     NaN   \n",
       "1                                                    none   \n",
       "2                                                     NaN   \n",
       "3                                                     NaN   \n",
       "4                                          2019.03.06\\nHH   \n",
       "...                                                   ...   \n",
       "415510  Excellent breakfast something for everyone. Fr...   \n",
       "415511  자주가는 매장인데 오래된 곳인만큼 아직도 USB충전이 안되는 테이블을 사용합니다. ...   \n",
       "415512  This is an adorable coffee shop in Myeongdong....   \n",
       "415513  다양한 해산물과 소고기와 함께 뷔페까지 먹을 수 있는 단체 모임장소로도 좋은 샤브샤...   \n",
       "415514  2층의 넓은 매장으로 질좋군 돼지고기와 소고기 한우를 맛볼 수 있는 곳으로 깔끔한 ...   \n",
       "\n",
       "                                    idno    place.id  \\\n",
       "0                                  4TXey  1150710065   \n",
       "1                                   awWC  1150710065   \n",
       "2                                  1Unzg  1150710065   \n",
       "3                                   LRVl  1150710065   \n",
       "4                                   ESN1  1150710065   \n",
       "...                                  ...         ...   \n",
       "415510  0D7BA322E49206AF13A9369774B88AE0    10161356   \n",
       "415511  A3EFF472632FABBF7B76AFDBC7E0D27C     3894901   \n",
       "415512  11424075023A02372320A7F4A93A55A2      948337   \n",
       "415513  7D786BDC124247789DBC1E9860C54B81     9035619   \n",
       "415514  7D786BDC124247789DBC1E9860C54B81    14969071   \n",
       "\n",
       "                                    place.name  photonum         createdDate  \n",
       "0                                 스타벅스 보라매공원R점         0 2020-05-21 20:42:00  \n",
       "1                                 스타벅스 보라매공원R점         0 2019-06-28 01:11:03  \n",
       "2                                 스타벅스 보라매공원R점         0 2020-03-12 00:22:00  \n",
       "3                                 스타벅스 보라매공원R점         0 2020-02-16 17:06:00  \n",
       "4                                 스타벅스 보라매공원R점         0 2019-03-11 00:08:48  \n",
       "...                                        ...       ...                 ...  \n",
       "415510                               MoMo Cafe         0 2016-05-29 00:00:00  \n",
       "415511  Starbucks Gyeongbokgung Station 3 Line         0 2019-02-22 00:00:00  \n",
       "415512                             Coffee Love         0 2016-06-11 00:00:00  \n",
       "415513              Haejeokseon Seafood Buffet         4 2019-05-03 00:00:00  \n",
       "415514      Wolhwa Gogi - Bolamae Jikyeongjeom         2 2019-05-01 00:00:00  \n",
       "\n",
       "[415515 rows x 8 columns]"
      ]
     },
     "execution_count": 344,
     "metadata": {},
     "output_type": "execute_result"
    }
   ],
   "source": [
    "final_review"
   ]
  },
  {
   "cell_type": "code",
   "execution_count": 363,
   "metadata": {
    "Collapsed": "false"
   },
   "outputs": [],
   "source": [
    "ta['id'] = ta['id'].astype(str)"
   ]
  },
  {
   "cell_type": "code",
   "execution_count": 366,
   "metadata": {
    "Collapsed": "false"
   },
   "outputs": [
    {
     "data": {
      "text/html": [
       "<div>\n",
       "<style scoped>\n",
       "    .dataframe tbody tr th:only-of-type {\n",
       "        vertical-align: middle;\n",
       "    }\n",
       "\n",
       "    .dataframe tbody tr th {\n",
       "        vertical-align: top;\n",
       "    }\n",
       "\n",
       "    .dataframe thead th {\n",
       "        text-align: right;\n",
       "    }\n",
       "</style>\n",
       "<table border=\"1\" class=\"dataframe\">\n",
       "  <thead>\n",
       "    <tr style=\"text-align: right;\">\n",
       "      <th></th>\n",
       "      <th>id</th>\n",
       "      <th>language</th>\n",
       "    </tr>\n",
       "  </thead>\n",
       "  <tbody>\n",
       "    <tr>\n",
       "      <th>0</th>\n",
       "      <td>749418557</td>\n",
       "      <td>ja</td>\n",
       "    </tr>\n",
       "    <tr>\n",
       "      <th>1</th>\n",
       "      <td>748454819</td>\n",
       "      <td>en</td>\n",
       "    </tr>\n",
       "    <tr>\n",
       "      <th>2</th>\n",
       "      <td>745371386</td>\n",
       "      <td>ja</td>\n",
       "    </tr>\n",
       "    <tr>\n",
       "      <th>3</th>\n",
       "      <td>744426202</td>\n",
       "      <td>ja</td>\n",
       "    </tr>\n",
       "    <tr>\n",
       "      <th>4</th>\n",
       "      <td>743141310</td>\n",
       "      <td>en</td>\n",
       "    </tr>\n",
       "    <tr>\n",
       "      <th>...</th>\n",
       "      <td>...</td>\n",
       "      <td>...</td>\n",
       "    </tr>\n",
       "    <tr>\n",
       "      <th>144429</th>\n",
       "      <td>418986337</td>\n",
       "      <td>en</td>\n",
       "    </tr>\n",
       "    <tr>\n",
       "      <th>144430</th>\n",
       "      <td>418987119</td>\n",
       "      <td>en</td>\n",
       "    </tr>\n",
       "    <tr>\n",
       "      <th>144431</th>\n",
       "      <td>418402883</td>\n",
       "      <td>en</td>\n",
       "    </tr>\n",
       "    <tr>\n",
       "      <th>144432</th>\n",
       "      <td>418406637</td>\n",
       "      <td>en</td>\n",
       "    </tr>\n",
       "    <tr>\n",
       "      <th>144433</th>\n",
       "      <td>418410467</td>\n",
       "      <td>en</td>\n",
       "    </tr>\n",
       "  </tbody>\n",
       "</table>\n",
       "<p>144434 rows × 2 columns</p>\n",
       "</div>"
      ],
      "text/plain": [
       "               id language\n",
       "0       749418557       ja\n",
       "1       748454819       en\n",
       "2       745371386       ja\n",
       "3       744426202       ja\n",
       "4       743141310       en\n",
       "...           ...      ...\n",
       "144429  418986337       en\n",
       "144430  418987119       en\n",
       "144431  418402883       en\n",
       "144432  418406637       en\n",
       "144433  418410467       en\n",
       "\n",
       "[144434 rows x 2 columns]"
      ]
     },
     "execution_count": 366,
     "metadata": {},
     "output_type": "execute_result"
    }
   ],
   "source": [
    "ta[['id', 'language']].drop_duplicates()"
   ]
  },
  {
   "cell_type": "code",
   "execution_count": 376,
   "metadata": {
    "Collapsed": "false"
   },
   "outputs": [],
   "source": [
    "final_review['id'] = final_review['id'].astype(str)"
   ]
  },
  {
   "cell_type": "code",
   "execution_count": 378,
   "metadata": {
    "Collapsed": "false"
   },
   "outputs": [],
   "source": [
    "final_review = final_review.merge(ta[['id', 'language']].drop_duplicates(), on = 'id', how = 'left')"
   ]
  },
  {
   "cell_type": "code",
   "execution_count": 383,
   "metadata": {
    "Collapsed": "false"
   },
   "outputs": [],
   "source": [
    "final_review.loc[final_review['language'].isnull(), 'language'] = 'ko'"
   ]
  },
  {
   "cell_type": "code",
   "execution_count": 385,
   "metadata": {
    "Collapsed": "false"
   },
   "outputs": [],
   "source": [
    "place_info = pd.read_excel(os.path.join('..', '..', 'data', 'JS_10_data_places_v2.xlsx'))"
   ]
  },
  {
   "cell_type": "code",
   "execution_count": 397,
   "metadata": {
    "Collapsed": "false"
   },
   "outputs": [
    {
     "data": {
      "text/html": [
       "<div>\n",
       "<style scoped>\n",
       "    .dataframe tbody tr th:only-of-type {\n",
       "        vertical-align: middle;\n",
       "    }\n",
       "\n",
       "    .dataframe tbody tr th {\n",
       "        vertical-align: top;\n",
       "    }\n",
       "\n",
       "    .dataframe thead th {\n",
       "        text-align: right;\n",
       "    }\n",
       "</style>\n",
       "<table border=\"1\" class=\"dataframe\">\n",
       "  <thead>\n",
       "    <tr style=\"text-align: right;\">\n",
       "      <th></th>\n",
       "      <th>place.id</th>\n",
       "      <th>place.name</th>\n",
       "      <th>place.category</th>\n",
       "      <th>rating</th>\n",
       "      <th>review.count</th>\n",
       "      <th>is_fch</th>\n",
       "      <th>lat</th>\n",
       "      <th>lng</th>\n",
       "      <th>land.addr</th>\n",
       "    </tr>\n",
       "  </thead>\n",
       "  <tbody>\n",
       "    <tr>\n",
       "      <th>10</th>\n",
       "      <td>34457400</td>\n",
       "      <td>육회자매집 본점1호점</td>\n",
       "      <td>육류,고기요리-일반</td>\n",
       "      <td>4.583333</td>\n",
       "      <td>357</td>\n",
       "      <td>0</td>\n",
       "      <td>37.570579</td>\n",
       "      <td>126.999887</td>\n",
       "      <td>서울특별시 종로구 종로4가 177 제우빌딩</td>\n",
       "    </tr>\n",
       "    <tr>\n",
       "      <th>11</th>\n",
       "      <td>21215392</td>\n",
       "      <td>바토스 이태원점</td>\n",
       "      <td>멕시코,남미음식-일반</td>\n",
       "      <td>4.422330</td>\n",
       "      <td>940</td>\n",
       "      <td>0</td>\n",
       "      <td>37.534589</td>\n",
       "      <td>126.990177</td>\n",
       "      <td>서울특별시 용산구 이태원동 181-8 이태원교회</td>\n",
       "    </tr>\n",
       "    <tr>\n",
       "      <th>12</th>\n",
       "      <td>36932403</td>\n",
       "      <td>타코벨 여의도메리츠점</td>\n",
       "      <td>멕시코,남미음식-일반</td>\n",
       "      <td>4.488889</td>\n",
       "      <td>48</td>\n",
       "      <td>0</td>\n",
       "      <td>37.524171</td>\n",
       "      <td>126.926440</td>\n",
       "      <td>서울특별시 영등포구 여의도동 25-1 메리츠화재여의도사옥</td>\n",
       "    </tr>\n",
       "    <tr>\n",
       "      <th>13</th>\n",
       "      <td>11619957</td>\n",
       "      <td>동화반점</td>\n",
       "      <td>중식당-일반</td>\n",
       "      <td>3.763158</td>\n",
       "      <td>56</td>\n",
       "      <td>0</td>\n",
       "      <td>37.567750</td>\n",
       "      <td>127.008197</td>\n",
       "      <td>서울특별시 중구 을지로6가 18-95</td>\n",
       "    </tr>\n",
       "    <tr>\n",
       "      <th>15</th>\n",
       "      <td>11728195</td>\n",
       "      <td>오구반점</td>\n",
       "      <td>중식당-일반</td>\n",
       "      <td>3.826923</td>\n",
       "      <td>33</td>\n",
       "      <td>0</td>\n",
       "      <td>37.566548</td>\n",
       "      <td>126.989878</td>\n",
       "      <td>서울특별시 중구 을지로3가 5-9</td>\n",
       "    </tr>\n",
       "    <tr>\n",
       "      <th>...</th>\n",
       "      <td>...</td>\n",
       "      <td>...</td>\n",
       "      <td>...</td>\n",
       "      <td>...</td>\n",
       "      <td>...</td>\n",
       "      <td>...</td>\n",
       "      <td>...</td>\n",
       "      <td>...</td>\n",
       "      <td>...</td>\n",
       "    </tr>\n",
       "    <tr>\n",
       "      <th>15161</th>\n",
       "      <td>4030135</td>\n",
       "      <td>후터스 강남점</td>\n",
       "      <td>NaN</td>\n",
       "      <td>3.500000</td>\n",
       "      <td>40</td>\n",
       "      <td>NaN</td>\n",
       "      <td>37.492578</td>\n",
       "      <td>127.029652</td>\n",
       "      <td>서울특별시 서초구 서초동 1337-32 서초동 광일빌딩</td>\n",
       "    </tr>\n",
       "    <tr>\n",
       "      <th>15165</th>\n",
       "      <td>4075489</td>\n",
       "      <td>애슐리 천호점</td>\n",
       "      <td>NaN</td>\n",
       "      <td>4.500000</td>\n",
       "      <td>20</td>\n",
       "      <td>NaN</td>\n",
       "      <td>37.541275</td>\n",
       "      <td>127.125912</td>\n",
       "      <td>서울특별시 강동구 천호동 563 동아코아아파트</td>\n",
       "    </tr>\n",
       "    <tr>\n",
       "      <th>15166</th>\n",
       "      <td>4049731</td>\n",
       "      <td>캘리포니아피자키친 강남점</td>\n",
       "      <td>NaN</td>\n",
       "      <td>4.000000</td>\n",
       "      <td>20</td>\n",
       "      <td>NaN</td>\n",
       "      <td>37.503483</td>\n",
       "      <td>127.024458</td>\n",
       "      <td>서울특별시 서초구 서초동 1303-31 리젠메디컬타워</td>\n",
       "    </tr>\n",
       "    <tr>\n",
       "      <th>15172</th>\n",
       "      <td>3894901</td>\n",
       "      <td>스타벅스 경복궁역점</td>\n",
       "      <td>NaN</td>\n",
       "      <td>4.000000</td>\n",
       "      <td>1</td>\n",
       "      <td>NaN</td>\n",
       "      <td>37.577200</td>\n",
       "      <td>126.972778</td>\n",
       "      <td>서울특별시 종로구 통의동 35-41 우진빌딩</td>\n",
       "    </tr>\n",
       "    <tr>\n",
       "      <th>15175</th>\n",
       "      <td>14969071</td>\n",
       "      <td>월화고기 - 보라매직영점</td>\n",
       "      <td>NaN</td>\n",
       "      <td>4.500000</td>\n",
       "      <td>1</td>\n",
       "      <td>NaN</td>\n",
       "      <td>37.491641</td>\n",
       "      <td>126.926301</td>\n",
       "      <td>서울특별시 관악구 봉천동 732-3</td>\n",
       "    </tr>\n",
       "  </tbody>\n",
       "</table>\n",
       "<p>4974 rows × 9 columns</p>\n",
       "</div>"
      ],
      "text/plain": [
       "       place.id     place.name place.category    rating  review.count is_fch  \\\n",
       "10     34457400    육회자매집 본점1호점     육류,고기요리-일반  4.583333           357      0   \n",
       "11     21215392       바토스 이태원점    멕시코,남미음식-일반  4.422330           940      0   \n",
       "12     36932403    타코벨 여의도메리츠점    멕시코,남미음식-일반  4.488889            48      0   \n",
       "13     11619957           동화반점         중식당-일반  3.763158            56      0   \n",
       "15     11728195           오구반점         중식당-일반  3.826923            33      0   \n",
       "...         ...            ...            ...       ...           ...    ...   \n",
       "15161   4030135        후터스 강남점            NaN  3.500000            40    NaN   \n",
       "15165   4075489        애슐리 천호점            NaN  4.500000            20    NaN   \n",
       "15166   4049731  캘리포니아피자키친 강남점            NaN  4.000000            20    NaN   \n",
       "15172   3894901     스타벅스 경복궁역점            NaN  4.000000             1    NaN   \n",
       "15175  14969071  월화고기 - 보라매직영점            NaN  4.500000             1    NaN   \n",
       "\n",
       "             lat         lng                        land.addr  \n",
       "10     37.570579  126.999887          서울특별시 종로구 종로4가 177 제우빌딩  \n",
       "11     37.534589  126.990177       서울특별시 용산구 이태원동 181-8 이태원교회  \n",
       "12     37.524171  126.926440  서울특별시 영등포구 여의도동 25-1 메리츠화재여의도사옥  \n",
       "13     37.567750  127.008197             서울특별시 중구 을지로6가 18-95  \n",
       "15     37.566548  126.989878               서울특별시 중구 을지로3가 5-9  \n",
       "...          ...         ...                              ...  \n",
       "15161  37.492578  127.029652   서울특별시 서초구 서초동 1337-32 서초동 광일빌딩  \n",
       "15165  37.541275  127.125912        서울특별시 강동구 천호동 563 동아코아아파트  \n",
       "15166  37.503483  127.024458    서울특별시 서초구 서초동 1303-31 리젠메디컬타워  \n",
       "15172  37.577200  126.972778         서울특별시 종로구 통의동 35-41 우진빌딩  \n",
       "15175  37.491641  126.926301              서울특별시 관악구 봉천동 732-3  \n",
       "\n",
       "[4974 rows x 9 columns]"
      ]
     },
     "execution_count": 397,
     "metadata": {},
     "output_type": "execute_result"
    }
   ],
   "source": [
    "place_info.loc[place_info['place.name'].str.contains('점')]"
   ]
  },
  {
   "cell_type": "code",
   "execution_count": 410,
   "metadata": {
    "Collapsed": "false"
   },
   "outputs": [],
   "source": [
    "temp = place_info.loc[place_info['is_fch'].isnull()]"
   ]
  },
  {
   "cell_type": "code",
   "execution_count": 414,
   "metadata": {
    "Collapsed": "false"
   },
   "outputs": [
    {
     "name": "stderr",
     "output_type": "stream",
     "text": [
      "/Users/jinseok/opt/anaconda3/lib/python3.7/site-packages/pandas/core/indexing.py:965: SettingWithCopyWarning: \n",
      "A value is trying to be set on a copy of a slice from a DataFrame.\n",
      "Try using .loc[row_indexer,col_indexer] = value instead\n",
      "\n",
      "See the caveats in the documentation: https://pandas.pydata.org/pandas-docs/stable/user_guide/indexing.html#returning-a-view-versus-a-copy\n",
      "  self.obj[item] = s\n"
     ]
    }
   ],
   "source": [
    "temp.loc[(temp['place.name'].apply(lambda x : x[-1] == '점')) & (temp['place.name'].apply(lambda x : len(x.split(' ')) > 1)), 'is_fch'] = 1"
   ]
  },
  {
   "cell_type": "code",
   "execution_count": 419,
   "metadata": {
    "Collapsed": "false"
   },
   "outputs": [
    {
     "name": "stderr",
     "output_type": "stream",
     "text": [
      "/Users/jinseok/opt/anaconda3/lib/python3.7/site-packages/pandas/core/indexing.py:965: SettingWithCopyWarning: \n",
      "A value is trying to be set on a copy of a slice from a DataFrame.\n",
      "Try using .loc[row_indexer,col_indexer] = value instead\n",
      "\n",
      "See the caveats in the documentation: https://pandas.pydata.org/pandas-docs/stable/user_guide/indexing.html#returning-a-view-versus-a-copy\n",
      "  self.obj[item] = s\n"
     ]
    }
   ],
   "source": [
    "temp.loc[temp['is_fch'].isnull(), 'is_fch'] = 0"
   ]
  },
  {
   "cell_type": "code",
   "execution_count": 427,
   "metadata": {
    "Collapsed": "false"
   },
   "outputs": [],
   "source": [
    "place_info.loc[temp.index]['is_fch'] = temp['is_fch']"
   ]
  },
  {
   "cell_type": "code",
   "execution_count": 435,
   "metadata": {
    "Collapsed": "false"
   },
   "outputs": [],
   "source": [
    "place_info['category'] = 'EAT'"
   ]
  },
  {
   "cell_type": "code",
   "execution_count": 436,
   "metadata": {
    "Collapsed": "false"
   },
   "outputs": [
    {
     "data": {
      "text/html": [
       "<div>\n",
       "<style scoped>\n",
       "    .dataframe tbody tr th:only-of-type {\n",
       "        vertical-align: middle;\n",
       "    }\n",
       "\n",
       "    .dataframe tbody tr th {\n",
       "        vertical-align: top;\n",
       "    }\n",
       "\n",
       "    .dataframe thead th {\n",
       "        text-align: right;\n",
       "    }\n",
       "</style>\n",
       "<table border=\"1\" class=\"dataframe\">\n",
       "  <thead>\n",
       "    <tr style=\"text-align: right;\">\n",
       "      <th></th>\n",
       "      <th>place.id</th>\n",
       "      <th>place.name</th>\n",
       "      <th>place.category</th>\n",
       "      <th>rating</th>\n",
       "      <th>review.count</th>\n",
       "      <th>is_fch</th>\n",
       "      <th>lat</th>\n",
       "      <th>lng</th>\n",
       "      <th>land.addr</th>\n",
       "      <th>category</th>\n",
       "    </tr>\n",
       "  </thead>\n",
       "  <tbody>\n",
       "    <tr>\n",
       "      <th>0</th>\n",
       "      <td>11605455</td>\n",
       "      <td>가미분식</td>\n",
       "      <td>종합분식</td>\n",
       "      <td>4.217391</td>\n",
       "      <td>32</td>\n",
       "      <td>0</td>\n",
       "      <td>37.558661</td>\n",
       "      <td>126.945960</td>\n",
       "      <td>서울특별시 서대문구 대현동 54-1 무궁화상가아파트</td>\n",
       "      <td>EAT</td>\n",
       "    </tr>\n",
       "    <tr>\n",
       "      <th>1</th>\n",
       "      <td>10976694</td>\n",
       "      <td>유래회관</td>\n",
       "      <td>육류,고기요리-일반</td>\n",
       "      <td>4.300000</td>\n",
       "      <td>27</td>\n",
       "      <td>0</td>\n",
       "      <td>37.566438</td>\n",
       "      <td>127.031591</td>\n",
       "      <td>서울특별시 성동구 홍익동 357 유래회관</td>\n",
       "      <td>EAT</td>\n",
       "    </tr>\n",
       "    <tr>\n",
       "      <th>2</th>\n",
       "      <td>11398664</td>\n",
       "      <td>대성갈비</td>\n",
       "      <td>육류,고기요리-일반</td>\n",
       "      <td>4.216667</td>\n",
       "      <td>76</td>\n",
       "      <td>0</td>\n",
       "      <td>37.547073</td>\n",
       "      <td>127.044028</td>\n",
       "      <td>서울특별시 성동구 성수동1가 668-21</td>\n",
       "      <td>EAT</td>\n",
       "    </tr>\n",
       "    <tr>\n",
       "      <th>3</th>\n",
       "      <td>11663081</td>\n",
       "      <td>철길왕갈비살</td>\n",
       "      <td>육류,고기요리-일반</td>\n",
       "      <td>4.400000</td>\n",
       "      <td>54</td>\n",
       "      <td>0</td>\n",
       "      <td>37.554546</td>\n",
       "      <td>126.931666</td>\n",
       "      <td>서울특별시 마포구 창전동 4-2</td>\n",
       "      <td>EAT</td>\n",
       "    </tr>\n",
       "    <tr>\n",
       "      <th>4</th>\n",
       "      <td>11677544</td>\n",
       "      <td>황소고집</td>\n",
       "      <td>육류,고기요리-일반</td>\n",
       "      <td>4.379310</td>\n",
       "      <td>69</td>\n",
       "      <td>0</td>\n",
       "      <td>37.568593</td>\n",
       "      <td>126.986046</td>\n",
       "      <td>서울특별시 종로구 관철동 11-11</td>\n",
       "      <td>EAT</td>\n",
       "    </tr>\n",
       "    <tr>\n",
       "      <th>...</th>\n",
       "      <td>...</td>\n",
       "      <td>...</td>\n",
       "      <td>...</td>\n",
       "      <td>...</td>\n",
       "      <td>...</td>\n",
       "      <td>...</td>\n",
       "      <td>...</td>\n",
       "      <td>...</td>\n",
       "      <td>...</td>\n",
       "      <td>...</td>\n",
       "    </tr>\n",
       "    <tr>\n",
       "      <th>15171</th>\n",
       "      <td>10161356</td>\n",
       "      <td>모모카페 코트야드 서울 남대문</td>\n",
       "      <td>NaN</td>\n",
       "      <td>4.500000</td>\n",
       "      <td>120</td>\n",
       "      <td>NaN</td>\n",
       "      <td>37.561200</td>\n",
       "      <td>126.976882</td>\n",
       "      <td>서울특별시 중구 남대문로4가 17-23 남대문호텔</td>\n",
       "      <td>EAT</td>\n",
       "    </tr>\n",
       "    <tr>\n",
       "      <th>15172</th>\n",
       "      <td>3894901</td>\n",
       "      <td>스타벅스 경복궁역점</td>\n",
       "      <td>NaN</td>\n",
       "      <td>4.000000</td>\n",
       "      <td>1</td>\n",
       "      <td>NaN</td>\n",
       "      <td>37.577200</td>\n",
       "      <td>126.972778</td>\n",
       "      <td>서울특별시 종로구 통의동 35-41 우진빌딩</td>\n",
       "      <td>EAT</td>\n",
       "    </tr>\n",
       "    <tr>\n",
       "      <th>15173</th>\n",
       "      <td>948337</td>\n",
       "      <td>커피愛</td>\n",
       "      <td>NaN</td>\n",
       "      <td>4.500000</td>\n",
       "      <td>1</td>\n",
       "      <td>NaN</td>\n",
       "      <td>37.562855</td>\n",
       "      <td>126.985572</td>\n",
       "      <td>서울특별시 중구 명동2가 27-1</td>\n",
       "      <td>EAT</td>\n",
       "    </tr>\n",
       "    <tr>\n",
       "      <th>15174</th>\n",
       "      <td>9035619</td>\n",
       "      <td>해적선해물부페</td>\n",
       "      <td>NaN</td>\n",
       "      <td>4.000000</td>\n",
       "      <td>1</td>\n",
       "      <td>NaN</td>\n",
       "      <td>37.497622</td>\n",
       "      <td>126.864067</td>\n",
       "      <td>서울특별시 구로구 고척동 76-160 골든타워빌딩</td>\n",
       "      <td>EAT</td>\n",
       "    </tr>\n",
       "    <tr>\n",
       "      <th>15175</th>\n",
       "      <td>14969071</td>\n",
       "      <td>월화고기 - 보라매직영점</td>\n",
       "      <td>NaN</td>\n",
       "      <td>4.500000</td>\n",
       "      <td>1</td>\n",
       "      <td>NaN</td>\n",
       "      <td>37.491641</td>\n",
       "      <td>126.926301</td>\n",
       "      <td>서울특별시 관악구 봉천동 732-3</td>\n",
       "      <td>EAT</td>\n",
       "    </tr>\n",
       "  </tbody>\n",
       "</table>\n",
       "<p>15176 rows × 10 columns</p>\n",
       "</div>"
      ],
      "text/plain": [
       "       place.id        place.name place.category    rating  review.count  \\\n",
       "0      11605455              가미분식           종합분식  4.217391            32   \n",
       "1      10976694              유래회관     육류,고기요리-일반  4.300000            27   \n",
       "2      11398664              대성갈비     육류,고기요리-일반  4.216667            76   \n",
       "3      11663081            철길왕갈비살     육류,고기요리-일반  4.400000            54   \n",
       "4      11677544              황소고집     육류,고기요리-일반  4.379310            69   \n",
       "...         ...               ...            ...       ...           ...   \n",
       "15171  10161356  모모카페 코트야드 서울 남대문            NaN  4.500000           120   \n",
       "15172   3894901        스타벅스 경복궁역점            NaN  4.000000             1   \n",
       "15173    948337               커피愛            NaN  4.500000             1   \n",
       "15174   9035619           해적선해물부페            NaN  4.000000             1   \n",
       "15175  14969071     월화고기 - 보라매직영점            NaN  4.500000             1   \n",
       "\n",
       "      is_fch        lat         lng                     land.addr category  \n",
       "0          0  37.558661  126.945960  서울특별시 서대문구 대현동 54-1 무궁화상가아파트      EAT  \n",
       "1          0  37.566438  127.031591        서울특별시 성동구 홍익동 357 유래회관      EAT  \n",
       "2          0  37.547073  127.044028        서울특별시 성동구 성수동1가 668-21      EAT  \n",
       "3          0  37.554546  126.931666             서울특별시 마포구 창전동 4-2      EAT  \n",
       "4          0  37.568593  126.986046           서울특별시 종로구 관철동 11-11      EAT  \n",
       "...      ...        ...         ...                           ...      ...  \n",
       "15171    NaN  37.561200  126.976882   서울특별시 중구 남대문로4가 17-23 남대문호텔      EAT  \n",
       "15172    NaN  37.577200  126.972778      서울특별시 종로구 통의동 35-41 우진빌딩      EAT  \n",
       "15173    NaN  37.562855  126.985572            서울특별시 중구 명동2가 27-1      EAT  \n",
       "15174    NaN  37.497622  126.864067   서울특별시 구로구 고척동 76-160 골든타워빌딩      EAT  \n",
       "15175    NaN  37.491641  126.926301           서울특별시 관악구 봉천동 732-3      EAT  \n",
       "\n",
       "[15176 rows x 10 columns]"
      ]
     },
     "execution_count": 436,
     "metadata": {},
     "output_type": "execute_result"
    }
   ],
   "source": [
    "place_info"
   ]
  },
  {
   "cell_type": "code",
   "execution_count": 434,
   "metadata": {
    "Collapsed": "false"
   },
   "outputs": [
    {
     "data": {
      "text/html": [
       "<div>\n",
       "<style scoped>\n",
       "    .dataframe tbody tr th:only-of-type {\n",
       "        vertical-align: middle;\n",
       "    }\n",
       "\n",
       "    .dataframe tbody tr th {\n",
       "        vertical-align: top;\n",
       "    }\n",
       "\n",
       "    .dataframe thead th {\n",
       "        text-align: right;\n",
       "    }\n",
       "</style>\n",
       "<table border=\"1\" class=\"dataframe\">\n",
       "  <thead>\n",
       "    <tr style=\"text-align: right;\">\n",
       "      <th></th>\n",
       "      <th>place.id</th>\n",
       "      <th>place.name</th>\n",
       "      <th>category</th>\n",
       "      <th>address</th>\n",
       "      <th>land.addr</th>\n",
       "      <th>road.addr</th>\n",
       "      <th>lat</th>\n",
       "      <th>lng</th>\n",
       "    </tr>\n",
       "  </thead>\n",
       "  <tbody>\n",
       "    <tr>\n",
       "      <th>0</th>\n",
       "      <td>36728037</td>\n",
       "      <td>31 페이지</td>\n",
       "      <td>ACM</td>\n",
       "      <td>서울특별시 동대문구 전농동 597-23</td>\n",
       "      <td>서울특별시 동대문구 전농동 597-23</td>\n",
       "      <td>서울특별시 동대문구 왕산로 238-1</td>\n",
       "      <td>37.582474</td>\n",
       "      <td>127.048659</td>\n",
       "    </tr>\n",
       "    <tr>\n",
       "      <th>1</th>\n",
       "      <td>34300204</td>\n",
       "      <td>Ever8레지던스</td>\n",
       "      <td>ACM</td>\n",
       "      <td>서울특별시 서대문구 대현동 104-5</td>\n",
       "      <td>서울특별시 서대문구 대현동 104-5 신촌푸르지오시티</td>\n",
       "      <td>서울특별시 서대문구 신촌역로 7 신촌푸르지오시티</td>\n",
       "      <td>37.557426</td>\n",
       "      <td>126.942566</td>\n",
       "    </tr>\n",
       "    <tr>\n",
       "      <th>2</th>\n",
       "      <td>37490209</td>\n",
       "      <td>E호텔</td>\n",
       "      <td>ACM</td>\n",
       "      <td>서울특별시 서초구 반포대로18길 40 E 호텔</td>\n",
       "      <td>서울특별시 서초구 서초동 1593-1 E 호텔</td>\n",
       "      <td>서울특별시 서초구 반포대로18길 40 E 호텔</td>\n",
       "      <td>37.486922</td>\n",
       "      <td>127.012686</td>\n",
       "    </tr>\n",
       "    <tr>\n",
       "      <th>3</th>\n",
       "      <td>966279439</td>\n",
       "      <td>G2 호텔</td>\n",
       "      <td>ACM</td>\n",
       "      <td>서울특별시 중구 저동2가 48-27</td>\n",
       "      <td>서울특별시 중구 저동2가 48-27</td>\n",
       "      <td>서울특별시 중구 수표로 24</td>\n",
       "      <td>37.563370</td>\n",
       "      <td>126.990472</td>\n",
       "    </tr>\n",
       "    <tr>\n",
       "      <th>4</th>\n",
       "      <td>1245880236</td>\n",
       "      <td>Hotel in 9</td>\n",
       "      <td>ACM</td>\n",
       "      <td>서울특별시 강남구 영동대로 618 Hotel in 9</td>\n",
       "      <td>서울특별시 강남구 삼성동 91-28</td>\n",
       "      <td>서울특별시 강남구 영동대로 618</td>\n",
       "      <td>37.515577</td>\n",
       "      <td>127.060038</td>\n",
       "    </tr>\n",
       "    <tr>\n",
       "      <th>...</th>\n",
       "      <td>...</td>\n",
       "      <td>...</td>\n",
       "      <td>...</td>\n",
       "      <td>...</td>\n",
       "      <td>...</td>\n",
       "      <td>...</td>\n",
       "      <td>...</td>\n",
       "      <td>...</td>\n",
       "    </tr>\n",
       "    <tr>\n",
       "      <th>585</th>\n",
       "      <td>1150903</td>\n",
       "      <td>영빈 호텔</td>\n",
       "      <td>ACM</td>\n",
       "      <td>서울 중구 퇴계로56길 18</td>\n",
       "      <td>서울특별시 중구 쌍림동 240 영빈관광호텔</td>\n",
       "      <td>서울특별시 중구 퇴계로56길 18 영빈관광호텔</td>\n",
       "      <td>37.563004</td>\n",
       "      <td>127.005544</td>\n",
       "    </tr>\n",
       "    <tr>\n",
       "      <th>587</th>\n",
       "      <td>2303934</td>\n",
       "      <td>자자 백팩커스 호스텔</td>\n",
       "      <td>ACM</td>\n",
       "      <td>서울 중구 퇴계로20길 35</td>\n",
       "      <td>서울특별시 중구 남산동2가 18-6</td>\n",
       "      <td>서울특별시 중구 퇴계로20길 35</td>\n",
       "      <td>37.558819</td>\n",
       "      <td>126.986443</td>\n",
       "    </tr>\n",
       "    <tr>\n",
       "      <th>589</th>\n",
       "      <td>6998634</td>\n",
       "      <td>이비스 버젯 앰배서더 서울 동대문</td>\n",
       "      <td>ACM</td>\n",
       "      <td>서울 중구 퇴계로 334</td>\n",
       "      <td>서울특별시 중구 광희동2가 238-1</td>\n",
       "      <td>서울특별시 중구 퇴계로 334</td>\n",
       "      <td>37.564187</td>\n",
       "      <td>127.008694</td>\n",
       "    </tr>\n",
       "    <tr>\n",
       "      <th>590</th>\n",
       "      <td>299533</td>\n",
       "      <td>이비스 스타일 앰배서더 서울 강남</td>\n",
       "      <td>ACM</td>\n",
       "      <td>서울 강남구 삼성로 431</td>\n",
       "      <td>서울특별시 강남구 대치동 893-1 이비스 스타일 앰배서더 서울 강남</td>\n",
       "      <td>서울특별시 강남구 삼성로 431 이비스 스타일 앰배서더 서울 강남</td>\n",
       "      <td>37.505102</td>\n",
       "      <td>127.057088</td>\n",
       "    </tr>\n",
       "    <tr>\n",
       "      <th>591</th>\n",
       "      <td>6561923</td>\n",
       "      <td>더 붓 게스트하우스</td>\n",
       "      <td>ACM</td>\n",
       "      <td>서울 중구 퇴계로 210-14</td>\n",
       "      <td>서울특별시 중구 필동2가 17-5</td>\n",
       "      <td>서울특별시 중구 퇴계로 210-14</td>\n",
       "      <td>37.560715</td>\n",
       "      <td>126.994911</td>\n",
       "    </tr>\n",
       "  </tbody>\n",
       "</table>\n",
       "<p>714 rows × 8 columns</p>\n",
       "</div>"
      ],
      "text/plain": [
       "       place.id          place.name category                        address  \\\n",
       "0      36728037              31 페이지      ACM          서울특별시 동대문구 전농동 597-23   \n",
       "1      34300204           Ever8레지던스      ACM           서울특별시 서대문구 대현동 104-5   \n",
       "2      37490209                 E호텔      ACM      서울특별시 서초구 반포대로18길 40 E 호텔   \n",
       "3     966279439               G2 호텔      ACM            서울특별시 중구 저동2가 48-27   \n",
       "4    1245880236          Hotel in 9      ACM  서울특별시 강남구 영동대로 618 Hotel in 9   \n",
       "..          ...                 ...      ...                            ...   \n",
       "585     1150903               영빈 호텔      ACM                서울 중구 퇴계로56길 18   \n",
       "587     2303934         자자 백팩커스 호스텔      ACM                서울 중구 퇴계로20길 35   \n",
       "589     6998634  이비스 버젯 앰배서더 서울 동대문      ACM                  서울 중구 퇴계로 334   \n",
       "590      299533  이비스 스타일 앰배서더 서울 강남      ACM                 서울 강남구 삼성로 431   \n",
       "591     6561923          더 붓 게스트하우스      ACM               서울 중구 퇴계로 210-14   \n",
       "\n",
       "                                  land.addr  \\\n",
       "0                     서울특별시 동대문구 전농동 597-23   \n",
       "1             서울특별시 서대문구 대현동 104-5 신촌푸르지오시티   \n",
       "2                 서울특별시 서초구 서초동 1593-1 E 호텔   \n",
       "3                       서울특별시 중구 저동2가 48-27   \n",
       "4                       서울특별시 강남구 삼성동 91-28   \n",
       "..                                      ...   \n",
       "585                 서울특별시 중구 쌍림동 240 영빈관광호텔   \n",
       "587                     서울특별시 중구 남산동2가 18-6   \n",
       "589                    서울특별시 중구 광희동2가 238-1   \n",
       "590  서울특별시 강남구 대치동 893-1 이비스 스타일 앰배서더 서울 강남   \n",
       "591                      서울특별시 중구 필동2가 17-5   \n",
       "\n",
       "                                road.addr        lat         lng  \n",
       "0                    서울특별시 동대문구 왕산로 238-1  37.582474  127.048659  \n",
       "1              서울특별시 서대문구 신촌역로 7 신촌푸르지오시티  37.557426  126.942566  \n",
       "2               서울특별시 서초구 반포대로18길 40 E 호텔  37.486922  127.012686  \n",
       "3                         서울특별시 중구 수표로 24  37.563370  126.990472  \n",
       "4                      서울특별시 강남구 영동대로 618  37.515577  127.060038  \n",
       "..                                    ...        ...         ...  \n",
       "585             서울특별시 중구 퇴계로56길 18 영빈관광호텔  37.563004  127.005544  \n",
       "587                    서울특별시 중구 퇴계로20길 35  37.558819  126.986443  \n",
       "589                      서울특별시 중구 퇴계로 334  37.564187  127.008694  \n",
       "590  서울특별시 강남구 삼성로 431 이비스 스타일 앰배서더 서울 강남  37.505102  127.057088  \n",
       "591                   서울특별시 중구 퇴계로 210-14  37.560715  126.994911  \n",
       "\n",
       "[714 rows x 8 columns]"
      ]
     },
     "execution_count": 434,
     "metadata": {},
     "output_type": "execute_result"
    }
   ],
   "source": [
    "hotel"
   ]
  },
  {
   "cell_type": "code",
   "execution_count": 455,
   "metadata": {
    "Collapsed": "false"
   },
   "outputs": [],
   "source": [
    "place_info.loc[temp.index, 'is_fch'] = temp['is_fch'].values"
   ]
  },
  {
   "cell_type": "code",
   "execution_count": 456,
   "metadata": {
    "Collapsed": "false"
   },
   "outputs": [
    {
     "data": {
      "text/html": [
       "<div>\n",
       "<style scoped>\n",
       "    .dataframe tbody tr th:only-of-type {\n",
       "        vertical-align: middle;\n",
       "    }\n",
       "\n",
       "    .dataframe tbody tr th {\n",
       "        vertical-align: top;\n",
       "    }\n",
       "\n",
       "    .dataframe thead th {\n",
       "        text-align: right;\n",
       "    }\n",
       "</style>\n",
       "<table border=\"1\" class=\"dataframe\">\n",
       "  <thead>\n",
       "    <tr style=\"text-align: right;\">\n",
       "      <th></th>\n",
       "      <th>place.id</th>\n",
       "      <th>place.name</th>\n",
       "      <th>place.category</th>\n",
       "      <th>rating</th>\n",
       "      <th>review.count</th>\n",
       "      <th>is_fch</th>\n",
       "      <th>lat</th>\n",
       "      <th>lng</th>\n",
       "      <th>land.addr</th>\n",
       "      <th>category</th>\n",
       "    </tr>\n",
       "  </thead>\n",
       "  <tbody>\n",
       "    <tr>\n",
       "      <th>0</th>\n",
       "      <td>11605455</td>\n",
       "      <td>가미분식</td>\n",
       "      <td>종합분식</td>\n",
       "      <td>4.217391</td>\n",
       "      <td>32</td>\n",
       "      <td>0</td>\n",
       "      <td>37.558661</td>\n",
       "      <td>126.945960</td>\n",
       "      <td>서울특별시 서대문구 대현동 54-1 무궁화상가아파트</td>\n",
       "      <td>EAT</td>\n",
       "    </tr>\n",
       "    <tr>\n",
       "      <th>1</th>\n",
       "      <td>10976694</td>\n",
       "      <td>유래회관</td>\n",
       "      <td>육류,고기요리-일반</td>\n",
       "      <td>4.300000</td>\n",
       "      <td>27</td>\n",
       "      <td>0</td>\n",
       "      <td>37.566438</td>\n",
       "      <td>127.031591</td>\n",
       "      <td>서울특별시 성동구 홍익동 357 유래회관</td>\n",
       "      <td>EAT</td>\n",
       "    </tr>\n",
       "    <tr>\n",
       "      <th>2</th>\n",
       "      <td>11398664</td>\n",
       "      <td>대성갈비</td>\n",
       "      <td>육류,고기요리-일반</td>\n",
       "      <td>4.216667</td>\n",
       "      <td>76</td>\n",
       "      <td>0</td>\n",
       "      <td>37.547073</td>\n",
       "      <td>127.044028</td>\n",
       "      <td>서울특별시 성동구 성수동1가 668-21</td>\n",
       "      <td>EAT</td>\n",
       "    </tr>\n",
       "    <tr>\n",
       "      <th>3</th>\n",
       "      <td>11663081</td>\n",
       "      <td>철길왕갈비살</td>\n",
       "      <td>육류,고기요리-일반</td>\n",
       "      <td>4.400000</td>\n",
       "      <td>54</td>\n",
       "      <td>0</td>\n",
       "      <td>37.554546</td>\n",
       "      <td>126.931666</td>\n",
       "      <td>서울특별시 마포구 창전동 4-2</td>\n",
       "      <td>EAT</td>\n",
       "    </tr>\n",
       "    <tr>\n",
       "      <th>4</th>\n",
       "      <td>11677544</td>\n",
       "      <td>황소고집</td>\n",
       "      <td>육류,고기요리-일반</td>\n",
       "      <td>4.379310</td>\n",
       "      <td>69</td>\n",
       "      <td>0</td>\n",
       "      <td>37.568593</td>\n",
       "      <td>126.986046</td>\n",
       "      <td>서울특별시 종로구 관철동 11-11</td>\n",
       "      <td>EAT</td>\n",
       "    </tr>\n",
       "    <tr>\n",
       "      <th>...</th>\n",
       "      <td>...</td>\n",
       "      <td>...</td>\n",
       "      <td>...</td>\n",
       "      <td>...</td>\n",
       "      <td>...</td>\n",
       "      <td>...</td>\n",
       "      <td>...</td>\n",
       "      <td>...</td>\n",
       "      <td>...</td>\n",
       "      <td>...</td>\n",
       "    </tr>\n",
       "    <tr>\n",
       "      <th>15171</th>\n",
       "      <td>10161356</td>\n",
       "      <td>모모카페 코트야드 서울 남대문</td>\n",
       "      <td>NaN</td>\n",
       "      <td>4.500000</td>\n",
       "      <td>120</td>\n",
       "      <td>0</td>\n",
       "      <td>37.561200</td>\n",
       "      <td>126.976882</td>\n",
       "      <td>서울특별시 중구 남대문로4가 17-23 남대문호텔</td>\n",
       "      <td>EAT</td>\n",
       "    </tr>\n",
       "    <tr>\n",
       "      <th>15172</th>\n",
       "      <td>3894901</td>\n",
       "      <td>스타벅스 경복궁역점</td>\n",
       "      <td>NaN</td>\n",
       "      <td>4.000000</td>\n",
       "      <td>1</td>\n",
       "      <td>1</td>\n",
       "      <td>37.577200</td>\n",
       "      <td>126.972778</td>\n",
       "      <td>서울특별시 종로구 통의동 35-41 우진빌딩</td>\n",
       "      <td>EAT</td>\n",
       "    </tr>\n",
       "    <tr>\n",
       "      <th>15173</th>\n",
       "      <td>948337</td>\n",
       "      <td>커피愛</td>\n",
       "      <td>NaN</td>\n",
       "      <td>4.500000</td>\n",
       "      <td>1</td>\n",
       "      <td>0</td>\n",
       "      <td>37.562855</td>\n",
       "      <td>126.985572</td>\n",
       "      <td>서울특별시 중구 명동2가 27-1</td>\n",
       "      <td>EAT</td>\n",
       "    </tr>\n",
       "    <tr>\n",
       "      <th>15174</th>\n",
       "      <td>9035619</td>\n",
       "      <td>해적선해물부페</td>\n",
       "      <td>NaN</td>\n",
       "      <td>4.000000</td>\n",
       "      <td>1</td>\n",
       "      <td>0</td>\n",
       "      <td>37.497622</td>\n",
       "      <td>126.864067</td>\n",
       "      <td>서울특별시 구로구 고척동 76-160 골든타워빌딩</td>\n",
       "      <td>EAT</td>\n",
       "    </tr>\n",
       "    <tr>\n",
       "      <th>15175</th>\n",
       "      <td>14969071</td>\n",
       "      <td>월화고기 - 보라매직영점</td>\n",
       "      <td>NaN</td>\n",
       "      <td>4.500000</td>\n",
       "      <td>1</td>\n",
       "      <td>1</td>\n",
       "      <td>37.491641</td>\n",
       "      <td>126.926301</td>\n",
       "      <td>서울특별시 관악구 봉천동 732-3</td>\n",
       "      <td>EAT</td>\n",
       "    </tr>\n",
       "  </tbody>\n",
       "</table>\n",
       "<p>15176 rows × 10 columns</p>\n",
       "</div>"
      ],
      "text/plain": [
       "       place.id        place.name place.category    rating  review.count  \\\n",
       "0      11605455              가미분식           종합분식  4.217391            32   \n",
       "1      10976694              유래회관     육류,고기요리-일반  4.300000            27   \n",
       "2      11398664              대성갈비     육류,고기요리-일반  4.216667            76   \n",
       "3      11663081            철길왕갈비살     육류,고기요리-일반  4.400000            54   \n",
       "4      11677544              황소고집     육류,고기요리-일반  4.379310            69   \n",
       "...         ...               ...            ...       ...           ...   \n",
       "15171  10161356  모모카페 코트야드 서울 남대문            NaN  4.500000           120   \n",
       "15172   3894901        스타벅스 경복궁역점            NaN  4.000000             1   \n",
       "15173    948337               커피愛            NaN  4.500000             1   \n",
       "15174   9035619           해적선해물부페            NaN  4.000000             1   \n",
       "15175  14969071     월화고기 - 보라매직영점            NaN  4.500000             1   \n",
       "\n",
       "      is_fch        lat         lng                     land.addr category  \n",
       "0          0  37.558661  126.945960  서울특별시 서대문구 대현동 54-1 무궁화상가아파트      EAT  \n",
       "1          0  37.566438  127.031591        서울특별시 성동구 홍익동 357 유래회관      EAT  \n",
       "2          0  37.547073  127.044028        서울특별시 성동구 성수동1가 668-21      EAT  \n",
       "3          0  37.554546  126.931666             서울특별시 마포구 창전동 4-2      EAT  \n",
       "4          0  37.568593  126.986046           서울특별시 종로구 관철동 11-11      EAT  \n",
       "...      ...        ...         ...                           ...      ...  \n",
       "15171      0  37.561200  126.976882   서울특별시 중구 남대문로4가 17-23 남대문호텔      EAT  \n",
       "15172      1  37.577200  126.972778      서울특별시 종로구 통의동 35-41 우진빌딩      EAT  \n",
       "15173      0  37.562855  126.985572            서울특별시 중구 명동2가 27-1      EAT  \n",
       "15174      0  37.497622  126.864067   서울특별시 구로구 고척동 76-160 골든타워빌딩      EAT  \n",
       "15175      1  37.491641  126.926301           서울특별시 관악구 봉천동 732-3      EAT  \n",
       "\n",
       "[15176 rows x 10 columns]"
      ]
     },
     "execution_count": 456,
     "metadata": {},
     "output_type": "execute_result"
    }
   ],
   "source": [
    "place_info"
   ]
  },
  {
   "cell_type": "code",
   "execution_count": 458,
   "metadata": {
    "Collapsed": "false"
   },
   "outputs": [],
   "source": [
    "final_review = final_review.merge(place_info[['place.id', 'is_fch']], on = 'place.id', how = 'left')"
   ]
  },
  {
   "cell_type": "code",
   "execution_count": 459,
   "metadata": {
    "Collapsed": "false"
   },
   "outputs": [
    {
     "data": {
      "text/html": [
       "<div>\n",
       "<style scoped>\n",
       "    .dataframe tbody tr th:only-of-type {\n",
       "        vertical-align: middle;\n",
       "    }\n",
       "\n",
       "    .dataframe tbody tr th {\n",
       "        vertical-align: top;\n",
       "    }\n",
       "\n",
       "    .dataframe thead th {\n",
       "        text-align: right;\n",
       "    }\n",
       "</style>\n",
       "<table border=\"1\" class=\"dataframe\">\n",
       "  <thead>\n",
       "    <tr style=\"text-align: right;\">\n",
       "      <th></th>\n",
       "      <th>id</th>\n",
       "      <th>rating</th>\n",
       "      <th>body</th>\n",
       "      <th>idno</th>\n",
       "      <th>place.id</th>\n",
       "      <th>place.name</th>\n",
       "      <th>photonum</th>\n",
       "      <th>createdDate</th>\n",
       "      <th>language</th>\n",
       "      <th>is_fch</th>\n",
       "    </tr>\n",
       "  </thead>\n",
       "  <tbody>\n",
       "    <tr>\n",
       "      <th>0</th>\n",
       "      <td>5ec7ec658160f100109a8368</td>\n",
       "      <td>4.5</td>\n",
       "      <td>NaN</td>\n",
       "      <td>4TXey</td>\n",
       "      <td>1150710065</td>\n",
       "      <td>스타벅스 보라매공원R점</td>\n",
       "      <td>0</td>\n",
       "      <td>2020-05-21 20:42:00</td>\n",
       "      <td>ko</td>\n",
       "      <td>1</td>\n",
       "    </tr>\n",
       "    <tr>\n",
       "      <th>1</th>\n",
       "      <td>5d14eaa963951f37e4243fa5</td>\n",
       "      <td>5.0</td>\n",
       "      <td>none</td>\n",
       "      <td>awWC</td>\n",
       "      <td>1150710065</td>\n",
       "      <td>스타벅스 보라매공원R점</td>\n",
       "      <td>0</td>\n",
       "      <td>2019-06-28 01:11:03</td>\n",
       "      <td>ko</td>\n",
       "      <td>1</td>\n",
       "    </tr>\n",
       "    <tr>\n",
       "      <th>2</th>\n",
       "      <td>5e69024bf896230011648a61</td>\n",
       "      <td>5.0</td>\n",
       "      <td>NaN</td>\n",
       "      <td>1Unzg</td>\n",
       "      <td>1150710065</td>\n",
       "      <td>스타벅스 보라매공원R점</td>\n",
       "      <td>0</td>\n",
       "      <td>2020-03-12 00:22:00</td>\n",
       "      <td>ko</td>\n",
       "      <td>1</td>\n",
       "    </tr>\n",
       "    <tr>\n",
       "      <th>3</th>\n",
       "      <td>5e4f98b95543c700113e18e7</td>\n",
       "      <td>5.0</td>\n",
       "      <td>NaN</td>\n",
       "      <td>LRVl</td>\n",
       "      <td>1150710065</td>\n",
       "      <td>스타벅스 보라매공원R점</td>\n",
       "      <td>0</td>\n",
       "      <td>2020-02-16 17:06:00</td>\n",
       "      <td>ko</td>\n",
       "      <td>1</td>\n",
       "    </tr>\n",
       "    <tr>\n",
       "      <th>4</th>\n",
       "      <td>5c8528bdf9e6b96d632ae302</td>\n",
       "      <td>5.0</td>\n",
       "      <td>2019.03.06\\nHH</td>\n",
       "      <td>ESN1</td>\n",
       "      <td>1150710065</td>\n",
       "      <td>스타벅스 보라매공원R점</td>\n",
       "      <td>0</td>\n",
       "      <td>2019-03-11 00:08:48</td>\n",
       "      <td>ko</td>\n",
       "      <td>1</td>\n",
       "    </tr>\n",
       "    <tr>\n",
       "      <th>...</th>\n",
       "      <td>...</td>\n",
       "      <td>...</td>\n",
       "      <td>...</td>\n",
       "      <td>...</td>\n",
       "      <td>...</td>\n",
       "      <td>...</td>\n",
       "      <td>...</td>\n",
       "      <td>...</td>\n",
       "      <td>...</td>\n",
       "      <td>...</td>\n",
       "    </tr>\n",
       "    <tr>\n",
       "      <th>415510</th>\n",
       "      <td>377783462</td>\n",
       "      <td>5.0</td>\n",
       "      <td>Excellent breakfast something for everyone. Fr...</td>\n",
       "      <td>0D7BA322E49206AF13A9369774B88AE0</td>\n",
       "      <td>10161356</td>\n",
       "      <td>MoMo Cafe</td>\n",
       "      <td>0</td>\n",
       "      <td>2016-05-29 00:00:00</td>\n",
       "      <td>en</td>\n",
       "      <td>0</td>\n",
       "    </tr>\n",
       "    <tr>\n",
       "      <th>415511</th>\n",
       "      <td>654067981</td>\n",
       "      <td>3.0</td>\n",
       "      <td>자주가는 매장인데 오래된 곳인만큼 아직도 USB충전이 안되는 테이블을 사용합니다. ...</td>\n",
       "      <td>A3EFF472632FABBF7B76AFDBC7E0D27C</td>\n",
       "      <td>3894901</td>\n",
       "      <td>Starbucks Gyeongbokgung Station 3 Line</td>\n",
       "      <td>0</td>\n",
       "      <td>2019-02-22 00:00:00</td>\n",
       "      <td>ko</td>\n",
       "      <td>1</td>\n",
       "    </tr>\n",
       "    <tr>\n",
       "      <th>415512</th>\n",
       "      <td>381624991</td>\n",
       "      <td>5.0</td>\n",
       "      <td>This is an adorable coffee shop in Myeongdong....</td>\n",
       "      <td>11424075023A02372320A7F4A93A55A2</td>\n",
       "      <td>948337</td>\n",
       "      <td>Coffee Love</td>\n",
       "      <td>0</td>\n",
       "      <td>2016-06-11 00:00:00</td>\n",
       "      <td>en</td>\n",
       "      <td>0</td>\n",
       "    </tr>\n",
       "    <tr>\n",
       "      <th>415513</th>\n",
       "      <td>671052612</td>\n",
       "      <td>4.0</td>\n",
       "      <td>다양한 해산물과 소고기와 함께 뷔페까지 먹을 수 있는 단체 모임장소로도 좋은 샤브샤...</td>\n",
       "      <td>7D786BDC124247789DBC1E9860C54B81</td>\n",
       "      <td>9035619</td>\n",
       "      <td>Haejeokseon Seafood Buffet</td>\n",
       "      <td>4</td>\n",
       "      <td>2019-05-03 00:00:00</td>\n",
       "      <td>ko</td>\n",
       "      <td>0</td>\n",
       "    </tr>\n",
       "    <tr>\n",
       "      <th>415514</th>\n",
       "      <td>670618102</td>\n",
       "      <td>5.0</td>\n",
       "      <td>2층의 넓은 매장으로 질좋군 돼지고기와 소고기 한우를 맛볼 수 있는 곳으로 깔끔한 ...</td>\n",
       "      <td>7D786BDC124247789DBC1E9860C54B81</td>\n",
       "      <td>14969071</td>\n",
       "      <td>Wolhwa Gogi - Bolamae Jikyeongjeom</td>\n",
       "      <td>2</td>\n",
       "      <td>2019-05-01 00:00:00</td>\n",
       "      <td>ko</td>\n",
       "      <td>1</td>\n",
       "    </tr>\n",
       "  </tbody>\n",
       "</table>\n",
       "<p>415515 rows × 10 columns</p>\n",
       "</div>"
      ],
      "text/plain": [
       "                              id  rating  \\\n",
       "0       5ec7ec658160f100109a8368     4.5   \n",
       "1       5d14eaa963951f37e4243fa5     5.0   \n",
       "2       5e69024bf896230011648a61     5.0   \n",
       "3       5e4f98b95543c700113e18e7     5.0   \n",
       "4       5c8528bdf9e6b96d632ae302     5.0   \n",
       "...                          ...     ...   \n",
       "415510                 377783462     5.0   \n",
       "415511                 654067981     3.0   \n",
       "415512                 381624991     5.0   \n",
       "415513                 671052612     4.0   \n",
       "415514                 670618102     5.0   \n",
       "\n",
       "                                                     body  \\\n",
       "0                                                     NaN   \n",
       "1                                                    none   \n",
       "2                                                     NaN   \n",
       "3                                                     NaN   \n",
       "4                                          2019.03.06\\nHH   \n",
       "...                                                   ...   \n",
       "415510  Excellent breakfast something for everyone. Fr...   \n",
       "415511  자주가는 매장인데 오래된 곳인만큼 아직도 USB충전이 안되는 테이블을 사용합니다. ...   \n",
       "415512  This is an adorable coffee shop in Myeongdong....   \n",
       "415513  다양한 해산물과 소고기와 함께 뷔페까지 먹을 수 있는 단체 모임장소로도 좋은 샤브샤...   \n",
       "415514  2층의 넓은 매장으로 질좋군 돼지고기와 소고기 한우를 맛볼 수 있는 곳으로 깔끔한 ...   \n",
       "\n",
       "                                    idno    place.id  \\\n",
       "0                                  4TXey  1150710065   \n",
       "1                                   awWC  1150710065   \n",
       "2                                  1Unzg  1150710065   \n",
       "3                                   LRVl  1150710065   \n",
       "4                                   ESN1  1150710065   \n",
       "...                                  ...         ...   \n",
       "415510  0D7BA322E49206AF13A9369774B88AE0    10161356   \n",
       "415511  A3EFF472632FABBF7B76AFDBC7E0D27C     3894901   \n",
       "415512  11424075023A02372320A7F4A93A55A2      948337   \n",
       "415513  7D786BDC124247789DBC1E9860C54B81     9035619   \n",
       "415514  7D786BDC124247789DBC1E9860C54B81    14969071   \n",
       "\n",
       "                                    place.name  photonum         createdDate  \\\n",
       "0                                 스타벅스 보라매공원R점         0 2020-05-21 20:42:00   \n",
       "1                                 스타벅스 보라매공원R점         0 2019-06-28 01:11:03   \n",
       "2                                 스타벅스 보라매공원R점         0 2020-03-12 00:22:00   \n",
       "3                                 스타벅스 보라매공원R점         0 2020-02-16 17:06:00   \n",
       "4                                 스타벅스 보라매공원R점         0 2019-03-11 00:08:48   \n",
       "...                                        ...       ...                 ...   \n",
       "415510                               MoMo Cafe         0 2016-05-29 00:00:00   \n",
       "415511  Starbucks Gyeongbokgung Station 3 Line         0 2019-02-22 00:00:00   \n",
       "415512                             Coffee Love         0 2016-06-11 00:00:00   \n",
       "415513              Haejeokseon Seafood Buffet         4 2019-05-03 00:00:00   \n",
       "415514      Wolhwa Gogi - Bolamae Jikyeongjeom         2 2019-05-01 00:00:00   \n",
       "\n",
       "       language is_fch  \n",
       "0            ko      1  \n",
       "1            ko      1  \n",
       "2            ko      1  \n",
       "3            ko      1  \n",
       "4            ko      1  \n",
       "...         ...    ...  \n",
       "415510       en      0  \n",
       "415511       ko      1  \n",
       "415512       en      0  \n",
       "415513       ko      0  \n",
       "415514       ko      1  \n",
       "\n",
       "[415515 rows x 10 columns]"
      ]
     },
     "execution_count": 459,
     "metadata": {},
     "output_type": "execute_result"
    }
   ],
   "source": [
    "final_review"
   ]
  },
  {
   "cell_type": "code",
   "execution_count": 477,
   "metadata": {
    "Collapsed": "false"
   },
   "outputs": [],
   "source": [
    "ta_review.columns = ['id', 'rating', 'body', 'idno', 'place.id', 'place.name', 'photonum', 'createdDate', 'language', 'is_fch']"
   ]
  },
  {
   "cell_type": "code",
   "execution_count": 513,
   "metadata": {
    "Collapsed": "false"
   },
   "outputs": [],
   "source": [
    "nv_review2 = res.merge(nv_hotel[['place.id']], on = 'place.id')"
   ]
  },
  {
   "cell_type": "code",
   "execution_count": 515,
   "metadata": {
    "Collapsed": "false"
   },
   "outputs": [],
   "source": [
    "nv_review2['photonum'] = nv_review2['media'].apply(lambda x: x.count('IMAGE'))\n",
    "nv_review2['createdDate'] = nv_review2['visitedDate.date'].astype(str).astype('datetime64') \n",
    "nv_review2['is_fch'] = 0\n",
    "nv_review2 = nv_review2[['id', 'rating', 'body', 'idno', 'place.id', 'place.name', 'photonum', 'createdDate']]"
   ]
  },
  {
   "cell_type": "code",
   "execution_count": 523,
   "metadata": {
    "Collapsed": "false"
   },
   "outputs": [],
   "source": [
    "place_info['place.id'] = place_info['place.id'].astype(str)"
   ]
  },
  {
   "cell_type": "code",
   "execution_count": 536,
   "metadata": {
    "Collapsed": "false"
   },
   "outputs": [
    {
     "name": "stderr",
     "output_type": "stream",
     "text": [
      "/Users/jinseok/opt/anaconda3/lib/python3.7/site-packages/ipykernel_launcher.py:1: SettingWithCopyWarning: \n",
      "A value is trying to be set on a copy of a slice from a DataFrame.\n",
      "Try using .loc[row_indexer,col_indexer] = value instead\n",
      "\n",
      "See the caveats in the documentation: https://pandas.pydata.org/pandas-docs/stable/user_guide/indexing.html#returning-a-view-versus-a-copy\n",
      "  \"\"\"Entry point for launching an IPython kernel.\n"
     ]
    }
   ],
   "source": [
    "nv_review2['language'] = 'ko'"
   ]
  },
  {
   "cell_type": "code",
   "execution_count": 540,
   "metadata": {
    "Collapsed": "false"
   },
   "outputs": [],
   "source": [
    "nv_review = pd.concat([nv_review, nv_review2], axis = 0)"
   ]
  },
  {
   "cell_type": "code",
   "execution_count": 554,
   "metadata": {
    "Collapsed": "false"
   },
   "outputs": [],
   "source": [
    "ta_review2 = ta.merge(ta_hotel[['place.id']], left_on = 'location.locationId', right_on = 'place.id')"
   ]
  },
  {
   "cell_type": "code",
   "execution_count": 556,
   "metadata": {
    "Collapsed": "false"
   },
   "outputs": [
    {
     "name": "stderr",
     "output_type": "stream",
     "text": [
      "/Users/jinseok/opt/anaconda3/lib/python3.7/site-packages/ipykernel_launcher.py:4: SettingWithCopyWarning: \n",
      "A value is trying to be set on a copy of a slice from a DataFrame.\n",
      "Try using .loc[row_indexer,col_indexer] = value instead\n",
      "\n",
      "See the caveats in the documentation: https://pandas.pydata.org/pandas-docs/stable/user_guide/indexing.html#returning-a-view-versus-a-copy\n",
      "  after removing the cwd from sys.path.\n"
     ]
    }
   ],
   "source": [
    "ta_review2['photonum'] = ta_review2['photos'].apply(lambda x: len(x))\n",
    "ta_review2['createdDate'] = ta_review2['createdDate'].astype(str).astype('datetime64')\n",
    "ta_review2 = ta_review2[['id', 'rating', 'text', 'userId', 'location.locationId', 'location.name', 'photonum', 'createdDate', 'language']]\n",
    "ta_review2['is_fch'] = 0"
   ]
  },
  {
   "cell_type": "code",
   "execution_count": 561,
   "metadata": {
    "Collapsed": "false"
   },
   "outputs": [],
   "source": [
    "ta_review2.columns = ['id', 'rating', 'body', 'idno', 'place.id', 'place.name', 'photonum', 'createdDate', 'language', 'is_fch']"
   ]
  },
  {
   "cell_type": "code",
   "execution_count": 563,
   "metadata": {
    "Collapsed": "false"
   },
   "outputs": [],
   "source": [
    "ta_review = pd.concat([ta_review, ta_review2], axis = 0)"
   ]
  },
  {
   "cell_type": "code",
   "execution_count": 565,
   "metadata": {
    "Collapsed": "false"
   },
   "outputs": [],
   "source": [
    "reviews = pd.concat([final_review, nv_review, ta_review] , axis = 0)"
   ]
  },
  {
   "cell_type": "code",
   "execution_count": 572,
   "metadata": {
    "Collapsed": "false"
   },
   "outputs": [],
   "source": [
    "reviews['is_local'] = reviews['language'].apply(lambda x : 1 if x == 'ko' else 0)"
   ]
  },
  {
   "cell_type": "code",
   "execution_count": 568,
   "metadata": {
    "Collapsed": "false"
   },
   "outputs": [
    {
     "data": {
      "text/html": [
       "<div>\n",
       "<style scoped>\n",
       "    .dataframe tbody tr th:only-of-type {\n",
       "        vertical-align: middle;\n",
       "    }\n",
       "\n",
       "    .dataframe tbody tr th {\n",
       "        vertical-align: top;\n",
       "    }\n",
       "\n",
       "    .dataframe thead th {\n",
       "        text-align: right;\n",
       "    }\n",
       "</style>\n",
       "<table border=\"1\" class=\"dataframe\">\n",
       "  <thead>\n",
       "    <tr style=\"text-align: right;\">\n",
       "      <th></th>\n",
       "      <th>place.id</th>\n",
       "      <th>place.name</th>\n",
       "      <th>place.category</th>\n",
       "      <th>rating</th>\n",
       "      <th>review.count</th>\n",
       "      <th>is_fch</th>\n",
       "      <th>lat</th>\n",
       "      <th>lng</th>\n",
       "      <th>land.addr</th>\n",
       "      <th>category</th>\n",
       "    </tr>\n",
       "  </thead>\n",
       "  <tbody>\n",
       "    <tr>\n",
       "      <th>0</th>\n",
       "      <td>11605455</td>\n",
       "      <td>가미분식</td>\n",
       "      <td>종합분식</td>\n",
       "      <td>4.217391</td>\n",
       "      <td>32</td>\n",
       "      <td>0</td>\n",
       "      <td>37.558661</td>\n",
       "      <td>126.945960</td>\n",
       "      <td>서울특별시 서대문구 대현동 54-1 무궁화상가아파트</td>\n",
       "      <td>EAT</td>\n",
       "    </tr>\n",
       "    <tr>\n",
       "      <th>1</th>\n",
       "      <td>10976694</td>\n",
       "      <td>유래회관</td>\n",
       "      <td>육류,고기요리-일반</td>\n",
       "      <td>4.300000</td>\n",
       "      <td>27</td>\n",
       "      <td>0</td>\n",
       "      <td>37.566438</td>\n",
       "      <td>127.031591</td>\n",
       "      <td>서울특별시 성동구 홍익동 357 유래회관</td>\n",
       "      <td>EAT</td>\n",
       "    </tr>\n",
       "    <tr>\n",
       "      <th>2</th>\n",
       "      <td>11398664</td>\n",
       "      <td>대성갈비</td>\n",
       "      <td>육류,고기요리-일반</td>\n",
       "      <td>4.216667</td>\n",
       "      <td>76</td>\n",
       "      <td>0</td>\n",
       "      <td>37.547073</td>\n",
       "      <td>127.044028</td>\n",
       "      <td>서울특별시 성동구 성수동1가 668-21</td>\n",
       "      <td>EAT</td>\n",
       "    </tr>\n",
       "    <tr>\n",
       "      <th>3</th>\n",
       "      <td>11663081</td>\n",
       "      <td>철길왕갈비살</td>\n",
       "      <td>육류,고기요리-일반</td>\n",
       "      <td>4.400000</td>\n",
       "      <td>54</td>\n",
       "      <td>0</td>\n",
       "      <td>37.554546</td>\n",
       "      <td>126.931666</td>\n",
       "      <td>서울특별시 마포구 창전동 4-2</td>\n",
       "      <td>EAT</td>\n",
       "    </tr>\n",
       "    <tr>\n",
       "      <th>4</th>\n",
       "      <td>11677544</td>\n",
       "      <td>황소고집</td>\n",
       "      <td>육류,고기요리-일반</td>\n",
       "      <td>4.379310</td>\n",
       "      <td>69</td>\n",
       "      <td>0</td>\n",
       "      <td>37.568593</td>\n",
       "      <td>126.986046</td>\n",
       "      <td>서울특별시 종로구 관철동 11-11</td>\n",
       "      <td>EAT</td>\n",
       "    </tr>\n",
       "    <tr>\n",
       "      <th>...</th>\n",
       "      <td>...</td>\n",
       "      <td>...</td>\n",
       "      <td>...</td>\n",
       "      <td>...</td>\n",
       "      <td>...</td>\n",
       "      <td>...</td>\n",
       "      <td>...</td>\n",
       "      <td>...</td>\n",
       "      <td>...</td>\n",
       "      <td>...</td>\n",
       "    </tr>\n",
       "    <tr>\n",
       "      <th>15171</th>\n",
       "      <td>10161356</td>\n",
       "      <td>모모카페 코트야드 서울 남대문</td>\n",
       "      <td>NaN</td>\n",
       "      <td>4.500000</td>\n",
       "      <td>120</td>\n",
       "      <td>0</td>\n",
       "      <td>37.561200</td>\n",
       "      <td>126.976882</td>\n",
       "      <td>서울특별시 중구 남대문로4가 17-23 남대문호텔</td>\n",
       "      <td>EAT</td>\n",
       "    </tr>\n",
       "    <tr>\n",
       "      <th>15172</th>\n",
       "      <td>3894901</td>\n",
       "      <td>스타벅스 경복궁역점</td>\n",
       "      <td>NaN</td>\n",
       "      <td>4.000000</td>\n",
       "      <td>1</td>\n",
       "      <td>1</td>\n",
       "      <td>37.577200</td>\n",
       "      <td>126.972778</td>\n",
       "      <td>서울특별시 종로구 통의동 35-41 우진빌딩</td>\n",
       "      <td>EAT</td>\n",
       "    </tr>\n",
       "    <tr>\n",
       "      <th>15173</th>\n",
       "      <td>948337</td>\n",
       "      <td>커피愛</td>\n",
       "      <td>NaN</td>\n",
       "      <td>4.500000</td>\n",
       "      <td>1</td>\n",
       "      <td>0</td>\n",
       "      <td>37.562855</td>\n",
       "      <td>126.985572</td>\n",
       "      <td>서울특별시 중구 명동2가 27-1</td>\n",
       "      <td>EAT</td>\n",
       "    </tr>\n",
       "    <tr>\n",
       "      <th>15174</th>\n",
       "      <td>9035619</td>\n",
       "      <td>해적선해물부페</td>\n",
       "      <td>NaN</td>\n",
       "      <td>4.000000</td>\n",
       "      <td>1</td>\n",
       "      <td>0</td>\n",
       "      <td>37.497622</td>\n",
       "      <td>126.864067</td>\n",
       "      <td>서울특별시 구로구 고척동 76-160 골든타워빌딩</td>\n",
       "      <td>EAT</td>\n",
       "    </tr>\n",
       "    <tr>\n",
       "      <th>15175</th>\n",
       "      <td>14969071</td>\n",
       "      <td>월화고기 - 보라매직영점</td>\n",
       "      <td>NaN</td>\n",
       "      <td>4.500000</td>\n",
       "      <td>1</td>\n",
       "      <td>1</td>\n",
       "      <td>37.491641</td>\n",
       "      <td>126.926301</td>\n",
       "      <td>서울특별시 관악구 봉천동 732-3</td>\n",
       "      <td>EAT</td>\n",
       "    </tr>\n",
       "  </tbody>\n",
       "</table>\n",
       "<p>15176 rows × 10 columns</p>\n",
       "</div>"
      ],
      "text/plain": [
       "       place.id        place.name place.category    rating  review.count  \\\n",
       "0      11605455              가미분식           종합분식  4.217391            32   \n",
       "1      10976694              유래회관     육류,고기요리-일반  4.300000            27   \n",
       "2      11398664              대성갈비     육류,고기요리-일반  4.216667            76   \n",
       "3      11663081            철길왕갈비살     육류,고기요리-일반  4.400000            54   \n",
       "4      11677544              황소고집     육류,고기요리-일반  4.379310            69   \n",
       "...         ...               ...            ...       ...           ...   \n",
       "15171  10161356  모모카페 코트야드 서울 남대문            NaN  4.500000           120   \n",
       "15172   3894901        스타벅스 경복궁역점            NaN  4.000000             1   \n",
       "15173    948337               커피愛            NaN  4.500000             1   \n",
       "15174   9035619           해적선해물부페            NaN  4.000000             1   \n",
       "15175  14969071     월화고기 - 보라매직영점            NaN  4.500000             1   \n",
       "\n",
       "      is_fch        lat         lng                     land.addr category  \n",
       "0          0  37.558661  126.945960  서울특별시 서대문구 대현동 54-1 무궁화상가아파트      EAT  \n",
       "1          0  37.566438  127.031591        서울특별시 성동구 홍익동 357 유래회관      EAT  \n",
       "2          0  37.547073  127.044028        서울특별시 성동구 성수동1가 668-21      EAT  \n",
       "3          0  37.554546  126.931666             서울특별시 마포구 창전동 4-2      EAT  \n",
       "4          0  37.568593  126.986046           서울특별시 종로구 관철동 11-11      EAT  \n",
       "...      ...        ...         ...                           ...      ...  \n",
       "15171      0  37.561200  126.976882   서울특별시 중구 남대문로4가 17-23 남대문호텔      EAT  \n",
       "15172      1  37.577200  126.972778      서울특별시 종로구 통의동 35-41 우진빌딩      EAT  \n",
       "15173      0  37.562855  126.985572            서울특별시 중구 명동2가 27-1      EAT  \n",
       "15174      0  37.497622  126.864067   서울특별시 구로구 고척동 76-160 골든타워빌딩      EAT  \n",
       "15175      1  37.491641  126.926301           서울특별시 관악구 봉천동 732-3      EAT  \n",
       "\n",
       "[15176 rows x 10 columns]"
      ]
     },
     "execution_count": 568,
     "metadata": {},
     "output_type": "execute_result"
    }
   ],
   "source": [
    "place_info"
   ]
  },
  {
   "cell_type": "code",
   "execution_count": 576,
   "metadata": {
    "Collapsed": "false"
   },
   "outputs": [],
   "source": [
    "nv_hotel = nv_hotel[['place.id', 'place.name', 'lat', 'lng', 'land.addr']]"
   ]
  },
  {
   "cell_type": "code",
   "execution_count": 577,
   "metadata": {
    "Collapsed": "false"
   },
   "outputs": [],
   "source": [
    "ta_hotel = ta_hotel[['place.id', 'place.name', 'lat', 'lng', 'land.addr']]"
   ]
  },
  {
   "cell_type": "code",
   "execution_count": 579,
   "metadata": {
    "Collapsed": "false"
   },
   "outputs": [],
   "source": [
    "hotel = pd.concat([nv_hotel, ta_hotel], axis = 0)"
   ]
  },
  {
   "cell_type": "code",
   "execution_count": 580,
   "metadata": {
    "Collapsed": "false"
   },
   "outputs": [],
   "source": [
    "hotel['category'] = 'ACM'"
   ]
  },
  {
   "cell_type": "code",
   "execution_count": 583,
   "metadata": {
    "Collapsed": "false"
   },
   "outputs": [],
   "source": [
    "place_info = pd.concat([place_info, hotel], axis = 0)"
   ]
  },
  {
   "cell_type": "code",
   "execution_count": 585,
   "metadata": {
    "Collapsed": "false"
   },
   "outputs": [
    {
     "data": {
      "text/html": [
       "<div>\n",
       "<style scoped>\n",
       "    .dataframe tbody tr th:only-of-type {\n",
       "        vertical-align: middle;\n",
       "    }\n",
       "\n",
       "    .dataframe tbody tr th {\n",
       "        vertical-align: top;\n",
       "    }\n",
       "\n",
       "    .dataframe thead th {\n",
       "        text-align: right;\n",
       "    }\n",
       "</style>\n",
       "<table border=\"1\" class=\"dataframe\">\n",
       "  <thead>\n",
       "    <tr style=\"text-align: right;\">\n",
       "      <th></th>\n",
       "      <th>place.id</th>\n",
       "      <th>place.name</th>\n",
       "      <th>place.category</th>\n",
       "      <th>rating</th>\n",
       "      <th>review.count</th>\n",
       "      <th>is_fch</th>\n",
       "      <th>lat</th>\n",
       "      <th>lng</th>\n",
       "      <th>land.addr</th>\n",
       "      <th>category</th>\n",
       "    </tr>\n",
       "  </thead>\n",
       "  <tbody>\n",
       "    <tr>\n",
       "      <th>0</th>\n",
       "      <td>11605455</td>\n",
       "      <td>가미분식</td>\n",
       "      <td>종합분식</td>\n",
       "      <td>4.217391</td>\n",
       "      <td>32.0</td>\n",
       "      <td>0</td>\n",
       "      <td>37.558661</td>\n",
       "      <td>126.945960</td>\n",
       "      <td>서울특별시 서대문구 대현동 54-1 무궁화상가아파트</td>\n",
       "      <td>EAT</td>\n",
       "    </tr>\n",
       "    <tr>\n",
       "      <th>1</th>\n",
       "      <td>10976694</td>\n",
       "      <td>유래회관</td>\n",
       "      <td>육류,고기요리-일반</td>\n",
       "      <td>4.300000</td>\n",
       "      <td>27.0</td>\n",
       "      <td>0</td>\n",
       "      <td>37.566438</td>\n",
       "      <td>127.031591</td>\n",
       "      <td>서울특별시 성동구 홍익동 357 유래회관</td>\n",
       "      <td>EAT</td>\n",
       "    </tr>\n",
       "    <tr>\n",
       "      <th>2</th>\n",
       "      <td>11398664</td>\n",
       "      <td>대성갈비</td>\n",
       "      <td>육류,고기요리-일반</td>\n",
       "      <td>4.216667</td>\n",
       "      <td>76.0</td>\n",
       "      <td>0</td>\n",
       "      <td>37.547073</td>\n",
       "      <td>127.044028</td>\n",
       "      <td>서울특별시 성동구 성수동1가 668-21</td>\n",
       "      <td>EAT</td>\n",
       "    </tr>\n",
       "    <tr>\n",
       "      <th>3</th>\n",
       "      <td>11663081</td>\n",
       "      <td>철길왕갈비살</td>\n",
       "      <td>육류,고기요리-일반</td>\n",
       "      <td>4.400000</td>\n",
       "      <td>54.0</td>\n",
       "      <td>0</td>\n",
       "      <td>37.554546</td>\n",
       "      <td>126.931666</td>\n",
       "      <td>서울특별시 마포구 창전동 4-2</td>\n",
       "      <td>EAT</td>\n",
       "    </tr>\n",
       "    <tr>\n",
       "      <th>4</th>\n",
       "      <td>11677544</td>\n",
       "      <td>황소고집</td>\n",
       "      <td>육류,고기요리-일반</td>\n",
       "      <td>4.379310</td>\n",
       "      <td>69.0</td>\n",
       "      <td>0</td>\n",
       "      <td>37.568593</td>\n",
       "      <td>126.986046</td>\n",
       "      <td>서울특별시 종로구 관철동 11-11</td>\n",
       "      <td>EAT</td>\n",
       "    </tr>\n",
       "    <tr>\n",
       "      <th>...</th>\n",
       "      <td>...</td>\n",
       "      <td>...</td>\n",
       "      <td>...</td>\n",
       "      <td>...</td>\n",
       "      <td>...</td>\n",
       "      <td>...</td>\n",
       "      <td>...</td>\n",
       "      <td>...</td>\n",
       "      <td>...</td>\n",
       "      <td>...</td>\n",
       "    </tr>\n",
       "    <tr>\n",
       "      <th>585</th>\n",
       "      <td>1150903</td>\n",
       "      <td>영빈 호텔</td>\n",
       "      <td>NaN</td>\n",
       "      <td>NaN</td>\n",
       "      <td>NaN</td>\n",
       "      <td>NaN</td>\n",
       "      <td>37.563004</td>\n",
       "      <td>127.005544</td>\n",
       "      <td>서울특별시 중구 쌍림동 240 영빈관광호텔</td>\n",
       "      <td>ACM</td>\n",
       "    </tr>\n",
       "    <tr>\n",
       "      <th>587</th>\n",
       "      <td>2303934</td>\n",
       "      <td>자자 백팩커스 호스텔</td>\n",
       "      <td>NaN</td>\n",
       "      <td>NaN</td>\n",
       "      <td>NaN</td>\n",
       "      <td>NaN</td>\n",
       "      <td>37.558819</td>\n",
       "      <td>126.986443</td>\n",
       "      <td>서울특별시 중구 남산동2가 18-6</td>\n",
       "      <td>ACM</td>\n",
       "    </tr>\n",
       "    <tr>\n",
       "      <th>589</th>\n",
       "      <td>6998634</td>\n",
       "      <td>이비스 버젯 앰배서더 서울 동대문</td>\n",
       "      <td>NaN</td>\n",
       "      <td>NaN</td>\n",
       "      <td>NaN</td>\n",
       "      <td>NaN</td>\n",
       "      <td>37.564187</td>\n",
       "      <td>127.008694</td>\n",
       "      <td>서울특별시 중구 광희동2가 238-1</td>\n",
       "      <td>ACM</td>\n",
       "    </tr>\n",
       "    <tr>\n",
       "      <th>590</th>\n",
       "      <td>299533</td>\n",
       "      <td>이비스 스타일 앰배서더 서울 강남</td>\n",
       "      <td>NaN</td>\n",
       "      <td>NaN</td>\n",
       "      <td>NaN</td>\n",
       "      <td>NaN</td>\n",
       "      <td>37.505102</td>\n",
       "      <td>127.057088</td>\n",
       "      <td>서울특별시 강남구 대치동 893-1 이비스 스타일 앰배서더 서울 강남</td>\n",
       "      <td>ACM</td>\n",
       "    </tr>\n",
       "    <tr>\n",
       "      <th>591</th>\n",
       "      <td>6561923</td>\n",
       "      <td>더 붓 게스트하우스</td>\n",
       "      <td>NaN</td>\n",
       "      <td>NaN</td>\n",
       "      <td>NaN</td>\n",
       "      <td>NaN</td>\n",
       "      <td>37.560715</td>\n",
       "      <td>126.994911</td>\n",
       "      <td>서울특별시 중구 필동2가 17-5</td>\n",
       "      <td>ACM</td>\n",
       "    </tr>\n",
       "  </tbody>\n",
       "</table>\n",
       "<p>15890 rows × 10 columns</p>\n",
       "</div>"
      ],
      "text/plain": [
       "     place.id          place.name place.category    rating  review.count  \\\n",
       "0    11605455                가미분식           종합분식  4.217391          32.0   \n",
       "1    10976694                유래회관     육류,고기요리-일반  4.300000          27.0   \n",
       "2    11398664                대성갈비     육류,고기요리-일반  4.216667          76.0   \n",
       "3    11663081              철길왕갈비살     육류,고기요리-일반  4.400000          54.0   \n",
       "4    11677544                황소고집     육류,고기요리-일반  4.379310          69.0   \n",
       "..        ...                 ...            ...       ...           ...   \n",
       "585   1150903               영빈 호텔            NaN       NaN           NaN   \n",
       "587   2303934         자자 백팩커스 호스텔            NaN       NaN           NaN   \n",
       "589   6998634  이비스 버젯 앰배서더 서울 동대문            NaN       NaN           NaN   \n",
       "590    299533  이비스 스타일 앰배서더 서울 강남            NaN       NaN           NaN   \n",
       "591   6561923          더 붓 게스트하우스            NaN       NaN           NaN   \n",
       "\n",
       "    is_fch        lat         lng                               land.addr  \\\n",
       "0        0  37.558661  126.945960            서울특별시 서대문구 대현동 54-1 무궁화상가아파트   \n",
       "1        0  37.566438  127.031591                  서울특별시 성동구 홍익동 357 유래회관   \n",
       "2        0  37.547073  127.044028                  서울특별시 성동구 성수동1가 668-21   \n",
       "3        0  37.554546  126.931666                       서울특별시 마포구 창전동 4-2   \n",
       "4        0  37.568593  126.986046                     서울특별시 종로구 관철동 11-11   \n",
       "..     ...        ...         ...                                     ...   \n",
       "585    NaN  37.563004  127.005544                 서울특별시 중구 쌍림동 240 영빈관광호텔   \n",
       "587    NaN  37.558819  126.986443                     서울특별시 중구 남산동2가 18-6   \n",
       "589    NaN  37.564187  127.008694                    서울특별시 중구 광희동2가 238-1   \n",
       "590    NaN  37.505102  127.057088  서울특별시 강남구 대치동 893-1 이비스 스타일 앰배서더 서울 강남   \n",
       "591    NaN  37.560715  126.994911                      서울특별시 중구 필동2가 17-5   \n",
       "\n",
       "    category  \n",
       "0        EAT  \n",
       "1        EAT  \n",
       "2        EAT  \n",
       "3        EAT  \n",
       "4        EAT  \n",
       "..       ...  \n",
       "585      ACM  \n",
       "587      ACM  \n",
       "589      ACM  \n",
       "590      ACM  \n",
       "591      ACM  \n",
       "\n",
       "[15890 rows x 10 columns]"
      ]
     },
     "execution_count": 585,
     "metadata": {},
     "output_type": "execute_result"
    }
   ],
   "source": [
    "place_info"
   ]
  },
  {
   "cell_type": "code",
   "execution_count": 589,
   "metadata": {
    "Collapsed": "false"
   },
   "outputs": [
    {
     "data": {
      "text/html": [
       "<div>\n",
       "<style scoped>\n",
       "    .dataframe tbody tr th:only-of-type {\n",
       "        vertical-align: middle;\n",
       "    }\n",
       "\n",
       "    .dataframe tbody tr th {\n",
       "        vertical-align: top;\n",
       "    }\n",
       "\n",
       "    .dataframe thead th {\n",
       "        text-align: right;\n",
       "    }\n",
       "</style>\n",
       "<table border=\"1\" class=\"dataframe\">\n",
       "  <thead>\n",
       "    <tr style=\"text-align: right;\">\n",
       "      <th></th>\n",
       "      <th>place.id</th>\n",
       "      <th>place.name</th>\n",
       "      <th>place.category</th>\n",
       "      <th>rating</th>\n",
       "      <th>review.count</th>\n",
       "      <th>is_fch</th>\n",
       "      <th>lat</th>\n",
       "      <th>lng</th>\n",
       "      <th>land.addr</th>\n",
       "      <th>category</th>\n",
       "    </tr>\n",
       "  </thead>\n",
       "  <tbody>\n",
       "    <tr>\n",
       "      <th>8393</th>\n",
       "      <td>1150710065</td>\n",
       "      <td>스타벅스 보라매공원R점</td>\n",
       "      <td>스타벅스</td>\n",
       "      <td>4.590717</td>\n",
       "      <td>158.0</td>\n",
       "      <td>1</td>\n",
       "      <td>37.492103</td>\n",
       "      <td>126.923551</td>\n",
       "      <td>서울특별시 동작구 신대방동 395-65 파크스퀘어,보라매현대APT</td>\n",
       "      <td>EAT</td>\n",
       "    </tr>\n",
       "  </tbody>\n",
       "</table>\n",
       "</div>"
      ],
      "text/plain": [
       "        place.id    place.name place.category    rating  review.count is_fch  \\\n",
       "8393  1150710065  스타벅스 보라매공원R점           스타벅스  4.590717         158.0      1   \n",
       "\n",
       "            lat         lng                             land.addr category  \n",
       "8393  37.492103  126.923551  서울특별시 동작구 신대방동 395-65 파크스퀘어,보라매현대APT      EAT  "
      ]
     },
     "execution_count": 589,
     "metadata": {},
     "output_type": "execute_result"
    }
   ],
   "source": [
    "place_info.loc[place_info['place.id'] == '1150710065']"
   ]
  },
  {
   "cell_type": "code",
   "execution_count": 595,
   "metadata": {
    "Collapsed": "false"
   },
   "outputs": [],
   "source": [
    "reviews['place.id'] = reviews['place.id'].astype(str)"
   ]
  },
  {
   "cell_type": "code",
   "execution_count": 594,
   "metadata": {
    "Collapsed": "false"
   },
   "outputs": [],
   "source": [
    "place_info['place.id'] = place_info['place.id'].astype(str)"
   ]
  },
  {
   "cell_type": "code",
   "execution_count": 597,
   "metadata": {
    "Collapsed": "false"
   },
   "outputs": [],
   "source": [
    "reviews = reviews.merge(place_info[['place.id', 'place.name']], on = 'place.id', how = 'left')"
   ]
  },
  {
   "cell_type": "code",
   "execution_count": 599,
   "metadata": {
    "Collapsed": "false"
   },
   "outputs": [],
   "source": [
    "reviews = reviews.drop('place.name_x', axis = 1).rename(columns = {'place.name_y' : 'place.name'})"
   ]
  },
  {
   "cell_type": "code",
   "execution_count": 602,
   "metadata": {
    "Collapsed": "false"
   },
   "outputs": [],
   "source": [
    "reviews.to_excel(os.path.join('..', '..', 'data', 'JS_11_data_review.xlsx'))"
   ]
  },
  {
   "cell_type": "code",
   "execution_count": 603,
   "metadata": {
    "Collapsed": "false"
   },
   "outputs": [],
   "source": [
    "place_info.to_excel(os.path.join('..', '..', 'data', 'JS_11_data_place.xlsx'))"
   ]
  },
  {
   "cell_type": "code",
   "execution_count": 604,
   "metadata": {
    "Collapsed": "false"
   },
   "outputs": [
    {
     "data": {
      "text/html": [
       "<div>\n",
       "<style scoped>\n",
       "    .dataframe tbody tr th:only-of-type {\n",
       "        vertical-align: middle;\n",
       "    }\n",
       "\n",
       "    .dataframe tbody tr th {\n",
       "        vertical-align: top;\n",
       "    }\n",
       "\n",
       "    .dataframe thead th {\n",
       "        text-align: right;\n",
       "    }\n",
       "</style>\n",
       "<table border=\"1\" class=\"dataframe\">\n",
       "  <thead>\n",
       "    <tr style=\"text-align: right;\">\n",
       "      <th></th>\n",
       "      <th>id</th>\n",
       "      <th>rating</th>\n",
       "      <th>body</th>\n",
       "      <th>idno</th>\n",
       "      <th>place.id</th>\n",
       "      <th>photonum</th>\n",
       "      <th>createdDate</th>\n",
       "      <th>language</th>\n",
       "      <th>is_fch</th>\n",
       "      <th>is_local</th>\n",
       "      <th>place.name</th>\n",
       "    </tr>\n",
       "  </thead>\n",
       "  <tbody>\n",
       "    <tr>\n",
       "      <th>0</th>\n",
       "      <td>5ec7ec658160f100109a8368</td>\n",
       "      <td>4.5</td>\n",
       "      <td>NaN</td>\n",
       "      <td>4TXey</td>\n",
       "      <td>1150710065</td>\n",
       "      <td>0</td>\n",
       "      <td>2020-05-21 20:42:00</td>\n",
       "      <td>ko</td>\n",
       "      <td>1</td>\n",
       "      <td>1</td>\n",
       "      <td>스타벅스 보라매공원R점</td>\n",
       "    </tr>\n",
       "    <tr>\n",
       "      <th>1</th>\n",
       "      <td>5d14eaa963951f37e4243fa5</td>\n",
       "      <td>5.0</td>\n",
       "      <td>none</td>\n",
       "      <td>awWC</td>\n",
       "      <td>1150710065</td>\n",
       "      <td>0</td>\n",
       "      <td>2019-06-28 01:11:03</td>\n",
       "      <td>ko</td>\n",
       "      <td>1</td>\n",
       "      <td>1</td>\n",
       "      <td>스타벅스 보라매공원R점</td>\n",
       "    </tr>\n",
       "    <tr>\n",
       "      <th>2</th>\n",
       "      <td>5e69024bf896230011648a61</td>\n",
       "      <td>5.0</td>\n",
       "      <td>NaN</td>\n",
       "      <td>1Unzg</td>\n",
       "      <td>1150710065</td>\n",
       "      <td>0</td>\n",
       "      <td>2020-03-12 00:22:00</td>\n",
       "      <td>ko</td>\n",
       "      <td>1</td>\n",
       "      <td>1</td>\n",
       "      <td>스타벅스 보라매공원R점</td>\n",
       "    </tr>\n",
       "    <tr>\n",
       "      <th>3</th>\n",
       "      <td>5e4f98b95543c700113e18e7</td>\n",
       "      <td>5.0</td>\n",
       "      <td>NaN</td>\n",
       "      <td>LRVl</td>\n",
       "      <td>1150710065</td>\n",
       "      <td>0</td>\n",
       "      <td>2020-02-16 17:06:00</td>\n",
       "      <td>ko</td>\n",
       "      <td>1</td>\n",
       "      <td>1</td>\n",
       "      <td>스타벅스 보라매공원R점</td>\n",
       "    </tr>\n",
       "    <tr>\n",
       "      <th>4</th>\n",
       "      <td>5c8528bdf9e6b96d632ae302</td>\n",
       "      <td>5.0</td>\n",
       "      <td>2019.03.06\\nHH</td>\n",
       "      <td>ESN1</td>\n",
       "      <td>1150710065</td>\n",
       "      <td>0</td>\n",
       "      <td>2019-03-11 00:08:48</td>\n",
       "      <td>ko</td>\n",
       "      <td>1</td>\n",
       "      <td>1</td>\n",
       "      <td>스타벅스 보라매공원R점</td>\n",
       "    </tr>\n",
       "  </tbody>\n",
       "</table>\n",
       "</div>"
      ],
      "text/plain": [
       "                         id  rating            body   idno    place.id  \\\n",
       "0  5ec7ec658160f100109a8368     4.5             NaN  4TXey  1150710065   \n",
       "1  5d14eaa963951f37e4243fa5     5.0            none   awWC  1150710065   \n",
       "2  5e69024bf896230011648a61     5.0             NaN  1Unzg  1150710065   \n",
       "3  5e4f98b95543c700113e18e7     5.0             NaN   LRVl  1150710065   \n",
       "4  5c8528bdf9e6b96d632ae302     5.0  2019.03.06\\nHH   ESN1  1150710065   \n",
       "\n",
       "   photonum         createdDate language is_fch  is_local    place.name  \n",
       "0         0 2020-05-21 20:42:00       ko      1         1  스타벅스 보라매공원R점  \n",
       "1         0 2019-06-28 01:11:03       ko      1         1  스타벅스 보라매공원R점  \n",
       "2         0 2020-03-12 00:22:00       ko      1         1  스타벅스 보라매공원R점  \n",
       "3         0 2020-02-16 17:06:00       ko      1         1  스타벅스 보라매공원R점  \n",
       "4         0 2019-03-11 00:08:48       ko      1         1  스타벅스 보라매공원R점  "
      ]
     },
     "execution_count": 604,
     "metadata": {},
     "output_type": "execute_result"
    }
   ],
   "source": [
    "reviews.head()"
   ]
  },
  {
   "cell_type": "code",
   "execution_count": 606,
   "metadata": {
    "Collapsed": "false"
   },
   "outputs": [
    {
     "data": {
      "text/html": [
       "<div>\n",
       "<style scoped>\n",
       "    .dataframe tbody tr th:only-of-type {\n",
       "        vertical-align: middle;\n",
       "    }\n",
       "\n",
       "    .dataframe tbody tr th {\n",
       "        vertical-align: top;\n",
       "    }\n",
       "\n",
       "    .dataframe thead th {\n",
       "        text-align: right;\n",
       "    }\n",
       "</style>\n",
       "<table border=\"1\" class=\"dataframe\">\n",
       "  <thead>\n",
       "    <tr style=\"text-align: right;\">\n",
       "      <th></th>\n",
       "      <th>place.id</th>\n",
       "      <th>place.name</th>\n",
       "      <th>place.category</th>\n",
       "      <th>rating</th>\n",
       "      <th>review.count</th>\n",
       "      <th>is_fch</th>\n",
       "      <th>lat</th>\n",
       "      <th>lng</th>\n",
       "      <th>land.addr</th>\n",
       "      <th>category</th>\n",
       "    </tr>\n",
       "  </thead>\n",
       "  <tbody>\n",
       "    <tr>\n",
       "      <th>0</th>\n",
       "      <td>11605455</td>\n",
       "      <td>가미분식</td>\n",
       "      <td>종합분식</td>\n",
       "      <td>4.217391</td>\n",
       "      <td>32.0</td>\n",
       "      <td>0</td>\n",
       "      <td>37.558661</td>\n",
       "      <td>126.945960</td>\n",
       "      <td>서울특별시 서대문구 대현동 54-1 무궁화상가아파트</td>\n",
       "      <td>EAT</td>\n",
       "    </tr>\n",
       "    <tr>\n",
       "      <th>1</th>\n",
       "      <td>10976694</td>\n",
       "      <td>유래회관</td>\n",
       "      <td>육류,고기요리-일반</td>\n",
       "      <td>4.300000</td>\n",
       "      <td>27.0</td>\n",
       "      <td>0</td>\n",
       "      <td>37.566438</td>\n",
       "      <td>127.031591</td>\n",
       "      <td>서울특별시 성동구 홍익동 357 유래회관</td>\n",
       "      <td>EAT</td>\n",
       "    </tr>\n",
       "    <tr>\n",
       "      <th>2</th>\n",
       "      <td>11398664</td>\n",
       "      <td>대성갈비</td>\n",
       "      <td>육류,고기요리-일반</td>\n",
       "      <td>4.216667</td>\n",
       "      <td>76.0</td>\n",
       "      <td>0</td>\n",
       "      <td>37.547073</td>\n",
       "      <td>127.044028</td>\n",
       "      <td>서울특별시 성동구 성수동1가 668-21</td>\n",
       "      <td>EAT</td>\n",
       "    </tr>\n",
       "    <tr>\n",
       "      <th>3</th>\n",
       "      <td>11663081</td>\n",
       "      <td>철길왕갈비살</td>\n",
       "      <td>육류,고기요리-일반</td>\n",
       "      <td>4.400000</td>\n",
       "      <td>54.0</td>\n",
       "      <td>0</td>\n",
       "      <td>37.554546</td>\n",
       "      <td>126.931666</td>\n",
       "      <td>서울특별시 마포구 창전동 4-2</td>\n",
       "      <td>EAT</td>\n",
       "    </tr>\n",
       "    <tr>\n",
       "      <th>4</th>\n",
       "      <td>11677544</td>\n",
       "      <td>황소고집</td>\n",
       "      <td>육류,고기요리-일반</td>\n",
       "      <td>4.379310</td>\n",
       "      <td>69.0</td>\n",
       "      <td>0</td>\n",
       "      <td>37.568593</td>\n",
       "      <td>126.986046</td>\n",
       "      <td>서울특별시 종로구 관철동 11-11</td>\n",
       "      <td>EAT</td>\n",
       "    </tr>\n",
       "    <tr>\n",
       "      <th>...</th>\n",
       "      <td>...</td>\n",
       "      <td>...</td>\n",
       "      <td>...</td>\n",
       "      <td>...</td>\n",
       "      <td>...</td>\n",
       "      <td>...</td>\n",
       "      <td>...</td>\n",
       "      <td>...</td>\n",
       "      <td>...</td>\n",
       "      <td>...</td>\n",
       "    </tr>\n",
       "    <tr>\n",
       "      <th>585</th>\n",
       "      <td>1150903</td>\n",
       "      <td>영빈 호텔</td>\n",
       "      <td>NaN</td>\n",
       "      <td>NaN</td>\n",
       "      <td>NaN</td>\n",
       "      <td>NaN</td>\n",
       "      <td>37.563004</td>\n",
       "      <td>127.005544</td>\n",
       "      <td>서울특별시 중구 쌍림동 240 영빈관광호텔</td>\n",
       "      <td>ACM</td>\n",
       "    </tr>\n",
       "    <tr>\n",
       "      <th>587</th>\n",
       "      <td>2303934</td>\n",
       "      <td>자자 백팩커스 호스텔</td>\n",
       "      <td>NaN</td>\n",
       "      <td>NaN</td>\n",
       "      <td>NaN</td>\n",
       "      <td>NaN</td>\n",
       "      <td>37.558819</td>\n",
       "      <td>126.986443</td>\n",
       "      <td>서울특별시 중구 남산동2가 18-6</td>\n",
       "      <td>ACM</td>\n",
       "    </tr>\n",
       "    <tr>\n",
       "      <th>589</th>\n",
       "      <td>6998634</td>\n",
       "      <td>이비스 버젯 앰배서더 서울 동대문</td>\n",
       "      <td>NaN</td>\n",
       "      <td>NaN</td>\n",
       "      <td>NaN</td>\n",
       "      <td>NaN</td>\n",
       "      <td>37.564187</td>\n",
       "      <td>127.008694</td>\n",
       "      <td>서울특별시 중구 광희동2가 238-1</td>\n",
       "      <td>ACM</td>\n",
       "    </tr>\n",
       "    <tr>\n",
       "      <th>590</th>\n",
       "      <td>299533</td>\n",
       "      <td>이비스 스타일 앰배서더 서울 강남</td>\n",
       "      <td>NaN</td>\n",
       "      <td>NaN</td>\n",
       "      <td>NaN</td>\n",
       "      <td>NaN</td>\n",
       "      <td>37.505102</td>\n",
       "      <td>127.057088</td>\n",
       "      <td>서울특별시 강남구 대치동 893-1 이비스 스타일 앰배서더 서울 강남</td>\n",
       "      <td>ACM</td>\n",
       "    </tr>\n",
       "    <tr>\n",
       "      <th>591</th>\n",
       "      <td>6561923</td>\n",
       "      <td>더 붓 게스트하우스</td>\n",
       "      <td>NaN</td>\n",
       "      <td>NaN</td>\n",
       "      <td>NaN</td>\n",
       "      <td>NaN</td>\n",
       "      <td>37.560715</td>\n",
       "      <td>126.994911</td>\n",
       "      <td>서울특별시 중구 필동2가 17-5</td>\n",
       "      <td>ACM</td>\n",
       "    </tr>\n",
       "  </tbody>\n",
       "</table>\n",
       "<p>15890 rows × 10 columns</p>\n",
       "</div>"
      ],
      "text/plain": [
       "     place.id          place.name place.category    rating  review.count  \\\n",
       "0    11605455                가미분식           종합분식  4.217391          32.0   \n",
       "1    10976694                유래회관     육류,고기요리-일반  4.300000          27.0   \n",
       "2    11398664                대성갈비     육류,고기요리-일반  4.216667          76.0   \n",
       "3    11663081              철길왕갈비살     육류,고기요리-일반  4.400000          54.0   \n",
       "4    11677544                황소고집     육류,고기요리-일반  4.379310          69.0   \n",
       "..        ...                 ...            ...       ...           ...   \n",
       "585   1150903               영빈 호텔            NaN       NaN           NaN   \n",
       "587   2303934         자자 백팩커스 호스텔            NaN       NaN           NaN   \n",
       "589   6998634  이비스 버젯 앰배서더 서울 동대문            NaN       NaN           NaN   \n",
       "590    299533  이비스 스타일 앰배서더 서울 강남            NaN       NaN           NaN   \n",
       "591   6561923          더 붓 게스트하우스            NaN       NaN           NaN   \n",
       "\n",
       "    is_fch        lat         lng                               land.addr  \\\n",
       "0        0  37.558661  126.945960            서울특별시 서대문구 대현동 54-1 무궁화상가아파트   \n",
       "1        0  37.566438  127.031591                  서울특별시 성동구 홍익동 357 유래회관   \n",
       "2        0  37.547073  127.044028                  서울특별시 성동구 성수동1가 668-21   \n",
       "3        0  37.554546  126.931666                       서울특별시 마포구 창전동 4-2   \n",
       "4        0  37.568593  126.986046                     서울특별시 종로구 관철동 11-11   \n",
       "..     ...        ...         ...                                     ...   \n",
       "585    NaN  37.563004  127.005544                 서울특별시 중구 쌍림동 240 영빈관광호텔   \n",
       "587    NaN  37.558819  126.986443                     서울특별시 중구 남산동2가 18-6   \n",
       "589    NaN  37.564187  127.008694                    서울특별시 중구 광희동2가 238-1   \n",
       "590    NaN  37.505102  127.057088  서울특별시 강남구 대치동 893-1 이비스 스타일 앰배서더 서울 강남   \n",
       "591    NaN  37.560715  126.994911                      서울특별시 중구 필동2가 17-5   \n",
       "\n",
       "    category  \n",
       "0        EAT  \n",
       "1        EAT  \n",
       "2        EAT  \n",
       "3        EAT  \n",
       "4        EAT  \n",
       "..       ...  \n",
       "585      ACM  \n",
       "587      ACM  \n",
       "589      ACM  \n",
       "590      ACM  \n",
       "591      ACM  \n",
       "\n",
       "[15890 rows x 10 columns]"
      ]
     },
     "execution_count": 606,
     "metadata": {},
     "output_type": "execute_result"
    }
   ],
   "source": [
    "place_info"
   ]
  },
  {
   "cell_type": "code",
   "execution_count": 638,
   "metadata": {
    "Collapsed": "false"
   },
   "outputs": [],
   "source": [
    "temp = reviews.groupby('place.id').agg({\n",
    "    'id' : [('count', 'count')],\n",
    "    'rating' : [('rating', np.mean)]\n",
    "}).reset_index()"
   ]
  },
  {
   "cell_type": "code",
   "execution_count": 639,
   "metadata": {
    "Collapsed": "false"
   },
   "outputs": [],
   "source": [
    "temp.columns = ['place.id', 'review.count', 'rating']"
   ]
  },
  {
   "cell_type": "code",
   "execution_count": 643,
   "metadata": {
    "Collapsed": "false"
   },
   "outputs": [],
   "source": [
    "place_info = place_info.merge(temp, on = 'place.id', how = 'left')"
   ]
  },
  {
   "cell_type": "code",
   "execution_count": 647,
   "metadata": {
    "Collapsed": "false"
   },
   "outputs": [],
   "source": [
    "place_info = place_info.drop(['review.count_x', 'rating_x'], axis = 1).rename(columns = {'review.count_y' : 'review.count', 'rating_y' : 'rating'})"
   ]
  },
  {
   "cell_type": "code",
   "execution_count": 652,
   "metadata": {
    "Collapsed": "false"
   },
   "outputs": [],
   "source": [
    "place_info.loc[place_info['is_fch'].isnull(), 'is_fch'] = 0"
   ]
  },
  {
   "cell_type": "code",
   "execution_count": 654,
   "metadata": {
    "Collapsed": "false"
   },
   "outputs": [],
   "source": [
    "place_info.to_excel(os.path.join('..', '..', 'data', 'JS_11_data_place.xlsx'))"
   ]
  },
  {
   "cell_type": "code",
   "execution_count": 655,
   "metadata": {
    "Collapsed": "false"
   },
   "outputs": [
    {
     "data": {
      "text/html": [
       "<div>\n",
       "<style scoped>\n",
       "    .dataframe tbody tr th:only-of-type {\n",
       "        vertical-align: middle;\n",
       "    }\n",
       "\n",
       "    .dataframe tbody tr th {\n",
       "        vertical-align: top;\n",
       "    }\n",
       "\n",
       "    .dataframe thead th {\n",
       "        text-align: right;\n",
       "    }\n",
       "</style>\n",
       "<table border=\"1\" class=\"dataframe\">\n",
       "  <thead>\n",
       "    <tr style=\"text-align: right;\">\n",
       "      <th></th>\n",
       "      <th>id</th>\n",
       "      <th>rating</th>\n",
       "      <th>body</th>\n",
       "      <th>idno</th>\n",
       "      <th>place.id</th>\n",
       "      <th>photonum</th>\n",
       "      <th>createdDate</th>\n",
       "      <th>language</th>\n",
       "      <th>is_fch</th>\n",
       "      <th>is_local</th>\n",
       "      <th>place.name</th>\n",
       "    </tr>\n",
       "  </thead>\n",
       "  <tbody>\n",
       "    <tr>\n",
       "      <th>0</th>\n",
       "      <td>5ec7ec658160f100109a8368</td>\n",
       "      <td>4.5</td>\n",
       "      <td>NaN</td>\n",
       "      <td>4TXey</td>\n",
       "      <td>1150710065</td>\n",
       "      <td>0</td>\n",
       "      <td>2020-05-21 20:42:00</td>\n",
       "      <td>ko</td>\n",
       "      <td>1</td>\n",
       "      <td>1</td>\n",
       "      <td>스타벅스 보라매공원R점</td>\n",
       "    </tr>\n",
       "    <tr>\n",
       "      <th>1</th>\n",
       "      <td>5d14eaa963951f37e4243fa5</td>\n",
       "      <td>5.0</td>\n",
       "      <td>none</td>\n",
       "      <td>awWC</td>\n",
       "      <td>1150710065</td>\n",
       "      <td>0</td>\n",
       "      <td>2019-06-28 01:11:03</td>\n",
       "      <td>ko</td>\n",
       "      <td>1</td>\n",
       "      <td>1</td>\n",
       "      <td>스타벅스 보라매공원R점</td>\n",
       "    </tr>\n",
       "    <tr>\n",
       "      <th>2</th>\n",
       "      <td>5e69024bf896230011648a61</td>\n",
       "      <td>5.0</td>\n",
       "      <td>NaN</td>\n",
       "      <td>1Unzg</td>\n",
       "      <td>1150710065</td>\n",
       "      <td>0</td>\n",
       "      <td>2020-03-12 00:22:00</td>\n",
       "      <td>ko</td>\n",
       "      <td>1</td>\n",
       "      <td>1</td>\n",
       "      <td>스타벅스 보라매공원R점</td>\n",
       "    </tr>\n",
       "    <tr>\n",
       "      <th>3</th>\n",
       "      <td>5e4f98b95543c700113e18e7</td>\n",
       "      <td>5.0</td>\n",
       "      <td>NaN</td>\n",
       "      <td>LRVl</td>\n",
       "      <td>1150710065</td>\n",
       "      <td>0</td>\n",
       "      <td>2020-02-16 17:06:00</td>\n",
       "      <td>ko</td>\n",
       "      <td>1</td>\n",
       "      <td>1</td>\n",
       "      <td>스타벅스 보라매공원R점</td>\n",
       "    </tr>\n",
       "    <tr>\n",
       "      <th>4</th>\n",
       "      <td>5c8528bdf9e6b96d632ae302</td>\n",
       "      <td>5.0</td>\n",
       "      <td>2019.03.06\\nHH</td>\n",
       "      <td>ESN1</td>\n",
       "      <td>1150710065</td>\n",
       "      <td>0</td>\n",
       "      <td>2019-03-11 00:08:48</td>\n",
       "      <td>ko</td>\n",
       "      <td>1</td>\n",
       "      <td>1</td>\n",
       "      <td>스타벅스 보라매공원R점</td>\n",
       "    </tr>\n",
       "    <tr>\n",
       "      <th>...</th>\n",
       "      <td>...</td>\n",
       "      <td>...</td>\n",
       "      <td>...</td>\n",
       "      <td>...</td>\n",
       "      <td>...</td>\n",
       "      <td>...</td>\n",
       "      <td>...</td>\n",
       "      <td>...</td>\n",
       "      <td>...</td>\n",
       "      <td>...</td>\n",
       "      <td>...</td>\n",
       "    </tr>\n",
       "    <tr>\n",
       "      <th>479686</th>\n",
       "      <td>328361424</td>\n",
       "      <td>3.0</td>\n",
       "      <td>Had a sunny room with window that look out ont...</td>\n",
       "      <td>D16BB514559A76BBC8FFF38409760136</td>\n",
       "      <td>6378634</td>\n",
       "      <td>0</td>\n",
       "      <td>2015-11-22 00:00:00</td>\n",
       "      <td>en</td>\n",
       "      <td>0</td>\n",
       "      <td>0</td>\n",
       "      <td>24게스트하우스 가로수길점</td>\n",
       "    </tr>\n",
       "    <tr>\n",
       "      <th>479687</th>\n",
       "      <td>315070099</td>\n",
       "      <td>2.0</td>\n",
       "      <td>Very old tired looking guesthouse run by a wif...</td>\n",
       "      <td>D16BB514559A76BBC8FFF38409760136</td>\n",
       "      <td>2226404</td>\n",
       "      <td>0</td>\n",
       "      <td>2015-09-30 00:00:00</td>\n",
       "      <td>en</td>\n",
       "      <td>0</td>\n",
       "      <td>0</td>\n",
       "      <td>H2O 게스트하우스</td>\n",
       "    </tr>\n",
       "    <tr>\n",
       "      <th>479688</th>\n",
       "      <td>312636488</td>\n",
       "      <td>3.0</td>\n",
       "      <td>Bong's house is around 10mins walk from Hyewa ...</td>\n",
       "      <td>21C47F0112F45C4A3BA1EDD32821E0F7</td>\n",
       "      <td>1625995</td>\n",
       "      <td>9</td>\n",
       "      <td>2015-09-22 00:00:00</td>\n",
       "      <td>en</td>\n",
       "      <td>0</td>\n",
       "      <td>0</td>\n",
       "      <td>봉 하우스</td>\n",
       "    </tr>\n",
       "    <tr>\n",
       "      <th>479689</th>\n",
       "      <td>170979510</td>\n",
       "      <td>3.0</td>\n",
       "      <td>It was located in a good location and near to ...</td>\n",
       "      <td>1EF4776FF04831410FD949CB4A2FDF5C</td>\n",
       "      <td>6892917</td>\n",
       "      <td>1</td>\n",
       "      <td>2013-08-06 00:00:00</td>\n",
       "      <td>en</td>\n",
       "      <td>0</td>\n",
       "      <td>0</td>\n",
       "      <td>24게스트하우스 신촌</td>\n",
       "    </tr>\n",
       "    <tr>\n",
       "      <th>479690</th>\n",
       "      <td>350442967</td>\n",
       "      <td>3.0</td>\n",
       "      <td>Guesthouse: We booked this because my mom want...</td>\n",
       "      <td>3C4019FF2754EDFE078B96983D521CA7</td>\n",
       "      <td>3568978</td>\n",
       "      <td>0</td>\n",
       "      <td>2016-02-24 00:00:00</td>\n",
       "      <td>en</td>\n",
       "      <td>0</td>\n",
       "      <td>0</td>\n",
       "      <td>효선당 게스트하우스</td>\n",
       "    </tr>\n",
       "  </tbody>\n",
       "</table>\n",
       "<p>479691 rows × 11 columns</p>\n",
       "</div>"
      ],
      "text/plain": [
       "                              id  rating  \\\n",
       "0       5ec7ec658160f100109a8368     4.5   \n",
       "1       5d14eaa963951f37e4243fa5     5.0   \n",
       "2       5e69024bf896230011648a61     5.0   \n",
       "3       5e4f98b95543c700113e18e7     5.0   \n",
       "4       5c8528bdf9e6b96d632ae302     5.0   \n",
       "...                          ...     ...   \n",
       "479686                 328361424     3.0   \n",
       "479687                 315070099     2.0   \n",
       "479688                 312636488     3.0   \n",
       "479689                 170979510     3.0   \n",
       "479690                 350442967     3.0   \n",
       "\n",
       "                                                     body  \\\n",
       "0                                                     NaN   \n",
       "1                                                    none   \n",
       "2                                                     NaN   \n",
       "3                                                     NaN   \n",
       "4                                          2019.03.06\\nHH   \n",
       "...                                                   ...   \n",
       "479686  Had a sunny room with window that look out ont...   \n",
       "479687  Very old tired looking guesthouse run by a wif...   \n",
       "479688  Bong's house is around 10mins walk from Hyewa ...   \n",
       "479689  It was located in a good location and near to ...   \n",
       "479690  Guesthouse: We booked this because my mom want...   \n",
       "\n",
       "                                    idno    place.id  photonum  \\\n",
       "0                                  4TXey  1150710065         0   \n",
       "1                                   awWC  1150710065         0   \n",
       "2                                  1Unzg  1150710065         0   \n",
       "3                                   LRVl  1150710065         0   \n",
       "4                                   ESN1  1150710065         0   \n",
       "...                                  ...         ...       ...   \n",
       "479686  D16BB514559A76BBC8FFF38409760136     6378634         0   \n",
       "479687  D16BB514559A76BBC8FFF38409760136     2226404         0   \n",
       "479688  21C47F0112F45C4A3BA1EDD32821E0F7     1625995         9   \n",
       "479689  1EF4776FF04831410FD949CB4A2FDF5C     6892917         1   \n",
       "479690  3C4019FF2754EDFE078B96983D521CA7     3568978         0   \n",
       "\n",
       "               createdDate language is_fch  is_local      place.name  \n",
       "0      2020-05-21 20:42:00       ko      1         1    스타벅스 보라매공원R점  \n",
       "1      2019-06-28 01:11:03       ko      1         1    스타벅스 보라매공원R점  \n",
       "2      2020-03-12 00:22:00       ko      1         1    스타벅스 보라매공원R점  \n",
       "3      2020-02-16 17:06:00       ko      1         1    스타벅스 보라매공원R점  \n",
       "4      2019-03-11 00:08:48       ko      1         1    스타벅스 보라매공원R점  \n",
       "...                    ...      ...    ...       ...             ...  \n",
       "479686 2015-11-22 00:00:00       en      0         0  24게스트하우스 가로수길점  \n",
       "479687 2015-09-30 00:00:00       en      0         0      H2O 게스트하우스  \n",
       "479688 2015-09-22 00:00:00       en      0         0           봉 하우스  \n",
       "479689 2013-08-06 00:00:00       en      0         0     24게스트하우스 신촌  \n",
       "479690 2016-02-24 00:00:00       en      0         0      효선당 게스트하우스  \n",
       "\n",
       "[479691 rows x 11 columns]"
      ]
     },
     "execution_count": 655,
     "metadata": {},
     "output_type": "execute_result"
    }
   ],
   "source": [
    "reviews"
   ]
  },
  {
   "cell_type": "code",
   "execution_count": 656,
   "metadata": {
    "Collapsed": "false"
   },
   "outputs": [
    {
     "data": {
      "text/html": [
       "<div>\n",
       "<style scoped>\n",
       "    .dataframe tbody tr th:only-of-type {\n",
       "        vertical-align: middle;\n",
       "    }\n",
       "\n",
       "    .dataframe tbody tr th {\n",
       "        vertical-align: top;\n",
       "    }\n",
       "\n",
       "    .dataframe thead th {\n",
       "        text-align: right;\n",
       "    }\n",
       "</style>\n",
       "<table border=\"1\" class=\"dataframe\">\n",
       "  <thead>\n",
       "    <tr style=\"text-align: right;\">\n",
       "      <th></th>\n",
       "      <th>place.id</th>\n",
       "      <th>place.name</th>\n",
       "      <th>place.category</th>\n",
       "      <th>is_fch</th>\n",
       "      <th>lat</th>\n",
       "      <th>lng</th>\n",
       "      <th>land.addr</th>\n",
       "      <th>category</th>\n",
       "      <th>review.count</th>\n",
       "      <th>rating</th>\n",
       "    </tr>\n",
       "  </thead>\n",
       "  <tbody>\n",
       "    <tr>\n",
       "      <th>0</th>\n",
       "      <td>11605455</td>\n",
       "      <td>가미분식</td>\n",
       "      <td>종합분식</td>\n",
       "      <td>0</td>\n",
       "      <td>37.558661</td>\n",
       "      <td>126.945960</td>\n",
       "      <td>서울특별시 서대문구 대현동 54-1 무궁화상가아파트</td>\n",
       "      <td>EAT</td>\n",
       "      <td>32.0</td>\n",
       "      <td>4.093750</td>\n",
       "    </tr>\n",
       "    <tr>\n",
       "      <th>1</th>\n",
       "      <td>10976694</td>\n",
       "      <td>유래회관</td>\n",
       "      <td>육류,고기요리-일반</td>\n",
       "      <td>0</td>\n",
       "      <td>37.566438</td>\n",
       "      <td>127.031591</td>\n",
       "      <td>서울특별시 성동구 홍익동 357 유래회관</td>\n",
       "      <td>EAT</td>\n",
       "      <td>27.0</td>\n",
       "      <td>4.185185</td>\n",
       "    </tr>\n",
       "    <tr>\n",
       "      <th>2</th>\n",
       "      <td>11398664</td>\n",
       "      <td>대성갈비</td>\n",
       "      <td>육류,고기요리-일반</td>\n",
       "      <td>0</td>\n",
       "      <td>37.547073</td>\n",
       "      <td>127.044028</td>\n",
       "      <td>서울특별시 성동구 성수동1가 668-21</td>\n",
       "      <td>EAT</td>\n",
       "      <td>76.0</td>\n",
       "      <td>4.217105</td>\n",
       "    </tr>\n",
       "    <tr>\n",
       "      <th>3</th>\n",
       "      <td>11663081</td>\n",
       "      <td>철길왕갈비살</td>\n",
       "      <td>육류,고기요리-일반</td>\n",
       "      <td>0</td>\n",
       "      <td>37.554546</td>\n",
       "      <td>126.931666</td>\n",
       "      <td>서울특별시 마포구 창전동 4-2</td>\n",
       "      <td>EAT</td>\n",
       "      <td>54.0</td>\n",
       "      <td>4.407407</td>\n",
       "    </tr>\n",
       "    <tr>\n",
       "      <th>4</th>\n",
       "      <td>11677544</td>\n",
       "      <td>황소고집</td>\n",
       "      <td>육류,고기요리-일반</td>\n",
       "      <td>0</td>\n",
       "      <td>37.568593</td>\n",
       "      <td>126.986046</td>\n",
       "      <td>서울특별시 종로구 관철동 11-11</td>\n",
       "      <td>EAT</td>\n",
       "      <td>69.0</td>\n",
       "      <td>4.326087</td>\n",
       "    </tr>\n",
       "    <tr>\n",
       "      <th>...</th>\n",
       "      <td>...</td>\n",
       "      <td>...</td>\n",
       "      <td>...</td>\n",
       "      <td>...</td>\n",
       "      <td>...</td>\n",
       "      <td>...</td>\n",
       "      <td>...</td>\n",
       "      <td>...</td>\n",
       "      <td>...</td>\n",
       "      <td>...</td>\n",
       "    </tr>\n",
       "    <tr>\n",
       "      <th>15885</th>\n",
       "      <td>1150903</td>\n",
       "      <td>영빈 호텔</td>\n",
       "      <td>NaN</td>\n",
       "      <td>0</td>\n",
       "      <td>37.563004</td>\n",
       "      <td>127.005544</td>\n",
       "      <td>서울특별시 중구 쌍림동 240 영빈관광호텔</td>\n",
       "      <td>ACM</td>\n",
       "      <td>2.0</td>\n",
       "      <td>5.000000</td>\n",
       "    </tr>\n",
       "    <tr>\n",
       "      <th>15886</th>\n",
       "      <td>2303934</td>\n",
       "      <td>자자 백팩커스 호스텔</td>\n",
       "      <td>NaN</td>\n",
       "      <td>0</td>\n",
       "      <td>37.558819</td>\n",
       "      <td>126.986443</td>\n",
       "      <td>서울특별시 중구 남산동2가 18-6</td>\n",
       "      <td>ACM</td>\n",
       "      <td>4.0</td>\n",
       "      <td>4.250000</td>\n",
       "    </tr>\n",
       "    <tr>\n",
       "      <th>15887</th>\n",
       "      <td>6998634</td>\n",
       "      <td>이비스 버젯 앰배서더 서울 동대문</td>\n",
       "      <td>NaN</td>\n",
       "      <td>0</td>\n",
       "      <td>37.564187</td>\n",
       "      <td>127.008694</td>\n",
       "      <td>서울특별시 중구 광희동2가 238-1</td>\n",
       "      <td>ACM</td>\n",
       "      <td>379.0</td>\n",
       "      <td>3.947230</td>\n",
       "    </tr>\n",
       "    <tr>\n",
       "      <th>15888</th>\n",
       "      <td>299533</td>\n",
       "      <td>이비스 스타일 앰배서더 서울 강남</td>\n",
       "      <td>NaN</td>\n",
       "      <td>0</td>\n",
       "      <td>37.505102</td>\n",
       "      <td>127.057088</td>\n",
       "      <td>서울특별시 강남구 대치동 893-1 이비스 스타일 앰배서더 서울 강남</td>\n",
       "      <td>ACM</td>\n",
       "      <td>13.0</td>\n",
       "      <td>4.230769</td>\n",
       "    </tr>\n",
       "    <tr>\n",
       "      <th>15889</th>\n",
       "      <td>6561923</td>\n",
       "      <td>더 붓 게스트하우스</td>\n",
       "      <td>NaN</td>\n",
       "      <td>0</td>\n",
       "      <td>37.560715</td>\n",
       "      <td>126.994911</td>\n",
       "      <td>서울특별시 중구 필동2가 17-5</td>\n",
       "      <td>ACM</td>\n",
       "      <td>1.0</td>\n",
       "      <td>4.000000</td>\n",
       "    </tr>\n",
       "  </tbody>\n",
       "</table>\n",
       "<p>15890 rows × 10 columns</p>\n",
       "</div>"
      ],
      "text/plain": [
       "       place.id          place.name place.category is_fch        lat  \\\n",
       "0      11605455                가미분식           종합분식      0  37.558661   \n",
       "1      10976694                유래회관     육류,고기요리-일반      0  37.566438   \n",
       "2      11398664                대성갈비     육류,고기요리-일반      0  37.547073   \n",
       "3      11663081              철길왕갈비살     육류,고기요리-일반      0  37.554546   \n",
       "4      11677544                황소고집     육류,고기요리-일반      0  37.568593   \n",
       "...         ...                 ...            ...    ...        ...   \n",
       "15885   1150903               영빈 호텔            NaN      0  37.563004   \n",
       "15886   2303934         자자 백팩커스 호스텔            NaN      0  37.558819   \n",
       "15887   6998634  이비스 버젯 앰배서더 서울 동대문            NaN      0  37.564187   \n",
       "15888    299533  이비스 스타일 앰배서더 서울 강남            NaN      0  37.505102   \n",
       "15889   6561923          더 붓 게스트하우스            NaN      0  37.560715   \n",
       "\n",
       "              lng                               land.addr category  \\\n",
       "0      126.945960            서울특별시 서대문구 대현동 54-1 무궁화상가아파트      EAT   \n",
       "1      127.031591                  서울특별시 성동구 홍익동 357 유래회관      EAT   \n",
       "2      127.044028                  서울특별시 성동구 성수동1가 668-21      EAT   \n",
       "3      126.931666                       서울특별시 마포구 창전동 4-2      EAT   \n",
       "4      126.986046                     서울특별시 종로구 관철동 11-11      EAT   \n",
       "...           ...                                     ...      ...   \n",
       "15885  127.005544                 서울특별시 중구 쌍림동 240 영빈관광호텔      ACM   \n",
       "15886  126.986443                     서울특별시 중구 남산동2가 18-6      ACM   \n",
       "15887  127.008694                    서울특별시 중구 광희동2가 238-1      ACM   \n",
       "15888  127.057088  서울특별시 강남구 대치동 893-1 이비스 스타일 앰배서더 서울 강남      ACM   \n",
       "15889  126.994911                      서울특별시 중구 필동2가 17-5      ACM   \n",
       "\n",
       "       review.count    rating  \n",
       "0              32.0  4.093750  \n",
       "1              27.0  4.185185  \n",
       "2              76.0  4.217105  \n",
       "3              54.0  4.407407  \n",
       "4              69.0  4.326087  \n",
       "...             ...       ...  \n",
       "15885           2.0  5.000000  \n",
       "15886           4.0  4.250000  \n",
       "15887         379.0  3.947230  \n",
       "15888          13.0  4.230769  \n",
       "15889           1.0  4.000000  \n",
       "\n",
       "[15890 rows x 10 columns]"
      ]
     },
     "execution_count": 656,
     "metadata": {},
     "output_type": "execute_result"
    }
   ],
   "source": [
    "place_info"
   ]
  },
  {
   "cell_type": "code",
   "execution_count": null,
   "metadata": {
    "Collapsed": "false"
   },
   "outputs": [],
   "source": []
  }
 ],
 "metadata": {
  "kernelspec": {
   "display_name": "Python 3",
   "language": "python",
   "name": "python3"
  },
  "language_info": {
   "codemirror_mode": {
    "name": "ipython",
    "version": 3
   },
   "file_extension": ".py",
   "mimetype": "text/x-python",
   "name": "python",
   "nbconvert_exporter": "python",
   "pygments_lexer": "ipython3",
   "version": "3.7.6"
  }
 },
 "nbformat": 4,
 "nbformat_minor": 4
}
