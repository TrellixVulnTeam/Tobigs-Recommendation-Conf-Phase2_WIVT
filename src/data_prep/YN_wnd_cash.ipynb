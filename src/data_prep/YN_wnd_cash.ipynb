{
 "cells": [
  {
   "cell_type": "markdown",
   "metadata": {},
   "source": [
    "# 서버 사용할 (데모용) 호텔"
   ]
  },
  {
   "cell_type": "code",
   "execution_count": 122,
   "metadata": {
    "scrolled": true
   },
   "outputs": [
    {
     "data": {
      "text/html": [
       "<div>\n",
       "<style scoped>\n",
       "    .dataframe tbody tr th:only-of-type {\n",
       "        vertical-align: middle;\n",
       "    }\n",
       "\n",
       "    .dataframe tbody tr th {\n",
       "        vertical-align: top;\n",
       "    }\n",
       "\n",
       "    .dataframe thead th {\n",
       "        text-align: right;\n",
       "    }\n",
       "</style>\n",
       "<table border=\"1\" class=\"dataframe\">\n",
       "  <thead>\n",
       "    <tr style=\"text-align: right;\">\n",
       "      <th></th>\n",
       "      <th>place.name</th>\n",
       "      <th>locationId</th>\n",
       "    </tr>\n",
       "  </thead>\n",
       "  <tbody>\n",
       "    <tr>\n",
       "      <th>415862</th>\n",
       "      <td>노보텔스위트앰배서더서울용산</td>\n",
       "      <td>1475741466</td>\n",
       "    </tr>\n",
       "    <tr>\n",
       "      <th>415993</th>\n",
       "      <td>오리엔스호텔&amp;레지던스</td>\n",
       "      <td>33880173</td>\n",
       "    </tr>\n",
       "    <tr>\n",
       "      <th>416144</th>\n",
       "      <td>이비스 스타일 앰배서더 서울 용산</td>\n",
       "      <td>1517144962</td>\n",
       "    </tr>\n",
       "    <tr>\n",
       "      <th>416521</th>\n",
       "      <td>그랜드 머큐어 앰배서더 호텔 앤 레지던스 서울 용산</td>\n",
       "      <td>958174664</td>\n",
       "    </tr>\n",
       "    <tr>\n",
       "      <th>416551</th>\n",
       "      <td>아만티호텔서울</td>\n",
       "      <td>37903636</td>\n",
       "    </tr>\n",
       "    <tr>\n",
       "      <th>...</th>\n",
       "      <td>...</td>\n",
       "      <td>...</td>\n",
       "    </tr>\n",
       "    <tr>\n",
       "      <th>479430</th>\n",
       "      <td>몽호텔</td>\n",
       "      <td>3477113</td>\n",
       "    </tr>\n",
       "    <tr>\n",
       "      <th>479446</th>\n",
       "      <td>골드리버호텔</td>\n",
       "      <td>12276613</td>\n",
       "    </tr>\n",
       "    <tr>\n",
       "      <th>479482</th>\n",
       "      <td>호텔 프리마 서울</td>\n",
       "      <td>456115</td>\n",
       "    </tr>\n",
       "    <tr>\n",
       "      <th>479484</th>\n",
       "      <td>호텔 로프트</td>\n",
       "      <td>6476900</td>\n",
       "    </tr>\n",
       "    <tr>\n",
       "      <th>479578</th>\n",
       "      <td>노블관광호텔</td>\n",
       "      <td>13414457</td>\n",
       "    </tr>\n",
       "  </tbody>\n",
       "</table>\n",
       "<p>143 rows × 2 columns</p>\n",
       "</div>"
      ],
      "text/plain": [
       "                          place.name  locationId\n",
       "415862                노보텔스위트앰배서더서울용산  1475741466\n",
       "415993                   오리엔스호텔&레지던스    33880173\n",
       "416144            이비스 스타일 앰배서더 서울 용산  1517144962\n",
       "416521  그랜드 머큐어 앰배서더 호텔 앤 레지던스 서울 용산   958174664\n",
       "416551                       아만티호텔서울    37903636\n",
       "...                              ...         ...\n",
       "479430                           몽호텔     3477113\n",
       "479446                        골드리버호텔    12276613\n",
       "479482                     호텔 프리마 서울      456115\n",
       "479484                        호텔 로프트     6476900\n",
       "479578                        노블관광호텔    13414457\n",
       "\n",
       "[143 rows x 2 columns]"
      ]
     },
     "execution_count": 122,
     "metadata": {},
     "output_type": "execute_result"
    }
   ],
   "source": [
    "demo_ids = ['노보텔스위트앰배서더서울용산', '오리엔스호텔&레지던스', \n",
    "            '이비스 스타일 앰배서더 서울 용산', '그랜드 머큐어 앰배서더 호텔 앤 레지던스 서울 용산', \n",
    "            '아만티호텔서울', '롯데시티호텔 마포', '레스케이프 호텔','티마크그랜드호텔 명동' \n",
    "            ,'스몰하우스 빅도어', '소테츠호텔즈 더 스프라지르 서울 명동', '라마다프라자 서울호텔' ,\n",
    "            '켄싱턴호텔 여의도', 'L7강남 바이 롯데' ,'TheK호텔 서울' ,'스테이락호텔',\n",
    "            '프레지던트 호텔','포포인츠 바이 쉐라톤 서울 구로','서울53호텔', \n",
    "            '더스테이트 선유 호텔','신라스테이 광화문','호텔 더 디자이너스 청량리', \n",
    "            '스탠포드호텔코리아', '나인트리프리미어호텔 명동2' ,'노보텔 앰배서더 서울 강남'\n",
    "            ,'코트야드 메리어트 서울 보타닉파크 호텔', '호텔 타워', '안다즈 서울강남',\n",
    "            '신라스테이 서초', '페어필드바이메리어트서울호텔', '라이즈 오토그래프 컬렉션' ,\n",
    "            '베스트웨스턴프리미어서울가든호텔' ,'머큐어 서울 앰배서더 강남 쏘도베' ,'명동멀린호텔' , \n",
    "            '신라스테이 마포' ,'코보스호텔' ,'코리아나 호텔', '코트야드 메리어트 서울 남대문' , \n",
    "            '강남패밀리호텔', '아트리움바비엥2' ,'오라카이 인사동 스위츠' , '더클래식500이그제큐티브레지던스펜타즈호텔' , \n",
    "            '롯데시티호텔 김포공항', '롯데호텔 L7명동' ,'목시서울인사동', '신라숍' , '호텔리안', \n",
    "            'Hotel in 9' ,'그라모스호텔', 'MEASeoul' ,'서머셋팰리스서울' , '토요코인호텔서울동대문'\n",
    "            , '호텔 앳 홈', '어반플레이스 강남', 'G2 호텔' ,'토요코인 서울강남' , '퍼시픽호텔', \n",
    "            '트레블로지 동대문 호텔', '소테츠 호텔즈 더 스프라지르 서울 동대문' , '메리골드 호텔', \n",
    "            '호텔 그레이스리 서울' ,'롯데 호텔 서울', '인터컨티넨탈 서울 코엑스', '시그니엘 서울', \n",
    "            '그랜드 인터컨티넨탈 서울 파르나스', '노보텔 앰배서더 서울 용산', '오클라우드 호텔', \n",
    "            '반얀트리 클럽 앤 스파 서울', '포시즌스 호텔 서울', '호텔28 명동', '더 그랜드 호텔 명동', \n",
    "            '나인트리 호텔 명동', '플로라 호텔신신 서울 명동', '더 플라자', '아이비 빌 게스트하우스', \n",
    "            '서울 웨스틴 조선 호텔', '을지로 코업레지던스', '사보이호텔', '이비스 버젯 앰배서더 서울 동대문', \n",
    "            '호텔 코지 명동', '필스테이 명동 브띠끄', '트레블로지 명동 을지로호텔', '라마다 서울 동대문', \n",
    "            '서울앤호텔', '스테이 비 호텔 명동', '뉴국제호텔', '루미아 호텔', '밀레니엄 힐튼 서울', \n",
    "            '호텔 통 비바체 동대문', '그리드인호텔', '호텔 프린스 서울', 'JW 메리어트 동대문 스퀘어 서울', \n",
    "            '글로리 인', '호텔 아띠 충무로', '호텔 도마', '에이큐브 호텔', '이비스 앰배서더 서울 인사동', \n",
    "            '포 포인츠 바이 쉐라톤 서울 남산', '쉐라톤 서울 디큐브 시티 호텔', '파크 하얏트 서울', \n",
    "            '르 메르디앙 서울', '로얄 호텔 서울', '오크우드 프리미어 코엑스 센터','메이필드 호텔 앤 리조트', \n",
    "            '호텔 더 디자이너스 홍대', '센터마크 호텔', '프레이저 플레이스 센트럴 서울', '이비스 스타일 앰배서더 서울 강남',\n",
    "            '티마크 호텔 명동', '노보텔 앰배서더 독산', '워커힐 더글라스 하우스', '베니키아 프리미어 호텔 베르누이', \n",
    "            '메이 플레이스 서울 동대문', '밀리오레 호텔 서울명동', '베스트 웨스턴 프리미어 강남' ,'에이퍼스트호텔 명동', \n",
    "            '임피리얼 팰리스 부티크 호텔', '도미 인 프리미엄 서울 가로수길', '호텔 아트리움', '올림픽 파크텔', \n",
    "            '더리센츠동대문호텔', '인사동 크라운호텔', '알로프트 서울 강남', '호텔 페이토 강남', '삼정 호텔', \n",
    "            '호텔 페이토 삼성', '아벤트리 호텔 종로', '에이메스 호텔', '브라운 스위트 레지던스', '센트럴 관광호텔', \n",
    "            '지 스테이 레지던스', '아이티더블유 호텔', '호텔 미도', '뉴월드호텔', '호스텔 코리아 11th - 창덕궁', \n",
    "            '메이커스호텔', '나인브릭호텔', '글래드 강남 코엑스 센터', '몽호텔', '골드리버호텔', '호텔 프리마 서울', \n",
    "            '호텔 로프트', '노블관광호텔']\n",
    "\n",
    "demo_loc = new_df.loc[new_df['place.name'].isin(demo_ids)].drop_duplicates(['locationId'], keep='last')[['place.name','locationId']]\n",
    "demo_loc\n"
   ]
  },
  {
   "cell_type": "code",
   "execution_count": 151,
   "metadata": {},
   "outputs": [
    {
     "name": "stdout",
     "output_type": "stream",
     "text": [
      "loaded\n"
     ]
    }
   ],
   "source": [
    "# 필요파일 불러오기.\n",
    "local_vec = pd.read_csv(os.path.join(\"..\",\"realtime_model\",'wnd_local_vec2.csv'))\n",
    "local_vec.index = local_vec['locationId']\n",
    "local_vec = local_vec.drop(columns = ['locationId'], axis=1)\n",
    "\n",
    "global_vec = pd.read_csv(os.path.join(\"..\",\"realtime_model\",'wnd_global_vec2.csv'))\n",
    "global_vec.index = global_vec['locationId']\n",
    "global_vec = global_vec.drop(columns = ['locationId'], axis=1)\n",
    "\n",
    "\n",
    "global_df = pd.read_csv(os.path.join(\"..\",\"realtime_model\",'global_df(wnd)2.csv'))\n",
    "local_df = pd.read_csv(os.path.join(\"..\",\"realtime_model\",'local_df(wnd)2.csv'))\n",
    "\n",
    "\n",
    "print('loaded')"
   ]
  },
  {
   "cell_type": "code",
   "execution_count": 152,
   "metadata": {},
   "outputs": [],
   "source": [
    "from numpy import dot\n",
    "from numpy.linalg import norm\n",
    "import numpy as np\n",
    "import random\n",
    "\n",
    "def cosim_id(df, vec, item_id):\n",
    "    def cos_sim(A, B):\n",
    "           return dot(A, B)/(norm(A)*norm(B)) \n",
    "    new_vec = vec.copy() \n",
    "    sim = []\n",
    "    \n",
    "    # 인풋 호텔 정보 데이터에 없는 경우 종료 \n",
    "    if item_id not in vec.index.tolist():\n",
    "        return \n",
    "        \n",
    "    for i in range(len(vec)):\n",
    "        sim.append(cos_sim(vec.loc[item_id,:], vec.iloc[i,:]))\n",
    "\n",
    "    new_vec['sim'] = sim\n",
    "    # sim 높은 순 \n",
    "    new_vec = new_vec['sim'].reset_index().sort_values('sim', ascending=False)\n",
    "    sim_sorted = new_vec['locationId'].tolist()\n",
    "    # 인풋 호텔정보 빼고 유사도 높은 순대로 id \n",
    "    if item_id in sim_sorted:\n",
    "        sim_sorted.remove(item_id) \n",
    "    return sim_sorted \n",
    "\n",
    "\n",
    "def sim_item(vec, df, item_id):\n",
    "    top_id = cosim_id(df, vec, item_id)\n",
    "    \n",
    "    \n",
    "    df = df.drop_duplicates(['locationId'], keep='last')\n",
    "    recommend_rst = []\n",
    "    for x in top_id:\n",
    "        if df.loc[df['locationId']==x].category.values[0]== 'EAT':\n",
    "            recommend_rst.append([df.loc[df['locationId']==x][['place.name', 'land.addr']]])\n",
    "    return recommend_rst\n"
   ]
  },
  {
   "cell_type": "code",
   "execution_count": 153,
   "metadata": {},
   "outputs": [
    {
     "data": {
      "text/plain": [
       "1475741466"
      ]
     },
     "execution_count": 153,
     "metadata": {},
     "output_type": "execute_result"
    }
   ],
   "source": [
    "demo_loc.iloc[0,1]"
   ]
  },
  {
   "cell_type": "code",
   "execution_count": 165,
   "metadata": {},
   "outputs": [],
   "source": [
    "# 해당아이템의 유사도순 관련 아이템 정렬 리스트\n",
    "import pickle\n",
    "\n",
    "# global_wnd\n",
    "for i in range(len(demo_loc)):\n",
    "    x = sim_item(global_vec, global_df, demo_loc.iloc[i,1])\n",
    "    with open(os.path.join(\"..\",'..',\"data\",\"sim_data\",'{}_wnd_sim'.format(demo_loc.iloc[i,0])), 'wb') as f:\n",
    "        pickle.dump(x, f)"
   ]
  },
  {
   "cell_type": "code",
   "execution_count": null,
   "metadata": {},
   "outputs": [],
   "source": [
    "# 해당아이템의 유사도순 관련 아이템 정렬 리스트\n",
    "import pickle\n",
    "\n",
    "# local_wnd\n",
    "for i in range(len(demo_loc)):\n",
    "    x = sim_item(local_vec, local_df, demo_loc.iloc[i,1])\n",
    "    with open(os.path.join(\"..\",'..',\"data\",\"sim_data\",'{}_wnd_sim'.format(demo_loc.iloc[i,0])), 'wb') as f:\n",
    "        pickle.dump(x, f)"
   ]
  },
  {
   "cell_type": "code",
   "execution_count": null,
   "metadata": {},
   "outputs": [],
   "source": []
  }
 ],
 "metadata": {
  "kernelspec": {
   "display_name": "Python 3",
   "language": "python",
   "name": "python3"
  },
  "language_info": {
   "codemirror_mode": {
    "name": "ipython",
    "version": 3
   },
   "file_extension": ".py",
   "mimetype": "text/x-python",
   "name": "python",
   "nbconvert_exporter": "python",
   "pygments_lexer": "ipython3",
   "version": "3.7.6"
  }
 },
 "nbformat": 4,
 "nbformat_minor": 4
}
