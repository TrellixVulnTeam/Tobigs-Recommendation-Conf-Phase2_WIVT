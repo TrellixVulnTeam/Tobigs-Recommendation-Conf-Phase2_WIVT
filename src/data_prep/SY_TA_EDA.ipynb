{
 "cells": [
  {
   "cell_type": "code",
   "execution_count": 2,
   "metadata": {},
   "outputs": [],
   "source": [
    "import pandas as pd\n",
    "import numpy as np\n",
    "import json\n",
    "import os\n",
    "\n",
    "pd.set_option(\"display.max_columns\",0)"
   ]
  },
  {
   "cell_type": "code",
   "execution_count": 3,
   "metadata": {},
   "outputs": [],
   "source": [
    "TA_REVIEW_DATA_PATH = os.path.join(\"..\",\"..\",\"data\",\"TA_User_Reviws_Korea_all.json\")\n",
    "df = pd.read_json(TA_REVIEW_DATA_PATH )"
   ]
  },
  {
   "cell_type": "code",
   "execution_count": 5,
   "metadata": {},
   "outputs": [
    {
     "data": {
      "text/html": [
       "<div>\n",
       "<style scoped>\n",
       "    .dataframe tbody tr th:only-of-type {\n",
       "        vertical-align: middle;\n",
       "    }\n",
       "\n",
       "    .dataframe tbody tr th {\n",
       "        vertical-align: top;\n",
       "    }\n",
       "\n",
       "    .dataframe thead th {\n",
       "        text-align: right;\n",
       "    }\n",
       "</style>\n",
       "<table border=\"1\" class=\"dataframe\">\n",
       "  <thead>\n",
       "    <tr style=\"text-align: right;\">\n",
       "      <th></th>\n",
       "      <th>id</th>\n",
       "      <th>language</th>\n",
       "      <th>reviewStatus</th>\n",
       "      <th>title</th>\n",
       "      <th>helpfulVotes</th>\n",
       "      <th>createdDate</th>\n",
       "      <th>publishedDate</th>\n",
       "      <th>rating</th>\n",
       "      <th>text</th>\n",
       "      <th>photoIds</th>\n",
       "      <th>...</th>\n",
       "      <th>location.thumbnail</th>\n",
       "      <th>route</th>\n",
       "      <th>location.route</th>\n",
       "      <th>userProfile.route</th>\n",
       "      <th>location.reviewSummary</th>\n",
       "      <th>location.parent</th>\n",
       "      <th>userProfile.hometown.location.parent</th>\n",
       "      <th>userProfile.contributionCounts</th>\n",
       "      <th>location</th>\n",
       "      <th>userProfile.avatar</th>\n",
       "    </tr>\n",
       "  </thead>\n",
       "  <tbody>\n",
       "    <tr>\n",
       "      <th>0</th>\n",
       "      <td>748454819</td>\n",
       "      <td>en</td>\n",
       "      <td>PUBLISHED</td>\n",
       "      <td>Great Hotel</td>\n",
       "      <td>0</td>\n",
       "      <td>2020-03-01</td>\n",
       "      <td>2020-03-01</td>\n",
       "      <td>5</td>\n",
       "      <td>I really enjoyed our stay here in Gracery Hote...</td>\n",
       "      <td>[453807126]</td>\n",
       "      <td>...</td>\n",
       "      <td>NaN</td>\n",
       "      <td>NaN</td>\n",
       "      <td>NaN</td>\n",
       "      <td>NaN</td>\n",
       "      <td>NaN</td>\n",
       "      <td>NaN</td>\n",
       "      <td>NaN</td>\n",
       "      <td>NaN</td>\n",
       "      <td>NaN</td>\n",
       "      <td>NaN</td>\n",
       "    </tr>\n",
       "    <tr>\n",
       "      <th>1</th>\n",
       "      <td>744980685</td>\n",
       "      <td>en</td>\n",
       "      <td>PUBLISHED</td>\n",
       "      <td>Vibrant and Trendy</td>\n",
       "      <td>0</td>\n",
       "      <td>2020-02-14</td>\n",
       "      <td>2020-02-13</td>\n",
       "      <td>5</td>\n",
       "      <td>This is a place for you to laidback and have s...</td>\n",
       "      <td>[]</td>\n",
       "      <td>...</td>\n",
       "      <td>NaN</td>\n",
       "      <td>NaN</td>\n",
       "      <td>NaN</td>\n",
       "      <td>NaN</td>\n",
       "      <td>NaN</td>\n",
       "      <td>NaN</td>\n",
       "      <td>NaN</td>\n",
       "      <td>NaN</td>\n",
       "      <td>NaN</td>\n",
       "      <td>NaN</td>\n",
       "    </tr>\n",
       "    <tr>\n",
       "      <th>2</th>\n",
       "      <td>744978150</td>\n",
       "      <td>en</td>\n",
       "      <td>PUBLISHED</td>\n",
       "      <td>So Yummy!</td>\n",
       "      <td>0</td>\n",
       "      <td>2020-02-14</td>\n",
       "      <td>2020-02-13</td>\n",
       "      <td>4</td>\n",
       "      <td>The chicken was so delicious. its crisp and cr...</td>\n",
       "      <td>[]</td>\n",
       "      <td>...</td>\n",
       "      <td>NaN</td>\n",
       "      <td>NaN</td>\n",
       "      <td>NaN</td>\n",
       "      <td>NaN</td>\n",
       "      <td>NaN</td>\n",
       "      <td>NaN</td>\n",
       "      <td>NaN</td>\n",
       "      <td>NaN</td>\n",
       "      <td>NaN</td>\n",
       "      <td>NaN</td>\n",
       "    </tr>\n",
       "    <tr>\n",
       "      <th>3</th>\n",
       "      <td>744977340</td>\n",
       "      <td>en</td>\n",
       "      <td>PUBLISHED</td>\n",
       "      <td>Super Luv</td>\n",
       "      <td>0</td>\n",
       "      <td>2020-02-14</td>\n",
       "      <td>2020-02-13</td>\n",
       "      <td>5</td>\n",
       "      <td>First, the location. Its located just right be...</td>\n",
       "      <td>[]</td>\n",
       "      <td>...</td>\n",
       "      <td>NaN</td>\n",
       "      <td>NaN</td>\n",
       "      <td>NaN</td>\n",
       "      <td>NaN</td>\n",
       "      <td>NaN</td>\n",
       "      <td>NaN</td>\n",
       "      <td>NaN</td>\n",
       "      <td>NaN</td>\n",
       "      <td>NaN</td>\n",
       "      <td>NaN</td>\n",
       "    </tr>\n",
       "    <tr>\n",
       "      <th>4</th>\n",
       "      <td>744973034</td>\n",
       "      <td>en</td>\n",
       "      <td>PUBLISHED</td>\n",
       "      <td>Chaotic Street Food</td>\n",
       "      <td>0</td>\n",
       "      <td>2020-02-14</td>\n",
       "      <td>2020-02-13</td>\n",
       "      <td>4</td>\n",
       "      <td>This is the place where you can shop any cosme...</td>\n",
       "      <td>[]</td>\n",
       "      <td>...</td>\n",
       "      <td>NaN</td>\n",
       "      <td>NaN</td>\n",
       "      <td>NaN</td>\n",
       "      <td>NaN</td>\n",
       "      <td>NaN</td>\n",
       "      <td>NaN</td>\n",
       "      <td>NaN</td>\n",
       "      <td>NaN</td>\n",
       "      <td>NaN</td>\n",
       "      <td>NaN</td>\n",
       "    </tr>\n",
       "  </tbody>\n",
       "</table>\n",
       "<p>5 rows × 95 columns</p>\n",
       "</div>"
      ],
      "text/plain": [
       "          id language reviewStatus                title  helpfulVotes  \\\n",
       "0  748454819       en    PUBLISHED         Great Hotel              0   \n",
       "1  744980685       en    PUBLISHED   Vibrant and Trendy             0   \n",
       "2  744978150       en    PUBLISHED            So Yummy!             0   \n",
       "3  744977340       en    PUBLISHED            Super Luv             0   \n",
       "4  744973034       en    PUBLISHED  Chaotic Street Food             0   \n",
       "\n",
       "  createdDate publishedDate  rating  \\\n",
       "0  2020-03-01    2020-03-01       5   \n",
       "1  2020-02-14    2020-02-13       5   \n",
       "2  2020-02-14    2020-02-13       4   \n",
       "3  2020-02-14    2020-02-13       5   \n",
       "4  2020-02-14    2020-02-13       4   \n",
       "\n",
       "                                                text     photoIds  ...  \\\n",
       "0  I really enjoyed our stay here in Gracery Hote...  [453807126]  ...   \n",
       "1  This is a place for you to laidback and have s...           []  ...   \n",
       "2  The chicken was so delicious. its crisp and cr...           []  ...   \n",
       "3  First, the location. Its located just right be...           []  ...   \n",
       "4  This is the place where you can shop any cosme...           []  ...   \n",
       "\n",
       "  location.thumbnail route location.route  userProfile.route  \\\n",
       "0                NaN   NaN            NaN                NaN   \n",
       "1                NaN   NaN            NaN                NaN   \n",
       "2                NaN   NaN            NaN                NaN   \n",
       "3                NaN   NaN            NaN                NaN   \n",
       "4                NaN   NaN            NaN                NaN   \n",
       "\n",
       "  location.reviewSummary location.parent userProfile.hometown.location.parent  \\\n",
       "0                    NaN             NaN                                  NaN   \n",
       "1                    NaN             NaN                                  NaN   \n",
       "2                    NaN             NaN                                  NaN   \n",
       "3                    NaN             NaN                                  NaN   \n",
       "4                    NaN             NaN                                  NaN   \n",
       "\n",
       "  userProfile.contributionCounts location  userProfile.avatar  \n",
       "0                            NaN      NaN                 NaN  \n",
       "1                            NaN      NaN                 NaN  \n",
       "2                            NaN      NaN                 NaN  \n",
       "3                            NaN      NaN                 NaN  \n",
       "4                            NaN      NaN                 NaN  \n",
       "\n",
       "[5 rows x 95 columns]"
      ]
     },
     "execution_count": 5,
     "metadata": {},
     "output_type": "execute_result"
    }
   ],
   "source": [
    "df.head(5)"
   ]
  },
  {
   "cell_type": "code",
   "execution_count": 6,
   "metadata": {},
   "outputs": [
    {
     "data": {
      "text/plain": [
       "ACCOMMODATION    14421\n",
       "EATERY           12118\n",
       "ATTRACTION       10540\n",
       "ACTIVITY           117\n",
       "CITY                 1\n",
       "Name: location.placeType, dtype: int64"
      ]
     },
     "execution_count": 6,
     "metadata": {},
     "output_type": "execute_result"
    }
   ],
   "source": [
    "df['location.placeType'].value_counts()"
   ]
  },
  {
   "cell_type": "code",
   "execution_count": 7,
   "metadata": {},
   "outputs": [
    {
     "data": {
      "text/plain": [
       "Myeongdong Kyoja Main, South Korea                        166\n",
       "Tosokchon Samgyetang, South Korea                         126\n",
       "Yoogane Myeongdong 1st Store, South Korea                  37\n",
       "Isaac Toast Myeongdong, South Korea                        37\n",
       "Sinseon Seolleongtang Myeongdong, South Korea              31\n",
       "                                                         ... \n",
       "Guryongpo Gyejeol Hoejib, South Korea                       1\n",
       "Seongsu Kalguksu, South Korea                               1\n",
       "Starbucks Jinju Gyeongsang National Univ., South Korea      1\n",
       "Yugane Dakgalbi Cheonho, South Korea                        1\n",
       "Hyeongje Yukheo, South Korea                                1\n",
       "Name: location.additionalNames.long, Length: 7066, dtype: int64"
      ]
     },
     "execution_count": 7,
     "metadata": {},
     "output_type": "execute_result"
    }
   ],
   "source": [
    "df[df['location.placeType'] == \"EATERY\"]['location.additionalNames.long'].value_counts()"
   ]
  },
  {
   "cell_type": "code",
   "execution_count": null,
   "metadata": {},
   "outputs": [],
   "source": []
  },
  {
   "cell_type": "code",
   "execution_count": null,
   "metadata": {},
   "outputs": [],
   "source": []
  },
  {
   "cell_type": "markdown",
   "metadata": {},
   "source": [
    "## 2차 데이터 추가 "
   ]
  },
  {
   "cell_type": "code",
   "execution_count": 4,
   "metadata": {},
   "outputs": [],
   "source": [
    "DATA_PATH = lambda x: os.path.join(\"..\",\"..\",\"data\",x)"
   ]
  },
  {
   "cell_type": "code",
   "execution_count": 5,
   "metadata": {},
   "outputs": [],
   "source": [
    "df_hotel = pd.read_json(DATA_PATH(\"TA_Hotel_Reviews.json\"))\n",
    "df_eat = pd.read_json(DATA_PATH(\"TA_Seoul_Eatery_Reviews.json\"))"
   ]
  },
  {
   "cell_type": "code",
   "execution_count": 6,
   "metadata": {},
   "outputs": [
    {
     "name": "stderr",
     "output_type": "stream",
     "text": [
      "/Users/josang-yeon/.pyenv/versions/3.7.4/lib/python3.7/site-packages/ipykernel_launcher.py:1: FutureWarning: Sorting because non-concatenation axis is not aligned. A future version\n",
      "of pandas will change to not sort by default.\n",
      "\n",
      "To accept the future behavior, pass 'sort=False'.\n",
      "\n",
      "To retain the current behavior and silence the warning, pass 'sort=True'.\n",
      "\n",
      "  \"\"\"Entry point for launching an IPython kernel.\n"
     ]
    }
   ],
   "source": [
    "df = pd.concat([df_hotel, df_eat])\n",
    "df = df.reset_index(drop=True)"
   ]
  },
  {
   "cell_type": "code",
   "execution_count": 7,
   "metadata": {},
   "outputs": [
    {
     "data": {
      "text/plain": [
       "(146241, 100)"
      ]
     },
     "execution_count": 7,
     "metadata": {},
     "output_type": "execute_result"
    }
   ],
   "source": [
    "df.shape"
   ]
  },
  {
   "cell_type": "code",
   "execution_count": 8,
   "metadata": {},
   "outputs": [
    {
     "data": {
      "text/plain": [
       "80938"
      ]
     },
     "execution_count": 8,
     "metadata": {},
     "output_type": "execute_result"
    }
   ],
   "source": [
    "df.userId.nunique()"
   ]
  },
  {
   "cell_type": "code",
   "execution_count": 9,
   "metadata": {},
   "outputs": [
    {
     "data": {
      "text/plain": [
       "0         E44FFBC7D1E0A97FECCCF7F8EB052E0C\n",
       "1         F9AD0C1F6409A1574AD0AFC237D2A4CE\n",
       "2         770775D59B126E71D38D56FAB9B95F93\n",
       "3         4F1BF9403CA4EB27756E0C824A088553\n",
       "4         23EF5413495FF530151DB7E5C0FEF38D\n",
       "                        ...               \n",
       "146236    0B7BE2A2FF1D77166D16CB9A45456E81\n",
       "146237    FFB61B1A83604683BDBFF68D444F304C\n",
       "146238    F600275BB00786554F35A0D215C694B1\n",
       "146239    F8C18CF58CAFC4867BB515FFB663D878\n",
       "146240    2D2CA6B04125BB62D1BB1FD7B27D8A5F\n",
       "Name: userId, Length: 146241, dtype: object"
      ]
     },
     "execution_count": 9,
     "metadata": {},
     "output_type": "execute_result"
    }
   ],
   "source": [
    "df.userId"
   ]
  },
  {
   "cell_type": "code",
   "execution_count": 10,
   "metadata": {},
   "outputs": [
    {
     "data": {
      "text/html": [
       "<div>\n",
       "<style scoped>\n",
       "    .dataframe tbody tr th:only-of-type {\n",
       "        vertical-align: middle;\n",
       "    }\n",
       "\n",
       "    .dataframe tbody tr th {\n",
       "        vertical-align: top;\n",
       "    }\n",
       "\n",
       "    .dataframe thead th {\n",
       "        text-align: right;\n",
       "    }\n",
       "</style>\n",
       "<table border=\"1\" class=\"dataframe\">\n",
       "  <thead>\n",
       "    <tr style=\"text-align: right;\">\n",
       "      <th>location.placeType</th>\n",
       "      <th>ACCOMMODATION</th>\n",
       "      <th>EATERY</th>\n",
       "    </tr>\n",
       "    <tr>\n",
       "      <th>userId</th>\n",
       "      <th></th>\n",
       "      <th></th>\n",
       "    </tr>\n",
       "  </thead>\n",
       "  <tbody>\n",
       "    <tr>\n",
       "      <td>0001422DDBC8371F0D5638A54A67B49E</td>\n",
       "      <td>1.0</td>\n",
       "      <td>NaN</td>\n",
       "    </tr>\n",
       "    <tr>\n",
       "      <td>0001DF001B6F7F9B9B5382CC2E820F3D</td>\n",
       "      <td>1.0</td>\n",
       "      <td>NaN</td>\n",
       "    </tr>\n",
       "    <tr>\n",
       "      <td>0002941EB80B8D62C497FCFE89FE5FE5</td>\n",
       "      <td>1.0</td>\n",
       "      <td>NaN</td>\n",
       "    </tr>\n",
       "    <tr>\n",
       "      <td>0002C7C9BF0686DB770487FD63B5C6F5</td>\n",
       "      <td>NaN</td>\n",
       "      <td>10.0</td>\n",
       "    </tr>\n",
       "    <tr>\n",
       "      <td>000347839C2E555CE5DDEA19BE2F0572</td>\n",
       "      <td>NaN</td>\n",
       "      <td>1.0</td>\n",
       "    </tr>\n",
       "    <tr>\n",
       "      <td>...</td>\n",
       "      <td>...</td>\n",
       "      <td>...</td>\n",
       "    </tr>\n",
       "    <tr>\n",
       "      <td>FFFAC8BEDEB2688CED0FFBB720B579EC</td>\n",
       "      <td>1.0</td>\n",
       "      <td>NaN</td>\n",
       "    </tr>\n",
       "    <tr>\n",
       "      <td>FFFB8DA80DB5D74BFB28A8C581007477</td>\n",
       "      <td>NaN</td>\n",
       "      <td>2.0</td>\n",
       "    </tr>\n",
       "    <tr>\n",
       "      <td>FFFBD5D5AB0E4CE360D46669493AD16B</td>\n",
       "      <td>NaN</td>\n",
       "      <td>2.0</td>\n",
       "    </tr>\n",
       "    <tr>\n",
       "      <td>FFFD9E1DA7FB22C470710474AE1F3873</td>\n",
       "      <td>NaN</td>\n",
       "      <td>3.0</td>\n",
       "    </tr>\n",
       "    <tr>\n",
       "      <td>FFFE4A05D513A9C67F0C0B950F4A80F3</td>\n",
       "      <td>1.0</td>\n",
       "      <td>NaN</td>\n",
       "    </tr>\n",
       "  </tbody>\n",
       "</table>\n",
       "<p>80938 rows × 2 columns</p>\n",
       "</div>"
      ],
      "text/plain": [
       "location.placeType                ACCOMMODATION  EATERY\n",
       "userId                                                 \n",
       "0001422DDBC8371F0D5638A54A67B49E            1.0     NaN\n",
       "0001DF001B6F7F9B9B5382CC2E820F3D            1.0     NaN\n",
       "0002941EB80B8D62C497FCFE89FE5FE5            1.0     NaN\n",
       "0002C7C9BF0686DB770487FD63B5C6F5            NaN    10.0\n",
       "000347839C2E555CE5DDEA19BE2F0572            NaN     1.0\n",
       "...                                         ...     ...\n",
       "FFFAC8BEDEB2688CED0FFBB720B579EC            1.0     NaN\n",
       "FFFB8DA80DB5D74BFB28A8C581007477            NaN     2.0\n",
       "FFFBD5D5AB0E4CE360D46669493AD16B            NaN     2.0\n",
       "FFFD9E1DA7FB22C470710474AE1F3873            NaN     3.0\n",
       "FFFE4A05D513A9C67F0C0B950F4A80F3            1.0     NaN\n",
       "\n",
       "[80938 rows x 2 columns]"
      ]
     },
     "execution_count": 10,
     "metadata": {},
     "output_type": "execute_result"
    }
   ],
   "source": [
    "df.groupby([\"userId\",\"location.placeType\"]).size().unstack(-1)"
   ]
  },
  {
   "cell_type": "code",
   "execution_count": 11,
   "metadata": {},
   "outputs": [],
   "source": [
    "df_pivot = df.pivot_table('id', \"userId\",\"location.placeType\", aggfunc=\"count\", margins=True)"
   ]
  },
  {
   "cell_type": "code",
   "execution_count": 12,
   "metadata": {},
   "outputs": [
    {
     "data": {
      "text/html": [
       "<div>\n",
       "<style scoped>\n",
       "    .dataframe tbody tr th:only-of-type {\n",
       "        vertical-align: middle;\n",
       "    }\n",
       "\n",
       "    .dataframe tbody tr th {\n",
       "        vertical-align: top;\n",
       "    }\n",
       "\n",
       "    .dataframe thead th {\n",
       "        text-align: right;\n",
       "    }\n",
       "</style>\n",
       "<table border=\"1\" class=\"dataframe\">\n",
       "  <thead>\n",
       "    <tr style=\"text-align: right;\">\n",
       "      <th>location.placeType</th>\n",
       "      <th>ACCOMMODATION</th>\n",
       "      <th>EATERY</th>\n",
       "      <th>All</th>\n",
       "    </tr>\n",
       "    <tr>\n",
       "      <th>userId</th>\n",
       "      <th></th>\n",
       "      <th></th>\n",
       "      <th></th>\n",
       "    </tr>\n",
       "  </thead>\n",
       "  <tbody>\n",
       "    <tr>\n",
       "      <td>All</td>\n",
       "      <td>63634.0</td>\n",
       "      <td>81645.0</td>\n",
       "      <td>145279</td>\n",
       "    </tr>\n",
       "    <tr>\n",
       "      <td>E5F93B0B3B8683B98A7B3642B2BE2399</td>\n",
       "      <td>3.0</td>\n",
       "      <td>1516.0</td>\n",
       "      <td>1519</td>\n",
       "    </tr>\n",
       "    <tr>\n",
       "      <td>C336D83530ADBB29B9171F14C58354F0</td>\n",
       "      <td>4.0</td>\n",
       "      <td>478.0</td>\n",
       "      <td>482</td>\n",
       "    </tr>\n",
       "    <tr>\n",
       "      <td>3C5338715DDDD2A65EF9C9EA389B0B9D</td>\n",
       "      <td>1.0</td>\n",
       "      <td>475.0</td>\n",
       "      <td>476</td>\n",
       "    </tr>\n",
       "    <tr>\n",
       "      <td>90076979BB69F17E1745E30F1A2153B2</td>\n",
       "      <td>9.0</td>\n",
       "      <td>366.0</td>\n",
       "      <td>375</td>\n",
       "    </tr>\n",
       "    <tr>\n",
       "      <td>...</td>\n",
       "      <td>...</td>\n",
       "      <td>...</td>\n",
       "      <td>...</td>\n",
       "    </tr>\n",
       "    <tr>\n",
       "      <td>5EF6D6EF31C67400982F030FEA89E591</td>\n",
       "      <td>NaN</td>\n",
       "      <td>1.0</td>\n",
       "      <td>1</td>\n",
       "    </tr>\n",
       "    <tr>\n",
       "      <td>5EF76EF1B10BD639F6C2F2A15BB34B95</td>\n",
       "      <td>1.0</td>\n",
       "      <td>NaN</td>\n",
       "      <td>1</td>\n",
       "    </tr>\n",
       "    <tr>\n",
       "      <td>5EF79BD69C90F4267A911186FB76C2E4</td>\n",
       "      <td>1.0</td>\n",
       "      <td>NaN</td>\n",
       "      <td>1</td>\n",
       "    </tr>\n",
       "    <tr>\n",
       "      <td>5EF9AB1E74FD557F3142985A68AD18B1</td>\n",
       "      <td>1.0</td>\n",
       "      <td>NaN</td>\n",
       "      <td>1</td>\n",
       "    </tr>\n",
       "    <tr>\n",
       "      <td>7F46324B7FBD33F5DA4A89339F79E8E1</td>\n",
       "      <td>1.0</td>\n",
       "      <td>NaN</td>\n",
       "      <td>1</td>\n",
       "    </tr>\n",
       "  </tbody>\n",
       "</table>\n",
       "<p>80939 rows × 3 columns</p>\n",
       "</div>"
      ],
      "text/plain": [
       "location.placeType                ACCOMMODATION   EATERY     All\n",
       "userId                                                          \n",
       "All                                     63634.0  81645.0  145279\n",
       "E5F93B0B3B8683B98A7B3642B2BE2399            3.0   1516.0    1519\n",
       "C336D83530ADBB29B9171F14C58354F0            4.0    478.0     482\n",
       "3C5338715DDDD2A65EF9C9EA389B0B9D            1.0    475.0     476\n",
       "90076979BB69F17E1745E30F1A2153B2            9.0    366.0     375\n",
       "...                                         ...      ...     ...\n",
       "5EF6D6EF31C67400982F030FEA89E591            NaN      1.0       1\n",
       "5EF76EF1B10BD639F6C2F2A15BB34B95            1.0      NaN       1\n",
       "5EF79BD69C90F4267A911186FB76C2E4            1.0      NaN       1\n",
       "5EF9AB1E74FD557F3142985A68AD18B1            1.0      NaN       1\n",
       "7F46324B7FBD33F5DA4A89339F79E8E1            1.0      NaN       1\n",
       "\n",
       "[80939 rows x 3 columns]"
      ]
     },
     "execution_count": 12,
     "metadata": {},
     "output_type": "execute_result"
    }
   ],
   "source": [
    "df_pivot.sort_values(\"All\", ascending=False)"
   ]
  },
  {
   "cell_type": "markdown",
   "metadata": {},
   "source": [
    "### 호텔, 식당 모두 리뷰를 남긴 사람들의 리뷰수 분포도"
   ]
  },
  {
   "cell_type": "code",
   "execution_count": 32,
   "metadata": {},
   "outputs": [
    {
     "data": {
      "text/plain": [
       "<matplotlib.axes._subplots.AxesSubplot at 0x229df0bd0>"
      ]
     },
     "execution_count": 32,
     "metadata": {},
     "output_type": "execute_result"
    },
    {
     "data": {
      "image/png": "[encoded data removed]",
      "text/plain": [
       "<Figure size 1152x648 with 1 Axes>"
      ]
     },
     "metadata": {
      "needs_background": "light"
     },
     "output_type": "display_data"
    }
   ],
   "source": [
    "df_pivot.sort_values(\"All\", ascending=False).dropna()[\"All\"][1:].value_counts().sort_index()[:50].plot.bar(figsize=(16,9))"
   ]
  },
  {
   "cell_type": "code",
   "execution_count": 18,
   "metadata": {},
   "outputs": [],
   "source": [
    "# df[\"userId\"].hist()"
   ]
  },
  {
   "cell_type": "code",
   "execution_count": 21,
   "metadata": {},
   "outputs": [
    {
     "data": {
      "text/plain": [
       "<matplotlib.axes._subplots.AxesSubplot at 0x22a795610>"
      ]
     },
     "execution_count": 21,
     "metadata": {},
     "output_type": "execute_result"
    },
    {
     "data": {
      "image/png": "[encoded data removed]",
      "text/plain": [
       "<Figure size 1152x648 with 1 Axes>"
      ]
     },
     "metadata": {
      "needs_background": "light"
     },
     "output_type": "display_data"
    }
   ],
   "source": [
    "df[\"userId\"].value_counts().reset_index()['userId'].value_counts().sort_index()[1:50].plot.bar(figsize=(16,9))"
   ]
  },
  {
   "cell_type": "code",
   "execution_count": null,
   "metadata": {},
   "outputs": [],
   "source": []
  },
  {
   "cell_type": "code",
   "execution_count": null,
   "metadata": {},
   "outputs": [],
   "source": []
  },
  {
   "cell_type": "code",
   "execution_count": null,
   "metadata": {},
   "outputs": [],
   "source": []
  }
 ],
 "metadata": {
  "kernelspec": {
   "display_name": "Python 3.7.4 64-bit ('3.7.4': pyenv)",
   "language": "python",
   "name": "python37464bit374pyenv041d4208e8044db59cf06b2957718d11"
  },
  "language_info": {
   "codemirror_mode": {
    "name": "ipython",
    "version": 3
   },
   "file_extension": ".py",
   "mimetype": "text/x-python",
   "name": "python",
   "nbconvert_exporter": "python",
   "pygments_lexer": "ipython3",
   "version": "3.7.4"
  }
 },
 "nbformat": 4,
 "nbformat_minor": 4
}
