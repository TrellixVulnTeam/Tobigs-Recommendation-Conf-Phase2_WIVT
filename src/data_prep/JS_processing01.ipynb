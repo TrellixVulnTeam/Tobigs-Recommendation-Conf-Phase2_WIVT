{
 "cells": [
  {
   "cell_type": "code",
   "execution_count": 1,
   "metadata": {
    "Collapsed": "false"
   },
   "outputs": [],
   "source": [
    "import os\n",
    "import joblib\n",
    "import pandas as pd"
   ]
  },
  {
   "cell_type": "markdown",
   "metadata": {
    "Collapsed": "false"
   },
   "source": [
    "# 데이터 로드"
   ]
  },
  {
   "cell_type": "code",
   "execution_count": 2,
   "metadata": {
    "Collapsed": "false"
   },
   "outputs": [],
   "source": [
    "# 프랜차이즈 검수 파일\n",
    "is_fch = pd.read_excel(os.path.join(\"..\",\"..\", \"data\",\"JS_08_category_check_franchise.xlsx\"))"
   ]
  },
  {
   "cell_type": "code",
   "execution_count": 3,
   "metadata": {
    "Collapsed": "false"
   },
   "outputs": [
    {
     "data": {
      "text/html": [
       "<div>\n",
       "<style scoped>\n",
       "    .dataframe tbody tr th:only-of-type {\n",
       "        vertical-align: middle;\n",
       "    }\n",
       "\n",
       "    .dataframe tbody tr th {\n",
       "        vertical-align: top;\n",
       "    }\n",
       "\n",
       "    .dataframe thead th {\n",
       "        text-align: right;\n",
       "    }\n",
       "</style>\n",
       "<table border=\"1\" class=\"dataframe\">\n",
       "  <thead>\n",
       "    <tr style=\"text-align: right;\">\n",
       "      <th></th>\n",
       "      <th>place.category</th>\n",
       "      <th>is_fch</th>\n",
       "      <th>검수자</th>\n",
       "      <th>비고</th>\n",
       "    </tr>\n",
       "  </thead>\n",
       "  <tbody>\n",
       "    <tr>\n",
       "      <th>0</th>\n",
       "      <td>스타벅스</td>\n",
       "      <td>1</td>\n",
       "      <td>유나</td>\n",
       "      <td>NaN</td>\n",
       "    </tr>\n",
       "    <tr>\n",
       "      <th>1</th>\n",
       "      <td>생선회-일반</td>\n",
       "      <td>0</td>\n",
       "      <td>유나</td>\n",
       "      <td>NaN</td>\n",
       "    </tr>\n",
       "    <tr>\n",
       "      <th>2</th>\n",
       "      <td>해장국-일반</td>\n",
       "      <td>0</td>\n",
       "      <td>유나</td>\n",
       "      <td>NaN</td>\n",
       "    </tr>\n",
       "    <tr>\n",
       "      <th>3</th>\n",
       "      <td>아귀찜,해물찜-일반</td>\n",
       "      <td>0</td>\n",
       "      <td>유나</td>\n",
       "      <td>NaN</td>\n",
       "    </tr>\n",
       "    <tr>\n",
       "      <th>4</th>\n",
       "      <td>파리바게뜨</td>\n",
       "      <td>1</td>\n",
       "      <td>유나</td>\n",
       "      <td>NaN</td>\n",
       "    </tr>\n",
       "    <tr>\n",
       "      <th>...</th>\n",
       "      <td>...</td>\n",
       "      <td>...</td>\n",
       "      <td>...</td>\n",
       "      <td>...</td>\n",
       "    </tr>\n",
       "    <tr>\n",
       "      <th>1188</th>\n",
       "      <td>제주울어멍해장국</td>\n",
       "      <td>1</td>\n",
       "      <td>홍정</td>\n",
       "      <td>NaN</td>\n",
       "    </tr>\n",
       "    <tr>\n",
       "      <th>1189</th>\n",
       "      <td>전설의치킨</td>\n",
       "      <td>1</td>\n",
       "      <td>홍정</td>\n",
       "      <td>NaN</td>\n",
       "    </tr>\n",
       "    <tr>\n",
       "      <th>1190</th>\n",
       "      <td>곱창선생</td>\n",
       "      <td>1</td>\n",
       "      <td>홍정</td>\n",
       "      <td>NaN</td>\n",
       "    </tr>\n",
       "    <tr>\n",
       "      <th>1191</th>\n",
       "      <td>음식,요리-일반</td>\n",
       "      <td>0</td>\n",
       "      <td>홍정</td>\n",
       "      <td>NaN</td>\n",
       "    </tr>\n",
       "    <tr>\n",
       "      <th>1192</th>\n",
       "      <td>남도술상</td>\n",
       "      <td>1</td>\n",
       "      <td>홍정</td>\n",
       "      <td>NaN</td>\n",
       "    </tr>\n",
       "  </tbody>\n",
       "</table>\n",
       "<p>1193 rows × 4 columns</p>\n",
       "</div>"
      ],
      "text/plain": [
       "     place.category is_fch 검수자  비고\n",
       "0              스타벅스      1  유나 NaN\n",
       "1            생선회-일반      0  유나 NaN\n",
       "2            해장국-일반      0  유나 NaN\n",
       "3        아귀찜,해물찜-일반      0  유나 NaN\n",
       "4             파리바게뜨      1  유나 NaN\n",
       "...             ...    ...  ..  ..\n",
       "1188       제주울어멍해장국      1  홍정 NaN\n",
       "1189          전설의치킨      1  홍정 NaN\n",
       "1190           곱창선생      1  홍정 NaN\n",
       "1191       음식,요리-일반      0  홍정 NaN\n",
       "1192           남도술상      1  홍정 NaN\n",
       "\n",
       "[1193 rows x 4 columns]"
      ]
     },
     "execution_count": 3,
     "metadata": {},
     "output_type": "execute_result"
    }
   ],
   "source": [
    "is_fch"
   ]
  },
  {
   "cell_type": "code",
   "execution_count": 4,
   "metadata": {
    "Collapsed": "false"
   },
   "outputs": [],
   "source": [
    "# 전체 리뷰\n",
    "rv = joblib.load(os.path.join(\"..\",\"..\", \"data\",\"JS_05_reviews.pkl\"))"
   ]
  },
  {
   "cell_type": "code",
   "execution_count": 9,
   "metadata": {
    "Collapsed": "false"
   },
   "outputs": [],
   "source": [
    "rv['place.address'] = rv['place.address'].apply(lambda x: 'none' if x == '' else x)"
   ]
  },
  {
   "cell_type": "code",
   "execution_count": 10,
   "metadata": {
    "Collapsed": "false"
   },
   "outputs": [],
   "source": [
    "rv['isseoul'] = rv['place.address'].apply(lambda x: 1 if '서울' in x.split()[0] else 0)"
   ]
  },
  {
   "cell_type": "code",
   "execution_count": 11,
   "metadata": {
    "Collapsed": "false"
   },
   "outputs": [
    {
     "data": {
      "text/plain": [
       "1    2313253\n",
       "0    1826603\n",
       "Name: isseoul, dtype: int64"
      ]
     },
     "execution_count": 11,
     "metadata": {},
     "output_type": "execute_result"
    }
   ],
   "source": [
    "# 서울 place 개수, 서울이 아닌 place 개수\n",
    "rv['isseoul'].value_counts()"
   ]
  },
  {
   "cell_type": "code",
   "execution_count": 12,
   "metadata": {
    "Collapsed": "false"
   },
   "outputs": [],
   "source": [
    "rv_sel = rv[rv['isseoul'] == 1]"
   ]
  },
  {
   "cell_type": "code",
   "execution_count": 13,
   "metadata": {
    "Collapsed": "false"
   },
   "outputs": [
    {
     "data": {
      "text/plain": [
       "1461570          서울특별시 강남구 강남대로 238\n",
       "2179115          서울특별시 강남구 강남대로 238\n",
       "3189759          서울특별시 강남구 강남대로 238\n",
       "2179129          서울특별시 강남구 강남대로 238\n",
       "3076630          서울특별시 강남구 강남대로 238\n",
       "                     ...           \n",
       "2597786            서울특별시 중랑구 중화동 95\n",
       "1439382    서울특별시 중랑구 중화동 96 중화빌딩 1층\n",
       "3777914    서울특별시 중랑구 중화동 96 중화빌딩 1층\n",
       "503        서울특별시 중랑구 중화동 96 중화빌딩 2층\n",
       "1754073          서울특별시 중랑구 중화동 99-7\n",
       "Name: place.address, Length: 2313253, dtype: object"
      ]
     },
     "execution_count": 13,
     "metadata": {},
     "output_type": "execute_result"
    }
   ],
   "source": [
    "rv_sel['place.address'].sort_values()"
   ]
  },
  {
   "cell_type": "code",
   "execution_count": 68,
   "metadata": {
    "Collapsed": "false"
   },
   "outputs": [
    {
     "data": {
      "text/html": [
       "<div>\n",
       "<style scoped>\n",
       "    .dataframe tbody tr th:only-of-type {\n",
       "        vertical-align: middle;\n",
       "    }\n",
       "\n",
       "    .dataframe tbody tr th {\n",
       "        vertical-align: top;\n",
       "    }\n",
       "\n",
       "    .dataframe thead th {\n",
       "        text-align: right;\n",
       "    }\n",
       "</style>\n",
       "<table border=\"1\" class=\"dataframe\">\n",
       "  <thead>\n",
       "    <tr style=\"text-align: right;\">\n",
       "      <th></th>\n",
       "      <th>rating</th>\n",
       "      <th>body</th>\n",
       "      <th>visitCount</th>\n",
       "      <th>viewCount</th>\n",
       "      <th>thumbnail</th>\n",
       "      <th>status</th>\n",
       "      <th>media</th>\n",
       "      <th>id</th>\n",
       "      <th>__typename</th>\n",
       "      <th>idno</th>\n",
       "      <th>...</th>\n",
       "      <th>place.id</th>\n",
       "      <th>place.name</th>\n",
       "      <th>place.category</th>\n",
       "      <th>place.categoryCode</th>\n",
       "      <th>place.categoryCodes</th>\n",
       "      <th>place.phone</th>\n",
       "      <th>place.address</th>\n",
       "      <th>place.__typename</th>\n",
       "      <th>isseoul</th>\n",
       "      <th>media_count</th>\n",
       "    </tr>\n",
       "  </thead>\n",
       "  <tbody>\n",
       "    <tr>\n",
       "      <th>2</th>\n",
       "      <td>4.0</td>\n",
       "      <td></td>\n",
       "      <td>144</td>\n",
       "      <td>1</td>\n",
       "      <td>none</td>\n",
       "      <td>published</td>\n",
       "      <td>[]</td>\n",
       "      <td>5ecaa2fa0387560010bed9d3</td>\n",
       "      <td>Review</td>\n",
       "      <td>4TXey</td>\n",
       "      <td>...</td>\n",
       "      <td>1902233431</td>\n",
       "      <td>산들할인마트</td>\n",
       "      <td>슈퍼,마트-일반</td>\n",
       "      <td>223850</td>\n",
       "      <td>[223563, 223564, 223593, 223850]</td>\n",
       "      <td>02-889-9142</td>\n",
       "      <td>서울특별시 관악구 봉천동 698-3</td>\n",
       "      <td>Place</td>\n",
       "      <td>1</td>\n",
       "      <td>none</td>\n",
       "    </tr>\n",
       "    <tr>\n",
       "      <th>10</th>\n",
       "      <td>4.5</td>\n",
       "      <td></td>\n",
       "      <td>2</td>\n",
       "      <td>1</td>\n",
       "      <td>none</td>\n",
       "      <td>published</td>\n",
       "      <td>[]</td>\n",
       "      <td>5ec7ec658160f100109a8368</td>\n",
       "      <td>Review</td>\n",
       "      <td>4TXey</td>\n",
       "      <td>...</td>\n",
       "      <td>1150710065</td>\n",
       "      <td>스타벅스 보라매공원R점</td>\n",
       "      <td>스타벅스</td>\n",
       "      <td>221275</td>\n",
       "      <td>[220036, 220052, 220576, 221275]</td>\n",
       "      <td>1522-3232</td>\n",
       "      <td>서울특별시 동작구 신대방동 395-65 파크스퀘어,보라매현대APT</td>\n",
       "      <td>Place</td>\n",
       "      <td>1</td>\n",
       "      <td>none</td>\n",
       "    </tr>\n",
       "    <tr>\n",
       "      <th>11</th>\n",
       "      <td>5.0</td>\n",
       "      <td></td>\n",
       "      <td>3</td>\n",
       "      <td>1</td>\n",
       "      <td>none</td>\n",
       "      <td>published</td>\n",
       "      <td>[]</td>\n",
       "      <td>5ecbe8b1b39a2500115d1dcc</td>\n",
       "      <td>Review</td>\n",
       "      <td>4TXey</td>\n",
       "      <td>...</td>\n",
       "      <td>1287040263</td>\n",
       "      <td>유가네한우곰탕 본사직영점</td>\n",
       "      <td>유가네한우곰탕</td>\n",
       "      <td>1000595</td>\n",
       "      <td>[220036, 220037, 220069, 1000595]</td>\n",
       "      <td>02-821-5050</td>\n",
       "      <td>서울특별시 동작구 상도3동 323-4</td>\n",
       "      <td>Place</td>\n",
       "      <td>1</td>\n",
       "      <td>none</td>\n",
       "    </tr>\n",
       "    <tr>\n",
       "      <th>12</th>\n",
       "      <td>5.0</td>\n",
       "      <td></td>\n",
       "      <td>115</td>\n",
       "      <td>1</td>\n",
       "      <td>none</td>\n",
       "      <td>published</td>\n",
       "      <td>[]</td>\n",
       "      <td>5ecbe8a1ab6fc50010d6fdfe</td>\n",
       "      <td>Review</td>\n",
       "      <td>4TXey</td>\n",
       "      <td>...</td>\n",
       "      <td>1125542597</td>\n",
       "      <td>에스엠할인마트</td>\n",
       "      <td>슈퍼,마트-일반</td>\n",
       "      <td>223850</td>\n",
       "      <td>[223563, 223564, 223593, 223850]</td>\n",
       "      <td></td>\n",
       "      <td>서울특별시 동작구 신대방동 395-69</td>\n",
       "      <td>Place</td>\n",
       "      <td>1</td>\n",
       "      <td>none</td>\n",
       "    </tr>\n",
       "    <tr>\n",
       "      <th>19</th>\n",
       "      <td>5.0</td>\n",
       "      <td></td>\n",
       "      <td>145</td>\n",
       "      <td>0</td>\n",
       "      <td>none</td>\n",
       "      <td>published</td>\n",
       "      <td>[]</td>\n",
       "      <td>5ecbe8e0a437330010b07268</td>\n",
       "      <td>Review</td>\n",
       "      <td>4TXey</td>\n",
       "      <td>...</td>\n",
       "      <td>1902233431</td>\n",
       "      <td>산들할인마트</td>\n",
       "      <td>슈퍼,마트-일반</td>\n",
       "      <td>223850</td>\n",
       "      <td>[223563, 223564, 223593, 223850]</td>\n",
       "      <td>02-889-9142</td>\n",
       "      <td>서울특별시 관악구 봉천동 698-3</td>\n",
       "      <td>Place</td>\n",
       "      <td>1</td>\n",
       "      <td>none</td>\n",
       "    </tr>\n",
       "  </tbody>\n",
       "</table>\n",
       "<p>5 rows × 24 columns</p>\n",
       "</div>"
      ],
      "text/plain": [
       "    rating body  visitCount  viewCount thumbnail     status media  \\\n",
       "2      4.0              144          1      none  published    []   \n",
       "10     4.5                2          1      none  published    []   \n",
       "11     5.0                3          1      none  published    []   \n",
       "12     5.0              115          1      none  published    []   \n",
       "19     5.0              145          0      none  published    []   \n",
       "\n",
       "                          id __typename   idno  ...    place.id  \\\n",
       "2   5ecaa2fa0387560010bed9d3     Review  4TXey  ...  1902233431   \n",
       "10  5ec7ec658160f100109a8368     Review  4TXey  ...  1150710065   \n",
       "11  5ecbe8b1b39a2500115d1dcc     Review  4TXey  ...  1287040263   \n",
       "12  5ecbe8a1ab6fc50010d6fdfe     Review  4TXey  ...  1125542597   \n",
       "19  5ecbe8e0a437330010b07268     Review  4TXey  ...  1902233431   \n",
       "\n",
       "       place.name place.category place.categoryCode  \\\n",
       "2          산들할인마트       슈퍼,마트-일반             223850   \n",
       "10   스타벅스 보라매공원R점           스타벅스             221275   \n",
       "11  유가네한우곰탕 본사직영점        유가네한우곰탕            1000595   \n",
       "12        에스엠할인마트       슈퍼,마트-일반             223850   \n",
       "19         산들할인마트       슈퍼,마트-일반             223850   \n",
       "\n",
       "                  place.categoryCodes  place.phone  \\\n",
       "2    [223563, 223564, 223593, 223850]  02-889-9142   \n",
       "10   [220036, 220052, 220576, 221275]    1522-3232   \n",
       "11  [220036, 220037, 220069, 1000595]  02-821-5050   \n",
       "12   [223563, 223564, 223593, 223850]                \n",
       "19   [223563, 223564, 223593, 223850]  02-889-9142   \n",
       "\n",
       "                           place.address place.__typename isseoul media_count  \n",
       "2                    서울특별시 관악구 봉천동 698-3            Place       1        none  \n",
       "10  서울특별시 동작구 신대방동 395-65 파크스퀘어,보라매현대APT            Place       1        none  \n",
       "11                  서울특별시 동작구 상도3동 323-4            Place       1        none  \n",
       "12                 서울특별시 동작구 신대방동 395-69            Place       1        none  \n",
       "19                   서울특별시 관악구 봉천동 698-3            Place       1        none  \n",
       "\n",
       "[5 rows x 24 columns]"
      ]
     },
     "execution_count": 68,
     "metadata": {},
     "output_type": "execute_result"
    }
   ],
   "source": [
    "rv_sel.head()"
   ]
  },
  {
   "cell_type": "code",
   "execution_count": 15,
   "metadata": {
    "Collapsed": "false"
   },
   "outputs": [
    {
     "data": {
      "text/plain": [
       "['../../data/JS_0501_reviews_seoul.pkl']"
      ]
     },
     "execution_count": 15,
     "metadata": {},
     "output_type": "execute_result"
    }
   ],
   "source": [
    "joblib.dump(rv_sel, os.path.join(\"..\",\"..\", \"data\",'JS_0501_reviews_seoul.pkl'))"
   ]
  },
  {
   "cell_type": "code",
   "execution_count": 16,
   "metadata": {
    "Collapsed": "false"
   },
   "outputs": [],
   "source": [
    "cate = pd.read_excel(os.path.join(\"..\",\"..\", \"data\",\"JS_07_category.xlsx\"))\n",
    "cate = cate.loc[cate['카테고리분류'] == 'EAT']"
   ]
  },
  {
   "cell_type": "markdown",
   "metadata": {
    "Collapsed": "true",
    "toc-hr-collapsed": true,
    "toc-nb-collapsed": true
   },
   "source": [
    "# EAT으로 분류된 place가져오기"
   ]
  },
  {
   "cell_type": "code",
   "execution_count": 17,
   "metadata": {
    "Collapsed": "false"
   },
   "outputs": [],
   "source": [
    "# EAT 으로 전처리한 카테고리 매칭하기"
   ]
  },
  {
   "cell_type": "code",
   "execution_count": 19,
   "metadata": {
    "Collapsed": "false"
   },
   "outputs": [
    {
     "data": {
      "text/plain": [
       "6207"
      ]
     },
     "execution_count": 19,
     "metadata": {},
     "output_type": "execute_result"
    }
   ],
   "source": [
    "# 현재 서울 지역 plcae.category는 총 6207개\n",
    "rv_sel['place.category'].nunique()"
   ]
  },
  {
   "cell_type": "code",
   "execution_count": 21,
   "metadata": {
    "Collapsed": "false"
   },
   "outputs": [
    {
     "data": {
      "text/plain": [
       "2079"
      ]
     },
     "execution_count": 21,
     "metadata": {},
     "output_type": "execute_result"
    }
   ],
   "source": [
    "# 그 중 EAT으로 분류된 것은 6207개\n",
    "cate['place.category'].nunique()"
   ]
  },
  {
   "cell_type": "code",
   "execution_count": 23,
   "metadata": {
    "Collapsed": "false"
   },
   "outputs": [
    {
     "data": {
      "text/html": [
       "<div>\n",
       "<style scoped>\n",
       "    .dataframe tbody tr th:only-of-type {\n",
       "        vertical-align: middle;\n",
       "    }\n",
       "\n",
       "    .dataframe tbody tr th {\n",
       "        vertical-align: top;\n",
       "    }\n",
       "\n",
       "    .dataframe thead th {\n",
       "        text-align: right;\n",
       "    }\n",
       "</style>\n",
       "<table border=\"1\" class=\"dataframe\">\n",
       "  <thead>\n",
       "    <tr style=\"text-align: right;\">\n",
       "      <th></th>\n",
       "      <th>place.id</th>\n",
       "      <th>id</th>\n",
       "      <th>place.name</th>\n",
       "      <th>place.category</th>\n",
       "    </tr>\n",
       "  </thead>\n",
       "  <tbody>\n",
       "    <tr>\n",
       "      <th>0</th>\n",
       "      <td>1000008735</td>\n",
       "      <td>3</td>\n",
       "      <td>마산아구찜</td>\n",
       "      <td>아귀찜,해물찜-일반</td>\n",
       "    </tr>\n",
       "    <tr>\n",
       "      <th>1</th>\n",
       "      <td>1000020305</td>\n",
       "      <td>10</td>\n",
       "      <td>크림데이</td>\n",
       "      <td>케이크전문-일반</td>\n",
       "    </tr>\n",
       "    <tr>\n",
       "      <th>2</th>\n",
       "      <td>1000021772</td>\n",
       "      <td>17</td>\n",
       "      <td>머킹의 로얄가든</td>\n",
       "      <td>종합분식</td>\n",
       "    </tr>\n",
       "    <tr>\n",
       "      <th>3</th>\n",
       "      <td>1000026365</td>\n",
       "      <td>14</td>\n",
       "      <td>마요요가</td>\n",
       "      <td>셔츠,체육복제작</td>\n",
       "    </tr>\n",
       "    <tr>\n",
       "      <th>4</th>\n",
       "      <td>1000034657</td>\n",
       "      <td>15</td>\n",
       "      <td>금손찬</td>\n",
       "      <td>반찬가게-일반</td>\n",
       "    </tr>\n",
       "    <tr>\n",
       "      <th>...</th>\n",
       "      <td>...</td>\n",
       "      <td>...</td>\n",
       "      <td>...</td>\n",
       "      <td>...</td>\n",
       "    </tr>\n",
       "    <tr>\n",
       "      <th>214877</th>\n",
       "      <td>999863325</td>\n",
       "      <td>4</td>\n",
       "      <td>갑자기피크닉</td>\n",
       "      <td>오락,레저용품-일반</td>\n",
       "    </tr>\n",
       "    <tr>\n",
       "      <th>214878</th>\n",
       "      <td>999908749</td>\n",
       "      <td>8</td>\n",
       "      <td>세븐일레븐 신용산점</td>\n",
       "      <td>세븐일레븐</td>\n",
       "    </tr>\n",
       "    <tr>\n",
       "      <th>214879</th>\n",
       "      <td>999964959</td>\n",
       "      <td>5</td>\n",
       "      <td>웰스팜</td>\n",
       "      <td>기업-일반</td>\n",
       "    </tr>\n",
       "    <tr>\n",
       "      <th>214880</th>\n",
       "      <td>nan</td>\n",
       "      <td>112</td>\n",
       "      <td>흘리리릿디</td>\n",
       "      <td>협회,단체-일반</td>\n",
       "    </tr>\n",
       "    <tr>\n",
       "      <th>214881</th>\n",
       "      <td>none</td>\n",
       "      <td>150</td>\n",
       "      <td>황금문명 엘도라도 - 신비의 보물을 찾아서</td>\n",
       "      <td>한정식-일반</td>\n",
       "    </tr>\n",
       "  </tbody>\n",
       "</table>\n",
       "<p>214882 rows × 4 columns</p>\n",
       "</div>"
      ],
      "text/plain": [
       "          place.id   id               place.name place.category\n",
       "0       1000008735    3                    마산아구찜     아귀찜,해물찜-일반\n",
       "1       1000020305   10                     크림데이       케이크전문-일반\n",
       "2       1000021772   17                 머킹의 로얄가든           종합분식\n",
       "3       1000026365   14                     마요요가       셔츠,체육복제작\n",
       "4       1000034657   15                      금손찬        반찬가게-일반\n",
       "...            ...  ...                      ...            ...\n",
       "214877   999863325    4                   갑자기피크닉     오락,레저용품-일반\n",
       "214878   999908749    8               세븐일레븐 신용산점          세븐일레븐\n",
       "214879   999964959    5                      웰스팜          기업-일반\n",
       "214880         nan  112                    흘리리릿디       협회,단체-일반\n",
       "214881        none  150  황금문명 엘도라도 - 신비의 보물을 찾아서         한정식-일반\n",
       "\n",
       "[214882 rows x 4 columns]"
      ]
     },
     "execution_count": 23,
     "metadata": {},
     "output_type": "execute_result"
    }
   ],
   "source": [
    "# 먼저 서울 리뷰의 category 및 place 정리\n",
    "df = rv_sel.groupby('place.id')['id'].count().reset_index()\n",
    "df['place.name'] = rv_sel.groupby('place.id')['place.name'].max().reset_index()['place.name']\n",
    "df['place.category'] = rv_sel.groupby('place.id')['place.category'].max().reset_index()['place.category']\n",
    "df"
   ]
  },
  {
   "cell_type": "code",
   "execution_count": 70,
   "metadata": {
    "Collapsed": "false"
   },
   "outputs": [],
   "source": [
    "df['rating'] = rv_sel.groupby('place.id')['rating'].mean().reset_index()['rating']"
   ]
  },
  {
   "cell_type": "code",
   "execution_count": 24,
   "metadata": {
    "Collapsed": "false"
   },
   "outputs": [],
   "source": [
    "# 서울의 place와 분류된 카테고리의 교집합\n",
    "place_review = pd.merge(df, cate[['place.category', 'place.count']], on = 'place.category', how = 'inner')"
   ]
  },
  {
   "cell_type": "code",
   "execution_count": 25,
   "metadata": {
    "Collapsed": "false"
   },
   "outputs": [
    {
     "data": {
      "text/html": [
       "<div>\n",
       "<style scoped>\n",
       "    .dataframe tbody tr th:only-of-type {\n",
       "        vertical-align: middle;\n",
       "    }\n",
       "\n",
       "    .dataframe tbody tr th {\n",
       "        vertical-align: top;\n",
       "    }\n",
       "\n",
       "    .dataframe thead th {\n",
       "        text-align: right;\n",
       "    }\n",
       "</style>\n",
       "<table border=\"1\" class=\"dataframe\">\n",
       "  <thead>\n",
       "    <tr style=\"text-align: right;\">\n",
       "      <th></th>\n",
       "      <th>place.id</th>\n",
       "      <th>review.count</th>\n",
       "      <th>place.name</th>\n",
       "      <th>place.category</th>\n",
       "      <th>avg.review</th>\n",
       "    </tr>\n",
       "  </thead>\n",
       "  <tbody>\n",
       "    <tr>\n",
       "      <th>0</th>\n",
       "      <td>1000008735</td>\n",
       "      <td>3</td>\n",
       "      <td>마산아구찜</td>\n",
       "      <td>아귀찜,해물찜-일반</td>\n",
       "      <td>335</td>\n",
       "    </tr>\n",
       "    <tr>\n",
       "      <th>1</th>\n",
       "      <td>1015202717</td>\n",
       "      <td>6</td>\n",
       "      <td>착한아구찜</td>\n",
       "      <td>아귀찜,해물찜-일반</td>\n",
       "      <td>335</td>\n",
       "    </tr>\n",
       "    <tr>\n",
       "      <th>2</th>\n",
       "      <td>1018342724</td>\n",
       "      <td>1</td>\n",
       "      <td>마산아구꽃게해물전문점</td>\n",
       "      <td>아귀찜,해물찜-일반</td>\n",
       "      <td>335</td>\n",
       "    </tr>\n",
       "    <tr>\n",
       "      <th>3</th>\n",
       "      <td>1024335284</td>\n",
       "      <td>7</td>\n",
       "      <td>원마산아구찜</td>\n",
       "      <td>아귀찜,해물찜-일반</td>\n",
       "      <td>335</td>\n",
       "    </tr>\n",
       "    <tr>\n",
       "      <th>4</th>\n",
       "      <td>1030874387</td>\n",
       "      <td>1</td>\n",
       "      <td>동해아구찜</td>\n",
       "      <td>아귀찜,해물찜-일반</td>\n",
       "      <td>335</td>\n",
       "    </tr>\n",
       "    <tr>\n",
       "      <th>...</th>\n",
       "      <td>...</td>\n",
       "      <td>...</td>\n",
       "      <td>...</td>\n",
       "      <td>...</td>\n",
       "      <td>...</td>\n",
       "    </tr>\n",
       "    <tr>\n",
       "      <th>104999</th>\n",
       "      <td>844374526</td>\n",
       "      <td>7</td>\n",
       "      <td>화정족발</td>\n",
       "      <td>화정족발</td>\n",
       "      <td>1</td>\n",
       "    </tr>\n",
       "    <tr>\n",
       "      <th>105000</th>\n",
       "      <td>902536213</td>\n",
       "      <td>7</td>\n",
       "      <td>파파호두 발산점</td>\n",
       "      <td>파파호두</td>\n",
       "      <td>1</td>\n",
       "    </tr>\n",
       "    <tr>\n",
       "      <th>105001</th>\n",
       "      <td>91350666</td>\n",
       "      <td>19</td>\n",
       "      <td>풍경마루</td>\n",
       "      <td>풍경마루</td>\n",
       "      <td>1</td>\n",
       "    </tr>\n",
       "    <tr>\n",
       "      <th>105002</th>\n",
       "      <td>95759559</td>\n",
       "      <td>7</td>\n",
       "      <td>10번가고깃집&amp;쉐프의부대찌개 선릉점</td>\n",
       "      <td>10번가고깃집</td>\n",
       "      <td>1</td>\n",
       "    </tr>\n",
       "    <tr>\n",
       "      <th>105003</th>\n",
       "      <td>981921568</td>\n",
       "      <td>11</td>\n",
       "      <td>도발0948 마곡점</td>\n",
       "      <td>도발0948</td>\n",
       "      <td>1</td>\n",
       "    </tr>\n",
       "  </tbody>\n",
       "</table>\n",
       "<p>105004 rows × 5 columns</p>\n",
       "</div>"
      ],
      "text/plain": [
       "          place.id  review.count           place.name place.category  \\\n",
       "0       1000008735             3                마산아구찜     아귀찜,해물찜-일반   \n",
       "1       1015202717             6                착한아구찜     아귀찜,해물찜-일반   \n",
       "2       1018342724             1          마산아구꽃게해물전문점     아귀찜,해물찜-일반   \n",
       "3       1024335284             7               원마산아구찜     아귀찜,해물찜-일반   \n",
       "4       1030874387             1                동해아구찜     아귀찜,해물찜-일반   \n",
       "...            ...           ...                  ...            ...   \n",
       "104999   844374526             7                 화정족발           화정족발   \n",
       "105000   902536213             7             파파호두 발산점           파파호두   \n",
       "105001    91350666            19                 풍경마루           풍경마루   \n",
       "105002    95759559             7  10번가고깃집&쉐프의부대찌개 선릉점        10번가고깃집   \n",
       "105003   981921568            11           도발0948 마곡점         도발0948   \n",
       "\n",
       "        avg.review  \n",
       "0              335  \n",
       "1              335  \n",
       "2              335  \n",
       "3              335  \n",
       "4              335  \n",
       "...            ...  \n",
       "104999           1  \n",
       "105000           1  \n",
       "105001           1  \n",
       "105002           1  \n",
       "105003           1  \n",
       "\n",
       "[105004 rows x 5 columns]"
      ]
     },
     "execution_count": 25,
     "metadata": {},
     "output_type": "execute_result"
    }
   ],
   "source": [
    "place_review.columns = ['place.id', 'review.count', 'place.name', 'place.category', 'avg.review']\n",
    "place_review"
   ]
  },
  {
   "cell_type": "code",
   "execution_count": 40,
   "metadata": {
    "Collapsed": "false"
   },
   "outputs": [
    {
     "data": {
      "text/html": [
       "<div>\n",
       "<style scoped>\n",
       "    .dataframe tbody tr th:only-of-type {\n",
       "        vertical-align: middle;\n",
       "    }\n",
       "\n",
       "    .dataframe tbody tr th {\n",
       "        vertical-align: top;\n",
       "    }\n",
       "\n",
       "    .dataframe thead th {\n",
       "        text-align: right;\n",
       "    }\n",
       "</style>\n",
       "<table border=\"1\" class=\"dataframe\">\n",
       "  <thead>\n",
       "    <tr style=\"text-align: right;\">\n",
       "      <th></th>\n",
       "      <th>place.category</th>\n",
       "      <th>review.count</th>\n",
       "      <th>place.count</th>\n",
       "      <th>avg.review</th>\n",
       "    </tr>\n",
       "  </thead>\n",
       "  <tbody>\n",
       "    <tr>\n",
       "      <th>0</th>\n",
       "      <td>101번지남산돈까스</td>\n",
       "      <td>242</td>\n",
       "      <td>11</td>\n",
       "      <td>22.000000</td>\n",
       "    </tr>\n",
       "    <tr>\n",
       "      <th>1</th>\n",
       "      <td>101커피컨테이너</td>\n",
       "      <td>26</td>\n",
       "      <td>6</td>\n",
       "      <td>4.333333</td>\n",
       "    </tr>\n",
       "    <tr>\n",
       "      <th>2</th>\n",
       "      <td>10번가고깃집</td>\n",
       "      <td>7</td>\n",
       "      <td>1</td>\n",
       "      <td>7.000000</td>\n",
       "    </tr>\n",
       "    <tr>\n",
       "      <th>3</th>\n",
       "      <td>135튀김집</td>\n",
       "      <td>14</td>\n",
       "      <td>1</td>\n",
       "      <td>14.000000</td>\n",
       "    </tr>\n",
       "    <tr>\n",
       "      <th>4</th>\n",
       "      <td>19티</td>\n",
       "      <td>137</td>\n",
       "      <td>10</td>\n",
       "      <td>13.700000</td>\n",
       "    </tr>\n",
       "    <tr>\n",
       "      <th>...</th>\n",
       "      <td>...</td>\n",
       "      <td>...</td>\n",
       "      <td>...</td>\n",
       "      <td>...</td>\n",
       "    </tr>\n",
       "    <tr>\n",
       "      <th>2066</th>\n",
       "      <td>히노아지</td>\n",
       "      <td>82</td>\n",
       "      <td>9</td>\n",
       "      <td>9.111111</td>\n",
       "    </tr>\n",
       "    <tr>\n",
       "      <th>2067</th>\n",
       "      <td>히바린</td>\n",
       "      <td>47</td>\n",
       "      <td>3</td>\n",
       "      <td>15.666667</td>\n",
       "    </tr>\n",
       "    <tr>\n",
       "      <th>2068</th>\n",
       "      <td>히즈빈스</td>\n",
       "      <td>7</td>\n",
       "      <td>2</td>\n",
       "      <td>3.500000</td>\n",
       "    </tr>\n",
       "    <tr>\n",
       "      <th>2069</th>\n",
       "      <td>히코코</td>\n",
       "      <td>84</td>\n",
       "      <td>12</td>\n",
       "      <td>7.000000</td>\n",
       "    </tr>\n",
       "    <tr>\n",
       "      <th>2070</th>\n",
       "      <td>힐링카페-일반</td>\n",
       "      <td>42</td>\n",
       "      <td>9</td>\n",
       "      <td>4.666667</td>\n",
       "    </tr>\n",
       "  </tbody>\n",
       "</table>\n",
       "<p>2071 rows × 4 columns</p>\n",
       "</div>"
      ],
      "text/plain": [
       "     place.category  review.count  place.count  avg.review\n",
       "0        101번지남산돈까스           242           11   22.000000\n",
       "1         101커피컨테이너            26            6    4.333333\n",
       "2           10번가고깃집             7            1    7.000000\n",
       "3            135튀김집            14            1   14.000000\n",
       "4               19티           137           10   13.700000\n",
       "...             ...           ...          ...         ...\n",
       "2066           히노아지            82            9    9.111111\n",
       "2067            히바린            47            3   15.666667\n",
       "2068           히즈빈스             7            2    3.500000\n",
       "2069            히코코            84           12    7.000000\n",
       "2070        힐링카페-일반            42            9    4.666667\n",
       "\n",
       "[2071 rows x 4 columns]"
      ]
     },
     "execution_count": 40,
     "metadata": {},
     "output_type": "execute_result"
    }
   ],
   "source": [
    "# 각 카테고리의 평균 리뷰개수를 알아보기\n",
    "temp = place_review.groupby('place.category')['review.count'].sum().reset_index()\n",
    "temp['place.count'] = place_review.groupby('place.category')['place.id'].count().reset_index()['place.id']\n",
    "temp['avg.review'] = temp['review.count'] / temp['place.count']\n",
    "temp"
   ]
  },
  {
   "cell_type": "code",
   "execution_count": 41,
   "metadata": {
    "Collapsed": "false"
   },
   "outputs": [],
   "source": [
    "place_review = pd.merge(place_review, temp, on = 'place.category', how = 'inner')"
   ]
  },
  {
   "cell_type": "code",
   "execution_count": 45,
   "metadata": {
    "Collapsed": "false"
   },
   "outputs": [],
   "source": [
    "place_review = place_review[['place.id', 'place.category', 'place.name', 'review.count_x','review.count_y', 'place.count', 'avg.review_y' ]]"
   ]
  },
  {
   "cell_type": "code",
   "execution_count": 48,
   "metadata": {
    "Collapsed": "false"
   },
   "outputs": [],
   "source": [
    "place_review = place_review.rename(columns = {'review.count_x' : 'review.count', 'review.count_y' : 'review.allcount', 'avg.review_y' : 'review.avgcount'})"
   ]
  },
  {
   "cell_type": "code",
   "execution_count": 49,
   "metadata": {
    "Collapsed": "false"
   },
   "outputs": [
    {
     "data": {
      "text/html": [
       "<div>\n",
       "<style scoped>\n",
       "    .dataframe tbody tr th:only-of-type {\n",
       "        vertical-align: middle;\n",
       "    }\n",
       "\n",
       "    .dataframe tbody tr th {\n",
       "        vertical-align: top;\n",
       "    }\n",
       "\n",
       "    .dataframe thead th {\n",
       "        text-align: right;\n",
       "    }\n",
       "</style>\n",
       "<table border=\"1\" class=\"dataframe\">\n",
       "  <thead>\n",
       "    <tr style=\"text-align: right;\">\n",
       "      <th></th>\n",
       "      <th>place.id</th>\n",
       "      <th>place.category</th>\n",
       "      <th>place.name</th>\n",
       "      <th>review.count</th>\n",
       "      <th>review.allcount</th>\n",
       "      <th>place.count</th>\n",
       "      <th>review.avgcount</th>\n",
       "    </tr>\n",
       "  </thead>\n",
       "  <tbody>\n",
       "    <tr>\n",
       "      <th>0</th>\n",
       "      <td>1000008735</td>\n",
       "      <td>아귀찜,해물찜-일반</td>\n",
       "      <td>마산아구찜</td>\n",
       "      <td>3</td>\n",
       "      <td>2443</td>\n",
       "      <td>333</td>\n",
       "      <td>7.336336</td>\n",
       "    </tr>\n",
       "    <tr>\n",
       "      <th>1</th>\n",
       "      <td>1015202717</td>\n",
       "      <td>아귀찜,해물찜-일반</td>\n",
       "      <td>착한아구찜</td>\n",
       "      <td>6</td>\n",
       "      <td>2443</td>\n",
       "      <td>333</td>\n",
       "      <td>7.336336</td>\n",
       "    </tr>\n",
       "    <tr>\n",
       "      <th>2</th>\n",
       "      <td>1018342724</td>\n",
       "      <td>아귀찜,해물찜-일반</td>\n",
       "      <td>마산아구꽃게해물전문점</td>\n",
       "      <td>1</td>\n",
       "      <td>2443</td>\n",
       "      <td>333</td>\n",
       "      <td>7.336336</td>\n",
       "    </tr>\n",
       "    <tr>\n",
       "      <th>3</th>\n",
       "      <td>1024335284</td>\n",
       "      <td>아귀찜,해물찜-일반</td>\n",
       "      <td>원마산아구찜</td>\n",
       "      <td>7</td>\n",
       "      <td>2443</td>\n",
       "      <td>333</td>\n",
       "      <td>7.336336</td>\n",
       "    </tr>\n",
       "    <tr>\n",
       "      <th>4</th>\n",
       "      <td>1030874387</td>\n",
       "      <td>아귀찜,해물찜-일반</td>\n",
       "      <td>동해아구찜</td>\n",
       "      <td>1</td>\n",
       "      <td>2443</td>\n",
       "      <td>333</td>\n",
       "      <td>7.336336</td>\n",
       "    </tr>\n",
       "    <tr>\n",
       "      <th>...</th>\n",
       "      <td>...</td>\n",
       "      <td>...</td>\n",
       "      <td>...</td>\n",
       "      <td>...</td>\n",
       "      <td>...</td>\n",
       "      <td>...</td>\n",
       "      <td>...</td>\n",
       "    </tr>\n",
       "    <tr>\n",
       "      <th>104999</th>\n",
       "      <td>844374526</td>\n",
       "      <td>화정족발</td>\n",
       "      <td>화정족발</td>\n",
       "      <td>7</td>\n",
       "      <td>7</td>\n",
       "      <td>1</td>\n",
       "      <td>7.000000</td>\n",
       "    </tr>\n",
       "    <tr>\n",
       "      <th>105000</th>\n",
       "      <td>902536213</td>\n",
       "      <td>파파호두</td>\n",
       "      <td>파파호두 발산점</td>\n",
       "      <td>7</td>\n",
       "      <td>7</td>\n",
       "      <td>1</td>\n",
       "      <td>7.000000</td>\n",
       "    </tr>\n",
       "    <tr>\n",
       "      <th>105001</th>\n",
       "      <td>91350666</td>\n",
       "      <td>풍경마루</td>\n",
       "      <td>풍경마루</td>\n",
       "      <td>19</td>\n",
       "      <td>19</td>\n",
       "      <td>1</td>\n",
       "      <td>19.000000</td>\n",
       "    </tr>\n",
       "    <tr>\n",
       "      <th>105002</th>\n",
       "      <td>95759559</td>\n",
       "      <td>10번가고깃집</td>\n",
       "      <td>10번가고깃집&amp;쉐프의부대찌개 선릉점</td>\n",
       "      <td>7</td>\n",
       "      <td>7</td>\n",
       "      <td>1</td>\n",
       "      <td>7.000000</td>\n",
       "    </tr>\n",
       "    <tr>\n",
       "      <th>105003</th>\n",
       "      <td>981921568</td>\n",
       "      <td>도발0948</td>\n",
       "      <td>도발0948 마곡점</td>\n",
       "      <td>11</td>\n",
       "      <td>11</td>\n",
       "      <td>1</td>\n",
       "      <td>11.000000</td>\n",
       "    </tr>\n",
       "  </tbody>\n",
       "</table>\n",
       "<p>105004 rows × 7 columns</p>\n",
       "</div>"
      ],
      "text/plain": [
       "          place.id place.category           place.name  review.count  \\\n",
       "0       1000008735     아귀찜,해물찜-일반                마산아구찜             3   \n",
       "1       1015202717     아귀찜,해물찜-일반                착한아구찜             6   \n",
       "2       1018342724     아귀찜,해물찜-일반          마산아구꽃게해물전문점             1   \n",
       "3       1024335284     아귀찜,해물찜-일반               원마산아구찜             7   \n",
       "4       1030874387     아귀찜,해물찜-일반                동해아구찜             1   \n",
       "...            ...            ...                  ...           ...   \n",
       "104999   844374526           화정족발                 화정족발             7   \n",
       "105000   902536213           파파호두             파파호두 발산점             7   \n",
       "105001    91350666           풍경마루                 풍경마루            19   \n",
       "105002    95759559        10번가고깃집  10번가고깃집&쉐프의부대찌개 선릉점             7   \n",
       "105003   981921568         도발0948           도발0948 마곡점            11   \n",
       "\n",
       "        review.allcount  place.count  review.avgcount  \n",
       "0                  2443          333         7.336336  \n",
       "1                  2443          333         7.336336  \n",
       "2                  2443          333         7.336336  \n",
       "3                  2443          333         7.336336  \n",
       "4                  2443          333         7.336336  \n",
       "...                 ...          ...              ...  \n",
       "104999                7            1         7.000000  \n",
       "105000                7            1         7.000000  \n",
       "105001               19            1        19.000000  \n",
       "105002                7            1         7.000000  \n",
       "105003               11            1        11.000000  \n",
       "\n",
       "[105004 rows x 7 columns]"
      ]
     },
     "execution_count": 49,
     "metadata": {},
     "output_type": "execute_result"
    }
   ],
   "source": [
    "place_review"
   ]
  },
  {
   "cell_type": "code",
   "execution_count": 60,
   "metadata": {
    "Collapsed": "false"
   },
   "outputs": [],
   "source": [
    "# 프랜차이즈 검수와 합치기\n",
    "place_review = pd.merge(place_review, is_fch, on = 'place.category', how = 'right')"
   ]
  },
  {
   "cell_type": "code",
   "execution_count": 62,
   "metadata": {
    "Collapsed": "false"
   },
   "outputs": [],
   "source": [
    "place_review = place_review.drop(['검수자', '비고'], axis = 1)"
   ]
  },
  {
   "cell_type": "code",
   "execution_count": 66,
   "metadata": {
    "Collapsed": "false"
   },
   "outputs": [],
   "source": [
    "# place 당 리뷰개수가 해당 카테고리 리뷰 평균과의 비율\n",
    "place_review['isvalid'] = place_review['review.count'] / place_review['review.avgcount']"
   ]
  },
  {
   "cell_type": "code",
   "execution_count": 67,
   "metadata": {
    "Collapsed": "false"
   },
   "outputs": [
    {
     "data": {
      "text/html": [
       "<div>\n",
       "<style scoped>\n",
       "    .dataframe tbody tr th:only-of-type {\n",
       "        vertical-align: middle;\n",
       "    }\n",
       "\n",
       "    .dataframe tbody tr th {\n",
       "        vertical-align: top;\n",
       "    }\n",
       "\n",
       "    .dataframe thead th {\n",
       "        text-align: right;\n",
       "    }\n",
       "</style>\n",
       "<table border=\"1\" class=\"dataframe\">\n",
       "  <thead>\n",
       "    <tr style=\"text-align: right;\">\n",
       "      <th></th>\n",
       "      <th>place.id</th>\n",
       "      <th>place.category</th>\n",
       "      <th>place.name</th>\n",
       "      <th>review.count</th>\n",
       "      <th>review.allcount</th>\n",
       "      <th>place.count</th>\n",
       "      <th>review.avgcount</th>\n",
       "      <th>is_fch</th>\n",
       "      <th>isvalid</th>\n",
       "    </tr>\n",
       "  </thead>\n",
       "  <tbody>\n",
       "    <tr>\n",
       "      <th>27</th>\n",
       "      <td>11679292</td>\n",
       "      <td>아귀찜,해물찜-일반</td>\n",
       "      <td>옛날집낙원아구찜</td>\n",
       "      <td>22</td>\n",
       "      <td>2443</td>\n",
       "      <td>333</td>\n",
       "      <td>7.336336</td>\n",
       "      <td>0</td>\n",
       "      <td>2.998772</td>\n",
       "    </tr>\n",
       "    <tr>\n",
       "      <th>28</th>\n",
       "      <td>11679479</td>\n",
       "      <td>아귀찜,해물찜-일반</td>\n",
       "      <td>통나무식당 낙원본점</td>\n",
       "      <td>24</td>\n",
       "      <td>2443</td>\n",
       "      <td>333</td>\n",
       "      <td>7.336336</td>\n",
       "      <td>0</td>\n",
       "      <td>3.271388</td>\n",
       "    </tr>\n",
       "    <tr>\n",
       "      <th>41</th>\n",
       "      <td>12018058</td>\n",
       "      <td>아귀찜,해물찜-일반</td>\n",
       "      <td>알부자알요리</td>\n",
       "      <td>67</td>\n",
       "      <td>2443</td>\n",
       "      <td>333</td>\n",
       "      <td>7.336336</td>\n",
       "      <td>0</td>\n",
       "      <td>9.132624</td>\n",
       "    </tr>\n",
       "    <tr>\n",
       "      <th>85</th>\n",
       "      <td>1385905638</td>\n",
       "      <td>아귀찜,해물찜-일반</td>\n",
       "      <td>해다원해물찜</td>\n",
       "      <td>21</td>\n",
       "      <td>2443</td>\n",
       "      <td>333</td>\n",
       "      <td>7.336336</td>\n",
       "      <td>0</td>\n",
       "      <td>2.862464</td>\n",
       "    </tr>\n",
       "    <tr>\n",
       "      <th>102</th>\n",
       "      <td>1505588868</td>\n",
       "      <td>아귀찜,해물찜-일반</td>\n",
       "      <td>개나리아구찜 송파점</td>\n",
       "      <td>27</td>\n",
       "      <td>2443</td>\n",
       "      <td>333</td>\n",
       "      <td>7.336336</td>\n",
       "      <td>0</td>\n",
       "      <td>3.680311</td>\n",
       "    </tr>\n",
       "    <tr>\n",
       "      <th>...</th>\n",
       "      <td>...</td>\n",
       "      <td>...</td>\n",
       "      <td>...</td>\n",
       "      <td>...</td>\n",
       "      <td>...</td>\n",
       "      <td>...</td>\n",
       "      <td>...</td>\n",
       "      <td>...</td>\n",
       "      <td>...</td>\n",
       "    </tr>\n",
       "    <tr>\n",
       "      <th>99922</th>\n",
       "      <td>575510498</td>\n",
       "      <td>폴리스</td>\n",
       "      <td>폴리스 파미에스테이션점</td>\n",
       "      <td>52</td>\n",
       "      <td>194</td>\n",
       "      <td>4</td>\n",
       "      <td>48.500000</td>\n",
       "      <td>1</td>\n",
       "      <td>1.072165</td>\n",
       "    </tr>\n",
       "    <tr>\n",
       "      <th>99923</th>\n",
       "      <td>909606899</td>\n",
       "      <td>폴리스</td>\n",
       "      <td>폴리스 광화문D타워점</td>\n",
       "      <td>55</td>\n",
       "      <td>194</td>\n",
       "      <td>4</td>\n",
       "      <td>48.500000</td>\n",
       "      <td>1</td>\n",
       "      <td>1.134021</td>\n",
       "    </tr>\n",
       "    <tr>\n",
       "      <th>99926</th>\n",
       "      <td>38473337</td>\n",
       "      <td>95도씨카페</td>\n",
       "      <td>95도씨카페 가산벽산6차점</td>\n",
       "      <td>24</td>\n",
       "      <td>43</td>\n",
       "      <td>3</td>\n",
       "      <td>14.333333</td>\n",
       "      <td>1</td>\n",
       "      <td>1.674419</td>\n",
       "    </tr>\n",
       "    <tr>\n",
       "      <th>99927</th>\n",
       "      <td>41986281</td>\n",
       "      <td>고수닭갈비</td>\n",
       "      <td>고수닭갈비 강남2호점</td>\n",
       "      <td>24</td>\n",
       "      <td>24</td>\n",
       "      <td>1</td>\n",
       "      <td>24.000000</td>\n",
       "      <td>1</td>\n",
       "      <td>1.000000</td>\n",
       "    </tr>\n",
       "    <tr>\n",
       "      <th>99928</th>\n",
       "      <td>790314567</td>\n",
       "      <td>곱창선생</td>\n",
       "      <td>곱창선생 논현점</td>\n",
       "      <td>21</td>\n",
       "      <td>21</td>\n",
       "      <td>1</td>\n",
       "      <td>21.000000</td>\n",
       "      <td>1</td>\n",
       "      <td>1.000000</td>\n",
       "    </tr>\n",
       "  </tbody>\n",
       "</table>\n",
       "<p>13551 rows × 9 columns</p>\n",
       "</div>"
      ],
      "text/plain": [
       "         place.id place.category      place.name  review.count  \\\n",
       "27       11679292     아귀찜,해물찜-일반        옛날집낙원아구찜            22   \n",
       "28       11679479     아귀찜,해물찜-일반      통나무식당 낙원본점            24   \n",
       "41       12018058     아귀찜,해물찜-일반          알부자알요리            67   \n",
       "85     1385905638     아귀찜,해물찜-일반          해다원해물찜            21   \n",
       "102    1505588868     아귀찜,해물찜-일반      개나리아구찜 송파점            27   \n",
       "...           ...            ...             ...           ...   \n",
       "99922   575510498            폴리스    폴리스 파미에스테이션점            52   \n",
       "99923   909606899            폴리스     폴리스 광화문D타워점            55   \n",
       "99926    38473337         95도씨카페  95도씨카페 가산벽산6차점            24   \n",
       "99927    41986281          고수닭갈비     고수닭갈비 강남2호점            24   \n",
       "99928   790314567           곱창선생        곱창선생 논현점            21   \n",
       "\n",
       "       review.allcount  place.count  review.avgcount is_fch   isvalid  \n",
       "27                2443          333         7.336336      0  2.998772  \n",
       "28                2443          333         7.336336      0  3.271388  \n",
       "41                2443          333         7.336336      0  9.132624  \n",
       "85                2443          333         7.336336      0  2.862464  \n",
       "102               2443          333         7.336336      0  3.680311  \n",
       "...                ...          ...              ...    ...       ...  \n",
       "99922              194            4        48.500000      1  1.072165  \n",
       "99923              194            4        48.500000      1  1.134021  \n",
       "99926               43            3        14.333333      1  1.674419  \n",
       "99927               24            1        24.000000      1  1.000000  \n",
       "99928               21            1        21.000000      1  1.000000  \n",
       "\n",
       "[13551 rows x 9 columns]"
      ]
     },
     "execution_count": 67,
     "metadata": {},
     "output_type": "execute_result"
    }
   ],
   "source": [
    "# place 리뷰개수가 해당 카테고리 평균을 넘고, 리뷰개수가 20개 이상인 place는 13551개\n",
    "place_review.loc[(place_review['isvalid'] >= 1) & (place_review['review.count'] > 20)]"
   ]
  },
  {
   "cell_type": "markdown",
   "metadata": {
    "Collapsed": "true",
    "toc-hr-collapsed": true,
    "toc-nb-collapsed": true
   },
   "source": [
    "# 프랜차이즈로 분류된 place의 평균 평점 4.5 이상인 곳만 살리기"
   ]
  },
  {
   "cell_type": "code",
   "execution_count": 71,
   "metadata": {
    "Collapsed": "false"
   },
   "outputs": [
    {
     "data": {
      "text/html": [
       "<div>\n",
       "<style scoped>\n",
       "    .dataframe tbody tr th:only-of-type {\n",
       "        vertical-align: middle;\n",
       "    }\n",
       "\n",
       "    .dataframe tbody tr th {\n",
       "        vertical-align: top;\n",
       "    }\n",
       "\n",
       "    .dataframe thead th {\n",
       "        text-align: right;\n",
       "    }\n",
       "</style>\n",
       "<table border=\"1\" class=\"dataframe\">\n",
       "  <thead>\n",
       "    <tr style=\"text-align: right;\">\n",
       "      <th></th>\n",
       "      <th>place.id</th>\n",
       "      <th>id</th>\n",
       "      <th>place.name</th>\n",
       "      <th>place.category</th>\n",
       "      <th>rating</th>\n",
       "    </tr>\n",
       "  </thead>\n",
       "  <tbody>\n",
       "    <tr>\n",
       "      <th>0</th>\n",
       "      <td>1000008735</td>\n",
       "      <td>3</td>\n",
       "      <td>마산아구찜</td>\n",
       "      <td>아귀찜,해물찜-일반</td>\n",
       "      <td>4.666667</td>\n",
       "    </tr>\n",
       "    <tr>\n",
       "      <th>1</th>\n",
       "      <td>1000020305</td>\n",
       "      <td>10</td>\n",
       "      <td>크림데이</td>\n",
       "      <td>케이크전문-일반</td>\n",
       "      <td>4.250000</td>\n",
       "    </tr>\n",
       "    <tr>\n",
       "      <th>2</th>\n",
       "      <td>1000021772</td>\n",
       "      <td>17</td>\n",
       "      <td>머킹의 로얄가든</td>\n",
       "      <td>종합분식</td>\n",
       "      <td>3.735294</td>\n",
       "    </tr>\n",
       "    <tr>\n",
       "      <th>3</th>\n",
       "      <td>1000026365</td>\n",
       "      <td>14</td>\n",
       "      <td>마요요가</td>\n",
       "      <td>셔츠,체육복제작</td>\n",
       "      <td>4.250000</td>\n",
       "    </tr>\n",
       "    <tr>\n",
       "      <th>4</th>\n",
       "      <td>1000034657</td>\n",
       "      <td>15</td>\n",
       "      <td>금손찬</td>\n",
       "      <td>반찬가게-일반</td>\n",
       "      <td>3.900000</td>\n",
       "    </tr>\n",
       "    <tr>\n",
       "      <th>...</th>\n",
       "      <td>...</td>\n",
       "      <td>...</td>\n",
       "      <td>...</td>\n",
       "      <td>...</td>\n",
       "      <td>...</td>\n",
       "    </tr>\n",
       "    <tr>\n",
       "      <th>214877</th>\n",
       "      <td>999863325</td>\n",
       "      <td>4</td>\n",
       "      <td>갑자기피크닉</td>\n",
       "      <td>오락,레저용품-일반</td>\n",
       "      <td>4.750000</td>\n",
       "    </tr>\n",
       "    <tr>\n",
       "      <th>214878</th>\n",
       "      <td>999908749</td>\n",
       "      <td>8</td>\n",
       "      <td>세븐일레븐 신용산점</td>\n",
       "      <td>세븐일레븐</td>\n",
       "      <td>4.625000</td>\n",
       "    </tr>\n",
       "    <tr>\n",
       "      <th>214879</th>\n",
       "      <td>999964959</td>\n",
       "      <td>5</td>\n",
       "      <td>웰스팜</td>\n",
       "      <td>기업-일반</td>\n",
       "      <td>4.600000</td>\n",
       "    </tr>\n",
       "    <tr>\n",
       "      <th>214880</th>\n",
       "      <td>nan</td>\n",
       "      <td>112</td>\n",
       "      <td>흘리리릿디</td>\n",
       "      <td>협회,단체-일반</td>\n",
       "      <td>4.285714</td>\n",
       "    </tr>\n",
       "    <tr>\n",
       "      <th>214881</th>\n",
       "      <td>none</td>\n",
       "      <td>150</td>\n",
       "      <td>황금문명 엘도라도 - 신비의 보물을 찾아서</td>\n",
       "      <td>한정식-일반</td>\n",
       "      <td>4.146667</td>\n",
       "    </tr>\n",
       "  </tbody>\n",
       "</table>\n",
       "<p>214882 rows × 5 columns</p>\n",
       "</div>"
      ],
      "text/plain": [
       "          place.id   id               place.name place.category    rating\n",
       "0       1000008735    3                    마산아구찜     아귀찜,해물찜-일반  4.666667\n",
       "1       1000020305   10                     크림데이       케이크전문-일반  4.250000\n",
       "2       1000021772   17                 머킹의 로얄가든           종합분식  3.735294\n",
       "3       1000026365   14                     마요요가       셔츠,체육복제작  4.250000\n",
       "4       1000034657   15                      금손찬        반찬가게-일반  3.900000\n",
       "...            ...  ...                      ...            ...       ...\n",
       "214877   999863325    4                   갑자기피크닉     오락,레저용품-일반  4.750000\n",
       "214878   999908749    8               세븐일레븐 신용산점          세븐일레븐  4.625000\n",
       "214879   999964959    5                      웰스팜          기업-일반  4.600000\n",
       "214880         nan  112                    흘리리릿디       협회,단체-일반  4.285714\n",
       "214881        none  150  황금문명 엘도라도 - 신비의 보물을 찾아서         한정식-일반  4.146667\n",
       "\n",
       "[214882 rows x 5 columns]"
      ]
     },
     "execution_count": 71,
     "metadata": {},
     "output_type": "execute_result"
    }
   ],
   "source": [
    "# 서울지역의 place별 평균 리뷰\n",
    "df"
   ]
  },
  {
   "cell_type": "code",
   "execution_count": 76,
   "metadata": {
    "Collapsed": "false"
   },
   "outputs": [],
   "source": [
    "place_review = pd.merge(place_review, df[['place.id', 'rating']], on = 'place.id', how = 'left')"
   ]
  },
  {
   "cell_type": "code",
   "execution_count": 90,
   "metadata": {
    "Collapsed": "false"
   },
   "outputs": [
    {
     "data": {
      "text/plain": [
       "67643"
      ]
     },
     "execution_count": 90,
     "metadata": {},
     "output_type": "execute_result"
    }
   ],
   "source": [
    "# 프랜차이즈가 아닌 place 67643개\n",
    "place_review.loc[place_review['is_fch'] == 0, 'place.name'].nunique()"
   ]
  },
  {
   "cell_type": "code",
   "execution_count": 84,
   "metadata": {
    "Collapsed": "false"
   },
   "outputs": [
    {
     "data": {
      "text/plain": [
       "248"
      ]
     },
     "execution_count": 84,
     "metadata": {},
     "output_type": "execute_result"
    }
   ],
   "source": [
    "# 프랜차이즈가 아닌 카테고리 248개\n",
    "place_review.loc[place_review['is_fch'] == 0, 'place.category'].nunique()"
   ]
  },
  {
   "cell_type": "code",
   "execution_count": 91,
   "metadata": {
    "Collapsed": "false"
   },
   "outputs": [
    {
     "data": {
      "text/plain": [
       "21686"
      ]
     },
     "execution_count": 91,
     "metadata": {},
     "output_type": "execute_result"
    }
   ],
   "source": [
    "# 프랜차이즈가 아닌 place 21686개\n",
    "place_review.loc[place_review['is_fch'] == 1, 'place.name'].nunique()"
   ]
  },
  {
   "cell_type": "code",
   "execution_count": 83,
   "metadata": {
    "Collapsed": "false"
   },
   "outputs": [
    {
     "data": {
      "text/plain": [
       "944"
      ]
     },
     "execution_count": 83,
     "metadata": {},
     "output_type": "execute_result"
    }
   ],
   "source": [
    "# 프랜차이즈인 카테고리 944개\n",
    "place_review.loc[place_review['is_fch'] == 1, 'place.category'].nunique()"
   ]
  },
  {
   "cell_type": "code",
   "execution_count": 88,
   "metadata": {
    "Collapsed": "false"
   },
   "outputs": [],
   "source": [
    "place_review['is_select'] = place_review.loc[place_review['is_fch'] == 1, 'rating'].apply(lambda x : 1 if x >= 4.5 else 0)"
   ]
  },
  {
   "cell_type": "code",
   "execution_count": 93,
   "metadata": {
    "Collapsed": "false"
   },
   "outputs": [],
   "source": [
    "place_review.loc[place_review['is_select'].isnull(), 'is_select'] = 1"
   ]
  },
  {
   "cell_type": "code",
   "execution_count": 97,
   "metadata": {
    "Collapsed": "false"
   },
   "outputs": [
    {
     "data": {
      "text/html": [
       "<div>\n",
       "<style scoped>\n",
       "    .dataframe tbody tr th:only-of-type {\n",
       "        vertical-align: middle;\n",
       "    }\n",
       "\n",
       "    .dataframe tbody tr th {\n",
       "        vertical-align: top;\n",
       "    }\n",
       "\n",
       "    .dataframe thead th {\n",
       "        text-align: right;\n",
       "    }\n",
       "</style>\n",
       "<table border=\"1\" class=\"dataframe\">\n",
       "  <thead>\n",
       "    <tr style=\"text-align: right;\">\n",
       "      <th></th>\n",
       "      <th>place.id</th>\n",
       "      <th>place.category</th>\n",
       "      <th>place.name</th>\n",
       "      <th>review.count</th>\n",
       "      <th>review.allcount</th>\n",
       "      <th>place.count</th>\n",
       "      <th>review.avgcount</th>\n",
       "      <th>is_fch</th>\n",
       "      <th>isvalid</th>\n",
       "      <th>rating</th>\n",
       "      <th>is_select</th>\n",
       "    </tr>\n",
       "  </thead>\n",
       "  <tbody>\n",
       "    <tr>\n",
       "      <th>0</th>\n",
       "      <td>1000008735</td>\n",
       "      <td>아귀찜,해물찜-일반</td>\n",
       "      <td>마산아구찜</td>\n",
       "      <td>3</td>\n",
       "      <td>2443</td>\n",
       "      <td>333</td>\n",
       "      <td>7.336336</td>\n",
       "      <td>0</td>\n",
       "      <td>0.408923</td>\n",
       "      <td>4.666667</td>\n",
       "      <td>1.0</td>\n",
       "    </tr>\n",
       "    <tr>\n",
       "      <th>1</th>\n",
       "      <td>1015202717</td>\n",
       "      <td>아귀찜,해물찜-일반</td>\n",
       "      <td>착한아구찜</td>\n",
       "      <td>6</td>\n",
       "      <td>2443</td>\n",
       "      <td>333</td>\n",
       "      <td>7.336336</td>\n",
       "      <td>0</td>\n",
       "      <td>0.817847</td>\n",
       "      <td>4.416667</td>\n",
       "      <td>1.0</td>\n",
       "    </tr>\n",
       "    <tr>\n",
       "      <th>2</th>\n",
       "      <td>1018342724</td>\n",
       "      <td>아귀찜,해물찜-일반</td>\n",
       "      <td>마산아구꽃게해물전문점</td>\n",
       "      <td>1</td>\n",
       "      <td>2443</td>\n",
       "      <td>333</td>\n",
       "      <td>7.336336</td>\n",
       "      <td>0</td>\n",
       "      <td>0.136308</td>\n",
       "      <td>5.000000</td>\n",
       "      <td>1.0</td>\n",
       "    </tr>\n",
       "    <tr>\n",
       "      <th>3</th>\n",
       "      <td>1024335284</td>\n",
       "      <td>아귀찜,해물찜-일반</td>\n",
       "      <td>원마산아구찜</td>\n",
       "      <td>7</td>\n",
       "      <td>2443</td>\n",
       "      <td>333</td>\n",
       "      <td>7.336336</td>\n",
       "      <td>0</td>\n",
       "      <td>0.954155</td>\n",
       "      <td>4.214286</td>\n",
       "      <td>1.0</td>\n",
       "    </tr>\n",
       "    <tr>\n",
       "      <th>4</th>\n",
       "      <td>1030874387</td>\n",
       "      <td>아귀찜,해물찜-일반</td>\n",
       "      <td>동해아구찜</td>\n",
       "      <td>1</td>\n",
       "      <td>2443</td>\n",
       "      <td>333</td>\n",
       "      <td>7.336336</td>\n",
       "      <td>0</td>\n",
       "      <td>0.136308</td>\n",
       "      <td>4.000000</td>\n",
       "      <td>1.0</td>\n",
       "    </tr>\n",
       "    <tr>\n",
       "      <th>...</th>\n",
       "      <td>...</td>\n",
       "      <td>...</td>\n",
       "      <td>...</td>\n",
       "      <td>...</td>\n",
       "      <td>...</td>\n",
       "      <td>...</td>\n",
       "      <td>...</td>\n",
       "      <td>...</td>\n",
       "      <td>...</td>\n",
       "      <td>...</td>\n",
       "      <td>...</td>\n",
       "    </tr>\n",
       "    <tr>\n",
       "      <th>99924</th>\n",
       "      <td>38473300</td>\n",
       "      <td>95도씨카페</td>\n",
       "      <td>95도씨카페 롯데it캐슬점</td>\n",
       "      <td>2</td>\n",
       "      <td>43</td>\n",
       "      <td>3</td>\n",
       "      <td>14.333333</td>\n",
       "      <td>1</td>\n",
       "      <td>0.139535</td>\n",
       "      <td>4.000000</td>\n",
       "      <td>0.0</td>\n",
       "    </tr>\n",
       "    <tr>\n",
       "      <th>99925</th>\n",
       "      <td>38473330</td>\n",
       "      <td>95도씨카페</td>\n",
       "      <td>95도씨카페 구로지플러스점</td>\n",
       "      <td>17</td>\n",
       "      <td>43</td>\n",
       "      <td>3</td>\n",
       "      <td>14.333333</td>\n",
       "      <td>1</td>\n",
       "      <td>1.186047</td>\n",
       "      <td>3.647059</td>\n",
       "      <td>0.0</td>\n",
       "    </tr>\n",
       "    <tr>\n",
       "      <th>99926</th>\n",
       "      <td>38473337</td>\n",
       "      <td>95도씨카페</td>\n",
       "      <td>95도씨카페 가산벽산6차점</td>\n",
       "      <td>24</td>\n",
       "      <td>43</td>\n",
       "      <td>3</td>\n",
       "      <td>14.333333</td>\n",
       "      <td>1</td>\n",
       "      <td>1.674419</td>\n",
       "      <td>4.666667</td>\n",
       "      <td>1.0</td>\n",
       "    </tr>\n",
       "    <tr>\n",
       "      <th>99927</th>\n",
       "      <td>41986281</td>\n",
       "      <td>고수닭갈비</td>\n",
       "      <td>고수닭갈비 강남2호점</td>\n",
       "      <td>24</td>\n",
       "      <td>24</td>\n",
       "      <td>1</td>\n",
       "      <td>24.000000</td>\n",
       "      <td>1</td>\n",
       "      <td>1.000000</td>\n",
       "      <td>4.000000</td>\n",
       "      <td>0.0</td>\n",
       "    </tr>\n",
       "    <tr>\n",
       "      <th>99928</th>\n",
       "      <td>790314567</td>\n",
       "      <td>곱창선생</td>\n",
       "      <td>곱창선생 논현점</td>\n",
       "      <td>21</td>\n",
       "      <td>21</td>\n",
       "      <td>1</td>\n",
       "      <td>21.000000</td>\n",
       "      <td>1</td>\n",
       "      <td>1.000000</td>\n",
       "      <td>4.476190</td>\n",
       "      <td>0.0</td>\n",
       "    </tr>\n",
       "  </tbody>\n",
       "</table>\n",
       "<p>99929 rows × 11 columns</p>\n",
       "</div>"
      ],
      "text/plain": [
       "         place.id place.category      place.name  review.count  \\\n",
       "0      1000008735     아귀찜,해물찜-일반           마산아구찜             3   \n",
       "1      1015202717     아귀찜,해물찜-일반           착한아구찜             6   \n",
       "2      1018342724     아귀찜,해물찜-일반     마산아구꽃게해물전문점             1   \n",
       "3      1024335284     아귀찜,해물찜-일반          원마산아구찜             7   \n",
       "4      1030874387     아귀찜,해물찜-일반           동해아구찜             1   \n",
       "...           ...            ...             ...           ...   \n",
       "99924    38473300         95도씨카페  95도씨카페 롯데it캐슬점             2   \n",
       "99925    38473330         95도씨카페  95도씨카페 구로지플러스점            17   \n",
       "99926    38473337         95도씨카페  95도씨카페 가산벽산6차점            24   \n",
       "99927    41986281          고수닭갈비     고수닭갈비 강남2호점            24   \n",
       "99928   790314567           곱창선생        곱창선생 논현점            21   \n",
       "\n",
       "       review.allcount  place.count  review.avgcount is_fch   isvalid  \\\n",
       "0                 2443          333         7.336336      0  0.408923   \n",
       "1                 2443          333         7.336336      0  0.817847   \n",
       "2                 2443          333         7.336336      0  0.136308   \n",
       "3                 2443          333         7.336336      0  0.954155   \n",
       "4                 2443          333         7.336336      0  0.136308   \n",
       "...                ...          ...              ...    ...       ...   \n",
       "99924               43            3        14.333333      1  0.139535   \n",
       "99925               43            3        14.333333      1  1.186047   \n",
       "99926               43            3        14.333333      1  1.674419   \n",
       "99927               24            1        24.000000      1  1.000000   \n",
       "99928               21            1        21.000000      1  1.000000   \n",
       "\n",
       "         rating  is_select  \n",
       "0      4.666667        1.0  \n",
       "1      4.416667        1.0  \n",
       "2      5.000000        1.0  \n",
       "3      4.214286        1.0  \n",
       "4      4.000000        1.0  \n",
       "...         ...        ...  \n",
       "99924  4.000000        0.0  \n",
       "99925  3.647059        0.0  \n",
       "99926  4.666667        1.0  \n",
       "99927  4.000000        0.0  \n",
       "99928  4.476190        0.0  \n",
       "\n",
       "[99929 rows x 11 columns]"
      ]
     },
     "execution_count": 97,
     "metadata": {},
     "output_type": "execute_result"
    }
   ],
   "source": [
    "place_review"
   ]
  },
  {
   "cell_type": "code",
   "execution_count": 122,
   "metadata": {
    "Collapsed": "false"
   },
   "outputs": [
    {
     "data": {
      "text/plain": [
       "1193"
      ]
     },
     "execution_count": 122,
     "metadata": {},
     "output_type": "execute_result"
    }
   ],
   "source": [
    "place_review['place.category'].nunique()"
   ]
  },
  {
   "cell_type": "code",
   "execution_count": 99,
   "metadata": {
    "Collapsed": "false"
   },
   "outputs": [],
   "source": [
    "temp = place_review.loc[(place_review['is_select'] == 1) & (place_review['isvalid'] >= 1) & (place_review['review.count'] >= 20)]"
   ]
  },
  {
   "cell_type": "code",
   "execution_count": 102,
   "metadata": {
    "Collapsed": "false"
   },
   "outputs": [
    {
     "data": {
      "text/plain": [
       "(734, 9517)"
      ]
     },
     "execution_count": 102,
     "metadata": {},
     "output_type": "execute_result"
    }
   ],
   "source": [
    "temp['place.category'].nunique(), temp['place.name'].nunique()"
   ]
  },
  {
   "cell_type": "code",
   "execution_count": 109,
   "metadata": {
    "Collapsed": "false"
   },
   "outputs": [
    {
     "data": {
      "text/html": [
       "<div>\n",
       "<style scoped>\n",
       "    .dataframe tbody tr th:only-of-type {\n",
       "        vertical-align: middle;\n",
       "    }\n",
       "\n",
       "    .dataframe tbody tr th {\n",
       "        vertical-align: top;\n",
       "    }\n",
       "\n",
       "    .dataframe thead th {\n",
       "        text-align: right;\n",
       "    }\n",
       "</style>\n",
       "<table border=\"1\" class=\"dataframe\">\n",
       "  <thead>\n",
       "    <tr style=\"text-align: right;\">\n",
       "      <th></th>\n",
       "      <th>place.id</th>\n",
       "      <th>place.category</th>\n",
       "      <th>place.name</th>\n",
       "      <th>review.count</th>\n",
       "      <th>review.allcount</th>\n",
       "      <th>place.count</th>\n",
       "      <th>review.avgcount</th>\n",
       "      <th>is_fch</th>\n",
       "      <th>isvalid</th>\n",
       "      <th>rating</th>\n",
       "      <th>is_select</th>\n",
       "    </tr>\n",
       "  </thead>\n",
       "  <tbody>\n",
       "    <tr>\n",
       "      <th>81571</th>\n",
       "      <td>1024248869</td>\n",
       "      <td>스타벅스</td>\n",
       "      <td>스타벅스 공덕점</td>\n",
       "      <td>198</td>\n",
       "      <td>82039</td>\n",
       "      <td>527</td>\n",
       "      <td>155.671727</td>\n",
       "      <td>1</td>\n",
       "      <td>1.271907</td>\n",
       "      <td>4.540404</td>\n",
       "      <td>1.0</td>\n",
       "    </tr>\n",
       "    <tr>\n",
       "      <th>81572</th>\n",
       "      <td>1035550023</td>\n",
       "      <td>스타벅스</td>\n",
       "      <td>스타벅스 홍대공항철도역점</td>\n",
       "      <td>337</td>\n",
       "      <td>82039</td>\n",
       "      <td>527</td>\n",
       "      <td>155.671727</td>\n",
       "      <td>1</td>\n",
       "      <td>2.164812</td>\n",
       "      <td>4.568249</td>\n",
       "      <td>1.0</td>\n",
       "    </tr>\n",
       "    <tr>\n",
       "      <th>81575</th>\n",
       "      <td>1060245770</td>\n",
       "      <td>스타벅스</td>\n",
       "      <td>스타벅스 우장산역점</td>\n",
       "      <td>190</td>\n",
       "      <td>82039</td>\n",
       "      <td>527</td>\n",
       "      <td>155.671727</td>\n",
       "      <td>1</td>\n",
       "      <td>1.220517</td>\n",
       "      <td>4.505263</td>\n",
       "      <td>1.0</td>\n",
       "    </tr>\n",
       "    <tr>\n",
       "      <th>81583</th>\n",
       "      <td>1086067689</td>\n",
       "      <td>스타벅스</td>\n",
       "      <td>스타벅스 강남R점</td>\n",
       "      <td>406</td>\n",
       "      <td>82039</td>\n",
       "      <td>527</td>\n",
       "      <td>155.671727</td>\n",
       "      <td>1</td>\n",
       "      <td>2.608052</td>\n",
       "      <td>4.552956</td>\n",
       "      <td>1.0</td>\n",
       "    </tr>\n",
       "    <tr>\n",
       "      <th>81589</th>\n",
       "      <td>1150710065</td>\n",
       "      <td>스타벅스</td>\n",
       "      <td>스타벅스 보라매공원R점</td>\n",
       "      <td>237</td>\n",
       "      <td>82039</td>\n",
       "      <td>527</td>\n",
       "      <td>155.671727</td>\n",
       "      <td>1</td>\n",
       "      <td>1.522434</td>\n",
       "      <td>4.590717</td>\n",
       "      <td>1.0</td>\n",
       "    </tr>\n",
       "    <tr>\n",
       "      <th>...</th>\n",
       "      <td>...</td>\n",
       "      <td>...</td>\n",
       "      <td>...</td>\n",
       "      <td>...</td>\n",
       "      <td>...</td>\n",
       "      <td>...</td>\n",
       "      <td>...</td>\n",
       "      <td>...</td>\n",
       "      <td>...</td>\n",
       "      <td>...</td>\n",
       "      <td>...</td>\n",
       "    </tr>\n",
       "    <tr>\n",
       "      <th>82080</th>\n",
       "      <td>736523245</td>\n",
       "      <td>스타벅스</td>\n",
       "      <td>스타벅스 문정역점</td>\n",
       "      <td>191</td>\n",
       "      <td>82039</td>\n",
       "      <td>527</td>\n",
       "      <td>155.671727</td>\n",
       "      <td>1</td>\n",
       "      <td>1.226941</td>\n",
       "      <td>4.528796</td>\n",
       "      <td>1.0</td>\n",
       "    </tr>\n",
       "    <tr>\n",
       "      <th>82082</th>\n",
       "      <td>791167030</td>\n",
       "      <td>스타벅스</td>\n",
       "      <td>스타벅스 가양역점</td>\n",
       "      <td>200</td>\n",
       "      <td>82039</td>\n",
       "      <td>527</td>\n",
       "      <td>155.671727</td>\n",
       "      <td>1</td>\n",
       "      <td>1.284755</td>\n",
       "      <td>4.502500</td>\n",
       "      <td>1.0</td>\n",
       "    </tr>\n",
       "    <tr>\n",
       "      <th>82086</th>\n",
       "      <td>838819922</td>\n",
       "      <td>스타벅스</td>\n",
       "      <td>스타벅스 상왕십리역점</td>\n",
       "      <td>156</td>\n",
       "      <td>82039</td>\n",
       "      <td>527</td>\n",
       "      <td>155.671727</td>\n",
       "      <td>1</td>\n",
       "      <td>1.002109</td>\n",
       "      <td>4.567308</td>\n",
       "      <td>1.0</td>\n",
       "    </tr>\n",
       "    <tr>\n",
       "      <th>82094</th>\n",
       "      <td>923777626</td>\n",
       "      <td>스타벅스</td>\n",
       "      <td>스타벅스 스타필드코엑스몰R점</td>\n",
       "      <td>449</td>\n",
       "      <td>82039</td>\n",
       "      <td>527</td>\n",
       "      <td>155.671727</td>\n",
       "      <td>1</td>\n",
       "      <td>2.884275</td>\n",
       "      <td>4.565702</td>\n",
       "      <td>1.0</td>\n",
       "    </tr>\n",
       "    <tr>\n",
       "      <th>82096</th>\n",
       "      <td>99828703</td>\n",
       "      <td>스타벅스</td>\n",
       "      <td>스타벅스 서강대흥역점</td>\n",
       "      <td>169</td>\n",
       "      <td>82039</td>\n",
       "      <td>527</td>\n",
       "      <td>155.671727</td>\n",
       "      <td>1</td>\n",
       "      <td>1.085618</td>\n",
       "      <td>4.529586</td>\n",
       "      <td>1.0</td>\n",
       "    </tr>\n",
       "  </tbody>\n",
       "</table>\n",
       "<p>80 rows × 11 columns</p>\n",
       "</div>"
      ],
      "text/plain": [
       "         place.id place.category       place.name  review.count  \\\n",
       "81571  1024248869           스타벅스         스타벅스 공덕점           198   \n",
       "81572  1035550023           스타벅스    스타벅스 홍대공항철도역점           337   \n",
       "81575  1060245770           스타벅스       스타벅스 우장산역점           190   \n",
       "81583  1086067689           스타벅스        스타벅스 강남R점           406   \n",
       "81589  1150710065           스타벅스     스타벅스 보라매공원R점           237   \n",
       "...           ...            ...              ...           ...   \n",
       "82080   736523245           스타벅스        스타벅스 문정역점           191   \n",
       "82082   791167030           스타벅스        스타벅스 가양역점           200   \n",
       "82086   838819922           스타벅스      스타벅스 상왕십리역점           156   \n",
       "82094   923777626           스타벅스  스타벅스 스타필드코엑스몰R점           449   \n",
       "82096    99828703           스타벅스      스타벅스 서강대흥역점           169   \n",
       "\n",
       "       review.allcount  place.count  review.avgcount is_fch   isvalid  \\\n",
       "81571            82039          527       155.671727      1  1.271907   \n",
       "81572            82039          527       155.671727      1  2.164812   \n",
       "81575            82039          527       155.671727      1  1.220517   \n",
       "81583            82039          527       155.671727      1  2.608052   \n",
       "81589            82039          527       155.671727      1  1.522434   \n",
       "...                ...          ...              ...    ...       ...   \n",
       "82080            82039          527       155.671727      1  1.226941   \n",
       "82082            82039          527       155.671727      1  1.284755   \n",
       "82086            82039          527       155.671727      1  1.002109   \n",
       "82094            82039          527       155.671727      1  2.884275   \n",
       "82096            82039          527       155.671727      1  1.085618   \n",
       "\n",
       "         rating  is_select  \n",
       "81571  4.540404        1.0  \n",
       "81572  4.568249        1.0  \n",
       "81575  4.505263        1.0  \n",
       "81583  4.552956        1.0  \n",
       "81589  4.590717        1.0  \n",
       "...         ...        ...  \n",
       "82080  4.528796        1.0  \n",
       "82082  4.502500        1.0  \n",
       "82086  4.567308        1.0  \n",
       "82094  4.565702        1.0  \n",
       "82096  4.529586        1.0  \n",
       "\n",
       "[80 rows x 11 columns]"
      ]
     },
     "execution_count": 109,
     "metadata": {},
     "output_type": "execute_result"
    }
   ],
   "source": [
    "temp.loc[temp['place.category'] == '스타벅스']"
   ]
  },
  {
   "cell_type": "code",
   "execution_count": 163,
   "metadata": {
    "Collapsed": "false"
   },
   "outputs": [],
   "source": [
    "rv_sel_select = pd.merge(rv_sel, temp['place.id'], on = 'place.id', how = 'inner')"
   ]
  },
  {
   "cell_type": "code",
   "execution_count": 164,
   "metadata": {
    "Collapsed": "false"
   },
   "outputs": [
    {
     "data": {
      "text/plain": [
       "Index(['rating', 'body', 'visitCount', 'viewCount', 'thumbnail', 'status',\n",
       "       'media', 'id', '__typename', 'idno', 'visitedDate.date',\n",
       "       'visitedDate.displayDate', 'visitedDate.displayDateTime',\n",
       "       'visitedDate.__typename', 'place.id', 'place.name', 'place.category',\n",
       "       'place.categoryCode', 'place.categoryCodes', 'place.phone',\n",
       "       'place.address', 'place.__typename', 'isseoul', 'media_count'],\n",
       "      dtype='object')"
      ]
     },
     "execution_count": 164,
     "metadata": {},
     "output_type": "execute_result"
    }
   ],
   "source": [
    "rv_sel_select.columns"
   ]
  },
  {
   "cell_type": "code",
   "execution_count": 165,
   "metadata": {
    "Collapsed": "false"
   },
   "outputs": [
    {
     "data": {
      "text/plain": [
       "(34274, 812)"
      ]
     },
     "execution_count": 165,
     "metadata": {},
     "output_type": "execute_result"
    }
   ],
   "source": [
    "rv_sel_select['idno'].nunique(), rv_sel_select['place.category'].nunique()"
   ]
  },
  {
   "cell_type": "code",
   "execution_count": 175,
   "metadata": {
    "Collapsed": "false"
   },
   "outputs": [
    {
     "data": {
      "text/plain": [
       "10740"
      ]
     },
     "execution_count": 175,
     "metadata": {},
     "output_type": "execute_result"
    }
   ],
   "source": [
    "rv_sel_select['place.name'].nunique()"
   ]
  },
  {
   "cell_type": "code",
   "execution_count": 174,
   "metadata": {
    "Collapsed": "false"
   },
   "outputs": [
    {
     "data": {
      "text/plain": [
       "9866"
      ]
     },
     "execution_count": 174,
     "metadata": {},
     "output_type": "execute_result"
    }
   ],
   "source": [
    "rv_sel_select['place.id'].nunique()"
   ]
  },
  {
   "cell_type": "code",
   "execution_count": 168,
   "metadata": {
    "Collapsed": "false"
   },
   "outputs": [
    {
     "data": {
      "text/plain": [
       "172121    1000055434\n",
       "172091    1000055434\n",
       "172090    1000055434\n",
       "172089    1000055434\n",
       "172088    1000055434\n",
       "             ...    \n",
       "232200          none\n",
       "232199          none\n",
       "232198          none\n",
       "232196          none\n",
       "232140          none\n",
       "Name: place.id, Length: 423462, dtype: object"
      ]
     },
     "execution_count": 168,
     "metadata": {},
     "output_type": "execute_result"
    }
   ],
   "source": [
    "rv_sel_select['place.id'].sort_values()"
   ]
  },
  {
   "cell_type": "code",
   "execution_count": 156,
   "metadata": {
    "Collapsed": "false"
   },
   "outputs": [
    {
     "data": {
      "text/html": [
       "<div>\n",
       "<style scoped>\n",
       "    .dataframe tbody tr th:only-of-type {\n",
       "        vertical-align: middle;\n",
       "    }\n",
       "\n",
       "    .dataframe tbody tr th {\n",
       "        vertical-align: top;\n",
       "    }\n",
       "\n",
       "    .dataframe thead th {\n",
       "        text-align: right;\n",
       "    }\n",
       "</style>\n",
       "<table border=\"1\" class=\"dataframe\">\n",
       "  <thead>\n",
       "    <tr style=\"text-align: right;\">\n",
       "      <th></th>\n",
       "      <th>place.id</th>\n",
       "      <th>place.category</th>\n",
       "      <th>place.name</th>\n",
       "      <th>review.count</th>\n",
       "      <th>review.allcount</th>\n",
       "      <th>place.count</th>\n",
       "      <th>review.avgcount</th>\n",
       "      <th>is_fch</th>\n",
       "      <th>isvalid</th>\n",
       "      <th>rating</th>\n",
       "      <th>is_select</th>\n",
       "    </tr>\n",
       "  </thead>\n",
       "  <tbody>\n",
       "    <tr>\n",
       "      <th>28240</th>\n",
       "      <td>1101064446</td>\n",
       "      <td>카페,디저트-일반</td>\n",
       "      <td>1인1잔</td>\n",
       "      <td>151</td>\n",
       "      <td>76934</td>\n",
       "      <td>7641</td>\n",
       "      <td>10.068577</td>\n",
       "      <td>0</td>\n",
       "      <td>14.997153</td>\n",
       "      <td>4.291391</td>\n",
       "      <td>1.0</td>\n",
       "    </tr>\n",
       "    <tr>\n",
       "      <th>27881</th>\n",
       "      <td>1047335571</td>\n",
       "      <td>카페,디저트-일반</td>\n",
       "      <td>1인1잔</td>\n",
       "      <td>22</td>\n",
       "      <td>76934</td>\n",
       "      <td>7641</td>\n",
       "      <td>10.068577</td>\n",
       "      <td>0</td>\n",
       "      <td>2.185016</td>\n",
       "      <td>4.227273</td>\n",
       "      <td>1.0</td>\n",
       "    </tr>\n",
       "    <tr>\n",
       "      <th>75218</th>\n",
       "      <td>1101429921</td>\n",
       "      <td>일본식라면-일반</td>\n",
       "      <td>가로수길마루</td>\n",
       "      <td>26</td>\n",
       "      <td>3278</td>\n",
       "      <td>253</td>\n",
       "      <td>12.956522</td>\n",
       "      <td>0</td>\n",
       "      <td>2.006711</td>\n",
       "      <td>3.788462</td>\n",
       "      <td>1.0</td>\n",
       "    </tr>\n",
       "    <tr>\n",
       "      <th>37112</th>\n",
       "      <td>1313926828</td>\n",
       "      <td>일식당-일반</td>\n",
       "      <td>가로수길마루</td>\n",
       "      <td>26</td>\n",
       "      <td>19639</td>\n",
       "      <td>2121</td>\n",
       "      <td>9.259312</td>\n",
       "      <td>0</td>\n",
       "      <td>2.807984</td>\n",
       "      <td>4.115385</td>\n",
       "      <td>1.0</td>\n",
       "    </tr>\n",
       "    <tr>\n",
       "      <th>37074</th>\n",
       "      <td>12865466</td>\n",
       "      <td>일식당-일반</td>\n",
       "      <td>가쯔레쯔</td>\n",
       "      <td>25</td>\n",
       "      <td>19639</td>\n",
       "      <td>2121</td>\n",
       "      <td>9.259312</td>\n",
       "      <td>0</td>\n",
       "      <td>2.699985</td>\n",
       "      <td>4.580000</td>\n",
       "      <td>1.0</td>\n",
       "    </tr>\n",
       "    <tr>\n",
       "      <th>...</th>\n",
       "      <td>...</td>\n",
       "      <td>...</td>\n",
       "      <td>...</td>\n",
       "      <td>...</td>\n",
       "      <td>...</td>\n",
       "      <td>...</td>\n",
       "      <td>...</td>\n",
       "      <td>...</td>\n",
       "      <td>...</td>\n",
       "      <td>...</td>\n",
       "      <td>...</td>\n",
       "    </tr>\n",
       "    <tr>\n",
       "      <th>8241</th>\n",
       "      <td>1779134506</td>\n",
       "      <td>중식당-일반</td>\n",
       "      <td>희래식당</td>\n",
       "      <td>42</td>\n",
       "      <td>36248</td>\n",
       "      <td>3733</td>\n",
       "      <td>9.710153</td>\n",
       "      <td>0</td>\n",
       "      <td>4.325370</td>\n",
       "      <td>4.202381</td>\n",
       "      <td>1.0</td>\n",
       "    </tr>\n",
       "    <tr>\n",
       "      <th>8173</th>\n",
       "      <td>1739977821</td>\n",
       "      <td>중식당-일반</td>\n",
       "      <td>희래식당</td>\n",
       "      <td>60</td>\n",
       "      <td>36248</td>\n",
       "      <td>3733</td>\n",
       "      <td>9.710153</td>\n",
       "      <td>0</td>\n",
       "      <td>6.179100</td>\n",
       "      <td>4.450000</td>\n",
       "      <td>1.0</td>\n",
       "    </tr>\n",
       "    <tr>\n",
       "      <th>6623</th>\n",
       "      <td>1055860476</td>\n",
       "      <td>중식당-일반</td>\n",
       "      <td>희래식당</td>\n",
       "      <td>24</td>\n",
       "      <td>36248</td>\n",
       "      <td>3733</td>\n",
       "      <td>9.710153</td>\n",
       "      <td>0</td>\n",
       "      <td>2.471640</td>\n",
       "      <td>4.166667</td>\n",
       "      <td>1.0</td>\n",
       "    </tr>\n",
       "    <tr>\n",
       "      <th>38215</th>\n",
       "      <td>33626741</td>\n",
       "      <td>일식당-일반</td>\n",
       "      <td>히메시야</td>\n",
       "      <td>53</td>\n",
       "      <td>19639</td>\n",
       "      <td>2121</td>\n",
       "      <td>9.259312</td>\n",
       "      <td>0</td>\n",
       "      <td>5.723968</td>\n",
       "      <td>4.349057</td>\n",
       "      <td>1.0</td>\n",
       "    </tr>\n",
       "    <tr>\n",
       "      <th>37823</th>\n",
       "      <td>1862295844</td>\n",
       "      <td>일식당-일반</td>\n",
       "      <td>히메시야</td>\n",
       "      <td>30</td>\n",
       "      <td>19639</td>\n",
       "      <td>2121</td>\n",
       "      <td>9.259312</td>\n",
       "      <td>0</td>\n",
       "      <td>3.239982</td>\n",
       "      <td>4.100000</td>\n",
       "      <td>1.0</td>\n",
       "    </tr>\n",
       "  </tbody>\n",
       "</table>\n",
       "<p>612 rows × 11 columns</p>\n",
       "</div>"
      ],
      "text/plain": [
       "         place.id place.category place.name  review.count  review.allcount  \\\n",
       "28240  1101064446      카페,디저트-일반       1인1잔           151            76934   \n",
       "27881  1047335571      카페,디저트-일반       1인1잔            22            76934   \n",
       "75218  1101429921       일본식라면-일반     가로수길마루            26             3278   \n",
       "37112  1313926828         일식당-일반     가로수길마루            26            19639   \n",
       "37074    12865466         일식당-일반       가쯔레쯔            25            19639   \n",
       "...           ...            ...        ...           ...              ...   \n",
       "8241   1779134506         중식당-일반       희래식당            42            36248   \n",
       "8173   1739977821         중식당-일반       희래식당            60            36248   \n",
       "6623   1055860476         중식당-일반       희래식당            24            36248   \n",
       "38215    33626741         일식당-일반       히메시야            53            19639   \n",
       "37823  1862295844         일식당-일반       히메시야            30            19639   \n",
       "\n",
       "       place.count  review.avgcount is_fch    isvalid    rating  is_select  \n",
       "28240         7641        10.068577      0  14.997153  4.291391        1.0  \n",
       "27881         7641        10.068577      0   2.185016  4.227273        1.0  \n",
       "75218          253        12.956522      0   2.006711  3.788462        1.0  \n",
       "37112         2121         9.259312      0   2.807984  4.115385        1.0  \n",
       "37074         2121         9.259312      0   2.699985  4.580000        1.0  \n",
       "...            ...              ...    ...        ...       ...        ...  \n",
       "8241          3733         9.710153      0   4.325370  4.202381        1.0  \n",
       "8173          3733         9.710153      0   6.179100  4.450000        1.0  \n",
       "6623          3733         9.710153      0   2.471640  4.166667        1.0  \n",
       "38215         2121         9.259312      0   5.723968  4.349057        1.0  \n",
       "37823         2121         9.259312      0   3.239982  4.100000        1.0  \n",
       "\n",
       "[612 rows x 11 columns]"
      ]
     },
     "execution_count": 156,
     "metadata": {},
     "output_type": "execute_result"
    }
   ],
   "source": [
    "# 같은 곳인데 place.id가 다른 경우가 있음\n",
    "temp.loc[temp.duplicated('place.name', keep = False) == True].sort_values('place.name')"
   ]
  },
  {
   "cell_type": "markdown",
   "metadata": {
    "Collapsed": "true",
    "toc-hr-collapsed": true,
    "toc-nb-collapsed": true
   },
   "source": [
    "# place 위치정보 불러오기"
   ]
  },
  {
   "cell_type": "code",
   "execution_count": 177,
   "metadata": {
    "Collapsed": "false"
   },
   "outputs": [],
   "source": [
    "# place 위치정보\n",
    "place_loc = pd.read_excel(os.path.join(\"..\",\"..\", \"data\",\"JS_06_place_loc.xlsx\"))"
   ]
  },
  {
   "cell_type": "code",
   "execution_count": 186,
   "metadata": {
    "Collapsed": "false"
   },
   "outputs": [],
   "source": [
    "select_place = temp.merge(place_loc, on = 'place.id', how = 'left')"
   ]
  },
  {
   "cell_type": "code",
   "execution_count": 192,
   "metadata": {
    "Collapsed": "false"
   },
   "outputs": [],
   "source": [
    "select_place.to_excel(os.path.join(\"..\",\"..\", \"data\",\"JS_0601_select_place.xlsx\"))"
   ]
  },
  {
   "cell_type": "markdown",
   "metadata": {
    "Collapsed": "true",
    "toc-hr-collapsed": true,
    "toc-nb-collapsed": true
   },
   "source": [
    "# 선택된 place에 따른 리뷰 선택하기"
   ]
  },
  {
   "cell_type": "code",
   "execution_count": 204,
   "metadata": {
    "Collapsed": "false"
   },
   "outputs": [
    {
     "data": {
      "text/html": [
       "<div>\n",
       "<style scoped>\n",
       "    .dataframe tbody tr th:only-of-type {\n",
       "        vertical-align: middle;\n",
       "    }\n",
       "\n",
       "    .dataframe tbody tr th {\n",
       "        vertical-align: top;\n",
       "    }\n",
       "\n",
       "    .dataframe thead th {\n",
       "        text-align: right;\n",
       "    }\n",
       "</style>\n",
       "<table border=\"1\" class=\"dataframe\">\n",
       "  <thead>\n",
       "    <tr style=\"text-align: right;\">\n",
       "      <th></th>\n",
       "      <th>rating</th>\n",
       "      <th>body</th>\n",
       "      <th>visitCount</th>\n",
       "      <th>viewCount</th>\n",
       "      <th>thumbnail</th>\n",
       "      <th>status</th>\n",
       "      <th>media</th>\n",
       "      <th>id</th>\n",
       "      <th>__typename</th>\n",
       "      <th>idno</th>\n",
       "      <th>...</th>\n",
       "      <th>place.id</th>\n",
       "      <th>place.name</th>\n",
       "      <th>place.category</th>\n",
       "      <th>place.categoryCode</th>\n",
       "      <th>place.categoryCodes</th>\n",
       "      <th>place.phone</th>\n",
       "      <th>place.address</th>\n",
       "      <th>place.__typename</th>\n",
       "      <th>isseoul</th>\n",
       "      <th>media_count</th>\n",
       "    </tr>\n",
       "  </thead>\n",
       "  <tbody>\n",
       "    <tr>\n",
       "      <th>60780</th>\n",
       "      <td>5.0</td>\n",
       "      <td>메뉴중 비엔나 커피가 제일 맛있어요.</td>\n",
       "      <td>1</td>\n",
       "      <td>3</td>\n",
       "      <td>https://myplace-phinf.pstatic.net/20200325_74/...</td>\n",
       "      <td>published</td>\n",
       "      <td>[{'type': 'IMAGE', 'thumbnail': 'https://mypla...</td>\n",
       "      <td>5e7b37ef99bc8e00129921c5</td>\n",
       "      <td>Review</td>\n",
       "      <td>102cA</td>\n",
       "      <td>...</td>\n",
       "      <td>1972929313</td>\n",
       "      <td>비엔나커피하우스 압구정극동타워점</td>\n",
       "      <td>비엔나커피하우스</td>\n",
       "      <td>232021</td>\n",
       "      <td>[220036, 220052, 220576, 232021]</td>\n",
       "      <td>02-548-1683</td>\n",
       "      <td>서울특별시 강남구 신사동 575</td>\n",
       "      <td>Place</td>\n",
       "      <td>1</td>\n",
       "      <td>1</td>\n",
       "    </tr>\n",
       "    <tr>\n",
       "      <th>60779</th>\n",
       "      <td>5.0</td>\n",
       "      <td>아메리카노 보다는 비엔나 커피가 맛있네요.</td>\n",
       "      <td>2</td>\n",
       "      <td>2</td>\n",
       "      <td>none</td>\n",
       "      <td>published</td>\n",
       "      <td>[]</td>\n",
       "      <td>5e7b3def4e8dde00121f523b</td>\n",
       "      <td>Review</td>\n",
       "      <td>102cA</td>\n",
       "      <td>...</td>\n",
       "      <td>1972929313</td>\n",
       "      <td>비엔나커피하우스 압구정극동타워점</td>\n",
       "      <td>비엔나커피하우스</td>\n",
       "      <td>232021</td>\n",
       "      <td>[220036, 220052, 220576, 232021]</td>\n",
       "      <td>02-548-1683</td>\n",
       "      <td>서울특별시 강남구 신사동 575</td>\n",
       "      <td>Place</td>\n",
       "      <td>1</td>\n",
       "      <td>0</td>\n",
       "    </tr>\n",
       "    <tr>\n",
       "      <th>60778</th>\n",
       "      <td>5.0</td>\n",
       "      <td>애플블랙티에이드는 예뻐요.ㅎㅎ\\n역시 여기는\\n비엔나 커피가 맛있는 집입니다.^^</td>\n",
       "      <td>3</td>\n",
       "      <td>3</td>\n",
       "      <td>https://myplace-phinf.pstatic.net/20200416_251...</td>\n",
       "      <td>published</td>\n",
       "      <td>[{'type': 'IMAGE', 'thumbnail': 'https://mypla...</td>\n",
       "      <td>5e97c23cdf22f50010a1269d</td>\n",
       "      <td>Review</td>\n",
       "      <td>102cA</td>\n",
       "      <td>...</td>\n",
       "      <td>1972929313</td>\n",
       "      <td>비엔나커피하우스 압구정극동타워점</td>\n",
       "      <td>비엔나커피하우스</td>\n",
       "      <td>232021</td>\n",
       "      <td>[220036, 220052, 220576, 232021]</td>\n",
       "      <td>02-548-1683</td>\n",
       "      <td>서울특별시 강남구 신사동 575</td>\n",
       "      <td>Place</td>\n",
       "      <td>1</td>\n",
       "      <td>1</td>\n",
       "    </tr>\n",
       "    <tr>\n",
       "      <th>350393</th>\n",
       "      <td>4.0</td>\n",
       "      <td></td>\n",
       "      <td>1</td>\n",
       "      <td>0</td>\n",
       "      <td>none</td>\n",
       "      <td>published</td>\n",
       "      <td>[]</td>\n",
       "      <td>5dff1056d7bf9300100dcd90</td>\n",
       "      <td>Review</td>\n",
       "      <td>102yh</td>\n",
       "      <td>...</td>\n",
       "      <td>1036918009</td>\n",
       "      <td>공차 마포역점</td>\n",
       "      <td>공차</td>\n",
       "      <td>221396</td>\n",
       "      <td>[220036, 220052, 220580, 221396]</td>\n",
       "      <td>02-713-7070</td>\n",
       "      <td>서울특별시 마포구 도화동 555</td>\n",
       "      <td>Place</td>\n",
       "      <td>1</td>\n",
       "      <td>0</td>\n",
       "    </tr>\n",
       "    <tr>\n",
       "      <th>350392</th>\n",
       "      <td>4.0</td>\n",
       "      <td></td>\n",
       "      <td>2</td>\n",
       "      <td>0</td>\n",
       "      <td>none</td>\n",
       "      <td>published</td>\n",
       "      <td>[]</td>\n",
       "      <td>5e02d1b5380c320010d1f641</td>\n",
       "      <td>Review</td>\n",
       "      <td>102yh</td>\n",
       "      <td>...</td>\n",
       "      <td>1036918009</td>\n",
       "      <td>공차 마포역점</td>\n",
       "      <td>공차</td>\n",
       "      <td>221396</td>\n",
       "      <td>[220036, 220052, 220580, 221396]</td>\n",
       "      <td>02-713-7070</td>\n",
       "      <td>서울특별시 마포구 도화동 555</td>\n",
       "      <td>Place</td>\n",
       "      <td>1</td>\n",
       "      <td>0</td>\n",
       "    </tr>\n",
       "    <tr>\n",
       "      <th>...</th>\n",
       "      <td>...</td>\n",
       "      <td>...</td>\n",
       "      <td>...</td>\n",
       "      <td>...</td>\n",
       "      <td>...</td>\n",
       "      <td>...</td>\n",
       "      <td>...</td>\n",
       "      <td>...</td>\n",
       "      <td>...</td>\n",
       "      <td>...</td>\n",
       "      <td>...</td>\n",
       "      <td>...</td>\n",
       "      <td>...</td>\n",
       "      <td>...</td>\n",
       "      <td>...</td>\n",
       "      <td>...</td>\n",
       "      <td>...</td>\n",
       "      <td>...</td>\n",
       "      <td>...</td>\n",
       "      <td>...</td>\n",
       "      <td>...</td>\n",
       "    </tr>\n",
       "    <tr>\n",
       "      <th>111903</th>\n",
       "      <td>3.0</td>\n",
       "      <td>일반 칼국수집이랑 비슷해요</td>\n",
       "      <td>2</td>\n",
       "      <td>0</td>\n",
       "      <td>none</td>\n",
       "      <td>published</td>\n",
       "      <td>[]</td>\n",
       "      <td>5d89c7b2dffd950010593b7c</td>\n",
       "      <td>Review</td>\n",
       "      <td>zzOc</td>\n",
       "      <td>...</td>\n",
       "      <td>19877546</td>\n",
       "      <td>공항칼국수</td>\n",
       "      <td>칼국수,만두-일반</td>\n",
       "      <td>220712</td>\n",
       "      <td>[220036, 220037, 220073, 220712]</td>\n",
       "      <td>02-2664-9748</td>\n",
       "      <td>서울특별시 강서구 공항동 49-2 이스카이오피스텔 지하1층</td>\n",
       "      <td>Place</td>\n",
       "      <td>1</td>\n",
       "      <td>0</td>\n",
       "    </tr>\n",
       "    <tr>\n",
       "      <th>70446</th>\n",
       "      <td>3.0</td>\n",
       "      <td>식빵맛잇어요</td>\n",
       "      <td>3</td>\n",
       "      <td>0</td>\n",
       "      <td>none</td>\n",
       "      <td>published</td>\n",
       "      <td>[]</td>\n",
       "      <td>5da4767f9efbde00105c4edc</td>\n",
       "      <td>Review</td>\n",
       "      <td>zzOc</td>\n",
       "      <td>...</td>\n",
       "      <td>1617548667</td>\n",
       "      <td>식빵은 여기</td>\n",
       "      <td>베이커리-일반</td>\n",
       "      <td>221161</td>\n",
       "      <td>[220036, 220052, 220564, 221161]</td>\n",
       "      <td>02-422-9747</td>\n",
       "      <td>서울특별시 송파구 잠실동 8 잠실역지하도상가 B-19, 20호</td>\n",
       "      <td>Place</td>\n",
       "      <td>1</td>\n",
       "      <td>0</td>\n",
       "    </tr>\n",
       "    <tr>\n",
       "      <th>149343</th>\n",
       "      <td>5.0</td>\n",
       "      <td>좋아요</td>\n",
       "      <td>1</td>\n",
       "      <td>1</td>\n",
       "      <td>none</td>\n",
       "      <td>published</td>\n",
       "      <td>[]</td>\n",
       "      <td>5ea833aeb39a25001126d5dc</td>\n",
       "      <td>Review</td>\n",
       "      <td>zzi2</td>\n",
       "      <td>...</td>\n",
       "      <td>1177971007</td>\n",
       "      <td>바삭마차</td>\n",
       "      <td>돈가스-일반</td>\n",
       "      <td>220812</td>\n",
       "      <td>[220036, 220038, 220082, 220812]</td>\n",
       "      <td>02-336-4486</td>\n",
       "      <td>서울특별시 마포구 망원동 412-52</td>\n",
       "      <td>Place</td>\n",
       "      <td>1</td>\n",
       "      <td>none</td>\n",
       "    </tr>\n",
       "    <tr>\n",
       "      <th>149342</th>\n",
       "      <td>5.0</td>\n",
       "      <td>좋아요</td>\n",
       "      <td>2</td>\n",
       "      <td>1</td>\n",
       "      <td>none</td>\n",
       "      <td>published</td>\n",
       "      <td>[]</td>\n",
       "      <td>5ea834285ebee00011fe82bd</td>\n",
       "      <td>Review</td>\n",
       "      <td>zzi2</td>\n",
       "      <td>...</td>\n",
       "      <td>1177971007</td>\n",
       "      <td>바삭마차</td>\n",
       "      <td>돈가스-일반</td>\n",
       "      <td>220812</td>\n",
       "      <td>[220036, 220038, 220082, 220812]</td>\n",
       "      <td>02-336-4486</td>\n",
       "      <td>서울특별시 마포구 망원동 412-52</td>\n",
       "      <td>Place</td>\n",
       "      <td>1</td>\n",
       "      <td>none</td>\n",
       "    </tr>\n",
       "    <tr>\n",
       "      <th>149341</th>\n",
       "      <td>5.0</td>\n",
       "      <td>좋아요</td>\n",
       "      <td>3</td>\n",
       "      <td>1</td>\n",
       "      <td>none</td>\n",
       "      <td>published</td>\n",
       "      <td>[]</td>\n",
       "      <td>5ec0d929d9c75000118c754b</td>\n",
       "      <td>Review</td>\n",
       "      <td>zzi2</td>\n",
       "      <td>...</td>\n",
       "      <td>1177971007</td>\n",
       "      <td>바삭마차</td>\n",
       "      <td>돈가스-일반</td>\n",
       "      <td>220812</td>\n",
       "      <td>[220036, 220038, 220082, 220812]</td>\n",
       "      <td>02-336-4486</td>\n",
       "      <td>서울특별시 마포구 망원동 412-52</td>\n",
       "      <td>Place</td>\n",
       "      <td>1</td>\n",
       "      <td>none</td>\n",
       "    </tr>\n",
       "  </tbody>\n",
       "</table>\n",
       "<p>130587 rows × 24 columns</p>\n",
       "</div>"
      ],
      "text/plain": [
       "        rating                                           body  visitCount  \\\n",
       "60780      5.0                           메뉴중 비엔나 커피가 제일 맛있어요.           1   \n",
       "60779      5.0                        아메리카노 보다는 비엔나 커피가 맛있네요.           2   \n",
       "60778      5.0  애플블랙티에이드는 예뻐요.ㅎㅎ\\n역시 여기는\\n비엔나 커피가 맛있는 집입니다.^^           3   \n",
       "350393     4.0                                                          1   \n",
       "350392     4.0                                                          2   \n",
       "...        ...                                            ...         ...   \n",
       "111903     3.0                                 일반 칼국수집이랑 비슷해요           2   \n",
       "70446      3.0                                         식빵맛잇어요           3   \n",
       "149343     5.0                                            좋아요           1   \n",
       "149342     5.0                                            좋아요           2   \n",
       "149341     5.0                                            좋아요           3   \n",
       "\n",
       "        viewCount                                          thumbnail  \\\n",
       "60780           3  https://myplace-phinf.pstatic.net/20200325_74/...   \n",
       "60779           2                                               none   \n",
       "60778           3  https://myplace-phinf.pstatic.net/20200416_251...   \n",
       "350393          0                                               none   \n",
       "350392          0                                               none   \n",
       "...           ...                                                ...   \n",
       "111903          0                                               none   \n",
       "70446           0                                               none   \n",
       "149343          1                                               none   \n",
       "149342          1                                               none   \n",
       "149341          1                                               none   \n",
       "\n",
       "           status                                              media  \\\n",
       "60780   published  [{'type': 'IMAGE', 'thumbnail': 'https://mypla...   \n",
       "60779   published                                                 []   \n",
       "60778   published  [{'type': 'IMAGE', 'thumbnail': 'https://mypla...   \n",
       "350393  published                                                 []   \n",
       "350392  published                                                 []   \n",
       "...           ...                                                ...   \n",
       "111903  published                                                 []   \n",
       "70446   published                                                 []   \n",
       "149343  published                                                 []   \n",
       "149342  published                                                 []   \n",
       "149341  published                                                 []   \n",
       "\n",
       "                              id __typename   idno  ...    place.id  \\\n",
       "60780   5e7b37ef99bc8e00129921c5     Review  102cA  ...  1972929313   \n",
       "60779   5e7b3def4e8dde00121f523b     Review  102cA  ...  1972929313   \n",
       "60778   5e97c23cdf22f50010a1269d     Review  102cA  ...  1972929313   \n",
       "350393  5dff1056d7bf9300100dcd90     Review  102yh  ...  1036918009   \n",
       "350392  5e02d1b5380c320010d1f641     Review  102yh  ...  1036918009   \n",
       "...                          ...        ...    ...  ...         ...   \n",
       "111903  5d89c7b2dffd950010593b7c     Review   zzOc  ...    19877546   \n",
       "70446   5da4767f9efbde00105c4edc     Review   zzOc  ...  1617548667   \n",
       "149343  5ea833aeb39a25001126d5dc     Review   zzi2  ...  1177971007   \n",
       "149342  5ea834285ebee00011fe82bd     Review   zzi2  ...  1177971007   \n",
       "149341  5ec0d929d9c75000118c754b     Review   zzi2  ...  1177971007   \n",
       "\n",
       "               place.name place.category place.categoryCode  \\\n",
       "60780   비엔나커피하우스 압구정극동타워점       비엔나커피하우스             232021   \n",
       "60779   비엔나커피하우스 압구정극동타워점       비엔나커피하우스             232021   \n",
       "60778   비엔나커피하우스 압구정극동타워점       비엔나커피하우스             232021   \n",
       "350393            공차 마포역점             공차             221396   \n",
       "350392            공차 마포역점             공차             221396   \n",
       "...                   ...            ...                ...   \n",
       "111903              공항칼국수      칼국수,만두-일반             220712   \n",
       "70446              식빵은 여기        베이커리-일반             221161   \n",
       "149343               바삭마차         돈가스-일반             220812   \n",
       "149342               바삭마차         돈가스-일반             220812   \n",
       "149341               바삭마차         돈가스-일반             220812   \n",
       "\n",
       "                     place.categoryCodes   place.phone  \\\n",
       "60780   [220036, 220052, 220576, 232021]   02-548-1683   \n",
       "60779   [220036, 220052, 220576, 232021]   02-548-1683   \n",
       "60778   [220036, 220052, 220576, 232021]   02-548-1683   \n",
       "350393  [220036, 220052, 220580, 221396]   02-713-7070   \n",
       "350392  [220036, 220052, 220580, 221396]   02-713-7070   \n",
       "...                                  ...           ...   \n",
       "111903  [220036, 220037, 220073, 220712]  02-2664-9748   \n",
       "70446   [220036, 220052, 220564, 221161]   02-422-9747   \n",
       "149343  [220036, 220038, 220082, 220812]   02-336-4486   \n",
       "149342  [220036, 220038, 220082, 220812]   02-336-4486   \n",
       "149341  [220036, 220038, 220082, 220812]   02-336-4486   \n",
       "\n",
       "                             place.address place.__typename isseoul  \\\n",
       "60780                    서울특별시 강남구 신사동 575            Place       1   \n",
       "60779                    서울특별시 강남구 신사동 575            Place       1   \n",
       "60778                    서울특별시 강남구 신사동 575            Place       1   \n",
       "350393                   서울특별시 마포구 도화동 555            Place       1   \n",
       "350392                   서울특별시 마포구 도화동 555            Place       1   \n",
       "...                                    ...              ...     ...   \n",
       "111903    서울특별시 강서구 공항동 49-2 이스카이오피스텔 지하1층            Place       1   \n",
       "70446   서울특별시 송파구 잠실동 8 잠실역지하도상가 B-19, 20호            Place       1   \n",
       "149343                서울특별시 마포구 망원동 412-52            Place       1   \n",
       "149342                서울특별시 마포구 망원동 412-52            Place       1   \n",
       "149341                서울특별시 마포구 망원동 412-52            Place       1   \n",
       "\n",
       "       media_count  \n",
       "60780            1  \n",
       "60779            0  \n",
       "60778            1  \n",
       "350393           0  \n",
       "350392           0  \n",
       "...            ...  \n",
       "111903           0  \n",
       "70446            0  \n",
       "149343        none  \n",
       "149342        none  \n",
       "149341        none  \n",
       "\n",
       "[130587 rows x 24 columns]"
      ]
     },
     "execution_count": 204,
     "metadata": {},
     "output_type": "execute_result"
    }
   ],
   "source": [
    "rv_sel_select.loc[rv_sel_select.duplicated(['idno', 'place.id'], keep = False) == True].sort_values(['idno', 'visitCount'])"
   ]
  },
  {
   "cell_type": "code",
   "execution_count": 219,
   "metadata": {
    "Collapsed": "false"
   },
   "outputs": [
    {
     "data": {
      "text/html": [
       "<div>\n",
       "<style scoped>\n",
       "    .dataframe tbody tr th:only-of-type {\n",
       "        vertical-align: middle;\n",
       "    }\n",
       "\n",
       "    .dataframe tbody tr th {\n",
       "        vertical-align: top;\n",
       "    }\n",
       "\n",
       "    .dataframe thead th {\n",
       "        text-align: right;\n",
       "    }\n",
       "</style>\n",
       "<table border=\"1\" class=\"dataframe\">\n",
       "  <thead>\n",
       "    <tr style=\"text-align: right;\">\n",
       "      <th></th>\n",
       "      <th>idno</th>\n",
       "      <th>place.id</th>\n",
       "      <th>visitCount</th>\n",
       "    </tr>\n",
       "  </thead>\n",
       "  <tbody>\n",
       "    <tr>\n",
       "      <th>401755</th>\n",
       "      <td>2HUrC</td>\n",
       "      <td>1297540314</td>\n",
       "      <td>0</td>\n",
       "    </tr>\n",
       "    <tr>\n",
       "      <th>298903</th>\n",
       "      <td>22KMK</td>\n",
       "      <td>37755265</td>\n",
       "      <td>0</td>\n",
       "    </tr>\n",
       "    <tr>\n",
       "      <th>20797</th>\n",
       "      <td>69eAF</td>\n",
       "      <td>12035791</td>\n",
       "      <td>0</td>\n",
       "    </tr>\n",
       "    <tr>\n",
       "      <th>366982</th>\n",
       "      <td>DaLN</td>\n",
       "      <td>20256302</td>\n",
       "      <td>0</td>\n",
       "    </tr>\n",
       "    <tr>\n",
       "      <th>20794</th>\n",
       "      <td>7TGW8</td>\n",
       "      <td>12035791</td>\n",
       "      <td>0</td>\n",
       "    </tr>\n",
       "    <tr>\n",
       "      <th>...</th>\n",
       "      <td>...</td>\n",
       "      <td>...</td>\n",
       "      <td>...</td>\n",
       "    </tr>\n",
       "    <tr>\n",
       "      <th>246546</th>\n",
       "      <td>14EH4</td>\n",
       "      <td>37591629</td>\n",
       "      <td>148</td>\n",
       "    </tr>\n",
       "    <tr>\n",
       "      <th>246545</th>\n",
       "      <td>14EH4</td>\n",
       "      <td>37591629</td>\n",
       "      <td>149</td>\n",
       "    </tr>\n",
       "    <tr>\n",
       "      <th>246544</th>\n",
       "      <td>14EH4</td>\n",
       "      <td>37591629</td>\n",
       "      <td>150</td>\n",
       "    </tr>\n",
       "    <tr>\n",
       "      <th>246543</th>\n",
       "      <td>14EH4</td>\n",
       "      <td>37591629</td>\n",
       "      <td>151</td>\n",
       "    </tr>\n",
       "    <tr>\n",
       "      <th>246542</th>\n",
       "      <td>14EH4</td>\n",
       "      <td>37591629</td>\n",
       "      <td>152</td>\n",
       "    </tr>\n",
       "  </tbody>\n",
       "</table>\n",
       "<p>423462 rows × 3 columns</p>\n",
       "</div>"
      ],
      "text/plain": [
       "         idno    place.id  visitCount\n",
       "401755  2HUrC  1297540314           0\n",
       "298903  22KMK    37755265           0\n",
       "20797   69eAF    12035791           0\n",
       "366982   DaLN    20256302           0\n",
       "20794   7TGW8    12035791           0\n",
       "...       ...         ...         ...\n",
       "246546  14EH4    37591629         148\n",
       "246545  14EH4    37591629         149\n",
       "246544  14EH4    37591629         150\n",
       "246543  14EH4    37591629         151\n",
       "246542  14EH4    37591629         152\n",
       "\n",
       "[423462 rows x 3 columns]"
      ]
     },
     "execution_count": 219,
     "metadata": {},
     "output_type": "execute_result"
    }
   ],
   "source": [
    "rv_sel_select[['idno', 'place.id','visitCount']].sort_values('visitCount')"
   ]
  },
  {
   "cell_type": "code",
   "execution_count": 220,
   "metadata": {
    "Collapsed": "false"
   },
   "outputs": [
    {
     "data": {
      "text/html": [
       "<div>\n",
       "<style scoped>\n",
       "    .dataframe tbody tr th:only-of-type {\n",
       "        vertical-align: middle;\n",
       "    }\n",
       "\n",
       "    .dataframe tbody tr th {\n",
       "        vertical-align: top;\n",
       "    }\n",
       "\n",
       "    .dataframe thead th {\n",
       "        text-align: right;\n",
       "    }\n",
       "</style>\n",
       "<table border=\"1\" class=\"dataframe\">\n",
       "  <thead>\n",
       "    <tr style=\"text-align: right;\">\n",
       "      <th></th>\n",
       "      <th>idno</th>\n",
       "      <th>place.id</th>\n",
       "      <th>visitCount</th>\n",
       "    </tr>\n",
       "  </thead>\n",
       "  <tbody>\n",
       "    <tr>\n",
       "      <th>298903</th>\n",
       "      <td>22KMK</td>\n",
       "      <td>37755265</td>\n",
       "      <td>0</td>\n",
       "    </tr>\n",
       "    <tr>\n",
       "      <th>232155</th>\n",
       "      <td>3a5d5</td>\n",
       "      <td>none</td>\n",
       "      <td>0</td>\n",
       "    </tr>\n",
       "    <tr>\n",
       "      <th>310030</th>\n",
       "      <td>CIcl</td>\n",
       "      <td>11699759</td>\n",
       "      <td>0</td>\n",
       "    </tr>\n",
       "    <tr>\n",
       "      <th>301259</th>\n",
       "      <td>4rLT1</td>\n",
       "      <td>11714935</td>\n",
       "      <td>0</td>\n",
       "    </tr>\n",
       "    <tr>\n",
       "      <th>393382</th>\n",
       "      <td>CIcl</td>\n",
       "      <td>1251024640</td>\n",
       "      <td>0</td>\n",
       "    </tr>\n",
       "    <tr>\n",
       "      <th>...</th>\n",
       "      <td>...</td>\n",
       "      <td>...</td>\n",
       "      <td>...</td>\n",
       "    </tr>\n",
       "    <tr>\n",
       "      <th>357997</th>\n",
       "      <td>6QGal</td>\n",
       "      <td>38668111</td>\n",
       "      <td>103</td>\n",
       "    </tr>\n",
       "    <tr>\n",
       "      <th>422694</th>\n",
       "      <td>rlDo</td>\n",
       "      <td>1621006573</td>\n",
       "      <td>115</td>\n",
       "    </tr>\n",
       "    <tr>\n",
       "      <th>262484</th>\n",
       "      <td>SeIu</td>\n",
       "      <td>13475534</td>\n",
       "      <td>131</td>\n",
       "    </tr>\n",
       "    <tr>\n",
       "      <th>246696</th>\n",
       "      <td>2cw6W</td>\n",
       "      <td>37591629</td>\n",
       "      <td>136</td>\n",
       "    </tr>\n",
       "    <tr>\n",
       "      <th>246542</th>\n",
       "      <td>14EH4</td>\n",
       "      <td>37591629</td>\n",
       "      <td>152</td>\n",
       "    </tr>\n",
       "  </tbody>\n",
       "</table>\n",
       "<p>334027 rows × 3 columns</p>\n",
       "</div>"
      ],
      "text/plain": [
       "         idno    place.id  visitCount\n",
       "298903  22KMK    37755265           0\n",
       "232155  3a5d5        none           0\n",
       "310030   CIcl    11699759           0\n",
       "301259  4rLT1    11714935           0\n",
       "393382   CIcl  1251024640           0\n",
       "...       ...         ...         ...\n",
       "357997  6QGal    38668111         103\n",
       "422694   rlDo  1621006573         115\n",
       "262484   SeIu    13475534         131\n",
       "246696  2cw6W    37591629         136\n",
       "246542  14EH4    37591629         152\n",
       "\n",
       "[334027 rows x 3 columns]"
      ]
     },
     "execution_count": 220,
     "metadata": {},
     "output_type": "execute_result"
    }
   ],
   "source": [
    "rv_sel_select.drop_duplicates(['idno', 'place.id']).sort_values(['idno', 'place.id','visitCount'])[['idno', 'place.id','visitCount']].sort_values('visitCount')"
   ]
  },
  {
   "cell_type": "code",
   "execution_count": 222,
   "metadata": {
    "Collapsed": "false"
   },
   "outputs": [],
   "source": [
    "rv_sel_select = rv_sel_select.drop_duplicates(['idno', 'place.id'])"
   ]
  },
  {
   "cell_type": "code",
   "execution_count": 223,
   "metadata": {
    "Collapsed": "false"
   },
   "outputs": [
    {
     "data": {
      "text/plain": [
       "['../../data/JS_0502_reviews_seoul_select.pkl']"
      ]
     },
     "execution_count": 223,
     "metadata": {},
     "output_type": "execute_result"
    }
   ],
   "source": [
    "rv_sel_select.to_excel(os.path.join(\"..\",\"..\", \"data\",\"JS_0502_reviews_seoul_select.xlsx\"))\n",
    "joblib.dump(rv_sel_select, os.path.join(\"..\",\"..\", \"data\",\"JS_0502_reviews_seoul_select.pkl\"))"
   ]
  },
  {
   "cell_type": "code",
   "execution_count": 229,
   "metadata": {
    "Collapsed": "false"
   },
   "outputs": [
    {
     "data": {
      "text/plain": [
       "(34274, 812, 9866, 10683)"
      ]
     },
     "execution_count": 229,
     "metadata": {},
     "output_type": "execute_result"
    }
   ],
   "source": [
    "rv_sel_select['idno'].nunique(), rv_sel_select['place.category'].nunique(), rv_sel_select['place.id'].nunique(), rv_sel_select['place.name'].nunique()"
   ]
  },
  {
   "cell_type": "markdown",
   "metadata": {
    "Collapsed": "false"
   },
   "source": [
    "![alt text](JS_NV_processing.png \"Title\")"
   ]
  },
  {
   "cell_type": "code",
   "execution_count": 237,
   "metadata": {
    "Collapsed": "false"
   },
   "outputs": [
    {
     "data": {
      "text/plain": [
       "10683"
      ]
     },
     "execution_count": 237,
     "metadata": {},
     "output_type": "execute_result"
    }
   ],
   "source": [
    "rv_sel_select['place.name'].nunique()"
   ]
  },
  {
   "cell_type": "code",
   "execution_count": 238,
   "metadata": {
    "Collapsed": "false"
   },
   "outputs": [
    {
     "data": {
      "text/plain": [
       "9866"
      ]
     },
     "execution_count": 238,
     "metadata": {},
     "output_type": "execute_result"
    }
   ],
   "source": [
    "rv_sel_select['place.id'].nunique()"
   ]
  },
  {
   "cell_type": "code",
   "execution_count": 255,
   "metadata": {
    "Collapsed": "false"
   },
   "outputs": [
    {
     "data": {
      "text/plain": [
       "1189"
      ]
     },
     "execution_count": 255,
     "metadata": {},
     "output_type": "execute_result"
    }
   ],
   "source": [
    "(rv_sel_select.drop_duplicates('place.name')[['place.id', 'place.name']].duplicated('place.id', keep = 'last'))"
   ]
  },
  {
   "cell_type": "markdown",
   "metadata": {
    "Collapsed": "true",
    "toc-hr-collapsed": true,
    "toc-nb-collapsed": true
   },
   "source": [
    "# 한 id에 다른 place.name이 있는 경우 처리"
   ]
  },
  {
   "cell_type": "code",
   "execution_count": 265,
   "metadata": {
    "Collapsed": "false"
   },
   "outputs": [],
   "source": [
    "# place.id 당 몇개의 place.name을 가지고있는지\n",
    "temp = rv_sel_select.groupby('place.id')['place.name'].nunique().reset_index().sort_values('place.name')"
   ]
  },
  {
   "cell_type": "code",
   "execution_count": 275,
   "metadata": {
    "Collapsed": "false"
   },
   "outputs": [],
   "source": [
    "# 1개 이상의 name을 가지고 있는 것 추출\n",
    "duplicate_place_id = temp.loc[temp['place.name'] > 1, 'place.id']"
   ]
  },
  {
   "cell_type": "code",
   "execution_count": 276,
   "metadata": {
    "Collapsed": "false"
   },
   "outputs": [
    {
     "data": {
      "text/plain": [
       "5086    1875639166\n",
       "4792      18377257\n",
       "4646    1819102179\n",
       "4498    1796334110\n",
       "9293      43229792\n",
       "           ...    \n",
       "186     1038438512\n",
       "6223      21607745\n",
       "9387     535057415\n",
       "8775      38010058\n",
       "9865          none\n",
       "Name: place.id, Length: 1061, dtype: object"
      ]
     },
     "execution_count": 276,
     "metadata": {},
     "output_type": "execute_result"
    }
   ],
   "source": [
    "duplicate_place_id"
   ]
  },
  {
   "cell_type": "code",
   "execution_count": 296,
   "metadata": {
    "Collapsed": "false"
   },
   "outputs": [
    {
     "data": {
      "text/plain": [
       "158892      슝모사부\n",
       "166657      슝모사부\n",
       "214580     춘리마라탕\n",
       "683827     춘리마라탕\n",
       "851326      슝모사부\n",
       "943436      탕절대부\n",
       "1042693    춘리마라탕\n",
       "1084170    춘리마라탕\n",
       "1120846    춘리마라탕\n",
       "1777581     슝모사부\n",
       "1777731    춘리마라탕\n",
       "1996178    춘리마라탕\n",
       "2002858     탕절대부\n",
       "2058004     슝모사부\n",
       "2209697    춘리마라탕\n",
       "2209707    춘리마라탕\n",
       "2291033    춘리마라탕\n",
       "2315021     슝모사부\n",
       "2478423     슝모사부\n",
       "2510955     슝모사부\n",
       "2511035     슝모사부\n",
       "2629380     탕절대부\n",
       "2680749    춘리마라탕\n",
       "2769824     탕절대부\n",
       "3113446    춘리마라탕\n",
       "3575553    춘리마라탕\n",
       "3853119     탕절대부\n",
       "3976971    춘리마라탕\n",
       "4089759    춘리마라탕\n",
       "Name: place.name, dtype: object"
      ]
     },
     "execution_count": 296,
     "metadata": {},
     "output_type": "execute_result"
    }
   ],
   "source": [
    "# 예시\n",
    "rv_sel.loc[rv_sel['place.id'] == '1368824611', 'place.name']"
   ]
  },
  {
   "cell_type": "code",
   "execution_count": 306,
   "metadata": {
    "Collapsed": "false"
   },
   "outputs": [
    {
     "data": {
      "text/plain": [
       "Index(['rating', 'body', 'visitCount', 'viewCount', 'thumbnail', 'status',\n",
       "       'media', 'id', '__typename', 'idno', 'visitedDate.date',\n",
       "       'visitedDate.displayDate', 'visitedDate.displayDateTime',\n",
       "       'visitedDate.__typename', 'place.id', 'place.name', 'place.category',\n",
       "       'place.categoryCode', 'place.categoryCodes', 'place.phone',\n",
       "       'place.address', 'place.__typename', 'isseoul', 'media_count'],\n",
       "      dtype='object')"
      ]
     },
     "execution_count": 306,
     "metadata": {},
     "output_type": "execute_result"
    }
   ],
   "source": [
    "rv_sel.columns"
   ]
  },
  {
   "cell_type": "code",
   "execution_count": 310,
   "metadata": {
    "Collapsed": "false"
   },
   "outputs": [
    {
     "data": {
      "text/html": [
       "<div>\n",
       "<style scoped>\n",
       "    .dataframe tbody tr th:only-of-type {\n",
       "        vertical-align: middle;\n",
       "    }\n",
       "\n",
       "    .dataframe tbody tr th {\n",
       "        vertical-align: top;\n",
       "    }\n",
       "\n",
       "    .dataframe thead th {\n",
       "        text-align: right;\n",
       "    }\n",
       "</style>\n",
       "<table border=\"1\" class=\"dataframe\">\n",
       "  <thead>\n",
       "    <tr style=\"text-align: right;\">\n",
       "      <th></th>\n",
       "      <th>visitedDate.date</th>\n",
       "      <th>visitedDate.displayDate</th>\n",
       "      <th>visitedDate.displayDateTime</th>\n",
       "      <th>visitedDate.__typename</th>\n",
       "    </tr>\n",
       "  </thead>\n",
       "  <tbody>\n",
       "    <tr>\n",
       "      <th>2</th>\n",
       "      <td>2020. 05. 25 01:38:00</td>\n",
       "      <td>05.25 월</td>\n",
       "      <td>2020. 05. 25 월 01:38</td>\n",
       "      <td>VisitedTime</td>\n",
       "    </tr>\n",
       "    <tr>\n",
       "      <th>10</th>\n",
       "      <td>2020. 05. 21 20:42:00</td>\n",
       "      <td>05.21 목</td>\n",
       "      <td>2020. 05. 21 목 20:42</td>\n",
       "      <td>VisitedTime</td>\n",
       "    </tr>\n",
       "    <tr>\n",
       "      <th>11</th>\n",
       "      <td>2020. 05. 21 17:20:00</td>\n",
       "      <td>05.21 목</td>\n",
       "      <td>2020. 05. 21 목 17:20</td>\n",
       "      <td>VisitedTime</td>\n",
       "    </tr>\n",
       "    <tr>\n",
       "      <th>12</th>\n",
       "      <td>2020. 05. 21 13:17:00</td>\n",
       "      <td>05.21 목</td>\n",
       "      <td>2020. 05. 21 목 13:17</td>\n",
       "      <td>VisitedTime</td>\n",
       "    </tr>\n",
       "    <tr>\n",
       "      <th>19</th>\n",
       "      <td>2020. 05. 20 12:48:00</td>\n",
       "      <td>05.20 수</td>\n",
       "      <td>2020. 05. 20 수 12:48</td>\n",
       "      <td>VisitedTime</td>\n",
       "    </tr>\n",
       "    <tr>\n",
       "      <th>...</th>\n",
       "      <td>...</td>\n",
       "      <td>...</td>\n",
       "      <td>...</td>\n",
       "      <td>...</td>\n",
       "    </tr>\n",
       "    <tr>\n",
       "      <th>4139851</th>\n",
       "      <td>2020. 03. 28 20:34:00</td>\n",
       "      <td>03.28 토</td>\n",
       "      <td>2020. 03. 28 토 20:34</td>\n",
       "      <td>VisitedTime</td>\n",
       "    </tr>\n",
       "    <tr>\n",
       "      <th>4139852</th>\n",
       "      <td>2020. 01. 23 21:19:00</td>\n",
       "      <td>01.23 목</td>\n",
       "      <td>2020. 01. 23 목 21:19</td>\n",
       "      <td>VisitedTime</td>\n",
       "    </tr>\n",
       "    <tr>\n",
       "      <th>4139853</th>\n",
       "      <td>2020. 03. 13 15:54:00</td>\n",
       "      <td>03.13 금</td>\n",
       "      <td>2020. 03. 13 금 15:54</td>\n",
       "      <td>VisitedTime</td>\n",
       "    </tr>\n",
       "    <tr>\n",
       "      <th>4139854</th>\n",
       "      <td>2020. 03. 13 18:06:00</td>\n",
       "      <td>03.13 금</td>\n",
       "      <td>2020. 03. 13 금 18:06</td>\n",
       "      <td>VisitedTime</td>\n",
       "    </tr>\n",
       "    <tr>\n",
       "      <th>4139855</th>\n",
       "      <td>2020. 01. 17 19:53:00</td>\n",
       "      <td>01.17 금</td>\n",
       "      <td>2020. 01. 17 금 19:53</td>\n",
       "      <td>VisitedTime</td>\n",
       "    </tr>\n",
       "  </tbody>\n",
       "</table>\n",
       "<p>2313253 rows × 4 columns</p>\n",
       "</div>"
      ],
      "text/plain": [
       "              visitedDate.date visitedDate.displayDate  \\\n",
       "2        2020. 05. 25 01:38:00                 05.25 월   \n",
       "10       2020. 05. 21 20:42:00                 05.21 목   \n",
       "11       2020. 05. 21 17:20:00                 05.21 목   \n",
       "12       2020. 05. 21 13:17:00                 05.21 목   \n",
       "19       2020. 05. 20 12:48:00                 05.20 수   \n",
       "...                        ...                     ...   \n",
       "4139851  2020. 03. 28 20:34:00                 03.28 토   \n",
       "4139852  2020. 01. 23 21:19:00                 01.23 목   \n",
       "4139853  2020. 03. 13 15:54:00                 03.13 금   \n",
       "4139854  2020. 03. 13 18:06:00                 03.13 금   \n",
       "4139855  2020. 01. 17 19:53:00                 01.17 금   \n",
       "\n",
       "        visitedDate.displayDateTime visitedDate.__typename  \n",
       "2              2020. 05. 25 월 01:38            VisitedTime  \n",
       "10             2020. 05. 21 목 20:42            VisitedTime  \n",
       "11             2020. 05. 21 목 17:20            VisitedTime  \n",
       "12             2020. 05. 21 목 13:17            VisitedTime  \n",
       "19             2020. 05. 20 수 12:48            VisitedTime  \n",
       "...                             ...                    ...  \n",
       "4139851        2020. 03. 28 토 20:34            VisitedTime  \n",
       "4139852        2020. 01. 23 목 21:19            VisitedTime  \n",
       "4139853        2020. 03. 13 금 15:54            VisitedTime  \n",
       "4139854        2020. 03. 13 금 18:06            VisitedTime  \n",
       "4139855        2020. 01. 17 금 19:53            VisitedTime  \n",
       "\n",
       "[2313253 rows x 4 columns]"
      ]
     },
     "execution_count": 310,
     "metadata": {},
     "output_type": "execute_result"
    }
   ],
   "source": [
    "# 가장 최근의 리뷰를 참고해서 그 당시의 Place.name으로 대체\n",
    "rv_sel[['visitedDate.date', 'visitedDate.displayDate', 'visitedDate.displayDateTime', 'visitedDate.__typename']]"
   ]
  },
  {
   "cell_type": "code",
   "execution_count": 312,
   "metadata": {
    "Collapsed": "false"
   },
   "outputs": [],
   "source": [
    "temp = rv_sel.groupby('place.id')['visitedDate.date'].max().reset_index()"
   ]
  },
  {
   "cell_type": "code",
   "execution_count": 316,
   "metadata": {
    "Collapsed": "false"
   },
   "outputs": [
    {
     "data": {
      "text/plain": [
       "(214882, 2)"
      ]
     },
     "execution_count": 316,
     "metadata": {},
     "output_type": "execute_result"
    }
   ],
   "source": [
    "temp.shape"
   ]
  },
  {
   "cell_type": "code",
   "execution_count": 319,
   "metadata": {
    "Collapsed": "false"
   },
   "outputs": [],
   "source": [
    "temp = temp.merge(rv_sel[['place.id','visitedDate.date', 'place.name']], on = ['place.id','visitedDate.date'], how = 'inner')"
   ]
  },
  {
   "cell_type": "code",
   "execution_count": 328,
   "metadata": {
    "Collapsed": "false"
   },
   "outputs": [
    {
     "data": {
      "text/html": [
       "<div>\n",
       "<style scoped>\n",
       "    .dataframe tbody tr th:only-of-type {\n",
       "        vertical-align: middle;\n",
       "    }\n",
       "\n",
       "    .dataframe tbody tr th {\n",
       "        vertical-align: top;\n",
       "    }\n",
       "\n",
       "    .dataframe thead th {\n",
       "        text-align: right;\n",
       "    }\n",
       "</style>\n",
       "<table border=\"1\" class=\"dataframe\">\n",
       "  <thead>\n",
       "    <tr style=\"text-align: right;\">\n",
       "      <th></th>\n",
       "      <th>place.id</th>\n",
       "      <th>visitedDate.date</th>\n",
       "      <th>place.name</th>\n",
       "    </tr>\n",
       "  </thead>\n",
       "  <tbody>\n",
       "    <tr>\n",
       "      <th>3</th>\n",
       "      <td>1000026365</td>\n",
       "      <td>2020. 05. 20 14:41:00</td>\n",
       "      <td>마요요가</td>\n",
       "    </tr>\n",
       "    <tr>\n",
       "      <th>4</th>\n",
       "      <td>1000026365</td>\n",
       "      <td>2020. 05. 20 14:41:00</td>\n",
       "      <td>마요요가</td>\n",
       "    </tr>\n",
       "    <tr>\n",
       "      <th>6</th>\n",
       "      <td>1000047092</td>\n",
       "      <td>2020. 02. 13 20:16:00</td>\n",
       "      <td>제주의 봄</td>\n",
       "    </tr>\n",
       "    <tr>\n",
       "      <th>7</th>\n",
       "      <td>1000047092</td>\n",
       "      <td>2020. 02. 13 20:16:00</td>\n",
       "      <td>제주의 봄</td>\n",
       "    </tr>\n",
       "    <tr>\n",
       "      <th>27</th>\n",
       "      <td>1000216111</td>\n",
       "      <td>2020. 05. 26 12:27:00</td>\n",
       "      <td>이종구낙지세상 미아점</td>\n",
       "    </tr>\n",
       "    <tr>\n",
       "      <th>...</th>\n",
       "      <td>...</td>\n",
       "      <td>...</td>\n",
       "      <td>...</td>\n",
       "    </tr>\n",
       "    <tr>\n",
       "      <th>236724</th>\n",
       "      <td>999281674</td>\n",
       "      <td>2020. 05. 12 14:15:00</td>\n",
       "      <td>커피에반하다 공항점</td>\n",
       "    </tr>\n",
       "    <tr>\n",
       "      <th>236725</th>\n",
       "      <td>999281674</td>\n",
       "      <td>2020. 05. 12 14:15:00</td>\n",
       "      <td>커피에반하다 공항점</td>\n",
       "    </tr>\n",
       "    <tr>\n",
       "      <th>236726</th>\n",
       "      <td>999281674</td>\n",
       "      <td>2020. 05. 12 14:15:00</td>\n",
       "      <td>커피에반하다 공항점</td>\n",
       "    </tr>\n",
       "    <tr>\n",
       "      <th>236730</th>\n",
       "      <td>999451597</td>\n",
       "      <td>2020. 05. 15 13:18:00</td>\n",
       "      <td>명동가츠라</td>\n",
       "    </tr>\n",
       "    <tr>\n",
       "      <th>236731</th>\n",
       "      <td>999451597</td>\n",
       "      <td>2020. 05. 15 13:18:00</td>\n",
       "      <td>명동가츠라</td>\n",
       "    </tr>\n",
       "  </tbody>\n",
       "</table>\n",
       "<p>37463 rows × 3 columns</p>\n",
       "</div>"
      ],
      "text/plain": [
       "          place.id       visitedDate.date   place.name\n",
       "3       1000026365  2020. 05. 20 14:41:00         마요요가\n",
       "4       1000026365  2020. 05. 20 14:41:00         마요요가\n",
       "6       1000047092  2020. 02. 13 20:16:00        제주의 봄\n",
       "7       1000047092  2020. 02. 13 20:16:00        제주의 봄\n",
       "27      1000216111  2020. 05. 26 12:27:00  이종구낙지세상 미아점\n",
       "...            ...                    ...          ...\n",
       "236724   999281674  2020. 05. 12 14:15:00   커피에반하다 공항점\n",
       "236725   999281674  2020. 05. 12 14:15:00   커피에반하다 공항점\n",
       "236726   999281674  2020. 05. 12 14:15:00   커피에반하다 공항점\n",
       "236730   999451597  2020. 05. 15 13:18:00        명동가츠라\n",
       "236731   999451597  2020. 05. 15 13:18:00        명동가츠라\n",
       "\n",
       "[37463 rows x 3 columns]"
      ]
     },
     "execution_count": 328,
     "metadata": {},
     "output_type": "execute_result"
    }
   ],
   "source": [
    "temp.loc[temp.duplicated('place.id', keep = False) == True]"
   ]
  },
  {
   "cell_type": "code",
   "execution_count": 330,
   "metadata": {
    "Collapsed": "false"
   },
   "outputs": [],
   "source": [
    "# 가장 최신 place.name 으로 업데이트 완료\n",
    "temp = temp.drop_duplicates()"
   ]
  },
  {
   "cell_type": "code",
   "execution_count": 331,
   "metadata": {
    "Collapsed": "false"
   },
   "outputs": [
    {
     "data": {
      "text/html": [
       "<div>\n",
       "<style scoped>\n",
       "    .dataframe tbody tr th:only-of-type {\n",
       "        vertical-align: middle;\n",
       "    }\n",
       "\n",
       "    .dataframe tbody tr th {\n",
       "        vertical-align: top;\n",
       "    }\n",
       "\n",
       "    .dataframe thead th {\n",
       "        text-align: right;\n",
       "    }\n",
       "</style>\n",
       "<table border=\"1\" class=\"dataframe\">\n",
       "  <thead>\n",
       "    <tr style=\"text-align: right;\">\n",
       "      <th></th>\n",
       "      <th>place.id</th>\n",
       "      <th>visitedDate.date</th>\n",
       "      <th>place.name</th>\n",
       "    </tr>\n",
       "  </thead>\n",
       "  <tbody>\n",
       "    <tr>\n",
       "      <th>64823</th>\n",
       "      <td>1368824611</td>\n",
       "      <td>2020. 05. 23 14:33:00</td>\n",
       "      <td>춘리마라탕</td>\n",
       "    </tr>\n",
       "  </tbody>\n",
       "</table>\n",
       "</div>"
      ],
      "text/plain": [
       "         place.id       visitedDate.date place.name\n",
       "64823  1368824611  2020. 05. 23 14:33:00      춘리마라탕"
      ]
     },
     "execution_count": 331,
     "metadata": {},
     "output_type": "execute_result"
    }
   ],
   "source": [
    "temp[temp['place.id'] == '1368824611']"
   ]
  },
  {
   "cell_type": "code",
   "execution_count": 334,
   "metadata": {
    "Collapsed": "false"
   },
   "outputs": [],
   "source": [
    "select_place_temp = select_place[['place.id', 'place.category', 'review.count', 'review.allcount', 'place.count', 'review.avgcount', 'is_fch', 'isvalid', 'rating', 'is_select', 'place.address', 'land.addr', 'road.addr', 'lat', 'lng']]\n"
   ]
  },
  {
   "cell_type": "code",
   "execution_count": 338,
   "metadata": {
    "Collapsed": "false"
   },
   "outputs": [],
   "source": [
    "select_place = select_place_temp.merge(temp[['place.id', 'place.name']], on = 'place.id', how = 'left')"
   ]
  },
  {
   "cell_type": "code",
   "execution_count": 339,
   "metadata": {
    "Collapsed": "false"
   },
   "outputs": [],
   "source": [
    "# 최근 place.name 으로 업데이트 완료\n",
    "select_place.to_excel(os.path.join(\"..\",\"..\", \"data\",\"JS_0601_select_place.xlsx\"))"
   ]
  },
  {
   "cell_type": "code",
   "execution_count": 340,
   "metadata": {
    "Collapsed": "false"
   },
   "outputs": [],
   "source": [
    "# 이름이 중복되는 place.id 가져오기"
   ]
  },
  {
   "cell_type": "code",
   "execution_count": 345,
   "metadata": {
    "Collapsed": "false"
   },
   "outputs": [],
   "source": [
    "update_placeid = pd.DataFrame(duplicate_place_id).merge(select_place[['place.id', 'place.name']], on = 'place.id', how = 'left')"
   ]
  },
  {
   "cell_type": "code",
   "execution_count": 350,
   "metadata": {
    "Collapsed": "false"
   },
   "outputs": [
    {
     "data": {
      "text/html": [
       "<div>\n",
       "<style scoped>\n",
       "    .dataframe tbody tr th:only-of-type {\n",
       "        vertical-align: middle;\n",
       "    }\n",
       "\n",
       "    .dataframe tbody tr th {\n",
       "        vertical-align: top;\n",
       "    }\n",
       "\n",
       "    .dataframe thead th {\n",
       "        text-align: right;\n",
       "    }\n",
       "</style>\n",
       "<table border=\"1\" class=\"dataframe\">\n",
       "  <thead>\n",
       "    <tr style=\"text-align: right;\">\n",
       "      <th></th>\n",
       "      <th>place.id</th>\n",
       "      <th>place.name</th>\n",
       "    </tr>\n",
       "  </thead>\n",
       "  <tbody>\n",
       "    <tr>\n",
       "      <th>0</th>\n",
       "      <td>1875639166</td>\n",
       "      <td>청담초밥 방이직영점</td>\n",
       "    </tr>\n",
       "    <tr>\n",
       "      <th>1</th>\n",
       "      <td>18377257</td>\n",
       "      <td>우리바다수산</td>\n",
       "    </tr>\n",
       "    <tr>\n",
       "      <th>2</th>\n",
       "      <td>1819102179</td>\n",
       "      <td>TIS COFFEE</td>\n",
       "    </tr>\n",
       "    <tr>\n",
       "      <th>3</th>\n",
       "      <td>1796334110</td>\n",
       "      <td>와플대학 사가정캠퍼스</td>\n",
       "    </tr>\n",
       "    <tr>\n",
       "      <th>4</th>\n",
       "      <td>43229792</td>\n",
       "      <td>다모아분식</td>\n",
       "    </tr>\n",
       "    <tr>\n",
       "      <th>...</th>\n",
       "      <td>...</td>\n",
       "      <td>...</td>\n",
       "    </tr>\n",
       "    <tr>\n",
       "      <th>1056</th>\n",
       "      <td>1170659632</td>\n",
       "      <td>Chai797 Plus 김포점</td>\n",
       "    </tr>\n",
       "    <tr>\n",
       "      <th>1057</th>\n",
       "      <td>1038438512</td>\n",
       "      <td>다섯가지일품구이519</td>\n",
       "    </tr>\n",
       "    <tr>\n",
       "      <th>1058</th>\n",
       "      <td>21607745</td>\n",
       "      <td>바비레드 강남본점</td>\n",
       "    </tr>\n",
       "    <tr>\n",
       "      <th>1059</th>\n",
       "      <td>535057415</td>\n",
       "      <td>화덕고깃간 신천본점</td>\n",
       "    </tr>\n",
       "    <tr>\n",
       "      <th>1060</th>\n",
       "      <td>38010058</td>\n",
       "      <td>여의도 켄싱턴호텔 브로드웨이 뷔페</td>\n",
       "    </tr>\n",
       "  </tbody>\n",
       "</table>\n",
       "<p>1061 rows × 2 columns</p>\n",
       "</div>"
      ],
      "text/plain": [
       "        place.id          place.name\n",
       "0     1875639166          청담초밥 방이직영점\n",
       "1       18377257              우리바다수산\n",
       "2     1819102179          TIS COFFEE\n",
       "3     1796334110         와플대학 사가정캠퍼스\n",
       "4       43229792               다모아분식\n",
       "...          ...                 ...\n",
       "1056  1170659632    Chai797 Plus 김포점\n",
       "1057  1038438512         다섯가지일품구이519\n",
       "1058    21607745           바비레드 강남본점\n",
       "1059   535057415          화덕고깃간 신천본점\n",
       "1060    38010058  여의도 켄싱턴호텔 브로드웨이 뷔페\n",
       "\n",
       "[1061 rows x 2 columns]"
      ]
     },
     "execution_count": 350,
     "metadata": {},
     "output_type": "execute_result"
    }
   ],
   "source": [
    "update_placeid = update_placeid.iloc[:-1]\n",
    "update_placeid"
   ]
  },
  {
   "cell_type": "code",
   "execution_count": 355,
   "metadata": {
    "Collapsed": "false"
   },
   "outputs": [
    {
     "data": {
      "text/plain": [
       "347138    청담초밥 방이직영점\n",
       "347139    청담초밥 방이직영점\n",
       "347140    청담초밥 방이직영점\n",
       "347141    청담초밥 방이직영점\n",
       "347143    청담초밥 방이직영점\n",
       "347144    청담초밥 방이직영점\n",
       "347145    청담초밥 방이직영점\n",
       "347146    청담초밥 방이직영점\n",
       "347147    청담초밥 방이직영점\n",
       "347148    청담초밥 방이직영점\n",
       "347149    청담초밥 방이직영점\n",
       "347150    청담초밥 방이직영점\n",
       "347151    청담초밥 방이직영점\n",
       "347152    청담초밥 방이직영점\n",
       "347153    청담초밥 방이직영점\n",
       "347154    청담초밥 방이직영점\n",
       "347155    청담초밥 방이직영점\n",
       "347156    청담초밥 방이직영점\n",
       "347157    청담초밥 방이직영점\n",
       "347158    청담초밥 방이직영점\n",
       "Name: place.name, dtype: object"
      ]
     },
     "execution_count": 355,
     "metadata": {},
     "output_type": "execute_result"
    }
   ],
   "source": [
    "rv_sel_select.loc[rv_sel_select['place.id'] == '1875639166', 'place.name']"
   ]
  },
  {
   "cell_type": "code",
   "execution_count": 357,
   "metadata": {
    "Collapsed": "false"
   },
   "outputs": [],
   "source": [
    "import warnings\n",
    "warnings.filterwarnings(action='ignore')"
   ]
  },
  {
   "cell_type": "code",
   "execution_count": 358,
   "metadata": {
    "Collapsed": "false"
   },
   "outputs": [
    {
     "data": {
      "text/plain": [
       "array([['1875639166', '청담초밥 방이직영점'],\n",
       "       ['18377257', '우리바다수산'],\n",
       "       ['1819102179', 'TIS COFFEE'],\n",
       "       ...,\n",
       "       ['21607745', '바비레드 강남본점'],\n",
       "       ['535057415', '화덕고깃간 신천본점'],\n",
       "       ['38010058', '여의도 켄싱턴호텔 브로드웨이 뷔페']], dtype=object)"
      ]
     },
     "execution_count": 358,
     "metadata": {},
     "output_type": "execute_result"
    }
   ],
   "source": [
    "update_placeid.values"
   ]
  },
  {
   "cell_type": "code",
   "execution_count": 360,
   "metadata": {
    "Collapsed": "false"
   },
   "outputs": [],
   "source": [
    "from tqdm import tqdm"
   ]
  },
  {
   "cell_type": "code",
   "execution_count": 361,
   "metadata": {
    "Collapsed": "false"
   },
   "outputs": [
    {
     "name": "stderr",
     "output_type": "stream",
     "text": [
      "100%|██████████| 1061/1061 [01:33<00:00, 11.34it/s]\n"
     ]
    }
   ],
   "source": [
    "for idx, name in tqdm(update_placeid.values):\n",
    "    rv_sel_select.loc[rv_sel_select['place.id'] == idx, 'place.name'] = name"
   ]
  },
  {
   "cell_type": "code",
   "execution_count": 364,
   "metadata": {
    "Collapsed": "false"
   },
   "outputs": [
    {
     "data": {
      "text/plain": [
       "96774    우리바다수산\n",
       "96775    우리바다수산\n",
       "96776    우리바다수산\n",
       "96777    우리바다수산\n",
       "96778    우리바다수산\n",
       "96780    우리바다수산\n",
       "96781    우리바다수산\n",
       "96782    우리바다수산\n",
       "96783    우리바다수산\n",
       "96784    우리바다수산\n",
       "96785    우리바다수산\n",
       "96786    우리바다수산\n",
       "96787    우리바다수산\n",
       "96788    우리바다수산\n",
       "96789    우리바다수산\n",
       "96790    우리바다수산\n",
       "96791    우리바다수산\n",
       "96792    우리바다수산\n",
       "96793    우리바다수산\n",
       "96794    우리바다수산\n",
       "96795    우리바다수산\n",
       "96796    우리바다수산\n",
       "96797    우리바다수산\n",
       "96798    우리바다수산\n",
       "96799    우리바다수산\n",
       "96800    우리바다수산\n",
       "96801    우리바다수산\n",
       "96802    우리바다수산\n",
       "96803    우리바다수산\n",
       "96804    우리바다수산\n",
       "96805    우리바다수산\n",
       "96806    우리바다수산\n",
       "96807    우리바다수산\n",
       "96808    우리바다수산\n",
       "96809    우리바다수산\n",
       "96810    우리바다수산\n",
       "96813    우리바다수산\n",
       "96814    우리바다수산\n",
       "96815    우리바다수산\n",
       "96816    우리바다수산\n",
       "96818    우리바다수산\n",
       "96820    우리바다수산\n",
       "96821    우리바다수산\n",
       "96822    우리바다수산\n",
       "96823    우리바다수산\n",
       "96824    우리바다수산\n",
       "96825    우리바다수산\n",
       "96827    우리바다수산\n",
       "96828    우리바다수산\n",
       "96829    우리바다수산\n",
       "96830    우리바다수산\n",
       "96832    우리바다수산\n",
       "96833    우리바다수산\n",
       "96834    우리바다수산\n",
       "96835    우리바다수산\n",
       "Name: place.name, dtype: object"
      ]
     },
     "execution_count": 364,
     "metadata": {},
     "output_type": "execute_result"
    }
   ],
   "source": [
    "# 업데이트 완료\n",
    "rv_sel_select.loc[rv_sel_select['place.id'] == '18377257', 'place.name']"
   ]
  },
  {
   "cell_type": "code",
   "execution_count": 367,
   "metadata": {
    "Collapsed": "false"
   },
   "outputs": [
    {
     "data": {
      "text/plain": [
       "(9866, 9594)"
      ]
     },
     "execution_count": 367,
     "metadata": {},
     "output_type": "execute_result"
    }
   ],
   "source": [
    "rv_sel_select['place.id'].nunique(), rv_sel_select['place.name'].nunique()"
   ]
  },
  {
   "cell_type": "code",
   "execution_count": 370,
   "metadata": {
    "Collapsed": "false"
   },
   "outputs": [
    {
     "data": {
      "text/plain": [
       "232159              가족뮤지컬 넌 특별하단다\n",
       "232208    (부천)어린이베스트셀러뮤지컬 '사과가 쿵'\n",
       "232136                     (주)엔터랩\n",
       "263300                      010수산\n",
       "263271                      010수산\n",
       "                   ...           \n",
       "89961                    힛더스팟 가산점\n",
       "89960                    힛더스팟 가산점\n",
       "89959                    힛더스팟 가산점\n",
       "89968                    힛더스팟 가산점\n",
       "89962                    힛더스팟 가산점\n",
       "Name: place.name, Length: 334027, dtype: object"
      ]
     },
     "execution_count": 370,
     "metadata": {},
     "output_type": "execute_result"
    }
   ],
   "source": [
    "rv_sel_select['place.name'].sort_values()"
   ]
  },
  {
   "cell_type": "code",
   "execution_count": 390,
   "metadata": {
    "Collapsed": "false"
   },
   "outputs": [],
   "source": [
    "temp = rv_sel_select[['place.id', 'place.name']].drop_duplicates()"
   ]
  },
  {
   "cell_type": "code",
   "execution_count": 391,
   "metadata": {
    "Collapsed": "false"
   },
   "outputs": [
    {
     "data": {
      "text/html": [
       "<div>\n",
       "<style scoped>\n",
       "    .dataframe tbody tr th:only-of-type {\n",
       "        vertical-align: middle;\n",
       "    }\n",
       "\n",
       "    .dataframe tbody tr th {\n",
       "        vertical-align: top;\n",
       "    }\n",
       "\n",
       "    .dataframe thead th {\n",
       "        text-align: right;\n",
       "    }\n",
       "</style>\n",
       "<table border=\"1\" class=\"dataframe\">\n",
       "  <thead>\n",
       "    <tr style=\"text-align: right;\">\n",
       "      <th></th>\n",
       "      <th>place.id</th>\n",
       "      <th>place.name</th>\n",
       "    </tr>\n",
       "  </thead>\n",
       "  <tbody>\n",
       "    <tr>\n",
       "      <th>232076</th>\n",
       "      <td>none</td>\n",
       "      <td>CONNECT, BTS</td>\n",
       "    </tr>\n",
       "    <tr>\n",
       "      <th>232079</th>\n",
       "      <td>none</td>\n",
       "      <td>서울일러스트레이션페어vol.9</td>\n",
       "    </tr>\n",
       "    <tr>\n",
       "      <th>232080</th>\n",
       "      <td>none</td>\n",
       "      <td>역사가 우리를 망쳐 놨지만 그래도 상관없다</td>\n",
       "    </tr>\n",
       "    <tr>\n",
       "      <th>232081</th>\n",
       "      <td>none</td>\n",
       "      <td>야수파 걸작전 : 천재 화가 키즈아틀리에</td>\n",
       "    </tr>\n",
       "    <tr>\n",
       "      <th>232082</th>\n",
       "      <td>none</td>\n",
       "      <td>매드포갈릭 봉은사로점(N)</td>\n",
       "    </tr>\n",
       "    <tr>\n",
       "      <th>...</th>\n",
       "      <td>...</td>\n",
       "      <td>...</td>\n",
       "    </tr>\n",
       "    <tr>\n",
       "      <th>232209</th>\n",
       "      <td>none</td>\n",
       "      <td>한국의정원展 : 소쇄원, 낯설게 산책하기</td>\n",
       "    </tr>\n",
       "    <tr>\n",
       "      <th>232210</th>\n",
       "      <td>none</td>\n",
       "      <td>로프트 관광호텔</td>\n",
       "    </tr>\n",
       "    <tr>\n",
       "      <th>232215</th>\n",
       "      <td>none</td>\n",
       "      <td>호텔클리오</td>\n",
       "    </tr>\n",
       "    <tr>\n",
       "      <th>232218</th>\n",
       "      <td>none</td>\n",
       "      <td>매드포갈릭 상암MBC점(N)</td>\n",
       "    </tr>\n",
       "    <tr>\n",
       "      <th>232225</th>\n",
       "      <td>none</td>\n",
       "      <td>이수근의 웃음팔이소년 (종로)</td>\n",
       "    </tr>\n",
       "  </tbody>\n",
       "</table>\n",
       "<p>91 rows × 2 columns</p>\n",
       "</div>"
      ],
      "text/plain": [
       "       place.id               place.name\n",
       "232076     none            CONNECT, BTS \n",
       "232079     none         서울일러스트레이션페어vol.9\n",
       "232080     none  역사가 우리를 망쳐 놨지만 그래도 상관없다\n",
       "232081     none  야수파 걸작전 : 천재 화가 키즈아틀리에 \n",
       "232082     none           매드포갈릭 봉은사로점(N)\n",
       "...         ...                      ...\n",
       "232209     none   한국의정원展 : 소쇄원, 낯설게 산책하기\n",
       "232210     none                 로프트 관광호텔\n",
       "232215     none                    호텔클리오\n",
       "232218     none          매드포갈릭 상암MBC점(N)\n",
       "232225     none         이수근의 웃음팔이소년 (종로)\n",
       "\n",
       "[91 rows x 2 columns]"
      ]
     },
     "execution_count": 391,
     "metadata": {},
     "output_type": "execute_result"
    }
   ],
   "source": [
    "temp.loc[temp.duplicated('place.id', keep = False) == True]"
   ]
  },
  {
   "cell_type": "code",
   "execution_count": 397,
   "metadata": {
    "Collapsed": "false"
   },
   "outputs": [],
   "source": [
    "rv_sel_select = rv_sel_select.loc[rv_sel_select['place.id'] != 'none']"
   ]
  },
  {
   "cell_type": "code",
   "execution_count": 398,
   "metadata": {
    "Collapsed": "false"
   },
   "outputs": [
    {
     "data": {
      "text/plain": [
       "(9865, 9506)"
      ]
     },
     "execution_count": 398,
     "metadata": {},
     "output_type": "execute_result"
    }
   ],
   "source": [
    "rv_sel_select['place.id'].nunique(), rv_sel_select['place.name'].nunique()"
   ]
  },
  {
   "cell_type": "code",
   "execution_count": 399,
   "metadata": {
    "Collapsed": "false"
   },
   "outputs": [],
   "source": [
    "temp = rv_sel_select[['place.id', 'place.name']].drop_duplicates()"
   ]
  },
  {
   "cell_type": "code",
   "execution_count": 402,
   "metadata": {
    "Collapsed": "false"
   },
   "outputs": [
    {
     "data": {
      "text/html": [
       "<div>\n",
       "<style scoped>\n",
       "    .dataframe tbody tr th:only-of-type {\n",
       "        vertical-align: middle;\n",
       "    }\n",
       "\n",
       "    .dataframe tbody tr th {\n",
       "        vertical-align: top;\n",
       "    }\n",
       "\n",
       "    .dataframe thead th {\n",
       "        text-align: right;\n",
       "    }\n",
       "</style>\n",
       "<table border=\"1\" class=\"dataframe\">\n",
       "  <thead>\n",
       "    <tr style=\"text-align: right;\">\n",
       "      <th></th>\n",
       "      <th>place.id</th>\n",
       "      <th>place.name</th>\n",
       "    </tr>\n",
       "  </thead>\n",
       "  <tbody>\n",
       "    <tr>\n",
       "      <th>1204</th>\n",
       "      <td>1047335571</td>\n",
       "      <td>1인1잔</td>\n",
       "    </tr>\n",
       "    <tr>\n",
       "      <th>138302</th>\n",
       "      <td>1101064446</td>\n",
       "      <td>1인1잔</td>\n",
       "    </tr>\n",
       "    <tr>\n",
       "      <th>397469</th>\n",
       "      <td>1101429921</td>\n",
       "      <td>가로수길마루</td>\n",
       "    </tr>\n",
       "    <tr>\n",
       "      <th>71375</th>\n",
       "      <td>1313926828</td>\n",
       "      <td>가로수길마루</td>\n",
       "    </tr>\n",
       "    <tr>\n",
       "      <th>382963</th>\n",
       "      <td>37837722</td>\n",
       "      <td>가쯔레쯔</td>\n",
       "    </tr>\n",
       "    <tr>\n",
       "      <th>...</th>\n",
       "      <td>...</td>\n",
       "      <td>...</td>\n",
       "    </tr>\n",
       "    <tr>\n",
       "      <th>260839</th>\n",
       "      <td>1055860476</td>\n",
       "      <td>희래식당</td>\n",
       "    </tr>\n",
       "    <tr>\n",
       "      <th>31431</th>\n",
       "      <td>1739977821</td>\n",
       "      <td>희래식당</td>\n",
       "    </tr>\n",
       "    <tr>\n",
       "      <th>327125</th>\n",
       "      <td>1779134506</td>\n",
       "      <td>희래식당</td>\n",
       "    </tr>\n",
       "    <tr>\n",
       "      <th>417628</th>\n",
       "      <td>1862295844</td>\n",
       "      <td>히메시야</td>\n",
       "    </tr>\n",
       "    <tr>\n",
       "      <th>343639</th>\n",
       "      <td>33626741</td>\n",
       "      <td>히메시야</td>\n",
       "    </tr>\n",
       "  </tbody>\n",
       "</table>\n",
       "<p>632 rows × 2 columns</p>\n",
       "</div>"
      ],
      "text/plain": [
       "          place.id place.name\n",
       "1204    1047335571       1인1잔\n",
       "138302  1101064446       1인1잔\n",
       "397469  1101429921     가로수길마루\n",
       "71375   1313926828     가로수길마루\n",
       "382963    37837722       가쯔레쯔\n",
       "...            ...        ...\n",
       "260839  1055860476       희래식당\n",
       "31431   1739977821       희래식당\n",
       "327125  1779134506       희래식당\n",
       "417628  1862295844       히메시야\n",
       "343639    33626741       히메시야\n",
       "\n",
       "[632 rows x 2 columns]"
      ]
     },
     "execution_count": 402,
     "metadata": {},
     "output_type": "execute_result"
    }
   ],
   "source": [
    "# place.name은 같아도 place.id는 다른 경우가 있음\n",
    "temp.loc[temp.duplicated('place.name', keep = False) == True].sort_values('place.name')"
   ]
  },
  {
   "cell_type": "code",
   "execution_count": 409,
   "metadata": {
    "Collapsed": "false"
   },
   "outputs": [
    {
     "data": {
      "text/html": [
       "<div>\n",
       "<style scoped>\n",
       "    .dataframe tbody tr th:only-of-type {\n",
       "        vertical-align: middle;\n",
       "    }\n",
       "\n",
       "    .dataframe tbody tr th {\n",
       "        vertical-align: top;\n",
       "    }\n",
       "\n",
       "    .dataframe thead th {\n",
       "        text-align: right;\n",
       "    }\n",
       "</style>\n",
       "<table border=\"1\" class=\"dataframe\">\n",
       "  <thead>\n",
       "    <tr style=\"text-align: right;\">\n",
       "      <th></th>\n",
       "      <th>place.id</th>\n",
       "      <th>place.category</th>\n",
       "      <th>review.count</th>\n",
       "      <th>review.allcount</th>\n",
       "      <th>place.count</th>\n",
       "      <th>review.avgcount</th>\n",
       "      <th>is_fch</th>\n",
       "      <th>isvalid</th>\n",
       "      <th>rating</th>\n",
       "      <th>is_select</th>\n",
       "      <th>place.address</th>\n",
       "      <th>land.addr</th>\n",
       "      <th>road.addr</th>\n",
       "      <th>lat</th>\n",
       "      <th>lng</th>\n",
       "      <th>place.name</th>\n",
       "    </tr>\n",
       "  </thead>\n",
       "  <tbody>\n",
       "    <tr>\n",
       "      <th>7803</th>\n",
       "      <td>1101429921</td>\n",
       "      <td>일본식라면-일반</td>\n",
       "      <td>26</td>\n",
       "      <td>3278</td>\n",
       "      <td>253</td>\n",
       "      <td>12.956522</td>\n",
       "      <td>0</td>\n",
       "      <td>2.006711</td>\n",
       "      <td>3.788462</td>\n",
       "      <td>1.0</td>\n",
       "      <td>서울특별시 중구 남대문로5가 541</td>\n",
       "      <td>서울특별시 중구 남대문로5가 541 서울스퀘어</td>\n",
       "      <td>서울특별시 중구 한강대로 416 서울스퀘어</td>\n",
       "      <td>37.555527</td>\n",
       "      <td>126.973867</td>\n",
       "      <td>가로수길마루</td>\n",
       "    </tr>\n",
       "  </tbody>\n",
       "</table>\n",
       "</div>"
      ],
      "text/plain": [
       "        place.id place.category  review.count  review.allcount  place.count  \\\n",
       "7803  1101429921       일본식라면-일반            26             3278          253   \n",
       "\n",
       "      review.avgcount is_fch   isvalid    rating  is_select  \\\n",
       "7803        12.956522      0  2.006711  3.788462        1.0   \n",
       "\n",
       "            place.address                  land.addr                road.addr  \\\n",
       "7803  서울특별시 중구 남대문로5가 541  서울특별시 중구 남대문로5가 541 서울스퀘어  서울특별시 중구 한강대로 416 서울스퀘어   \n",
       "\n",
       "            lat         lng place.name  \n",
       "7803  37.555527  126.973867     가로수길마루  "
      ]
     },
     "execution_count": 409,
     "metadata": {},
     "output_type": "execute_result"
    }
   ],
   "source": [
    "select_place.loc[select_place['place.id'] == '1101429921']"
   ]
  },
  {
   "cell_type": "code",
   "execution_count": 410,
   "metadata": {
    "Collapsed": "false"
   },
   "outputs": [
    {
     "data": {
      "text/html": [
       "<div>\n",
       "<style scoped>\n",
       "    .dataframe tbody tr th:only-of-type {\n",
       "        vertical-align: middle;\n",
       "    }\n",
       "\n",
       "    .dataframe tbody tr th {\n",
       "        vertical-align: top;\n",
       "    }\n",
       "\n",
       "    .dataframe thead th {\n",
       "        text-align: right;\n",
       "    }\n",
       "</style>\n",
       "<table border=\"1\" class=\"dataframe\">\n",
       "  <thead>\n",
       "    <tr style=\"text-align: right;\">\n",
       "      <th></th>\n",
       "      <th>place.id</th>\n",
       "      <th>place.category</th>\n",
       "      <th>review.count</th>\n",
       "      <th>review.allcount</th>\n",
       "      <th>place.count</th>\n",
       "      <th>review.avgcount</th>\n",
       "      <th>is_fch</th>\n",
       "      <th>isvalid</th>\n",
       "      <th>rating</th>\n",
       "      <th>is_select</th>\n",
       "      <th>place.address</th>\n",
       "      <th>land.addr</th>\n",
       "      <th>road.addr</th>\n",
       "      <th>lat</th>\n",
       "      <th>lng</th>\n",
       "      <th>place.name</th>\n",
       "    </tr>\n",
       "  </thead>\n",
       "  <tbody>\n",
       "    <tr>\n",
       "      <th>3615</th>\n",
       "      <td>1313926828</td>\n",
       "      <td>일식당-일반</td>\n",
       "      <td>26</td>\n",
       "      <td>19639</td>\n",
       "      <td>2121</td>\n",
       "      <td>9.259312</td>\n",
       "      <td>0</td>\n",
       "      <td>2.807984</td>\n",
       "      <td>4.115385</td>\n",
       "      <td>1.0</td>\n",
       "      <td>서울특별시 강서구 등촌동 689</td>\n",
       "      <td>서울특별시 강서구 등촌동 689 엔씨백화점</td>\n",
       "      <td>서울특별시 강서구 강서로56길 17 엔씨백화점</td>\n",
       "      <td>37.559979</td>\n",
       "      <td>126.840342</td>\n",
       "      <td>가로수길마루</td>\n",
       "    </tr>\n",
       "  </tbody>\n",
       "</table>\n",
       "</div>"
      ],
      "text/plain": [
       "        place.id place.category  review.count  review.allcount  place.count  \\\n",
       "3615  1313926828         일식당-일반            26            19639         2121   \n",
       "\n",
       "      review.avgcount is_fch   isvalid    rating  is_select  \\\n",
       "3615         9.259312      0  2.807984  4.115385        1.0   \n",
       "\n",
       "          place.address                land.addr                  road.addr  \\\n",
       "3615  서울특별시 강서구 등촌동 689  서울특별시 강서구 등촌동 689 엔씨백화점  서울특별시 강서구 강서로56길 17 엔씨백화점   \n",
       "\n",
       "            lat         lng place.name  \n",
       "3615  37.559979  126.840342     가로수길마루  "
      ]
     },
     "execution_count": 410,
     "metadata": {},
     "output_type": "execute_result"
    }
   ],
   "source": [
    "select_place.loc[select_place['place.id'] == '1313926828']"
   ]
  },
  {
   "cell_type": "code",
   "execution_count": 416,
   "metadata": {
    "Collapsed": "false"
   },
   "outputs": [],
   "source": [
    "temp = rv_sel_select.groupby('place.id')['id'].nunique().reset_index()"
   ]
  },
  {
   "cell_type": "code",
   "execution_count": 417,
   "metadata": {
    "Collapsed": "false"
   },
   "outputs": [
    {
     "data": {
      "text/html": [
       "<div>\n",
       "<style scoped>\n",
       "    .dataframe tbody tr th:only-of-type {\n",
       "        vertical-align: middle;\n",
       "    }\n",
       "\n",
       "    .dataframe tbody tr th {\n",
       "        vertical-align: top;\n",
       "    }\n",
       "\n",
       "    .dataframe thead th {\n",
       "        text-align: right;\n",
       "    }\n",
       "</style>\n",
       "<table border=\"1\" class=\"dataframe\">\n",
       "  <thead>\n",
       "    <tr style=\"text-align: right;\">\n",
       "      <th></th>\n",
       "      <th>place.id</th>\n",
       "      <th>id</th>\n",
       "    </tr>\n",
       "  </thead>\n",
       "  <tbody>\n",
       "    <tr>\n",
       "      <th>0</th>\n",
       "      <td>1000055434</td>\n",
       "      <td>51</td>\n",
       "    </tr>\n",
       "    <tr>\n",
       "      <th>1</th>\n",
       "      <td>1000498595</td>\n",
       "      <td>21</td>\n",
       "    </tr>\n",
       "    <tr>\n",
       "      <th>2</th>\n",
       "      <td>1000616978</td>\n",
       "      <td>59</td>\n",
       "    </tr>\n",
       "    <tr>\n",
       "      <th>3</th>\n",
       "      <td>1000725407</td>\n",
       "      <td>31</td>\n",
       "    </tr>\n",
       "    <tr>\n",
       "      <th>4</th>\n",
       "      <td>1000771326</td>\n",
       "      <td>17</td>\n",
       "    </tr>\n",
       "    <tr>\n",
       "      <th>...</th>\n",
       "      <td>...</td>\n",
       "      <td>...</td>\n",
       "    </tr>\n",
       "    <tr>\n",
       "      <th>9860</th>\n",
       "      <td>993990809</td>\n",
       "      <td>30</td>\n",
       "    </tr>\n",
       "    <tr>\n",
       "      <th>9861</th>\n",
       "      <td>99465898</td>\n",
       "      <td>67</td>\n",
       "    </tr>\n",
       "    <tr>\n",
       "      <th>9862</th>\n",
       "      <td>996334906</td>\n",
       "      <td>48</td>\n",
       "    </tr>\n",
       "    <tr>\n",
       "      <th>9863</th>\n",
       "      <td>99828703</td>\n",
       "      <td>97</td>\n",
       "    </tr>\n",
       "    <tr>\n",
       "      <th>9864</th>\n",
       "      <td>999451597</td>\n",
       "      <td>21</td>\n",
       "    </tr>\n",
       "  </tbody>\n",
       "</table>\n",
       "<p>9865 rows × 2 columns</p>\n",
       "</div>"
      ],
      "text/plain": [
       "        place.id  id\n",
       "0     1000055434  51\n",
       "1     1000498595  21\n",
       "2     1000616978  59\n",
       "3     1000725407  31\n",
       "4     1000771326  17\n",
       "...          ...  ..\n",
       "9860   993990809  30\n",
       "9861    99465898  67\n",
       "9862   996334906  48\n",
       "9863    99828703  97\n",
       "9864   999451597  21\n",
       "\n",
       "[9865 rows x 2 columns]"
      ]
     },
     "execution_count": 417,
     "metadata": {},
     "output_type": "execute_result"
    }
   ],
   "source": [
    "temp"
   ]
  },
  {
   "cell_type": "code",
   "execution_count": 420,
   "metadata": {
    "Collapsed": "false"
   },
   "outputs": [],
   "source": [
    "select_place = select_place.merge(temp, on = 'place.id', how = 'left')"
   ]
  },
  {
   "cell_type": "code",
   "execution_count": 429,
   "metadata": {
    "Collapsed": "false"
   },
   "outputs": [],
   "source": [
    "select_place = select_place.rename(columns = {'id' : 'review.count.again'})"
   ]
  },
  {
   "cell_type": "markdown",
   "metadata": {
    "Collapsed": "true",
    "toc-hr-collapsed": true,
    "toc-nb-collapsed": true
   },
   "source": [
    "# 저장"
   ]
  },
  {
   "cell_type": "code",
   "execution_count": 430,
   "metadata": {
    "Collapsed": "false"
   },
   "outputs": [
    {
     "data": {
      "text/plain": [
       "['../../data/JS_0502_reviews_seoul_select.pkl']"
      ]
     },
     "execution_count": 430,
     "metadata": {},
     "output_type": "execute_result"
    }
   ],
   "source": [
    "rv_sel_select.to_excel(os.path.join(\"..\",\"..\", \"data\",\"JS_0502_reviews_seoul_select.xlsx\"))\n",
    "joblib.dump(rv_sel_select, os.path.join(\"..\",\"..\", \"data\",\"JS_0502_reviews_seoul_select.pkl\"))"
   ]
  },
  {
   "cell_type": "code",
   "execution_count": 431,
   "metadata": {
    "Collapsed": "false"
   },
   "outputs": [],
   "source": [
    "select_place.to_excel(os.path.join(\"..\",\"..\", \"data\",\"JS_0601_select_place.xlsx\"))"
   ]
  },
  {
   "cell_type": "code",
   "execution_count": null,
   "metadata": {
    "Collapsed": "false"
   },
   "outputs": [],
   "source": []
  }
 ],
 "metadata": {
  "kernelspec": {
   "display_name": "Python 3",
   "language": "python",
   "name": "python3"
  },
  "language_info": {
   "codemirror_mode": {
    "name": "ipython",
    "version": 3
   },
   "file_extension": ".py",
   "mimetype": "text/x-python",
   "name": "python",
   "nbconvert_exporter": "python",
   "pygments_lexer": "ipython3",
   "version": "3.7.6"
  }
 },
 "nbformat": 4,
 "nbformat_minor": 4
}
