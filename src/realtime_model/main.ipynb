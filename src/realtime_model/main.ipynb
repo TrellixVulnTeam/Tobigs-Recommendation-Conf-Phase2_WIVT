{
 "cells": [
  {
   "cell_type": "code",
   "execution_count": 53,
   "metadata": {
    "Collapsed": "false"
   },
   "outputs": [
    {
     "name": "stdout",
     "output_type": "stream",
     "text": [
      "Using TensorFlow backend.\n",
      "input hotel: 마르코 폴로\n",
      "----------\n",
      "top 1 63뷔페 파빌리온\n",
      "  주소 서울 영등포구 63로 50\n",
      "top 2 쟈니덤플링\n",
      "  주소 서울 용산구 보광로59길 5\n",
      "top 3 알마토\n",
      "  주소 서울 신흥로 41-1\n",
      "top 4 노리타\n",
      "  주소 서울 충무로1가 22-5\n",
      "top 5 백미당\n",
      "  주소 서울 강서구 하늘길 112 4층\n",
      "top 6 나인스게이트\n",
      "  주소 서울 중구 소공동 87  웨스틴 조선호텔 1층 1F, Westin Chosun Hotel\n",
      "top 7 민소한우\n",
      "  주소 서울 국제금융로2길 37\n",
      "top 8 박가네 빈대떡\n",
      "  주소 서울 종로5가 광장시장\n",
      "top 9 서울리스타 커피&펍\n",
      "  주소 서울 중구 퇴계로 19 호텔마누 1~2층\n",
      "top 10 스즈란테이\n",
      "  주소 서울 강서구 공항대로 269-15\n",
      "None\n"
     ]
    }
   ],
   "source": [
    "! python YN_model.py --local_gloabal 'global' --model 'wnd' --path \"../realtime_model\" --item_id 788542 --top 10"
   ]
  },
  {
   "cell_type": "code",
   "execution_count": 60,
   "metadata": {
    "Collapsed": "false"
   },
   "outputs": [
    {
     "name": "stdout",
     "output_type": "stream",
     "text": [
      "Using TensorFlow backend.\n",
      "input hotel: 마르코 폴로\n",
      "----------\n",
      "top 1 버터핑거 팬케이크 강남점\n",
      "  주소 서울 서초구 서초동 1317\n",
      "top 2 빵꼼마\n",
      "  주소 서울 마포구 양화로21길 23\n",
      "top 3 명동한식당\n",
      "  주소 서울 삼일대로 401-48\n",
      "top 4 IQ84CHURROS\n",
      "  주소 서울 강남대로102길 16\n",
      "top 5 스타벅스 리져브 - 용산푸르지오써밋점\n",
      "  주소 서울 용산구 한강로2가 391\n",
      "top 6 빠나미\n",
      "  주소 서울 한강대로 416\n",
      "top 7 빠나미\n",
      "  주소 서울 테헤란로87길 22\n",
      "top 8 N 버거\n",
      "  주소 서울 용산구 남산공원길 105 N 서울 타워 플라자 1층\n",
      "top 9 한국 갈비\n",
      "  주소 서울 중구 명동2가 93-2\n",
      "top 10 옴\n",
      "  주소 서울 어울마당로 126\n",
      "None\n"
     ]
    }
   ],
   "source": [
    "! python YN_model.py --local_gloabal 'global' --model 'wnd' --path \"../realtime_model\" --item_id 788542 --top 10"
   ]
  },
  {
   "cell_type": "code",
   "execution_count": 59,
   "metadata": {
    "Collapsed": "false"
   },
   "outputs": [
    {
     "name": "stdout",
     "output_type": "stream",
     "text": [
      "Using TensorFlow backend.\n",
      "input hotel: Conrad Seoul\n",
      "----------\n",
      "top 1 쭈꾸미도사\n",
      "  주소 서울특별시 강동구 성내동 11-9\n",
      "top 2 무한야끼\n",
      "  주소 서울특별시 강서구 마곡동 774-9 사이언스타\n",
      "top 3 미야기\n",
      "  주소 서울특별시 강남구 논현동 212-19\n",
      "top 4 형제육회\n",
      "  주소 서울특별시 종로구 종로4가 181-1\n",
      "top 5 퍼줄래일번지대박집\n",
      "  주소 서울특별시 마포구 염리동 147-27\n",
      "top 6 라따블\n",
      "  주소 서울특별시 중구 명동1가 59-5 명동 토투앤,엠버서더호텔\n",
      "top 7 벨라스가든\n",
      "  주소 서울특별시 송파구 송파동 32-2 더블유123빌딩\n",
      "top 8 일품중화요리\n",
      "  주소 서울특별시 강남구 역삼2동 707-34 한신인터밸리24빌딩\n",
      "top 9 푸하하크림빵\n",
      "  주소 서울특별시 마포구 합정동 474 합정한강아파트\n",
      "top 10 상수돼집\n",
      "  주소 서울특별시 마포구 상수동 317-10\n",
      "None\n"
     ]
    }
   ],
   "source": [
    "! python YN_model.py --local_gloabal 'local' --model 'wnd' --path \"../realtime_model\" --item_id 3477158 --top 10"
   ]
  },
  {
   "cell_type": "code",
   "execution_count": null,
   "metadata": {
    "Collapsed": "false"
   },
   "outputs": [],
   "source": [
    "! python YN_model.py --local_gloabal 'local' --model 'deepFM' --path \"../realtime_model\" --item_id 3477158 --top 10"
   ]
  }
 ],
 "metadata": {
  "kernelspec": {
   "display_name": "Python 3",
   "language": "python",
   "name": "python3"
  },
  "language_info": {
   "codemirror_mode": {
    "name": "ipython",
    "version": 3
   },
   "file_extension": ".py",
   "mimetype": "text/x-python",
   "name": "python",
   "nbconvert_exporter": "python",
   "pygments_lexer": "ipython3",
   "version": "3.7.6"
  }
 },
 "nbformat": 4,
 "nbformat_minor": 4
}
