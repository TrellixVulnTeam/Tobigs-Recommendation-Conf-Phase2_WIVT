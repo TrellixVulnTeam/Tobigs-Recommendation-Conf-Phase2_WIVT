{
 "cells": [
  {
   "cell_type": "code",
   "execution_count": 1,
   "metadata": {},
   "outputs": [
    {
     "output_type": "stream",
     "name": "stdout",
     "text": "/bin/sh: -c: line 0: syntax error near unexpected token `('\n/bin/sh: -c: line 0: ` python YN_model2 --local_global global --model wnd --path os.path(\"..\",'..',\"data\",\"sim_data\") --item_name 노보텔스위트앰배서더서울용산 --top 10'\n"
    }
   ],
   "source": [
    "! python YN_model2 --local_global global --model wnd --path \"../../data/sim_data\" --item_name 노보텔스위트앰배서더서울용산 --top 10"
   ]
  }
 ],
 "metadata": {
  "language_info": {
   "codemirror_mode": {
    "name": "ipython",
    "version": 3
   },
   "file_extension": ".py",
   "mimetype": "text/x-python",
   "name": "python",
   "nbconvert_exporter": "python",
   "pygments_lexer": "ipython3",
   "version": "3.7.6-final"
  },
  "orig_nbformat": 2,
  "kernelspec": {
   "name": "python3",
   "display_name": "Python 3"
  }
 },
 "nbformat": 4,
 "nbformat_minor": 2
}