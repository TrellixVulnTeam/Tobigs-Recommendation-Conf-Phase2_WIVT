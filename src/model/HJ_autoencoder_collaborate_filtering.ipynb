{
 "cells": [
  {
   "cell_type": "code",
   "execution_count": 2,
   "metadata": {
    "colab": {
     "base_uri": "https://localhost:8080/",
     "height": 34
    },
    "colab_type": "code",
    "id": "F88l6oKTpNzC",
    "outputId": "e2cc442b-b8ad-40f3-821f-36eccdcd2a1b"
   },
   "outputs": [
    {
     "name": "stdout",
     "output_type": "stream",
     "text": [
      "Drive already mounted at /content/drive; to attempt to forcibly remount, call drive.mount(\"/content/drive\", force_remount=True).\n"
     ]
    }
   ],
   "source": [
    "from google.colab import drive\n",
    "drive.mount('/content/drive')"
   ]
  },
  {
   "cell_type": "code",
   "execution_count": null,
   "metadata": {
    "colab": {},
    "colab_type": "code",
    "id": "QKYp1M5HpE9a"
   },
   "outputs": [],
   "source": [
    "import numpy as np\n",
    "import pandas as pd\n",
    "import os\n",
    "import numexpr as ne\n",
    "import json\n",
    "pd.set_option('max_columns', 300)\n",
    "import warnings\n",
    "warnings.filterwarnings('ignore')\n",
    "from sklearn.model_selection import train_test_split"
   ]
  },
  {
   "cell_type": "code",
   "execution_count": 4,
   "metadata": {
    "colab": {
     "base_uri": "https://localhost:8080/",
     "height": 34
    },
    "colab_type": "code",
    "id": "2xEfztq0pE9g",
    "outputId": "960411ca-51f9-4abc-af8e-3978b7db4bd3"
   },
   "outputs": [
    {
     "name": "stderr",
     "output_type": "stream",
     "text": [
      "Using TensorFlow backend.\n"
     ]
    }
   ],
   "source": [
    "import pandas as pd\n",
    "import matplotlib.pyplot as plt\n",
    "import math\n",
    "import numpy as np\n",
    "import seaborn as sns\n",
    "from sklearn.model_selection import train_test_split\n",
    "from tensorflow.python.keras.optimizers import Adam, RMSprop\n",
    "from tensorflow.python.keras.layers import Input, Dense, Embedding, Flatten, Dropout, merge, Activation, BatchNormalization, LeakyReLU\n",
    "from tensorflow.python.keras.models import Model\n",
    "from tensorflow.python.keras.regularizers import l2\n",
    "from tensorflow.python.keras import backend as K\n",
    "from tensorflow.python.keras import regularizers\n",
    "from tensorflow.python.keras.callbacks import ModelCheckpoint, EarlyStopping\n",
    "from tensorflow.python.keras import initializers\n",
    "from tensorflow.python.keras.layers import add, concatenate\n",
    "%matplotlib inline  \n",
    "import warnings\n",
    "warnings.filterwarnings('ignore')\n",
    "from keras.callbacks import EarlyStopping, ModelCheckpoint\n",
    "from scipy.sparse import csr_matrix\n",
    "import tensorflow as tf\n",
    "from tensorflow.python.keras.models import model_from_json\n",
    "from sklearn import preprocessing\n",
    "from keras.utils import plot_model"
   ]
  },
  {
   "cell_type": "markdown",
   "metadata": {
    "colab_type": "text",
    "id": "r371nQmPpE9m"
   },
   "source": [
    "## Data preprocessing"
   ]
  },
  {
   "cell_type": "code",
   "execution_count": null,
   "metadata": {
    "colab": {},
    "colab_type": "code",
    "id": "OulduM0rpE9n"
   },
   "outputs": [],
   "source": [
    "data = pd.read_json(\"/content/drive/My Drive/TOBIGS/Recommender System/TA_User_Reviws_Korea_all.json\", typ='frame')"
   ]
  },
  {
   "cell_type": "code",
   "execution_count": null,
   "metadata": {
    "colab": {},
    "colab_type": "code",
    "id": "sF0EqfZMpE9s"
   },
   "outputs": [],
   "source": [
    "df = data[['userId', 'location.name', 'rating', 'createdDate']]\n",
    "df.columns = ['user_emb_id', 'location_emb_id', 'rating', 'timestamp']"
   ]
  },
  {
   "cell_type": "code",
   "execution_count": 6,
   "metadata": {
    "colab": {
     "base_uri": "https://localhost:8080/",
     "height": 195
    },
    "colab_type": "code",
    "id": "1DPfIrNXpE9w",
    "outputId": "0bf7077d-3252-4d8b-aad0-d186edd70369"
   },
   "outputs": [
    {
     "data": {
      "text/html": [
       "<div>\n",
       "<style scoped>\n",
       "    .dataframe tbody tr th:only-of-type {\n",
       "        vertical-align: middle;\n",
       "    }\n",
       "\n",
       "    .dataframe tbody tr th {\n",
       "        vertical-align: top;\n",
       "    }\n",
       "\n",
       "    .dataframe thead th {\n",
       "        text-align: right;\n",
       "    }\n",
       "</style>\n",
       "<table border=\"1\" class=\"dataframe\">\n",
       "  <thead>\n",
       "    <tr style=\"text-align: right;\">\n",
       "      <th></th>\n",
       "      <th>user_emb_id</th>\n",
       "      <th>location_emb_id</th>\n",
       "      <th>rating</th>\n",
       "      <th>timestamp</th>\n",
       "    </tr>\n",
       "  </thead>\n",
       "  <tbody>\n",
       "    <tr>\n",
       "      <th>0</th>\n",
       "      <td>F9AD0C1F6409A1574AD0AFC237D2A4CE</td>\n",
       "      <td>Hotel Gracery Seoul</td>\n",
       "      <td>5</td>\n",
       "      <td>2020-03-01</td>\n",
       "    </tr>\n",
       "    <tr>\n",
       "      <th>1</th>\n",
       "      <td>23EF5413495FF530151DB7E5C0FEF38D</td>\n",
       "      <td>Hongik University Street</td>\n",
       "      <td>5</td>\n",
       "      <td>2020-02-14</td>\n",
       "    </tr>\n",
       "    <tr>\n",
       "      <th>2</th>\n",
       "      <td>23EF5413495FF530151DB7E5C0FEF38D</td>\n",
       "      <td>Noonaholdak Hongdae</td>\n",
       "      <td>4</td>\n",
       "      <td>2020-02-14</td>\n",
       "    </tr>\n",
       "    <tr>\n",
       "      <th>3</th>\n",
       "      <td>23EF5413495FF530151DB7E5C0FEF38D</td>\n",
       "      <td>L7 Hongdae</td>\n",
       "      <td>5</td>\n",
       "      <td>2020-02-14</td>\n",
       "    </tr>\n",
       "    <tr>\n",
       "      <th>4</th>\n",
       "      <td>23EF5413495FF530151DB7E5C0FEF38D</td>\n",
       "      <td>Myeongdong Shopping Street</td>\n",
       "      <td>4</td>\n",
       "      <td>2020-02-14</td>\n",
       "    </tr>\n",
       "  </tbody>\n",
       "</table>\n",
       "</div>"
      ],
      "text/plain": [
       "                        user_emb_id             location_emb_id  rating  \\\n",
       "0  F9AD0C1F6409A1574AD0AFC237D2A4CE         Hotel Gracery Seoul       5   \n",
       "1  23EF5413495FF530151DB7E5C0FEF38D    Hongik University Street       5   \n",
       "2  23EF5413495FF530151DB7E5C0FEF38D         Noonaholdak Hongdae       4   \n",
       "3  23EF5413495FF530151DB7E5C0FEF38D                  L7 Hongdae       5   \n",
       "4  23EF5413495FF530151DB7E5C0FEF38D  Myeongdong Shopping Street       4   \n",
       "\n",
       "    timestamp  \n",
       "0  2020-03-01  \n",
       "1  2020-02-14  \n",
       "2  2020-02-14  \n",
       "3  2020-02-14  \n",
       "4  2020-02-14  "
      ]
     },
     "execution_count": 6,
     "metadata": {
      "tags": []
     },
     "output_type": "execute_result"
    }
   ],
   "source": [
    "df.head()"
   ]
  },
  {
   "cell_type": "code",
   "execution_count": null,
   "metadata": {
    "colab": {},
    "colab_type": "code",
    "id": "PrpfM77YpE91"
   },
   "outputs": [],
   "source": [
    "user_dict = {}\n",
    "for idx, unique_user in enumerate(df.user_emb_id.unique()):\n",
    "    user_dict[unique_user] = idx\n",
    "    \n",
    "location_dict = {}\n",
    "for idx, unique_location in enumerate(df.location_emb_id.unique()):\n",
    "    location_dict[unique_location] = idx"
   ]
  },
  {
   "cell_type": "code",
   "execution_count": null,
   "metadata": {
    "colab": {},
    "colab_type": "code",
    "id": "DWls7pL9pE94"
   },
   "outputs": [],
   "source": [
    "df['user_emb_id'] = df['user_emb_id'].replace(user_dict)\n",
    "df['location_emb_id'] = df['location_emb_id'].replace(location_dict)"
   ]
  },
  {
   "cell_type": "code",
   "execution_count": null,
   "metadata": {
    "colab": {},
    "colab_type": "code",
    "id": "kOLrxVv416P1"
   },
   "outputs": [],
   "source": []
  },
  {
   "cell_type": "code",
   "execution_count": 9,
   "metadata": {
    "colab": {
     "base_uri": "https://localhost:8080/",
     "height": 195
    },
    "colab_type": "code",
    "id": "VQys3YU9pE99",
    "outputId": "5ba59c22-8527-4611-9b18-ad8b02ef15bc"
   },
   "outputs": [
    {
     "data": {
      "text/html": [
       "<div>\n",
       "<style scoped>\n",
       "    .dataframe tbody tr th:only-of-type {\n",
       "        vertical-align: middle;\n",
       "    }\n",
       "\n",
       "    .dataframe tbody tr th {\n",
       "        vertical-align: top;\n",
       "    }\n",
       "\n",
       "    .dataframe thead th {\n",
       "        text-align: right;\n",
       "    }\n",
       "</style>\n",
       "<table border=\"1\" class=\"dataframe\">\n",
       "  <thead>\n",
       "    <tr style=\"text-align: right;\">\n",
       "      <th></th>\n",
       "      <th>user_emb_id</th>\n",
       "      <th>location_emb_id</th>\n",
       "      <th>rating</th>\n",
       "      <th>timestamp</th>\n",
       "    </tr>\n",
       "  </thead>\n",
       "  <tbody>\n",
       "    <tr>\n",
       "      <th>0</th>\n",
       "      <td>0</td>\n",
       "      <td>0</td>\n",
       "      <td>5</td>\n",
       "      <td>2020-03-01</td>\n",
       "    </tr>\n",
       "    <tr>\n",
       "      <th>1</th>\n",
       "      <td>1</td>\n",
       "      <td>1</td>\n",
       "      <td>5</td>\n",
       "      <td>2020-02-14</td>\n",
       "    </tr>\n",
       "    <tr>\n",
       "      <th>2</th>\n",
       "      <td>1</td>\n",
       "      <td>2</td>\n",
       "      <td>4</td>\n",
       "      <td>2020-02-14</td>\n",
       "    </tr>\n",
       "    <tr>\n",
       "      <th>3</th>\n",
       "      <td>1</td>\n",
       "      <td>3</td>\n",
       "      <td>5</td>\n",
       "      <td>2020-02-14</td>\n",
       "    </tr>\n",
       "    <tr>\n",
       "      <th>4</th>\n",
       "      <td>1</td>\n",
       "      <td>4</td>\n",
       "      <td>4</td>\n",
       "      <td>2020-02-14</td>\n",
       "    </tr>\n",
       "  </tbody>\n",
       "</table>\n",
       "</div>"
      ],
      "text/plain": [
       "   user_emb_id  location_emb_id  rating   timestamp\n",
       "0            0                0       5  2020-03-01\n",
       "1            1                1       5  2020-02-14\n",
       "2            1                2       4  2020-02-14\n",
       "3            1                3       5  2020-02-14\n",
       "4            1                4       4  2020-02-14"
      ]
     },
     "execution_count": 9,
     "metadata": {
      "tags": []
     },
     "output_type": "execute_result"
    }
   ],
   "source": [
    "df.head()"
   ]
  },
  {
   "cell_type": "code",
   "execution_count": null,
   "metadata": {
    "colab": {},
    "colab_type": "code",
    "id": "3lrdYCgQpE-A"
   },
   "outputs": [],
   "source": [
    "#+1 is the real size, as they are zero based\n",
    "num_users = df['user_emb_id'].unique().max() + 1\n",
    "num_locations = df['location_emb_id'].unique().max() + 1"
   ]
  },
  {
   "cell_type": "code",
   "execution_count": null,
   "metadata": {
    "colab": {},
    "colab_type": "code",
    "id": "bhfWOEwApE-D"
   },
   "outputs": [],
   "source": [
    "train_df, test_df = train_test_split(df,\n",
    "                                     test_size=0.1,\n",
    "                                     random_state=999613182)"
   ]
  },
  {
   "cell_type": "code",
   "execution_count": null,
   "metadata": {
    "colab": {},
    "colab_type": "code",
    "id": "lauIXU1ppE-G"
   },
   "outputs": [],
   "source": [
    "train_df, validate_df = train_test_split(train_df,\n",
    "                                 test_size=0.1,\n",
    "                                 random_state=999613182)"
   ]
  },
  {
   "cell_type": "code",
   "execution_count": null,
   "metadata": {
    "colab": {},
    "colab_type": "code",
    "id": "XR7FTWsqpE-K"
   },
   "outputs": [],
   "source": [
    "def dataPreprocessor(rating_df, num_users, num_items, init_value=0, average=False):\n",
    "    \"\"\"\n",
    "        INPUT: \n",
    "            data: pandas DataFrame. columns=['userID', 'itemID', 'rating' ...]\n",
    "            num_row: int. number of users\n",
    "            num_col: int. number of items\n",
    "            \n",
    "        OUTPUT:\n",
    "            matrix: 2D numpy array. \n",
    "    \"\"\"\n",
    "    if average:\n",
    "        matrix = np.full((num_users, num_items), 0.0)\n",
    "        for (_, userID, itemID, rating, timestamp) in rating_df.itertuples():\n",
    "            matrix[userID, itemID] = rating\n",
    "            avergae = np.true_divide(matrix.sum(1), np.maximum((matrix!=0).sum(1), 1))\n",
    "            inds = np.where(matrix == 0)\n",
    "            matrix[inds] = np.take(avergae, inds[0])\n",
    "      \n",
    "    else:\n",
    "        matrix = np.full((num_users, num_items), init_value)\n",
    "        for (_, userID, itemID, rating, timestamp) in rating_df.itertuples():\n",
    "            matrix[userID, itemID] = rating\n",
    "\n",
    "    return matrix"
   ]
  },
  {
   "cell_type": "code",
   "execution_count": null,
   "metadata": {
    "colab": {},
    "colab_type": "code",
    "id": "BXLjh9YXpE-O"
   },
   "outputs": [],
   "source": [
    "# Creating a sparse pivot table with users in rows and items in columns\n",
    "users_items_matrix_train_zero = dataPreprocessor(train_df, num_users, num_locations, 0)\n",
    "users_items_matrix_validate = dataPreprocessor(validate_df, num_users, num_locations, 0)\n",
    "users_items_matrix_test = dataPreprocessor(test_df, num_users, num_locations, 0)"
   ]
  },
  {
   "cell_type": "markdown",
   "metadata": {
    "colab_type": "text",
    "id": "tquDhqA7pE-S"
   },
   "source": [
    "## Utility Function"
   ]
  },
  {
   "cell_type": "code",
   "execution_count": null,
   "metadata": {
    "colab": {},
    "colab_type": "code",
    "id": "Lx1JMOgfpE-T"
   },
   "outputs": [],
   "source": [
    "def show_error(history, skip):\n",
    "    loss = history.history['loss']\n",
    "    val_loss = history.history['val_loss']\n",
    "    plt.plot(np.arange(skip, len(loss), 1), loss[skip:])\n",
    "    plt.plot(np.arange(skip, len(loss), 1), val_loss[skip:])\n",
    "    plt.title('model train vs validation loss')\n",
    "    plt.ylabel('loss')\n",
    "    plt.xlabel('epoch')\n",
    "    plt.legend(['train', 'validation'], loc='best')\n",
    "    plt.show()"
   ]
  },
  {
   "cell_type": "code",
   "execution_count": null,
   "metadata": {
    "colab": {},
    "colab_type": "code",
    "id": "aalwo3c7pE-W"
   },
   "outputs": [],
   "source": [
    "def show_rmse(history, skip):\n",
    "    rmse = history.history['masked_rmse_clip']\n",
    "    val_rmse = history.history['val_masked_rmse_clip']\n",
    "    plt.plot(np.arange(skip, len(rmse), 1), rmse[skip:])\n",
    "    plt.plot(np.arange(skip, len(val_rmse), 1), val_rmse[skip:])\n",
    "    plt.title('model train vs validation masked_rmse')\n",
    "    plt.ylabel('rmse')\n",
    "    plt.xlabel('epoch')\n",
    "    plt.legend(['train', 'validation'], loc='best')\n",
    "    plt.show()"
   ]
  },
  {
   "cell_type": "code",
   "execution_count": null,
   "metadata": {
    "colab": {},
    "colab_type": "code",
    "id": "j8fU9bfTpE-Z"
   },
   "outputs": [],
   "source": [
    "def load_model(name):\n",
    "    # load json and create model\n",
    "    model_file = open('{}.json'.format(name), 'r')\n",
    "    loaded_model_json = model_file.read()\n",
    "    model_file.close()\n",
    "    loaded_model = model_from_json(loaded_model_json)\n",
    "    # load weights into new model\n",
    "    loaded_model.load_weights(\"{}.h5\".format(name))\n",
    "    print(\"Loaded model from disk\")\n",
    "    return loaded_model"
   ]
  },
  {
   "cell_type": "code",
   "execution_count": null,
   "metadata": {
    "colab": {},
    "colab_type": "code",
    "id": "0PtAdNk2pE-c"
   },
   "outputs": [],
   "source": [
    "def save_model(name, model):\n",
    "    # # serialize model to JSON\n",
    "    model_json = model.to_json()\n",
    "    with open(\"{}.json\".format(name), \"w\") as json_file:\n",
    "        json_file.write(model_json)\n",
    "    # serialize weights to HDF5\n",
    "    model.save_weights(\"{}.h5\".format(name))\n",
    "    print(\"Saved model to disk\")"
   ]
  },
  {
   "cell_type": "code",
   "execution_count": null,
   "metadata": {
    "colab": {},
    "colab_type": "code",
    "id": "vrEJSMAApE-f"
   },
   "outputs": [],
   "source": [
    "def masked_se(y_true, y_pred):\n",
    "    # masked function\n",
    "    mask_true = K.cast(K.not_equal(y_true, 0), K.floatx())\n",
    "    # masked squared error\n",
    "    masked_squared_error = K.square(mask_true * (y_true - y_pred))\n",
    "    masked_mse = K.sum(masked_squared_error, axis=-1)\n",
    "    return masked_mse"
   ]
  },
  {
   "cell_type": "code",
   "execution_count": null,
   "metadata": {
    "colab": {},
    "colab_type": "code",
    "id": "XeeKi1uxpE-j"
   },
   "outputs": [],
   "source": [
    "def masked_mse(y_true, y_pred):\n",
    "    # masked function\n",
    "    mask_true = K.cast(K.not_equal(y_true, 0), K.floatx())\n",
    "    # masked squared error\n",
    "    masked_squared_error = K.square(mask_true * (y_true - y_pred))\n",
    "    masked_mse = K.sum(masked_squared_error, axis=-1) / K.maximum(K.sum(mask_true, axis=-1), 1)\n",
    "    return masked_mse"
   ]
  },
  {
   "cell_type": "code",
   "execution_count": null,
   "metadata": {
    "colab": {},
    "colab_type": "code",
    "id": "QcuTVwEQpE-o"
   },
   "outputs": [],
   "source": [
    "def masked_rmse(y_true, y_pred):\n",
    "    # masked function\n",
    "    mask_true = K.cast(K.not_equal(y_true, 0), K.floatx())\n",
    "    # masked squared error\n",
    "    masked_squared_error = K.square(mask_true * (y_true - y_pred))\n",
    "    masked_mse = K.sqrt(K.sum(masked_squared_error, axis=-1) / K.maximum(K.sum(mask_true, axis=-1), 1))\n",
    "    return masked_mse"
   ]
  },
  {
   "cell_type": "code",
   "execution_count": null,
   "metadata": {
    "colab": {},
    "colab_type": "code",
    "id": "ZVlY8ChHpE-s"
   },
   "outputs": [],
   "source": [
    "def masked_rmse_clip(y_true, y_pred):\n",
    "    # masked function\n",
    "    mask_true = K.cast(K.not_equal(y_true, 0), K.floatx())\n",
    "    y_pred = K.clip(y_pred, 1, 5)\n",
    "    # masked squared error\n",
    "    masked_squared_error = K.square(mask_true * (y_true - y_pred))\n",
    "    masked_mse = K.sqrt(K.sum(masked_squared_error, axis=-1) / K.maximum(K.sum(mask_true, axis=-1), 1))\n",
    "    return masked_mse"
   ]
  },
  {
   "cell_type": "markdown",
   "metadata": {
    "colab_type": "text",
    "id": "ANyeJOsDpE-w"
   },
   "source": [
    "## AutoEncoder"
   ]
  },
  {
   "cell_type": "markdown",
   "metadata": {
    "colab_type": "text",
    "id": "eUbGlTLJpE-w"
   },
   "source": [
    "### Version: Deep Auto Encoder Collaborative Filtering"
   ]
  },
  {
   "cell_type": "code",
   "execution_count": null,
   "metadata": {
    "colab": {},
    "colab_type": "code",
    "id": "JEoQQQWlpE-x"
   },
   "outputs": [],
   "source": [
    "def Deep_AE_model(X, layers, activation, last_activation, dropout, regularizer_encode, regularizer_decode, side_infor_size=0):\n",
    "    '''\n",
    "    Build Deep AE for CF\n",
    "        INPUT: \n",
    "            X: #_user X #_item matrix\n",
    "            layers: List, each element is the number of neuron for a layer\n",
    "            reg: L2 regularization parameter\n",
    "            activation: activation function for all dense layer except the last\n",
    "            last_activation: activation function for the last dense layer\n",
    "            dropout: dropout rate\n",
    "            regularizer_encode: regularizer for encoder\n",
    "            regularizer_decode: regularizer for decoder\n",
    "            side_infor_size: size of the one hot encoding side information\n",
    "        OUTPUT:\n",
    "            Keras model\n",
    "    '''\n",
    "\n",
    "    # Input\n",
    "    input_layer = x = Input(shape=(X.shape[1],), name='UserRating')\n",
    "    \n",
    "    # Encoder\n",
    "    # -----------------------------\n",
    "    k = int(len(layers)/2)\n",
    "    i = 0\n",
    "    for l in layers[:k]:\n",
    "        x = Dense(l, activation=activation,\n",
    "                      name='EncLayer{}'.format(i), kernel_regularizer=regularizers.l2(regularizer_encode))(x)\n",
    "        i = i+1\n",
    "      \n",
    "      \n",
    "    # Latent Space\n",
    "    # -----------------------------\n",
    "    x = Dense(layers[k], activation=activation, \n",
    "                                name='LatentSpace', kernel_regularizer=regularizers.l2(regularizer_encode))(x)\n",
    "    \n",
    "    # Dropout\n",
    "    x = Dropout(rate = dropout)(x)\n",
    "    \n",
    "    # Decoder\n",
    "    # -----------------------------\n",
    "    for l in layers[k+1:]:\n",
    "        i = i-1\n",
    "        x = Dense(l, activation=activation, \n",
    "                      name='DecLayer{}'.format(i), kernel_regularizer=regularizers.l2(regularizer_decode))(x)\n",
    "      \n",
    "    # Output\n",
    "\n",
    "    output_layer = Dense(X.shape[1]-side_infor_size, activation=last_activation, name='UserScorePred', kernel_regularizer=regularizers.l2(regularizer_decode))(x)\n",
    "\n",
    "    # this model maps an input to its reconstruction\n",
    "    model = Model(input_layer, output_layer)\n",
    "\n",
    "    return model"
   ]
  },
  {
   "cell_type": "code",
   "execution_count": null,
   "metadata": {
    "colab": {},
    "colab_type": "code",
    "id": "z7_7HBBLpE-0"
   },
   "outputs": [],
   "source": [
    "################### Layer 선택 ###################################\n",
    "#layers = [256, 512, 256]\n",
    "layers = [1024, 512, 258, 512, 1024]\n",
    "#layers = [512, 256, 512]\n",
    "#layers = [128, 256, 512, 256, 128]\n",
    "#layers = [512, 512, 512]\n",
    "##################################################################\n",
    "\n",
    "dropout = 0.8\n",
    "# activation = 'sigmoid'\n",
    "# last_activation = 'linear'\n",
    "activation = 'selu'\n",
    "last_activation = 'selu'\n",
    "regularizer_encode = 0.001\n",
    "regularizer_decode = 0.001"
   ]
  },
  {
   "cell_type": "code",
   "execution_count": 25,
   "metadata": {
    "colab": {
     "base_uri": "https://localhost:8080/",
     "height": 34
    },
    "colab_type": "code",
    "id": "kUs_-PacpE-4",
    "outputId": "aa579b9f-4329-44a7-d8b7-c01ab20ee44d"
   },
   "outputs": [
    {
     "data": {
      "text/plain": [
       "(7613, 9929)"
      ]
     },
     "execution_count": 25,
     "metadata": {
      "tags": []
     },
     "output_type": "execute_result"
    }
   ],
   "source": [
    "users_items_matrix_train_zero.shape"
   ]
  },
  {
   "cell_type": "markdown",
   "metadata": {
    "colab_type": "text",
    "id": "KXuENI8_pE-6"
   },
   "source": [
    ": **user가 7613명, item이 9929개**가 있다."
   ]
  },
  {
   "cell_type": "code",
   "execution_count": null,
   "metadata": {
    "colab": {},
    "colab_type": "code",
    "id": "E_6xeA5KqYPv"
   },
   "outputs": [],
   "source": [
    "# 버전호환\n",
    "optimizer = tf.keras.optimizers.Adam(learning_rate=0.0001)"
   ]
  },
  {
   "cell_type": "code",
   "execution_count": 27,
   "metadata": {
    "colab": {
     "base_uri": "https://localhost:8080/",
     "height": 439
    },
    "colab_type": "code",
    "id": "XbLeokytpE-7",
    "outputId": "e4f39d7f-f693-4f9c-a748-4050dafbbdf5"
   },
   "outputs": [
    {
     "name": "stdout",
     "output_type": "stream",
     "text": [
      "Model: \"model\"\n",
      "_________________________________________________________________\n",
      "Layer (type)                 Output Shape              Param #   \n",
      "=================================================================\n",
      "UserRating (InputLayer)      [(None, 9929)]            0         \n",
      "_________________________________________________________________\n",
      "EncLayer0 (Dense)            (None, 1024)              10168320  \n",
      "_________________________________________________________________\n",
      "EncLayer1 (Dense)            (None, 512)               524800    \n",
      "_________________________________________________________________\n",
      "LatentSpace (Dense)          (None, 258)               132354    \n",
      "_________________________________________________________________\n",
      "dropout (Dropout)            (None, 258)               0         \n",
      "_________________________________________________________________\n",
      "DecLayer1 (Dense)            (None, 512)               132608    \n",
      "_________________________________________________________________\n",
      "DecLayer0 (Dense)            (None, 1024)              525312    \n",
      "_________________________________________________________________\n",
      "UserScorePred (Dense)        (None, 9929)              10177225  \n",
      "=================================================================\n",
      "Total params: 21,660,619\n",
      "Trainable params: 21,660,619\n",
      "Non-trainable params: 0\n",
      "_________________________________________________________________\n"
     ]
    }
   ],
   "source": [
    "# Build model\n",
    "Deep_AE = Deep_AE_model(users_items_matrix_train_zero, layers, activation, last_activation, dropout, regularizer_encode, regularizer_decode)\n",
    "Deep_AE.compile(optimizer = optimizer, loss=masked_mse, metrics=[masked_rmse_clip]) \n",
    "Deep_AE.summary()"
   ]
  },
  {
   "cell_type": "markdown",
   "metadata": {
    "colab_type": "text",
    "id": "CFdAhpiwpE--"
   },
   "source": [
    ": 모델에 대해서 설명하자면, **9929 차원의 vector(user별 vector)** 가 들어가면서 학습되는 형태이다."
   ]
  },
  {
   "cell_type": "markdown",
   "metadata": {
    "colab_type": "text",
    "id": "CpNpd59_pE--"
   },
   "source": [
    "-----"
   ]
  },
  {
   "cell_type": "markdown",
   "metadata": {
    "colab_type": "text",
    "id": "ogBB_IU1pE-_"
   },
   "source": [
    "### 학습시작\n",
    ": user_items_matrix_train_zero 가 들어가면 똑같이 그 행렬이 나오도록 학습한다."
   ]
  },
  {
   "cell_type": "code",
   "execution_count": 28,
   "metadata": {
    "colab": {
     "base_uri": "https://localhost:8080/",
     "height": 1000
    },
    "colab_type": "code",
    "id": "xlLwzkukpE_A",
    "outputId": "b3ef4d51-efb8-49ee-ddbe-08fbcbd9be12"
   },
   "outputs": [
    {
     "name": "stdout",
     "output_type": "stream",
     "text": [
      "Epoch 1/200\n",
      "30/30 - 2s - loss: 18.6778 - masked_rmse_clip: 2.8114 - val_loss: 4.9461 - val_masked_rmse_clip: 0.0000e+00\n",
      "Epoch 2/200\n",
      "30/30 - 2s - loss: 11.7746 - masked_rmse_clip: 1.9727 - val_loss: 4.5235 - val_masked_rmse_clip: 0.0000e+00\n",
      "Epoch 3/200\n",
      "30/30 - 2s - loss: 8.0070 - masked_rmse_clip: 1.2914 - val_loss: 4.2228 - val_masked_rmse_clip: 0.0000e+00\n",
      "Epoch 4/200\n",
      "30/30 - 2s - loss: 6.0273 - masked_rmse_clip: 0.9553 - val_loss: 3.9878 - val_masked_rmse_clip: 0.0000e+00\n",
      "Epoch 5/200\n",
      "30/30 - 2s - loss: 5.0741 - masked_rmse_clip: 0.7750 - val_loss: 3.8019 - val_masked_rmse_clip: 0.0000e+00\n",
      "Epoch 6/200\n",
      "30/30 - 2s - loss: 4.5671 - masked_rmse_clip: 0.6762 - val_loss: 3.6471 - val_masked_rmse_clip: 0.0000e+00\n",
      "Epoch 7/200\n",
      "30/30 - 2s - loss: 4.2654 - masked_rmse_clip: 0.6118 - val_loss: 3.5154 - val_masked_rmse_clip: 0.0000e+00\n",
      "Epoch 8/200\n",
      "30/30 - 2s - loss: 4.0716 - masked_rmse_clip: 0.5804 - val_loss: 3.4015 - val_masked_rmse_clip: 0.0000e+00\n",
      "Epoch 9/200\n",
      "30/30 - 2s - loss: 3.9150 - masked_rmse_clip: 0.5610 - val_loss: 3.3018 - val_masked_rmse_clip: 0.0000e+00\n",
      "Epoch 10/200\n",
      "30/30 - 2s - loss: 3.7870 - masked_rmse_clip: 0.5426 - val_loss: 3.2131 - val_masked_rmse_clip: 0.0000e+00\n",
      "Epoch 11/200\n",
      "30/30 - 2s - loss: 3.6809 - masked_rmse_clip: 0.5290 - val_loss: 3.1346 - val_masked_rmse_clip: 0.0000e+00\n",
      "Epoch 12/200\n",
      "30/30 - 2s - loss: 3.5839 - masked_rmse_clip: 0.5176 - val_loss: 3.0638 - val_masked_rmse_clip: 0.0000e+00\n",
      "Epoch 13/200\n",
      "30/30 - 2s - loss: 3.5016 - masked_rmse_clip: 0.5147 - val_loss: 2.9988 - val_masked_rmse_clip: 0.0000e+00\n",
      "Epoch 14/200\n",
      "30/30 - 2s - loss: 3.4124 - masked_rmse_clip: 0.4969 - val_loss: 2.9379 - val_masked_rmse_clip: 0.0000e+00\n",
      "Epoch 15/200\n",
      "30/30 - 2s - loss: 3.3380 - masked_rmse_clip: 0.4866 - val_loss: 2.8806 - val_masked_rmse_clip: 0.0000e+00\n",
      "Epoch 16/200\n",
      "30/30 - 2s - loss: 3.2619 - masked_rmse_clip: 0.4731 - val_loss: 2.8267 - val_masked_rmse_clip: 0.0000e+00\n",
      "Epoch 17/200\n",
      "30/30 - 2s - loss: 3.1943 - masked_rmse_clip: 0.4637 - val_loss: 2.7756 - val_masked_rmse_clip: 0.0000e+00\n",
      "Epoch 18/200\n",
      "30/30 - 2s - loss: 3.1263 - masked_rmse_clip: 0.4511 - val_loss: 2.7267 - val_masked_rmse_clip: 0.0000e+00\n",
      "Epoch 19/200\n",
      "30/30 - 2s - loss: 3.0671 - masked_rmse_clip: 0.4474 - val_loss: 2.6803 - val_masked_rmse_clip: 0.0000e+00\n",
      "Epoch 20/200\n",
      "30/30 - 2s - loss: 3.0098 - masked_rmse_clip: 0.4392 - val_loss: 2.6350 - val_masked_rmse_clip: 0.0000e+00\n",
      "Epoch 21/200\n",
      "30/30 - 2s - loss: 2.9576 - masked_rmse_clip: 0.4344 - val_loss: 2.5919 - val_masked_rmse_clip: 0.0000e+00\n",
      "Epoch 22/200\n",
      "30/30 - 2s - loss: 2.9042 - masked_rmse_clip: 0.4280 - val_loss: 2.5499 - val_masked_rmse_clip: 0.0000e+00\n",
      "Epoch 23/200\n",
      "30/30 - 2s - loss: 2.8570 - masked_rmse_clip: 0.4238 - val_loss: 2.5084 - val_masked_rmse_clip: 0.0000e+00\n",
      "Epoch 24/200\n",
      "30/30 - 2s - loss: 2.8072 - masked_rmse_clip: 0.4162 - val_loss: 2.4692 - val_masked_rmse_clip: 0.0000e+00\n",
      "Epoch 25/200\n",
      "30/30 - 2s - loss: 2.7634 - masked_rmse_clip: 0.4131 - val_loss: 2.4301 - val_masked_rmse_clip: 0.0000e+00\n",
      "Epoch 26/200\n",
      "30/30 - 2s - loss: 2.7203 - masked_rmse_clip: 0.4113 - val_loss: 2.3925 - val_masked_rmse_clip: 0.0000e+00\n",
      "Epoch 27/200\n",
      "30/30 - 2s - loss: 2.6814 - masked_rmse_clip: 0.4110 - val_loss: 2.3558 - val_masked_rmse_clip: 0.0000e+00\n",
      "Epoch 28/200\n",
      "30/30 - 2s - loss: 2.6358 - masked_rmse_clip: 0.4043 - val_loss: 2.3196 - val_masked_rmse_clip: 0.0000e+00\n",
      "Epoch 29/200\n",
      "30/30 - 2s - loss: 2.6007 - masked_rmse_clip: 0.4069 - val_loss: 2.2843 - val_masked_rmse_clip: 0.0000e+00\n",
      "Epoch 30/200\n",
      "30/30 - 2s - loss: 2.5643 - masked_rmse_clip: 0.4046 - val_loss: 2.2501 - val_masked_rmse_clip: 0.0000e+00\n",
      "Epoch 31/200\n",
      "30/30 - 2s - loss: 2.5268 - masked_rmse_clip: 0.4004 - val_loss: 2.2159 - val_masked_rmse_clip: 0.0000e+00\n",
      "Epoch 32/200\n",
      "30/30 - 2s - loss: 2.4855 - masked_rmse_clip: 0.3971 - val_loss: 2.1827 - val_masked_rmse_clip: 0.0000e+00\n",
      "Epoch 33/200\n",
      "30/30 - 2s - loss: 2.4479 - masked_rmse_clip: 0.3941 - val_loss: 2.1500 - val_masked_rmse_clip: 0.0000e+00\n",
      "Epoch 34/200\n",
      "30/30 - 2s - loss: 2.4084 - masked_rmse_clip: 0.3874 - val_loss: 2.1180 - val_masked_rmse_clip: 0.0000e+00\n",
      "Epoch 35/200\n",
      "30/30 - 2s - loss: 2.3771 - masked_rmse_clip: 0.3899 - val_loss: 2.0862 - val_masked_rmse_clip: 0.0000e+00\n",
      "Epoch 36/200\n",
      "30/30 - 2s - loss: 2.3455 - masked_rmse_clip: 0.3866 - val_loss: 2.0551 - val_masked_rmse_clip: 0.0000e+00\n",
      "Epoch 37/200\n",
      "30/30 - 2s - loss: 2.3119 - masked_rmse_clip: 0.3852 - val_loss: 2.0243 - val_masked_rmse_clip: 0.0000e+00\n",
      "Epoch 38/200\n",
      "30/30 - 2s - loss: 2.2719 - masked_rmse_clip: 0.3794 - val_loss: 1.9941 - val_masked_rmse_clip: 0.0000e+00\n",
      "Epoch 39/200\n",
      "30/30 - 2s - loss: 2.2389 - masked_rmse_clip: 0.3746 - val_loss: 1.9645 - val_masked_rmse_clip: 0.0000e+00\n",
      "Epoch 40/200\n",
      "30/30 - 2s - loss: 2.2112 - masked_rmse_clip: 0.3783 - val_loss: 1.9347 - val_masked_rmse_clip: 0.0000e+00\n",
      "Epoch 41/200\n",
      "30/30 - 2s - loss: 2.1734 - masked_rmse_clip: 0.3718 - val_loss: 1.9063 - val_masked_rmse_clip: 0.0000e+00\n",
      "Epoch 42/200\n",
      "30/30 - 2s - loss: 2.1469 - masked_rmse_clip: 0.3710 - val_loss: 1.8775 - val_masked_rmse_clip: 0.0000e+00\n",
      "Epoch 43/200\n",
      "30/30 - 2s - loss: 2.1170 - masked_rmse_clip: 0.3734 - val_loss: 1.8492 - val_masked_rmse_clip: 0.0000e+00\n",
      "Epoch 44/200\n",
      "30/30 - 2s - loss: 2.0831 - masked_rmse_clip: 0.3703 - val_loss: 1.8216 - val_masked_rmse_clip: 0.0000e+00\n",
      "Epoch 45/200\n",
      "30/30 - 2s - loss: 2.0507 - masked_rmse_clip: 0.3592 - val_loss: 1.7940 - val_masked_rmse_clip: 0.0000e+00\n",
      "Epoch 46/200\n",
      "30/30 - 2s - loss: 2.0208 - masked_rmse_clip: 0.3604 - val_loss: 1.7671 - val_masked_rmse_clip: 0.0000e+00\n",
      "Epoch 47/200\n",
      "30/30 - 2s - loss: 1.9964 - masked_rmse_clip: 0.3637 - val_loss: 1.7404 - val_masked_rmse_clip: 0.0000e+00\n",
      "Epoch 48/200\n",
      "30/30 - 2s - loss: 1.9633 - masked_rmse_clip: 0.3566 - val_loss: 1.7138 - val_masked_rmse_clip: 0.0000e+00\n",
      "Epoch 49/200\n",
      "30/30 - 2s - loss: 1.9345 - masked_rmse_clip: 0.3559 - val_loss: 1.6881 - val_masked_rmse_clip: 0.0000e+00\n",
      "Epoch 50/200\n",
      "30/30 - 2s - loss: 1.9115 - masked_rmse_clip: 0.3555 - val_loss: 1.6622 - val_masked_rmse_clip: 0.0000e+00\n",
      "Epoch 51/200\n",
      "30/30 - 2s - loss: 1.8842 - masked_rmse_clip: 0.3542 - val_loss: 1.6364 - val_masked_rmse_clip: 0.0000e+00\n",
      "Epoch 52/200\n",
      "30/30 - 2s - loss: 1.8589 - masked_rmse_clip: 0.3564 - val_loss: 1.6116 - val_masked_rmse_clip: 0.0000e+00\n",
      "Epoch 53/200\n",
      "30/30 - 2s - loss: 1.8235 - masked_rmse_clip: 0.3487 - val_loss: 1.5867 - val_masked_rmse_clip: 0.0000e+00\n",
      "Epoch 54/200\n",
      "30/30 - 2s - loss: 1.7974 - masked_rmse_clip: 0.3463 - val_loss: 1.5621 - val_masked_rmse_clip: 0.0000e+00\n",
      "Epoch 55/200\n",
      "30/30 - 2s - loss: 1.7765 - masked_rmse_clip: 0.3481 - val_loss: 1.5380 - val_masked_rmse_clip: 0.0000e+00\n",
      "Epoch 56/200\n",
      "30/30 - 2s - loss: 1.7491 - masked_rmse_clip: 0.3461 - val_loss: 1.5136 - val_masked_rmse_clip: 0.0000e+00\n",
      "Epoch 57/200\n",
      "30/30 - 2s - loss: 1.7234 - masked_rmse_clip: 0.3439 - val_loss: 1.4903 - val_masked_rmse_clip: 0.0000e+00\n",
      "Epoch 58/200\n",
      "30/30 - 2s - loss: 1.6976 - masked_rmse_clip: 0.3421 - val_loss: 1.4670 - val_masked_rmse_clip: 0.0000e+00\n",
      "Epoch 59/200\n",
      "30/30 - 2s - loss: 1.6692 - masked_rmse_clip: 0.3389 - val_loss: 1.4435 - val_masked_rmse_clip: 0.0000e+00\n",
      "Epoch 60/200\n",
      "30/30 - 2s - loss: 1.6518 - masked_rmse_clip: 0.3407 - val_loss: 1.4213 - val_masked_rmse_clip: 0.0000e+00\n",
      "Epoch 61/200\n",
      "30/30 - 2s - loss: 1.6236 - masked_rmse_clip: 0.3371 - val_loss: 1.3981 - val_masked_rmse_clip: 0.0000e+00\n",
      "Epoch 62/200\n",
      "30/30 - 2s - loss: 1.5998 - masked_rmse_clip: 0.3364 - val_loss: 1.3765 - val_masked_rmse_clip: 0.0000e+00\n",
      "Epoch 63/200\n",
      "30/30 - 2s - loss: 1.5733 - masked_rmse_clip: 0.3326 - val_loss: 1.3543 - val_masked_rmse_clip: 0.0000e+00\n",
      "Epoch 64/200\n",
      "30/30 - 2s - loss: 1.5449 - masked_rmse_clip: 0.3248 - val_loss: 1.3320 - val_masked_rmse_clip: 0.0000e+00\n",
      "Epoch 65/200\n",
      "30/30 - 2s - loss: 1.5258 - masked_rmse_clip: 0.3277 - val_loss: 1.3106 - val_masked_rmse_clip: 0.0000e+00\n",
      "Epoch 66/200\n",
      "30/30 - 2s - loss: 1.5079 - masked_rmse_clip: 0.3324 - val_loss: 1.2897 - val_masked_rmse_clip: 0.0000e+00\n",
      "Epoch 67/200\n",
      "30/30 - 2s - loss: 1.4826 - masked_rmse_clip: 0.3282 - val_loss: 1.2689 - val_masked_rmse_clip: 0.0000e+00\n",
      "Epoch 68/200\n",
      "30/30 - 2s - loss: 1.4613 - masked_rmse_clip: 0.3255 - val_loss: 1.2480 - val_masked_rmse_clip: 0.0000e+00\n",
      "Epoch 69/200\n",
      "30/30 - 2s - loss: 1.4406 - masked_rmse_clip: 0.3258 - val_loss: 1.2278 - val_masked_rmse_clip: 0.0000e+00\n",
      "Epoch 70/200\n",
      "30/30 - 2s - loss: 1.4161 - masked_rmse_clip: 0.3228 - val_loss: 1.2080 - val_masked_rmse_clip: 0.0000e+00\n",
      "Epoch 71/200\n",
      "30/30 - 2s - loss: 1.3964 - masked_rmse_clip: 0.3221 - val_loss: 1.1876 - val_masked_rmse_clip: 0.0000e+00\n",
      "Epoch 72/200\n",
      "30/30 - 2s - loss: 1.3744 - masked_rmse_clip: 0.3198 - val_loss: 1.1683 - val_masked_rmse_clip: 0.0000e+00\n",
      "Epoch 73/200\n",
      "30/30 - 2s - loss: 1.3503 - masked_rmse_clip: 0.3163 - val_loss: 1.1490 - val_masked_rmse_clip: 0.0000e+00\n",
      "Epoch 74/200\n",
      "30/30 - 2s - loss: 1.3323 - masked_rmse_clip: 0.3151 - val_loss: 1.1294 - val_masked_rmse_clip: 0.0000e+00\n",
      "Epoch 75/200\n",
      "30/30 - 2s - loss: 1.3115 - masked_rmse_clip: 0.3161 - val_loss: 1.1111 - val_masked_rmse_clip: 0.0000e+00\n",
      "Epoch 76/200\n",
      "30/30 - 2s - loss: 1.2918 - masked_rmse_clip: 0.3139 - val_loss: 1.0917 - val_masked_rmse_clip: 0.0000e+00\n",
      "Epoch 77/200\n",
      "30/30 - 2s - loss: 1.2700 - masked_rmse_clip: 0.3104 - val_loss: 1.0740 - val_masked_rmse_clip: 0.0000e+00\n",
      "Epoch 78/200\n",
      "30/30 - 2s - loss: 1.2509 - masked_rmse_clip: 0.3074 - val_loss: 1.0558 - val_masked_rmse_clip: 0.0000e+00\n",
      "Epoch 79/200\n",
      "30/30 - 2s - loss: 1.2339 - masked_rmse_clip: 0.3107 - val_loss: 1.0376 - val_masked_rmse_clip: 0.0000e+00\n",
      "Epoch 80/200\n",
      "30/30 - 2s - loss: 1.2115 - masked_rmse_clip: 0.3054 - val_loss: 1.0206 - val_masked_rmse_clip: 0.0000e+00\n",
      "Epoch 81/200\n",
      "30/30 - 2s - loss: 1.1887 - masked_rmse_clip: 0.3031 - val_loss: 1.0028 - val_masked_rmse_clip: 0.0000e+00\n",
      "Epoch 82/200\n",
      "30/30 - 2s - loss: 1.1695 - masked_rmse_clip: 0.2991 - val_loss: 0.9856 - val_masked_rmse_clip: 0.0000e+00\n",
      "Epoch 83/200\n",
      "30/30 - 2s - loss: 1.1550 - masked_rmse_clip: 0.3012 - val_loss: 0.9689 - val_masked_rmse_clip: 0.0000e+00\n",
      "Epoch 84/200\n",
      "30/30 - 2s - loss: 1.1336 - masked_rmse_clip: 0.2959 - val_loss: 0.9520 - val_masked_rmse_clip: 0.0000e+00\n",
      "Epoch 85/200\n",
      "30/30 - 2s - loss: 1.1160 - masked_rmse_clip: 0.2949 - val_loss: 0.9361 - val_masked_rmse_clip: 0.0000e+00\n",
      "Epoch 86/200\n",
      "30/30 - 2s - loss: 1.1016 - masked_rmse_clip: 0.2967 - val_loss: 0.9197 - val_masked_rmse_clip: 0.0000e+00\n",
      "Epoch 87/200\n",
      "30/30 - 2s - loss: 1.0828 - masked_rmse_clip: 0.2940 - val_loss: 0.9038 - val_masked_rmse_clip: 0.0000e+00\n",
      "Epoch 88/200\n",
      "30/30 - 2s - loss: 1.0675 - masked_rmse_clip: 0.2946 - val_loss: 0.8877 - val_masked_rmse_clip: 0.0000e+00\n",
      "Epoch 89/200\n",
      "30/30 - 2s - loss: 1.0573 - masked_rmse_clip: 0.2983 - val_loss: 0.8733 - val_masked_rmse_clip: 0.0000e+00\n",
      "Epoch 90/200\n",
      "30/30 - 2s - loss: 1.0346 - masked_rmse_clip: 0.2905 - val_loss: 0.8576 - val_masked_rmse_clip: 0.0000e+00\n",
      "Epoch 91/200\n",
      "30/30 - 2s - loss: 1.0181 - masked_rmse_clip: 0.2908 - val_loss: 0.8428 - val_masked_rmse_clip: 0.0000e+00\n",
      "Epoch 92/200\n",
      "30/30 - 2s - loss: 1.0051 - masked_rmse_clip: 0.2921 - val_loss: 0.8280 - val_masked_rmse_clip: 0.0000e+00\n",
      "Epoch 93/200\n",
      "30/30 - 2s - loss: 0.9872 - masked_rmse_clip: 0.2885 - val_loss: 0.8139 - val_masked_rmse_clip: 0.0000e+00\n",
      "Epoch 94/200\n",
      "30/30 - 2s - loss: 0.9697 - masked_rmse_clip: 0.2861 - val_loss: 0.7987 - val_masked_rmse_clip: 0.0000e+00\n",
      "Epoch 95/200\n",
      "30/30 - 2s - loss: 0.9543 - masked_rmse_clip: 0.2847 - val_loss: 0.7857 - val_masked_rmse_clip: 0.0000e+00\n",
      "Epoch 96/200\n",
      "30/30 - 2s - loss: 0.9393 - masked_rmse_clip: 0.2836 - val_loss: 0.7709 - val_masked_rmse_clip: 0.0000e+00\n",
      "Epoch 97/200\n",
      "30/30 - 2s - loss: 0.9262 - masked_rmse_clip: 0.2847 - val_loss: 0.7578 - val_masked_rmse_clip: 0.0000e+00\n",
      "Epoch 98/200\n",
      "30/30 - 2s - loss: 0.9098 - masked_rmse_clip: 0.2804 - val_loss: 0.7449 - val_masked_rmse_clip: 0.0000e+00\n",
      "Epoch 99/200\n",
      "30/30 - 2s - loss: 0.9005 - masked_rmse_clip: 0.2835 - val_loss: 0.7312 - val_masked_rmse_clip: 0.0000e+00\n",
      "Epoch 100/200\n",
      "30/30 - 2s - loss: 0.8872 - masked_rmse_clip: 0.2802 - val_loss: 0.7185 - val_masked_rmse_clip: 0.0000e+00\n",
      "Epoch 101/200\n",
      "30/30 - 2s - loss: 0.8667 - masked_rmse_clip: 0.2751 - val_loss: 0.7061 - val_masked_rmse_clip: 0.0000e+00\n",
      "Epoch 102/200\n",
      "30/30 - 2s - loss: 0.8551 - masked_rmse_clip: 0.2764 - val_loss: 0.6934 - val_masked_rmse_clip: 0.0000e+00\n",
      "Epoch 103/200\n",
      "30/30 - 2s - loss: 0.8423 - masked_rmse_clip: 0.2764 - val_loss: 0.6810 - val_masked_rmse_clip: 0.0000e+00\n",
      "Epoch 104/200\n",
      "30/30 - 2s - loss: 0.8290 - masked_rmse_clip: 0.2742 - val_loss: 0.6686 - val_masked_rmse_clip: 0.0000e+00\n",
      "Epoch 105/200\n",
      "30/30 - 2s - loss: 0.8188 - masked_rmse_clip: 0.2774 - val_loss: 0.6567 - val_masked_rmse_clip: 0.0000e+00\n",
      "Epoch 106/200\n",
      "30/30 - 2s - loss: 0.8017 - masked_rmse_clip: 0.2715 - val_loss: 0.6453 - val_masked_rmse_clip: 0.0000e+00\n",
      "Epoch 107/200\n",
      "30/30 - 2s - loss: 0.7945 - masked_rmse_clip: 0.2745 - val_loss: 0.6343 - val_masked_rmse_clip: 0.0000e+00\n",
      "Epoch 108/200\n",
      "30/30 - 2s - loss: 0.7827 - masked_rmse_clip: 0.2736 - val_loss: 0.6231 - val_masked_rmse_clip: 0.0000e+00\n",
      "Epoch 109/200\n",
      "30/30 - 2s - loss: 0.7708 - masked_rmse_clip: 0.2732 - val_loss: 0.6123 - val_masked_rmse_clip: 0.0000e+00\n",
      "Epoch 110/200\n",
      "30/30 - 2s - loss: 0.9407 - masked_rmse_clip: 0.2814 - val_loss: 0.5987 - val_masked_rmse_clip: 0.0000e+00\n",
      "Epoch 111/200\n",
      "30/30 - 2s - loss: 0.7709 - masked_rmse_clip: 0.2994 - val_loss: 0.5922 - val_masked_rmse_clip: 0.0000e+00\n",
      "Epoch 112/200\n",
      "30/30 - 2s - loss: 0.7476 - masked_rmse_clip: 0.2785 - val_loss: 0.5825 - val_masked_rmse_clip: 0.0000e+00\n",
      "Epoch 113/200\n",
      "30/30 - 2s - loss: 0.7345 - masked_rmse_clip: 0.2762 - val_loss: 0.5742 - val_masked_rmse_clip: 0.0000e+00\n",
      "Epoch 114/200\n",
      "30/30 - 2s - loss: 0.7199 - masked_rmse_clip: 0.2728 - val_loss: 0.5637 - val_masked_rmse_clip: 0.0000e+00\n",
      "Epoch 115/200\n",
      "30/30 - 2s - loss: 0.7093 - masked_rmse_clip: 0.2696 - val_loss: 0.5558 - val_masked_rmse_clip: 0.0000e+00\n",
      "Epoch 116/200\n",
      "30/30 - 2s - loss: 0.7006 - masked_rmse_clip: 0.2730 - val_loss: 0.5465 - val_masked_rmse_clip: 0.0000e+00\n",
      "Epoch 117/200\n",
      "30/30 - 2s - loss: 0.6884 - masked_rmse_clip: 0.2676 - val_loss: 0.5365 - val_masked_rmse_clip: 0.0000e+00\n",
      "Epoch 118/200\n",
      "30/30 - 2s - loss: 0.6819 - masked_rmse_clip: 0.2696 - val_loss: 0.5289 - val_masked_rmse_clip: 0.0000e+00\n",
      "Epoch 119/200\n",
      "30/30 - 2s - loss: 0.6698 - masked_rmse_clip: 0.2643 - val_loss: 0.5198 - val_masked_rmse_clip: 0.0000e+00\n",
      "Epoch 120/200\n",
      "30/30 - 2s - loss: 0.6640 - masked_rmse_clip: 0.2657 - val_loss: 0.5120 - val_masked_rmse_clip: 0.0000e+00\n",
      "Epoch 121/200\n",
      "30/30 - 2s - loss: 0.6542 - masked_rmse_clip: 0.2658 - val_loss: 0.5032 - val_masked_rmse_clip: 0.0000e+00\n",
      "Epoch 122/200\n",
      "30/30 - 2s - loss: 0.6436 - masked_rmse_clip: 0.2643 - val_loss: 0.4961 - val_masked_rmse_clip: 0.0000e+00\n",
      "Epoch 123/200\n",
      "30/30 - 2s - loss: 0.6364 - masked_rmse_clip: 0.2641 - val_loss: 0.4890 - val_masked_rmse_clip: 0.0000e+00\n",
      "Epoch 124/200\n",
      "30/30 - 2s - loss: 0.6261 - masked_rmse_clip: 0.2601 - val_loss: 0.4810 - val_masked_rmse_clip: 0.0000e+00\n",
      "Epoch 125/200\n",
      "30/30 - 2s - loss: 0.6223 - masked_rmse_clip: 0.2658 - val_loss: 0.4731 - val_masked_rmse_clip: 0.0000e+00\n",
      "Epoch 126/200\n",
      "30/30 - 2s - loss: 0.6085 - masked_rmse_clip: 0.2578 - val_loss: 0.4651 - val_masked_rmse_clip: 0.0000e+00\n",
      "Epoch 127/200\n",
      "30/30 - 2s - loss: 0.6048 - masked_rmse_clip: 0.2618 - val_loss: 0.4584 - val_masked_rmse_clip: 0.0000e+00\n",
      "Epoch 128/200\n",
      "30/30 - 2s - loss: 0.5943 - masked_rmse_clip: 0.2588 - val_loss: 0.4505 - val_masked_rmse_clip: 0.0000e+00\n",
      "Epoch 129/200\n",
      "30/30 - 2s - loss: 0.5891 - masked_rmse_clip: 0.2603 - val_loss: 0.4448 - val_masked_rmse_clip: 0.0000e+00\n",
      "Epoch 130/200\n",
      "30/30 - 2s - loss: 0.5824 - masked_rmse_clip: 0.2596 - val_loss: 0.4378 - val_masked_rmse_clip: 0.0000e+00\n",
      "Epoch 131/200\n",
      "30/30 - 2s - loss: 0.5742 - masked_rmse_clip: 0.2569 - val_loss: 0.4337 - val_masked_rmse_clip: 0.0000e+00\n",
      "Epoch 132/200\n",
      "30/30 - 2s - loss: 0.5646 - masked_rmse_clip: 0.2534 - val_loss: 0.4252 - val_masked_rmse_clip: 0.0000e+00\n",
      "Epoch 133/200\n",
      "30/30 - 2s - loss: 0.5597 - masked_rmse_clip: 0.2565 - val_loss: 0.4183 - val_masked_rmse_clip: 0.0000e+00\n",
      "Epoch 134/200\n",
      "30/30 - 2s - loss: 0.5513 - masked_rmse_clip: 0.2566 - val_loss: 0.4109 - val_masked_rmse_clip: 0.0000e+00\n",
      "Epoch 135/200\n",
      "30/30 - 2s - loss: 0.5453 - masked_rmse_clip: 0.2572 - val_loss: 0.4049 - val_masked_rmse_clip: 0.0000e+00\n",
      "Epoch 136/200\n",
      "30/30 - 2s - loss: 0.5402 - masked_rmse_clip: 0.2549 - val_loss: 0.3995 - val_masked_rmse_clip: 0.0000e+00\n",
      "Epoch 137/200\n",
      "30/30 - 2s - loss: 0.5320 - masked_rmse_clip: 0.2521 - val_loss: 0.3948 - val_masked_rmse_clip: 0.0000e+00\n",
      "Epoch 138/200\n",
      "30/30 - 2s - loss: 0.5415 - masked_rmse_clip: 0.2568 - val_loss: 0.3889 - val_masked_rmse_clip: 0.0000e+00\n",
      "Epoch 139/200\n",
      "30/30 - 2s - loss: 0.5266 - masked_rmse_clip: 0.2577 - val_loss: 0.3844 - val_masked_rmse_clip: 0.0000e+00\n",
      "Epoch 140/200\n",
      "30/30 - 2s - loss: 0.5224 - masked_rmse_clip: 0.2606 - val_loss: 0.3785 - val_masked_rmse_clip: 0.0000e+00\n",
      "Epoch 141/200\n",
      "30/30 - 2s - loss: 0.5118 - masked_rmse_clip: 0.2519 - val_loss: 0.3730 - val_masked_rmse_clip: 0.0000e+00\n",
      "Epoch 142/200\n",
      "30/30 - 2s - loss: 0.5074 - masked_rmse_clip: 0.2556 - val_loss: 0.3672 - val_masked_rmse_clip: 0.0000e+00\n",
      "Epoch 143/200\n",
      "30/30 - 2s - loss: 0.4986 - masked_rmse_clip: 0.2523 - val_loss: 0.3623 - val_masked_rmse_clip: 0.0000e+00\n",
      "Epoch 144/200\n",
      "30/30 - 2s - loss: 0.4906 - masked_rmse_clip: 0.2480 - val_loss: 0.3568 - val_masked_rmse_clip: 0.0000e+00\n",
      "Epoch 145/200\n",
      "30/30 - 2s - loss: 0.4872 - masked_rmse_clip: 0.2507 - val_loss: 0.3518 - val_masked_rmse_clip: 0.0000e+00\n",
      "Epoch 146/200\n",
      "30/30 - 2s - loss: 0.4795 - masked_rmse_clip: 0.2479 - val_loss: 0.3467 - val_masked_rmse_clip: 0.0000e+00\n",
      "Epoch 147/200\n",
      "30/30 - 2s - loss: 0.4798 - masked_rmse_clip: 0.2531 - val_loss: 0.3423 - val_masked_rmse_clip: 0.0000e+00\n",
      "Epoch 148/200\n",
      "30/30 - 2s - loss: 0.4684 - masked_rmse_clip: 0.2466 - val_loss: 0.3374 - val_masked_rmse_clip: 0.0000e+00\n",
      "Epoch 149/200\n",
      "30/30 - 2s - loss: 0.4633 - masked_rmse_clip: 0.2452 - val_loss: 0.3329 - val_masked_rmse_clip: 0.0000e+00\n",
      "Epoch 150/200\n",
      "30/30 - 2s - loss: 0.4638 - masked_rmse_clip: 0.2488 - val_loss: 0.3286 - val_masked_rmse_clip: 0.0000e+00\n",
      "Epoch 151/200\n",
      "30/30 - 2s - loss: 0.4613 - masked_rmse_clip: 0.2510 - val_loss: 0.3245 - val_masked_rmse_clip: 0.0000e+00\n",
      "Epoch 152/200\n",
      "30/30 - 2s - loss: 0.4565 - masked_rmse_clip: 0.2498 - val_loss: 0.3201 - val_masked_rmse_clip: 0.0000e+00\n",
      "Epoch 153/200\n",
      "30/30 - 2s - loss: 0.4481 - masked_rmse_clip: 0.2469 - val_loss: 0.3165 - val_masked_rmse_clip: 0.0000e+00\n",
      "Epoch 154/200\n",
      "30/30 - 2s - loss: 0.4428 - masked_rmse_clip: 0.2457 - val_loss: 0.3121 - val_masked_rmse_clip: 0.0000e+00\n",
      "Epoch 155/200\n",
      "30/30 - 2s - loss: 0.4341 - masked_rmse_clip: 0.2419 - val_loss: 0.3078 - val_masked_rmse_clip: 0.0000e+00\n",
      "Epoch 156/200\n",
      "30/30 - 2s - loss: 0.4338 - masked_rmse_clip: 0.2438 - val_loss: 0.3042 - val_masked_rmse_clip: 0.0000e+00\n",
      "Epoch 157/200\n",
      "30/30 - 2s - loss: 0.4261 - masked_rmse_clip: 0.2409 - val_loss: 0.3005 - val_masked_rmse_clip: 0.0000e+00\n",
      "Epoch 158/200\n",
      "30/30 - 2s - loss: 0.4242 - masked_rmse_clip: 0.2415 - val_loss: 0.2966 - val_masked_rmse_clip: 0.0000e+00\n",
      "Epoch 159/200\n",
      "30/30 - 2s - loss: 0.4194 - masked_rmse_clip: 0.2401 - val_loss: 0.2930 - val_masked_rmse_clip: 0.0000e+00\n",
      "Epoch 160/200\n",
      "30/30 - 2s - loss: 0.4162 - masked_rmse_clip: 0.2418 - val_loss: 0.2892 - val_masked_rmse_clip: 0.0000e+00\n",
      "Epoch 161/200\n",
      "30/30 - 2s - loss: 0.4158 - masked_rmse_clip: 0.2445 - val_loss: 0.2861 - val_masked_rmse_clip: 0.0000e+00\n",
      "Epoch 162/200\n",
      "30/30 - 2s - loss: 0.4115 - masked_rmse_clip: 0.2419 - val_loss: 0.2830 - val_masked_rmse_clip: 0.0000e+00\n",
      "Epoch 163/200\n",
      "30/30 - 2s - loss: 0.4053 - masked_rmse_clip: 0.2403 - val_loss: 0.2800 - val_masked_rmse_clip: 0.0000e+00\n",
      "Epoch 164/200\n",
      "30/30 - 2s - loss: 0.4005 - masked_rmse_clip: 0.2377 - val_loss: 0.2770 - val_masked_rmse_clip: 0.0000e+00\n",
      "Epoch 165/200\n",
      "30/30 - 2s - loss: 0.3951 - masked_rmse_clip: 0.2346 - val_loss: 0.2732 - val_masked_rmse_clip: 0.0000e+00\n",
      "Epoch 166/200\n",
      "30/30 - 2s - loss: 0.3939 - masked_rmse_clip: 0.2385 - val_loss: 0.2704 - val_masked_rmse_clip: 0.0000e+00\n",
      "Epoch 167/200\n",
      "30/30 - 2s - loss: 0.3884 - masked_rmse_clip: 0.2352 - val_loss: 0.2664 - val_masked_rmse_clip: 0.0000e+00\n",
      "Epoch 168/200\n",
      "30/30 - 2s - loss: 0.3865 - masked_rmse_clip: 0.2360 - val_loss: 0.2649 - val_masked_rmse_clip: 0.0000e+00\n",
      "Epoch 169/200\n",
      "30/30 - 2s - loss: 0.3812 - masked_rmse_clip: 0.2344 - val_loss: 0.2608 - val_masked_rmse_clip: 0.0000e+00\n",
      "Epoch 170/200\n",
      "30/30 - 2s - loss: 0.3812 - masked_rmse_clip: 0.2347 - val_loss: 0.2583 - val_masked_rmse_clip: 0.0000e+00\n",
      "Epoch 171/200\n",
      "30/30 - 2s - loss: 0.3807 - masked_rmse_clip: 0.2394 - val_loss: 0.2555 - val_masked_rmse_clip: 0.0000e+00\n",
      "Epoch 172/200\n",
      "30/30 - 2s - loss: 0.3773 - masked_rmse_clip: 0.2367 - val_loss: 0.2527 - val_masked_rmse_clip: 0.0000e+00\n",
      "Epoch 173/200\n",
      "30/30 - 2s - loss: 0.3735 - masked_rmse_clip: 0.2381 - val_loss: 0.2499 - val_masked_rmse_clip: 0.0000e+00\n",
      "Epoch 174/200\n",
      "30/30 - 2s - loss: 0.3690 - masked_rmse_clip: 0.2353 - val_loss: 0.2480 - val_masked_rmse_clip: 0.0000e+00\n",
      "Epoch 175/200\n",
      "30/30 - 2s - loss: 0.3665 - masked_rmse_clip: 0.2355 - val_loss: 0.2454 - val_masked_rmse_clip: 0.0000e+00\n",
      "Epoch 176/200\n",
      "30/30 - 2s - loss: 0.3637 - masked_rmse_clip: 0.2350 - val_loss: 0.2432 - val_masked_rmse_clip: 0.0000e+00\n",
      "Epoch 177/200\n",
      "30/30 - 2s - loss: 0.3614 - masked_rmse_clip: 0.2342 - val_loss: 0.2409 - val_masked_rmse_clip: 0.0000e+00\n",
      "Epoch 178/200\n",
      "30/30 - 2s - loss: 0.3598 - masked_rmse_clip: 0.2359 - val_loss: 0.2385 - val_masked_rmse_clip: 0.0000e+00\n",
      "Epoch 179/200\n",
      "30/30 - 2s - loss: 0.3535 - masked_rmse_clip: 0.2315 - val_loss: 0.2366 - val_masked_rmse_clip: 0.0000e+00\n",
      "Epoch 180/200\n",
      "30/30 - 2s - loss: 0.3496 - masked_rmse_clip: 0.2272 - val_loss: 0.2343 - val_masked_rmse_clip: 0.0000e+00\n",
      "Epoch 181/200\n",
      "30/30 - 2s - loss: 0.3491 - masked_rmse_clip: 0.2297 - val_loss: 0.2328 - val_masked_rmse_clip: 0.0000e+00\n",
      "Epoch 182/200\n",
      "30/30 - 2s - loss: 0.3456 - masked_rmse_clip: 0.2289 - val_loss: 0.2302 - val_masked_rmse_clip: 0.0000e+00\n",
      "Epoch 183/200\n",
      "30/30 - 2s - loss: 0.3452 - masked_rmse_clip: 0.2288 - val_loss: 0.2282 - val_masked_rmse_clip: 0.0000e+00\n",
      "Epoch 184/200\n",
      "30/30 - 2s - loss: 0.3399 - masked_rmse_clip: 0.2263 - val_loss: 0.2258 - val_masked_rmse_clip: 0.0000e+00\n",
      "Epoch 185/200\n",
      "30/30 - 2s - loss: 0.3421 - masked_rmse_clip: 0.2291 - val_loss: 0.2240 - val_masked_rmse_clip: 0.0000e+00\n",
      "Epoch 186/200\n",
      "30/30 - 2s - loss: 0.3392 - masked_rmse_clip: 0.2298 - val_loss: 0.2226 - val_masked_rmse_clip: 0.0000e+00\n",
      "Epoch 187/200\n",
      "30/30 - 2s - loss: 0.3390 - masked_rmse_clip: 0.2309 - val_loss: 0.2204 - val_masked_rmse_clip: 0.0000e+00\n",
      "Epoch 188/200\n",
      "30/30 - 2s - loss: 0.3392 - masked_rmse_clip: 0.2343 - val_loss: 0.2182 - val_masked_rmse_clip: 0.0000e+00\n",
      "Epoch 189/200\n",
      "30/30 - 2s - loss: 0.3350 - masked_rmse_clip: 0.2301 - val_loss: 0.2170 - val_masked_rmse_clip: 0.0000e+00\n",
      "Epoch 190/200\n",
      "30/30 - 2s - loss: 0.3319 - masked_rmse_clip: 0.2291 - val_loss: 0.2147 - val_masked_rmse_clip: 0.0000e+00\n",
      "Epoch 191/200\n",
      "30/30 - 2s - loss: 0.3263 - masked_rmse_clip: 0.2258 - val_loss: 0.2130 - val_masked_rmse_clip: 0.0000e+00\n",
      "Epoch 192/200\n",
      "30/30 - 2s - loss: 0.3259 - masked_rmse_clip: 0.2258 - val_loss: 0.2114 - val_masked_rmse_clip: 0.0000e+00\n",
      "Epoch 193/200\n",
      "30/30 - 2s - loss: 0.3243 - masked_rmse_clip: 0.2281 - val_loss: 0.2101 - val_masked_rmse_clip: 0.0000e+00\n",
      "Epoch 194/200\n",
      "30/30 - 2s - loss: 0.3207 - masked_rmse_clip: 0.2230 - val_loss: 0.2080 - val_masked_rmse_clip: 0.0000e+00\n",
      "Epoch 195/200\n",
      "30/30 - 2s - loss: 0.3178 - masked_rmse_clip: 0.2245 - val_loss: 0.2066 - val_masked_rmse_clip: 0.0000e+00\n",
      "Epoch 196/200\n",
      "30/30 - 2s - loss: 0.3174 - masked_rmse_clip: 0.2232 - val_loss: 0.2055 - val_masked_rmse_clip: 0.0000e+00\n",
      "Epoch 197/200\n",
      "30/30 - 2s - loss: 0.3168 - masked_rmse_clip: 0.2248 - val_loss: 0.2039 - val_masked_rmse_clip: 0.0000e+00\n",
      "Epoch 198/200\n",
      "30/30 - 2s - loss: 0.3145 - masked_rmse_clip: 0.2265 - val_loss: 0.2024 - val_masked_rmse_clip: 0.0000e+00\n",
      "Epoch 199/200\n",
      "30/30 - 2s - loss: 0.3131 - masked_rmse_clip: 0.2241 - val_loss: 0.2013 - val_masked_rmse_clip: 0.0000e+00\n",
      "Epoch 200/200\n",
      "30/30 - 2s - loss: 0.3131 - masked_rmse_clip: 0.2250 - val_loss: 0.1996 - val_masked_rmse_clip: 0.0000e+00\n"
     ]
    }
   ],
   "source": [
    "hist_Deep_AE = Deep_AE.fit(x=users_items_matrix_train_zero, y=users_items_matrix_train_zero,\n",
    "                  epochs=200,\n",
    "                  batch_size=256,\n",
    "                validation_data=[users_items_matrix_train_zero, users_items_matrix_validate], verbose=2)"
   ]
  },
  {
   "cell_type": "markdown",
   "metadata": {
    "colab_type": "text",
    "id": "pyRN6UbCpE_D"
   },
   "source": [
    "#### output"
   ]
  },
  {
   "cell_type": "code",
   "execution_count": 29,
   "metadata": {
    "colab": {
     "base_uri": "https://localhost:8080/",
     "height": 34
    },
    "colab_type": "code",
    "id": "MSuNa8v7pE_D",
    "outputId": "d4f753ae-ca5c-4613-c148-974e437855ce"
   },
   "outputs": [
    {
     "data": {
      "text/plain": [
       "(7613, 9929)"
      ]
     },
     "execution_count": 29,
     "metadata": {
      "tags": []
     },
     "output_type": "execute_result"
    }
   ],
   "source": [
    "predict_deep = Deep_AE.predict(users_items_matrix_train_zero)\n",
    "predict_deep.shape"
   ]
  },
  {
   "cell_type": "code",
   "execution_count": 30,
   "metadata": {
    "colab": {
     "base_uri": "https://localhost:8080/",
     "height": 140
    },
    "colab_type": "code",
    "id": "tI6iVfjBpE_G",
    "outputId": "04a00b0e-c6fe-462d-9e70-7f61cc5e815e"
   },
   "outputs": [
    {
     "data": {
      "text/plain": [
       "array([[5, 0, 0, ..., 0, 0, 0],\n",
       "       [0, 5, 4, ..., 0, 0, 0],\n",
       "       [4, 0, 0, ..., 0, 0, 0],\n",
       "       ...,\n",
       "       [0, 0, 0, ..., 5, 0, 0],\n",
       "       [0, 0, 0, ..., 0, 0, 0],\n",
       "       [0, 0, 0, ..., 0, 0, 0]])"
      ]
     },
     "execution_count": 30,
     "metadata": {
      "tags": []
     },
     "output_type": "execute_result"
    }
   ],
   "source": [
    "users_items_matrix_train_zero"
   ]
  },
  {
   "cell_type": "code",
   "execution_count": 31,
   "metadata": {
    "colab": {
     "base_uri": "https://localhost:8080/",
     "height": 246
    },
    "colab_type": "code",
    "id": "FxeKr1yxpE_J",
    "outputId": "4565ab13-4651-4ddd-f432-0279f19d7881"
   },
   "outputs": [
    {
     "data": {
      "text/plain": [
       "array([[4.4918113, 4.170216 , 3.8366194, ..., 3.303756 , 2.8397808,\n",
       "        3.541355 ],\n",
       "       [3.4924119, 4.45126  , 4.4499288, ..., 2.3121154, 3.877664 ,\n",
       "        4.797636 ],\n",
       "       [3.9160361, 3.7386346, 3.3459127, ..., 2.57929  , 2.4354897,\n",
       "        3.0344338],\n",
       "       ...,\n",
       "       [4.911874 , 4.5376353, 4.430986 , ..., 4.9342937, 3.4834597,\n",
       "        4.3523464],\n",
       "       [4.5478935, 4.2272234, 4.283716 , ..., 4.0435815, 3.791431 ,\n",
       "        4.72086  ],\n",
       "       [4.00671  , 4.658057 , 4.8302236, ..., 3.9826205, 4.025987 ,\n",
       "        4.9986563]], dtype=float32)"
      ]
     },
     "execution_count": 31,
     "metadata": {
      "tags": []
     },
     "output_type": "execute_result"
    }
   ],
   "source": [
    "predict_deep"
   ]
  },
  {
   "cell_type": "markdown",
   "metadata": {
    "colab_type": "text",
    "id": "AD6t93CcpE_O"
   },
   "source": [
    ": 결과 값에 대한 해석을 어떻게 해야할지 모르겠지만, 일단, 위의 matrix와 비교하면, 5점에 대한 부분에서의 결과값이 다른 값들 보다 높게 생성되었으며, 4점에 대한 부분 역시도 5점보다는 높게, 0점보다는 낮게 생성된 것을 알 수 있다.\n",
    "\n",
    ": 하지만 결과 값에 대한 해석에서는 이견이 있을 것이라고 생각하기 때문에 필요성을 검토해봐야한다."
   ]
  },
  {
   "cell_type": "markdown",
   "metadata": {
    "colab_type": "text",
    "id": "zAhnktGupE_P"
   },
   "source": [
    "#### method_2)  Gaussin noise를 추가하여 다시 학습을 진행해보자."
   ]
  },
  {
   "cell_type": "code",
   "execution_count": null,
   "metadata": {
    "colab": {},
    "colab_type": "code",
    "id": "9iR5WDl5pE_P"
   },
   "outputs": [],
   "source": [
    "## Adding Gaussin noise to input\n",
    "noise_factor = 0.2\n",
    "users_items_matrix_train_zero_noisy = users_items_matrix_train_zero + noise_factor * np.random.normal(size=users_items_matrix_train_zero.shape) "
   ]
  },
  {
   "cell_type": "code",
   "execution_count": 33,
   "metadata": {
    "colab": {
     "base_uri": "https://localhost:8080/",
     "height": 246
    },
    "colab_type": "code",
    "id": "FVdfE-6JpE_T",
    "outputId": "fe5f0dab-d2be-4260-d7d3-d38527800d0b"
   },
   "outputs": [
    {
     "data": {
      "text/plain": [
       "array([[ 4.94536957, -0.1920947 ,  0.21792335, ..., -0.00666214,\n",
       "         0.03230252,  0.0571985 ],\n",
       "       [ 0.27287078,  5.11951386,  3.84962424, ...,  0.28601788,\n",
       "        -0.14667009,  0.0539903 ],\n",
       "       [ 4.1587367 , -0.23104066, -0.22737723, ...,  0.04253071,\n",
       "         0.01394342, -0.12779111],\n",
       "       ...,\n",
       "       [-0.25118244,  0.23314809,  0.10845348, ...,  4.744131  ,\n",
       "        -0.03026341,  0.20786581],\n",
       "       [ 0.11158167,  0.00885028, -0.24205023, ...,  0.32921039,\n",
       "        -0.47297254, -0.13949017],\n",
       "       [-0.18126535, -0.21107656,  0.01959683, ..., -0.13114641,\n",
       "        -0.40416711, -0.45826687]])"
      ]
     },
     "execution_count": 33,
     "metadata": {
      "tags": []
     },
     "output_type": "execute_result"
    }
   ],
   "source": [
    "users_items_matrix_train_zero_noisy"
   ]
  },
  {
   "cell_type": "markdown",
   "metadata": {
    "colab_type": "text",
    "id": "QV3h73lLpE_V"
   },
   "source": [
    ": noise를 추가하여 학습을 진행시켜보자."
   ]
  },
  {
   "cell_type": "code",
   "execution_count": null,
   "metadata": {
    "colab": {},
    "colab_type": "code",
    "id": "rjEfwsG2pE_W"
   },
   "outputs": [],
   "source": [
    "################### Layer 선택 ###################################\n",
    "#layers = [256, 512, 256]\n",
    "layers = [1024, 512, 258, 512, 1024]\n",
    "#layers = [512, 256, 512]\n",
    "#layers = [128, 256, 512, 256, 128]\n",
    "#layers = [512, 512, 512]\n",
    "##################################################################\n",
    "\n",
    "dropout = 0.8\n",
    "# activation = 'sigmoid'\n",
    "# last_activation = 'linear'\n",
    "activation = 'selu'\n",
    "last_activation = 'selu'\n",
    "regularizer_encode = 0.001\n",
    "regularizer_decode = 0.001"
   ]
  },
  {
   "cell_type": "code",
   "execution_count": 35,
   "metadata": {
    "colab": {
     "base_uri": "https://localhost:8080/",
     "height": 439
    },
    "colab_type": "code",
    "id": "N5QW-_AOpE_Z",
    "outputId": "053581c0-fc98-4cc0-c75d-eefab5e4c9ff"
   },
   "outputs": [
    {
     "name": "stdout",
     "output_type": "stream",
     "text": [
      "Model: \"model_1\"\n",
      "_________________________________________________________________\n",
      "Layer (type)                 Output Shape              Param #   \n",
      "=================================================================\n",
      "UserRating (InputLayer)      [(None, 9929)]            0         \n",
      "_________________________________________________________________\n",
      "EncLayer0 (Dense)            (None, 1024)              10168320  \n",
      "_________________________________________________________________\n",
      "EncLayer1 (Dense)            (None, 512)               524800    \n",
      "_________________________________________________________________\n",
      "LatentSpace (Dense)          (None, 258)               132354    \n",
      "_________________________________________________________________\n",
      "dropout_1 (Dropout)          (None, 258)               0         \n",
      "_________________________________________________________________\n",
      "DecLayer1 (Dense)            (None, 512)               132608    \n",
      "_________________________________________________________________\n",
      "DecLayer0 (Dense)            (None, 1024)              525312    \n",
      "_________________________________________________________________\n",
      "UserScorePred (Dense)        (None, 9929)              10177225  \n",
      "=================================================================\n",
      "Total params: 21,660,619\n",
      "Trainable params: 21,660,619\n",
      "Non-trainable params: 0\n",
      "_________________________________________________________________\n"
     ]
    }
   ],
   "source": [
    "# Build model\n",
    "Deep_AE = Deep_AE_model(users_items_matrix_train_zero_noisy, layers, activation, last_activation, dropout, regularizer_encode, regularizer_decode)\n",
    "Deep_AE.compile(optimizer = optimizer, loss=masked_mse, metrics=[masked_rmse_clip]) \n",
    "Deep_AE.summary()"
   ]
  },
  {
   "cell_type": "code",
   "execution_count": null,
   "metadata": {
    "colab": {
     "base_uri": "https://localhost:8080/",
     "height": 1000
    },
    "colab_type": "code",
    "id": "KGqONVpkpE_b",
    "outputId": "a4e33ad4-f249-4d46-ff5d-d0dd24be850d"
   },
   "outputs": [
    {
     "name": "stdout",
     "output_type": "stream",
     "text": [
      "Epoch 1/200\n",
      "30/30 - 2s - loss: 14.3005 - masked_rmse_clip: 2.0632 - val_loss: 4.5496 - val_masked_rmse_clip: 0.0000e+00\n",
      "Epoch 2/200\n",
      "30/30 - 2s - loss: 6.8654 - masked_rmse_clip: 0.9937 - val_loss: 4.4617 - val_masked_rmse_clip: 0.0000e+00\n",
      "Epoch 3/200\n",
      "30/30 - 2s - loss: 5.4803 - masked_rmse_clip: 0.6947 - val_loss: 4.3856 - val_masked_rmse_clip: 0.0000e+00\n",
      "Epoch 4/200\n",
      "30/30 - 2s - loss: 5.0819 - masked_rmse_clip: 0.5867 - val_loss: 4.3082 - val_masked_rmse_clip: 0.0000e+00\n",
      "Epoch 5/200\n",
      "30/30 - 2s - loss: 4.8946 - masked_rmse_clip: 0.5525 - val_loss: 4.2371 - val_masked_rmse_clip: 0.0000e+00\n",
      "Epoch 6/200\n",
      "30/30 - 2s - loss: 4.7439 - masked_rmse_clip: 0.5142 - val_loss: 4.1708 - val_masked_rmse_clip: 0.0000e+00\n",
      "Epoch 7/200\n",
      "30/30 - 2s - loss: 4.6242 - masked_rmse_clip: 0.4875 - val_loss: 4.1074 - val_masked_rmse_clip: 0.0000e+00\n",
      "Epoch 8/200\n",
      "30/30 - 2s - loss: 4.5314 - masked_rmse_clip: 0.4740 - val_loss: 4.0473 - val_masked_rmse_clip: 0.0000e+00\n",
      "Epoch 9/200\n",
      "30/30 - 2s - loss: 4.4442 - masked_rmse_clip: 0.4585 - val_loss: 3.9895 - val_masked_rmse_clip: 0.0000e+00\n",
      "Epoch 10/200\n",
      "30/30 - 2s - loss: 4.3670 - masked_rmse_clip: 0.4444 - val_loss: 3.9340 - val_masked_rmse_clip: 0.0000e+00\n",
      "Epoch 11/200\n",
      "30/30 - 2s - loss: 4.2957 - masked_rmse_clip: 0.4361 - val_loss: 3.8793 - val_masked_rmse_clip: 0.0000e+00\n",
      "Epoch 12/200\n",
      "30/30 - 2s - loss: 4.2167 - masked_rmse_clip: 0.4219 - val_loss: 3.8259 - val_masked_rmse_clip: 0.0000e+00\n",
      "Epoch 13/200\n",
      "30/30 - 2s - loss: 4.1453 - masked_rmse_clip: 0.4097 - val_loss: 3.7751 - val_masked_rmse_clip: 0.0000e+00\n",
      "Epoch 14/200\n",
      "30/30 - 2s - loss: 4.0848 - masked_rmse_clip: 0.4103 - val_loss: 3.7231 - val_masked_rmse_clip: 0.0000e+00\n",
      "Epoch 15/200\n",
      "30/30 - 2s - loss: 4.0215 - masked_rmse_clip: 0.3964 - val_loss: 3.6720 - val_masked_rmse_clip: 0.0000e+00\n",
      "Epoch 16/200\n",
      "30/30 - 2s - loss: 3.9504 - masked_rmse_clip: 0.3844 - val_loss: 3.6228 - val_masked_rmse_clip: 0.0000e+00\n",
      "Epoch 17/200\n",
      "30/30 - 2s - loss: 3.8981 - masked_rmse_clip: 0.3812 - val_loss: 3.5733 - val_masked_rmse_clip: 0.0000e+00\n",
      "Epoch 18/200\n",
      "30/30 - 2s - loss: 3.8402 - masked_rmse_clip: 0.3685 - val_loss: 3.5254 - val_masked_rmse_clip: 0.0000e+00\n",
      "Epoch 19/200\n",
      "30/30 - 2s - loss: 3.7799 - masked_rmse_clip: 0.3661 - val_loss: 3.4774 - val_masked_rmse_clip: 0.0000e+00\n",
      "Epoch 20/200\n",
      "30/30 - 2s - loss: 3.7274 - masked_rmse_clip: 0.3605 - val_loss: 3.4300 - val_masked_rmse_clip: 0.0000e+00\n",
      "Epoch 21/200\n",
      "30/30 - 2s - loss: 3.6660 - masked_rmse_clip: 0.3532 - val_loss: 3.3837 - val_masked_rmse_clip: 0.0000e+00\n",
      "Epoch 22/200\n",
      "30/30 - 2s - loss: 3.6120 - masked_rmse_clip: 0.3451 - val_loss: 3.3372 - val_masked_rmse_clip: 0.0000e+00\n",
      "Epoch 23/200\n",
      "30/30 - 2s - loss: 3.5566 - masked_rmse_clip: 0.3383 - val_loss: 3.2908 - val_masked_rmse_clip: 0.0000e+00\n",
      "Epoch 24/200\n",
      "30/30 - 2s - loss: 3.5109 - masked_rmse_clip: 0.3388 - val_loss: 3.2452 - val_masked_rmse_clip: 0.0000e+00\n",
      "Epoch 25/200\n",
      "30/30 - 2s - loss: 3.4600 - masked_rmse_clip: 0.3340 - val_loss: 3.2004 - val_masked_rmse_clip: 0.0000e+00\n",
      "Epoch 26/200\n",
      "30/30 - 2s - loss: 3.4102 - masked_rmse_clip: 0.3291 - val_loss: 3.1559 - val_masked_rmse_clip: 0.0000e+00\n",
      "Epoch 27/200\n",
      "30/30 - 2s - loss: 3.3580 - masked_rmse_clip: 0.3255 - val_loss: 3.1113 - val_masked_rmse_clip: 0.0000e+00\n",
      "Epoch 28/200\n",
      "30/30 - 2s - loss: 3.3084 - masked_rmse_clip: 0.3215 - val_loss: 3.0670 - val_masked_rmse_clip: 0.0000e+00\n",
      "Epoch 29/200\n",
      "30/30 - 2s - loss: 3.2586 - masked_rmse_clip: 0.3153 - val_loss: 3.0241 - val_masked_rmse_clip: 0.0000e+00\n",
      "Epoch 30/200\n",
      "30/30 - 2s - loss: 3.2092 - masked_rmse_clip: 0.3060 - val_loss: 2.9808 - val_masked_rmse_clip: 0.0000e+00\n",
      "Epoch 31/200\n",
      "30/30 - 2s - loss: 3.1622 - masked_rmse_clip: 0.3057 - val_loss: 2.9383 - val_masked_rmse_clip: 0.0000e+00\n",
      "Epoch 32/200\n",
      "30/30 - 2s - loss: 3.1180 - masked_rmse_clip: 0.3038 - val_loss: 2.8959 - val_masked_rmse_clip: 0.0000e+00\n",
      "Epoch 33/200\n",
      "30/30 - 2s - loss: 3.0749 - masked_rmse_clip: 0.3064 - val_loss: 2.8534 - val_masked_rmse_clip: 0.0000e+00\n",
      "Epoch 34/200\n",
      "30/30 - 2s - loss: 3.0256 - masked_rmse_clip: 0.2958 - val_loss: 2.8116 - val_masked_rmse_clip: 0.0000e+00\n",
      "Epoch 35/200\n",
      "30/30 - 2s - loss: 2.9845 - masked_rmse_clip: 0.2975 - val_loss: 2.7701 - val_masked_rmse_clip: 0.0000e+00\n",
      "Epoch 36/200\n",
      "30/30 - 2s - loss: 2.9337 - masked_rmse_clip: 0.2922 - val_loss: 2.7298 - val_masked_rmse_clip: 0.0000e+00\n",
      "Epoch 37/200\n",
      "30/30 - 2s - loss: 2.8884 - masked_rmse_clip: 0.2834 - val_loss: 2.6888 - val_masked_rmse_clip: 0.0000e+00\n",
      "Epoch 38/200\n",
      "30/30 - 2s - loss: 2.8492 - masked_rmse_clip: 0.2885 - val_loss: 2.6484 - val_masked_rmse_clip: 0.0000e+00\n",
      "Epoch 39/200\n",
      "30/30 - 2s - loss: 2.8070 - masked_rmse_clip: 0.2849 - val_loss: 2.6090 - val_masked_rmse_clip: 0.0000e+00\n",
      "Epoch 40/200\n",
      "30/30 - 2s - loss: 2.7625 - masked_rmse_clip: 0.2820 - val_loss: 2.5694 - val_masked_rmse_clip: 0.0000e+00\n",
      "Epoch 41/200\n",
      "30/30 - 2s - loss: 2.7162 - masked_rmse_clip: 0.2773 - val_loss: 2.5301 - val_masked_rmse_clip: 0.0000e+00\n",
      "Epoch 42/200\n",
      "30/30 - 2s - loss: 2.6811 - masked_rmse_clip: 0.2753 - val_loss: 2.4901 - val_masked_rmse_clip: 0.0000e+00\n",
      "Epoch 43/200\n",
      "30/30 - 2s - loss: 2.6428 - masked_rmse_clip: 0.2768 - val_loss: 2.4534 - val_masked_rmse_clip: 0.0000e+00\n",
      "Epoch 44/200\n",
      "30/30 - 2s - loss: 2.5958 - masked_rmse_clip: 0.2719 - val_loss: 2.4151 - val_masked_rmse_clip: 0.0000e+00\n",
      "Epoch 45/200\n",
      "30/30 - 2s - loss: 2.5591 - masked_rmse_clip: 0.2719 - val_loss: 2.3775 - val_masked_rmse_clip: 0.0000e+00\n",
      "Epoch 46/200\n",
      "30/30 - 2s - loss: 2.5156 - masked_rmse_clip: 0.2670 - val_loss: 2.3399 - val_masked_rmse_clip: 0.0000e+00\n",
      "Epoch 47/200\n",
      "30/30 - 2s - loss: 2.4825 - masked_rmse_clip: 0.2676 - val_loss: 2.3028 - val_masked_rmse_clip: 0.0000e+00\n",
      "Epoch 48/200\n",
      "30/30 - 2s - loss: 2.4380 - masked_rmse_clip: 0.2613 - val_loss: 2.2666 - val_masked_rmse_clip: 0.0000e+00\n",
      "Epoch 49/200\n",
      "30/30 - 2s - loss: 2.4020 - masked_rmse_clip: 0.2612 - val_loss: 2.2300 - val_masked_rmse_clip: 0.0000e+00\n",
      "Epoch 50/200\n",
      "30/30 - 2s - loss: 2.3621 - masked_rmse_clip: 0.2576 - val_loss: 2.1943 - val_masked_rmse_clip: 0.0000e+00\n",
      "Epoch 51/200\n",
      "30/30 - 2s - loss: 2.3253 - masked_rmse_clip: 0.2563 - val_loss: 2.1583 - val_masked_rmse_clip: 0.0000e+00\n",
      "Epoch 52/200\n",
      "30/30 - 2s - loss: 2.2896 - masked_rmse_clip: 0.2551 - val_loss: 2.1239 - val_masked_rmse_clip: 0.0000e+00\n",
      "Epoch 53/200\n",
      "30/30 - 2s - loss: 2.2507 - masked_rmse_clip: 0.2556 - val_loss: 2.0883 - val_masked_rmse_clip: 0.0000e+00\n",
      "Epoch 54/200\n",
      "30/30 - 2s - loss: 2.2124 - masked_rmse_clip: 0.2499 - val_loss: 2.0542 - val_masked_rmse_clip: 0.0000e+00\n",
      "Epoch 55/200\n",
      "30/30 - 2s - loss: 2.1751 - masked_rmse_clip: 0.2480 - val_loss: 2.0194 - val_masked_rmse_clip: 0.0000e+00\n",
      "Epoch 56/200\n",
      "30/30 - 2s - loss: 2.1423 - masked_rmse_clip: 0.2489 - val_loss: 1.9859 - val_masked_rmse_clip: 0.0000e+00\n",
      "Epoch 57/200\n",
      "30/30 - 2s - loss: 2.1094 - masked_rmse_clip: 0.2505 - val_loss: 1.9521 - val_masked_rmse_clip: 0.0000e+00\n",
      "Epoch 58/200\n",
      "30/30 - 2s - loss: 2.0717 - masked_rmse_clip: 0.2442 - val_loss: 1.9193 - val_masked_rmse_clip: 0.0000e+00\n",
      "Epoch 59/200\n",
      "30/30 - 2s - loss: 2.0333 - masked_rmse_clip: 0.2400 - val_loss: 1.8859 - val_masked_rmse_clip: 0.0000e+00\n",
      "Epoch 60/200\n",
      "30/30 - 2s - loss: 2.0033 - masked_rmse_clip: 0.2434 - val_loss: 1.8540 - val_masked_rmse_clip: 0.0000e+00\n",
      "Epoch 61/200\n",
      "30/30 - 2s - loss: 1.9727 - masked_rmse_clip: 0.2402 - val_loss: 1.8223 - val_masked_rmse_clip: 0.0000e+00\n",
      "Epoch 62/200\n",
      "30/30 - 2s - loss: 1.9380 - masked_rmse_clip: 0.2385 - val_loss: 1.7901 - val_masked_rmse_clip: 0.0000e+00\n",
      "Epoch 63/200\n",
      "30/30 - 2s - loss: 1.9089 - masked_rmse_clip: 0.2413 - val_loss: 1.7597 - val_masked_rmse_clip: 0.0000e+00\n",
      "Epoch 64/200\n",
      "30/30 - 2s - loss: 1.8735 - masked_rmse_clip: 0.2383 - val_loss: 1.7284 - val_masked_rmse_clip: 0.0000e+00\n",
      "Epoch 65/200\n",
      "30/30 - 2s - loss: 1.8451 - masked_rmse_clip: 0.2404 - val_loss: 1.6986 - val_masked_rmse_clip: 0.0000e+00\n",
      "Epoch 66/200\n",
      "30/30 - 2s - loss: 1.8113 - masked_rmse_clip: 0.2375 - val_loss: 1.6676 - val_masked_rmse_clip: 0.0000e+00\n",
      "Epoch 67/200\n",
      "30/30 - 2s - loss: 1.7831 - masked_rmse_clip: 0.2379 - val_loss: 1.6385 - val_masked_rmse_clip: 0.0000e+00\n",
      "Epoch 68/200\n",
      "30/30 - 2s - loss: 1.7503 - masked_rmse_clip: 0.2350 - val_loss: 1.6093 - val_masked_rmse_clip: 0.0000e+00\n",
      "Epoch 69/200\n",
      "30/30 - 2s - loss: 1.7182 - masked_rmse_clip: 0.2322 - val_loss: 1.5807 - val_masked_rmse_clip: 0.0000e+00\n",
      "Epoch 70/200\n",
      "30/30 - 2s - loss: 1.6856 - masked_rmse_clip: 0.2286 - val_loss: 1.5516 - val_masked_rmse_clip: 0.0000e+00\n",
      "Epoch 71/200\n",
      "30/30 - 2s - loss: 1.6582 - masked_rmse_clip: 0.2298 - val_loss: 1.5234 - val_masked_rmse_clip: 0.0000e+00\n",
      "Epoch 72/200\n",
      "30/30 - 2s - loss: 1.6272 - masked_rmse_clip: 0.2256 - val_loss: 1.4952 - val_masked_rmse_clip: 0.0000e+00\n",
      "Epoch 73/200\n",
      "30/30 - 2s - loss: 1.5986 - masked_rmse_clip: 0.2267 - val_loss: 1.4676 - val_masked_rmse_clip: 0.0000e+00\n",
      "Epoch 74/200\n",
      "30/30 - 2s - loss: 1.5729 - masked_rmse_clip: 0.2252 - val_loss: 1.4406 - val_masked_rmse_clip: 0.0000e+00\n",
      "Epoch 75/200\n",
      "30/30 - 2s - loss: 1.5482 - masked_rmse_clip: 0.2289 - val_loss: 1.4140 - val_masked_rmse_clip: 0.0000e+00\n",
      "Epoch 76/200\n",
      "30/30 - 2s - loss: 1.5192 - masked_rmse_clip: 0.2247 - val_loss: 1.3874 - val_masked_rmse_clip: 0.0000e+00\n",
      "Epoch 77/200\n",
      "30/30 - 2s - loss: 1.4921 - masked_rmse_clip: 0.2248 - val_loss: 1.3621 - val_masked_rmse_clip: 0.0000e+00\n",
      "Epoch 78/200\n",
      "30/30 - 2s - loss: 1.4675 - masked_rmse_clip: 0.2270 - val_loss: 1.3368 - val_masked_rmse_clip: 0.0000e+00\n",
      "Epoch 79/200\n",
      "30/30 - 2s - loss: 1.4405 - masked_rmse_clip: 0.2249 - val_loss: 1.3113 - val_masked_rmse_clip: 0.0000e+00\n",
      "Epoch 80/200\n",
      "30/30 - 2s - loss: 1.4147 - masked_rmse_clip: 0.2256 - val_loss: 1.2870 - val_masked_rmse_clip: 0.0000e+00\n",
      "Epoch 81/200\n",
      "30/30 - 2s - loss: 1.3905 - masked_rmse_clip: 0.2220 - val_loss: 1.2627 - val_masked_rmse_clip: 0.0000e+00\n",
      "Epoch 82/200\n",
      "30/30 - 2s - loss: 1.3649 - masked_rmse_clip: 0.2205 - val_loss: 1.2381 - val_masked_rmse_clip: 0.0000e+00\n",
      "Epoch 83/200\n",
      "30/30 - 2s - loss: 1.3388 - masked_rmse_clip: 0.2203 - val_loss: 1.2149 - val_masked_rmse_clip: 0.0000e+00\n",
      "Epoch 84/200\n",
      "30/30 - 2s - loss: 1.3139 - masked_rmse_clip: 0.2196 - val_loss: 1.1912 - val_masked_rmse_clip: 0.0000e+00\n",
      "Epoch 85/200\n",
      "30/30 - 2s - loss: 1.2914 - masked_rmse_clip: 0.2184 - val_loss: 1.1685 - val_masked_rmse_clip: 0.0000e+00\n",
      "Epoch 86/200\n",
      "30/30 - 2s - loss: 1.2663 - masked_rmse_clip: 0.2167 - val_loss: 1.1460 - val_masked_rmse_clip: 0.0000e+00\n",
      "Epoch 87/200\n",
      "30/30 - 2s - loss: 1.2416 - masked_rmse_clip: 0.2131 - val_loss: 1.1243 - val_masked_rmse_clip: 0.0000e+00\n",
      "Epoch 88/200\n",
      "30/30 - 2s - loss: 1.2220 - masked_rmse_clip: 0.2165 - val_loss: 1.1021 - val_masked_rmse_clip: 0.0000e+00\n",
      "Epoch 89/200\n",
      "30/30 - 2s - loss: 1.1998 - masked_rmse_clip: 0.2154 - val_loss: 1.0802 - val_masked_rmse_clip: 0.0000e+00\n",
      "Epoch 90/200\n",
      "30/30 - 2s - loss: 1.1821 - masked_rmse_clip: 0.2195 - val_loss: 1.0594 - val_masked_rmse_clip: 0.0000e+00\n",
      "Epoch 91/200\n",
      "30/30 - 2s - loss: 1.1589 - masked_rmse_clip: 0.2145 - val_loss: 1.0386 - val_masked_rmse_clip: 0.0000e+00\n",
      "Epoch 92/200\n",
      "30/30 - 2s - loss: 1.1382 - masked_rmse_clip: 0.2163 - val_loss: 1.0186 - val_masked_rmse_clip: 0.0000e+00\n",
      "Epoch 93/200\n",
      "30/30 - 2s - loss: 1.1182 - masked_rmse_clip: 0.2151 - val_loss: 0.9985 - val_masked_rmse_clip: 0.0000e+00\n",
      "Epoch 94/200\n",
      "30/30 - 2s - loss: 1.0989 - masked_rmse_clip: 0.2194 - val_loss: 0.9789 - val_masked_rmse_clip: 0.0000e+00\n",
      "Epoch 95/200\n",
      "30/30 - 2s - loss: 1.0812 - masked_rmse_clip: 0.2158 - val_loss: 0.9597 - val_masked_rmse_clip: 0.0000e+00\n",
      "Epoch 96/200\n",
      "30/30 - 2s - loss: 1.0612 - masked_rmse_clip: 0.2167 - val_loss: 0.9407 - val_masked_rmse_clip: 0.0000e+00\n",
      "Epoch 97/200\n",
      "30/30 - 2s - loss: 1.0403 - masked_rmse_clip: 0.2149 - val_loss: 0.9223 - val_masked_rmse_clip: 0.0000e+00\n",
      "Epoch 98/200\n",
      "30/30 - 2s - loss: 1.0208 - masked_rmse_clip: 0.2165 - val_loss: 0.9043 - val_masked_rmse_clip: 0.0000e+00\n",
      "Epoch 99/200\n",
      "30/30 - 2s - loss: 1.0036 - masked_rmse_clip: 0.2138 - val_loss: 0.8865 - val_masked_rmse_clip: 0.0000e+00\n",
      "Epoch 100/200\n",
      "30/30 - 2s - loss: 0.9868 - masked_rmse_clip: 0.2151 - val_loss: 0.8689 - val_masked_rmse_clip: 0.0000e+00\n",
      "Epoch 101/200\n",
      "30/30 - 2s - loss: 0.9692 - masked_rmse_clip: 0.2161 - val_loss: 0.8519 - val_masked_rmse_clip: 0.0000e+00\n",
      "Epoch 102/200\n",
      "30/30 - 2s - loss: 0.9486 - masked_rmse_clip: 0.2122 - val_loss: 0.8349 - val_masked_rmse_clip: 0.0000e+00\n",
      "Epoch 103/200\n",
      "30/30 - 2s - loss: 0.9298 - masked_rmse_clip: 0.2118 - val_loss: 0.8188 - val_masked_rmse_clip: 0.0000e+00\n",
      "Epoch 104/200\n",
      "30/30 - 2s - loss: 0.9148 - masked_rmse_clip: 0.2110 - val_loss: 0.8022 - val_masked_rmse_clip: 0.0000e+00\n",
      "Epoch 105/200\n",
      "30/30 - 2s - loss: 0.8998 - masked_rmse_clip: 0.2143 - val_loss: 0.7866 - val_masked_rmse_clip: 0.0000e+00\n",
      "Epoch 106/200\n",
      "30/30 - 2s - loss: 0.8824 - masked_rmse_clip: 0.2115 - val_loss: 0.7707 - val_masked_rmse_clip: 0.0000e+00\n",
      "Epoch 107/200\n",
      "30/30 - 2s - loss: 0.8646 - masked_rmse_clip: 0.2073 - val_loss: 0.7558 - val_masked_rmse_clip: 0.0000e+00\n",
      "Epoch 108/200\n",
      "30/30 - 2s - loss: 0.8515 - masked_rmse_clip: 0.2111 - val_loss: 0.7407 - val_masked_rmse_clip: 0.0000e+00\n",
      "Epoch 109/200\n",
      "30/30 - 2s - loss: 0.8363 - masked_rmse_clip: 0.2111 - val_loss: 0.7256 - val_masked_rmse_clip: 0.0000e+00\n",
      "Epoch 110/200\n",
      "30/30 - 2s - loss: 0.8204 - masked_rmse_clip: 0.2097 - val_loss: 0.7107 - val_masked_rmse_clip: 0.0000e+00\n",
      "Epoch 111/200\n",
      "30/30 - 2s - loss: 0.8071 - masked_rmse_clip: 0.2100 - val_loss: 0.6963 - val_masked_rmse_clip: 0.0000e+00\n",
      "Epoch 112/200\n",
      "30/30 - 2s - loss: 0.7921 - masked_rmse_clip: 0.2075 - val_loss: 0.6826 - val_masked_rmse_clip: 0.0000e+00\n",
      "Epoch 113/200\n",
      "30/30 - 2s - loss: 0.7785 - masked_rmse_clip: 0.2112 - val_loss: 0.6693 - val_masked_rmse_clip: 0.0000e+00\n",
      "Epoch 114/200\n",
      "30/30 - 2s - loss: 0.7659 - masked_rmse_clip: 0.2090 - val_loss: 0.6560 - val_masked_rmse_clip: 0.0000e+00\n",
      "Epoch 115/200\n",
      "30/30 - 2s - loss: 0.7540 - masked_rmse_clip: 0.2119 - val_loss: 0.6427 - val_masked_rmse_clip: 0.0000e+00\n",
      "Epoch 116/200\n",
      "30/30 - 2s - loss: 0.7386 - masked_rmse_clip: 0.2090 - val_loss: 0.6300 - val_masked_rmse_clip: 0.0000e+00\n",
      "Epoch 117/200\n",
      "30/30 - 2s - loss: 0.7255 - masked_rmse_clip: 0.2089 - val_loss: 0.6170 - val_masked_rmse_clip: 0.0000e+00\n",
      "Epoch 118/200\n",
      "30/30 - 2s - loss: 0.7141 - masked_rmse_clip: 0.2074 - val_loss: 0.6058 - val_masked_rmse_clip: 0.0000e+00\n",
      "Epoch 119/200\n",
      "30/30 - 2s - loss: 0.7023 - masked_rmse_clip: 0.2093 - val_loss: 0.5934 - val_masked_rmse_clip: 0.0000e+00\n",
      "Epoch 120/200\n",
      "30/30 - 2s - loss: 0.6914 - masked_rmse_clip: 0.2103 - val_loss: 0.5818 - val_masked_rmse_clip: 0.0000e+00\n",
      "Epoch 121/200\n",
      "30/30 - 2s - loss: 0.6809 - masked_rmse_clip: 0.2107 - val_loss: 0.5710 - val_masked_rmse_clip: 0.0000e+00\n",
      "Epoch 122/200\n",
      "30/30 - 2s - loss: 0.6690 - masked_rmse_clip: 0.2107 - val_loss: 0.5599 - val_masked_rmse_clip: 0.0000e+00\n",
      "Epoch 123/200\n"
     ]
    }
   ],
   "source": [
    "hist_Deep_AE = Deep_AE.fit(x=users_items_matrix_train_zero_noisy, y=users_items_matrix_train_zero,\n",
    "                  epochs=200,\n",
    "                  batch_size=256,\n",
    "                  validation_data=[users_items_matrix_train_zero_noisy, users_items_matrix_validate], verbose=2)"
   ]
  },
  {
   "cell_type": "code",
   "execution_count": null,
   "metadata": {
    "colab": {},
    "colab_type": "code",
    "id": "HS3HrW-BpE_e"
   },
   "outputs": [],
   "source": [
    "predict_deep_ver2 = Deep_AE.predict(users_items_matrix_train_zero_noisy)\n",
    "predict_deep_ver2.shape"
   ]
  },
  {
   "cell_type": "code",
   "execution_count": null,
   "metadata": {
    "colab": {},
    "colab_type": "code",
    "id": "u4nt8PONpE_i"
   },
   "outputs": [],
   "source": [
    "predict_deep_ver2"
   ]
  },
  {
   "cell_type": "markdown",
   "metadata": {
    "colab_type": "text",
    "id": "AsTCWX5xpE_l"
   },
   "source": [
    ": 이 역시도 결과가 많이 좋게는 나오지 않는 것 같다."
   ]
  },
  {
   "cell_type": "markdown",
   "metadata": {
    "colab_type": "text",
    "id": "nUXrwRBjyx19"
   },
   "source": [
    "-----------------"
   ]
  },
  {
   "cell_type": "markdown",
   "metadata": {
    "colab_type": "text",
    "id": "VQj8-WrypE_m"
   },
   "source": [
    "#### method_3) Hybrid"
   ]
  },
  {
   "cell_type": "markdown",
   "metadata": {
    "colab_type": "text",
    "id": "iAHLhXKApE_m"
   },
   "source": [
    ": 활용하기로 한 정보를 라벨 인코딩/원핫 인코딩 하여 옆에 붙여서 사용하여 실험을 적용해 볼 수 있다. 예시로 photo_len를 사용해보자."
   ]
  },
  {
   "cell_type": "code",
   "execution_count": null,
   "metadata": {
    "colab": {},
    "colab_type": "code",
    "id": "EEJjnw6ByVoe"
   },
   "outputs": [],
   "source": [
    "data = pd.read_json(\"/content/drive/My Drive/TOBIGS/Recommender System/TA_User_Reviws_Korea_all.json\", typ='frame')"
   ]
  },
  {
   "cell_type": "code",
   "execution_count": null,
   "metadata": {
    "colab": {},
    "colab_type": "code",
    "id": "RL0PHwNspE_q"
   },
   "outputs": [],
   "source": [
    "data['photo_len'] = data.photoIds.apply(lambda x: len(x))"
   ]
  },
  {
   "cell_type": "code",
   "execution_count": null,
   "metadata": {
    "colab": {},
    "colab_type": "code",
    "id": "LvDtykxqpE_w"
   },
   "outputs": [],
   "source": [
    "df = data[['userId', 'location.name', 'rating','photo_len','createdDate']]\n",
    "df.columns = ['user_emb_id', 'location_emb_id', 'rating', 'photo_len', 'timestamp']"
   ]
  },
  {
   "cell_type": "code",
   "execution_count": null,
   "metadata": {
    "colab": {},
    "colab_type": "code",
    "id": "gsY93DWOyqpJ"
   },
   "outputs": [],
   "source": [
    "photo_len_df = df.groupby('user_emb_id')['photo_len'].mean().reset_index()\n",
    "photo_len_df['photo_len'] = preprocessing.LabelEncoder().fit(photo_len_df['photo_len']).transform(photo_len_df['photo_len'])\n",
    "onehot_df = preprocessing.OneHotEncoder(handle_unknown='ignore', sparse=False).fit(photo_len_df[['photo_len']]).transform(photo_len_df[['photo_len']])"
   ]
  },
  {
   "cell_type": "markdown",
   "metadata": {
    "colab_type": "text",
    "id": "ghZWGd2_pFAL"
   },
   "source": [
    ": shape을 다시 맞춰주자"
   ]
  },
  {
   "cell_type": "code",
   "execution_count": null,
   "metadata": {
    "colab": {},
    "colab_type": "code",
    "id": "CxHgthtM093H"
   },
   "outputs": [],
   "source": [
    "df = data[['userId', 'location.name', 'rating', 'createdDate']]\n",
    "df.columns = ['user_emb_id', 'location_emb_id', 'rating', 'timestamp']"
   ]
  },
  {
   "cell_type": "code",
   "execution_count": null,
   "metadata": {
    "colab": {},
    "colab_type": "code",
    "id": "EBODb6YU1HYi"
   },
   "outputs": [],
   "source": [
    "user_dict = {}\n",
    "for idx, unique_user in enumerate(df.user_emb_id.unique()):\n",
    "    user_dict[unique_user] = idx\n",
    "    \n",
    "location_dict = {}\n",
    "for idx, unique_location in enumerate(df.location_emb_id.unique()):\n",
    "    location_dict[unique_location] = idx"
   ]
  },
  {
   "cell_type": "code",
   "execution_count": null,
   "metadata": {
    "colab": {},
    "colab_type": "code",
    "id": "phxVyDyg1HVC"
   },
   "outputs": [],
   "source": [
    "df['user_emb_id'] = df['user_emb_id'].replace(user_dict)\n",
    "df['location_emb_id'] = df['location_emb_id'].replace(location_dict)"
   ]
  },
  {
   "cell_type": "code",
   "execution_count": null,
   "metadata": {
    "colab": {},
    "colab_type": "code",
    "id": "IA5yNnJM1HTZ"
   },
   "outputs": [],
   "source": [
    "#+1 is the real size, as they are zero based\n",
    "num_users = df['user_emb_id'].unique().max() + 1\n",
    "num_locations = df['location_emb_id'].unique().max() + 1"
   ]
  },
  {
   "cell_type": "code",
   "execution_count": null,
   "metadata": {
    "colab": {},
    "colab_type": "code",
    "id": "bmxKqqaB1HQX"
   },
   "outputs": [],
   "source": [
    "def dataPreprocessor(rating_df, num_users, num_items, init_value=0, average=False):\n",
    "    \"\"\"\n",
    "        INPUT: \n",
    "            data: pandas DataFrame. columns=['userID', 'itemID', 'rating' ...]\n",
    "            num_row: int. number of users\n",
    "            num_col: int. number of items\n",
    "            \n",
    "        OUTPUT:\n",
    "            matrix: 2D numpy array. \n",
    "    \"\"\"\n",
    "    if average:\n",
    "        matrix = np.full((num_users, num_items), 0.0)\n",
    "        for (_, userID, itemID, rating, timestamp) in rating_df.itertuples():\n",
    "            matrix[userID, itemID] = rating\n",
    "            avergae = np.true_divide(matrix.sum(1), np.maximum((matrix!=0).sum(1), 1))\n",
    "            inds = np.where(matrix == 0)\n",
    "            matrix[inds] = np.take(avergae, inds[0])\n",
    "      \n",
    "    else:\n",
    "        matrix = np.full((num_users, num_items), init_value)\n",
    "        for (_, userID, itemID, rating, timestamp) in rating_df.itertuples():\n",
    "            matrix[userID, itemID] = rating\n",
    "\n",
    "    return matrix"
   ]
  },
  {
   "cell_type": "code",
   "execution_count": null,
   "metadata": {
    "colab": {},
    "colab_type": "code",
    "id": "TsZLjR6F1HK8"
   },
   "outputs": [],
   "source": [
    "users_items_matrix_zero = dataPreprocessor(df, num_users, num_locations, 0)"
   ]
  },
  {
   "cell_type": "code",
   "execution_count": 90,
   "metadata": {
    "colab": {
     "base_uri": "https://localhost:8080/",
     "height": 34
    },
    "colab_type": "code",
    "id": "fU64IGIg1HIh",
    "outputId": "b10ff31a-3820-47d0-cfcc-a71681ffb5f0"
   },
   "outputs": [
    {
     "data": {
      "text/plain": [
       "((7613, 9929), (7613, 405))"
      ]
     },
     "execution_count": 90,
     "metadata": {
      "tags": []
     },
     "output_type": "execute_result"
    }
   ],
   "source": [
    "users_items_matrix_zero.shape, onehot_df.shape"
   ]
  },
  {
   "cell_type": "code",
   "execution_count": null,
   "metadata": {
    "colab": {},
    "colab_type": "code",
    "id": "0zYCvbE91eV9"
   },
   "outputs": [],
   "source": [
    "user_items_matrix_zero_concat = np.concatenate([users_items_matrix_zero, onehot_df],axis=1)"
   ]
  },
  {
   "cell_type": "code",
   "execution_count": null,
   "metadata": {},
   "outputs": [],
   "source": [
    "user_items_matrix_zero_concat_original[:,:9929]"
   ]
  },
  {
   "cell_type": "code",
   "execution_count": null,
   "metadata": {
    "colab": {},
    "colab_type": "code",
    "id": "IBtsmEb013qn"
   },
   "outputs": [],
   "source": [
    "user_items_user_info_train, user_items_user_info_test = train_test_split(user_items_matrix_zero_concat,\n",
    "                                     test_size=0.1,\n",
    "                                     random_state=999613182)"
   ]
  },
  {
   "cell_type": "code",
   "execution_count": null,
   "metadata": {
    "colab": {},
    "colab_type": "code",
    "id": "tnf-hlc55FKq"
   },
   "outputs": [],
   "source": []
  },
  {
   "cell_type": "code",
   "execution_count": null,
   "metadata": {
    "colab": {},
    "colab_type": "code",
    "id": "zxom40161-mx"
   },
   "outputs": [],
   "source": [
    "user_items_user_info_train, user_items_user_info_validation = train_test_split(user_items_user_info_train,\n",
    "                                 test_size=0.1,\n",
    "                                 random_state=999613182)"
   ]
  },
  {
   "cell_type": "code",
   "execution_count": null,
   "metadata": {
    "colab": {},
    "colab_type": "code",
    "id": "_Wj6ov-Y3w8m"
   },
   "outputs": [],
   "source": [
    "user_item_user_info = user_items_user_info_train[:,:9929]"
   ]
  },
  {
   "cell_type": "code",
   "execution_count": 97,
   "metadata": {
    "colab": {
     "base_uri": "https://localhost:8080/",
     "height": 34
    },
    "colab_type": "code",
    "id": "xgUBJyWN4Aaf",
    "outputId": "4aa600b8-f3e9-431b-ab20-9b218e202f9f"
   },
   "outputs": [
    {
     "data": {
      "text/plain": [
       "(6165, 10334)"
      ]
     },
     "execution_count": 97,
     "metadata": {
      "tags": []
     },
     "output_type": "execute_result"
    }
   ],
   "source": [
    "user_items_user_info_train.shape"
   ]
  },
  {
   "cell_type": "code",
   "execution_count": 98,
   "metadata": {
    "colab": {
     "base_uri": "https://localhost:8080/",
     "height": 34
    },
    "colab_type": "code",
    "id": "UezzMksj36Jc",
    "outputId": "02ec3140-98a8-4482-e916-0f310ec81a4e"
   },
   "outputs": [
    {
     "data": {
      "text/plain": [
       "(6165, 9929)"
      ]
     },
     "execution_count": 98,
     "metadata": {
      "tags": []
     },
     "output_type": "execute_result"
    }
   ],
   "source": [
    "user_item_user_info.shape"
   ]
  },
  {
   "cell_type": "markdown",
   "metadata": {
    "colab_type": "text",
    "id": "Bq8CbnZC5Kes"
   },
   "source": [
    ": concat한 데이터와 concat하지 않은 데이터를 동시에 준비한다."
   ]
  },
  {
   "cell_type": "code",
   "execution_count": null,
   "metadata": {
    "colab": {},
    "colab_type": "code",
    "id": "kKD0AE4e4GMX"
   },
   "outputs": [],
   "source": [
    "user_item_user_info_val = user_items_user_info_validation[:,:9929]"
   ]
  },
  {
   "cell_type": "code",
   "execution_count": 100,
   "metadata": {
    "colab": {
     "base_uri": "https://localhost:8080/",
     "height": 34
    },
    "colab_type": "code",
    "id": "TbZ_xPlA4qSu",
    "outputId": "01510bf5-e1f4-4ef0-c133-4fa90ad0ee16"
   },
   "outputs": [
    {
     "data": {
      "text/plain": [
       "(686, 9929)"
      ]
     },
     "execution_count": 100,
     "metadata": {
      "tags": []
     },
     "output_type": "execute_result"
    }
   ],
   "source": [
    "user_item_user_info_val.shape"
   ]
  },
  {
   "cell_type": "code",
   "execution_count": 101,
   "metadata": {
    "colab": {
     "base_uri": "https://localhost:8080/",
     "height": 439
    },
    "colab_type": "code",
    "id": "v8uzByZ62auM",
    "outputId": "313b361c-c553-45bf-bc46-bba9f8882674"
   },
   "outputs": [
    {
     "name": "stdout",
     "output_type": "stream",
     "text": [
      "Model: \"model_3\"\n",
      "_________________________________________________________________\n",
      "Layer (type)                 Output Shape              Param #   \n",
      "=================================================================\n",
      "UserRating (InputLayer)      [(None, 10334)]           0         \n",
      "_________________________________________________________________\n",
      "EncLayer0 (Dense)            (None, 1024)              10583040  \n",
      "_________________________________________________________________\n",
      "EncLayer1 (Dense)            (None, 512)               524800    \n",
      "_________________________________________________________________\n",
      "LatentSpace (Dense)          (None, 256)               131328    \n",
      "_________________________________________________________________\n",
      "dropout_3 (Dropout)          (None, 256)               0         \n",
      "_________________________________________________________________\n",
      "DecLayer1 (Dense)            (None, 512)               131584    \n",
      "_________________________________________________________________\n",
      "DecLayer0 (Dense)            (None, 1024)              525312    \n",
      "_________________________________________________________________\n",
      "UserScorePred (Dense)        (None, 10304)             10561600  \n",
      "=================================================================\n",
      "Total params: 22,457,664\n",
      "Trainable params: 22,457,664\n",
      "Non-trainable params: 0\n",
      "_________________________________________________________________\n"
     ]
    }
   ],
   "source": [
    "layers = [1024, 512, 256, 512, 1024]\n",
    "dropout = 0.8\n",
    "activation = 'selu'\n",
    "last_activation = 'selu'\n",
    "regularizer_encode = 0.001\n",
    "regularizer_decode = 0.001\n",
    "# Build model\n",
    "optimizer = tf.keras.optimizers.Adam(learning_rate=0.0001)\n",
    "Deep_AE_concate = Deep_AE_model(user_items_user_info_train, layers, activation, last_activation, dropout, regularizer_encode, regularizer_decode, 30)\n",
    "Deep_AE_concate.compile(optimizer = optimizer, loss=masked_mse, metrics=[masked_rmse_clip]) \n",
    "Deep_AE_concate.summary()"
   ]
  },
  {
   "cell_type": "code",
   "execution_count": 109,
   "metadata": {
    "colab": {
     "base_uri": "https://localhost:8080/",
     "height": 1000
    },
    "colab_type": "code",
    "id": "d7dQjl4_2ar2",
    "outputId": "4a222a50-68cb-4e6d-b1f0-9a2b230dfd80"
   },
   "outputs": [
    {
     "name": "stdout",
     "output_type": "stream",
     "text": [
      "Epoch 1/500\n"
     ]
    },
    {
     "ename": "ValueError",
     "evalue": "ignored",
     "output_type": "error",
     "traceback": [
      "\u001b[0;31m---------------------------------------------------------------------------\u001b[0m",
      "\u001b[0;31mValueError\u001b[0m                                Traceback (most recent call last)",
      "\u001b[0;32m<ipython-input-109-8ada29638df4>\u001b[0m in \u001b[0;36m<module>\u001b[0;34m()\u001b[0m\n\u001b[1;32m      2\u001b[0m                   \u001b[0mepochs\u001b[0m\u001b[0;34m=\u001b[0m\u001b[0;36m500\u001b[0m\u001b[0;34m,\u001b[0m\u001b[0;34m\u001b[0m\u001b[0;34m\u001b[0m\u001b[0m\n\u001b[1;32m      3\u001b[0m                   \u001b[0mbatch_size\u001b[0m\u001b[0;34m=\u001b[0m\u001b[0;36m256\u001b[0m\u001b[0;34m,\u001b[0m\u001b[0;34m\u001b[0m\u001b[0;34m\u001b[0m\u001b[0m\n\u001b[0;32m----> 4\u001b[0;31m                   validation_data=[user_items_user_info_train, user_items_user_info_validation], verbose=2)\n\u001b[0m",
      "\u001b[0;32m/usr/local/lib/python3.6/dist-packages/tensorflow/python/keras/engine/training.py\u001b[0m in \u001b[0;36m_method_wrapper\u001b[0;34m(self, *args, **kwargs)\u001b[0m\n\u001b[1;32m     64\u001b[0m   \u001b[0;32mdef\u001b[0m \u001b[0m_method_wrapper\u001b[0m\u001b[0;34m(\u001b[0m\u001b[0mself\u001b[0m\u001b[0;34m,\u001b[0m \u001b[0;34m*\u001b[0m\u001b[0margs\u001b[0m\u001b[0;34m,\u001b[0m \u001b[0;34m**\u001b[0m\u001b[0mkwargs\u001b[0m\u001b[0;34m)\u001b[0m\u001b[0;34m:\u001b[0m\u001b[0;34m\u001b[0m\u001b[0;34m\u001b[0m\u001b[0m\n\u001b[1;32m     65\u001b[0m     \u001b[0;32mif\u001b[0m \u001b[0;32mnot\u001b[0m \u001b[0mself\u001b[0m\u001b[0;34m.\u001b[0m\u001b[0m_in_multi_worker_mode\u001b[0m\u001b[0;34m(\u001b[0m\u001b[0;34m)\u001b[0m\u001b[0;34m:\u001b[0m  \u001b[0;31m# pylint: disable=protected-access\u001b[0m\u001b[0;34m\u001b[0m\u001b[0;34m\u001b[0m\u001b[0m\n\u001b[0;32m---> 66\u001b[0;31m       \u001b[0;32mreturn\u001b[0m \u001b[0mmethod\u001b[0m\u001b[0;34m(\u001b[0m\u001b[0mself\u001b[0m\u001b[0;34m,\u001b[0m \u001b[0;34m*\u001b[0m\u001b[0margs\u001b[0m\u001b[0;34m,\u001b[0m \u001b[0;34m**\u001b[0m\u001b[0mkwargs\u001b[0m\u001b[0;34m)\u001b[0m\u001b[0;34m\u001b[0m\u001b[0;34m\u001b[0m\u001b[0m\n\u001b[0m\u001b[1;32m     67\u001b[0m \u001b[0;34m\u001b[0m\u001b[0m\n\u001b[1;32m     68\u001b[0m     \u001b[0;31m# Running inside `run_distribute_coordinator` already.\u001b[0m\u001b[0;34m\u001b[0m\u001b[0;34m\u001b[0m\u001b[0;34m\u001b[0m\u001b[0m\n",
      "\u001b[0;32m/usr/local/lib/python3.6/dist-packages/tensorflow/python/keras/engine/training.py\u001b[0m in \u001b[0;36mfit\u001b[0;34m(self, x, y, batch_size, epochs, verbose, callbacks, validation_split, validation_data, shuffle, class_weight, sample_weight, initial_epoch, steps_per_epoch, validation_steps, validation_batch_size, validation_freq, max_queue_size, workers, use_multiprocessing)\u001b[0m\n\u001b[1;32m    846\u001b[0m                 batch_size=batch_size):\n\u001b[1;32m    847\u001b[0m               \u001b[0mcallbacks\u001b[0m\u001b[0;34m.\u001b[0m\u001b[0mon_train_batch_begin\u001b[0m\u001b[0;34m(\u001b[0m\u001b[0mstep\u001b[0m\u001b[0;34m)\u001b[0m\u001b[0;34m\u001b[0m\u001b[0;34m\u001b[0m\u001b[0m\n\u001b[0;32m--> 848\u001b[0;31m               \u001b[0mtmp_logs\u001b[0m \u001b[0;34m=\u001b[0m \u001b[0mtrain_function\u001b[0m\u001b[0;34m(\u001b[0m\u001b[0miterator\u001b[0m\u001b[0;34m)\u001b[0m\u001b[0;34m\u001b[0m\u001b[0;34m\u001b[0m\u001b[0m\n\u001b[0m\u001b[1;32m    849\u001b[0m               \u001b[0;31m# Catch OutOfRangeError for Datasets of unknown size.\u001b[0m\u001b[0;34m\u001b[0m\u001b[0;34m\u001b[0m\u001b[0;34m\u001b[0m\u001b[0m\n\u001b[1;32m    850\u001b[0m               \u001b[0;31m# This blocks until the batch has finished executing.\u001b[0m\u001b[0;34m\u001b[0m\u001b[0;34m\u001b[0m\u001b[0;34m\u001b[0m\u001b[0m\n",
      "\u001b[0;32m/usr/local/lib/python3.6/dist-packages/tensorflow/python/eager/def_function.py\u001b[0m in \u001b[0;36m__call__\u001b[0;34m(self, *args, **kwds)\u001b[0m\n\u001b[1;32m    578\u001b[0m         \u001b[0mxla_context\u001b[0m\u001b[0;34m.\u001b[0m\u001b[0mExit\u001b[0m\u001b[0;34m(\u001b[0m\u001b[0;34m)\u001b[0m\u001b[0;34m\u001b[0m\u001b[0;34m\u001b[0m\u001b[0m\n\u001b[1;32m    579\u001b[0m     \u001b[0;32melse\u001b[0m\u001b[0;34m:\u001b[0m\u001b[0;34m\u001b[0m\u001b[0;34m\u001b[0m\u001b[0m\n\u001b[0;32m--> 580\u001b[0;31m       \u001b[0mresult\u001b[0m \u001b[0;34m=\u001b[0m \u001b[0mself\u001b[0m\u001b[0;34m.\u001b[0m\u001b[0m_call\u001b[0m\u001b[0;34m(\u001b[0m\u001b[0;34m*\u001b[0m\u001b[0margs\u001b[0m\u001b[0;34m,\u001b[0m \u001b[0;34m**\u001b[0m\u001b[0mkwds\u001b[0m\u001b[0;34m)\u001b[0m\u001b[0;34m\u001b[0m\u001b[0;34m\u001b[0m\u001b[0m\n\u001b[0m\u001b[1;32m    581\u001b[0m \u001b[0;34m\u001b[0m\u001b[0m\n\u001b[1;32m    582\u001b[0m     \u001b[0;32mif\u001b[0m \u001b[0mtracing_count\u001b[0m \u001b[0;34m==\u001b[0m \u001b[0mself\u001b[0m\u001b[0;34m.\u001b[0m\u001b[0m_get_tracing_count\u001b[0m\u001b[0;34m(\u001b[0m\u001b[0;34m)\u001b[0m\u001b[0;34m:\u001b[0m\u001b[0;34m\u001b[0m\u001b[0;34m\u001b[0m\u001b[0m\n",
      "\u001b[0;32m/usr/local/lib/python3.6/dist-packages/tensorflow/python/eager/def_function.py\u001b[0m in \u001b[0;36m_call\u001b[0;34m(self, *args, **kwds)\u001b[0m\n\u001b[1;32m    616\u001b[0m       \u001b[0;31m# In this case we have not created variables on the first call. So we can\u001b[0m\u001b[0;34m\u001b[0m\u001b[0;34m\u001b[0m\u001b[0;34m\u001b[0m\u001b[0m\n\u001b[1;32m    617\u001b[0m       \u001b[0;31m# run the first trace but we should fail if variables are created.\u001b[0m\u001b[0;34m\u001b[0m\u001b[0;34m\u001b[0m\u001b[0;34m\u001b[0m\u001b[0m\n\u001b[0;32m--> 618\u001b[0;31m       \u001b[0mresults\u001b[0m \u001b[0;34m=\u001b[0m \u001b[0mself\u001b[0m\u001b[0;34m.\u001b[0m\u001b[0m_stateful_fn\u001b[0m\u001b[0;34m(\u001b[0m\u001b[0;34m*\u001b[0m\u001b[0margs\u001b[0m\u001b[0;34m,\u001b[0m \u001b[0;34m**\u001b[0m\u001b[0mkwds\u001b[0m\u001b[0;34m)\u001b[0m\u001b[0;34m\u001b[0m\u001b[0;34m\u001b[0m\u001b[0m\n\u001b[0m\u001b[1;32m    619\u001b[0m       \u001b[0;32mif\u001b[0m \u001b[0mself\u001b[0m\u001b[0;34m.\u001b[0m\u001b[0m_created_variables\u001b[0m\u001b[0;34m:\u001b[0m\u001b[0;34m\u001b[0m\u001b[0;34m\u001b[0m\u001b[0m\n\u001b[1;32m    620\u001b[0m         raise ValueError(\"Creating variables on a non-first call to a function\"\n",
      "\u001b[0;32m/usr/local/lib/python3.6/dist-packages/tensorflow/python/eager/function.py\u001b[0m in \u001b[0;36m__call__\u001b[0;34m(self, *args, **kwargs)\u001b[0m\n\u001b[1;32m   2417\u001b[0m     \u001b[0;34m\"\"\"Calls a graph function specialized to the inputs.\"\"\"\u001b[0m\u001b[0;34m\u001b[0m\u001b[0;34m\u001b[0m\u001b[0m\n\u001b[1;32m   2418\u001b[0m     \u001b[0;32mwith\u001b[0m \u001b[0mself\u001b[0m\u001b[0;34m.\u001b[0m\u001b[0m_lock\u001b[0m\u001b[0;34m:\u001b[0m\u001b[0;34m\u001b[0m\u001b[0;34m\u001b[0m\u001b[0m\n\u001b[0;32m-> 2419\u001b[0;31m       \u001b[0mgraph_function\u001b[0m\u001b[0;34m,\u001b[0m \u001b[0margs\u001b[0m\u001b[0;34m,\u001b[0m \u001b[0mkwargs\u001b[0m \u001b[0;34m=\u001b[0m \u001b[0mself\u001b[0m\u001b[0;34m.\u001b[0m\u001b[0m_maybe_define_function\u001b[0m\u001b[0;34m(\u001b[0m\u001b[0margs\u001b[0m\u001b[0;34m,\u001b[0m \u001b[0mkwargs\u001b[0m\u001b[0;34m)\u001b[0m\u001b[0;34m\u001b[0m\u001b[0;34m\u001b[0m\u001b[0m\n\u001b[0m\u001b[1;32m   2420\u001b[0m     \u001b[0;32mreturn\u001b[0m \u001b[0mgraph_function\u001b[0m\u001b[0;34m.\u001b[0m\u001b[0m_filtered_call\u001b[0m\u001b[0;34m(\u001b[0m\u001b[0margs\u001b[0m\u001b[0;34m,\u001b[0m \u001b[0mkwargs\u001b[0m\u001b[0;34m)\u001b[0m  \u001b[0;31m# pylint: disable=protected-access\u001b[0m\u001b[0;34m\u001b[0m\u001b[0;34m\u001b[0m\u001b[0m\n\u001b[1;32m   2421\u001b[0m \u001b[0;34m\u001b[0m\u001b[0m\n",
      "\u001b[0;32m/usr/local/lib/python3.6/dist-packages/tensorflow/python/eager/function.py\u001b[0m in \u001b[0;36m_maybe_define_function\u001b[0;34m(self, args, kwargs)\u001b[0m\n\u001b[1;32m   2772\u001b[0m           \u001b[0;32mand\u001b[0m \u001b[0mself\u001b[0m\u001b[0;34m.\u001b[0m\u001b[0minput_signature\u001b[0m \u001b[0;32mis\u001b[0m \u001b[0;32mNone\u001b[0m\u001b[0;34m\u001b[0m\u001b[0;34m\u001b[0m\u001b[0m\n\u001b[1;32m   2773\u001b[0m           and call_context_key in self._function_cache.missed):\n\u001b[0;32m-> 2774\u001b[0;31m         \u001b[0;32mreturn\u001b[0m \u001b[0mself\u001b[0m\u001b[0;34m.\u001b[0m\u001b[0m_define_function_with_shape_relaxation\u001b[0m\u001b[0;34m(\u001b[0m\u001b[0margs\u001b[0m\u001b[0;34m,\u001b[0m \u001b[0mkwargs\u001b[0m\u001b[0;34m)\u001b[0m\u001b[0;34m\u001b[0m\u001b[0;34m\u001b[0m\u001b[0m\n\u001b[0m\u001b[1;32m   2775\u001b[0m \u001b[0;34m\u001b[0m\u001b[0m\n\u001b[1;32m   2776\u001b[0m       \u001b[0mself\u001b[0m\u001b[0;34m.\u001b[0m\u001b[0m_function_cache\u001b[0m\u001b[0;34m.\u001b[0m\u001b[0mmissed\u001b[0m\u001b[0;34m.\u001b[0m\u001b[0madd\u001b[0m\u001b[0;34m(\u001b[0m\u001b[0mcall_context_key\u001b[0m\u001b[0;34m)\u001b[0m\u001b[0;34m\u001b[0m\u001b[0;34m\u001b[0m\u001b[0m\n",
      "\u001b[0;32m/usr/local/lib/python3.6/dist-packages/tensorflow/python/eager/function.py\u001b[0m in \u001b[0;36m_define_function_with_shape_relaxation\u001b[0;34m(self, args, kwargs)\u001b[0m\n\u001b[1;32m   2704\u001b[0m         relaxed_arg_shapes)\n\u001b[1;32m   2705\u001b[0m     graph_function = self._create_graph_function(\n\u001b[0;32m-> 2706\u001b[0;31m         args, kwargs, override_flat_arg_shapes=relaxed_arg_shapes)\n\u001b[0m\u001b[1;32m   2707\u001b[0m     \u001b[0mself\u001b[0m\u001b[0;34m.\u001b[0m\u001b[0m_function_cache\u001b[0m\u001b[0;34m.\u001b[0m\u001b[0marg_relaxed\u001b[0m\u001b[0;34m[\u001b[0m\u001b[0mrank_only_cache_key\u001b[0m\u001b[0;34m]\u001b[0m \u001b[0;34m=\u001b[0m \u001b[0mgraph_function\u001b[0m\u001b[0;34m\u001b[0m\u001b[0;34m\u001b[0m\u001b[0m\n\u001b[1;32m   2708\u001b[0m \u001b[0;34m\u001b[0m\u001b[0m\n",
      "\u001b[0;32m/usr/local/lib/python3.6/dist-packages/tensorflow/python/eager/function.py\u001b[0m in \u001b[0;36m_create_graph_function\u001b[0;34m(self, args, kwargs, override_flat_arg_shapes)\u001b[0m\n\u001b[1;32m   2665\u001b[0m             \u001b[0marg_names\u001b[0m\u001b[0;34m=\u001b[0m\u001b[0marg_names\u001b[0m\u001b[0;34m,\u001b[0m\u001b[0;34m\u001b[0m\u001b[0;34m\u001b[0m\u001b[0m\n\u001b[1;32m   2666\u001b[0m             \u001b[0moverride_flat_arg_shapes\u001b[0m\u001b[0;34m=\u001b[0m\u001b[0moverride_flat_arg_shapes\u001b[0m\u001b[0;34m,\u001b[0m\u001b[0;34m\u001b[0m\u001b[0;34m\u001b[0m\u001b[0m\n\u001b[0;32m-> 2667\u001b[0;31m             capture_by_value=self._capture_by_value),\n\u001b[0m\u001b[1;32m   2668\u001b[0m         \u001b[0mself\u001b[0m\u001b[0;34m.\u001b[0m\u001b[0m_function_attributes\u001b[0m\u001b[0;34m,\u001b[0m\u001b[0;34m\u001b[0m\u001b[0;34m\u001b[0m\u001b[0m\n\u001b[1;32m   2669\u001b[0m         \u001b[0;31m# Tell the ConcreteFunction to clean up its graph once it goes out of\u001b[0m\u001b[0;34m\u001b[0m\u001b[0;34m\u001b[0m\u001b[0;34m\u001b[0m\u001b[0m\n",
      "\u001b[0;32m/usr/local/lib/python3.6/dist-packages/tensorflow/python/framework/func_graph.py\u001b[0m in \u001b[0;36mfunc_graph_from_py_func\u001b[0;34m(name, python_func, args, kwargs, signature, func_graph, autograph, autograph_options, add_control_dependencies, arg_names, op_return_value, collections, capture_by_value, override_flat_arg_shapes)\u001b[0m\n\u001b[1;32m    979\u001b[0m         \u001b[0m_\u001b[0m\u001b[0;34m,\u001b[0m \u001b[0moriginal_func\u001b[0m \u001b[0;34m=\u001b[0m \u001b[0mtf_decorator\u001b[0m\u001b[0;34m.\u001b[0m\u001b[0munwrap\u001b[0m\u001b[0;34m(\u001b[0m\u001b[0mpython_func\u001b[0m\u001b[0;34m)\u001b[0m\u001b[0;34m\u001b[0m\u001b[0;34m\u001b[0m\u001b[0m\n\u001b[1;32m    980\u001b[0m \u001b[0;34m\u001b[0m\u001b[0m\n\u001b[0;32m--> 981\u001b[0;31m       \u001b[0mfunc_outputs\u001b[0m \u001b[0;34m=\u001b[0m \u001b[0mpython_func\u001b[0m\u001b[0;34m(\u001b[0m\u001b[0;34m*\u001b[0m\u001b[0mfunc_args\u001b[0m\u001b[0;34m,\u001b[0m \u001b[0;34m**\u001b[0m\u001b[0mfunc_kwargs\u001b[0m\u001b[0;34m)\u001b[0m\u001b[0;34m\u001b[0m\u001b[0;34m\u001b[0m\u001b[0m\n\u001b[0m\u001b[1;32m    982\u001b[0m \u001b[0;34m\u001b[0m\u001b[0m\n\u001b[1;32m    983\u001b[0m       \u001b[0;31m# invariant: `func_outputs` contains only Tensors, CompositeTensors,\u001b[0m\u001b[0;34m\u001b[0m\u001b[0;34m\u001b[0m\u001b[0;34m\u001b[0m\u001b[0m\n",
      "\u001b[0;32m/usr/local/lib/python3.6/dist-packages/tensorflow/python/eager/def_function.py\u001b[0m in \u001b[0;36mwrapped_fn\u001b[0;34m(*args, **kwds)\u001b[0m\n\u001b[1;32m    439\u001b[0m         \u001b[0;31m# __wrapped__ allows AutoGraph to swap in a converted function. We give\u001b[0m\u001b[0;34m\u001b[0m\u001b[0;34m\u001b[0m\u001b[0;34m\u001b[0m\u001b[0m\n\u001b[1;32m    440\u001b[0m         \u001b[0;31m# the function a weak reference to itself to avoid a reference cycle.\u001b[0m\u001b[0;34m\u001b[0m\u001b[0;34m\u001b[0m\u001b[0;34m\u001b[0m\u001b[0m\n\u001b[0;32m--> 441\u001b[0;31m         \u001b[0;32mreturn\u001b[0m \u001b[0mweak_wrapped_fn\u001b[0m\u001b[0;34m(\u001b[0m\u001b[0;34m)\u001b[0m\u001b[0;34m.\u001b[0m\u001b[0m__wrapped__\u001b[0m\u001b[0;34m(\u001b[0m\u001b[0;34m*\u001b[0m\u001b[0margs\u001b[0m\u001b[0;34m,\u001b[0m \u001b[0;34m**\u001b[0m\u001b[0mkwds\u001b[0m\u001b[0;34m)\u001b[0m\u001b[0;34m\u001b[0m\u001b[0;34m\u001b[0m\u001b[0m\n\u001b[0m\u001b[1;32m    442\u001b[0m     \u001b[0mweak_wrapped_fn\u001b[0m \u001b[0;34m=\u001b[0m \u001b[0mweakref\u001b[0m\u001b[0;34m.\u001b[0m\u001b[0mref\u001b[0m\u001b[0;34m(\u001b[0m\u001b[0mwrapped_fn\u001b[0m\u001b[0;34m)\u001b[0m\u001b[0;34m\u001b[0m\u001b[0;34m\u001b[0m\u001b[0m\n\u001b[1;32m    443\u001b[0m \u001b[0;34m\u001b[0m\u001b[0m\n",
      "\u001b[0;32m/usr/local/lib/python3.6/dist-packages/tensorflow/python/framework/func_graph.py\u001b[0m in \u001b[0;36mwrapper\u001b[0;34m(*args, **kwargs)\u001b[0m\n\u001b[1;32m    966\u001b[0m           \u001b[0;32mexcept\u001b[0m \u001b[0mException\u001b[0m \u001b[0;32mas\u001b[0m \u001b[0me\u001b[0m\u001b[0;34m:\u001b[0m  \u001b[0;31m# pylint:disable=broad-except\u001b[0m\u001b[0;34m\u001b[0m\u001b[0;34m\u001b[0m\u001b[0m\n\u001b[1;32m    967\u001b[0m             \u001b[0;32mif\u001b[0m \u001b[0mhasattr\u001b[0m\u001b[0;34m(\u001b[0m\u001b[0me\u001b[0m\u001b[0;34m,\u001b[0m \u001b[0;34m\"ag_error_metadata\"\u001b[0m\u001b[0;34m)\u001b[0m\u001b[0;34m:\u001b[0m\u001b[0;34m\u001b[0m\u001b[0;34m\u001b[0m\u001b[0m\n\u001b[0;32m--> 968\u001b[0;31m               \u001b[0;32mraise\u001b[0m \u001b[0me\u001b[0m\u001b[0;34m.\u001b[0m\u001b[0mag_error_metadata\u001b[0m\u001b[0;34m.\u001b[0m\u001b[0mto_exception\u001b[0m\u001b[0;34m(\u001b[0m\u001b[0me\u001b[0m\u001b[0;34m)\u001b[0m\u001b[0;34m\u001b[0m\u001b[0;34m\u001b[0m\u001b[0m\n\u001b[0m\u001b[1;32m    969\u001b[0m             \u001b[0;32melse\u001b[0m\u001b[0;34m:\u001b[0m\u001b[0;34m\u001b[0m\u001b[0;34m\u001b[0m\u001b[0m\n\u001b[1;32m    970\u001b[0m               \u001b[0;32mraise\u001b[0m\u001b[0;34m\u001b[0m\u001b[0;34m\u001b[0m\u001b[0m\n",
      "\u001b[0;31mValueError\u001b[0m: in user code:\n\n    /usr/local/lib/python3.6/dist-packages/tensorflow/python/keras/engine/training.py:571 train_function  *\n        outputs = self.distribute_strategy.run(\n    /usr/local/lib/python3.6/dist-packages/tensorflow/python/distribute/distribute_lib.py:951 run  **\n        return self._extended.call_for_each_replica(fn, args=args, kwargs=kwargs)\n    /usr/local/lib/python3.6/dist-packages/tensorflow/python/distribute/distribute_lib.py:2290 call_for_each_replica\n        return self._call_for_each_replica(fn, args, kwargs)\n    /usr/local/lib/python3.6/dist-packages/tensorflow/python/distribute/distribute_lib.py:2649 _call_for_each_replica\n        return fn(*args, **kwargs)\n    /usr/local/lib/python3.6/dist-packages/tensorflow/python/keras/engine/training.py:533 train_step  **\n        y, y_pred, sample_weight, regularization_losses=self.losses)\n    /usr/local/lib/python3.6/dist-packages/tensorflow/python/keras/engine/compile_utils.py:205 __call__\n        loss_value = loss_obj(y_t, y_p, sample_weight=sw)\n    /usr/local/lib/python3.6/dist-packages/tensorflow/python/keras/losses.py:143 __call__\n        losses = self.call(y_true, y_pred)\n    /usr/local/lib/python3.6/dist-packages/tensorflow/python/keras/losses.py:246 call\n        return self.fn(y_true, y_pred, **self._fn_kwargs)\n    <ipython-input-58-795525619eb3>:5 masked_mse\n        masked_squared_error = K.square(mask_true * (y_true - y_pred))\n    /usr/local/lib/python3.6/dist-packages/tensorflow/python/ops/math_ops.py:984 binary_op_wrapper\n        return func(x, y, name=name)\n    /usr/local/lib/python3.6/dist-packages/tensorflow/python/ops/gen_math_ops.py:10103 sub\n        \"Sub\", x=x, y=y, name=name)\n    /usr/local/lib/python3.6/dist-packages/tensorflow/python/framework/op_def_library.py:744 _apply_op_helper\n        attrs=attr_protos, op_def=op_def)\n    /usr/local/lib/python3.6/dist-packages/tensorflow/python/framework/func_graph.py:595 _create_op_internal\n        compute_device)\n    /usr/local/lib/python3.6/dist-packages/tensorflow/python/framework/ops.py:3327 _create_op_internal\n        op_def=op_def)\n    /usr/local/lib/python3.6/dist-packages/tensorflow/python/framework/ops.py:1817 __init__\n        control_input_ops, op_def)\n    /usr/local/lib/python3.6/dist-packages/tensorflow/python/framework/ops.py:1657 _create_c_op\n        raise ValueError(str(e))\n\n    ValueError: Dimensions must be equal, but are 10334 and 10304 for '{{node masked_mse/sub}} = Sub[T=DT_FLOAT](IteratorGetNext:1, model_3/UserScorePred/Selu)' with input shapes: [?,10334], [?,10304].\n"
     ]
    }
   ],
   "source": [
    "hist_Deep_AE_concate = Deep_AE_concate.fit(x=user_items_user_info_train, y=user_items_user_info_train,\n",
    "                  epochs=500,\n",
    "                  batch_size=256,\n",
    "                  validation_data=[user_items_user_info_train, user_items_user_info_validation], verbose=2)"
   ]
  },
  {
   "cell_type": "code",
   "execution_count": null,
   "metadata": {
    "colab": {},
    "colab_type": "code",
    "id": "4G9F4mUp2ao3"
   },
   "outputs": [],
   "source": []
  },
  {
   "cell_type": "code",
   "execution_count": null,
   "metadata": {
    "colab": {},
    "colab_type": "code",
    "id": "lrMXN3lG2am0"
   },
   "outputs": [],
   "source": []
  },
  {
   "cell_type": "code",
   "execution_count": null,
   "metadata": {
    "colab": {},
    "colab_type": "code",
    "id": "ktZsZAiq2akH"
   },
   "outputs": [],
   "source": []
  },
  {
   "cell_type": "markdown",
   "metadata": {
    "colab_type": "text",
    "id": "URl71SJYpFAM"
   },
   "source": [
    "----"
   ]
  },
  {
   "cell_type": "code",
   "execution_count": null,
   "metadata": {
    "colab": {},
    "colab_type": "code",
    "id": "v2v_bDRapFAg"
   },
   "outputs": [],
   "source": []
  },
  {
   "cell_type": "code",
   "execution_count": null,
   "metadata": {
    "colab": {},
    "colab_type": "code",
    "id": "uzFsNBnspFAj"
   },
   "outputs": [],
   "source": []
  },
  {
   "cell_type": "code",
   "execution_count": null,
   "metadata": {
    "colab": {},
    "colab_type": "code",
    "id": "LW0EuXjMpFAp"
   },
   "outputs": [],
   "source": []
  },
  {
   "cell_type": "code",
   "execution_count": null,
   "metadata": {
    "colab": {},
    "colab_type": "code",
    "id": "1Bl9bo_BpFAw"
   },
   "outputs": [],
   "source": []
  },
  {
   "cell_type": "code",
   "execution_count": null,
   "metadata": {
    "colab": {},
    "colab_type": "code",
    "id": "HaY_qx75pFA0"
   },
   "outputs": [],
   "source": []
  },
  {
   "cell_type": "code",
   "execution_count": null,
   "metadata": {
    "colab": {},
    "colab_type": "code",
    "id": "jZxJnF_QpFA3"
   },
   "outputs": [],
   "source": []
  },
  {
   "cell_type": "code",
   "execution_count": null,
   "metadata": {
    "colab": {},
    "colab_type": "code",
    "id": "HRiMQYFOpFA6"
   },
   "outputs": [],
   "source": []
  },
  {
   "cell_type": "markdown",
   "metadata": {
    "colab_type": "text",
    "id": "50MPX46fpFA-"
   },
   "source": [
    "#### re-feeding\n",
    ": 결과물로 나온 행렬을 다시 모델에 학습시킨다. 이로써 sparse_matrix를 dense_matrix로 탈바꿈 시킬 수 있다."
   ]
  },
  {
   "cell_type": "code",
   "execution_count": null,
   "metadata": {
    "colab": {},
    "colab_type": "code",
    "id": "QbOEmClYpFA_"
   },
   "outputs": [],
   "source": [
    "users_items_matrix_train_zero_refeeding = Deep_AE.predict(users_items_matrix_train_zero)"
   ]
  },
  {
   "cell_type": "code",
   "execution_count": null,
   "metadata": {
    "colab": {},
    "colab_type": "code",
    "id": "HFAGQCpmpFBB"
   },
   "outputs": [],
   "source": [
    "hist_Deep_AE_refeeding = Deep_AE.fit(x=users_items_matrix_train_zero, y=users_items_matrix_train_zero,\n",
    "                  epochs=20,\n",
    "                  batch_size=512,\n",
    "                  validation_data=[users_items_matrix_train_zero, users_items_matrix_validate], verbose=2)"
   ]
  },
  {
   "cell_type": "code",
   "execution_count": null,
   "metadata": {
    "colab": {},
    "colab_type": "code",
    "id": "ONzUF5mwpFBE"
   },
   "outputs": [],
   "source": [
    "test_result_deep = Deep_AE.evaluate(users_items_matrix_train_zero, users_items_matrix_test)"
   ]
  },
  {
   "cell_type": "code",
   "execution_count": null,
   "metadata": {
    "colab": {},
    "colab_type": "code",
    "id": "jMhkChXvpFBO"
   },
   "outputs": [],
   "source": []
  }
 ],
 "metadata": {
  "accelerator": "GPU",
  "colab": {
   "name": "autoencoder_collaborate_filtering.ipynb",
   "provenance": []
  },
  "kernelspec": {
   "display_name": "Python 3",
   "language": "python",
   "name": "python3"
  },
  "language_info": {
   "codemirror_mode": {
    "name": "ipython",
    "version": 3
   },
   "file_extension": ".py",
   "mimetype": "text/x-python",
   "name": "python",
   "nbconvert_exporter": "python",
   "pygments_lexer": "ipython3",
   "version": "3.7.6"
  }
 },
 "nbformat": 4,
 "nbformat_minor": 4
}
