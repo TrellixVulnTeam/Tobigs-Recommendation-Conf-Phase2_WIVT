{
  "cells": [
    {
      "cell_type": "markdown",
      "metadata": {
        "id": "K9wsNC75Rvhz",
        "colab_type": "text"
      },
      "source": [
        "# SAR \n",
        "* v2 data - 모델링 실패 ㅠㅠ \n",
        "* 한 명의 유저가 여러개의 평점을 매겨야 하는데, 14만 유저가 평점 하나씩만 매겼기 때문에 .....\n",
        "* user-item transpose는 말이 안 됨! - 한 개의 item에 해당하는 top-k user 추천? no no no"
      ]
    },
    {
      "cell_type": "markdown",
      "metadata": {
        "id": "aHpjZ52tmkuo",
        "colab_type": "text"
      },
      "source": [
        "## 1. Load Data"
      ]
    },
    {
      "cell_type": "code",
      "metadata": {
        "id": "7g4yfub4IjPj",
        "colab_type": "code",
        "colab": {}
      },
      "source": [
        "import pandas as pd\n",
        "import numpy as np\n",
        "import re\n",
        "pd.set_option('display.max_columns', 50)"
      ],
      "execution_count": 1,
      "outputs": []
    },
    {
      "cell_type": "code",
      "metadata": {
        "id": "kYb4Bglch3mE",
        "colab_type": "code",
        "colab": {}
      },
      "source": [
        "import json\n",
        "from pandas.io.json import json_normalize"
      ],
      "execution_count": 2,
      "outputs": []
    },
    {
      "cell_type": "code",
      "execution_count": null,
      "metadata": {},
      "outputs": [],
      "source": [
        "import zipfile\n",
        "\n",
        "def unzip(source_file, dest_path):\n",
        "    with zipfile.ZipFile(source_file, 'r') as zf:\n",
        "        zf.extractall(path=dest_path)\n",
        "        zf.close()"
      ]
    },
    {
      "cell_type": "code",
      "execution_count": null,
      "metadata": {},
      "outputs": [],
      "source": [
        "unzip(os.path.join(\"..\",\"..\",\"data\",\"TA_User_Review_Seoul_all_v2.json.zip\"), os.getcwd())"
      ]
    },
    {
      "cell_type": "code",
      "metadata": {
        "id": "B84XmifYiSgh",
        "colab_type": "code",
        "colab": {}
      },
      "source": [
        "with open(\"TA_User_Review_Seoul_all_v2.json\", 'r') as f:\n",
        "    df_json = json.load(f)"
      ],
      "execution_count": 3,
      "outputs": []
    },
    {
      "cell_type": "code",
      "metadata": {
        "id": "nHDsqDrek38M",
        "colab_type": "code",
        "colab": {
          "base_uri": "https://localhost:8080/",
          "height": 593
        },
        "outputId": "28bd2fa1-07f1-4cab-e276-cb3eae03db9e"
      },
      "source": [
        "df_json[0]"
      ],
      "execution_count": 4,
      "outputs": [
        {
          "output_type": "execute_result",
          "data": {
            "text/plain": "{'__typename': 'Review',\n 'createdDate': '2020-03-06',\n 'helpfulVotes': 0,\n 'id': 749418557,\n 'language': 'ja',\n 'location.__typename': 'LocationInformation',\n 'location.additionalNames.long': 'Hotel Gracery Seoul, South Korea',\n 'location.additionalNames.longOnlyParent': 'South Korea',\n 'location.locationId': 14159911,\n 'location.name': 'Hotel Gracery Seoul',\n 'location.parent.additionalNames.long': 'Seoul, South Korea',\n 'location.parent.locationId': 294197,\n 'location.parentGeoId': 294197,\n 'location.placeType': 'ACCOMMODATION',\n 'photoIds': [],\n 'photos': [],\n 'rating': 4,\n 'socialStatistics.followCount': 0,\n 'socialStatistics.isFollowing': False,\n 'socialStatistics.isLiked': False,\n 'socialStatistics.isReposted': False,\n 'socialStatistics.isSaved': False,\n 'socialStatistics.likeCount': 0,\n 'socialStatistics.repostCount': 0,\n 'socialStatistics.tripCount': 0,\n 'text': '日系のホテルなので日本語OK\\n南大門も明洞も歩いて行けます\\nトリプルルーム\\u3000お部屋は狭めで3人分の荷物を広げるのは少し窮屈でしたが\\nお風呂が日本式の独立したお風呂なのてゆっくりできました😊\\n\\n',\n 'title': 'グレイスリーホテルソウル',\n 'userId': 'E44FFBC7D1E0A97FECCCF7F8EB052E0C',\n 'userProfile.contributionCounts.sumAllUgc': 8.0,\n 'userProfile.isMe': 0.0,\n 'userProfile.isVerified': 0.0,\n 'userProfile.userId': 'E44FFBC7D1E0A97FECCCF7F8EB052E0C'}"
          },
          "metadata": {},
          "execution_count": 4
        }
      ]
    },
    {
      "cell_type": "code",
      "metadata": {
        "id": "WltUQe1DkL8T",
        "colab_type": "code",
        "colab": {
          "base_uri": "https://localhost:8080/",
          "height": 53
        },
        "outputId": "0e3ea792-5bdc-4dda-dada-edd21b2131c7"
      },
      "source": [
        "df = json_normalize(df_json)"
      ],
      "execution_count": 5,
      "outputs": []
    },
    {
      "cell_type": "code",
      "metadata": {
        "id": "imoM4IQIiaCO",
        "colab_type": "code",
        "colab": {
          "base_uri": "https://localhost:8080/",
          "height": 1000
        },
        "outputId": "5beec65a-456c-4ee1-88a1-5b902fae43ce"
      },
      "source": [
        "df.head()"
      ],
      "execution_count": 6,
      "outputs": [
        {
          "output_type": "execute_result",
          "data": {
            "text/plain": "  __typename createdDate  helpfulVotes         id language  \\\n0     Review  2020-03-06             0  749418557       ja   \n1     Review  2020-03-01             0  748454819       en   \n2     Review  2020-02-16             0  745371386       ja   \n3     Review  2020-02-11             0  744426202       ja   \n4     Review  2020-02-05             0  743141310       en   \n\n   location.__typename     location.additionalNames.long  \\\n0  LocationInformation  Hotel Gracery Seoul, South Korea   \n1  LocationInformation  Hotel Gracery Seoul, South Korea   \n2  LocationInformation  Hotel Gracery Seoul, South Korea   \n3  LocationInformation  Hotel Gracery Seoul, South Korea   \n4  LocationInformation  Hotel Gracery Seoul, South Korea   \n\n  location.additionalNames.longOnlyParent  location.locationId  \\\n0                             South Korea             14159911   \n1                             South Korea             14159911   \n2                             South Korea             14159911   \n3                             South Korea             14159911   \n4                             South Korea             14159911   \n\n         location.name location.parent.additionalNames.long  \\\n0  Hotel Gracery Seoul                   Seoul, South Korea   \n1  Hotel Gracery Seoul                   Seoul, South Korea   \n2  Hotel Gracery Seoul                   Seoul, South Korea   \n3  Hotel Gracery Seoul                   Seoul, South Korea   \n4  Hotel Gracery Seoul                   Seoul, South Korea   \n\n   location.parent.locationId  location.parentGeoId location.placeType  \\\n0                      294197                294197      ACCOMMODATION   \n1                      294197                294197      ACCOMMODATION   \n2                      294197                294197      ACCOMMODATION   \n3                      294197                294197      ACCOMMODATION   \n4                      294197                294197      ACCOMMODATION   \n\n      photoIds                                             photos  rating  \\\n0           []                                                 []       4   \n1  [453807126]  [{'id': 453807126, 'statuses': ['PENDING'], 'p...       5   \n2           []                                                 []       5   \n3           []                                                 []       5   \n4           []                                                 []       5   \n\n   socialStatistics.followCount  socialStatistics.isFollowing  \\\n0                             0                         False   \n1                             0                         False   \n2                             0                         False   \n3                             0                         False   \n4                             0                         False   \n\n   socialStatistics.isLiked  socialStatistics.isReposted  \\\n0                     False                        False   \n1                     False                        False   \n2                     False                        False   \n3                     False                        False   \n4                     False                        False   \n\n   socialStatistics.isSaved  socialStatistics.likeCount  \\\n0                     False                           0   \n1                     False                           0   \n2                     False                           0   \n3                     False                           0   \n4                     False                           0   \n\n   socialStatistics.repostCount  socialStatistics.tripCount  \\\n0                             0                           0   \n1                             0                           0   \n2                             0                           0   \n3                             0                           0   \n4                             0                           0   \n\n                                                text  \\\n0  日系のホテルなので日本語OK\\n南大門も明洞も歩いて行けます\\nトリプルルーム　お部屋は狭め...   \n1  I really enjoyed our stay here in Gracery Hote...   \n2  今回はagoda経由で予約しました。予約後に日系のホテルと知った次第です。\\nチェックイン後...   \n3  こちらのホテルは夫婦で何度か利用させていただいてます。立地もいいですが、お風呂とトイレが別な...   \n4  Its about 7 minutes walking distance to City H...   \n\n                                           title  \\\n0                                   グレイスリーホテルソウル   \n1                                   Great Hotel    \n2                                         安心出来ます   \n3                                        やはり落ち着く   \n4  Ask for higher floor, it has better city view   \n\n                             userId  userProfile.contributionCounts.sumAllUgc  \\\n0  E44FFBC7D1E0A97FECCCF7F8EB052E0C                                       8.0   \n1  F9AD0C1F6409A1574AD0AFC237D2A4CE                                       7.0   \n2  770775D59B126E71D38D56FAB9B95F93                                      57.0   \n3  4F1BF9403CA4EB27756E0C824A088553                                      43.0   \n4  23EF5413495FF530151DB7E5C0FEF38D                                     225.0   \n\n   userProfile.isMe  userProfile.isVerified                userProfile.userId  \n0               0.0                     0.0  E44FFBC7D1E0A97FECCCF7F8EB052E0C  \n1               0.0                     0.0  F9AD0C1F6409A1574AD0AFC237D2A4CE  \n2               0.0                     0.0  770775D59B126E71D38D56FAB9B95F93  \n3               0.0                     0.0  4F1BF9403CA4EB27756E0C824A088553  \n4               0.0                     0.0  23EF5413495FF530151DB7E5C0FEF38D  ",
            "text/html": "<div>\n<style scoped>\n    .dataframe tbody tr th:only-of-type {\n        vertical-align: middle;\n    }\n\n    .dataframe tbody tr th {\n        vertical-align: top;\n    }\n\n    .dataframe thead th {\n        text-align: right;\n    }\n</style>\n<table border=\"1\" class=\"dataframe\">\n  <thead>\n    <tr style=\"text-align: right;\">\n      <th></th>\n      <th>__typename</th>\n      <th>createdDate</th>\n      <th>helpfulVotes</th>\n      <th>id</th>\n      <th>language</th>\n      <th>location.__typename</th>\n      <th>location.additionalNames.long</th>\n      <th>location.additionalNames.longOnlyParent</th>\n      <th>location.locationId</th>\n      <th>location.name</th>\n      <th>location.parent.additionalNames.long</th>\n      <th>location.parent.locationId</th>\n      <th>location.parentGeoId</th>\n      <th>location.placeType</th>\n      <th>photoIds</th>\n      <th>photos</th>\n      <th>rating</th>\n      <th>socialStatistics.followCount</th>\n      <th>socialStatistics.isFollowing</th>\n      <th>socialStatistics.isLiked</th>\n      <th>socialStatistics.isReposted</th>\n      <th>socialStatistics.isSaved</th>\n      <th>socialStatistics.likeCount</th>\n      <th>socialStatistics.repostCount</th>\n      <th>socialStatistics.tripCount</th>\n      <th>text</th>\n      <th>title</th>\n      <th>userId</th>\n      <th>userProfile.contributionCounts.sumAllUgc</th>\n      <th>userProfile.isMe</th>\n      <th>userProfile.isVerified</th>\n      <th>userProfile.userId</th>\n    </tr>\n  </thead>\n  <tbody>\n    <tr>\n      <th>0</th>\n      <td>Review</td>\n      <td>2020-03-06</td>\n      <td>0</td>\n      <td>749418557</td>\n      <td>ja</td>\n      <td>LocationInformation</td>\n      <td>Hotel Gracery Seoul, South Korea</td>\n      <td>South Korea</td>\n      <td>14159911</td>\n      <td>Hotel Gracery Seoul</td>\n      <td>Seoul, South Korea</td>\n      <td>294197</td>\n      <td>294197</td>\n      <td>ACCOMMODATION</td>\n      <td>[]</td>\n      <td>[]</td>\n      <td>4</td>\n      <td>0</td>\n      <td>False</td>\n      <td>False</td>\n      <td>False</td>\n      <td>False</td>\n      <td>0</td>\n      <td>0</td>\n      <td>0</td>\n      <td>日系のホテルなので日本語OK\\n南大門も明洞も歩いて行けます\\nトリプルルーム　お部屋は狭め...</td>\n      <td>グレイスリーホテルソウル</td>\n      <td>E44FFBC7D1E0A97FECCCF7F8EB052E0C</td>\n      <td>8.0</td>\n      <td>0.0</td>\n      <td>0.0</td>\n      <td>E44FFBC7D1E0A97FECCCF7F8EB052E0C</td>\n    </tr>\n    <tr>\n      <th>1</th>\n      <td>Review</td>\n      <td>2020-03-01</td>\n      <td>0</td>\n      <td>748454819</td>\n      <td>en</td>\n      <td>LocationInformation</td>\n      <td>Hotel Gracery Seoul, South Korea</td>\n      <td>South Korea</td>\n      <td>14159911</td>\n      <td>Hotel Gracery Seoul</td>\n      <td>Seoul, South Korea</td>\n      <td>294197</td>\n      <td>294197</td>\n      <td>ACCOMMODATION</td>\n      <td>[453807126]</td>\n      <td>[{'id': 453807126, 'statuses': ['PENDING'], 'p...</td>\n      <td>5</td>\n      <td>0</td>\n      <td>False</td>\n      <td>False</td>\n      <td>False</td>\n      <td>False</td>\n      <td>0</td>\n      <td>0</td>\n      <td>0</td>\n      <td>I really enjoyed our stay here in Gracery Hote...</td>\n      <td>Great Hotel</td>\n      <td>F9AD0C1F6409A1574AD0AFC237D2A4CE</td>\n      <td>7.0</td>\n      <td>0.0</td>\n      <td>0.0</td>\n      <td>F9AD0C1F6409A1574AD0AFC237D2A4CE</td>\n    </tr>\n    <tr>\n      <th>2</th>\n      <td>Review</td>\n      <td>2020-02-16</td>\n      <td>0</td>\n      <td>745371386</td>\n      <td>ja</td>\n      <td>LocationInformation</td>\n      <td>Hotel Gracery Seoul, South Korea</td>\n      <td>South Korea</td>\n      <td>14159911</td>\n      <td>Hotel Gracery Seoul</td>\n      <td>Seoul, South Korea</td>\n      <td>294197</td>\n      <td>294197</td>\n      <td>ACCOMMODATION</td>\n      <td>[]</td>\n      <td>[]</td>\n      <td>5</td>\n      <td>0</td>\n      <td>False</td>\n      <td>False</td>\n      <td>False</td>\n      <td>False</td>\n      <td>0</td>\n      <td>0</td>\n      <td>0</td>\n      <td>今回はagoda経由で予約しました。予約後に日系のホテルと知った次第です。\\nチェックイン後...</td>\n      <td>安心出来ます</td>\n      <td>770775D59B126E71D38D56FAB9B95F93</td>\n      <td>57.0</td>\n      <td>0.0</td>\n      <td>0.0</td>\n      <td>770775D59B126E71D38D56FAB9B95F93</td>\n    </tr>\n    <tr>\n      <th>3</th>\n      <td>Review</td>\n      <td>2020-02-11</td>\n      <td>0</td>\n      <td>744426202</td>\n      <td>ja</td>\n      <td>LocationInformation</td>\n      <td>Hotel Gracery Seoul, South Korea</td>\n      <td>South Korea</td>\n      <td>14159911</td>\n      <td>Hotel Gracery Seoul</td>\n      <td>Seoul, South Korea</td>\n      <td>294197</td>\n      <td>294197</td>\n      <td>ACCOMMODATION</td>\n      <td>[]</td>\n      <td>[]</td>\n      <td>5</td>\n      <td>0</td>\n      <td>False</td>\n      <td>False</td>\n      <td>False</td>\n      <td>False</td>\n      <td>0</td>\n      <td>0</td>\n      <td>0</td>\n      <td>こちらのホテルは夫婦で何度か利用させていただいてます。立地もいいですが、お風呂とトイレが別な...</td>\n      <td>やはり落ち着く</td>\n      <td>4F1BF9403CA4EB27756E0C824A088553</td>\n      <td>43.0</td>\n      <td>0.0</td>\n      <td>0.0</td>\n      <td>4F1BF9403CA4EB27756E0C824A088553</td>\n    </tr>\n    <tr>\n      <th>4</th>\n      <td>Review</td>\n      <td>2020-02-05</td>\n      <td>0</td>\n      <td>743141310</td>\n      <td>en</td>\n      <td>LocationInformation</td>\n      <td>Hotel Gracery Seoul, South Korea</td>\n      <td>South Korea</td>\n      <td>14159911</td>\n      <td>Hotel Gracery Seoul</td>\n      <td>Seoul, South Korea</td>\n      <td>294197</td>\n      <td>294197</td>\n      <td>ACCOMMODATION</td>\n      <td>[]</td>\n      <td>[]</td>\n      <td>5</td>\n      <td>0</td>\n      <td>False</td>\n      <td>False</td>\n      <td>False</td>\n      <td>False</td>\n      <td>0</td>\n      <td>0</td>\n      <td>0</td>\n      <td>Its about 7 minutes walking distance to City H...</td>\n      <td>Ask for higher floor, it has better city view</td>\n      <td>23EF5413495FF530151DB7E5C0FEF38D</td>\n      <td>225.0</td>\n      <td>0.0</td>\n      <td>0.0</td>\n      <td>23EF5413495FF530151DB7E5C0FEF38D</td>\n    </tr>\n  </tbody>\n</table>\n</div>"
          },
          "metadata": {},
          "execution_count": 6
        }
      ]
    },
    {
      "cell_type": "code",
      "metadata": {
        "id": "b4z0kRK_JXii",
        "colab_type": "code",
        "outputId": "f4d44dd6-59df-47f2-cef6-dff8e70c51f3",
        "colab": {
          "base_uri": "https://localhost:8080/",
          "height": 204
        }
      },
      "source": [
        "COLUMNS = ['id', 'location.locationId', 'location.name', 'rating', 'createdDate']\n",
        "df = df.loc[:,COLUMNS]\n",
        "df.head()"
      ],
      "execution_count": 7,
      "outputs": [
        {
          "output_type": "execute_result",
          "data": {
            "text/plain": "          id  location.locationId        location.name  rating createdDate\n0  749418557             14159911  Hotel Gracery Seoul       4  2020-03-06\n1  748454819             14159911  Hotel Gracery Seoul       5  2020-03-01\n2  745371386             14159911  Hotel Gracery Seoul       5  2020-02-16\n3  744426202             14159911  Hotel Gracery Seoul       5  2020-02-11\n4  743141310             14159911  Hotel Gracery Seoul       5  2020-02-05",
            "text/html": "<div>\n<style scoped>\n    .dataframe tbody tr th:only-of-type {\n        vertical-align: middle;\n    }\n\n    .dataframe tbody tr th {\n        vertical-align: top;\n    }\n\n    .dataframe thead th {\n        text-align: right;\n    }\n</style>\n<table border=\"1\" class=\"dataframe\">\n  <thead>\n    <tr style=\"text-align: right;\">\n      <th></th>\n      <th>id</th>\n      <th>location.locationId</th>\n      <th>location.name</th>\n      <th>rating</th>\n      <th>createdDate</th>\n    </tr>\n  </thead>\n  <tbody>\n    <tr>\n      <th>0</th>\n      <td>749418557</td>\n      <td>14159911</td>\n      <td>Hotel Gracery Seoul</td>\n      <td>4</td>\n      <td>2020-03-06</td>\n    </tr>\n    <tr>\n      <th>1</th>\n      <td>748454819</td>\n      <td>14159911</td>\n      <td>Hotel Gracery Seoul</td>\n      <td>5</td>\n      <td>2020-03-01</td>\n    </tr>\n    <tr>\n      <th>2</th>\n      <td>745371386</td>\n      <td>14159911</td>\n      <td>Hotel Gracery Seoul</td>\n      <td>5</td>\n      <td>2020-02-16</td>\n    </tr>\n    <tr>\n      <th>3</th>\n      <td>744426202</td>\n      <td>14159911</td>\n      <td>Hotel Gracery Seoul</td>\n      <td>5</td>\n      <td>2020-02-11</td>\n    </tr>\n    <tr>\n      <th>4</th>\n      <td>743141310</td>\n      <td>14159911</td>\n      <td>Hotel Gracery Seoul</td>\n      <td>5</td>\n      <td>2020-02-05</td>\n    </tr>\n  </tbody>\n</table>\n</div>"
          },
          "metadata": {},
          "execution_count": 7
        }
      ]
    },
    {
      "cell_type": "markdown",
      "metadata": {
        "id": "b0vFrrDKR6CB",
        "colab_type": "text"
      },
      "source": [
        "## 2. git\n",
        "* https://github.com/microsoft/recommenders/tree/master/reco_utils/recommender/sar"
      ]
    },
    {
      "cell_type": "code",
      "metadata": {
        "id": "YB80OQ1aJd60",
        "colab_type": "code",
        "outputId": "d3ccd092-5f14-4dc1-8daa-b086f1953e27",
        "colab": {
          "base_uri": "https://localhost:8080/",
          "height": 179
        }
      },
      "source": [
        "pip install git+https://github.com/microsoft/recommenders "
      ],
      "execution_count": 7,
      "outputs": [
        {
          "output_type": "stream",
          "text": [
            "Collecting git+https://github.com/microsoft/recommenders\n",
            "  Cloning https://github.com/microsoft/recommenders to /tmp/pip-req-build-274lohze\n",
            "  Running command git clone -q https://github.com/microsoft/recommenders /tmp/pip-req-build-274lohze\n",
            "Requirement already satisfied (use --upgrade to upgrade): reco-utils==2019.9 from git+https://github.com/microsoft/recommenders in /usr/local/lib/python3.6/dist-packages\n",
            "Building wheels for collected packages: reco-utils\n",
            "  Building wheel for reco-utils (setup.py) ... \u001b[?25l\u001b[?25hdone\n",
            "  Created wheel for reco-utils: filename=reco_utils-2019.9-cp36-none-any.whl size=164194 sha256=484bb1fe7bd422d8ce383bdf476ab3128647cbbad3f0e8cb856726388390c7aa\n",
            "  Stored in directory: /tmp/pip-ephem-wheel-cache-bc_u9k95/wheels/b4/1c/70/c3f6005781b2b5a3370ec55bdd75c10ed1b07456bdfb1a0524\n",
            "Successfully built reco-utils\n"
          ],
          "name": "stdout"
        }
      ]
    },
    {
      "cell_type": "code",
      "metadata": {
        "id": "lXRffjxRJxPt",
        "colab_type": "code",
        "colab": {}
      },
      "source": [
        "import sys\n",
        "sys.path.append(\"../../\")\n",
        "\n",
        "import itertools\n",
        "import logging\n",
        "import os\n",
        "\n",
        "import papermill as pm\n",
        "\n",
        "from reco_utils.dataset.python_splitters import python_stratified_split, python_random_split, python_chrono_split\n",
        "from reco_utils.evaluation.python_evaluation import map_at_k, ndcg_at_k, precision_at_k, recall_at_k\n",
        "from reco_utils.recommender.sar.sar_singlenode import SARSingleNode"
      ],
      "execution_count": 8,
      "outputs": []
    },
    {
      "cell_type": "code",
      "metadata": {
        "id": "4TSLBFglLEYL",
        "colab_type": "code",
        "colab": {}
      },
      "source": [
        "import datetime\n",
        "import time "
      ],
      "execution_count": 9,
      "outputs": []
    },
    {
      "cell_type": "code",
      "metadata": {
        "id": "lJ4_HcMbaOUw",
        "colab_type": "code",
        "colab": {
          "base_uri": "https://localhost:8080/",
          "height": 297
        },
        "outputId": "3f6615a0-c69d-4f07-bb96-56c5ae0daef8"
      },
      "source": [
        "df.groupby(\"id\").agg({\"location.locationId\": \"count\"}).describe() # 다 이게 1이라서 제대로 train/test 안나뉘어지는듯 ... "
      ],
      "execution_count": 10,
      "outputs": [
        {
          "output_type": "execute_result",
          "data": {
            "text/plain": "       location.locationId\ncount             144434.0\nmean                   1.0\nstd                    0.0\nmin                    1.0\n25%                    1.0\n50%                    1.0\n75%                    1.0\nmax                    1.0",
            "text/html": "<div>\n<style scoped>\n    .dataframe tbody tr th:only-of-type {\n        vertical-align: middle;\n    }\n\n    .dataframe tbody tr th {\n        vertical-align: top;\n    }\n\n    .dataframe thead th {\n        text-align: right;\n    }\n</style>\n<table border=\"1\" class=\"dataframe\">\n  <thead>\n    <tr style=\"text-align: right;\">\n      <th></th>\n      <th>location.locationId</th>\n    </tr>\n  </thead>\n  <tbody>\n    <tr>\n      <th>count</th>\n      <td>144434.0</td>\n    </tr>\n    <tr>\n      <th>mean</th>\n      <td>1.0</td>\n    </tr>\n    <tr>\n      <th>std</th>\n      <td>0.0</td>\n    </tr>\n    <tr>\n      <th>min</th>\n      <td>1.0</td>\n    </tr>\n    <tr>\n      <th>25%</th>\n      <td>1.0</td>\n    </tr>\n    <tr>\n      <th>50%</th>\n      <td>1.0</td>\n    </tr>\n    <tr>\n      <th>75%</th>\n      <td>1.0</td>\n    </tr>\n    <tr>\n      <th>max</th>\n      <td>1.0</td>\n    </tr>\n  </tbody>\n</table>\n</div>"
          },
          "metadata": {},
          "execution_count": 10
        }
      ]
    },
    {
      "cell_type": "code",
      "metadata": {
        "id": "LCKh7v4WcyG3",
        "colab_type": "code",
        "colab": {
          "base_uri": "https://localhost:8080/",
          "height": 297
        },
        "outputId": "14f481a0-aca8-4d05-dd93-39c035f65f7b"
      },
      "source": [
        "df.groupby('location.locationId').agg({'id': \"count\"}).describe() # 우리 데이터에는 이런식으로 들어가야 함 ㅠㅠ "
      ],
      "execution_count": 11,
      "outputs": [
        {
          "output_type": "execute_result",
          "data": {
            "text/plain": "                id\ncount  6712.000000\nmean     21.518772\nstd     124.781167\nmin       1.000000\n25%       2.000000\n50%       4.000000\n75%      11.000000\nmax    3986.000000",
            "text/html": "<div>\n<style scoped>\n    .dataframe tbody tr th:only-of-type {\n        vertical-align: middle;\n    }\n\n    .dataframe tbody tr th {\n        vertical-align: top;\n    }\n\n    .dataframe thead th {\n        text-align: right;\n    }\n</style>\n<table border=\"1\" class=\"dataframe\">\n  <thead>\n    <tr style=\"text-align: right;\">\n      <th></th>\n      <th>id</th>\n    </tr>\n  </thead>\n  <tbody>\n    <tr>\n      <th>count</th>\n      <td>6712.000000</td>\n    </tr>\n    <tr>\n      <th>mean</th>\n      <td>21.518772</td>\n    </tr>\n    <tr>\n      <th>std</th>\n      <td>124.781167</td>\n    </tr>\n    <tr>\n      <th>min</th>\n      <td>1.000000</td>\n    </tr>\n    <tr>\n      <th>25%</th>\n      <td>2.000000</td>\n    </tr>\n    <tr>\n      <th>50%</th>\n      <td>4.000000</td>\n    </tr>\n    <tr>\n      <th>75%</th>\n      <td>11.000000</td>\n    </tr>\n    <tr>\n      <th>max</th>\n      <td>3986.000000</td>\n    </tr>\n  </tbody>\n</table>\n</div>"
          },
          "metadata": {},
          "execution_count": 11
        }
      ]
    },
    {
      "cell_type": "markdown",
      "metadata": {
        "id": "3KfzHFNMmwzH",
        "colab_type": "text"
      },
      "source": [
        "## 3. Data Preprocessing / 4. Modeling"
      ]
    },
    {
      "cell_type": "code",
      "metadata": {
        "id": "2kGlEvAbKcKS",
        "colab_type": "code",
        "colab": {}
      },
      "source": [
        "# top k items to recommend\n",
        "TOP_K = 10\n",
        "DATA_SIZE = df.shape[0]"
      ],
      "execution_count": 12,
      "outputs": []
    },
    {
      "cell_type": "code",
      "metadata": {
        "id": "gY0NP7k9KuBo",
        "colab_type": "code",
        "colab": {}
      },
      "source": [
        "# timestamp 형식으로 바꿔주기 \n",
        "df[\"createdDate\"] = df.apply(lambda x : time.mktime(datetime.datetime.strptime(x[\"createdDate\"], \"%Y-%m-%d\").timetuple()), axis=1)"
      ],
      "execution_count": 13,
      "outputs": []
    },
    {
      "cell_type": "code",
      "metadata": {
        "id": "zpc7xkpGMTjs",
        "colab_type": "code",
        "outputId": "7fd36ab3-b0e7-46d0-9a15-cf91b6c75c37",
        "colab": {
          "base_uri": "https://localhost:8080/",
          "height": 204
        }
      },
      "source": [
        "df.head()"
      ],
      "execution_count": 14,
      "outputs": [
        {
          "output_type": "execute_result",
          "data": {
            "text/plain": "          id  location.locationId        location.name  rating   createdDate\n0  749418557             14159911  Hotel Gracery Seoul       4  1.583420e+09\n1  748454819             14159911  Hotel Gracery Seoul       5  1.582988e+09\n2  745371386             14159911  Hotel Gracery Seoul       5  1.581779e+09\n3  744426202             14159911  Hotel Gracery Seoul       5  1.581347e+09\n4  743141310             14159911  Hotel Gracery Seoul       5  1.580828e+09",
            "text/html": "<div>\n<style scoped>\n    .dataframe tbody tr th:only-of-type {\n        vertical-align: middle;\n    }\n\n    .dataframe tbody tr th {\n        vertical-align: top;\n    }\n\n    .dataframe thead th {\n        text-align: right;\n    }\n</style>\n<table border=\"1\" class=\"dataframe\">\n  <thead>\n    <tr style=\"text-align: right;\">\n      <th></th>\n      <th>id</th>\n      <th>location.locationId</th>\n      <th>location.name</th>\n      <th>rating</th>\n      <th>createdDate</th>\n    </tr>\n  </thead>\n  <tbody>\n    <tr>\n      <th>0</th>\n      <td>749418557</td>\n      <td>14159911</td>\n      <td>Hotel Gracery Seoul</td>\n      <td>4</td>\n      <td>1.583420e+09</td>\n    </tr>\n    <tr>\n      <th>1</th>\n      <td>748454819</td>\n      <td>14159911</td>\n      <td>Hotel Gracery Seoul</td>\n      <td>5</td>\n      <td>1.582988e+09</td>\n    </tr>\n    <tr>\n      <th>2</th>\n      <td>745371386</td>\n      <td>14159911</td>\n      <td>Hotel Gracery Seoul</td>\n      <td>5</td>\n      <td>1.581779e+09</td>\n    </tr>\n    <tr>\n      <th>3</th>\n      <td>744426202</td>\n      <td>14159911</td>\n      <td>Hotel Gracery Seoul</td>\n      <td>5</td>\n      <td>1.581347e+09</td>\n    </tr>\n    <tr>\n      <th>4</th>\n      <td>743141310</td>\n      <td>14159911</td>\n      <td>Hotel Gracery Seoul</td>\n      <td>5</td>\n      <td>1.580828e+09</td>\n    </tr>\n  </tbody>\n</table>\n</div>"
          },
          "metadata": {},
          "execution_count": 14
        }
      ]
    },
    {
      "cell_type": "code",
      "metadata": {
        "id": "b9_e0OLWIalV",
        "colab_type": "code",
        "colab": {
          "base_uri": "https://localhost:8080/",
          "height": 53
        },
        "outputId": "422a0182-3a4c-4329-9ff3-eefd00638e94"
      },
      "source": [
        "df[[\"id\"]].nunique()"
      ],
      "execution_count": 15,
      "outputs": [
        {
          "output_type": "execute_result",
          "data": {
            "text/plain": "id    144434\ndtype: int64"
          },
          "metadata": {},
          "execution_count": 15
        }
      ]
    },
    {
      "cell_type": "code",
      "metadata": {
        "id": "bJxOLEO2H49l",
        "colab_type": "code",
        "colab": {
          "base_uri": "https://localhost:8080/",
          "height": 53
        },
        "outputId": "f87dcef1-a93e-4b69-e684-4fc50eb881ef"
      },
      "source": [
        "df[[\"location.locationId\"]].nunique()"
      ],
      "execution_count": 16,
      "outputs": [
        {
          "output_type": "execute_result",
          "data": {
            "text/plain": "location.locationId    6712\ndtype: int64"
          },
          "metadata": {},
          "execution_count": 16
        }
      ]
    },
    {
      "cell_type": "code",
      "execution_count": null,
      "metadata": {},
      "outputs": [],
      "source": [
        "# train / test split code \n",
        "def _do_stratification(\n",
        "    data,\n",
        "    ratio=0.75,\n",
        "    min_rating=1,\n",
        "    filter_by=\"user\",\n",
        "    is_random=True,\n",
        "    seed=42,\n",
        "    col_user=DEFAULT_USER_COL,\n",
        "    col_item=DEFAULT_ITEM_COL,\n",
        "    col_timestamp=DEFAULT_TIMESTAMP_COL,\n",
        "):\n",
        "    # A few preliminary checks.\n",
        "    if not (filter_by == \"user\" or filter_by == \"item\"):\n",
        "        raise ValueError(\"filter_by should be either 'user' or 'item'.\")\n",
        "\n",
        "    if min_rating < 1:\n",
        "        raise ValueError(\"min_rating should be integer and larger than or equal to 1.\")\n",
        "\n",
        "    if col_user not in data.columns:\n",
        "        raise ValueError(\"Schema of data not valid. Missing User Col\")\n",
        "\n",
        "    if col_item not in data.columns:\n",
        "        raise ValueError(\"Schema of data not valid. Missing Item Col\")\n",
        "\n",
        "    if not is_random:\n",
        "        if col_timestamp not in data.columns:\n",
        "            raise ValueError(\"Schema of data not valid. Missing Timestamp Col\")\n",
        "\n",
        "    multi_split, ratio = process_split_ratio(ratio)\n",
        "\n",
        "    split_by_column = col_user if filter_by == \"user\" else col_item\n",
        "\n",
        "    ratio = ratio if multi_split else [ratio, 1 - ratio]\n",
        "\n",
        "    if min_rating > 1:\n",
        "        data = min_rating_filter_pandas(\n",
        "            data,\n",
        "            min_rating=min_rating,\n",
        "            filter_by=filter_by,\n",
        "            col_user=col_user,\n",
        "            col_item=col_item,\n",
        "        )\n",
        "\n",
        "    # Split by each group and aggregate splits together.\n",
        "    splits = []\n",
        "\n",
        "    # If it is for chronological splitting, the split will be performed in a random way.\n",
        "    ### 여기서 그룹으로 묶을 때 !!! \n",
        "    ### data.sort_values(timestamp).groupby(userId)로 묶고 시작하게 됨 \n",
        "    df_grouped = (\n",
        "        data.sort_values(col_timestamp).groupby(split_by_column) \n",
        "        if is_random is False\n",
        "        else data.groupby(split_by_column)\n",
        "    )\n",
        "\n",
        "    for name, group in df_grouped:\n",
        "        group_splits = split_pandas_data_with_ratios(\n",
        "            df_grouped.get_group(name), ratio, shuffle=is_random, seed=seed\n",
        "        )\n",
        "\n",
        "        # Concatenate the list of split dataframes.\n",
        "        concat_group_splits = pd.concat(group_splits)\n",
        "\n",
        "        splits.append(concat_group_splits)\n",
        "\n",
        "    # Concatenate splits for all the groups together.\n",
        "    splits_all = pd.concat(splits)\n",
        "\n",
        "    # Take split by split_index\n",
        "    splits_list = [\n",
        "        splits_all[splits_all[\"split_index\"] == x].drop(\"split_index\", axis=1)\n",
        "        for x in range(len(ratio))\n",
        "    ]\n",
        "\n",
        "    return splits_list"
      ]
    },
    {
      "cell_type": "code",
      "execution_count": null,
      "metadata": {},
      "outputs": [],
      "source": [
        "def stratified_split(\n",
        "    data,\n",
        "    ratio=0.75,\n",
        "    min_rating=1,\n",
        "    filter_by=\"user\",\n",
        "    col_user=DEFAULT_USER_COL,\n",
        "    col_item=DEFAULT_ITEM_COL,\n",
        "    seed=42,\n",
        "):\n",
        "    \"\"\"Pandas stratified splitter.\n",
        "    \n",
        "    For each user / item, the split function takes proportions of ratings which is\n",
        "    specified by the split ratio(s). The split is stratified.\n",
        "\n",
        "    Args:\n",
        "        data (pd.DataFrame): Pandas DataFrame to be split.\n",
        "        ratio (float or list): Ratio for splitting data. If it is a single float number\n",
        "            it splits data into two halves and the ratio argument indicates the ratio of\n",
        "            training data set; if it is a list of float numbers, the splitter splits\n",
        "            data into several portions corresponding to the split ratios. If a list is\n",
        "            provided and the ratios are not summed to 1, they will be normalized.\n",
        "        seed (int): Seed.\n",
        "        min_rating (int): minimum number of ratings for user or item.\n",
        "        filter_by (str): either \"user\" or \"item\", depending on which of the two is to\n",
        "            filter with min_rating.\n",
        "        col_user (str): column name of user IDs.\n",
        "        col_item (str): column name of item IDs.\n",
        "\n",
        "    Returns:\n",
        "        list: Splits of the input data as pd.DataFrame.\n",
        "    \"\"\"\n",
        "    return _do_stratification(\n",
        "        data,\n",
        "        ratio=ratio,\n",
        "        min_rating=min_rating,\n",
        "        filter_by=filter_by,\n",
        "        col_user=col_user,\n",
        "        col_item=col_item,\n",
        "        is_random=True,\n",
        "        seed=seed,\n",
        "    )"
      ]
    },
    {
      "cell_type": "markdown",
      "metadata": {},
      "source": [
        "### 1) A matrix: (user, item) - stratified_split"
      ]
    },
    {
      "cell_type": "code",
      "execution_count": 17,
      "metadata": {},
      "outputs": [],
      "source": [
        "# 모델을 살펴보니 transpose 안 해주는게 맞는 것 같음  \n",
        "header = {\n",
        "    \"col_user\": \"id\",\n",
        "    \"col_item\": \"location.locationId\",\n",
        "    \"col_rating\": \"rating\",\n",
        "    \"col_timestamp\": \"createdDate\",\n",
        "}"
      ]
    },
    {
      "cell_type": "code",
      "metadata": {
        "id": "2cDSvrU7PWQV",
        "colab_type": "code",
        "colab": {}
      },
      "source": [
        "train, test = python_stratified_split(df, ratio=0.75, col_user=header[\"col_user\"], col_item=header[\"col_item\"], seed = 42 ) "
      ],
      "execution_count": 19,
      "outputs": []
    },
    {
      "cell_type": "code",
      "metadata": {
        "id": "X8Qqx3f6PZyM",
        "colab_type": "code",
        "outputId": "f4a6d5b4-5a8f-4bcb-9fe2-445da9043f9b",
        "colab": {
          "base_uri": "https://localhost:8080/",
          "height": 35
        }
      },
      "source": [
        "print(train.shape, test.shape) # user=id, item=locationId 넣으면 groupby 묶는 것 때문에 train test = (14만, ), (0, ) 으로 나뉘게 됨 "
      ],
      "execution_count": 20,
      "outputs": [
        {
          "output_type": "stream",
          "name": "stdout",
          "text": "(144434, 5) (0, 5)\n"
        }
      ]
    },
    {
      "cell_type": "markdown",
      "metadata": {},
      "source": [
        "### 2) A matrix : (user, item) - random split"
      ]
    },
    {
      "cell_type": "code",
      "execution_count": 21,
      "metadata": {},
      "outputs": [],
      "source": [
        "header = {\n",
        "    \"col_user\": \"id\",\n",
        "    \"col_item\": \"location.locationId\",\n",
        "    \"col_rating\": \"rating\",\n",
        "    \"col_timestamp\": \"createdDate\",\n",
        "}"
      ]
    },
    {
      "cell_type": "code",
      "execution_count": 23,
      "metadata": {},
      "outputs": [],
      "source": [
        "train, test = python_random_split(df, ratio=0.75, seed = 42)"
      ]
    },
    {
      "cell_type": "code",
      "execution_count": 24,
      "metadata": {},
      "outputs": [
        {
          "output_type": "stream",
          "name": "stdout",
          "text": "(108325, 5) (36109, 5)\n"
        }
      ],
      "source": [
        "print(train.shape, test.shape) "
      ]
    },
    {
      "cell_type": "code",
      "execution_count": 25,
      "metadata": {},
      "outputs": [],
      "source": [
        "model = SARSingleNode(\n",
        "    similarity_type=\"cooccurrence\", # jaccard, lift, cooccurrence \n",
        "    time_decay_coefficient=100, \n",
        "    time_now=None, \n",
        "    timedecay_formula=True, \n",
        "    **header\n",
        ")"
      ]
    },
    {
      "cell_type": "code",
      "execution_count": 26,
      "metadata": {},
      "outputs": [],
      "source": [
        "model.fit(train)"
      ]
    },
    {
      "cell_type": "code",
      "execution_count": 27,
      "metadata": {},
      "outputs": [
        {
          "output_type": "error",
          "ename": "ValueError",
          "evalue": "SAR cannot score users that are not in the training set",
          "traceback": [
            "\u001b[1;31m---------------------------------------------------------------------------\u001b[0m",
            "\u001b[1;31mValueError\u001b[0m                                Traceback (most recent call last)",
            "\u001b[1;32m<ipython-input-27-0be2c7b004e7>\u001b[0m in \u001b[0;36m<module>\u001b[1;34m\u001b[0m\n\u001b[1;32m----> 1\u001b[1;33m \u001b[0mtop_k\u001b[0m \u001b[1;33m=\u001b[0m \u001b[0mmodel\u001b[0m\u001b[1;33m.\u001b[0m\u001b[0mrecommend_k_items\u001b[0m\u001b[1;33m(\u001b[0m\u001b[0mtest\u001b[0m\u001b[1;33m,\u001b[0m \u001b[0mremove_seen\u001b[0m\u001b[1;33m=\u001b[0m\u001b[1;32mTrue\u001b[0m\u001b[1;33m)\u001b[0m\u001b[1;33m\u001b[0m\u001b[1;33m\u001b[0m\u001b[0m\n\u001b[0m",
            "\u001b[1;32mc:\\Users\\LG\\Jupyter Notebook\\ToBigs\\rec conference\\CFmodeling\\reco_utils\\recommender\\sar\\sar_singlenode.py\u001b[0m in \u001b[0;36mrecommend_k_items\u001b[1;34m(self, test, top_k, sort_top_k, remove_seen, normalize)\u001b[0m\n\u001b[0;32m    454\u001b[0m         \"\"\"\n\u001b[0;32m    455\u001b[0m \u001b[1;33m\u001b[0m\u001b[0m\n\u001b[1;32m--> 456\u001b[1;33m         \u001b[0mtest_scores\u001b[0m \u001b[1;33m=\u001b[0m \u001b[0mself\u001b[0m\u001b[1;33m.\u001b[0m\u001b[0mscore\u001b[0m\u001b[1;33m(\u001b[0m\u001b[0mtest\u001b[0m\u001b[1;33m,\u001b[0m \u001b[0mremove_seen\u001b[0m\u001b[1;33m=\u001b[0m\u001b[0mremove_seen\u001b[0m\u001b[1;33m,\u001b[0m \u001b[0mnormalize\u001b[0m\u001b[1;33m=\u001b[0m\u001b[0mnormalize\u001b[0m\u001b[1;33m)\u001b[0m\u001b[1;33m\u001b[0m\u001b[1;33m\u001b[0m\u001b[0m\n\u001b[0m\u001b[0;32m    457\u001b[0m \u001b[1;33m\u001b[0m\u001b[0m\n\u001b[0;32m    458\u001b[0m         top_items, top_scores = get_top_k_scored_items(\n",
            "\u001b[1;32mc:\\Users\\LG\\Jupyter Notebook\\ToBigs\\rec conference\\CFmodeling\\reco_utils\\recommender\\sar\\sar_singlenode.py\u001b[0m in \u001b[0;36mscore\u001b[1;34m(self, test, remove_seen, normalize)\u001b[0m\n\u001b[0;32m    307\u001b[0m         )\n\u001b[0;32m    308\u001b[0m         \u001b[1;32mif\u001b[0m \u001b[0many\u001b[0m\u001b[1;33m(\u001b[0m\u001b[0mnp\u001b[0m\u001b[1;33m.\u001b[0m\u001b[0misnan\u001b[0m\u001b[1;33m(\u001b[0m\u001b[0muser_ids\u001b[0m\u001b[1;33m)\u001b[0m\u001b[1;33m)\u001b[0m\u001b[1;33m:\u001b[0m\u001b[1;33m\u001b[0m\u001b[1;33m\u001b[0m\u001b[0m\n\u001b[1;32m--> 309\u001b[1;33m             \u001b[1;32mraise\u001b[0m \u001b[0mValueError\u001b[0m\u001b[1;33m(\u001b[0m\u001b[1;34m\"SAR cannot score users that are not in the training set\"\u001b[0m\u001b[1;33m)\u001b[0m\u001b[1;33m\u001b[0m\u001b[1;33m\u001b[0m\u001b[0m\n\u001b[0m\u001b[0;32m    310\u001b[0m \u001b[1;33m\u001b[0m\u001b[0m\n\u001b[0;32m    311\u001b[0m         \u001b[1;31m# calculate raw scores with a matrix multiplication\u001b[0m\u001b[1;33m\u001b[0m\u001b[1;33m\u001b[0m\u001b[1;33m\u001b[0m\u001b[0m\n",
            "\u001b[1;31mValueError\u001b[0m: SAR cannot score users that are not in the training set"
          ]
        }
      ],
      "source": [
        "top_k = model.recommend_k_items(test, remove_seen=True) # ^^... "
      ]
    },
    {
      "cell_type": "markdown",
      "metadata": {
        "id": "ZqkWFx-RnKJ4",
        "colab_type": "text"
      },
      "source": [
        "### 3) A matrix : (item, user) "
      ]
    },
    {
      "cell_type": "code",
      "execution_count": 28,
      "metadata": {},
      "outputs": [],
      "source": [
        "header = {\n",
        "    \"col_user\": \"location.locationId\",\n",
        "    \"col_item\": \"id\",\n",
        "    \"col_rating\": \"rating\",\n",
        "    \"col_timestamp\": \"createdDate\",\n",
        "}"
      ]
    },
    {
      "cell_type": "code",
      "execution_count": 29,
      "metadata": {},
      "outputs": [],
      "source": [
        "train, test = python_stratified_split(df, ratio=0.75, col_user=header[\"col_user\"], col_item=header[\"col_item\"], seed = 42 ) "
      ]
    },
    {
      "cell_type": "code",
      "execution_count": 30,
      "metadata": {},
      "outputs": [
        {
          "output_type": "stream",
          "name": "stdout",
          "text": "(108958, 5) (35476, 5)\n"
        }
      ],
      "source": [
        "print(train.shape, test.shape) # user=locationId, item=userId 넣고 train test split 한 것 (matrix transpose)"
      ]
    },
    {
      "cell_type": "markdown",
      "metadata": {
        "id": "8DeCtZhmrAqr",
        "colab_type": "text"
      },
      "source": [
        "#### (1) cooccurrence"
      ]
    },
    {
      "cell_type": "code",
      "metadata": {
        "id": "nWw0in7TPmrt",
        "colab_type": "code",
        "colab": {}
      },
      "source": [
        "model = SARSingleNode(\n",
        "    similarity_type=\"cooccurrence\", # jaccard, lift, cooccurrence \n",
        "    time_decay_coefficient=100, \n",
        "    time_now=None, \n",
        "    timedecay_formula=True, \n",
        "    **header\n",
        ")"
      ],
      "execution_count": 31,
      "outputs": []
    },
    {
      "cell_type": "code",
      "metadata": {
        "id": "dHztYjd9Pojv",
        "colab_type": "code",
        "colab": {}
      },
      "source": [
        "model.fit(train)"
      ],
      "execution_count": 32,
      "outputs": []
    },
    {
      "cell_type": "code",
      "metadata": {
        "id": "okvhy5EIPrR2",
        "colab_type": "code",
        "colab": {}
      },
      "source": [
        "top_k = model.recommend_k_items(test, remove_seen=True)"
      ],
      "execution_count": 33,
      "outputs": []
    },
    {
      "cell_type": "code",
      "metadata": {
        "id": "8y3AQMZVP5P1",
        "colab_type": "code",
        "outputId": "24a5c81b-ab38-434b-fb41-0b9c30952c49",
        "colab": {
          "base_uri": "https://localhost:8080/",
          "height": 669
        }
      },
      "source": [
        "display(top_k.head(10))"
      ],
      "execution_count": 34,
      "outputs": [
        {
          "output_type": "display_data",
          "data": {
            "text/plain": "   location.locationId         id  prediction\n0               299152  735790106         0.0\n1               299152  730572264         0.0\n2               299152  430028964         0.0\n3               299152  660273151         0.0\n4               299152  725896100         0.0\n5               299152  163731518         0.0\n6               299152  395270536         0.0\n7               299152  485512510         0.0\n8               299152  147941546         0.0\n9               299152  753581121         0.0",
            "text/html": "<div>\n<style scoped>\n    .dataframe tbody tr th:only-of-type {\n        vertical-align: middle;\n    }\n\n    .dataframe tbody tr th {\n        vertical-align: top;\n    }\n\n    .dataframe thead th {\n        text-align: right;\n    }\n</style>\n<table border=\"1\" class=\"dataframe\">\n  <thead>\n    <tr style=\"text-align: right;\">\n      <th></th>\n      <th>location.locationId</th>\n      <th>id</th>\n      <th>prediction</th>\n    </tr>\n  </thead>\n  <tbody>\n    <tr>\n      <th>0</th>\n      <td>299152</td>\n      <td>735790106</td>\n      <td>0.0</td>\n    </tr>\n    <tr>\n      <th>1</th>\n      <td>299152</td>\n      <td>730572264</td>\n      <td>0.0</td>\n    </tr>\n    <tr>\n      <th>2</th>\n      <td>299152</td>\n      <td>430028964</td>\n      <td>0.0</td>\n    </tr>\n    <tr>\n      <th>3</th>\n      <td>299152</td>\n      <td>660273151</td>\n      <td>0.0</td>\n    </tr>\n    <tr>\n      <th>4</th>\n      <td>299152</td>\n      <td>725896100</td>\n      <td>0.0</td>\n    </tr>\n    <tr>\n      <th>5</th>\n      <td>299152</td>\n      <td>163731518</td>\n      <td>0.0</td>\n    </tr>\n    <tr>\n      <th>6</th>\n      <td>299152</td>\n      <td>395270536</td>\n      <td>0.0</td>\n    </tr>\n    <tr>\n      <th>7</th>\n      <td>299152</td>\n      <td>485512510</td>\n      <td>0.0</td>\n    </tr>\n    <tr>\n      <th>8</th>\n      <td>299152</td>\n      <td>147941546</td>\n      <td>0.0</td>\n    </tr>\n    <tr>\n      <th>9</th>\n      <td>299152</td>\n      <td>753581121</td>\n      <td>0.0</td>\n    </tr>\n  </tbody>\n</table>\n</div>"
          },
          "metadata": {}
        }
      ]
    },
    {
      "cell_type": "code",
      "metadata": {
        "id": "rfmFrp-MQcme",
        "colab_type": "code",
        "outputId": "ef2adf73-23aa-4900-8cb8-acf838af7527",
        "colab": {
          "base_uri": "https://localhost:8080/",
          "height": 49
        }
      },
      "source": [
        "top_k.loc[top_k[\"prediction\"]!=0] ## ㅋㅋmuzi...? "
      ],
      "execution_count": 35,
      "outputs": [
        {
          "output_type": "execute_result",
          "data": {
            "text/plain": "Empty DataFrame\nColumns: [location.locationId, id, prediction]\nIndex: []",
            "text/html": "<div>\n<style scoped>\n    .dataframe tbody tr th:only-of-type {\n        vertical-align: middle;\n    }\n\n    .dataframe tbody tr th {\n        vertical-align: top;\n    }\n\n    .dataframe thead th {\n        text-align: right;\n    }\n</style>\n<table border=\"1\" class=\"dataframe\">\n  <thead>\n    <tr style=\"text-align: right;\">\n      <th></th>\n      <th>location.locationId</th>\n      <th>id</th>\n      <th>prediction</th>\n    </tr>\n  </thead>\n  <tbody>\n  </tbody>\n</table>\n</div>"
          },
          "metadata": {},
          "execution_count": 35
        }
      ]
    },
    {
      "cell_type": "code",
      "execution_count": 37,
      "metadata": {},
      "outputs": [],
      "source": [
        "# all ranking metrics have the same arguments\n",
        "args = [test, top_k]\n",
        "kwargs = dict(col_user='location.locationId', \n",
        "              col_item='id', \n",
        "              col_rating='rating', \n",
        "              col_prediction='prediction', \n",
        "              relevancy_method='top_k', \n",
        "              k=TOP_K)\n",
        "\n",
        "eval_map = map_at_k(*args, **kwargs)\n",
        "eval_ndcg = ndcg_at_k(*args, **kwargs)\n",
        "eval_precision = precision_at_k(*args, **kwargs)\n",
        "eval_recall = recall_at_k(*args, **kwargs)"
      ]
    },
    {
      "cell_type": "code",
      "metadata": {
        "id": "sSvqVDvVQ8Hp",
        "colab_type": "code",
        "outputId": "0143364b-9d57-4113-cc9e-bdcf3863bd74",
        "colab": {
          "base_uri": "https://localhost:8080/",
          "height": 125
        }
      },
      "source": [
        "print(f\"Model:\",\n",
        "      f\"Top K:\\t\\t {TOP_K}\",\n",
        "      f\"MAP:\\t\\t {eval_map:f}\",\n",
        "      f\"NDCG:\\t\\t {eval_ndcg:f}\",\n",
        "      f\"Precision@K:\\t {eval_precision:f}\",\n",
        "      f\"Recall@K:\\t {eval_recall:f}\", sep='\\n')"
      ],
      "execution_count": 38,
      "outputs": [
        {
          "output_type": "stream",
          "name": "stdout",
          "text": "Model:\nTop K:\t\t 10\nMAP:\t\t 0.000000\nNDCG:\t\t 0.000000\nPrecision@K:\t 0.000000\nRecall@K:\t 0.000000\n"
        }
      ]
    },
    {
      "cell_type": "markdown",
      "metadata": {
        "id": "1qpU-SvZrF4T",
        "colab_type": "text"
      },
      "source": [
        "#### (2) jaccard / lift"
      ]
    },
    {
      "cell_type": "code",
      "metadata": {
        "id": "jth8hkWPrHpS",
        "colab_type": "code",
        "colab": {}
      },
      "source": [
        "model = SARSingleNode(\n",
        "    similarity_type=\"lift\", # jaccard, lift, cooccurrence \n",
        "    time_decay_coefficient=100, \n",
        "    time_now=None, \n",
        "    timedecay_formula=True, \n",
        "    **header\n",
        ")"
      ],
      "execution_count": 41,
      "outputs": []
    },
    {
      "cell_type": "code",
      "metadata": {
        "id": "iJApj5pmrL4A",
        "colab_type": "code",
        "colab": {}
      },
      "source": [
        "model.fit(train) # MemoryError "
      ],
      "execution_count": 42,
      "outputs": [
        {
          "output_type": "error",
          "ename": "MemoryError",
          "evalue": "Unable to allocate 88.5 GiB for an array with shape (108958, 108958) and data type float64",
          "traceback": [
            "\u001b[1;31m---------------------------------------------------------------------------\u001b[0m",
            "\u001b[1;31mMemoryError\u001b[0m                               Traceback (most recent call last)",
            "\u001b[1;32m<ipython-input-42-3415ffa72785>\u001b[0m in \u001b[0;36m<module>\u001b[1;34m\u001b[0m\n\u001b[1;32m----> 1\u001b[1;33m \u001b[0mmodel\u001b[0m\u001b[1;33m.\u001b[0m\u001b[0mfit\u001b[0m\u001b[1;33m(\u001b[0m\u001b[0mtrain\u001b[0m\u001b[1;33m)\u001b[0m \u001b[1;31m# MemoryError\u001b[0m\u001b[1;33m\u001b[0m\u001b[1;33m\u001b[0m\u001b[0m\n\u001b[0m",
            "\u001b[1;32mc:\\Users\\LG\\Jupyter Notebook\\ToBigs\\rec conference\\CFmodeling\\reco_utils\\recommender\\sar\\sar_singlenode.py\u001b[0m in \u001b[0;36mfit\u001b[1;34m(self, df)\u001b[0m\n\u001b[0;32m    276\u001b[0m         \u001b[1;32melif\u001b[0m \u001b[0mself\u001b[0m\u001b[1;33m.\u001b[0m\u001b[0msimilarity_type\u001b[0m \u001b[1;32mis\u001b[0m \u001b[0mLIFT\u001b[0m\u001b[1;33m:\u001b[0m\u001b[1;33m\u001b[0m\u001b[1;33m\u001b[0m\u001b[0m\n\u001b[0;32m    277\u001b[0m             \u001b[0mlogger\u001b[0m\u001b[1;33m.\u001b[0m\u001b[0minfo\u001b[0m\u001b[1;33m(\u001b[0m\u001b[1;34m\"Using lift based similarity\"\u001b[0m\u001b[1;33m)\u001b[0m\u001b[1;33m\u001b[0m\u001b[1;33m\u001b[0m\u001b[0m\n\u001b[1;32m--> 278\u001b[1;33m             self.item_similarity = lift(item_cooccurrence).astype(\n\u001b[0m\u001b[0;32m    279\u001b[0m                 \u001b[0mdf\u001b[0m\u001b[1;33m[\u001b[0m\u001b[0mself\u001b[0m\u001b[1;33m.\u001b[0m\u001b[0mcol_rating\u001b[0m\u001b[1;33m]\u001b[0m\u001b[1;33m.\u001b[0m\u001b[0mdtype\u001b[0m\u001b[1;33m\u001b[0m\u001b[1;33m\u001b[0m\u001b[0m\n\u001b[0;32m    280\u001b[0m             )\n",
            "\u001b[1;32mc:\\Users\\LG\\Jupyter Notebook\\ToBigs\\rec conference\\CFmodeling\\reco_utils\\common\\python_utils.py\u001b[0m in \u001b[0;36mlift\u001b[1;34m(cooccurrence)\u001b[0m\n\u001b[0;32m     62\u001b[0m \u001b[1;33m\u001b[0m\u001b[0m\n\u001b[0;32m     63\u001b[0m     \u001b[1;32mwith\u001b[0m \u001b[0mnp\u001b[0m\u001b[1;33m.\u001b[0m\u001b[0merrstate\u001b[0m\u001b[1;33m(\u001b[0m\u001b[0minvalid\u001b[0m\u001b[1;33m=\u001b[0m\u001b[1;34m\"ignore\"\u001b[0m\u001b[1;33m,\u001b[0m \u001b[0mdivide\u001b[0m\u001b[1;33m=\u001b[0m\u001b[1;34m\"ignore\"\u001b[0m\u001b[1;33m)\u001b[0m\u001b[1;33m:\u001b[0m\u001b[1;33m\u001b[0m\u001b[1;33m\u001b[0m\u001b[0m\n\u001b[1;32m---> 64\u001b[1;33m         \u001b[0mresult\u001b[0m \u001b[1;33m=\u001b[0m \u001b[0mcooccurrence\u001b[0m \u001b[1;33m/\u001b[0m \u001b[1;33m(\u001b[0m\u001b[0mdiag_rows\u001b[0m \u001b[1;33m*\u001b[0m \u001b[0mdiag_cols\u001b[0m\u001b[1;33m)\u001b[0m\u001b[1;33m\u001b[0m\u001b[1;33m\u001b[0m\u001b[0m\n\u001b[0m\u001b[0;32m     65\u001b[0m \u001b[1;33m\u001b[0m\u001b[0m\n\u001b[0;32m     66\u001b[0m     \u001b[1;32mreturn\u001b[0m \u001b[0mnp\u001b[0m\u001b[1;33m.\u001b[0m\u001b[0marray\u001b[0m\u001b[1;33m(\u001b[0m\u001b[0mresult\u001b[0m\u001b[1;33m)\u001b[0m\u001b[1;33m\u001b[0m\u001b[1;33m\u001b[0m\u001b[0m\n",
            "\u001b[1;31mMemoryError\u001b[0m: Unable to allocate 88.5 GiB for an array with shape (108958, 108958) and data type float64"
          ]
        }
      ]
    },
    {
      "cell_type": "code",
      "metadata": {
        "id": "2tjwpTa6rPeK",
        "colab_type": "code",
        "colab": {}
      },
      "source": [
        "top_k = model.recommend_k_items(test, remove_seen=True)"
      ],
      "execution_count": 0,
      "outputs": []
    },
    {
      "cell_type": "code",
      "metadata": {
        "id": "MbABIYggrTVT",
        "colab_type": "code",
        "colab": {}
      },
      "source": [
        "display(top_k.head(20))"
      ],
      "execution_count": 0,
      "outputs": []
    },
    {
      "cell_type": "code",
      "metadata": {
        "id": "DPhA2inzrWtz",
        "colab_type": "code",
        "colab": {}
      },
      "source": [
        "# all ranking metrics have the same arguments\n",
        "args = [test, top_k]\n",
        "kwargs = dict(col_user='location.locationId', \n",
        "              col_item='id', \n",
        "              col_rating='rating', \n",
        "              col_prediction='prediction', \n",
        "              relevancy_method='top_k', \n",
        "              k=TOP_K)\n",
        "\n",
        "eval_map = map_at_k(*args, **kwargs)\n",
        "eval_ndcg = ndcg_at_k(*args, **kwargs)\n",
        "eval_precision = precision_at_k(*args, **kwargs)\n",
        "eval_recall = recall_at_k(*args, **kwargs)"
      ],
      "execution_count": 0,
      "outputs": []
    },
    {
      "cell_type": "code",
      "metadata": {
        "id": "V6A7gaK_tgwo",
        "colab_type": "code",
        "colab": {}
      },
      "source": [
        "print(f\"Model:\",\n",
        "      f\"Top K:\\t\\t {TOP_K}\",\n",
        "      f\"MAP:\\t\\t {eval_map:f}\",\n",
        "      f\"NDCG:\\t\\t {eval_ndcg:f}\",\n",
        "      f\"Precision@K:\\t {eval_precision:f}\",\n",
        "      f\"Recall@K:\\t {eval_recall:f}\", sep='\\n')"
      ],
      "execution_count": 0,
      "outputs": []
    }
  ],
  "metadata": {
    "colab": {
      "name": "JB_SAR.ipynb",
      "provenance": [],
      "collapsed_sections": []
    },
    "kernelspec": {
      "name": "python3",
      "display_name": "Python 3"
    }
  },
  "nbformat": 4,
  "nbformat_minor": 0
}