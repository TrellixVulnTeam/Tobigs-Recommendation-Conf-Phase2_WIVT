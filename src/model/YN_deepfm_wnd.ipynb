{
 "cells": [
  {
   "cell_type": "code",
   "execution_count": 1,
   "metadata": {},
   "outputs": [],
   "source": [
    "import numpy as np\n",
    "import pandas as pd\n",
    "import os"
   ]
  },
  {
   "cell_type": "code",
   "execution_count": 2,
   "metadata": {},
   "outputs": [
    {
     "output_type": "execute_result",
     "data": {
      "text/plain": "   rating  locationId  photonum          createdDate is_fch  is_local  \\\n0     4.5  1150710065         0  2020-05-21 20:42:00      1         1   \n1     5.0  1150710065         0  2019-06-28 01:11:03      1         1   \n2     5.0  1150710065         0  2020-03-12 00:22:00      1         1   \n3     5.0  1150710065         0  2020-02-16 17:06:00      1         1   \n4     5.0  1150710065         0  2019-03-11 00:08:48      1         1   \n\n     place.name  userID  average_photonum  average_rating  user_mean_rating  \\\n0  스타벅스 보라매공원R점  432293          0.164557        4.506329               4.5   \n1  스타벅스 보라매공원R점  135109          0.164557        4.506329               5.0   \n2  스타벅스 보라매공원R점  269138          0.164557        4.506329               5.0   \n3  스타벅스 보라매공원R점  246123          0.164557        4.506329               5.0   \n4  스타벅스 보라매공원R점  119248          0.164557        4.506329               5.0   \n\n   user_reviewcount        lat        lng  \\\n0                 1  37.492103  126.92355   \n1                 1  37.492103  126.92355   \n2                 1  37.492103  126.92355   \n3                 1  37.492103  126.92355   \n4                 1  37.492103  126.92355   \n\n                              land.addr category  rated_count  category_l  \n0  서울특별시 동작구 신대방동 395-65 파크스퀘어,보라매현대APT      EAT        158.0           1  \n1  서울특별시 동작구 신대방동 395-65 파크스퀘어,보라매현대APT      EAT        158.0           1  \n2  서울특별시 동작구 신대방동 395-65 파크스퀘어,보라매현대APT      EAT        158.0           1  \n3  서울특별시 동작구 신대방동 395-65 파크스퀘어,보라매현대APT      EAT        158.0           1  \n4  서울특별시 동작구 신대방동 395-65 파크스퀘어,보라매현대APT      EAT        158.0           1  ",
      "text/html": "<div>\n<style scoped>\n    .dataframe tbody tr th:only-of-type {\n        vertical-align: middle;\n    }\n\n    .dataframe tbody tr th {\n        vertical-align: top;\n    }\n\n    .dataframe thead th {\n        text-align: right;\n    }\n</style>\n<table border=\"1\" class=\"dataframe\">\n  <thead>\n    <tr style=\"text-align: right;\">\n      <th></th>\n      <th>rating</th>\n      <th>locationId</th>\n      <th>photonum</th>\n      <th>createdDate</th>\n      <th>is_fch</th>\n      <th>is_local</th>\n      <th>place.name</th>\n      <th>userID</th>\n      <th>average_photonum</th>\n      <th>average_rating</th>\n      <th>user_mean_rating</th>\n      <th>user_reviewcount</th>\n      <th>lat</th>\n      <th>lng</th>\n      <th>land.addr</th>\n      <th>category</th>\n      <th>rated_count</th>\n      <th>category_l</th>\n    </tr>\n  </thead>\n  <tbody>\n    <tr>\n      <th>0</th>\n      <td>4.5</td>\n      <td>1150710065</td>\n      <td>0</td>\n      <td>2020-05-21 20:42:00</td>\n      <td>1</td>\n      <td>1</td>\n      <td>스타벅스 보라매공원R점</td>\n      <td>432293</td>\n      <td>0.164557</td>\n      <td>4.506329</td>\n      <td>4.5</td>\n      <td>1</td>\n      <td>37.492103</td>\n      <td>126.92355</td>\n      <td>서울특별시 동작구 신대방동 395-65 파크스퀘어,보라매현대APT</td>\n      <td>EAT</td>\n      <td>158.0</td>\n      <td>1</td>\n    </tr>\n    <tr>\n      <th>1</th>\n      <td>5.0</td>\n      <td>1150710065</td>\n      <td>0</td>\n      <td>2019-06-28 01:11:03</td>\n      <td>1</td>\n      <td>1</td>\n      <td>스타벅스 보라매공원R점</td>\n      <td>135109</td>\n      <td>0.164557</td>\n      <td>4.506329</td>\n      <td>5.0</td>\n      <td>1</td>\n      <td>37.492103</td>\n      <td>126.92355</td>\n      <td>서울특별시 동작구 신대방동 395-65 파크스퀘어,보라매현대APT</td>\n      <td>EAT</td>\n      <td>158.0</td>\n      <td>1</td>\n    </tr>\n    <tr>\n      <th>2</th>\n      <td>5.0</td>\n      <td>1150710065</td>\n      <td>0</td>\n      <td>2020-03-12 00:22:00</td>\n      <td>1</td>\n      <td>1</td>\n      <td>스타벅스 보라매공원R점</td>\n      <td>269138</td>\n      <td>0.164557</td>\n      <td>4.506329</td>\n      <td>5.0</td>\n      <td>1</td>\n      <td>37.492103</td>\n      <td>126.92355</td>\n      <td>서울특별시 동작구 신대방동 395-65 파크스퀘어,보라매현대APT</td>\n      <td>EAT</td>\n      <td>158.0</td>\n      <td>1</td>\n    </tr>\n    <tr>\n      <th>3</th>\n      <td>5.0</td>\n      <td>1150710065</td>\n      <td>0</td>\n      <td>2020-02-16 17:06:00</td>\n      <td>1</td>\n      <td>1</td>\n      <td>스타벅스 보라매공원R점</td>\n      <td>246123</td>\n      <td>0.164557</td>\n      <td>4.506329</td>\n      <td>5.0</td>\n      <td>1</td>\n      <td>37.492103</td>\n      <td>126.92355</td>\n      <td>서울특별시 동작구 신대방동 395-65 파크스퀘어,보라매현대APT</td>\n      <td>EAT</td>\n      <td>158.0</td>\n      <td>1</td>\n    </tr>\n    <tr>\n      <th>4</th>\n      <td>5.0</td>\n      <td>1150710065</td>\n      <td>0</td>\n      <td>2019-03-11 00:08:48</td>\n      <td>1</td>\n      <td>1</td>\n      <td>스타벅스 보라매공원R점</td>\n      <td>119248</td>\n      <td>0.164557</td>\n      <td>4.506329</td>\n      <td>5.0</td>\n      <td>1</td>\n      <td>37.492103</td>\n      <td>126.92355</td>\n      <td>서울특별시 동작구 신대방동 395-65 파크스퀘어,보라매현대APT</td>\n      <td>EAT</td>\n      <td>158.0</td>\n      <td>1</td>\n    </tr>\n  </tbody>\n</table>\n</div>"
     },
     "metadata": {},
     "execution_count": 2
    }
   ],
   "source": [
    "new_df = pd.read_csv(os.path.join(\"..\",\"..\",\"data\",'YN_final_df2.csv'))\n",
    "new_df.head()"
   ]
  },
  {
   "cell_type": "code",
   "execution_count": 3,
   "metadata": {},
   "outputs": [
    {
     "output_type": "execute_result",
     "data": {
      "text/plain": "                          place.name  locationId\n415862                노보텔스위트앰배서더서울용산  1475741466\n415993                   오리엔스호텔&레지던스    33880173\n416144            이비스 스타일 앰배서더 서울 용산  1517144962\n416521  그랜드 머큐어 앰배서더 호텔 앤 레지던스 서울 용산   958174664\n416551                       아만티호텔서울    37903636",
      "text/html": "<div>\n<style scoped>\n    .dataframe tbody tr th:only-of-type {\n        vertical-align: middle;\n    }\n\n    .dataframe tbody tr th {\n        vertical-align: top;\n    }\n\n    .dataframe thead th {\n        text-align: right;\n    }\n</style>\n<table border=\"1\" class=\"dataframe\">\n  <thead>\n    <tr style=\"text-align: right;\">\n      <th></th>\n      <th>place.name</th>\n      <th>locationId</th>\n    </tr>\n  </thead>\n  <tbody>\n    <tr>\n      <th>415862</th>\n      <td>노보텔스위트앰배서더서울용산</td>\n      <td>1475741466</td>\n    </tr>\n    <tr>\n      <th>415993</th>\n      <td>오리엔스호텔&amp;레지던스</td>\n      <td>33880173</td>\n    </tr>\n    <tr>\n      <th>416144</th>\n      <td>이비스 스타일 앰배서더 서울 용산</td>\n      <td>1517144962</td>\n    </tr>\n    <tr>\n      <th>416521</th>\n      <td>그랜드 머큐어 앰배서더 호텔 앤 레지던스 서울 용산</td>\n      <td>958174664</td>\n    </tr>\n    <tr>\n      <th>416551</th>\n      <td>아만티호텔서울</td>\n      <td>37903636</td>\n    </tr>\n  </tbody>\n</table>\n</div>"
     },
     "metadata": {},
     "execution_count": 3
    }
   ],
   "source": [
    "demo_ids = ['노보텔스위트앰배서더서울용산', '오리엔스호텔&레지던스', \n",
    "            '이비스 스타일 앰배서더 서울 용산', '그랜드 머큐어 앰배서더 호텔 앤 레지던스 서울 용산', \n",
    "            '아만티호텔서울', '롯데시티호텔 마포', '레스케이프 호텔','티마크그랜드호텔 명동' \n",
    "            ,'스몰하우스 빅도어', '소테츠호텔즈 더 스프라지르 서울 명동', '라마다프라자 서울호텔' ,\n",
    "            '켄싱턴호텔 여의도', 'L7강남 바이 롯데' ,'TheK호텔 서울' ,'스테이락호텔',\n",
    "            '프레지던트 호텔','포포인츠 바이 쉐라톤 서울 구로','서울53호텔', \n",
    "            '더스테이트 선유 호텔','신라스테이 광화문','호텔 더 디자이너스 청량리', \n",
    "            '스탠포드호텔코리아', '나인트리프리미어호텔 명동2' ,'노보텔 앰배서더 서울 강남'\n",
    "            ,'코트야드 메리어트 서울 보타닉파크 호텔', '호텔 타워', '안다즈 서울강남',\n",
    "            '신라스테이 서초', '페어필드바이메리어트서울호텔', '라이즈 오토그래프 컬렉션' ,\n",
    "            '베스트웨스턴프리미어서울가든호텔' ,'머큐어 서울 앰배서더 강남 쏘도베' ,'명동멀린호텔' , \n",
    "            '신라스테이 마포' ,'코보스호텔' ,'코리아나 호텔', '코트야드 메리어트 서울 남대문' , \n",
    "            '강남패밀리호텔', '아트리움바비엥2' ,'오라카이 인사동 스위츠' , '더클래식500이그제큐티브레지던스펜타즈호텔' , \n",
    "            '롯데시티호텔 김포공항', '롯데호텔 L7명동' ,'목시서울인사동', '신라숍' , '호텔리안', \n",
    "            'Hotel in 9' ,'그라모스호텔', 'MEASeoul' ,'서머셋팰리스서울' , '토요코인호텔서울동대문'\n",
    "            , '호텔 앳 홈', '어반플레이스 강남', 'G2 호텔' ,'토요코인 서울강남' , '퍼시픽호텔', \n",
    "            '트레블로지 동대문 호텔', '소테츠 호텔즈 더 스프라지르 서울 동대문' , '메리골드 호텔', \n",
    "            '호텔 그레이스리 서울' ,'롯데 호텔 서울', '인터컨티넨탈 서울 코엑스', '시그니엘 서울', \n",
    "            '그랜드 인터컨티넨탈 서울 파르나스', '노보텔 앰배서더 서울 용산', '오클라우드 호텔', \n",
    "            '반얀트리 클럽 앤 스파 서울', '포시즌스 호텔 서울', '호텔28 명동', '더 그랜드 호텔 명동', \n",
    "            '나인트리 호텔 명동', '플로라 호텔신신 서울 명동', '더 플라자', '아이비 빌 게스트하우스', \n",
    "            '서울 웨스틴 조선 호텔', '을지로 코업레지던스', '사보이호텔', '이비스 버젯 앰배서더 서울 동대문', \n",
    "            '호텔 코지 명동', '필스테이 명동 브띠끄', '트레블로지 명동 을지로호텔', '라마다 서울 동대문', \n",
    "            '서울앤호텔', '스테이 비 호텔 명동', '뉴국제호텔', '루미아 호텔', '밀레니엄 힐튼 서울', \n",
    "            '호텔 통 비바체 동대문', '그리드인호텔', '호텔 프린스 서울', 'JW 메리어트 동대문 스퀘어 서울', \n",
    "            '글로리 인', '호텔 아띠 충무로', '호텔 도마', '에이큐브 호텔', '이비스 앰배서더 서울 인사동', \n",
    "            '포 포인츠 바이 쉐라톤 서울 남산', '쉐라톤 서울 디큐브 시티 호텔', '파크 하얏트 서울', \n",
    "            '르 메르디앙 서울', '로얄 호텔 서울', '오크우드 프리미어 코엑스 센터','메이필드 호텔 앤 리조트', \n",
    "            '호텔 더 디자이너스 홍대', '센터마크 호텔', '프레이저 플레이스 센트럴 서울', '이비스 스타일 앰배서더 서울 강남',\n",
    "            '티마크 호텔 명동', '노보텔 앰배서더 독산', '워커힐 더글라스 하우스', '베니키아 프리미어 호텔 베르누이', \n",
    "            '메이 플레이스 서울 동대문', '밀리오레 호텔 서울명동', '베스트 웨스턴 프리미어 강남' ,'에이퍼스트호텔 명동', \n",
    "            '임피리얼 팰리스 부티크 호텔', '도미 인 프리미엄 서울 가로수길', '호텔 아트리움', '올림픽 파크텔', \n",
    "            '더리센츠동대문호텔', '인사동 크라운호텔', '알로프트 서울 강남', '호텔 페이토 강남', '삼정 호텔', \n",
    "            '호텔 페이토 삼성', '아벤트리 호텔 종로', '에이메스 호텔', '브라운 스위트 레지던스', '센트럴 관광호텔', \n",
    "            '지 스테이 레지던스', '아이티더블유 호텔', '호텔 미도', '뉴월드호텔', '호스텔 코리아 11th - 창덕궁', \n",
    "            '메이커스호텔', '나인브릭호텔', '글래드 강남 코엑스 센터', '몽호텔', '골드리버호텔', '호텔 프리마 서울', \n",
    "            '호텔 로프트', '노블관광호텔']\n",
    "\n",
    "demo_loc = new_df.loc[new_df['place.name'].isin(demo_ids)].drop_duplicates(['locationId'], keep='last')[['place.name','locationId']]\n",
    "demo_loc.head()"
   ]
  },
  {
   "cell_type": "code",
   "execution_count": 26,
   "metadata": {},
   "outputs": [
    {
     "output_type": "execute_result",
     "data": {
      "text/plain": "   location_id                name   latitude  longitude  \\\n0      7613319  이비스 스타일 앰배서더 서울 명동  37.561660  126.98929   \n1      4412935              난지 캠핑장  37.569904  126.87241   \n2      9452203           신라스테이 광화문  37.572440  126.98114   \n3     12698628  이비스 스타일 앰배서더 서울 용산  37.531730  126.96336   \n4      9986158         코트야드 서울 남대문  37.561080  126.97658   \n\n                    address  \\\n0      서울 서울특별시 중구 삼일대로 302   \n1         서울 마포구 상암동 495-81   \n2             서울 종로구 삼봉로 71   \n3  서울 용산구 청파로20길 95 서울드래곤시티   \n4              서울 중구 남대문로 9   \n\n                                             web_url  rating  \n0  https://www.tripadvisor.co.kr/Hotel_Review-g29...     4.5  \n1  https://www.tripadvisor.co.kr/Hotel_Review-g29...     4.5  \n2  https://www.tripadvisor.co.kr/Hotel_Review-g29...     4.5  \n3  https://www.tripadvisor.co.kr/Hotel_Review-g29...     4.5  \n4  https://www.tripadvisor.co.kr/Hotel_Review-g29...     4.5  ",
      "text/html": "<div>\n<style scoped>\n    .dataframe tbody tr th:only-of-type {\n        vertical-align: middle;\n    }\n\n    .dataframe tbody tr th {\n        vertical-align: top;\n    }\n\n    .dataframe thead th {\n        text-align: right;\n    }\n</style>\n<table border=\"1\" class=\"dataframe\">\n  <thead>\n    <tr style=\"text-align: right;\">\n      <th></th>\n      <th>location_id</th>\n      <th>name</th>\n      <th>latitude</th>\n      <th>longitude</th>\n      <th>address</th>\n      <th>web_url</th>\n      <th>rating</th>\n    </tr>\n  </thead>\n  <tbody>\n    <tr>\n      <th>0</th>\n      <td>7613319</td>\n      <td>이비스 스타일 앰배서더 서울 명동</td>\n      <td>37.561660</td>\n      <td>126.98929</td>\n      <td>서울 서울특별시 중구 삼일대로 302</td>\n      <td>https://www.tripadvisor.co.kr/Hotel_Review-g29...</td>\n      <td>4.5</td>\n    </tr>\n    <tr>\n      <th>1</th>\n      <td>4412935</td>\n      <td>난지 캠핑장</td>\n      <td>37.569904</td>\n      <td>126.87241</td>\n      <td>서울 마포구 상암동 495-81</td>\n      <td>https://www.tripadvisor.co.kr/Hotel_Review-g29...</td>\n      <td>4.5</td>\n    </tr>\n    <tr>\n      <th>2</th>\n      <td>9452203</td>\n      <td>신라스테이 광화문</td>\n      <td>37.572440</td>\n      <td>126.98114</td>\n      <td>서울 종로구 삼봉로 71</td>\n      <td>https://www.tripadvisor.co.kr/Hotel_Review-g29...</td>\n      <td>4.5</td>\n    </tr>\n    <tr>\n      <th>3</th>\n      <td>12698628</td>\n      <td>이비스 스타일 앰배서더 서울 용산</td>\n      <td>37.531730</td>\n      <td>126.96336</td>\n      <td>서울 용산구 청파로20길 95 서울드래곤시티</td>\n      <td>https://www.tripadvisor.co.kr/Hotel_Review-g29...</td>\n      <td>4.5</td>\n    </tr>\n    <tr>\n      <th>4</th>\n      <td>9986158</td>\n      <td>코트야드 서울 남대문</td>\n      <td>37.561080</td>\n      <td>126.97658</td>\n      <td>서울 중구 남대문로 9</td>\n      <td>https://www.tripadvisor.co.kr/Hotel_Review-g29...</td>\n      <td>4.5</td>\n    </tr>\n  </tbody>\n</table>\n</div>"
     },
     "metadata": {},
     "execution_count": 26
    }
   ],
   "source": [
    "kr = pd.read_excel('/Users/baeyuna/Tobigs-Recommendation-Conf-Phase2/data/TA_호텔_한글이름_주소_정보.xlsx')\n",
    "kr.head()"
   ]
  },
  {
   "cell_type": "code",
   "execution_count": null,
   "metadata": {},
   "outputs": [],
   "source": [
    "for i in demo_loc['location_id'].values.tolist():\n",
    "    for j in kr['location_id'].values.tolist():\n",
    "        if i in j"
   ]
  },
  {
   "cell_type": "code",
   "execution_count": null,
   "metadata": {},
   "outputs": [],
   "source": [
    "kr['location_id']"
   ]
  },
  {
   "cell_type": "code",
   "execution_count": null,
   "metadata": {},
   "outputs": [],
   "source": []
  },
  {
   "cell_type": "code",
   "execution_count": 4,
   "metadata": {
    "tags": []
   },
   "outputs": [
    {
     "output_type": "stream",
     "name": "stdout",
     "text": "loaded\n"
    }
   ],
   "source": [
    "# 필요파일 불러오기.\n",
    "wnd_vec = pd.read_csv(os.path.join(\"..\",\"realtime_model\",'wnd_global_vec2.csv'))\n",
    "wnd_vec.index = wnd_vec['locationId']\n",
    "wnd_vec = wnd_vec.drop(columns = ['locationId'], axis=1)\n",
    "\n",
    "deepfm_vec = pd.read_csv(os.path.join(\"..\",\"realtime_model\",'deepFM_global_vec.csv'))\n",
    "deepfm_vec.index = deepfm_vec['locationId']\n",
    "deepfm_vec = deepfm_vec.drop(columns = ['locationId'], axis=1)\n",
    "\n",
    "print('loaded')"
   ]
  },
  {
   "cell_type": "code",
   "execution_count": 5,
   "metadata": {},
   "outputs": [],
   "source": [
    "from numpy import dot\n",
    "from numpy.linalg import norm\n",
    "import numpy as np\n",
    "import random\n",
    "\n",
    "def cosim_id(df, vec, item_id):\n",
    "    def cos_sim(A, B):\n",
    "           return dot(A, B)/(norm(A)*norm(B)) \n",
    "    new_vec = vec.copy() \n",
    "    sim = []\n",
    "    \n",
    "    # 인풋 호텔 정보 데이터에 없는 경우 종료 \n",
    "    if item_id not in vec.index.tolist():\n",
    "        return \n",
    "        \n",
    "    for i in range(len(vec)):\n",
    "        sim.append(cos_sim(vec.loc[item_id,:], vec.iloc[i,:]))\n",
    "\n",
    "    new_vec['sim'] = sim\n",
    "    # sim 높은 순 \n",
    "    new_vec = new_vec['sim'].reset_index().sort_values('sim', ascending=False)\n",
    "    sim_sorted = new_vec['locationId'].tolist()\n",
    "    # 인풋 호텔정보 빼고 유사도 높은 순대로 id \n",
    "    if item_id in sim_sorted:\n",
    "        sim_sorted.remove(item_id) \n",
    "    return sim_sorted \n",
    "\n",
    "\n",
    "def sim_item(vec, df, item_id):\n",
    "    top_id = cosim_id(df, vec, item_id)\n",
    "    \n",
    "    df = df.drop_duplicates(['locationId'], keep='last')\n",
    "    recommend_rst = []\n",
    "    for x in top_id:\n",
    "        if df.loc[df['locationId']==x].category.values[0]== 'EAT':\n",
    "            recommend_rst.append([df.loc[df['locationId']==x][['place.name', 'land.addr']]])\n",
    "    return recommend_rst[:10]"
   ]
  },
  {
   "cell_type": "code",
   "execution_count": 12,
   "metadata": {
    "tags": []
   },
   "outputs": [
    {
     "output_type": "error",
     "ename": "TypeError",
     "evalue": "'NoneType' object is not iterable",
     "traceback": [
      "\u001b[0;31m---------------------------------------------------------------------------\u001b[0m",
      "\u001b[0;31mTypeError\u001b[0m                                 Traceback (most recent call last)",
      "\u001b[0;32m<ipython-input-12-3e07d81a2a24>\u001b[0m in \u001b[0;36m<module>\u001b[0;34m\u001b[0m\n\u001b[1;32m      4\u001b[0m \u001b[0;34m\u001b[0m\u001b[0m\n\u001b[1;32m      5\u001b[0m \u001b[0;32mfor\u001b[0m \u001b[0mi\u001b[0m \u001b[0;32min\u001b[0m \u001b[0mrange\u001b[0m\u001b[0;34m(\u001b[0m\u001b[0mlen\u001b[0m\u001b[0;34m(\u001b[0m\u001b[0mdemo_loc\u001b[0m\u001b[0;34m)\u001b[0m\u001b[0;34m)\u001b[0m\u001b[0;34m:\u001b[0m\u001b[0;34m\u001b[0m\u001b[0;34m\u001b[0m\u001b[0m\n\u001b[0;32m----> 6\u001b[0;31m     \u001b[0mwnd_lst\u001b[0m \u001b[0;34m=\u001b[0m \u001b[0msim_item\u001b[0m\u001b[0;34m(\u001b[0m\u001b[0mwnd_vec\u001b[0m\u001b[0;34m,\u001b[0m \u001b[0mnew_df\u001b[0m\u001b[0;34m,\u001b[0m \u001b[0mdemo_loc\u001b[0m\u001b[0;34m.\u001b[0m\u001b[0miloc\u001b[0m\u001b[0;34m[\u001b[0m\u001b[0mi\u001b[0m\u001b[0;34m,\u001b[0m\u001b[0;36m1\u001b[0m\u001b[0;34m]\u001b[0m\u001b[0;34m)\u001b[0m\u001b[0;34m\u001b[0m\u001b[0;34m\u001b[0m\u001b[0m\n\u001b[0m\u001b[1;32m      7\u001b[0m     \u001b[0mdeepfm_lst\u001b[0m \u001b[0;34m=\u001b[0m \u001b[0msim_item\u001b[0m\u001b[0;34m(\u001b[0m\u001b[0mdeepfm_vec\u001b[0m\u001b[0;34m,\u001b[0m \u001b[0mnew_df\u001b[0m\u001b[0;34m,\u001b[0m \u001b[0mdemo_loc\u001b[0m\u001b[0;34m.\u001b[0m\u001b[0miloc\u001b[0m\u001b[0;34m[\u001b[0m\u001b[0mi\u001b[0m\u001b[0;34m,\u001b[0m\u001b[0;36m1\u001b[0m\u001b[0;34m]\u001b[0m\u001b[0;34m)\u001b[0m\u001b[0;34m\u001b[0m\u001b[0;34m\u001b[0m\u001b[0m\n\u001b[1;32m      8\u001b[0m     \u001b[0mwnd_lst\u001b[0m\u001b[0;34m.\u001b[0m\u001b[0mappend\u001b[0m\u001b[0;34m(\u001b[0m\u001b[0mdeepfm_lst\u001b[0m\u001b[0;34m)\u001b[0m\u001b[0;34m\u001b[0m\u001b[0;34m\u001b[0m\u001b[0m\n",
      "\u001b[0;32m<ipython-input-5-14c333b84934>\u001b[0m in \u001b[0;36msim_item\u001b[0;34m(vec, df, item_id)\u001b[0m\n\u001b[1;32m     33\u001b[0m     \u001b[0mdf\u001b[0m \u001b[0;34m=\u001b[0m \u001b[0mdf\u001b[0m\u001b[0;34m.\u001b[0m\u001b[0mdrop_duplicates\u001b[0m\u001b[0;34m(\u001b[0m\u001b[0;34m[\u001b[0m\u001b[0;34m'locationId'\u001b[0m\u001b[0;34m]\u001b[0m\u001b[0;34m,\u001b[0m \u001b[0mkeep\u001b[0m\u001b[0;34m=\u001b[0m\u001b[0;34m'last'\u001b[0m\u001b[0;34m)\u001b[0m\u001b[0;34m\u001b[0m\u001b[0;34m\u001b[0m\u001b[0m\n\u001b[1;32m     34\u001b[0m     \u001b[0mrecommend_rst\u001b[0m \u001b[0;34m=\u001b[0m \u001b[0;34m[\u001b[0m\u001b[0;34m]\u001b[0m\u001b[0;34m\u001b[0m\u001b[0;34m\u001b[0m\u001b[0m\n\u001b[0;32m---> 35\u001b[0;31m     \u001b[0;32mfor\u001b[0m \u001b[0mx\u001b[0m \u001b[0;32min\u001b[0m \u001b[0mtop_id\u001b[0m\u001b[0;34m:\u001b[0m\u001b[0;34m\u001b[0m\u001b[0;34m\u001b[0m\u001b[0m\n\u001b[0m\u001b[1;32m     36\u001b[0m         \u001b[0;32mif\u001b[0m \u001b[0mdf\u001b[0m\u001b[0;34m.\u001b[0m\u001b[0mloc\u001b[0m\u001b[0;34m[\u001b[0m\u001b[0mdf\u001b[0m\u001b[0;34m[\u001b[0m\u001b[0;34m'locationId'\u001b[0m\u001b[0;34m]\u001b[0m\u001b[0;34m==\u001b[0m\u001b[0mx\u001b[0m\u001b[0;34m]\u001b[0m\u001b[0;34m.\u001b[0m\u001b[0mcategory\u001b[0m\u001b[0;34m.\u001b[0m\u001b[0mvalues\u001b[0m\u001b[0;34m[\u001b[0m\u001b[0;36m0\u001b[0m\u001b[0;34m]\u001b[0m\u001b[0;34m==\u001b[0m \u001b[0;34m'EAT'\u001b[0m\u001b[0;34m:\u001b[0m\u001b[0;34m\u001b[0m\u001b[0;34m\u001b[0m\u001b[0m\n\u001b[1;32m     37\u001b[0m             \u001b[0mrecommend_rst\u001b[0m\u001b[0;34m.\u001b[0m\u001b[0mappend\u001b[0m\u001b[0;34m(\u001b[0m\u001b[0;34m[\u001b[0m\u001b[0mdf\u001b[0m\u001b[0;34m.\u001b[0m\u001b[0mloc\u001b[0m\u001b[0;34m[\u001b[0m\u001b[0mdf\u001b[0m\u001b[0;34m[\u001b[0m\u001b[0;34m'locationId'\u001b[0m\u001b[0;34m]\u001b[0m\u001b[0;34m==\u001b[0m\u001b[0mx\u001b[0m\u001b[0;34m]\u001b[0m\u001b[0;34m[\u001b[0m\u001b[0;34m[\u001b[0m\u001b[0;34m'place.name'\u001b[0m\u001b[0;34m,\u001b[0m \u001b[0;34m'land.addr'\u001b[0m\u001b[0;34m]\u001b[0m\u001b[0;34m]\u001b[0m\u001b[0;34m]\u001b[0m\u001b[0;34m)\u001b[0m\u001b[0;34m\u001b[0m\u001b[0;34m\u001b[0m\u001b[0m\n",
      "\u001b[0;31mTypeError\u001b[0m: 'NoneType' object is not iterable"
     ]
    }
   ],
   "source": [
    "# 해당아이템의 유사도순 관련 아이템 정렬 리스트\n",
    "import pickle\n",
    "import random\n",
    "\n",
    "for i in range(len(demo_loc)):\n",
    "    wnd_lst = sim_item(wnd_vec, new_df, demo_loc.iloc[i,1])\n",
    "    deepfm_lst = sim_item(deepfm_vec, new_df, demo_loc.iloc[i,1])\n",
    "    wnd_lst.append(deepfm_lst)\n",
    "    wnd_lst = random.sample(wnd_lst, 10)\n",
    "    \n",
    "    path = os.path.join(\"..\",'..',\"data\",\"sim_data_ensemble\")\n",
    "    if not os.path.exists(path):\n",
    "        os.makedirs(path)\n",
    "    \n",
    "    with open(os.path.join(path, '{}_sim'.format(demo_loc.iloc[i,0])), 'wb') as f:\n",
    "        pickle.dump(wnd_lst, f, pickle.HIGHEST_PROTOCOL)"
   ]
  },
  {
   "cell_type": "code",
   "execution_count": 25,
   "metadata": {},
   "outputs": [
    {
     "output_type": "execute_result",
     "data": {
      "text/plain": "15888"
     },
     "metadata": {},
     "execution_count": 25
    }
   ],
   "source": [
    "new_df['locationId'].nunique()"
   ]
  },
  {
   "cell_type": "code",
   "execution_count": 24,
   "metadata": {},
   "outputs": [
    {
     "output_type": "execute_result",
     "data": {
      "text/plain": "143"
     },
     "metadata": {},
     "execution_count": 24
    }
   ],
   "source": [
    "demo_loc['locationId'].nunique()"
   ]
  },
  {
   "cell_type": "code",
   "execution_count": null,
   "metadata": {},
   "outputs": [],
   "source": []
  }
 ],
 "metadata": {
  "language_info": {
   "codemirror_mode": {
    "name": "ipython",
    "version": 3
   },
   "file_extension": ".py",
   "mimetype": "text/x-python",
   "name": "python",
   "nbconvert_exporter": "python",
   "pygments_lexer": "ipython3",
   "version": 3
  },
  "orig_nbformat": 2,
  "kernelspec": {
   "name": "python_defaultSpec_1594515038026",
   "display_name": "Python 3.7.6 64-bit ('base': conda)"
  }
 },
 "nbformat": 4,
 "nbformat_minor": 2
}