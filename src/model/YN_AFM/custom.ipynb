{
 "cells": [
  {
   "cell_type": "markdown",
   "metadata": {},
   "source": [
    "# Preprocess"
   ]
  },
  {
   "cell_type": "code",
   "execution_count": 145,
   "metadata": {},
   "outputs": [
    {
     "output_type": "execute_result",
     "data": {
      "text/plain": "   locationId place.name  ... category_l                    land.addr\n0      788542     마르코 폴로  ...          1  서울 강남구 삼성동 159-1 트레이드타워 52층\n1      788542     마르코 폴로  ...          1  서울 강남구 삼성동 159-1 트레이드타워 52층\n2      788542     마르코 폴로  ...          1  서울 강남구 삼성동 159-1 트레이드타워 52층\n3      788542     마르코 폴로  ...          1  서울 강남구 삼성동 159-1 트레이드타워 52층\n4      788542     마르코 폴로  ...          1  서울 강남구 삼성동 159-1 트레이드타워 52층\n\n[5 rows x 16 columns]",
      "text/html": "<div>\n<style scoped>\n    .dataframe tbody tr th:only-of-type {\n        vertical-align: middle;\n    }\n\n    .dataframe tbody tr th {\n        vertical-align: top;\n    }\n\n    .dataframe thead th {\n        text-align: right;\n    }\n</style>\n<table border=\"1\" class=\"dataframe\">\n  <thead>\n    <tr style=\"text-align: right;\">\n      <th></th>\n      <th>locationId</th>\n      <th>place.name</th>\n      <th>category</th>\n      <th>rating</th>\n      <th>createdDate</th>\n      <th>is_fch</th>\n      <th>photonum</th>\n      <th>is_local</th>\n      <th>rated_count</th>\n      <th>average_photonum</th>\n      <th>average_rating</th>\n      <th>user_mean_rating</th>\n      <th>user_reviewcount</th>\n      <th>userID</th>\n      <th>category_l</th>\n      <th>land.addr</th>\n    </tr>\n  </thead>\n  <tbody>\n    <tr>\n      <th>0</th>\n      <td>788542</td>\n      <td>마르코 폴로</td>\n      <td>EAT</td>\n      <td>5.0</td>\n      <td>20180314</td>\n      <td>0</td>\n      <td>0</td>\n      <td>1</td>\n      <td>20</td>\n      <td>0.05</td>\n      <td>3.95</td>\n      <td>4.363636</td>\n      <td>11</td>\n      <td>14256</td>\n      <td>1</td>\n      <td>서울 강남구 삼성동 159-1 트레이드타워 52층</td>\n    </tr>\n    <tr>\n      <th>1</th>\n      <td>788542</td>\n      <td>마르코 폴로</td>\n      <td>EAT</td>\n      <td>4.0</td>\n      <td>20171207</td>\n      <td>0</td>\n      <td>0</td>\n      <td>1</td>\n      <td>20</td>\n      <td>0.05</td>\n      <td>3.95</td>\n      <td>4.000000</td>\n      <td>6</td>\n      <td>722</td>\n      <td>1</td>\n      <td>서울 강남구 삼성동 159-1 트레이드타워 52층</td>\n    </tr>\n    <tr>\n      <th>2</th>\n      <td>788542</td>\n      <td>마르코 폴로</td>\n      <td>EAT</td>\n      <td>5.0</td>\n      <td>20161110</td>\n      <td>0</td>\n      <td>0</td>\n      <td>0</td>\n      <td>20</td>\n      <td>0.05</td>\n      <td>3.95</td>\n      <td>5.000000</td>\n      <td>1</td>\n      <td>30372</td>\n      <td>1</td>\n      <td>서울 강남구 삼성동 159-1 트레이드타워 52층</td>\n    </tr>\n    <tr>\n      <th>3</th>\n      <td>788542</td>\n      <td>마르코 폴로</td>\n      <td>EAT</td>\n      <td>3.0</td>\n      <td>20160611</td>\n      <td>0</td>\n      <td>0</td>\n      <td>0</td>\n      <td>20</td>\n      <td>0.05</td>\n      <td>3.95</td>\n      <td>4.250000</td>\n      <td>4</td>\n      <td>2116</td>\n      <td>1</td>\n      <td>서울 강남구 삼성동 159-1 트레이드타워 52층</td>\n    </tr>\n    <tr>\n      <th>4</th>\n      <td>788542</td>\n      <td>마르코 폴로</td>\n      <td>EAT</td>\n      <td>4.0</td>\n      <td>20151204</td>\n      <td>0</td>\n      <td>0</td>\n      <td>1</td>\n      <td>20</td>\n      <td>0.05</td>\n      <td>3.95</td>\n      <td>4.095238</td>\n      <td>42</td>\n      <td>3208</td>\n      <td>1</td>\n      <td>서울 강남구 삼성동 159-1 트레이드타워 52층</td>\n    </tr>\n  </tbody>\n</table>\n</div>"
     },
     "metadata": {},
     "execution_count": 145
    }
   ],
   "source": [
    "# Preprocess\n",
    "import config\n",
    "import pandas as pd\n",
    "from sklearn.preprocessing import MinMaxScaler, LabelEncoder\n",
    "\n",
    "file_path = os.path.join(\"data\",\"YN_final_df.csv\")\n",
    "file = pd.read_csv(file_path)\n",
    "file.head()"
   ]
  },
  {
   "cell_type": "code",
   "execution_count": 146,
   "metadata": {},
   "outputs": [
    {
     "output_type": "execute_result",
     "data": {
      "text/plain": "array([2018, 2017, 2016, 2015, 2014, 2013, 2020, 2019, 2012, 2011, 2010,\n       2009, 2008, 2001, 2002, 2005, 2003, 2000, 2006, 2004, 1999, 1991,\n       2007])"
     },
     "metadata": {},
     "execution_count": 146
    }
   ],
   "source": [
    "file['createdDate'].apply(lambda x: int(str(x)[:4])).unique()"
   ]
  },
  {
   "cell_type": "markdown",
   "metadata": {},
   "source": [
    "1990년대는 뭐지...?  \n",
    "-> 90년대부터 맛집이냐... or 사라졌냐?"
   ]
  },
  {
   "cell_type": "code",
   "execution_count": 148,
   "metadata": {},
   "outputs": [
    {
     "output_type": "execute_result",
     "data": {
      "text/plain": "        locationId     place.name  ... category_l                   land.addr\n177080    36241217  모범떡볶이1976 길동점  ...          0  서울특별시 강동구 길동 415-13 강동큐브2차\n\n[1 rows x 16 columns]",
      "text/html": "<div>\n<style scoped>\n    .dataframe tbody tr th:only-of-type {\n        vertical-align: middle;\n    }\n\n    .dataframe tbody tr th {\n        vertical-align: top;\n    }\n\n    .dataframe thead th {\n        text-align: right;\n    }\n</style>\n<table border=\"1\" class=\"dataframe\">\n  <thead>\n    <tr style=\"text-align: right;\">\n      <th></th>\n      <th>locationId</th>\n      <th>place.name</th>\n      <th>category</th>\n      <th>rating</th>\n      <th>createdDate</th>\n      <th>is_fch</th>\n      <th>photonum</th>\n      <th>is_local</th>\n      <th>rated_count</th>\n      <th>average_photonum</th>\n      <th>average_rating</th>\n      <th>user_mean_rating</th>\n      <th>user_reviewcount</th>\n      <th>userID</th>\n      <th>category_l</th>\n      <th>land.addr</th>\n    </tr>\n  </thead>\n  <tbody>\n    <tr>\n      <th>177080</th>\n      <td>36241217</td>\n      <td>모범떡볶이1976 길동점</td>\n      <td>EAT</td>\n      <td>4.723214</td>\n      <td>19990727</td>\n      <td>1</td>\n      <td>0</td>\n      <td>1</td>\n      <td>48</td>\n      <td>0.229167</td>\n      <td>4.723214</td>\n      <td>4.38928</td>\n      <td>26</td>\n      <td>12530</td>\n      <td>0</td>\n      <td>서울특별시 강동구 길동 415-13 강동큐브2차</td>\n    </tr>\n  </tbody>\n</table>\n</div>"
     },
     "metadata": {},
     "execution_count": 148
    }
   ],
   "source": [
    "file.loc[file['createdDate'].apply(lambda x: int(str(x)[:4]))==1999]['locationId']"
   ]
  },
  {
   "cell_type": "code",
   "execution_count": 153,
   "metadata": {},
   "outputs": [
    {
     "output_type": "execute_result",
     "data": {
      "text/plain": "36241217"
     },
     "metadata": {},
     "execution_count": 153
    }
   ],
   "source": [
    "file.loc[file['createdDate'].apply(lambda x: int(str(x)[:4]))==1999]['locationId'].values[0]"
   ]
  },
  {
   "cell_type": "markdown",
   "metadata": {},
   "source": [
    "wow 오래된 맛집 굿"
   ]
  },
  {
   "cell_type": "code",
   "execution_count": 155,
   "metadata": {},
   "outputs": [
    {
     "output_type": "execute_result",
     "data": {
      "text/plain": "        locationId     place.name  ... category_l                   land.addr\n102548    36241217  모범떡볶이1976 길동점  ...          0  서울특별시 강동구 길동 415-13 강동큐브2차\n102786    36241217  모범떡볶이1976 길동점  ...          0  서울특별시 강동구 길동 415-13 강동큐브2차\n124417    36241217  모범떡볶이1976 길동점  ...          0  서울특별시 강동구 길동 415-13 강동큐브2차\n135012    36241217  모범떡볶이1976 길동점  ...          0  서울특별시 강동구 길동 415-13 강동큐브2차\n165601    36241217  모범떡볶이1976 길동점  ...          0  서울특별시 강동구 길동 415-13 강동큐브2차\n170714    36241217  모범떡볶이1976 길동점  ...          0  서울특별시 강동구 길동 415-13 강동큐브2차\n175162    36241217  모범떡볶이1976 길동점  ...          0  서울특별시 강동구 길동 415-13 강동큐브2차\n175461    36241217  모범떡볶이1976 길동점  ...          0  서울특별시 강동구 길동 415-13 강동큐브2차\n177080    36241217  모범떡볶이1976 길동점  ...          0  서울특별시 강동구 길동 415-13 강동큐브2차\n179768    36241217  모범떡볶이1976 길동점  ...          0  서울특별시 강동구 길동 415-13 강동큐브2차\n186368    36241217  모범떡볶이1976 길동점  ...          0  서울특별시 강동구 길동 415-13 강동큐브2차\n198720    36241217  모범떡볶이1976 길동점  ...          0  서울특별시 강동구 길동 415-13 강동큐브2차\n207149    36241217  모범떡볶이1976 길동점  ...          0  서울특별시 강동구 길동 415-13 강동큐브2차\n217843    36241217  모범떡볶이1976 길동점  ...          0  서울특별시 강동구 길동 415-13 강동큐브2차\n227253    36241217  모범떡볶이1976 길동점  ...          0  서울특별시 강동구 길동 415-13 강동큐브2차\n227849    36241217  모범떡볶이1976 길동점  ...          0  서울특별시 강동구 길동 415-13 강동큐브2차\n236765    36241217  모범떡볶이1976 길동점  ...          0  서울특별시 강동구 길동 415-13 강동큐브2차\n241548    36241217  모범떡볶이1976 길동점  ...          0  서울특별시 강동구 길동 415-13 강동큐브2차\n251475    36241217  모범떡볶이1976 길동점  ...          0  서울특별시 강동구 길동 415-13 강동큐브2차\n256392    36241217  모범떡볶이1976 길동점  ...          0  서울특별시 강동구 길동 415-13 강동큐브2차\n256433    36241217  모범떡볶이1976 길동점  ...          0  서울특별시 강동구 길동 415-13 강동큐브2차\n271516    36241217  모범떡볶이1976 길동점  ...          0  서울특별시 강동구 길동 415-13 강동큐브2차\n283580    36241217  모범떡볶이1976 길동점  ...          0  서울특별시 강동구 길동 415-13 강동큐브2차\n304914    36241217  모범떡볶이1976 길동점  ...          0  서울특별시 강동구 길동 415-13 강동큐브2차\n316033    36241217  모범떡볶이1976 길동점  ...          0  서울특별시 강동구 길동 415-13 강동큐브2차\n326000    36241217  모범떡볶이1976 길동점  ...          0  서울특별시 강동구 길동 415-13 강동큐브2차\n330127    36241217  모범떡볶이1976 길동점  ...          0  서울특별시 강동구 길동 415-13 강동큐브2차\n336602    36241217  모범떡볶이1976 길동점  ...          0  서울특별시 강동구 길동 415-13 강동큐브2차\n346274    36241217  모범떡볶이1976 길동점  ...          0  서울특별시 강동구 길동 415-13 강동큐브2차\n367268    36241217  모범떡볶이1976 길동점  ...          0  서울특별시 강동구 길동 415-13 강동큐브2차\n383277    36241217  모범떡볶이1976 길동점  ...          0  서울특별시 강동구 길동 415-13 강동큐브2차\n383297    36241217  모범떡볶이1976 길동점  ...          0  서울특별시 강동구 길동 415-13 강동큐브2차\n388414    36241217  모범떡볶이1976 길동점  ...          0  서울특별시 강동구 길동 415-13 강동큐브2차\n393653    36241217  모범떡볶이1976 길동점  ...          0  서울특별시 강동구 길동 415-13 강동큐브2차\n393676    36241217  모범떡볶이1976 길동점  ...          0  서울특별시 강동구 길동 415-13 강동큐브2차\n404068    36241217  모범떡볶이1976 길동점  ...          0  서울특별시 강동구 길동 415-13 강동큐브2차\n410308    36241217  모범떡볶이1976 길동점  ...          0  서울특별시 강동구 길동 415-13 강동큐브2차\n422013    36241217  모범떡볶이1976 길동점  ...          0  서울특별시 강동구 길동 415-13 강동큐브2차\n422022    36241217  모범떡볶이1976 길동점  ...          0  서울특별시 강동구 길동 415-13 강동큐브2차\n424896    36241217  모범떡볶이1976 길동점  ...          0  서울특별시 강동구 길동 415-13 강동큐브2차\n424982    36241217  모범떡볶이1976 길동점  ...          0  서울특별시 강동구 길동 415-13 강동큐브2차\n424983    36241217  모범떡볶이1976 길동점  ...          0  서울특별시 강동구 길동 415-13 강동큐브2차\n424984    36241217  모범떡볶이1976 길동점  ...          0  서울특별시 강동구 길동 415-13 강동큐브2차\n424985    36241217  모범떡볶이1976 길동점  ...          0  서울특별시 강동구 길동 415-13 강동큐브2차\n424986    36241217  모범떡볶이1976 길동점  ...          0  서울특별시 강동구 길동 415-13 강동큐브2차\n424987    36241217  모범떡볶이1976 길동점  ...          0  서울특별시 강동구 길동 415-13 강동큐브2차\n424989    36241217  모범떡볶이1976 길동점  ...          0  서울특별시 강동구 길동 415-13 강동큐브2차\n424990    36241217  모범떡볶이1976 길동점  ...          0  서울특별시 강동구 길동 415-13 강동큐브2차\n\n[48 rows x 16 columns]",
      "text/html": "<div>\n<style scoped>\n    .dataframe tbody tr th:only-of-type {\n        vertical-align: middle;\n    }\n\n    .dataframe tbody tr th {\n        vertical-align: top;\n    }\n\n    .dataframe thead th {\n        text-align: right;\n    }\n</style>\n<table border=\"1\" class=\"dataframe\">\n  <thead>\n    <tr style=\"text-align: right;\">\n      <th></th>\n      <th>locationId</th>\n      <th>place.name</th>\n      <th>category</th>\n      <th>rating</th>\n      <th>createdDate</th>\n      <th>is_fch</th>\n      <th>photonum</th>\n      <th>is_local</th>\n      <th>rated_count</th>\n      <th>average_photonum</th>\n      <th>average_rating</th>\n      <th>user_mean_rating</th>\n      <th>user_reviewcount</th>\n      <th>userID</th>\n      <th>category_l</th>\n      <th>land.addr</th>\n    </tr>\n  </thead>\n  <tbody>\n    <tr>\n      <th>102548</th>\n      <td>36241217</td>\n      <td>모범떡볶이1976 길동점</td>\n      <td>EAT</td>\n      <td>4.723214</td>\n      <td>20200105</td>\n      <td>1</td>\n      <td>0</td>\n      <td>1</td>\n      <td>48</td>\n      <td>0.229167</td>\n      <td>4.723214</td>\n      <td>4.405122</td>\n      <td>73</td>\n      <td>16008</td>\n      <td>0</td>\n      <td>서울특별시 강동구 길동 415-13 강동큐브2차</td>\n    </tr>\n    <tr>\n      <th>102786</th>\n      <td>36241217</td>\n      <td>모범떡볶이1976 길동점</td>\n      <td>EAT</td>\n      <td>4.723214</td>\n      <td>20200427</td>\n      <td>1</td>\n      <td>0</td>\n      <td>1</td>\n      <td>48</td>\n      <td>0.229167</td>\n      <td>4.723214</td>\n      <td>4.438189</td>\n      <td>28</td>\n      <td>15179</td>\n      <td>0</td>\n      <td>서울특별시 강동구 길동 415-13 강동큐브2차</td>\n    </tr>\n    <tr>\n      <th>124417</th>\n      <td>36241217</td>\n      <td>모범떡볶이1976 길동점</td>\n      <td>EAT</td>\n      <td>4.723214</td>\n      <td>20200519</td>\n      <td>1</td>\n      <td>0</td>\n      <td>1</td>\n      <td>48</td>\n      <td>0.229167</td>\n      <td>4.723214</td>\n      <td>4.406799</td>\n      <td>31</td>\n      <td>103662</td>\n      <td>0</td>\n      <td>서울특별시 강동구 길동 415-13 강동큐브2차</td>\n    </tr>\n    <tr>\n      <th>135012</th>\n      <td>36241217</td>\n      <td>모범떡볶이1976 길동점</td>\n      <td>EAT</td>\n      <td>4.723214</td>\n      <td>20200329</td>\n      <td>1</td>\n      <td>0</td>\n      <td>1</td>\n      <td>48</td>\n      <td>0.229167</td>\n      <td>4.723214</td>\n      <td>4.469305</td>\n      <td>29</td>\n      <td>13886</td>\n      <td>0</td>\n      <td>서울특별시 강동구 길동 415-13 강동큐브2차</td>\n    </tr>\n    <tr>\n      <th>165601</th>\n      <td>36241217</td>\n      <td>모범떡볶이1976 길동점</td>\n      <td>EAT</td>\n      <td>4.723214</td>\n      <td>20190817</td>\n      <td>1</td>\n      <td>0</td>\n      <td>1</td>\n      <td>48</td>\n      <td>0.229167</td>\n      <td>4.723214</td>\n      <td>4.459689</td>\n      <td>38</td>\n      <td>21030</td>\n      <td>0</td>\n      <td>서울특별시 강동구 길동 415-13 강동큐브2차</td>\n    </tr>\n    <tr>\n      <th>170714</th>\n      <td>36241217</td>\n      <td>모범떡볶이1976 길동점</td>\n      <td>EAT</td>\n      <td>4.723214</td>\n      <td>20190426</td>\n      <td>1</td>\n      <td>0</td>\n      <td>1</td>\n      <td>48</td>\n      <td>0.229167</td>\n      <td>4.723214</td>\n      <td>4.387972</td>\n      <td>60</td>\n      <td>100497</td>\n      <td>0</td>\n      <td>서울특별시 강동구 길동 415-13 강동큐브2차</td>\n    </tr>\n    <tr>\n      <th>175162</th>\n      <td>36241217</td>\n      <td>모범떡볶이1976 길동점</td>\n      <td>EAT</td>\n      <td>4.723214</td>\n      <td>20200228</td>\n      <td>1</td>\n      <td>0</td>\n      <td>1</td>\n      <td>48</td>\n      <td>0.229167</td>\n      <td>4.723214</td>\n      <td>4.429296</td>\n      <td>60</td>\n      <td>22809</td>\n      <td>0</td>\n      <td>서울특별시 강동구 길동 415-13 강동큐브2차</td>\n    </tr>\n    <tr>\n      <th>175461</th>\n      <td>36241217</td>\n      <td>모범떡볶이1976 길동점</td>\n      <td>EAT</td>\n      <td>4.723214</td>\n      <td>20200228</td>\n      <td>1</td>\n      <td>0</td>\n      <td>1</td>\n      <td>48</td>\n      <td>0.229167</td>\n      <td>4.723214</td>\n      <td>4.461993</td>\n      <td>50</td>\n      <td>11729</td>\n      <td>0</td>\n      <td>서울특별시 강동구 길동 415-13 강동큐브2차</td>\n    </tr>\n    <tr>\n      <th>177080</th>\n      <td>36241217</td>\n      <td>모범떡볶이1976 길동점</td>\n      <td>EAT</td>\n      <td>4.723214</td>\n      <td>19990727</td>\n      <td>1</td>\n      <td>0</td>\n      <td>1</td>\n      <td>48</td>\n      <td>0.229167</td>\n      <td>4.723214</td>\n      <td>4.389280</td>\n      <td>26</td>\n      <td>12530</td>\n      <td>0</td>\n      <td>서울특별시 강동구 길동 415-13 강동큐브2차</td>\n    </tr>\n    <tr>\n      <th>179768</th>\n      <td>36241217</td>\n      <td>모범떡볶이1976 길동점</td>\n      <td>EAT</td>\n      <td>4.723214</td>\n      <td>20200228</td>\n      <td>1</td>\n      <td>0</td>\n      <td>1</td>\n      <td>48</td>\n      <td>0.229167</td>\n      <td>4.723214</td>\n      <td>4.424987</td>\n      <td>59</td>\n      <td>101677</td>\n      <td>0</td>\n      <td>서울특별시 강동구 길동 415-13 강동큐브2차</td>\n    </tr>\n    <tr>\n      <th>186368</th>\n      <td>36241217</td>\n      <td>모범떡볶이1976 길동점</td>\n      <td>EAT</td>\n      <td>4.723214</td>\n      <td>20200214</td>\n      <td>1</td>\n      <td>1</td>\n      <td>1</td>\n      <td>48</td>\n      <td>0.229167</td>\n      <td>4.723214</td>\n      <td>4.455906</td>\n      <td>15</td>\n      <td>100124</td>\n      <td>0</td>\n      <td>서울특별시 강동구 길동 415-13 강동큐브2차</td>\n    </tr>\n    <tr>\n      <th>198720</th>\n      <td>36241217</td>\n      <td>모범떡볶이1976 길동점</td>\n      <td>EAT</td>\n      <td>4.723214</td>\n      <td>20200306</td>\n      <td>1</td>\n      <td>0</td>\n      <td>1</td>\n      <td>48</td>\n      <td>0.229167</td>\n      <td>4.723214</td>\n      <td>4.339127</td>\n      <td>12</td>\n      <td>23508</td>\n      <td>0</td>\n      <td>서울특별시 강동구 길동 415-13 강동큐브2차</td>\n    </tr>\n    <tr>\n      <th>207149</th>\n      <td>36241217</td>\n      <td>모범떡볶이1976 길동점</td>\n      <td>EAT</td>\n      <td>4.723214</td>\n      <td>20190903</td>\n      <td>1</td>\n      <td>0</td>\n      <td>1</td>\n      <td>48</td>\n      <td>0.229167</td>\n      <td>4.723214</td>\n      <td>4.451750</td>\n      <td>27</td>\n      <td>44067</td>\n      <td>0</td>\n      <td>서울특별시 강동구 길동 415-13 강동큐브2차</td>\n    </tr>\n    <tr>\n      <th>217843</th>\n      <td>36241217</td>\n      <td>모범떡볶이1976 길동점</td>\n      <td>EAT</td>\n      <td>4.723214</td>\n      <td>20200306</td>\n      <td>1</td>\n      <td>0</td>\n      <td>1</td>\n      <td>48</td>\n      <td>0.229167</td>\n      <td>4.723214</td>\n      <td>4.411331</td>\n      <td>5</td>\n      <td>13196</td>\n      <td>0</td>\n      <td>서울특별시 강동구 길동 415-13 강동큐브2차</td>\n    </tr>\n    <tr>\n      <th>227253</th>\n      <td>36241217</td>\n      <td>모범떡볶이1976 길동점</td>\n      <td>EAT</td>\n      <td>4.723214</td>\n      <td>20200110</td>\n      <td>1</td>\n      <td>0</td>\n      <td>1</td>\n      <td>48</td>\n      <td>0.229167</td>\n      <td>4.723214</td>\n      <td>4.480655</td>\n      <td>14</td>\n      <td>103389</td>\n      <td>0</td>\n      <td>서울특별시 강동구 길동 415-13 강동큐브2차</td>\n    </tr>\n    <tr>\n      <th>227849</th>\n      <td>36241217</td>\n      <td>모범떡볶이1976 길동점</td>\n      <td>EAT</td>\n      <td>4.723214</td>\n      <td>20191008</td>\n      <td>1</td>\n      <td>0</td>\n      <td>1</td>\n      <td>48</td>\n      <td>0.229167</td>\n      <td>4.723214</td>\n      <td>4.465566</td>\n      <td>63</td>\n      <td>5376</td>\n      <td>0</td>\n      <td>서울특별시 강동구 길동 415-13 강동큐브2차</td>\n    </tr>\n    <tr>\n      <th>236765</th>\n      <td>36241217</td>\n      <td>모범떡볶이1976 길동점</td>\n      <td>EAT</td>\n      <td>4.723214</td>\n      <td>20190405</td>\n      <td>1</td>\n      <td>0</td>\n      <td>1</td>\n      <td>48</td>\n      <td>0.229167</td>\n      <td>4.723214</td>\n      <td>4.512731</td>\n      <td>26</td>\n      <td>11078</td>\n      <td>0</td>\n      <td>서울특별시 강동구 길동 415-13 강동큐브2차</td>\n    </tr>\n    <tr>\n      <th>241548</th>\n      <td>36241217</td>\n      <td>모범떡볶이1976 길동점</td>\n      <td>EAT</td>\n      <td>4.723214</td>\n      <td>20200303</td>\n      <td>1</td>\n      <td>0</td>\n      <td>1</td>\n      <td>48</td>\n      <td>0.229167</td>\n      <td>4.723214</td>\n      <td>4.486285</td>\n      <td>8</td>\n      <td>53946</td>\n      <td>0</td>\n      <td>서울특별시 강동구 길동 415-13 강동큐브2차</td>\n    </tr>\n    <tr>\n      <th>251475</th>\n      <td>36241217</td>\n      <td>모범떡볶이1976 길동점</td>\n      <td>EAT</td>\n      <td>4.723214</td>\n      <td>20191127</td>\n      <td>1</td>\n      <td>0</td>\n      <td>1</td>\n      <td>48</td>\n      <td>0.229167</td>\n      <td>4.723214</td>\n      <td>4.451125</td>\n      <td>36</td>\n      <td>25042</td>\n      <td>0</td>\n      <td>서울특별시 강동구 길동 415-13 강동큐브2차</td>\n    </tr>\n    <tr>\n      <th>256392</th>\n      <td>36241217</td>\n      <td>모범떡볶이1976 길동점</td>\n      <td>EAT</td>\n      <td>4.723214</td>\n      <td>20200315</td>\n      <td>1</td>\n      <td>2</td>\n      <td>1</td>\n      <td>48</td>\n      <td>0.229167</td>\n      <td>4.723214</td>\n      <td>4.472310</td>\n      <td>5</td>\n      <td>6275</td>\n      <td>0</td>\n      <td>서울특별시 강동구 길동 415-13 강동큐브2차</td>\n    </tr>\n    <tr>\n      <th>256433</th>\n      <td>36241217</td>\n      <td>모범떡볶이1976 길동점</td>\n      <td>EAT</td>\n      <td>4.723214</td>\n      <td>20200227</td>\n      <td>1</td>\n      <td>5</td>\n      <td>1</td>\n      <td>48</td>\n      <td>0.229167</td>\n      <td>4.723214</td>\n      <td>4.404174</td>\n      <td>21</td>\n      <td>55275</td>\n      <td>0</td>\n      <td>서울특별시 강동구 길동 415-13 강동큐브2차</td>\n    </tr>\n    <tr>\n      <th>271516</th>\n      <td>36241217</td>\n      <td>모범떡볶이1976 길동점</td>\n      <td>EAT</td>\n      <td>4.723214</td>\n      <td>20200415</td>\n      <td>1</td>\n      <td>1</td>\n      <td>1</td>\n      <td>48</td>\n      <td>0.229167</td>\n      <td>4.723214</td>\n      <td>4.362308</td>\n      <td>43</td>\n      <td>25429</td>\n      <td>0</td>\n      <td>서울특별시 강동구 길동 415-13 강동큐브2차</td>\n    </tr>\n    <tr>\n      <th>283580</th>\n      <td>36241217</td>\n      <td>모범떡볶이1976 길동점</td>\n      <td>EAT</td>\n      <td>4.723214</td>\n      <td>20200509</td>\n      <td>1</td>\n      <td>0</td>\n      <td>1</td>\n      <td>48</td>\n      <td>0.229167</td>\n      <td>4.723214</td>\n      <td>4.453706</td>\n      <td>35</td>\n      <td>7836</td>\n      <td>0</td>\n      <td>서울특별시 강동구 길동 415-13 강동큐브2차</td>\n    </tr>\n    <tr>\n      <th>304914</th>\n      <td>36241217</td>\n      <td>모범떡볶이1976 길동점</td>\n      <td>EAT</td>\n      <td>4.723214</td>\n      <td>20200214</td>\n      <td>1</td>\n      <td>0</td>\n      <td>1</td>\n      <td>48</td>\n      <td>0.229167</td>\n      <td>4.723214</td>\n      <td>4.318937</td>\n      <td>19</td>\n      <td>12445</td>\n      <td>0</td>\n      <td>서울특별시 강동구 길동 415-13 강동큐브2차</td>\n    </tr>\n    <tr>\n      <th>316033</th>\n      <td>36241217</td>\n      <td>모범떡볶이1976 길동점</td>\n      <td>EAT</td>\n      <td>4.723214</td>\n      <td>20200214</td>\n      <td>1</td>\n      <td>0</td>\n      <td>1</td>\n      <td>48</td>\n      <td>0.229167</td>\n      <td>4.723214</td>\n      <td>4.321291</td>\n      <td>17</td>\n      <td>85512</td>\n      <td>0</td>\n      <td>서울특별시 강동구 길동 415-13 강동큐브2차</td>\n    </tr>\n    <tr>\n      <th>326000</th>\n      <td>36241217</td>\n      <td>모범떡볶이1976 길동점</td>\n      <td>EAT</td>\n      <td>4.723214</td>\n      <td>20200405</td>\n      <td>1</td>\n      <td>0</td>\n      <td>1</td>\n      <td>48</td>\n      <td>0.229167</td>\n      <td>4.723214</td>\n      <td>4.508979</td>\n      <td>12</td>\n      <td>99265</td>\n      <td>0</td>\n      <td>서울특별시 강동구 길동 415-13 강동큐브2차</td>\n    </tr>\n    <tr>\n      <th>330127</th>\n      <td>36241217</td>\n      <td>모범떡볶이1976 길동점</td>\n      <td>EAT</td>\n      <td>4.723214</td>\n      <td>20200126</td>\n      <td>1</td>\n      <td>0</td>\n      <td>1</td>\n      <td>48</td>\n      <td>0.229167</td>\n      <td>4.723214</td>\n      <td>4.489339</td>\n      <td>7</td>\n      <td>25529</td>\n      <td>0</td>\n      <td>서울특별시 강동구 길동 415-13 강동큐브2차</td>\n    </tr>\n    <tr>\n      <th>336602</th>\n      <td>36241217</td>\n      <td>모범떡볶이1976 길동점</td>\n      <td>EAT</td>\n      <td>4.723214</td>\n      <td>20190224</td>\n      <td>1</td>\n      <td>0</td>\n      <td>1</td>\n      <td>48</td>\n      <td>0.229167</td>\n      <td>4.723214</td>\n      <td>4.466899</td>\n      <td>13</td>\n      <td>57086</td>\n      <td>0</td>\n      <td>서울특별시 강동구 길동 415-13 강동큐브2차</td>\n    </tr>\n    <tr>\n      <th>346274</th>\n      <td>36241217</td>\n      <td>모범떡볶이1976 길동점</td>\n      <td>EAT</td>\n      <td>4.723214</td>\n      <td>20200112</td>\n      <td>1</td>\n      <td>1</td>\n      <td>1</td>\n      <td>48</td>\n      <td>0.229167</td>\n      <td>4.723214</td>\n      <td>4.543510</td>\n      <td>2</td>\n      <td>11937</td>\n      <td>0</td>\n      <td>서울특별시 강동구 길동 415-13 강동큐브2차</td>\n    </tr>\n    <tr>\n      <th>367268</th>\n      <td>36241217</td>\n      <td>모범떡볶이1976 길동점</td>\n      <td>EAT</td>\n      <td>4.723214</td>\n      <td>20191130</td>\n      <td>1</td>\n      <td>0</td>\n      <td>1</td>\n      <td>48</td>\n      <td>0.229167</td>\n      <td>4.723214</td>\n      <td>4.577130</td>\n      <td>3</td>\n      <td>55471</td>\n      <td>0</td>\n      <td>서울특별시 강동구 길동 415-13 강동큐브2차</td>\n    </tr>\n    <tr>\n      <th>383277</th>\n      <td>36241217</td>\n      <td>모범떡볶이1976 길동점</td>\n      <td>EAT</td>\n      <td>4.723214</td>\n      <td>20200329</td>\n      <td>1</td>\n      <td>0</td>\n      <td>1</td>\n      <td>48</td>\n      <td>0.229167</td>\n      <td>4.723214</td>\n      <td>4.496904</td>\n      <td>20</td>\n      <td>85554</td>\n      <td>0</td>\n      <td>서울특별시 강동구 길동 415-13 강동큐브2차</td>\n    </tr>\n    <tr>\n      <th>383297</th>\n      <td>36241217</td>\n      <td>모범떡볶이1976 길동점</td>\n      <td>EAT</td>\n      <td>4.723214</td>\n      <td>20200329</td>\n      <td>1</td>\n      <td>0</td>\n      <td>1</td>\n      <td>48</td>\n      <td>0.229167</td>\n      <td>4.723214</td>\n      <td>4.493440</td>\n      <td>13</td>\n      <td>55525</td>\n      <td>0</td>\n      <td>서울특별시 강동구 길동 415-13 강동큐브2차</td>\n    </tr>\n    <tr>\n      <th>388414</th>\n      <td>36241217</td>\n      <td>모범떡볶이1976 길동점</td>\n      <td>EAT</td>\n      <td>4.723214</td>\n      <td>20200517</td>\n      <td>1</td>\n      <td>1</td>\n      <td>1</td>\n      <td>48</td>\n      <td>0.229167</td>\n      <td>4.723214</td>\n      <td>4.488490</td>\n      <td>4</td>\n      <td>12788</td>\n      <td>0</td>\n      <td>서울특별시 강동구 길동 415-13 강동큐브2차</td>\n    </tr>\n    <tr>\n      <th>393653</th>\n      <td>36241217</td>\n      <td>모범떡볶이1976 길동점</td>\n      <td>EAT</td>\n      <td>4.723214</td>\n      <td>20200329</td>\n      <td>1</td>\n      <td>0</td>\n      <td>1</td>\n      <td>48</td>\n      <td>0.229167</td>\n      <td>4.723214</td>\n      <td>4.485416</td>\n      <td>18</td>\n      <td>26430</td>\n      <td>0</td>\n      <td>서울특별시 강동구 길동 415-13 강동큐브2차</td>\n    </tr>\n    <tr>\n      <th>393676</th>\n      <td>36241217</td>\n      <td>모범떡볶이1976 길동점</td>\n      <td>EAT</td>\n      <td>4.723214</td>\n      <td>20200329</td>\n      <td>1</td>\n      <td>0</td>\n      <td>1</td>\n      <td>48</td>\n      <td>0.229167</td>\n      <td>4.723214</td>\n      <td>4.367217</td>\n      <td>16</td>\n      <td>102103</td>\n      <td>0</td>\n      <td>서울특별시 강동구 길동 415-13 강동큐브2차</td>\n    </tr>\n    <tr>\n      <th>404068</th>\n      <td>36241217</td>\n      <td>모범떡볶이1976 길동점</td>\n      <td>EAT</td>\n      <td>4.723214</td>\n      <td>20200329</td>\n      <td>1</td>\n      <td>0</td>\n      <td>1</td>\n      <td>48</td>\n      <td>0.229167</td>\n      <td>4.723214</td>\n      <td>4.497627</td>\n      <td>8</td>\n      <td>24009</td>\n      <td>0</td>\n      <td>서울특별시 강동구 길동 415-13 강동큐브2차</td>\n    </tr>\n    <tr>\n      <th>410308</th>\n      <td>36241217</td>\n      <td>모범떡볶이1976 길동점</td>\n      <td>EAT</td>\n      <td>4.723214</td>\n      <td>20200501</td>\n      <td>1</td>\n      <td>0</td>\n      <td>1</td>\n      <td>48</td>\n      <td>0.229167</td>\n      <td>4.723214</td>\n      <td>4.487262</td>\n      <td>5</td>\n      <td>14473</td>\n      <td>0</td>\n      <td>서울특별시 강동구 길동 415-13 강동큐브2차</td>\n    </tr>\n    <tr>\n      <th>422013</th>\n      <td>36241217</td>\n      <td>모범떡볶이1976 길동점</td>\n      <td>EAT</td>\n      <td>4.723214</td>\n      <td>20200403</td>\n      <td>1</td>\n      <td>0</td>\n      <td>1</td>\n      <td>48</td>\n      <td>0.229167</td>\n      <td>4.723214</td>\n      <td>4.379957</td>\n      <td>9</td>\n      <td>25484</td>\n      <td>0</td>\n      <td>서울특별시 강동구 길동 415-13 강동큐브2차</td>\n    </tr>\n    <tr>\n      <th>422022</th>\n      <td>36241217</td>\n      <td>모범떡볶이1976 길동점</td>\n      <td>EAT</td>\n      <td>4.723214</td>\n      <td>20200403</td>\n      <td>1</td>\n      <td>0</td>\n      <td>1</td>\n      <td>48</td>\n      <td>0.229167</td>\n      <td>4.723214</td>\n      <td>4.407554</td>\n      <td>12</td>\n      <td>14004</td>\n      <td>0</td>\n      <td>서울특별시 강동구 길동 415-13 강동큐브2차</td>\n    </tr>\n    <tr>\n      <th>424896</th>\n      <td>36241217</td>\n      <td>모범떡볶이1976 길동점</td>\n      <td>EAT</td>\n      <td>4.723214</td>\n      <td>20200329</td>\n      <td>1</td>\n      <td>0</td>\n      <td>1</td>\n      <td>48</td>\n      <td>0.229167</td>\n      <td>4.723214</td>\n      <td>4.367822</td>\n      <td>8</td>\n      <td>21935</td>\n      <td>0</td>\n      <td>서울특별시 강동구 길동 415-13 강동큐브2차</td>\n    </tr>\n    <tr>\n      <th>424982</th>\n      <td>36241217</td>\n      <td>모범떡볶이1976 길동점</td>\n      <td>EAT</td>\n      <td>4.723214</td>\n      <td>20200523</td>\n      <td>1</td>\n      <td>0</td>\n      <td>1</td>\n      <td>48</td>\n      <td>0.229167</td>\n      <td>4.723214</td>\n      <td>4.723214</td>\n      <td>1</td>\n      <td>15325</td>\n      <td>0</td>\n      <td>서울특별시 강동구 길동 415-13 강동큐브2차</td>\n    </tr>\n    <tr>\n      <th>424983</th>\n      <td>36241217</td>\n      <td>모범떡볶이1976 길동점</td>\n      <td>EAT</td>\n      <td>4.723214</td>\n      <td>20200528</td>\n      <td>1</td>\n      <td>0</td>\n      <td>1</td>\n      <td>48</td>\n      <td>0.229167</td>\n      <td>4.723214</td>\n      <td>4.723214</td>\n      <td>1</td>\n      <td>55277</td>\n      <td>0</td>\n      <td>서울특별시 강동구 길동 415-13 강동큐브2차</td>\n    </tr>\n    <tr>\n      <th>424984</th>\n      <td>36241217</td>\n      <td>모범떡볶이1976 길동점</td>\n      <td>EAT</td>\n      <td>4.723214</td>\n      <td>20200516</td>\n      <td>1</td>\n      <td>0</td>\n      <td>1</td>\n      <td>48</td>\n      <td>0.229167</td>\n      <td>4.723214</td>\n      <td>4.723214</td>\n      <td>1</td>\n      <td>34366</td>\n      <td>0</td>\n      <td>서울특별시 강동구 길동 415-13 강동큐브2차</td>\n    </tr>\n    <tr>\n      <th>424985</th>\n      <td>36241217</td>\n      <td>모범떡볶이1976 길동점</td>\n      <td>EAT</td>\n      <td>4.723214</td>\n      <td>20200523</td>\n      <td>1</td>\n      <td>0</td>\n      <td>1</td>\n      <td>48</td>\n      <td>0.229167</td>\n      <td>4.723214</td>\n      <td>4.723214</td>\n      <td>1</td>\n      <td>25430</td>\n      <td>0</td>\n      <td>서울특별시 강동구 길동 415-13 강동큐브2차</td>\n    </tr>\n    <tr>\n      <th>424986</th>\n      <td>36241217</td>\n      <td>모범떡볶이1976 길동점</td>\n      <td>EAT</td>\n      <td>4.723214</td>\n      <td>20200325</td>\n      <td>1</td>\n      <td>0</td>\n      <td>1</td>\n      <td>48</td>\n      <td>0.229167</td>\n      <td>4.723214</td>\n      <td>4.723214</td>\n      <td>1</td>\n      <td>14858</td>\n      <td>0</td>\n      <td>서울특별시 강동구 길동 415-13 강동큐브2차</td>\n    </tr>\n    <tr>\n      <th>424987</th>\n      <td>36241217</td>\n      <td>모범떡볶이1976 길동점</td>\n      <td>EAT</td>\n      <td>4.723214</td>\n      <td>20200126</td>\n      <td>1</td>\n      <td>0</td>\n      <td>1</td>\n      <td>48</td>\n      <td>0.229167</td>\n      <td>4.723214</td>\n      <td>4.725244</td>\n      <td>2</td>\n      <td>61321</td>\n      <td>0</td>\n      <td>서울특별시 강동구 길동 415-13 강동큐브2차</td>\n    </tr>\n    <tr>\n      <th>424989</th>\n      <td>36241217</td>\n      <td>모범떡볶이1976 길동점</td>\n      <td>EAT</td>\n      <td>4.723214</td>\n      <td>20200501</td>\n      <td>1</td>\n      <td>0</td>\n      <td>1</td>\n      <td>48</td>\n      <td>0.229167</td>\n      <td>4.723214</td>\n      <td>4.723214</td>\n      <td>1</td>\n      <td>55331</td>\n      <td>0</td>\n      <td>서울특별시 강동구 길동 415-13 강동큐브2차</td>\n    </tr>\n    <tr>\n      <th>424990</th>\n      <td>36241217</td>\n      <td>모범떡볶이1976 길동점</td>\n      <td>EAT</td>\n      <td>4.723214</td>\n      <td>20200329</td>\n      <td>1</td>\n      <td>0</td>\n      <td>1</td>\n      <td>48</td>\n      <td>0.229167</td>\n      <td>4.723214</td>\n      <td>4.723214</td>\n      <td>1</td>\n      <td>103023</td>\n      <td>0</td>\n      <td>서울특별시 강동구 길동 415-13 강동큐브2차</td>\n    </tr>\n  </tbody>\n</table>\n</div>"
     },
     "metadata": {},
     "execution_count": 155
    }
   ],
   "source": [
    "file.loc[file['locationId']==file.loc[file['createdDate'].apply(lambda x: int(str(x)[:4]))==1999]['locationId'].values[0]]"
   ]
  },
  {
   "cell_type": "code",
   "execution_count": 156,
   "metadata": {},
   "outputs": [
    {
     "output_type": "execute_result",
     "data": {
      "text/plain": "        locationId place.name  ... category_l                    land.addr\n93741   1486575735        청류벽  ...          0  서울특별시 서초구 서초동 1327-29 서초파라곤\n93790   1486575735        청류벽  ...          0  서울특별시 서초구 서초동 1327-29 서초파라곤\n93844   1486575735        청류벽  ...          0  서울특별시 서초구 서초동 1327-29 서초파라곤\n96234   1486575735        청류벽  ...          0  서울특별시 서초구 서초동 1327-29 서초파라곤\n97438   1486575735        청류벽  ...          0  서울특별시 서초구 서초동 1327-29 서초파라곤\n115129  1486575735        청류벽  ...          0  서울특별시 서초구 서초동 1327-29 서초파라곤\n136678  1486575735        청류벽  ...          0  서울특별시 서초구 서초동 1327-29 서초파라곤\n148641  1486575735        청류벽  ...          0  서울특별시 서초구 서초동 1327-29 서초파라곤\n156179  1486575735        청류벽  ...          0  서울특별시 서초구 서초동 1327-29 서초파라곤\n161424  1486575735        청류벽  ...          0  서울특별시 서초구 서초동 1327-29 서초파라곤\n164732  1486575735        청류벽  ...          0  서울특별시 서초구 서초동 1327-29 서초파라곤\n165199  1486575735        청류벽  ...          0  서울특별시 서초구 서초동 1327-29 서초파라곤\n165858  1486575735        청류벽  ...          0  서울특별시 서초구 서초동 1327-29 서초파라곤\n172791  1486575735        청류벽  ...          0  서울특별시 서초구 서초동 1327-29 서초파라곤\n172845  1486575735        청류벽  ...          0  서울특별시 서초구 서초동 1327-29 서초파라곤\n183252  1486575735        청류벽  ...          0  서울특별시 서초구 서초동 1327-29 서초파라곤\n211298  1486575735        청류벽  ...          0  서울특별시 서초구 서초동 1327-29 서초파라곤\n213861  1486575735        청류벽  ...          0  서울특별시 서초구 서초동 1327-29 서초파라곤\n215655  1486575735        청류벽  ...          0  서울특별시 서초구 서초동 1327-29 서초파라곤\n242038  1486575735        청류벽  ...          0  서울특별시 서초구 서초동 1327-29 서초파라곤\n245994  1486575735        청류벽  ...          0  서울특별시 서초구 서초동 1327-29 서초파라곤\n247140  1486575735        청류벽  ...          0  서울특별시 서초구 서초동 1327-29 서초파라곤\n249711  1486575735        청류벽  ...          0  서울특별시 서초구 서초동 1327-29 서초파라곤\n267918  1486575735        청류벽  ...          0  서울특별시 서초구 서초동 1327-29 서초파라곤\n270272  1486575735        청류벽  ...          0  서울특별시 서초구 서초동 1327-29 서초파라곤\n288964  1486575735        청류벽  ...          0  서울특별시 서초구 서초동 1327-29 서초파라곤\n299418  1486575735        청류벽  ...          0  서울특별시 서초구 서초동 1327-29 서초파라곤\n302356  1486575735        청류벽  ...          0  서울특별시 서초구 서초동 1327-29 서초파라곤\n312479  1486575735        청류벽  ...          0  서울특별시 서초구 서초동 1327-29 서초파라곤\n335383  1486575735        청류벽  ...          0  서울특별시 서초구 서초동 1327-29 서초파라곤\n338597  1486575735        청류벽  ...          0  서울특별시 서초구 서초동 1327-29 서초파라곤\n343808  1486575735        청류벽  ...          0  서울특별시 서초구 서초동 1327-29 서초파라곤\n348458  1486575735        청류벽  ...          0  서울특별시 서초구 서초동 1327-29 서초파라곤\n367487  1486575735        청류벽  ...          0  서울특별시 서초구 서초동 1327-29 서초파라곤\n369746  1486575735        청류벽  ...          0  서울특별시 서초구 서초동 1327-29 서초파라곤\n376210  1486575735        청류벽  ...          0  서울특별시 서초구 서초동 1327-29 서초파라곤\n385702  1486575735        청류벽  ...          0  서울특별시 서초구 서초동 1327-29 서초파라곤\n391675  1486575735        청류벽  ...          0  서울특별시 서초구 서초동 1327-29 서초파라곤\n418274  1486575735        청류벽  ...          0  서울특별시 서초구 서초동 1327-29 서초파라곤\n442046  1486575735        청류벽  ...          0  서울특별시 서초구 서초동 1327-29 서초파라곤\n451370  1486575735        청류벽  ...          0  서울특별시 서초구 서초동 1327-29 서초파라곤\n\n[41 rows x 16 columns]",
      "text/html": "<div>\n<style scoped>\n    .dataframe tbody tr th:only-of-type {\n        vertical-align: middle;\n    }\n\n    .dataframe tbody tr th {\n        vertical-align: top;\n    }\n\n    .dataframe thead th {\n        text-align: right;\n    }\n</style>\n<table border=\"1\" class=\"dataframe\">\n  <thead>\n    <tr style=\"text-align: right;\">\n      <th></th>\n      <th>locationId</th>\n      <th>place.name</th>\n      <th>category</th>\n      <th>rating</th>\n      <th>createdDate</th>\n      <th>is_fch</th>\n      <th>photonum</th>\n      <th>is_local</th>\n      <th>rated_count</th>\n      <th>average_photonum</th>\n      <th>average_rating</th>\n      <th>user_mean_rating</th>\n      <th>user_reviewcount</th>\n      <th>userID</th>\n      <th>category_l</th>\n      <th>land.addr</th>\n    </tr>\n  </thead>\n  <tbody>\n    <tr>\n      <th>93741</th>\n      <td>1486575735</td>\n      <td>청류벽</td>\n      <td>EAT</td>\n      <td>4.329787</td>\n      <td>20200422</td>\n      <td>0</td>\n      <td>0</td>\n      <td>1</td>\n      <td>41</td>\n      <td>0.609756</td>\n      <td>4.329787</td>\n      <td>4.431261</td>\n      <td>98</td>\n      <td>42147</td>\n      <td>0</td>\n      <td>서울특별시 서초구 서초동 1327-29 서초파라곤</td>\n    </tr>\n    <tr>\n      <th>93790</th>\n      <td>1486575735</td>\n      <td>청류벽</td>\n      <td>EAT</td>\n      <td>4.329787</td>\n      <td>20200422</td>\n      <td>0</td>\n      <td>0</td>\n      <td>1</td>\n      <td>41</td>\n      <td>0.609756</td>\n      <td>4.329787</td>\n      <td>4.426053</td>\n      <td>45</td>\n      <td>23385</td>\n      <td>0</td>\n      <td>서울특별시 서초구 서초동 1327-29 서초파라곤</td>\n    </tr>\n    <tr>\n      <th>93844</th>\n      <td>1486575735</td>\n      <td>청류벽</td>\n      <td>EAT</td>\n      <td>4.329787</td>\n      <td>20200422</td>\n      <td>0</td>\n      <td>0</td>\n      <td>1</td>\n      <td>41</td>\n      <td>0.609756</td>\n      <td>4.329787</td>\n      <td>4.422907</td>\n      <td>52</td>\n      <td>34302</td>\n      <td>0</td>\n      <td>서울특별시 서초구 서초동 1327-29 서초파라곤</td>\n    </tr>\n    <tr>\n      <th>96234</th>\n      <td>1486575735</td>\n      <td>청류벽</td>\n      <td>EAT</td>\n      <td>4.329787</td>\n      <td>20200324</td>\n      <td>0</td>\n      <td>0</td>\n      <td>1</td>\n      <td>41</td>\n      <td>0.609756</td>\n      <td>4.329787</td>\n      <td>4.310070</td>\n      <td>18</td>\n      <td>103882</td>\n      <td>0</td>\n      <td>서울특별시 서초구 서초동 1327-29 서초파라곤</td>\n    </tr>\n    <tr>\n      <th>97438</th>\n      <td>1486575735</td>\n      <td>청류벽</td>\n      <td>EAT</td>\n      <td>4.329787</td>\n      <td>20200418</td>\n      <td>0</td>\n      <td>0</td>\n      <td>1</td>\n      <td>41</td>\n      <td>0.609756</td>\n      <td>4.329787</td>\n      <td>4.450732</td>\n      <td>17</td>\n      <td>99895</td>\n      <td>0</td>\n      <td>서울특별시 서초구 서초동 1327-29 서초파라곤</td>\n    </tr>\n    <tr>\n      <th>115129</th>\n      <td>1486575735</td>\n      <td>청류벽</td>\n      <td>EAT</td>\n      <td>4.329787</td>\n      <td>20200321</td>\n      <td>0</td>\n      <td>0</td>\n      <td>1</td>\n      <td>41</td>\n      <td>0.609756</td>\n      <td>4.329787</td>\n      <td>4.275421</td>\n      <td>9</td>\n      <td>49964</td>\n      <td>0</td>\n      <td>서울특별시 서초구 서초동 1327-29 서초파라곤</td>\n    </tr>\n    <tr>\n      <th>136678</th>\n      <td>1486575735</td>\n      <td>청류벽</td>\n      <td>EAT</td>\n      <td>4.329787</td>\n      <td>20190802</td>\n      <td>0</td>\n      <td>0</td>\n      <td>1</td>\n      <td>41</td>\n      <td>0.609756</td>\n      <td>4.329787</td>\n      <td>4.327291</td>\n      <td>116</td>\n      <td>14565</td>\n      <td>0</td>\n      <td>서울특별시 서초구 서초동 1327-29 서초파라곤</td>\n    </tr>\n    <tr>\n      <th>148641</th>\n      <td>1486575735</td>\n      <td>청류벽</td>\n      <td>EAT</td>\n      <td>4.329787</td>\n      <td>20191219</td>\n      <td>0</td>\n      <td>0</td>\n      <td>1</td>\n      <td>41</td>\n      <td>0.609756</td>\n      <td>4.329787</td>\n      <td>4.307947</td>\n      <td>78</td>\n      <td>22259</td>\n      <td>0</td>\n      <td>서울특별시 서초구 서초동 1327-29 서초파라곤</td>\n    </tr>\n    <tr>\n      <th>156179</th>\n      <td>1486575735</td>\n      <td>청류벽</td>\n      <td>EAT</td>\n      <td>4.329787</td>\n      <td>20190428</td>\n      <td>0</td>\n      <td>0</td>\n      <td>1</td>\n      <td>41</td>\n      <td>0.609756</td>\n      <td>4.329787</td>\n      <td>4.284280</td>\n      <td>29</td>\n      <td>9395</td>\n      <td>0</td>\n      <td>서울특별시 서초구 서초동 1327-29 서초파라곤</td>\n    </tr>\n    <tr>\n      <th>161424</th>\n      <td>1486575735</td>\n      <td>청류벽</td>\n      <td>EAT</td>\n      <td>4.329787</td>\n      <td>20190201</td>\n      <td>0</td>\n      <td>1</td>\n      <td>1</td>\n      <td>41</td>\n      <td>0.609756</td>\n      <td>4.329787</td>\n      <td>4.532188</td>\n      <td>3</td>\n      <td>23732</td>\n      <td>0</td>\n      <td>서울특별시 서초구 서초동 1327-29 서초파라곤</td>\n    </tr>\n    <tr>\n      <th>164732</th>\n      <td>1486575735</td>\n      <td>청류벽</td>\n      <td>EAT</td>\n      <td>4.329787</td>\n      <td>20200423</td>\n      <td>0</td>\n      <td>1</td>\n      <td>1</td>\n      <td>41</td>\n      <td>0.609756</td>\n      <td>4.329787</td>\n      <td>4.376318</td>\n      <td>15</td>\n      <td>25134</td>\n      <td>0</td>\n      <td>서울특별시 서초구 서초동 1327-29 서초파라곤</td>\n    </tr>\n    <tr>\n      <th>165199</th>\n      <td>1486575735</td>\n      <td>청류벽</td>\n      <td>EAT</td>\n      <td>4.329787</td>\n      <td>20191030</td>\n      <td>0</td>\n      <td>0</td>\n      <td>1</td>\n      <td>41</td>\n      <td>0.609756</td>\n      <td>4.329787</td>\n      <td>4.357769</td>\n      <td>103</td>\n      <td>43402</td>\n      <td>0</td>\n      <td>서울특별시 서초구 서초동 1327-29 서초파라곤</td>\n    </tr>\n    <tr>\n      <th>165858</th>\n      <td>1486575735</td>\n      <td>청류벽</td>\n      <td>EAT</td>\n      <td>4.329787</td>\n      <td>20190706</td>\n      <td>0</td>\n      <td>0</td>\n      <td>1</td>\n      <td>41</td>\n      <td>0.609756</td>\n      <td>4.329787</td>\n      <td>4.448056</td>\n      <td>110</td>\n      <td>34552</td>\n      <td>0</td>\n      <td>서울특별시 서초구 서초동 1327-29 서초파라곤</td>\n    </tr>\n    <tr>\n      <th>172791</th>\n      <td>1486575735</td>\n      <td>청류벽</td>\n      <td>EAT</td>\n      <td>4.329787</td>\n      <td>20190603</td>\n      <td>0</td>\n      <td>0</td>\n      <td>1</td>\n      <td>41</td>\n      <td>0.609756</td>\n      <td>4.329787</td>\n      <td>4.434409</td>\n      <td>24</td>\n      <td>36471</td>\n      <td>0</td>\n      <td>서울특별시 서초구 서초동 1327-29 서초파라곤</td>\n    </tr>\n    <tr>\n      <th>172845</th>\n      <td>1486575735</td>\n      <td>청류벽</td>\n      <td>EAT</td>\n      <td>4.329787</td>\n      <td>20200517</td>\n      <td>0</td>\n      <td>0</td>\n      <td>1</td>\n      <td>41</td>\n      <td>0.609756</td>\n      <td>4.329787</td>\n      <td>4.368852</td>\n      <td>10</td>\n      <td>24320</td>\n      <td>0</td>\n      <td>서울특별시 서초구 서초동 1327-29 서초파라곤</td>\n    </tr>\n    <tr>\n      <th>183252</th>\n      <td>1486575735</td>\n      <td>청류벽</td>\n      <td>EAT</td>\n      <td>4.329787</td>\n      <td>20200422</td>\n      <td>0</td>\n      <td>0</td>\n      <td>1</td>\n      <td>41</td>\n      <td>0.609756</td>\n      <td>4.329787</td>\n      <td>4.355999</td>\n      <td>14</td>\n      <td>104947</td>\n      <td>0</td>\n      <td>서울특별시 서초구 서초동 1327-29 서초파라곤</td>\n    </tr>\n    <tr>\n      <th>211298</th>\n      <td>1486575735</td>\n      <td>청류벽</td>\n      <td>EAT</td>\n      <td>4.329787</td>\n      <td>20190422</td>\n      <td>0</td>\n      <td>0</td>\n      <td>1</td>\n      <td>41</td>\n      <td>0.609756</td>\n      <td>4.329787</td>\n      <td>4.456923</td>\n      <td>63</td>\n      <td>101494</td>\n      <td>0</td>\n      <td>서울특별시 서초구 서초동 1327-29 서초파라곤</td>\n    </tr>\n    <tr>\n      <th>213861</th>\n      <td>1486575735</td>\n      <td>청류벽</td>\n      <td>EAT</td>\n      <td>4.329787</td>\n      <td>19910201</td>\n      <td>0</td>\n      <td>0</td>\n      <td>1</td>\n      <td>41</td>\n      <td>0.609756</td>\n      <td>4.329787</td>\n      <td>4.396405</td>\n      <td>32</td>\n      <td>11367</td>\n      <td>0</td>\n      <td>서울특별시 서초구 서초동 1327-29 서초파라곤</td>\n    </tr>\n    <tr>\n      <th>215655</th>\n      <td>1486575735</td>\n      <td>청류벽</td>\n      <td>EAT</td>\n      <td>4.329787</td>\n      <td>20190424</td>\n      <td>0</td>\n      <td>0</td>\n      <td>1</td>\n      <td>41</td>\n      <td>0.609756</td>\n      <td>4.329787</td>\n      <td>4.359675</td>\n      <td>74</td>\n      <td>24233</td>\n      <td>0</td>\n      <td>서울특별시 서초구 서초동 1327-29 서초파라곤</td>\n    </tr>\n    <tr>\n      <th>242038</th>\n      <td>1486575735</td>\n      <td>청류벽</td>\n      <td>EAT</td>\n      <td>4.329787</td>\n      <td>20200512</td>\n      <td>0</td>\n      <td>0</td>\n      <td>1</td>\n      <td>41</td>\n      <td>0.609756</td>\n      <td>4.329787</td>\n      <td>4.378084</td>\n      <td>45</td>\n      <td>15090</td>\n      <td>0</td>\n      <td>서울특별시 서초구 서초동 1327-29 서초파라곤</td>\n    </tr>\n    <tr>\n      <th>245994</th>\n      <td>1486575735</td>\n      <td>청류벽</td>\n      <td>EAT</td>\n      <td>4.329787</td>\n      <td>20200114</td>\n      <td>0</td>\n      <td>0</td>\n      <td>1</td>\n      <td>41</td>\n      <td>0.609756</td>\n      <td>4.329787</td>\n      <td>4.265163</td>\n      <td>3</td>\n      <td>16349</td>\n      <td>0</td>\n      <td>서울특별시 서초구 서초동 1327-29 서초파라곤</td>\n    </tr>\n    <tr>\n      <th>247140</th>\n      <td>1486575735</td>\n      <td>청류벽</td>\n      <td>EAT</td>\n      <td>4.329787</td>\n      <td>20200411</td>\n      <td>0</td>\n      <td>2</td>\n      <td>1</td>\n      <td>41</td>\n      <td>0.609756</td>\n      <td>4.329787</td>\n      <td>4.444455</td>\n      <td>12</td>\n      <td>99046</td>\n      <td>0</td>\n      <td>서울특별시 서초구 서초동 1327-29 서초파라곤</td>\n    </tr>\n    <tr>\n      <th>249711</th>\n      <td>1486575735</td>\n      <td>청류벽</td>\n      <td>EAT</td>\n      <td>4.329787</td>\n      <td>20190501</td>\n      <td>0</td>\n      <td>2</td>\n      <td>1</td>\n      <td>41</td>\n      <td>0.609756</td>\n      <td>4.329787</td>\n      <td>4.298783</td>\n      <td>21</td>\n      <td>79791</td>\n      <td>0</td>\n      <td>서울특별시 서초구 서초동 1327-29 서초파라곤</td>\n    </tr>\n    <tr>\n      <th>267918</th>\n      <td>1486575735</td>\n      <td>청류벽</td>\n      <td>EAT</td>\n      <td>4.329787</td>\n      <td>20200518</td>\n      <td>0</td>\n      <td>0</td>\n      <td>1</td>\n      <td>41</td>\n      <td>0.609756</td>\n      <td>4.329787</td>\n      <td>4.372241</td>\n      <td>31</td>\n      <td>103365</td>\n      <td>0</td>\n      <td>서울특별시 서초구 서초동 1327-29 서초파라곤</td>\n    </tr>\n    <tr>\n      <th>270272</th>\n      <td>1486575735</td>\n      <td>청류벽</td>\n      <td>EAT</td>\n      <td>4.329787</td>\n      <td>20200418</td>\n      <td>0</td>\n      <td>0</td>\n      <td>1</td>\n      <td>41</td>\n      <td>0.609756</td>\n      <td>4.329787</td>\n      <td>4.483785</td>\n      <td>10</td>\n      <td>15568</td>\n      <td>0</td>\n      <td>서울특별시 서초구 서초동 1327-29 서초파라곤</td>\n    </tr>\n    <tr>\n      <th>288964</th>\n      <td>1486575735</td>\n      <td>청류벽</td>\n      <td>EAT</td>\n      <td>4.329787</td>\n      <td>20200411</td>\n      <td>0</td>\n      <td>1</td>\n      <td>1</td>\n      <td>41</td>\n      <td>0.609756</td>\n      <td>4.329787</td>\n      <td>4.549739</td>\n      <td>9</td>\n      <td>45008</td>\n      <td>0</td>\n      <td>서울특별시 서초구 서초동 1327-29 서초파라곤</td>\n    </tr>\n    <tr>\n      <th>299418</th>\n      <td>1486575735</td>\n      <td>청류벽</td>\n      <td>EAT</td>\n      <td>4.329787</td>\n      <td>20200318</td>\n      <td>0</td>\n      <td>1</td>\n      <td>1</td>\n      <td>41</td>\n      <td>0.609756</td>\n      <td>4.329787</td>\n      <td>4.319700</td>\n      <td>5</td>\n      <td>41826</td>\n      <td>0</td>\n      <td>서울특별시 서초구 서초동 1327-29 서초파라곤</td>\n    </tr>\n    <tr>\n      <th>302356</th>\n      <td>1486575735</td>\n      <td>청류벽</td>\n      <td>EAT</td>\n      <td>4.329787</td>\n      <td>20200501</td>\n      <td>0</td>\n      <td>5</td>\n      <td>1</td>\n      <td>41</td>\n      <td>0.609756</td>\n      <td>4.329787</td>\n      <td>4.462323</td>\n      <td>25</td>\n      <td>101796</td>\n      <td>0</td>\n      <td>서울특별시 서초구 서초동 1327-29 서초파라곤</td>\n    </tr>\n    <tr>\n      <th>312479</th>\n      <td>1486575735</td>\n      <td>청류벽</td>\n      <td>EAT</td>\n      <td>4.329787</td>\n      <td>20200327</td>\n      <td>0</td>\n      <td>0</td>\n      <td>1</td>\n      <td>41</td>\n      <td>0.609756</td>\n      <td>4.329787</td>\n      <td>4.327543</td>\n      <td>33</td>\n      <td>43517</td>\n      <td>0</td>\n      <td>서울특별시 서초구 서초동 1327-29 서초파라곤</td>\n    </tr>\n    <tr>\n      <th>335383</th>\n      <td>1486575735</td>\n      <td>청류벽</td>\n      <td>EAT</td>\n      <td>4.329787</td>\n      <td>20200411</td>\n      <td>0</td>\n      <td>1</td>\n      <td>1</td>\n      <td>41</td>\n      <td>0.609756</td>\n      <td>4.329787</td>\n      <td>4.457698</td>\n      <td>13</td>\n      <td>10569</td>\n      <td>0</td>\n      <td>서울특별시 서초구 서초동 1327-29 서초파라곤</td>\n    </tr>\n    <tr>\n      <th>338597</th>\n      <td>1486575735</td>\n      <td>청류벽</td>\n      <td>EAT</td>\n      <td>4.329787</td>\n      <td>20200316</td>\n      <td>0</td>\n      <td>0</td>\n      <td>1</td>\n      <td>41</td>\n      <td>0.609756</td>\n      <td>4.329787</td>\n      <td>4.404001</td>\n      <td>8</td>\n      <td>14683</td>\n      <td>0</td>\n      <td>서울특별시 서초구 서초동 1327-29 서초파라곤</td>\n    </tr>\n    <tr>\n      <th>343808</th>\n      <td>1486575735</td>\n      <td>청류벽</td>\n      <td>EAT</td>\n      <td>4.329787</td>\n      <td>20191012</td>\n      <td>0</td>\n      <td>4</td>\n      <td>1</td>\n      <td>41</td>\n      <td>0.609756</td>\n      <td>4.329787</td>\n      <td>4.417715</td>\n      <td>24</td>\n      <td>25091</td>\n      <td>0</td>\n      <td>서울특별시 서초구 서초동 1327-29 서초파라곤</td>\n    </tr>\n    <tr>\n      <th>348458</th>\n      <td>1486575735</td>\n      <td>청류벽</td>\n      <td>EAT</td>\n      <td>4.329787</td>\n      <td>20191220</td>\n      <td>0</td>\n      <td>2</td>\n      <td>1</td>\n      <td>41</td>\n      <td>0.609756</td>\n      <td>4.329787</td>\n      <td>4.367887</td>\n      <td>15</td>\n      <td>14515</td>\n      <td>0</td>\n      <td>서울특별시 서초구 서초동 1327-29 서초파라곤</td>\n    </tr>\n    <tr>\n      <th>367487</th>\n      <td>1486575735</td>\n      <td>청류벽</td>\n      <td>EAT</td>\n      <td>4.329787</td>\n      <td>20200316</td>\n      <td>0</td>\n      <td>0</td>\n      <td>1</td>\n      <td>41</td>\n      <td>0.609756</td>\n      <td>4.329787</td>\n      <td>4.381612</td>\n      <td>4</td>\n      <td>14062</td>\n      <td>0</td>\n      <td>서울특별시 서초구 서초동 1327-29 서초파라곤</td>\n    </tr>\n    <tr>\n      <th>369746</th>\n      <td>1486575735</td>\n      <td>청류벽</td>\n      <td>EAT</td>\n      <td>4.329787</td>\n      <td>20200127</td>\n      <td>0</td>\n      <td>2</td>\n      <td>1</td>\n      <td>41</td>\n      <td>0.609756</td>\n      <td>4.329787</td>\n      <td>4.340151</td>\n      <td>8</td>\n      <td>12010</td>\n      <td>0</td>\n      <td>서울특별시 서초구 서초동 1327-29 서초파라곤</td>\n    </tr>\n    <tr>\n      <th>376210</th>\n      <td>1486575735</td>\n      <td>청류벽</td>\n      <td>EAT</td>\n      <td>4.329787</td>\n      <td>20190608</td>\n      <td>0</td>\n      <td>2</td>\n      <td>1</td>\n      <td>41</td>\n      <td>0.609756</td>\n      <td>4.329787</td>\n      <td>4.400689</td>\n      <td>13</td>\n      <td>5403</td>\n      <td>0</td>\n      <td>서울특별시 서초구 서초동 1327-29 서초파라곤</td>\n    </tr>\n    <tr>\n      <th>385702</th>\n      <td>1486575735</td>\n      <td>청류벽</td>\n      <td>EAT</td>\n      <td>4.329787</td>\n      <td>20200423</td>\n      <td>0</td>\n      <td>0</td>\n      <td>1</td>\n      <td>41</td>\n      <td>0.609756</td>\n      <td>4.329787</td>\n      <td>4.310213</td>\n      <td>19</td>\n      <td>23564</td>\n      <td>0</td>\n      <td>서울특별시 서초구 서초동 1327-29 서초파라곤</td>\n    </tr>\n    <tr>\n      <th>391675</th>\n      <td>1486575735</td>\n      <td>청류벽</td>\n      <td>EAT</td>\n      <td>4.329787</td>\n      <td>20200422</td>\n      <td>0</td>\n      <td>0</td>\n      <td>1</td>\n      <td>41</td>\n      <td>0.609756</td>\n      <td>4.329787</td>\n      <td>4.413492</td>\n      <td>29</td>\n      <td>61318</td>\n      <td>0</td>\n      <td>서울특별시 서초구 서초동 1327-29 서초파라곤</td>\n    </tr>\n    <tr>\n      <th>418274</th>\n      <td>1486575735</td>\n      <td>청류벽</td>\n      <td>EAT</td>\n      <td>4.329787</td>\n      <td>20200403</td>\n      <td>0</td>\n      <td>0</td>\n      <td>1</td>\n      <td>41</td>\n      <td>0.609756</td>\n      <td>4.329787</td>\n      <td>4.388372</td>\n      <td>5</td>\n      <td>12378</td>\n      <td>0</td>\n      <td>서울특별시 서초구 서초동 1327-29 서초파라곤</td>\n    </tr>\n    <tr>\n      <th>442046</th>\n      <td>1486575735</td>\n      <td>청류벽</td>\n      <td>EAT</td>\n      <td>4.329787</td>\n      <td>20200523</td>\n      <td>0</td>\n      <td>1</td>\n      <td>1</td>\n      <td>41</td>\n      <td>0.609756</td>\n      <td>4.329787</td>\n      <td>4.535597</td>\n      <td>3</td>\n      <td>49913</td>\n      <td>0</td>\n      <td>서울특별시 서초구 서초동 1327-29 서초파라곤</td>\n    </tr>\n    <tr>\n      <th>451370</th>\n      <td>1486575735</td>\n      <td>청류벽</td>\n      <td>EAT</td>\n      <td>4.329787</td>\n      <td>20200503</td>\n      <td>0</td>\n      <td>0</td>\n      <td>1</td>\n      <td>41</td>\n      <td>0.609756</td>\n      <td>4.329787</td>\n      <td>4.494873</td>\n      <td>6</td>\n      <td>71613</td>\n      <td>0</td>\n      <td>서울특별시 서초구 서초동 1327-29 서초파라곤</td>\n    </tr>\n  </tbody>\n</table>\n</div>"
     },
     "metadata": {},
     "execution_count": 156
    }
   ],
   "source": [
    "file.loc[file['locationId']==file.loc[file['createdDate'].apply(lambda x: int(str(x)[:4]))==1991]['locationId'].values[0]]"
   ]
  },
  {
   "cell_type": "code",
   "execution_count": null,
   "metadata": {},
   "outputs": [],
   "source": []
  },
  {
   "cell_type": "code",
   "execution_count": null,
   "metadata": {},
   "outputs": [],
   "source": []
  },
  {
   "cell_type": "code",
   "execution_count": 70,
   "metadata": {},
   "outputs": [
    {
     "output_type": "execute_result",
     "data": {
      "text/plain": "   locationId  createdDate  is_fch  ...  average_rating  category_l  rating\n0      788542     20180314       0  ...            3.95           1     5.0\n1      788542     20171207       0  ...            3.95           1     4.0\n2      788542     20161110       0  ...            3.95           1     5.0\n3      788542     20160611       0  ...            3.95           1     3.0\n4      788542     20151204       0  ...            3.95           1     4.0\n\n[5 rows x 10 columns]",
      "text/html": "<div>\n<style scoped>\n    .dataframe tbody tr th:only-of-type {\n        vertical-align: middle;\n    }\n\n    .dataframe tbody tr th {\n        vertical-align: top;\n    }\n\n    .dataframe thead th {\n        text-align: right;\n    }\n</style>\n<table border=\"1\" class=\"dataframe\">\n  <thead>\n    <tr style=\"text-align: right;\">\n      <th></th>\n      <th>locationId</th>\n      <th>createdDate</th>\n      <th>is_fch</th>\n      <th>photonum</th>\n      <th>is_local</th>\n      <th>rated_count</th>\n      <th>average_photonum</th>\n      <th>average_rating</th>\n      <th>category_l</th>\n      <th>rating</th>\n    </tr>\n  </thead>\n  <tbody>\n    <tr>\n      <th>0</th>\n      <td>788542</td>\n      <td>20180314</td>\n      <td>0</td>\n      <td>0</td>\n      <td>1</td>\n      <td>20</td>\n      <td>0.05</td>\n      <td>3.95</td>\n      <td>1</td>\n      <td>5.0</td>\n    </tr>\n    <tr>\n      <th>1</th>\n      <td>788542</td>\n      <td>20171207</td>\n      <td>0</td>\n      <td>0</td>\n      <td>1</td>\n      <td>20</td>\n      <td>0.05</td>\n      <td>3.95</td>\n      <td>1</td>\n      <td>4.0</td>\n    </tr>\n    <tr>\n      <th>2</th>\n      <td>788542</td>\n      <td>20161110</td>\n      <td>0</td>\n      <td>0</td>\n      <td>0</td>\n      <td>20</td>\n      <td>0.05</td>\n      <td>3.95</td>\n      <td>1</td>\n      <td>5.0</td>\n    </tr>\n    <tr>\n      <th>3</th>\n      <td>788542</td>\n      <td>20160611</td>\n      <td>0</td>\n      <td>0</td>\n      <td>0</td>\n      <td>20</td>\n      <td>0.05</td>\n      <td>3.95</td>\n      <td>1</td>\n      <td>3.0</td>\n    </tr>\n    <tr>\n      <th>4</th>\n      <td>788542</td>\n      <td>20151204</td>\n      <td>0</td>\n      <td>0</td>\n      <td>1</td>\n      <td>20</td>\n      <td>0.05</td>\n      <td>3.95</td>\n      <td>1</td>\n      <td>4.0</td>\n    </tr>\n  </tbody>\n</table>\n</div>"
     },
     "metadata": {},
     "execution_count": 70
    }
   ],
   "source": [
    "file = file.loc[:,['locationId', 'createdDate', 'is_fch', 'photonum', 'is_local','rated_count', 'average_photonum', 'average_rating', 'category_l','rating']]\n",
    "file.head()"
   ]
  },
  {
   "cell_type": "code",
   "execution_count": 71,
   "metadata": {},
   "outputs": [
    {
     "output_type": "execute_result",
     "data": {
      "text/plain": "   locationId  createdDate  is_fch  ...  category_l  rating  user_visit_history\n0      788542     20180314       0  ...           1     5.0                   0\n1      788542     20171207       0  ...           1     4.0                   0\n2      788542     20161110       0  ...           1     5.0                   0\n3      788542     20160611       0  ...           1     3.0                   0\n4      788542     20151204       0  ...           1     4.0                   0\n\n[5 rows x 11 columns]",
      "text/html": "<div>\n<style scoped>\n    .dataframe tbody tr th:only-of-type {\n        vertical-align: middle;\n    }\n\n    .dataframe tbody tr th {\n        vertical-align: top;\n    }\n\n    .dataframe thead th {\n        text-align: right;\n    }\n</style>\n<table border=\"1\" class=\"dataframe\">\n  <thead>\n    <tr style=\"text-align: right;\">\n      <th></th>\n      <th>locationId</th>\n      <th>createdDate</th>\n      <th>is_fch</th>\n      <th>photonum</th>\n      <th>is_local</th>\n      <th>rated_count</th>\n      <th>average_photonum</th>\n      <th>average_rating</th>\n      <th>category_l</th>\n      <th>rating</th>\n      <th>user_visit_history</th>\n    </tr>\n  </thead>\n  <tbody>\n    <tr>\n      <th>0</th>\n      <td>788542</td>\n      <td>20180314</td>\n      <td>0</td>\n      <td>0</td>\n      <td>1</td>\n      <td>20</td>\n      <td>0.05</td>\n      <td>3.95</td>\n      <td>1</td>\n      <td>5.0</td>\n      <td>0</td>\n    </tr>\n    <tr>\n      <th>1</th>\n      <td>788542</td>\n      <td>20171207</td>\n      <td>0</td>\n      <td>0</td>\n      <td>1</td>\n      <td>20</td>\n      <td>0.05</td>\n      <td>3.95</td>\n      <td>1</td>\n      <td>4.0</td>\n      <td>0</td>\n    </tr>\n    <tr>\n      <th>2</th>\n      <td>788542</td>\n      <td>20161110</td>\n      <td>0</td>\n      <td>0</td>\n      <td>0</td>\n      <td>20</td>\n      <td>0.05</td>\n      <td>3.95</td>\n      <td>1</td>\n      <td>5.0</td>\n      <td>0</td>\n    </tr>\n    <tr>\n      <th>3</th>\n      <td>788542</td>\n      <td>20160611</td>\n      <td>0</td>\n      <td>0</td>\n      <td>0</td>\n      <td>20</td>\n      <td>0.05</td>\n      <td>3.95</td>\n      <td>1</td>\n      <td>3.0</td>\n      <td>0</td>\n    </tr>\n    <tr>\n      <th>4</th>\n      <td>788542</td>\n      <td>20151204</td>\n      <td>0</td>\n      <td>0</td>\n      <td>1</td>\n      <td>20</td>\n      <td>0.05</td>\n      <td>3.95</td>\n      <td>1</td>\n      <td>4.0</td>\n      <td>0</td>\n    </tr>\n  </tbody>\n</table>\n</div>"
     },
     "metadata": {},
     "execution_count": 71
    }
   ],
   "source": [
    "file['user_visit_history'] = 0\n",
    "file.head()"
   ]
  },
  {
   "cell_type": "code",
   "execution_count": 90,
   "metadata": {},
   "outputs": [],
   "source": [
    "file = file.loc[:,['locationId', 'createdDate', 'is_fch', 'is_local','rated_count', 'average_photonum', 'average_rating', 'category_l','user_visit_history','rating']]"
   ]
  },
  {
   "cell_type": "code",
   "execution_count": 91,
   "metadata": {},
   "outputs": [],
   "source": [
    "file.to_csv(os.path.join(\"data\",\"YN_afm_df.csv\"), index=False)"
   ]
  },
  {
   "cell_type": "code",
   "execution_count": null,
   "metadata": {},
   "outputs": [],
   "source": []
  },
  {
   "cell_type": "code",
   "execution_count": 96,
   "metadata": {},
   "outputs": [
    {
     "output_type": "execute_result",
     "data": {
      "text/plain": "Index(['locationId', 'createdDate', 'is_fch', 'is_local', 'rated_count',\n       'average_photonum', 'average_rating', 'category_l',\n       'user_visit_history'],\n      dtype='object')"
     },
     "metadata": {},
     "execution_count": 96
    }
   ],
   "source": [
    "file.iloc[:,:9].columns"
   ]
  },
  {
   "cell_type": "code",
   "execution_count": 94,
   "metadata": {},
   "outputs": [
    {
     "output_type": "execute_result",
     "data": {
      "text/plain": "        locationId  createdDate  ...  category_l  user_visit_history\n0           788542     20180314  ...           1                   0\n1           788542     20171207  ...           1                   0\n2           788542     20161110  ...           1                   0\n3           788542     20160611  ...           1                   0\n4           788542     20151204  ...           1                   0\n...            ...          ...  ...         ...                 ...\n553620     6998634     20141121  ...           1                   0\n553621     6998634     20141120  ...           1                   0\n553622     6998634     20141118  ...           1                   0\n553623     6998634     20141117  ...           1                   0\n553624     6998634     20141112  ...           1                   0\n\n[553625 rows x 9 columns]",
      "text/html": "<div>\n<style scoped>\n    .dataframe tbody tr th:only-of-type {\n        vertical-align: middle;\n    }\n\n    .dataframe tbody tr th {\n        vertical-align: top;\n    }\n\n    .dataframe thead th {\n        text-align: right;\n    }\n</style>\n<table border=\"1\" class=\"dataframe\">\n  <thead>\n    <tr style=\"text-align: right;\">\n      <th></th>\n      <th>locationId</th>\n      <th>createdDate</th>\n      <th>is_fch</th>\n      <th>is_local</th>\n      <th>rated_count</th>\n      <th>average_photonum</th>\n      <th>average_rating</th>\n      <th>category_l</th>\n      <th>user_visit_history</th>\n    </tr>\n  </thead>\n  <tbody>\n    <tr>\n      <th>0</th>\n      <td>788542</td>\n      <td>20180314</td>\n      <td>0</td>\n      <td>1</td>\n      <td>20</td>\n      <td>0.050000</td>\n      <td>3.95000</td>\n      <td>1</td>\n      <td>0</td>\n    </tr>\n    <tr>\n      <th>1</th>\n      <td>788542</td>\n      <td>20171207</td>\n      <td>0</td>\n      <td>1</td>\n      <td>20</td>\n      <td>0.050000</td>\n      <td>3.95000</td>\n      <td>1</td>\n      <td>0</td>\n    </tr>\n    <tr>\n      <th>2</th>\n      <td>788542</td>\n      <td>20161110</td>\n      <td>0</td>\n      <td>0</td>\n      <td>20</td>\n      <td>0.050000</td>\n      <td>3.95000</td>\n      <td>1</td>\n      <td>0</td>\n    </tr>\n    <tr>\n      <th>3</th>\n      <td>788542</td>\n      <td>20160611</td>\n      <td>0</td>\n      <td>0</td>\n      <td>20</td>\n      <td>0.050000</td>\n      <td>3.95000</td>\n      <td>1</td>\n      <td>0</td>\n    </tr>\n    <tr>\n      <th>4</th>\n      <td>788542</td>\n      <td>20151204</td>\n      <td>0</td>\n      <td>1</td>\n      <td>20</td>\n      <td>0.050000</td>\n      <td>3.95000</td>\n      <td>1</td>\n      <td>0</td>\n    </tr>\n    <tr>\n      <th>...</th>\n      <td>...</td>\n      <td>...</td>\n      <td>...</td>\n      <td>...</td>\n      <td>...</td>\n      <td>...</td>\n      <td>...</td>\n      <td>...</td>\n      <td>...</td>\n    </tr>\n    <tr>\n      <th>553620</th>\n      <td>6998634</td>\n      <td>20141121</td>\n      <td>0</td>\n      <td>0</td>\n      <td>379</td>\n      <td>1.290237</td>\n      <td>3.94723</td>\n      <td>1</td>\n      <td>0</td>\n    </tr>\n    <tr>\n      <th>553621</th>\n      <td>6998634</td>\n      <td>20141120</td>\n      <td>0</td>\n      <td>0</td>\n      <td>379</td>\n      <td>1.290237</td>\n      <td>3.94723</td>\n      <td>1</td>\n      <td>0</td>\n    </tr>\n    <tr>\n      <th>553622</th>\n      <td>6998634</td>\n      <td>20141118</td>\n      <td>0</td>\n      <td>0</td>\n      <td>379</td>\n      <td>1.290237</td>\n      <td>3.94723</td>\n      <td>1</td>\n      <td>0</td>\n    </tr>\n    <tr>\n      <th>553623</th>\n      <td>6998634</td>\n      <td>20141117</td>\n      <td>0</td>\n      <td>0</td>\n      <td>379</td>\n      <td>1.290237</td>\n      <td>3.94723</td>\n      <td>1</td>\n      <td>0</td>\n    </tr>\n    <tr>\n      <th>553624</th>\n      <td>6998634</td>\n      <td>20141112</td>\n      <td>0</td>\n      <td>0</td>\n      <td>379</td>\n      <td>1.290237</td>\n      <td>3.94723</td>\n      <td>1</td>\n      <td>0</td>\n    </tr>\n  </tbody>\n</table>\n<p>553625 rows × 9 columns</p>\n</div>"
     },
     "metadata": {},
     "execution_count": 94
    }
   ],
   "source": [
    "file = pd.read_csv(os.path.join(\"data\",\"YN_afm_df.csv\"))\n",
    "file.iloc[:,:9]"
   ]
  },
  {
   "cell_type": "markdown",
   "metadata": {},
   "source": [
    "# locationsinfo data 생성"
   ]
  },
  {
   "cell_type": "code",
   "execution_count": 63,
   "metadata": {},
   "outputs": [
    {
     "output_type": "execute_result",
     "data": {
      "text/plain": "   locationId place.name  is_fch  ...  average_photonum  average_rating  category_l\n0      788542     마르코 폴로       0  ...              0.05            3.95           1\n1      788542     마르코 폴로       0  ...              0.05            3.95           1\n2      788542     마르코 폴로       0  ...              0.05            3.95           1\n3      788542     마르코 폴로       0  ...              0.05            3.95           1\n4      788542     마르코 폴로       0  ...              0.05            3.95           1\n\n[5 rows x 8 columns]",
      "text/html": "<div>\n<style scoped>\n    .dataframe tbody tr th:only-of-type {\n        vertical-align: middle;\n    }\n\n    .dataframe tbody tr th {\n        vertical-align: top;\n    }\n\n    .dataframe thead th {\n        text-align: right;\n    }\n</style>\n<table border=\"1\" class=\"dataframe\">\n  <thead>\n    <tr style=\"text-align: right;\">\n      <th></th>\n      <th>locationId</th>\n      <th>place.name</th>\n      <th>is_fch</th>\n      <th>is_local</th>\n      <th>rated_count</th>\n      <th>average_photonum</th>\n      <th>average_rating</th>\n      <th>category_l</th>\n    </tr>\n  </thead>\n  <tbody>\n    <tr>\n      <th>0</th>\n      <td>788542</td>\n      <td>마르코 폴로</td>\n      <td>0</td>\n      <td>1</td>\n      <td>20</td>\n      <td>0.05</td>\n      <td>3.95</td>\n      <td>1</td>\n    </tr>\n    <tr>\n      <th>1</th>\n      <td>788542</td>\n      <td>마르코 폴로</td>\n      <td>0</td>\n      <td>1</td>\n      <td>20</td>\n      <td>0.05</td>\n      <td>3.95</td>\n      <td>1</td>\n    </tr>\n    <tr>\n      <th>2</th>\n      <td>788542</td>\n      <td>마르코 폴로</td>\n      <td>0</td>\n      <td>0</td>\n      <td>20</td>\n      <td>0.05</td>\n      <td>3.95</td>\n      <td>1</td>\n    </tr>\n    <tr>\n      <th>3</th>\n      <td>788542</td>\n      <td>마르코 폴로</td>\n      <td>0</td>\n      <td>0</td>\n      <td>20</td>\n      <td>0.05</td>\n      <td>3.95</td>\n      <td>1</td>\n    </tr>\n    <tr>\n      <th>4</th>\n      <td>788542</td>\n      <td>마르코 폴로</td>\n      <td>0</td>\n      <td>1</td>\n      <td>20</td>\n      <td>0.05</td>\n      <td>3.95</td>\n      <td>1</td>\n    </tr>\n  </tbody>\n</table>\n</div>"
     },
     "metadata": {},
     "execution_count": 63
    }
   ],
   "source": [
    "file_path = os.path.join(\"data\",\"YN_final_df.csv\")\n",
    "file = pd.read_csv(file_path)\n",
    "locations = file.loc[:,['locationId','place.name', 'is_fch', 'is_local',\n",
    "       'rated_count', 'average_photonum', 'average_rating', 'category_l']]\n",
    "locations.head()"
   ]
  },
  {
   "cell_type": "code",
   "execution_count": 64,
   "metadata": {},
   "outputs": [
    {
     "output_type": "stream",
     "name": "stdout",
     "text": "(16249, 8)\n"
    },
    {
     "output_type": "execute_result",
     "data": {
      "text/plain": "     locationId            place.name  ...  average_rating  category_l\n100     4077917         버터핑거 팬케이크 강남점  ...        4.111111           1\n117    13833720  스타벅스 리져브 - 용산푸르지오써밋점  ...        4.125000           1\n155     9997022                  N 버거  ...        3.476190           1\n176     9250108                한정식 수담  ...        4.166667           1\n232     7748199                   호밀밭  ...        4.300000           1\n\n[5 rows x 8 columns]",
      "text/html": "<div>\n<style scoped>\n    .dataframe tbody tr th:only-of-type {\n        vertical-align: middle;\n    }\n\n    .dataframe tbody tr th {\n        vertical-align: top;\n    }\n\n    .dataframe thead th {\n        text-align: right;\n    }\n</style>\n<table border=\"1\" class=\"dataframe\">\n  <thead>\n    <tr style=\"text-align: right;\">\n      <th></th>\n      <th>locationId</th>\n      <th>place.name</th>\n      <th>is_fch</th>\n      <th>is_local</th>\n      <th>rated_count</th>\n      <th>average_photonum</th>\n      <th>average_rating</th>\n      <th>category_l</th>\n    </tr>\n  </thead>\n  <tbody>\n    <tr>\n      <th>100</th>\n      <td>4077917</td>\n      <td>버터핑거 팬케이크 강남점</td>\n      <td>1</td>\n      <td>0</td>\n      <td>81</td>\n      <td>0.234568</td>\n      <td>4.111111</td>\n      <td>1</td>\n    </tr>\n    <tr>\n      <th>117</th>\n      <td>13833720</td>\n      <td>스타벅스 리져브 - 용산푸르지오써밋점</td>\n      <td>1</td>\n      <td>0</td>\n      <td>8</td>\n      <td>1.875000</td>\n      <td>4.125000</td>\n      <td>1</td>\n    </tr>\n    <tr>\n      <th>155</th>\n      <td>9997022</td>\n      <td>N 버거</td>\n      <td>1</td>\n      <td>1</td>\n      <td>21</td>\n      <td>1.619048</td>\n      <td>3.476190</td>\n      <td>1</td>\n    </tr>\n    <tr>\n      <th>176</th>\n      <td>9250108</td>\n      <td>한정식 수담</td>\n      <td>0</td>\n      <td>0</td>\n      <td>18</td>\n      <td>2.500000</td>\n      <td>4.166667</td>\n      <td>1</td>\n    </tr>\n    <tr>\n      <th>232</th>\n      <td>7748199</td>\n      <td>호밀밭</td>\n      <td>0</td>\n      <td>0</td>\n      <td>20</td>\n      <td>0.550000</td>\n      <td>4.300000</td>\n      <td>1</td>\n    </tr>\n  </tbody>\n</table>\n</div>"
     },
     "metadata": {},
     "execution_count": 64
    }
   ],
   "source": [
    "locations = locations.drop_duplicates(['locationId'], keep='last')\n",
    "print(locations.shape)\n",
    "locations.head()"
   ]
  },
  {
   "cell_type": "code",
   "execution_count": 138,
   "metadata": {},
   "outputs": [
    {
     "output_type": "execute_result",
     "data": {
      "text/plain": "   locationId  createdDate  is_fch  ...  category_l  user_visit_history  rating\n0      788542     20180314       0  ...           1                   0     5.0\n1      788542     20171207       0  ...           1                   0     4.0\n2      788542     20161110       0  ...           1                   0     5.0\n3      788542     20160611       0  ...           1                   0     3.0\n4      788542     20151204       0  ...           1                   0     4.0\n\n[5 rows x 10 columns]",
      "text/html": "<div>\n<style scoped>\n    .dataframe tbody tr th:only-of-type {\n        vertical-align: middle;\n    }\n\n    .dataframe tbody tr th {\n        vertical-align: top;\n    }\n\n    .dataframe thead th {\n        text-align: right;\n    }\n</style>\n<table border=\"1\" class=\"dataframe\">\n  <thead>\n    <tr style=\"text-align: right;\">\n      <th></th>\n      <th>locationId</th>\n      <th>createdDate</th>\n      <th>is_fch</th>\n      <th>is_local</th>\n      <th>rated_count</th>\n      <th>average_photonum</th>\n      <th>average_rating</th>\n      <th>category_l</th>\n      <th>user_visit_history</th>\n      <th>rating</th>\n    </tr>\n  </thead>\n  <tbody>\n    <tr>\n      <th>0</th>\n      <td>788542</td>\n      <td>20180314</td>\n      <td>0</td>\n      <td>1</td>\n      <td>20</td>\n      <td>0.05</td>\n      <td>3.95</td>\n      <td>1</td>\n      <td>0</td>\n      <td>5.0</td>\n    </tr>\n    <tr>\n      <th>1</th>\n      <td>788542</td>\n      <td>20171207</td>\n      <td>0</td>\n      <td>1</td>\n      <td>20</td>\n      <td>0.05</td>\n      <td>3.95</td>\n      <td>1</td>\n      <td>0</td>\n      <td>4.0</td>\n    </tr>\n    <tr>\n      <th>2</th>\n      <td>788542</td>\n      <td>20161110</td>\n      <td>0</td>\n      <td>0</td>\n      <td>20</td>\n      <td>0.05</td>\n      <td>3.95</td>\n      <td>1</td>\n      <td>0</td>\n      <td>5.0</td>\n    </tr>\n    <tr>\n      <th>3</th>\n      <td>788542</td>\n      <td>20160611</td>\n      <td>0</td>\n      <td>0</td>\n      <td>20</td>\n      <td>0.05</td>\n      <td>3.95</td>\n      <td>1</td>\n      <td>0</td>\n      <td>3.0</td>\n    </tr>\n    <tr>\n      <th>4</th>\n      <td>788542</td>\n      <td>20151204</td>\n      <td>0</td>\n      <td>1</td>\n      <td>20</td>\n      <td>0.05</td>\n      <td>3.95</td>\n      <td>1</td>\n      <td>0</td>\n      <td>4.0</td>\n    </tr>\n  </tbody>\n</table>\n</div>"
     },
     "metadata": {},
     "execution_count": 138
    }
   ],
   "source": [
    "pd.read_csv(os.path.join(\"data\",\"YN_afm_df.csv\")).head()"
   ]
  },
  {
   "cell_type": "code",
   "execution_count": 166,
   "metadata": {},
   "outputs": [
    {
     "output_type": "execute_result",
     "data": {
      "text/plain": "   locationId  is_fch  is_local  ...  average_rating  category_l  rating\n0      788542       0         1  ...            3.95           1     5.0\n1      788542       0         1  ...            3.95           1     4.0\n2      788542       0         0  ...            3.95           1     5.0\n3      788542       0         0  ...            3.95           1     3.0\n4      788542       0         1  ...            3.95           1     4.0\n\n[5 rows x 8 columns]",
      "text/html": "<div>\n<style scoped>\n    .dataframe tbody tr th:only-of-type {\n        vertical-align: middle;\n    }\n\n    .dataframe tbody tr th {\n        vertical-align: top;\n    }\n\n    .dataframe thead th {\n        text-align: right;\n    }\n</style>\n<table border=\"1\" class=\"dataframe\">\n  <thead>\n    <tr style=\"text-align: right;\">\n      <th></th>\n      <th>locationId</th>\n      <th>is_fch</th>\n      <th>is_local</th>\n      <th>rated_count</th>\n      <th>average_photonum</th>\n      <th>average_rating</th>\n      <th>category_l</th>\n      <th>rating</th>\n    </tr>\n  </thead>\n  <tbody>\n    <tr>\n      <th>0</th>\n      <td>788542</td>\n      <td>0</td>\n      <td>1</td>\n      <td>20</td>\n      <td>0.05</td>\n      <td>3.95</td>\n      <td>1</td>\n      <td>5.0</td>\n    </tr>\n    <tr>\n      <th>1</th>\n      <td>788542</td>\n      <td>0</td>\n      <td>1</td>\n      <td>20</td>\n      <td>0.05</td>\n      <td>3.95</td>\n      <td>1</td>\n      <td>4.0</td>\n    </tr>\n    <tr>\n      <th>2</th>\n      <td>788542</td>\n      <td>0</td>\n      <td>0</td>\n      <td>20</td>\n      <td>0.05</td>\n      <td>3.95</td>\n      <td>1</td>\n      <td>5.0</td>\n    </tr>\n    <tr>\n      <th>3</th>\n      <td>788542</td>\n      <td>0</td>\n      <td>0</td>\n      <td>20</td>\n      <td>0.05</td>\n      <td>3.95</td>\n      <td>1</td>\n      <td>3.0</td>\n    </tr>\n    <tr>\n      <th>4</th>\n      <td>788542</td>\n      <td>0</td>\n      <td>1</td>\n      <td>20</td>\n      <td>0.05</td>\n      <td>3.95</td>\n      <td>1</td>\n      <td>4.0</td>\n    </tr>\n  </tbody>\n</table>\n</div>"
     },
     "metadata": {},
     "execution_count": 166
    }
   ],
   "source": [
    "df = pd.read_csv(os.path.join(\"data\",\"YN_afm_df.csv\"))\n",
    "df = df.drop(columns=['user_visit_history'],axis=1)\n",
    "df = df.drop(columns=['createdDate'],axis=1)\n",
    "df.head()"
   ]
  },
  {
   "cell_type": "code",
   "execution_count": 167,
   "metadata": {},
   "outputs": [],
   "source": [
    "df.to_csv(os.path.join(\"data\",\"YN_afm_df2.csv\"),index=False)"
   ]
  },
  {
   "cell_type": "code",
   "execution_count": 137,
   "metadata": {},
   "outputs": [
    {
     "output_type": "execute_result",
     "data": {
      "text/plain": "       locationId  ... category_l\n0         4077917  ...          1\n1        13833720  ...          1\n2         9997022  ...          1\n3         9250108  ...          1\n4         7748199  ...          1\n...           ...  ...        ...\n16244     6621149  ...          1\n16245      602902  ...          1\n16246     6622670  ...          1\n16247     8701595  ...          1\n16248     6998634  ...          1\n\n[16249 rows x 8 columns]",
      "text/html": "<div>\n<style scoped>\n    .dataframe tbody tr th:only-of-type {\n        vertical-align: middle;\n    }\n\n    .dataframe tbody tr th {\n        vertical-align: top;\n    }\n\n    .dataframe thead th {\n        text-align: right;\n    }\n</style>\n<table border=\"1\" class=\"dataframe\">\n  <thead>\n    <tr style=\"text-align: right;\">\n      <th></th>\n      <th>locationId</th>\n      <th>place.name</th>\n      <th>is_fch</th>\n      <th>is_local</th>\n      <th>rated_count</th>\n      <th>average_photonum</th>\n      <th>average_rating</th>\n      <th>category_l</th>\n    </tr>\n  </thead>\n  <tbody>\n    <tr>\n      <th>0</th>\n      <td>4077917</td>\n      <td>버터핑거 팬케이크 강남점</td>\n      <td>1</td>\n      <td>0</td>\n      <td>81</td>\n      <td>0.234568</td>\n      <td>4.111111</td>\n      <td>1</td>\n    </tr>\n    <tr>\n      <th>1</th>\n      <td>13833720</td>\n      <td>스타벅스 리져브 - 용산푸르지오써밋점</td>\n      <td>1</td>\n      <td>0</td>\n      <td>8</td>\n      <td>1.875000</td>\n      <td>4.125000</td>\n      <td>1</td>\n    </tr>\n    <tr>\n      <th>2</th>\n      <td>9997022</td>\n      <td>N 버거</td>\n      <td>1</td>\n      <td>1</td>\n      <td>21</td>\n      <td>1.619048</td>\n      <td>3.476190</td>\n      <td>1</td>\n    </tr>\n    <tr>\n      <th>3</th>\n      <td>9250108</td>\n      <td>한정식 수담</td>\n      <td>0</td>\n      <td>0</td>\n      <td>18</td>\n      <td>2.500000</td>\n      <td>4.166667</td>\n      <td>1</td>\n    </tr>\n    <tr>\n      <th>4</th>\n      <td>7748199</td>\n      <td>호밀밭</td>\n      <td>0</td>\n      <td>0</td>\n      <td>20</td>\n      <td>0.550000</td>\n      <td>4.300000</td>\n      <td>1</td>\n    </tr>\n    <tr>\n      <th>...</th>\n      <td>...</td>\n      <td>...</td>\n      <td>...</td>\n      <td>...</td>\n      <td>...</td>\n      <td>...</td>\n      <td>...</td>\n      <td>...</td>\n    </tr>\n    <tr>\n      <th>16244</th>\n      <td>6621149</td>\n      <td>Vestin Villa Myeongdong</td>\n      <td>0</td>\n      <td>0</td>\n      <td>25</td>\n      <td>1.600000</td>\n      <td>3.360000</td>\n      <td>1</td>\n    </tr>\n    <tr>\n      <th>16245</th>\n      <td>602902</td>\n      <td>Western CO-OP Hotel &amp; Residence</td>\n      <td>0</td>\n      <td>0</td>\n      <td>242</td>\n      <td>1.285124</td>\n      <td>3.685950</td>\n      <td>1</td>\n    </tr>\n    <tr>\n      <th>16246</th>\n      <td>6622670</td>\n      <td>Won's Ville Myeongdong</td>\n      <td>0</td>\n      <td>0</td>\n      <td>79</td>\n      <td>1.797468</td>\n      <td>4.000000</td>\n      <td>1</td>\n    </tr>\n    <tr>\n      <th>16247</th>\n      <td>8701595</td>\n      <td>Yangmi Motel</td>\n      <td>0</td>\n      <td>0</td>\n      <td>4</td>\n      <td>3.250000</td>\n      <td>3.250000</td>\n      <td>1</td>\n    </tr>\n    <tr>\n      <th>16248</th>\n      <td>6998634</td>\n      <td>ibis budget Ambassador Seoul Dongdaemun</td>\n      <td>0</td>\n      <td>0</td>\n      <td>379</td>\n      <td>1.290237</td>\n      <td>3.947230</td>\n      <td>1</td>\n    </tr>\n  </tbody>\n</table>\n<p>16249 rows × 8 columns</p>\n</div>"
     },
     "metadata": {},
     "execution_count": 137
    }
   ],
   "source": [
    "locations = pd.read_csv(os.path.join(\"data\",\"locationsinfo.csv\"))\n",
    "locations"
   ]
  },
  {
   "cell_type": "code",
   "execution_count": 118,
   "metadata": {},
   "outputs": [
    {
     "output_type": "execute_result",
     "data": {
      "text/plain": "            locationId  ... category_l\nlocationId              ...           \n6998634        6998634  ...          1\n8701595        8701595  ...          1\n6622670        6622670  ...          1\n602902          602902  ...          1\n6621149        6621149  ...          1\n...                ...  ...        ...\n7748199        7748199  ...          1\n9250108        9250108  ...          1\n9997022        9997022  ...          1\n13833720      13833720  ...          1\n4077917        4077917  ...          1\n\n[16249 rows x 8 columns]",
      "text/html": "<div>\n<style scoped>\n    .dataframe tbody tr th:only-of-type {\n        vertical-align: middle;\n    }\n\n    .dataframe tbody tr th {\n        vertical-align: top;\n    }\n\n    .dataframe thead th {\n        text-align: right;\n    }\n</style>\n<table border=\"1\" class=\"dataframe\">\n  <thead>\n    <tr style=\"text-align: right;\">\n      <th></th>\n      <th>locationId</th>\n      <th>place.name</th>\n      <th>is_fch</th>\n      <th>is_local</th>\n      <th>rated_count</th>\n      <th>average_photonum</th>\n      <th>average_rating</th>\n      <th>category_l</th>\n    </tr>\n    <tr>\n      <th>locationId</th>\n      <th></th>\n      <th></th>\n      <th></th>\n      <th></th>\n      <th></th>\n      <th></th>\n      <th></th>\n      <th></th>\n    </tr>\n  </thead>\n  <tbody>\n    <tr>\n      <th>6998634</th>\n      <td>6998634</td>\n      <td>ibis budget Ambassador Seoul Dongdaemun</td>\n      <td>0</td>\n      <td>0</td>\n      <td>379</td>\n      <td>1.290237</td>\n      <td>3.947230</td>\n      <td>1</td>\n    </tr>\n    <tr>\n      <th>8701595</th>\n      <td>8701595</td>\n      <td>Yangmi Motel</td>\n      <td>0</td>\n      <td>0</td>\n      <td>4</td>\n      <td>3.250000</td>\n      <td>3.250000</td>\n      <td>1</td>\n    </tr>\n    <tr>\n      <th>6622670</th>\n      <td>6622670</td>\n      <td>Won's Ville Myeongdong</td>\n      <td>0</td>\n      <td>0</td>\n      <td>79</td>\n      <td>1.797468</td>\n      <td>4.000000</td>\n      <td>1</td>\n    </tr>\n    <tr>\n      <th>602902</th>\n      <td>602902</td>\n      <td>Western CO-OP Hotel &amp; Residence</td>\n      <td>0</td>\n      <td>0</td>\n      <td>242</td>\n      <td>1.285124</td>\n      <td>3.685950</td>\n      <td>1</td>\n    </tr>\n    <tr>\n      <th>6621149</th>\n      <td>6621149</td>\n      <td>Vestin Villa Myeongdong</td>\n      <td>0</td>\n      <td>0</td>\n      <td>25</td>\n      <td>1.600000</td>\n      <td>3.360000</td>\n      <td>1</td>\n    </tr>\n    <tr>\n      <th>...</th>\n      <td>...</td>\n      <td>...</td>\n      <td>...</td>\n      <td>...</td>\n      <td>...</td>\n      <td>...</td>\n      <td>...</td>\n      <td>...</td>\n    </tr>\n    <tr>\n      <th>7748199</th>\n      <td>7748199</td>\n      <td>호밀밭</td>\n      <td>0</td>\n      <td>0</td>\n      <td>20</td>\n      <td>0.550000</td>\n      <td>4.300000</td>\n      <td>1</td>\n    </tr>\n    <tr>\n      <th>9250108</th>\n      <td>9250108</td>\n      <td>한정식 수담</td>\n      <td>0</td>\n      <td>0</td>\n      <td>18</td>\n      <td>2.500000</td>\n      <td>4.166667</td>\n      <td>1</td>\n    </tr>\n    <tr>\n      <th>9997022</th>\n      <td>9997022</td>\n      <td>N 버거</td>\n      <td>1</td>\n      <td>1</td>\n      <td>21</td>\n      <td>1.619048</td>\n      <td>3.476190</td>\n      <td>1</td>\n    </tr>\n    <tr>\n      <th>13833720</th>\n      <td>13833720</td>\n      <td>스타벅스 리져브 - 용산푸르지오써밋점</td>\n      <td>1</td>\n      <td>0</td>\n      <td>8</td>\n      <td>1.875000</td>\n      <td>4.125000</td>\n      <td>1</td>\n    </tr>\n    <tr>\n      <th>4077917</th>\n      <td>4077917</td>\n      <td>버터핑거 팬케이크 강남점</td>\n      <td>1</td>\n      <td>0</td>\n      <td>81</td>\n      <td>0.234568</td>\n      <td>4.111111</td>\n      <td>1</td>\n    </tr>\n  </tbody>\n</table>\n<p>16249 rows × 8 columns</p>\n</div>"
     },
     "metadata": {},
     "execution_count": 118
    }
   ],
   "source": [
    "locations.index = locations.locationId\n",
    "\n",
    "x = locations.locationId.tolist()\n",
    "x = x[::-1]\n",
    "\n",
    "locations = locations.reindex(index = x)\n",
    "locations"
   ]
  },
  {
   "cell_type": "code",
   "execution_count": null,
   "metadata": {},
   "outputs": [],
   "source": []
  },
  {
   "cell_type": "code",
   "execution_count": null,
   "metadata": {},
   "outputs": [],
   "source": []
  },
  {
   "cell_type": "code",
   "execution_count": null,
   "metadata": {},
   "outputs": [],
   "source": []
  },
  {
   "cell_type": "code",
   "execution_count": null,
   "metadata": {},
   "outputs": [],
   "source": []
  },
  {
   "cell_type": "code",
   "execution_count": null,
   "metadata": {},
   "outputs": [],
   "source": []
  },
  {
   "cell_type": "markdown",
   "metadata": {},
   "source": [
    "# train  \n",
    "\n",
    "*train시 사용 columns*  \n",
    "'locationId', 'createdDate', 'is_fch', 'is_local',\n",
    "       'rated_count', 'average_photonum', 'average_rating', 'category_l' ,'user_visit_history'\n",
    "  \n",
    "*이 중 server 상에서 받을 정보*  \n",
    "\n",
    "사용자에게 우리 데이터 중 일부 호텔(랜덤) 보여주고 이 중 간 호텔 및 호텔에 대한 평점 등을 받아,\n",
    "가중치로 부여.  \n",
    "-> 가본 적 있다. or 좋아하는 호텔 입력 받아  \n",
    "-> 해당 id 입력으로 넘겨줘  \n",
    "-> 'user_visit_history'에 * 가중치 열을 넣음"
   ]
  },
  {
   "cell_type": "code",
   "execution_count": 42,
   "metadata": {
    "tags": [
     "outputPrepend",
     "outputPrepend",
     "outputPrepend",
     "outputPrepend",
     "outputPrepend",
     "outputPrepend",
     "outputPrepend",
     "outputPrepend",
     "outputPrepend",
     "outputPrepend",
     "outputPrepend",
     "outputPrepend",
     "outputPrepend",
     "outputPrepend",
     "outputPrepend",
     "outputPrepend",
     "outputPrepend",
     "outputPrepend",
     "outputPrepend",
     "outputPrepend",
     "outputPrepend",
     "outputPrepend",
     "outputPrepend",
     "outputPrepend",
     "outputPrepend",
     "outputPrepend",
     "outputPrepend",
     "outputPrepend",
     "outputPrepend",
     "outputPrepend",
     "outputPrepend",
     "outputPrepend",
     "outputPrepend",
     "outputPrepend",
     "outputPrepend",
     "outputPrepend",
     "outputPrepend",
     "outputPrepend",
     "outputPrepend",
     "outputPrepend",
     "outputPrepend",
     "outputPrepend",
     "outputPrepend",
     "outputPrepend",
     "outputPrepend",
     "outputPrepend",
     "outputPrepend"
    ]
   },
   "outputs": [
    {
     "output_type": "stream",
     "name": "stdout",
     "text": "Data Prepared...\nX shape: (553625, 10)\nnum_feature 10\nData Prepared...\nX shape: (16249, 10)\nnum_feature 10\n2020-06-26 00:26:47.663733: I tensorflow/core/platform/cpu_feature_guard.cc:142] Your CPU supports instructions that this TensorFlow binary was not compiled to use: AVX2 FMA\n2020-06-26 00:26:47.688573: I tensorflow/compiler/xla/service/service.cc:168] XLA service 0x7fe44cb5b990 initialized for platform Host (this does not guarantee that XLA will be used). Devices:\n2020-06-26 00:26:47.688591: I tensorflow/compiler/xla/service/service.cc:176]   StreamExecutor device (0): Host, Default Version\nStart Training: Batch Size: 2560, Embedding Size: 10, Hidden Size: 64\nWARNING:tensorflow:From /Users/apple/opt/anaconda3/lib/python3.7/site-packages/tensorflow_core/python/ops/array_grad.py:563: _EagerTensorBase.cpu (from tensorflow.python.framework.ops) is deprecated and will be removed in a future version.\nInstructions for updating:\nUse tf.identity instead.\nTraceback (most recent call last):\n  File \"train.py\", line 96, in <module>\n    train(epochs=args.epochs)  \n  File \"train.py\", line 80, in train\n    loss = train_on_batch(model, optimizer, mse, x, y)\n  File \"train.py\", line 56, in train_on_batch\n    optimizer.apply_gradients(zip(grads, model.trainable_variables))\n  File \"/Users/apple/opt/anaconda3/lib/python3.7/site-packages/tensorflow_core/python/keras/optimizer_v2/optimizer_v2.py\", line 433, in apply_gradients\n    self._create_hypers()\n  File \"/Users/apple/opt/anaconda3/lib/python3.7/site-packages/tensorflow_core/python/keras/optimizer_v2/optimizer_v2.py\", line 655, in _create_hypers\n    aggregation=tf_variables.VariableAggregation.ONLY_FIRST_REPLICA)\n  File \"/Users/apple/opt/anaconda3/lib/python3.7/site-packages/tensorflow_core/python/keras/optimizer_v2/optimizer_v2.py\", line 792, in add_weight\n    initializer = initializers.get(initializer)\n  File \"/Users/apple/opt/anaconda3/lib/python3.7/site-packages/tensorflow_core/python/keras/initializers.py\", line 203, in get\n    return deserialize(identifier)\n  File \"/Users/apple/opt/anaconda3/lib/python3.7/site-packages/tensorflow_core/python/keras/initializers.py\", line 186, in deserialize\n    printable_module_name='initializer')\n  File \"/Users/apple/opt/anaconda3/lib/python3.7/site-packages/tensorflow_core/python/keras/utils/generic_utils.py\", line 322, in deserialize_keras_object\n    raise ValueError('Unknown ' + printable_module_name + ':' + object_name)\nValueError: Unknown initializer:1e-4\n"
    }
   ],
   "source": [
    "! python train.py --epochs 50 --lr 1e-4"
   ]
  },
  {
   "cell_type": "code",
   "execution_count": null,
   "metadata": {},
   "outputs": [],
   "source": []
  },
  {
   "cell_type": "code",
   "execution_count": 26,
   "metadata": {},
   "outputs": [
    {
     "output_type": "execute_result",
     "data": {
      "text/plain": "array([0, 1])"
     },
     "metadata": {},
     "execution_count": 26
    }
   ],
   "source": [
    "train.loc[train[\"is_fch\"] == 11,\"is_fch\"] = 1\n",
    "train['is_fch'].unique()"
   ]
  },
  {
   "cell_type": "code",
   "execution_count": 27,
   "metadata": {},
   "outputs": [],
   "source": [
    "train.to_csv(os.path.join(\"data\",\"YN_afm_df2.csv\"), index=False)"
   ]
  },
  {
   "cell_type": "code",
   "execution_count": null,
   "metadata": {},
   "outputs": [],
   "source": [
    "train."
   ]
  },
  {
   "cell_type": "code",
   "execution_count": 14,
   "metadata": {},
   "outputs": [
    {
     "output_type": "execute_result",
     "data": {
      "text/plain": "   locationId            place.name  is_fch  is_local  rated_count  \\\n0     4077917         버터핑거 팬케이크 강남점       1         0           81   \n1    13833720  스타벅스 리져브 - 용산푸르지오써밋점       1         0            8   \n2     9997022                  N 버거       1         1           21   \n3     9250108                한정식 수담       0         0           18   \n4     7748199                   호밀밭       0         0           20   \n\n   average_photonum  average_rating  category_l  \n0          0.234568        4.111111           1  \n1          1.875000        4.125000           1  \n2          1.619048        3.476190           1  \n3          2.500000        4.166667           1  \n4          0.550000        4.300000           1  ",
      "text/html": "<div>\n<style scoped>\n    .dataframe tbody tr th:only-of-type {\n        vertical-align: middle;\n    }\n\n    .dataframe tbody tr th {\n        vertical-align: top;\n    }\n\n    .dataframe thead th {\n        text-align: right;\n    }\n</style>\n<table border=\"1\" class=\"dataframe\">\n  <thead>\n    <tr style=\"text-align: right;\">\n      <th></th>\n      <th>locationId</th>\n      <th>place.name</th>\n      <th>is_fch</th>\n      <th>is_local</th>\n      <th>rated_count</th>\n      <th>average_photonum</th>\n      <th>average_rating</th>\n      <th>category_l</th>\n    </tr>\n  </thead>\n  <tbody>\n    <tr>\n      <th>0</th>\n      <td>4077917</td>\n      <td>버터핑거 팬케이크 강남점</td>\n      <td>1</td>\n      <td>0</td>\n      <td>81</td>\n      <td>0.234568</td>\n      <td>4.111111</td>\n      <td>1</td>\n    </tr>\n    <tr>\n      <th>1</th>\n      <td>13833720</td>\n      <td>스타벅스 리져브 - 용산푸르지오써밋점</td>\n      <td>1</td>\n      <td>0</td>\n      <td>8</td>\n      <td>1.875000</td>\n      <td>4.125000</td>\n      <td>1</td>\n    </tr>\n    <tr>\n      <th>2</th>\n      <td>9997022</td>\n      <td>N 버거</td>\n      <td>1</td>\n      <td>1</td>\n      <td>21</td>\n      <td>1.619048</td>\n      <td>3.476190</td>\n      <td>1</td>\n    </tr>\n    <tr>\n      <th>3</th>\n      <td>9250108</td>\n      <td>한정식 수담</td>\n      <td>0</td>\n      <td>0</td>\n      <td>18</td>\n      <td>2.500000</td>\n      <td>4.166667</td>\n      <td>1</td>\n    </tr>\n    <tr>\n      <th>4</th>\n      <td>7748199</td>\n      <td>호밀밭</td>\n      <td>0</td>\n      <td>0</td>\n      <td>20</td>\n      <td>0.550000</td>\n      <td>4.300000</td>\n      <td>1</td>\n    </tr>\n  </tbody>\n</table>\n</div>"
     },
     "metadata": {},
     "execution_count": 14
    }
   ],
   "source": [
    "test = pd.read_csv(os.path.join(\"data\",\"locationsinfo.csv\"))\n",
    "test.head()"
   ]
  },
  {
   "cell_type": "code",
   "execution_count": 15,
   "metadata": {},
   "outputs": [
    {
     "output_type": "execute_result",
     "data": {
      "text/plain": "['컴포즈커피 - 종로학원가점',\n '미스터피자 서울대역점',\n '독도참치 홍제점',\n '하노이의 아침 서울역점',\n '아웃백스테이크하우스 구의점',\n '스타벅스 강남삼성타운점',\n '엉터리생고기 - 명동점']"
     },
     "metadata": {},
     "execution_count": 15
    }
   ],
   "source": [
    "test.loc[test['locationId'].isin(train.loc[train['is_fch']==11]['locationId'].unique().tolist())]['place.name'].unique().tolist()"
   ]
  },
  {
   "cell_type": "code",
   "execution_count": null,
   "metadata": {},
   "outputs": [],
   "source": []
  },
  {
   "cell_type": "code",
   "execution_count": null,
   "metadata": {},
   "outputs": [],
   "source": []
  },
  {
   "cell_type": "code",
   "execution_count": 168,
   "metadata": {},
   "outputs": [],
   "source": [
    "train = pd.read_csv(os.path.join(\"data\",\"YN_afm_df2.csv\"))\n",
    "test = pd.read_csv(os.path.join(\"data\",\"locationsinfo.csv\"))\n",
    "test = test.drop(columns=['place.name'], axis=1)\n",
    "X_train = train.iloc[:, 0:7]\n",
    "X_test = test.iloc[:, 0:7]\n",
    "Y_train = train.iloc[:, 7] "
   ]
  },
  {
   "cell_type": "code",
   "execution_count": 198,
   "metadata": {},
   "outputs": [
    {
     "output_type": "execute_result",
     "data": {
      "text/plain": "   locationId  is_fch  is_local  ...  average_rating  category_l  rating\n0      788542       0         1  ...            3.95           1     5.0\n1      788542       0         1  ...            3.95           1     4.0\n2      788542       0         0  ...            3.95           1     5.0\n3      788542       0         0  ...            3.95           1     3.0\n4      788542       0         1  ...            3.95           1     4.0\n\n[5 rows x 8 columns]",
      "text/html": "<div>\n<style scoped>\n    .dataframe tbody tr th:only-of-type {\n        vertical-align: middle;\n    }\n\n    .dataframe tbody tr th {\n        vertical-align: top;\n    }\n\n    .dataframe thead th {\n        text-align: right;\n    }\n</style>\n<table border=\"1\" class=\"dataframe\">\n  <thead>\n    <tr style=\"text-align: right;\">\n      <th></th>\n      <th>locationId</th>\n      <th>is_fch</th>\n      <th>is_local</th>\n      <th>rated_count</th>\n      <th>average_photonum</th>\n      <th>average_rating</th>\n      <th>category_l</th>\n      <th>rating</th>\n    </tr>\n  </thead>\n  <tbody>\n    <tr>\n      <th>0</th>\n      <td>788542</td>\n      <td>0</td>\n      <td>1</td>\n      <td>20</td>\n      <td>0.05</td>\n      <td>3.95</td>\n      <td>1</td>\n      <td>5.0</td>\n    </tr>\n    <tr>\n      <th>1</th>\n      <td>788542</td>\n      <td>0</td>\n      <td>1</td>\n      <td>20</td>\n      <td>0.05</td>\n      <td>3.95</td>\n      <td>1</td>\n      <td>4.0</td>\n    </tr>\n    <tr>\n      <th>2</th>\n      <td>788542</td>\n      <td>0</td>\n      <td>0</td>\n      <td>20</td>\n      <td>0.05</td>\n      <td>3.95</td>\n      <td>1</td>\n      <td>5.0</td>\n    </tr>\n    <tr>\n      <th>3</th>\n      <td>788542</td>\n      <td>0</td>\n      <td>0</td>\n      <td>20</td>\n      <td>0.05</td>\n      <td>3.95</td>\n      <td>1</td>\n      <td>3.0</td>\n    </tr>\n    <tr>\n      <th>4</th>\n      <td>788542</td>\n      <td>0</td>\n      <td>1</td>\n      <td>20</td>\n      <td>0.05</td>\n      <td>3.95</td>\n      <td>1</td>\n      <td>4.0</td>\n    </tr>\n  </tbody>\n</table>\n</div>"
     },
     "metadata": {},
     "execution_count": 198
    }
   ],
   "source": [
    "train.head()"
   ]
  },
  {
   "cell_type": "code",
   "execution_count": 199,
   "metadata": {},
   "outputs": [
    {
     "output_type": "execute_result",
     "data": {
      "text/plain": "   locationId            place.name  ...  average_rating  category_l\n0     4077917         버터핑거 팬케이크 강남점  ...        4.111111           1\n1    13833720  스타벅스 리져브 - 용산푸르지오써밋점  ...        4.125000           1\n2     9997022                  N 버거  ...        3.476190           1\n3     9250108                한정식 수담  ...        4.166667           1\n4     7748199                   호밀밭  ...        4.300000           1\n\n[5 rows x 8 columns]",
      "text/html": "<div>\n<style scoped>\n    .dataframe tbody tr th:only-of-type {\n        vertical-align: middle;\n    }\n\n    .dataframe tbody tr th {\n        vertical-align: top;\n    }\n\n    .dataframe thead th {\n        text-align: right;\n    }\n</style>\n<table border=\"1\" class=\"dataframe\">\n  <thead>\n    <tr style=\"text-align: right;\">\n      <th></th>\n      <th>locationId</th>\n      <th>place.name</th>\n      <th>is_fch</th>\n      <th>is_local</th>\n      <th>rated_count</th>\n      <th>average_photonum</th>\n      <th>average_rating</th>\n      <th>category_l</th>\n    </tr>\n  </thead>\n  <tbody>\n    <tr>\n      <th>0</th>\n      <td>4077917</td>\n      <td>버터핑거 팬케이크 강남점</td>\n      <td>1</td>\n      <td>0</td>\n      <td>81</td>\n      <td>0.234568</td>\n      <td>4.111111</td>\n      <td>1</td>\n    </tr>\n    <tr>\n      <th>1</th>\n      <td>13833720</td>\n      <td>스타벅스 리져브 - 용산푸르지오써밋점</td>\n      <td>1</td>\n      <td>0</td>\n      <td>8</td>\n      <td>1.875000</td>\n      <td>4.125000</td>\n      <td>1</td>\n    </tr>\n    <tr>\n      <th>2</th>\n      <td>9997022</td>\n      <td>N 버거</td>\n      <td>1</td>\n      <td>1</td>\n      <td>21</td>\n      <td>1.619048</td>\n      <td>3.476190</td>\n      <td>1</td>\n    </tr>\n    <tr>\n      <th>3</th>\n      <td>9250108</td>\n      <td>한정식 수담</td>\n      <td>0</td>\n      <td>0</td>\n      <td>18</td>\n      <td>2.500000</td>\n      <td>4.166667</td>\n      <td>1</td>\n    </tr>\n    <tr>\n      <th>4</th>\n      <td>7748199</td>\n      <td>호밀밭</td>\n      <td>0</td>\n      <td>0</td>\n      <td>20</td>\n      <td>0.550000</td>\n      <td>4.300000</td>\n      <td>1</td>\n    </tr>\n  </tbody>\n</table>\n</div>"
     },
     "metadata": {},
     "execution_count": 199
    }
   ],
   "source": [
    "test.head()"
   ]
  },
  {
   "cell_type": "code",
   "execution_count": 169,
   "metadata": {},
   "outputs": [
    {
     "output_type": "execute_result",
     "data": {
      "text/plain": "        locationId  is_fch  ...  average_rating  category_l\n0           788542       0  ...         3.95000           1\n1           788542       0  ...         3.95000           1\n2           788542       0  ...         3.95000           1\n3           788542       0  ...         3.95000           1\n4           788542       0  ...         3.95000           1\n...            ...     ...  ...             ...         ...\n553620     6998634       0  ...         3.94723           1\n553621     6998634       0  ...         3.94723           1\n553622     6998634       0  ...         3.94723           1\n553623     6998634       0  ...         3.94723           1\n553624     6998634       0  ...         3.94723           1\n\n[553625 rows x 7 columns]",
      "text/html": "<div>\n<style scoped>\n    .dataframe tbody tr th:only-of-type {\n        vertical-align: middle;\n    }\n\n    .dataframe tbody tr th {\n        vertical-align: top;\n    }\n\n    .dataframe thead th {\n        text-align: right;\n    }\n</style>\n<table border=\"1\" class=\"dataframe\">\n  <thead>\n    <tr style=\"text-align: right;\">\n      <th></th>\n      <th>locationId</th>\n      <th>is_fch</th>\n      <th>is_local</th>\n      <th>rated_count</th>\n      <th>average_photonum</th>\n      <th>average_rating</th>\n      <th>category_l</th>\n    </tr>\n  </thead>\n  <tbody>\n    <tr>\n      <th>0</th>\n      <td>788542</td>\n      <td>0</td>\n      <td>1</td>\n      <td>20</td>\n      <td>0.050000</td>\n      <td>3.95000</td>\n      <td>1</td>\n    </tr>\n    <tr>\n      <th>1</th>\n      <td>788542</td>\n      <td>0</td>\n      <td>1</td>\n      <td>20</td>\n      <td>0.050000</td>\n      <td>3.95000</td>\n      <td>1</td>\n    </tr>\n    <tr>\n      <th>2</th>\n      <td>788542</td>\n      <td>0</td>\n      <td>0</td>\n      <td>20</td>\n      <td>0.050000</td>\n      <td>3.95000</td>\n      <td>1</td>\n    </tr>\n    <tr>\n      <th>3</th>\n      <td>788542</td>\n      <td>0</td>\n      <td>0</td>\n      <td>20</td>\n      <td>0.050000</td>\n      <td>3.95000</td>\n      <td>1</td>\n    </tr>\n    <tr>\n      <th>4</th>\n      <td>788542</td>\n      <td>0</td>\n      <td>1</td>\n      <td>20</td>\n      <td>0.050000</td>\n      <td>3.95000</td>\n      <td>1</td>\n    </tr>\n    <tr>\n      <th>...</th>\n      <td>...</td>\n      <td>...</td>\n      <td>...</td>\n      <td>...</td>\n      <td>...</td>\n      <td>...</td>\n      <td>...</td>\n    </tr>\n    <tr>\n      <th>553620</th>\n      <td>6998634</td>\n      <td>0</td>\n      <td>0</td>\n      <td>379</td>\n      <td>1.290237</td>\n      <td>3.94723</td>\n      <td>1</td>\n    </tr>\n    <tr>\n      <th>553621</th>\n      <td>6998634</td>\n      <td>0</td>\n      <td>0</td>\n      <td>379</td>\n      <td>1.290237</td>\n      <td>3.94723</td>\n      <td>1</td>\n    </tr>\n    <tr>\n      <th>553622</th>\n      <td>6998634</td>\n      <td>0</td>\n      <td>0</td>\n      <td>379</td>\n      <td>1.290237</td>\n      <td>3.94723</td>\n      <td>1</td>\n    </tr>\n    <tr>\n      <th>553623</th>\n      <td>6998634</td>\n      <td>0</td>\n      <td>0</td>\n      <td>379</td>\n      <td>1.290237</td>\n      <td>3.94723</td>\n      <td>1</td>\n    </tr>\n    <tr>\n      <th>553624</th>\n      <td>6998634</td>\n      <td>0</td>\n      <td>0</td>\n      <td>379</td>\n      <td>1.290237</td>\n      <td>3.94723</td>\n      <td>1</td>\n    </tr>\n  </tbody>\n</table>\n<p>553625 rows × 7 columns</p>\n</div>"
     },
     "metadata": {},
     "execution_count": 169
    }
   ],
   "source": [
    "X_train"
   ]
  },
  {
   "cell_type": "code",
   "execution_count": 170,
   "metadata": {},
   "outputs": [
    {
     "output_type": "execute_result",
     "data": {
      "text/plain": "0         5.00000\n1         4.00000\n2         5.00000\n3         3.00000\n4         4.00000\n           ...   \n553620    3.94723\n553621    3.94723\n553622    3.94723\n553623    3.94723\n553624    3.94723\nName: rating, Length: 553625, dtype: float64"
     },
     "metadata": {},
     "execution_count": 170
    }
   ],
   "source": [
    "Y_train"
   ]
  },
  {
   "cell_type": "code",
   "execution_count": 193,
   "metadata": {},
   "outputs": [
    {
     "output_type": "stream",
     "name": "stdout",
     "text": "(553625, 8) (16249, 8)\n"
    }
   ],
   "source": [
    "train = pd.read_csv(os.path.join(\"data\",\"YN_afm_df2.csv\"))\n",
    "test = pd.read_csv(os.path.join(\"data\",\"locationsinfo.csv\"))\n",
    "print(train.shape, test.shape)"
   ]
  },
  {
   "cell_type": "code",
   "execution_count": 194,
   "metadata": {},
   "outputs": [
    {
     "output_type": "execute_result",
     "data": {
      "text/plain": "   locationId  is_fch  is_local  ...  average_rating  category_l  rating\n0      788542       0         1  ...            3.95           1     5.0\n1      788542       0         1  ...            3.95           1     4.0\n2      788542       0         0  ...            3.95           1     5.0\n3      788542       0         0  ...            3.95           1     3.0\n4      788542       0         1  ...            3.95           1     4.0\n\n[5 rows x 8 columns]",
      "text/html": "<div>\n<style scoped>\n    .dataframe tbody tr th:only-of-type {\n        vertical-align: middle;\n    }\n\n    .dataframe tbody tr th {\n        vertical-align: top;\n    }\n\n    .dataframe thead th {\n        text-align: right;\n    }\n</style>\n<table border=\"1\" class=\"dataframe\">\n  <thead>\n    <tr style=\"text-align: right;\">\n      <th></th>\n      <th>locationId</th>\n      <th>is_fch</th>\n      <th>is_local</th>\n      <th>rated_count</th>\n      <th>average_photonum</th>\n      <th>average_rating</th>\n      <th>category_l</th>\n      <th>rating</th>\n    </tr>\n  </thead>\n  <tbody>\n    <tr>\n      <th>0</th>\n      <td>788542</td>\n      <td>0</td>\n      <td>1</td>\n      <td>20</td>\n      <td>0.05</td>\n      <td>3.95</td>\n      <td>1</td>\n      <td>5.0</td>\n    </tr>\n    <tr>\n      <th>1</th>\n      <td>788542</td>\n      <td>0</td>\n      <td>1</td>\n      <td>20</td>\n      <td>0.05</td>\n      <td>3.95</td>\n      <td>1</td>\n      <td>4.0</td>\n    </tr>\n    <tr>\n      <th>2</th>\n      <td>788542</td>\n      <td>0</td>\n      <td>0</td>\n      <td>20</td>\n      <td>0.05</td>\n      <td>3.95</td>\n      <td>1</td>\n      <td>5.0</td>\n    </tr>\n    <tr>\n      <th>3</th>\n      <td>788542</td>\n      <td>0</td>\n      <td>0</td>\n      <td>20</td>\n      <td>0.05</td>\n      <td>3.95</td>\n      <td>1</td>\n      <td>3.0</td>\n    </tr>\n    <tr>\n      <th>4</th>\n      <td>788542</td>\n      <td>0</td>\n      <td>1</td>\n      <td>20</td>\n      <td>0.05</td>\n      <td>3.95</td>\n      <td>1</td>\n      <td>4.0</td>\n    </tr>\n  </tbody>\n</table>\n</div>"
     },
     "metadata": {},
     "execution_count": 194
    }
   ],
   "source": [
    "train.head()"
   ]
  },
  {
   "cell_type": "code",
   "execution_count": 195,
   "metadata": {},
   "outputs": [
    {
     "output_type": "execute_result",
     "data": {
      "text/plain": "   locationId            place.name  ...  average_rating  category_l\n0     4077917         버터핑거 팬케이크 강남점  ...        4.111111           1\n1    13833720  스타벅스 리져브 - 용산푸르지오써밋점  ...        4.125000           1\n2     9997022                  N 버거  ...        3.476190           1\n3     9250108                한정식 수담  ...        4.166667           1\n4     7748199                   호밀밭  ...        4.300000           1\n\n[5 rows x 8 columns]",
      "text/html": "<div>\n<style scoped>\n    .dataframe tbody tr th:only-of-type {\n        vertical-align: middle;\n    }\n\n    .dataframe tbody tr th {\n        vertical-align: top;\n    }\n\n    .dataframe thead th {\n        text-align: right;\n    }\n</style>\n<table border=\"1\" class=\"dataframe\">\n  <thead>\n    <tr style=\"text-align: right;\">\n      <th></th>\n      <th>locationId</th>\n      <th>place.name</th>\n      <th>is_fch</th>\n      <th>is_local</th>\n      <th>rated_count</th>\n      <th>average_photonum</th>\n      <th>average_rating</th>\n      <th>category_l</th>\n    </tr>\n  </thead>\n  <tbody>\n    <tr>\n      <th>0</th>\n      <td>4077917</td>\n      <td>버터핑거 팬케이크 강남점</td>\n      <td>1</td>\n      <td>0</td>\n      <td>81</td>\n      <td>0.234568</td>\n      <td>4.111111</td>\n      <td>1</td>\n    </tr>\n    <tr>\n      <th>1</th>\n      <td>13833720</td>\n      <td>스타벅스 리져브 - 용산푸르지오써밋점</td>\n      <td>1</td>\n      <td>0</td>\n      <td>8</td>\n      <td>1.875000</td>\n      <td>4.125000</td>\n      <td>1</td>\n    </tr>\n    <tr>\n      <th>2</th>\n      <td>9997022</td>\n      <td>N 버거</td>\n      <td>1</td>\n      <td>1</td>\n      <td>21</td>\n      <td>1.619048</td>\n      <td>3.476190</td>\n      <td>1</td>\n    </tr>\n    <tr>\n      <th>3</th>\n      <td>9250108</td>\n      <td>한정식 수담</td>\n      <td>0</td>\n      <td>0</td>\n      <td>18</td>\n      <td>2.500000</td>\n      <td>4.166667</td>\n      <td>1</td>\n    </tr>\n    <tr>\n      <th>4</th>\n      <td>7748199</td>\n      <td>호밀밭</td>\n      <td>0</td>\n      <td>0</td>\n      <td>20</td>\n      <td>0.550000</td>\n      <td>4.300000</td>\n      <td>1</td>\n    </tr>\n  </tbody>\n</table>\n</div>"
     },
     "metadata": {},
     "execution_count": 195
    }
   ],
   "source": [
    "test.head()"
   ]
  },
  {
   "cell_type": "code",
   "execution_count": 187,
   "metadata": {},
   "outputs": [],
   "source": [
    "train['is_train'] = 1\n",
    "test['is_train'] = 0"
   ]
  },
  {
   "cell_type": "code",
   "execution_count": 188,
   "metadata": {},
   "outputs": [
    {
     "output_type": "execute_result",
     "data": {
      "text/plain": "(569874, 10)"
     },
     "metadata": {},
     "execution_count": 188
    }
   ],
   "source": [
    "df = pd.concat([train,test])\n",
    "df.shape"
   ]
  },
  {
   "cell_type": "code",
   "execution_count": 190,
   "metadata": {},
   "outputs": [],
   "source": [
    "df.to_csv(os.path.join(\"data\",\"YN_afm_df3.csv\"), index=False)"
   ]
  },
  {
   "cell_type": "code",
   "execution_count": 191,
   "metadata": {},
   "outputs": [
    {
     "output_type": "execute_result",
     "data": {
      "text/plain": "Index(['locationId', 'is_fch', 'is_local', 'rated_count', 'average_photonum',\n       'average_rating', 'category_l', 'rating', 'is_train', 'place.name'],\n      dtype='object')"
     },
     "metadata": {},
     "execution_count": 191
    }
   ],
   "source": [
    "df.columns"
   ]
  },
  {
   "cell_type": "code",
   "execution_count": 192,
   "metadata": {},
   "outputs": [
    {
     "output_type": "execute_result",
     "data": {
      "text/plain": "   locationId  is_fch  is_local  ...  rating  is_train  place.name\n0      788542       0         1  ...     5.0         1         NaN\n1      788542       0         1  ...     4.0         1         NaN\n2      788542       0         0  ...     5.0         1         NaN\n3      788542       0         0  ...     3.0         1         NaN\n4      788542       0         1  ...     4.0         1         NaN\n\n[5 rows x 10 columns]",
      "text/html": "<div>\n<style scoped>\n    .dataframe tbody tr th:only-of-type {\n        vertical-align: middle;\n    }\n\n    .dataframe tbody tr th {\n        vertical-align: top;\n    }\n\n    .dataframe thead th {\n        text-align: right;\n    }\n</style>\n<table border=\"1\" class=\"dataframe\">\n  <thead>\n    <tr style=\"text-align: right;\">\n      <th></th>\n      <th>locationId</th>\n      <th>is_fch</th>\n      <th>is_local</th>\n      <th>rated_count</th>\n      <th>average_photonum</th>\n      <th>average_rating</th>\n      <th>category_l</th>\n      <th>rating</th>\n      <th>is_train</th>\n      <th>place.name</th>\n    </tr>\n  </thead>\n  <tbody>\n    <tr>\n      <th>0</th>\n      <td>788542</td>\n      <td>0</td>\n      <td>1</td>\n      <td>20</td>\n      <td>0.05</td>\n      <td>3.95</td>\n      <td>1</td>\n      <td>5.0</td>\n      <td>1</td>\n      <td>NaN</td>\n    </tr>\n    <tr>\n      <th>1</th>\n      <td>788542</td>\n      <td>0</td>\n      <td>1</td>\n      <td>20</td>\n      <td>0.05</td>\n      <td>3.95</td>\n      <td>1</td>\n      <td>4.0</td>\n      <td>1</td>\n      <td>NaN</td>\n    </tr>\n    <tr>\n      <th>2</th>\n      <td>788542</td>\n      <td>0</td>\n      <td>0</td>\n      <td>20</td>\n      <td>0.05</td>\n      <td>3.95</td>\n      <td>1</td>\n      <td>5.0</td>\n      <td>1</td>\n      <td>NaN</td>\n    </tr>\n    <tr>\n      <th>3</th>\n      <td>788542</td>\n      <td>0</td>\n      <td>0</td>\n      <td>20</td>\n      <td>0.05</td>\n      <td>3.95</td>\n      <td>1</td>\n      <td>3.0</td>\n      <td>1</td>\n      <td>NaN</td>\n    </tr>\n    <tr>\n      <th>4</th>\n      <td>788542</td>\n      <td>0</td>\n      <td>1</td>\n      <td>20</td>\n      <td>0.05</td>\n      <td>3.95</td>\n      <td>1</td>\n      <td>4.0</td>\n      <td>1</td>\n      <td>NaN</td>\n    </tr>\n  </tbody>\n</table>\n</div>"
     },
     "metadata": {},
     "execution_count": 192
    }
   ],
   "source": [
    "df.head()"
   ]
  },
  {
   "cell_type": "markdown",
   "metadata": {},
   "source": [
    "# 결과"
   ]
  },
  {
   "cell_type": "code",
   "execution_count": 136,
   "metadata": {},
   "outputs": [
    {
     "output_type": "error",
     "ename": "NameError",
     "evalue": "name 'model' is not defined",
     "traceback": [
      "\u001b[0;31m---------------------------------------------------------------------------\u001b[0m",
      "\u001b[0;31mNameError\u001b[0m                                 Traceback (most recent call last)",
      "\u001b[0;32m<ipython-input-136-8228a269cf59>\u001b[0m in \u001b[0;36m<module>\u001b[0;34m\u001b[0m\n\u001b[1;32m      9\u001b[0m \u001b[0;34m\u001b[0m\u001b[0m\n\u001b[1;32m     10\u001b[0m \u001b[0;31m# loaded_model = model_from_json(loaded_model_json, custom_objects= None)\u001b[0m\u001b[0;34m\u001b[0m\u001b[0;34m\u001b[0m\u001b[0;34m\u001b[0m\u001b[0m\n\u001b[0;32m---> 11\u001b[0;31m \u001b[0mmodel\u001b[0m\u001b[0;34m.\u001b[0m\u001b[0mload_weights\u001b[0m\u001b[0;34m(\u001b[0m\u001b[0mos\u001b[0m\u001b[0;34m.\u001b[0m\u001b[0mpath\u001b[0m\u001b[0;34m.\u001b[0m\u001b[0mjoin\u001b[0m\u001b[0;34m(\u001b[0m\u001b[0;34m\"weights\"\u001b[0m\u001b[0;34m,\u001b[0m \u001b[0;34m(\u001b[0m\u001b[0mmodel_name\u001b[0m\u001b[0;34m+\u001b[0m\u001b[0;34m'.h5'\u001b[0m\u001b[0;34m)\u001b[0m\u001b[0;34m)\u001b[0m\u001b[0;34m)\u001b[0m\u001b[0;34m\u001b[0m\u001b[0;34m\u001b[0m\u001b[0m\n\u001b[0m\u001b[1;32m     12\u001b[0m \u001b[0mprint\u001b[0m\u001b[0;34m(\u001b[0m\u001b[0;34m\"Loaded model from disk\"\u001b[0m\u001b[0;34m)\u001b[0m\u001b[0;34m\u001b[0m\u001b[0;34m\u001b[0m\u001b[0m\n",
      "\u001b[0;31mNameError\u001b[0m: name 'model' is not defined"
     ]
    }
   ],
   "source": [
    "from keras.models import load_model\n",
    "from keras.models import model_from_json\n",
    "import json\n",
    "\n",
    "model_name = 'weights-epoch(1)-batch(2560)-embedding(10)-hidden(64)'\n",
    "\n",
    "\n",
    "model.load_weights(os.path.join(\"weights\", (model_name+'.h5')))\n",
    "print(\"Loaded model from disk\")"
   ]
  },
  {
   "cell_type": "code",
   "execution_count": null,
   "metadata": {},
   "outputs": [],
   "source": []
  },
  {
   "cell_type": "code",
   "execution_count": 101,
   "metadata": {},
   "outputs": [
    {
     "output_type": "stream",
     "name": "stdout",
     "text": "Using TensorFlow backend.\nTraceback (most recent call last):\n  File \"main.py\", line 18, in <module>\n    model = load_model(os.path.join(\"weights\", \"weights-epoch(50)-batch(2560)-embedding(10)-hidden(64).h5\"))\n  File \"/Users/apple/opt/anaconda3/lib/python3.7/site-packages/keras/engine/saving.py\", line 492, in load_wrapper\n    return load_function(*args, **kwargs)\n  File \"/Users/apple/opt/anaconda3/lib/python3.7/site-packages/keras/engine/saving.py\", line 584, in load_model\n    model = _deserialize_model(h5dict, custom_objects, compile)\n  File \"/Users/apple/opt/anaconda3/lib/python3.7/site-packages/keras/engine/saving.py\", line 270, in _deserialize_model\n    model_config = h5dict['model_config']\n  File \"/Users/apple/opt/anaconda3/lib/python3.7/site-packages/keras/utils/io_utils.py\", line 318, in __getitem__\n    raise ValueError('Cannot create group in read-only mode.')\nValueError: Cannot create group in read-only mode.\n"
    }
   ],
   "source": [
    "! python main.py --visited_ids [13833720] --top_n 10"
   ]
  },
  {
   "cell_type": "code",
   "execution_count": null,
   "metadata": {},
   "outputs": [],
   "source": []
  },
  {
   "cell_type": "code",
   "execution_count": 200,
   "metadata": {},
   "outputs": [
    {
     "output_type": "stream",
     "name": "stdout",
     "text": "Data Prepared...\nX shape: (553625, 11)\nnum_feature 11\nData Prepared...\nX shape: (16249, 10)\nnum_feature 10\n2020-06-25 16:53:43.607806: I tensorflow/core/platform/cpu_feature_guard.cc:142] Your CPU supports instructions that this TensorFlow binary was not compiled to use: AVX2 FMA\n2020-06-25 16:53:43.629052: I tensorflow/compiler/xla/service/service.cc:168] XLA service 0x7fe438563320 initialized for platform Host (this does not guarantee that XLA will be used). Devices:\n2020-06-25 16:53:43.629077: I tensorflow/compiler/xla/service/service.cc:176]   StreamExecutor device (0): Host, Default Version\n"
    }
   ],
   "source": [
    "! python train.py --epochs 1"
   ]
  }
 ],
 "metadata": {
  "language_info": {
   "codemirror_mode": {
    "name": "ipython",
    "version": 3
   },
   "file_extension": ".py",
   "mimetype": "text/x-python",
   "name": "python",
   "nbconvert_exporter": "python",
   "pygments_lexer": "ipython3",
   "version": "3.7.6-final"
  },
  "orig_nbformat": 2,
  "kernelspec": {
   "name": "python3",
   "display_name": "Python 3"
  }
 },
 "nbformat": 4,
 "nbformat_minor": 2
}