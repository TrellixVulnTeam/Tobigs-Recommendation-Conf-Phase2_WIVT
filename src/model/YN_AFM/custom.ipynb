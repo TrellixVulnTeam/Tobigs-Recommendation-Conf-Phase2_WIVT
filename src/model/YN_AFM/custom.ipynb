{
 "cells": [
  {
   "cell_type": "markdown",
   "metadata": {},
   "source": [
    "# Preprocess"
   ]
  },
  {
   "cell_type": "code",
   "execution_count": 69,
   "metadata": {},
   "outputs": [],
   "source": [
    "# Preprocess\n",
    "import config\n",
    "import pandas as pd\n",
    "from sklearn.preprocessing import MinMaxScaler, LabelEncoder\n",
    "\n",
    "file_path = os.path.join(os.path.join(\"..\",\"..\",\"data\",'YN_final_df.csv'))\n",
    "file = pd.read_csv(file_path)"
   ]
  },
  {
   "cell_type": "code",
   "execution_count": 70,
   "metadata": {},
   "outputs": [
    {
     "output_type": "execute_result",
     "data": {
      "text/plain": "   locationId  createdDate  is_fch  ...  average_rating  category_l  rating\n0      788542     20180314       0  ...            3.95           1     5.0\n1      788542     20171207       0  ...            3.95           1     4.0\n2      788542     20161110       0  ...            3.95           1     5.0\n3      788542     20160611       0  ...            3.95           1     3.0\n4      788542     20151204       0  ...            3.95           1     4.0\n\n[5 rows x 10 columns]",
      "text/html": "<div>\n<style scoped>\n    .dataframe tbody tr th:only-of-type {\n        vertical-align: middle;\n    }\n\n    .dataframe tbody tr th {\n        vertical-align: top;\n    }\n\n    .dataframe thead th {\n        text-align: right;\n    }\n</style>\n<table border=\"1\" class=\"dataframe\">\n  <thead>\n    <tr style=\"text-align: right;\">\n      <th></th>\n      <th>locationId</th>\n      <th>createdDate</th>\n      <th>is_fch</th>\n      <th>photonum</th>\n      <th>is_local</th>\n      <th>rated_count</th>\n      <th>average_photonum</th>\n      <th>average_rating</th>\n      <th>category_l</th>\n      <th>rating</th>\n    </tr>\n  </thead>\n  <tbody>\n    <tr>\n      <th>0</th>\n      <td>788542</td>\n      <td>20180314</td>\n      <td>0</td>\n      <td>0</td>\n      <td>1</td>\n      <td>20</td>\n      <td>0.05</td>\n      <td>3.95</td>\n      <td>1</td>\n      <td>5.0</td>\n    </tr>\n    <tr>\n      <th>1</th>\n      <td>788542</td>\n      <td>20171207</td>\n      <td>0</td>\n      <td>0</td>\n      <td>1</td>\n      <td>20</td>\n      <td>0.05</td>\n      <td>3.95</td>\n      <td>1</td>\n      <td>4.0</td>\n    </tr>\n    <tr>\n      <th>2</th>\n      <td>788542</td>\n      <td>20161110</td>\n      <td>0</td>\n      <td>0</td>\n      <td>0</td>\n      <td>20</td>\n      <td>0.05</td>\n      <td>3.95</td>\n      <td>1</td>\n      <td>5.0</td>\n    </tr>\n    <tr>\n      <th>3</th>\n      <td>788542</td>\n      <td>20160611</td>\n      <td>0</td>\n      <td>0</td>\n      <td>0</td>\n      <td>20</td>\n      <td>0.05</td>\n      <td>3.95</td>\n      <td>1</td>\n      <td>3.0</td>\n    </tr>\n    <tr>\n      <th>4</th>\n      <td>788542</td>\n      <td>20151204</td>\n      <td>0</td>\n      <td>0</td>\n      <td>1</td>\n      <td>20</td>\n      <td>0.05</td>\n      <td>3.95</td>\n      <td>1</td>\n      <td>4.0</td>\n    </tr>\n  </tbody>\n</table>\n</div>"
     },
     "metadata": {},
     "execution_count": 70
    }
   ],
   "source": [
    "file = file.loc[:,['locationId', 'createdDate', 'is_fch', 'photonum', 'is_local','rated_count', 'average_photonum', 'average_rating', 'category_l','rating']]\n",
    "file.head()"
   ]
  },
  {
   "cell_type": "code",
   "execution_count": 71,
   "metadata": {},
   "outputs": [
    {
     "output_type": "execute_result",
     "data": {
      "text/plain": "   locationId  createdDate  is_fch  ...  category_l  rating  user_visit_history\n0      788542     20180314       0  ...           1     5.0                   0\n1      788542     20171207       0  ...           1     4.0                   0\n2      788542     20161110       0  ...           1     5.0                   0\n3      788542     20160611       0  ...           1     3.0                   0\n4      788542     20151204       0  ...           1     4.0                   0\n\n[5 rows x 11 columns]",
      "text/html": "<div>\n<style scoped>\n    .dataframe tbody tr th:only-of-type {\n        vertical-align: middle;\n    }\n\n    .dataframe tbody tr th {\n        vertical-align: top;\n    }\n\n    .dataframe thead th {\n        text-align: right;\n    }\n</style>\n<table border=\"1\" class=\"dataframe\">\n  <thead>\n    <tr style=\"text-align: right;\">\n      <th></th>\n      <th>locationId</th>\n      <th>createdDate</th>\n      <th>is_fch</th>\n      <th>photonum</th>\n      <th>is_local</th>\n      <th>rated_count</th>\n      <th>average_photonum</th>\n      <th>average_rating</th>\n      <th>category_l</th>\n      <th>rating</th>\n      <th>user_visit_history</th>\n    </tr>\n  </thead>\n  <tbody>\n    <tr>\n      <th>0</th>\n      <td>788542</td>\n      <td>20180314</td>\n      <td>0</td>\n      <td>0</td>\n      <td>1</td>\n      <td>20</td>\n      <td>0.05</td>\n      <td>3.95</td>\n      <td>1</td>\n      <td>5.0</td>\n      <td>0</td>\n    </tr>\n    <tr>\n      <th>1</th>\n      <td>788542</td>\n      <td>20171207</td>\n      <td>0</td>\n      <td>0</td>\n      <td>1</td>\n      <td>20</td>\n      <td>0.05</td>\n      <td>3.95</td>\n      <td>1</td>\n      <td>4.0</td>\n      <td>0</td>\n    </tr>\n    <tr>\n      <th>2</th>\n      <td>788542</td>\n      <td>20161110</td>\n      <td>0</td>\n      <td>0</td>\n      <td>0</td>\n      <td>20</td>\n      <td>0.05</td>\n      <td>3.95</td>\n      <td>1</td>\n      <td>5.0</td>\n      <td>0</td>\n    </tr>\n    <tr>\n      <th>3</th>\n      <td>788542</td>\n      <td>20160611</td>\n      <td>0</td>\n      <td>0</td>\n      <td>0</td>\n      <td>20</td>\n      <td>0.05</td>\n      <td>3.95</td>\n      <td>1</td>\n      <td>3.0</td>\n      <td>0</td>\n    </tr>\n    <tr>\n      <th>4</th>\n      <td>788542</td>\n      <td>20151204</td>\n      <td>0</td>\n      <td>0</td>\n      <td>1</td>\n      <td>20</td>\n      <td>0.05</td>\n      <td>3.95</td>\n      <td>1</td>\n      <td>4.0</td>\n      <td>0</td>\n    </tr>\n  </tbody>\n</table>\n</div>"
     },
     "metadata": {},
     "execution_count": 71
    }
   ],
   "source": [
    "file['user_visit_history'] = 0\n",
    "file.head()"
   ]
  },
  {
   "cell_type": "code",
   "execution_count": 90,
   "metadata": {},
   "outputs": [],
   "source": [
    "file = file.loc[:,['locationId', 'createdDate', 'is_fch', 'is_local','rated_count', 'average_photonum', 'average_rating', 'category_l','user_visit_history','rating']]"
   ]
  },
  {
   "cell_type": "code",
   "execution_count": 91,
   "metadata": {},
   "outputs": [],
   "source": [
    "file.to_csv(os.path.join(\"..\",\"..\",\"data\",\"YN_afm_df.csv\"), index=False)"
   ]
  },
  {
   "cell_type": "code",
   "execution_count": 96,
   "metadata": {},
   "outputs": [
    {
     "output_type": "execute_result",
     "data": {
      "text/plain": "Index(['locationId', 'createdDate', 'is_fch', 'is_local', 'rated_count',\n       'average_photonum', 'average_rating', 'category_l',\n       'user_visit_history'],\n      dtype='object')"
     },
     "metadata": {},
     "execution_count": 96
    }
   ],
   "source": [
    "file.iloc[:,:9].columns"
   ]
  },
  {
   "cell_type": "markdown",
   "metadata": {},
   "source": [
    "# train"
   ]
  },
  {
   "cell_type": "markdown",
   "metadata": {},
   "source": [
    "*train시 사용 columns*  \n",
    "'locationId', 'createdDate', 'is_fch', 'is_local',\n",
    "       'rated_count', 'average_photonum', 'average_rating', 'category_l' ,'user_visit_history'\n",
    "  \n",
    "*이 중 server 상에서 받을 정보*  \n",
    "\n",
    "사용자에게 우리 데이터 중 일부 호텔(랜덤) 보여주고 이 중 간 호텔 및 호텔에 대한 평점 등을 받아,\n",
    "가중치로 부여.  \n",
    "-> 가본 적 있다. or 좋아하는 호텔 입력 받아  \n",
    "-> 해당 id 입력으로 넘겨줘  \n",
    "-> 'user_visit_history'에 * 가중치 열을 넣음"
   ]
  },
  {
   "cell_type": "code",
   "execution_count": 94,
   "metadata": {},
   "outputs": [
    {
     "output_type": "execute_result",
     "data": {
      "text/plain": "        locationId  createdDate  ...  category_l  user_visit_history\n0           788542     20180314  ...           1                   0\n1           788542     20171207  ...           1                   0\n2           788542     20161110  ...           1                   0\n3           788542     20160611  ...           1                   0\n4           788542     20151204  ...           1                   0\n...            ...          ...  ...         ...                 ...\n553620     6998634     20141121  ...           1                   0\n553621     6998634     20141120  ...           1                   0\n553622     6998634     20141118  ...           1                   0\n553623     6998634     20141117  ...           1                   0\n553624     6998634     20141112  ...           1                   0\n\n[553625 rows x 9 columns]",
      "text/html": "<div>\n<style scoped>\n    .dataframe tbody tr th:only-of-type {\n        vertical-align: middle;\n    }\n\n    .dataframe tbody tr th {\n        vertical-align: top;\n    }\n\n    .dataframe thead th {\n        text-align: right;\n    }\n</style>\n<table border=\"1\" class=\"dataframe\">\n  <thead>\n    <tr style=\"text-align: right;\">\n      <th></th>\n      <th>locationId</th>\n      <th>createdDate</th>\n      <th>is_fch</th>\n      <th>is_local</th>\n      <th>rated_count</th>\n      <th>average_photonum</th>\n      <th>average_rating</th>\n      <th>category_l</th>\n      <th>user_visit_history</th>\n    </tr>\n  </thead>\n  <tbody>\n    <tr>\n      <th>0</th>\n      <td>788542</td>\n      <td>20180314</td>\n      <td>0</td>\n      <td>1</td>\n      <td>20</td>\n      <td>0.050000</td>\n      <td>3.95000</td>\n      <td>1</td>\n      <td>0</td>\n    </tr>\n    <tr>\n      <th>1</th>\n      <td>788542</td>\n      <td>20171207</td>\n      <td>0</td>\n      <td>1</td>\n      <td>20</td>\n      <td>0.050000</td>\n      <td>3.95000</td>\n      <td>1</td>\n      <td>0</td>\n    </tr>\n    <tr>\n      <th>2</th>\n      <td>788542</td>\n      <td>20161110</td>\n      <td>0</td>\n      <td>0</td>\n      <td>20</td>\n      <td>0.050000</td>\n      <td>3.95000</td>\n      <td>1</td>\n      <td>0</td>\n    </tr>\n    <tr>\n      <th>3</th>\n      <td>788542</td>\n      <td>20160611</td>\n      <td>0</td>\n      <td>0</td>\n      <td>20</td>\n      <td>0.050000</td>\n      <td>3.95000</td>\n      <td>1</td>\n      <td>0</td>\n    </tr>\n    <tr>\n      <th>4</th>\n      <td>788542</td>\n      <td>20151204</td>\n      <td>0</td>\n      <td>1</td>\n      <td>20</td>\n      <td>0.050000</td>\n      <td>3.95000</td>\n      <td>1</td>\n      <td>0</td>\n    </tr>\n    <tr>\n      <th>...</th>\n      <td>...</td>\n      <td>...</td>\n      <td>...</td>\n      <td>...</td>\n      <td>...</td>\n      <td>...</td>\n      <td>...</td>\n      <td>...</td>\n      <td>...</td>\n    </tr>\n    <tr>\n      <th>553620</th>\n      <td>6998634</td>\n      <td>20141121</td>\n      <td>0</td>\n      <td>0</td>\n      <td>379</td>\n      <td>1.290237</td>\n      <td>3.94723</td>\n      <td>1</td>\n      <td>0</td>\n    </tr>\n    <tr>\n      <th>553621</th>\n      <td>6998634</td>\n      <td>20141120</td>\n      <td>0</td>\n      <td>0</td>\n      <td>379</td>\n      <td>1.290237</td>\n      <td>3.94723</td>\n      <td>1</td>\n      <td>0</td>\n    </tr>\n    <tr>\n      <th>553622</th>\n      <td>6998634</td>\n      <td>20141118</td>\n      <td>0</td>\n      <td>0</td>\n      <td>379</td>\n      <td>1.290237</td>\n      <td>3.94723</td>\n      <td>1</td>\n      <td>0</td>\n    </tr>\n    <tr>\n      <th>553623</th>\n      <td>6998634</td>\n      <td>20141117</td>\n      <td>0</td>\n      <td>0</td>\n      <td>379</td>\n      <td>1.290237</td>\n      <td>3.94723</td>\n      <td>1</td>\n      <td>0</td>\n    </tr>\n    <tr>\n      <th>553624</th>\n      <td>6998634</td>\n      <td>20141112</td>\n      <td>0</td>\n      <td>0</td>\n      <td>379</td>\n      <td>1.290237</td>\n      <td>3.94723</td>\n      <td>1</td>\n      <td>0</td>\n    </tr>\n  </tbody>\n</table>\n<p>553625 rows × 9 columns</p>\n</div>"
     },
     "metadata": {},
     "execution_count": 94
    }
   ],
   "source": [
    "file = pd.read_csv(os.path.join(\"..\",\"..\",\"data\",\"YN_afm_df.csv\"))\n",
    "file.iloc[:,:9]"
   ]
  },
  {
   "cell_type": "code",
   "execution_count": null,
   "metadata": {},
   "outputs": [],
   "source": []
  },
  {
   "cell_type": "markdown",
   "metadata": {},
   "source": [
    "# locationsinfo data 생성"
   ]
  },
  {
   "cell_type": "code",
   "execution_count": 93,
   "metadata": {},
   "outputs": [
    {
     "output_type": "stream",
     "name": "stdout",
     "text": "Traceback (most recent call last):\n  File \"train.py\", line 2, in <module>\n    from preprocess import get_modified_data\n  File \"/Users/apple/Recommendation-Algorithms/AFM/preprocess.py\", line 11, in <module>\n    X.columns = config.ORIGINAL_FIELDS\n  File \"/Users/apple/opt/anaconda3/lib/python3.7/site-packages/pandas/core/generic.py\", line 5287, in __setattr__\n    return object.__setattr__(self, name, value)\n  File \"pandas/_libs/properties.pyx\", line 67, in pandas._libs.properties.AxisProperty.__set__\n  File \"/Users/apple/opt/anaconda3/lib/python3.7/site-packages/pandas/core/generic.py\", line 661, in _set_axis\n    self._data.set_axis(axis, labels)\n  File \"/Users/apple/opt/anaconda3/lib/python3.7/site-packages/pandas/core/internals/managers.py\", line 178, in set_axis\n    f\"Length mismatch: Expected axis has {old_len} elements, new \"\nValueError: Length mismatch: Expected axis has 9 elements, new values have 10 elements\n"
    }
   ],
   "source": [
    "! python train.py"
   ]
  },
  {
   "cell_type": "code",
   "execution_count": 63,
   "metadata": {},
   "outputs": [
    {
     "output_type": "execute_result",
     "data": {
      "text/plain": "   locationId place.name  is_fch  ...  average_photonum  average_rating  category_l\n0      788542     마르코 폴로       0  ...              0.05            3.95           1\n1      788542     마르코 폴로       0  ...              0.05            3.95           1\n2      788542     마르코 폴로       0  ...              0.05            3.95           1\n3      788542     마르코 폴로       0  ...              0.05            3.95           1\n4      788542     마르코 폴로       0  ...              0.05            3.95           1\n\n[5 rows x 8 columns]",
      "text/html": "<div>\n<style scoped>\n    .dataframe tbody tr th:only-of-type {\n        vertical-align: middle;\n    }\n\n    .dataframe tbody tr th {\n        vertical-align: top;\n    }\n\n    .dataframe thead th {\n        text-align: right;\n    }\n</style>\n<table border=\"1\" class=\"dataframe\">\n  <thead>\n    <tr style=\"text-align: right;\">\n      <th></th>\n      <th>locationId</th>\n      <th>place.name</th>\n      <th>is_fch</th>\n      <th>is_local</th>\n      <th>rated_count</th>\n      <th>average_photonum</th>\n      <th>average_rating</th>\n      <th>category_l</th>\n    </tr>\n  </thead>\n  <tbody>\n    <tr>\n      <th>0</th>\n      <td>788542</td>\n      <td>마르코 폴로</td>\n      <td>0</td>\n      <td>1</td>\n      <td>20</td>\n      <td>0.05</td>\n      <td>3.95</td>\n      <td>1</td>\n    </tr>\n    <tr>\n      <th>1</th>\n      <td>788542</td>\n      <td>마르코 폴로</td>\n      <td>0</td>\n      <td>1</td>\n      <td>20</td>\n      <td>0.05</td>\n      <td>3.95</td>\n      <td>1</td>\n    </tr>\n    <tr>\n      <th>2</th>\n      <td>788542</td>\n      <td>마르코 폴로</td>\n      <td>0</td>\n      <td>0</td>\n      <td>20</td>\n      <td>0.05</td>\n      <td>3.95</td>\n      <td>1</td>\n    </tr>\n    <tr>\n      <th>3</th>\n      <td>788542</td>\n      <td>마르코 폴로</td>\n      <td>0</td>\n      <td>0</td>\n      <td>20</td>\n      <td>0.05</td>\n      <td>3.95</td>\n      <td>1</td>\n    </tr>\n    <tr>\n      <th>4</th>\n      <td>788542</td>\n      <td>마르코 폴로</td>\n      <td>0</td>\n      <td>1</td>\n      <td>20</td>\n      <td>0.05</td>\n      <td>3.95</td>\n      <td>1</td>\n    </tr>\n  </tbody>\n</table>\n</div>"
     },
     "metadata": {},
     "execution_count": 63
    }
   ],
   "source": [
    "file_path = os.path.join(\"..\",\"..\",\"data\",\"YN_final_df.csv\")\n",
    "file = pd.read_csv(file_path)\n",
    "locations = file.loc[:,['locationId','place.name', 'is_fch', 'is_local',\n",
    "       'rated_count', 'average_photonum', 'average_rating', 'category_l']]\n",
    "locations.head()"
   ]
  },
  {
   "cell_type": "code",
   "execution_count": 64,
   "metadata": {},
   "outputs": [
    {
     "output_type": "stream",
     "name": "stdout",
     "text": "(16249, 8)\n"
    },
    {
     "output_type": "execute_result",
     "data": {
      "text/plain": "     locationId            place.name  ...  average_rating  category_l\n100     4077917         버터핑거 팬케이크 강남점  ...        4.111111           1\n117    13833720  스타벅스 리져브 - 용산푸르지오써밋점  ...        4.125000           1\n155     9997022                  N 버거  ...        3.476190           1\n176     9250108                한정식 수담  ...        4.166667           1\n232     7748199                   호밀밭  ...        4.300000           1\n\n[5 rows x 8 columns]",
      "text/html": "<div>\n<style scoped>\n    .dataframe tbody tr th:only-of-type {\n        vertical-align: middle;\n    }\n\n    .dataframe tbody tr th {\n        vertical-align: top;\n    }\n\n    .dataframe thead th {\n        text-align: right;\n    }\n</style>\n<table border=\"1\" class=\"dataframe\">\n  <thead>\n    <tr style=\"text-align: right;\">\n      <th></th>\n      <th>locationId</th>\n      <th>place.name</th>\n      <th>is_fch</th>\n      <th>is_local</th>\n      <th>rated_count</th>\n      <th>average_photonum</th>\n      <th>average_rating</th>\n      <th>category_l</th>\n    </tr>\n  </thead>\n  <tbody>\n    <tr>\n      <th>100</th>\n      <td>4077917</td>\n      <td>버터핑거 팬케이크 강남점</td>\n      <td>1</td>\n      <td>0</td>\n      <td>81</td>\n      <td>0.234568</td>\n      <td>4.111111</td>\n      <td>1</td>\n    </tr>\n    <tr>\n      <th>117</th>\n      <td>13833720</td>\n      <td>스타벅스 리져브 - 용산푸르지오써밋점</td>\n      <td>1</td>\n      <td>0</td>\n      <td>8</td>\n      <td>1.875000</td>\n      <td>4.125000</td>\n      <td>1</td>\n    </tr>\n    <tr>\n      <th>155</th>\n      <td>9997022</td>\n      <td>N 버거</td>\n      <td>1</td>\n      <td>1</td>\n      <td>21</td>\n      <td>1.619048</td>\n      <td>3.476190</td>\n      <td>1</td>\n    </tr>\n    <tr>\n      <th>176</th>\n      <td>9250108</td>\n      <td>한정식 수담</td>\n      <td>0</td>\n      <td>0</td>\n      <td>18</td>\n      <td>2.500000</td>\n      <td>4.166667</td>\n      <td>1</td>\n    </tr>\n    <tr>\n      <th>232</th>\n      <td>7748199</td>\n      <td>호밀밭</td>\n      <td>0</td>\n      <td>0</td>\n      <td>20</td>\n      <td>0.550000</td>\n      <td>4.300000</td>\n      <td>1</td>\n    </tr>\n  </tbody>\n</table>\n</div>"
     },
     "metadata": {},
     "execution_count": 64
    }
   ],
   "source": [
    "locations = locations.drop_duplicates(['locationId'], keep='last')\n",
    "print(locations.shape)\n",
    "locations.head()"
   ]
  },
  {
   "cell_type": "code",
   "execution_count": 65,
   "metadata": {},
   "outputs": [],
   "source": [
    "locations.to_csv(os.path.join(\"..\",\"..\",\"data\",\"locationsinfo.csv\"), index=False)"
   ]
  }
 ],
 "metadata": {
  "language_info": {
   "codemirror_mode": {
    "name": "ipython",
    "version": 3
   },
   "file_extension": ".py",
   "mimetype": "text/x-python",
   "name": "python",
   "nbconvert_exporter": "python",
   "pygments_lexer": "ipython3",
   "version": "3.7.6-final"
  },
  "orig_nbformat": 2,
  "kernelspec": {
   "name": "python3",
   "display_name": "Python 3"
  }
 },
 "nbformat": 4,
 "nbformat_minor": 2
}