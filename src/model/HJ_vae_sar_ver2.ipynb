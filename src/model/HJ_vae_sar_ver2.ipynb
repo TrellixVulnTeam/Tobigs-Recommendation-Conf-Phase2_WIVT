{
 "cells": [
  {
   "cell_type": "code",
   "execution_count": 2,
   "metadata": {
    "colab": {
     "base_uri": "https://localhost:8080/",
     "height": 34
    },
    "colab_type": "code",
    "id": "SyBIV_iqzcTK",
    "jupyter": {
     "outputs_hidden": false
    },
    "outputId": "7752267c-f16b-490d-ae56-dcc4dbeaa7c7"
   },
   "outputs": [
    {
     "name": "stderr",
     "output_type": "stream",
     "text": [
      "Using TensorFlow backend.\n"
     ]
    }
   ],
   "source": [
    " #%matplotlib inline\n",
    "import numpy as np\n",
    "import pickle\n",
    "import os\n",
    "#from matplotlib import pyplot as plt\n",
    "from keras.layers import Input, Dense, Lambda\n",
    "from keras.models import Model\n",
    "from keras import objectives\n",
    "from keras import backend as K\n",
    "from keras.callbacks import ReduceLROnPlateau, ModelCheckpoint, Callback\n",
    "from IPython.display import clear_output\n",
    "import matplotlib.pyplot as plt\n",
    "import pandas as pd"
   ]
  },
  {
   "cell_type": "code",
   "execution_count": 0,
   "metadata": {
    "colab": {},
    "colab_type": "code",
    "id": "xgYFX-npzcTR"
   },
   "outputs": [],
   "source": [
    "class PlotLosses(Callback):\n",
    "    def on_train_begin(self, logs={}):\n",
    "        self.i = 0\n",
    "        self.x = []\n",
    "        self.losses = []\n",
    "        self.val_losses = []\n",
    "        \n",
    "        self.fig = plt.figure()\n",
    "        \n",
    "        self.logs = []\n",
    "\n",
    "    def on_epoch_end(self, epoch, logs={}):\n",
    "        \n",
    "        self.logs.append(logs)\n",
    "        self.x.append(self.i)\n",
    "        self.losses.append(logs.get('loss'))\n",
    "        self.val_losses.append(logs.get('val_loss'))\n",
    "        self.i += 1\n",
    "        \n",
    "        clear_output(wait=True)\n",
    "        plt.plot(self.x, self.losses, label=\"loss\")\n",
    "        plt.plot(self.x, self.val_losses, label=\"val_loss\")\n",
    "        plt.legend()\n",
    "        plt.show();\n",
    "        \n",
    "plot_losses = PlotLosses()"
   ]
  },
  {
   "cell_type": "code",
   "execution_count": 0,
   "metadata": {
    "colab": {},
    "colab_type": "code",
    "id": "MI1QysOTzcTW"
   },
   "outputs": [],
   "source": [
    "# encoder/decoder network size\n",
    "batch_size=50\n",
    "original_dim=9929 # number of location\n",
    "intermediate_dim=200\n",
    "latent_dim=100\n",
    "nb_epochs=200\n",
    "epsilon_std=2.0"
   ]
  },
  {
   "cell_type": "code",
   "execution_count": 6,
   "metadata": {
    "colab": {
     "base_uri": "https://localhost:8080/",
     "height": 34
    },
    "colab_type": "code",
    "id": "sA_jQ71E7fQq",
    "outputId": "e86e2db6-4038-4e00-eca2-759f77044456"
   },
   "outputs": [
    {
     "data": {
      "text/plain": [
       "129.4"
      ]
     },
     "execution_count": 6,
     "metadata": {
      "tags": []
     },
     "output_type": "execute_result"
    }
   ],
   "source": [
    "6470 / 50"
   ]
  },
  {
   "cell_type": "code",
   "execution_count": 0,
   "metadata": {
    "colab": {},
    "colab_type": "code",
    "id": "C4s14g09zcTa"
   },
   "outputs": [],
   "source": [
    "# encoder network\n",
    "x=Input(batch_shape=(batch_size,original_dim))\n",
    "h=Dense(intermediate_dim, activation='relu')(x)\n",
    "z_mean=Dense(latent_dim)(h)\n",
    "z_log_var=Dense(latent_dim)(h)"
   ]
  },
  {
   "cell_type": "code",
   "execution_count": 0,
   "metadata": {
    "colab": {},
    "colab_type": "code",
    "id": "2Pin_qTzzcTd"
   },
   "outputs": [],
   "source": [
    "def sampling(args):\n",
    "    _mean,_log_var=args\n",
    "    epsilon=K.random_normal(shape=(K.shape(z_mean)[0], latent_dim), mean=0., stddev=epsilon_std)\n",
    "    return _mean+K.exp(_log_var/2)*epsilon\n",
    "\n",
    "z= Lambda(sampling, output_shape=(latent_dim,))([z_mean, z_log_var])"
   ]
  },
  {
   "cell_type": "code",
   "execution_count": 0,
   "metadata": {
    "colab": {},
    "colab_type": "code",
    "id": "KgLI4UZgzcTh"
   },
   "outputs": [],
   "source": [
    "# decoder network\n",
    "h_decoder=Dense(intermediate_dim, activation='relu')\n",
    "x_bar=Dense(original_dim,activation='softmax') # this should be softmax right?\n",
    "h_decoded = h_decoder(z)\n",
    "x_decoded = x_bar(h_decoded)"
   ]
  },
  {
   "cell_type": "code",
   "execution_count": 0,
   "metadata": {
    "colab": {},
    "colab_type": "code",
    "id": "43Yzdr0RzcTk"
   },
   "outputs": [],
   "source": [
    "# build and compile model\n",
    "vae = Model(x, x_decoded)\n",
    "def vae_loss(x,x_bar):\n",
    "    reconst_loss=original_dim*objectives.binary_crossentropy(x, x_bar)\n",
    "    kl_loss=-0.5*K.sum(1 + z_log_var - K.square(z_mean) - K.exp(z_log_var), axis=-1)\n",
    "    return reconst_loss + kl_loss\n",
    "\n",
    "vae.compile(optimizer='adam', loss=vae_loss)"
   ]
  },
  {
   "cell_type": "code",
   "execution_count": 11,
   "metadata": {
    "colab": {
     "base_uri": "https://localhost:8080/",
     "height": 422
    },
    "colab_type": "code",
    "id": "4BVkViN28tUh",
    "outputId": "96b0f19e-28da-43da-86cd-15a87fa5de46"
   },
   "outputs": [
    {
     "name": "stdout",
     "output_type": "stream",
     "text": [
      "Model: \"model_1\"\n",
      "__________________________________________________________________________________________________\n",
      "Layer (type)                    Output Shape         Param #     Connected to                     \n",
      "==================================================================================================\n",
      "input_1 (InputLayer)            (50, 9929)           0                                            \n",
      "__________________________________________________________________________________________________\n",
      "dense_1 (Dense)                 (50, 200)            1986000     input_1[0][0]                    \n",
      "__________________________________________________________________________________________________\n",
      "dense_2 (Dense)                 (50, 100)            20100       dense_1[0][0]                    \n",
      "__________________________________________________________________________________________________\n",
      "dense_3 (Dense)                 (50, 100)            20100       dense_1[0][0]                    \n",
      "__________________________________________________________________________________________________\n",
      "lambda_1 (Lambda)               (50, 100)            0           dense_2[0][0]                    \n",
      "                                                                 dense_3[0][0]                    \n",
      "__________________________________________________________________________________________________\n",
      "dense_4 (Dense)                 (50, 200)            20200       lambda_1[0][0]                   \n",
      "__________________________________________________________________________________________________\n",
      "dense_5 (Dense)                 (50, 9929)           1995729     dense_4[0][0]                    \n",
      "==================================================================================================\n",
      "Total params: 4,042,129\n",
      "Trainable params: 4,042,129\n",
      "Non-trainable params: 0\n",
      "__________________________________________________________________________________________________\n"
     ]
    }
   ],
   "source": [
    "vae.summary()"
   ]
  },
  {
   "cell_type": "code",
   "execution_count": 0,
   "metadata": {
    "colab": {},
    "colab_type": "code",
    "id": "Ywwq4Hdw0ti6"
   },
   "outputs": [],
   "source": [
    "DATA_DIR = os.path.join(\"..\",\"..\",\"data\")"
   ]
  },
  {
   "cell_type": "code",
   "execution_count": 13,
   "metadata": {
    "colab": {
     "base_uri": "https://localhost:8080/",
     "height": 70
    },
    "colab_type": "code",
    "id": "nyMUI8KpzcTo",
    "jupyter": {
     "outputs_hidden": false
    },
    "outputId": "644cba29-84ba-4163-8ce6-e88121c01df9"
   },
   "outputs": [
    {
     "name": "stdout",
     "output_type": "stream",
     "text": [
      "number of training users:  (7613, 9929)\n",
      "number of validation users:  (1142, 9929)\n",
      "number of test users :  (1142, 9929)\n"
     ]
    }
   ],
   "source": [
    "x_train = pickle.load( open( os.path.join(DATA_DIR, \"train_data.file\"), \"rb\" ) )\n",
    "#x_train = x_train[0:118000, :]\n",
    "print(\"number of training users: \", x_train.shape)\n",
    "\n",
    "x_val = pickle.load( open( os.path.join(DATA_DIR,\"val_data.file\"), \"rb\" ) )\n",
    "x_val = x_val.todense()\n",
    "print(\"number of validation users: \", x_val.shape)\n",
    "\n",
    "x_test = pickle.load( open( os.path.join(DATA_DIR, \"test_data.file\"),'rb') )\n",
    "x_test = x_test.todense()\n",
    "print(\"number of test users : \", x_test.shape)"
   ]
  },
  {
   "cell_type": "code",
   "execution_count": 14,
   "metadata": {
    "colab": {
     "base_uri": "https://localhost:8080/",
     "height": 52
    },
    "colab_type": "code",
    "id": "MH_oXZNLFzkn",
    "outputId": "a2a148cb-1ab5-4361-b8df-1e0280e173c3"
   },
   "outputs": [
    {
     "data": {
      "text/plain": [
       "<7613x9929 sparse matrix of type '<class 'numpy.float64'>'\n",
       "\twith 28907 stored elements in Compressed Sparse Row format>"
      ]
     },
     "execution_count": 14,
     "metadata": {
      "tags": []
     },
     "output_type": "execute_result"
    }
   ],
   "source": [
    "x_train"
   ]
  },
  {
   "cell_type": "code",
   "execution_count": 0,
   "metadata": {
    "colab": {},
    "colab_type": "code",
    "id": "BoQbK0cbzcTs"
   },
   "outputs": [],
   "source": [
    "def nn_batch_generator(x, y, batch_size, samples_per_epoch):\n",
    "    number_of_batches = samples_per_epoch/batch_size\n",
    "    counter=0\n",
    "    shuffle_index = np.arange(np.shape(y)[0])\n",
    "    #print(shuffle_index)\n",
    "    np.random.shuffle(shuffle_index)\n",
    "    x =  x[shuffle_index, :]\n",
    "    y =  y[shuffle_index, :]\n",
    "    while 1:\n",
    "        index_batch = shuffle_index[batch_size*counter:batch_size*(counter+1)]\n",
    "        #print(len(index_batch))\n",
    "        x_batch = x[index_batch,:].todense()\n",
    "        y_batch = y[index_batch,:].todense()\n",
    "        counter += 1\n",
    "        #print('x:', x_batch.shape)\n",
    "        #print('y:',y_batch.shape)\n",
    "        yield (np.array(x_batch),np.array(y_batch))\n",
    "        if (counter >= number_of_batches):\n",
    "            counter=0"
   ]
  },
  {
   "cell_type": "code",
   "execution_count": 0,
   "metadata": {
    "colab": {},
    "colab_type": "code",
    "id": "uQfyhuSQzcTv"
   },
   "outputs": [],
   "source": [
    "weightsPath = os.path.join(DATA_DIR, \"tmp/weights.hdf5\")\n",
    "checkpointer = ModelCheckpoint(filepath=weightsPath, verbose=-1, save_best_only=True)\n",
    "reduce_lr = ReduceLROnPlateau(monitor='val_loss', factor=0.2, patience=5, min_lr=0.001)"
   ]
  },
  {
   "cell_type": "code",
   "execution_count": 17,
   "metadata": {
    "colab": {
     "base_uri": "https://localhost:8080/",
     "height": 282
    },
    "colab_type": "code",
    "id": "VgPGAJ-AzcTy",
    "jupyter": {
     "outputs_hidden": false
    },
    "outputId": "de1f9edd-3bf3-4707-fb04-ee53686518b2"
   },
   "outputs": [
    {
     "data": {
      "image/png": "[encoded data removed]",
      "text/plain": [
       "<Figure size 432x288 with 1 Axes>"
      ]
     },
     "metadata": {
      "needs_background": "light",
      "tags": []
     },
     "output_type": "display_data"
    },
    {
     "data": {
      "text/plain": [
       "<keras.callbacks.callbacks.History at 0x7f7d3011d390>"
      ]
     },
     "execution_count": 17,
     "metadata": {
      "tags": []
     },
     "output_type": "execute_result"
    }
   ],
   "source": [
    "# shape 문제 해결하기 위해서 131로 맞춘다. 5240/40 = 총크기/배치사이즈보다 작게\n",
    "vae.fit_generator(nn_batch_generator(x_train, x_train, batch_size, 120), samples_per_epoch=120, nb_epoch=nb_epochs, callbacks=[checkpointer, reduce_lr, plot_losses],)"
   ]
  },
  {
   "cell_type": "code",
   "execution_count": 18,
   "metadata": {
    "colab": {
     "base_uri": "https://localhost:8080/",
     "height": 34
    },
    "colab_type": "code",
    "id": "0UF4bWQdLGjO",
    "outputId": "34fe61f3-d941-4763-ac33-0b04f5fda4b9"
   },
   "outputs": [
    {
     "data": {
      "text/plain": [
       "(7613, 9929)"
      ]
     },
     "execution_count": 18,
     "metadata": {
      "tags": []
     },
     "output_type": "execute_result"
    }
   ],
   "source": [
    "x_train.shape"
   ]
  },
  {
   "cell_type": "code",
   "execution_count": 19,
   "metadata": {
    "colab": {
     "base_uri": "https://localhost:8080/",
     "height": 52
    },
    "colab_type": "code",
    "id": "UZGMYzMRL8W1",
    "outputId": "23cae6de-76c4-406f-d632-f30420745cf1"
   },
   "outputs": [
    {
     "data": {
      "text/plain": [
       "<7600x9929 sparse matrix of type '<class 'numpy.float64'>'\n",
       "\twith 28862 stored elements in Compressed Sparse Row format>"
      ]
     },
     "execution_count": 19,
     "metadata": {
      "tags": []
     },
     "output_type": "execute_result"
    }
   ],
   "source": [
    "x_train[:7600]"
   ]
  },
  {
   "cell_type": "code",
   "execution_count": 20,
   "metadata": {
    "colab": {
     "base_uri": "https://localhost:8080/",
     "height": 246
    },
    "colab_type": "code",
    "id": "9Dzk7VJkzcT1",
    "outputId": "137a8d44-80e8-4d6c-bc1b-0702cd6617bc"
   },
   "outputs": [
    {
     "data": {
      "text/plain": [
       "array([[5.3488563e-12, 1.7547414e-05, 5.1540308e-12, ..., 3.7396488e-12,\n",
       "        4.7307054e-12, 6.3586150e-12],\n",
       "       [2.6980229e-10, 2.9240246e-04, 2.9629896e-10, ..., 2.4977156e-10,\n",
       "        2.8205341e-10, 3.6965347e-10],\n",
       "       [1.0743889e-30, 3.1723154e-03, 1.7020660e-30, ..., 7.9213216e-31,\n",
       "        6.8706742e-31, 8.4357424e-31],\n",
       "       ...,\n",
       "       [6.1118255e-16, 9.9502477e-06, 7.3953944e-16, ..., 5.8349267e-16,\n",
       "        5.7113833e-16, 8.6971342e-16],\n",
       "       [6.9955930e-11, 9.2063849e-05, 8.5167498e-11, ..., 7.4682767e-11,\n",
       "        5.5555869e-11, 6.3837172e-11],\n",
       "       [2.4051952e-13, 2.5147025e-03, 2.8714360e-13, ..., 2.8879576e-13,\n",
       "        3.0195307e-13, 2.8180464e-13]], dtype=float32)"
      ]
     },
     "execution_count": 20,
     "metadata": {
      "tags": []
     },
     "output_type": "execute_result"
    }
   ],
   "source": [
    "vae.predict(x_train[:7600], batch_size=batch_size)"
   ]
  },
  {
   "cell_type": "code",
   "execution_count": 0,
   "metadata": {
    "colab": {},
    "colab_type": "code",
    "id": "QCODgvkuK5ml"
   },
   "outputs": [],
   "source": [
    "vae.save(os.path.join(DATA_DIR, 'model.hdf5'))"
   ]
  },
  {
   "cell_type": "code",
   "execution_count": 0,
   "metadata": {
    "colab": {},
    "colab_type": "code",
    "id": "wVGLXmQiN_Jz"
   },
   "outputs": [],
   "source": [
    "vae.save_weights(os.path.join(DATA_DIR, 'model_weights.hdf5'))"
   ]
  },
  {
   "cell_type": "code",
   "execution_count": 0,
   "metadata": {
    "colab": {},
    "colab_type": "code",
    "id": "Sc5706YJOcrA"
   },
   "outputs": [],
   "source": [
    "prediction = vae.predict(x_train[:7600], batch_size=batch_size)"
   ]
  },
  {
   "cell_type": "code",
   "execution_count": 0,
   "metadata": {
    "colab": {},
    "colab_type": "code",
    "id": "uYW5b8HXO3Tl"
   },
   "outputs": [],
   "source": [
    "저장하기\n",
    " with open('prediction_matrix.pkl', 'wb') as f:\n",
    "  pickle.dump(prediction, f)"
   ]
  },
  {
   "cell_type": "markdown",
   "metadata": {
    "colab_type": "text",
    "id": "WbFIlYBe1Sez"
   },
   "source": [
    "## SAR (여기서부터 다시 시작)"
   ]
  },
  {
   "cell_type": "code",
   "execution_count": 0,
   "metadata": {
    "colab": {},
    "colab_type": "code",
    "id": "FzhUM8nO4h-f"
   },
   "outputs": [],
   "source": [
    "import itertools\n",
    "import logging\n",
    "import os\n",
    "\n",
    "import papermill as pm\n",
    "\n",
    "from reco_utils.dataset.python_splitters import python_stratified_split, python_random_split, python_chrono_split\n",
    "from reco_utils.evaluation.python_evaluation import map_at_k, ndcg_at_k, precision_at_k, recall_at_k\n",
    "from reco_utils.recommender.sar.sar_singlenode import SARSingleNode"
   ]
  },
  {
   "cell_type": "code",
   "execution_count": 0,
   "metadata": {
    "colab": {},
    "colab_type": "code",
    "id": "l6PVoBhC4ryZ"
   },
   "outputs": [],
   "source": [
    "import datetime\n",
    "import time"
   ]
  },
  {
   "cell_type": "code",
   "execution_count": 0,
   "metadata": {
    "colab": {},
    "colab_type": "code",
    "id": "grYUQOhW1ayy"
   },
   "outputs": [],
   "source": [
    "with open('prediction_matrix.pkl', 'rb') as f:\n",
    "  prediction = pickle.load(f)"
   ]
  },
  {
   "cell_type": "code",
   "execution_count": 0,
   "metadata": {
    "colab": {},
    "colab_type": "code",
    "id": "uZWEqODcuoH-"
   },
   "outputs": [],
   "source": [
    "cf_data = pd.read_csv(\"modified_data.csv\")\n",
    "cf_data = cf_data"
   ]
  },
  {
   "cell_type": "code",
   "execution_count": 8,
   "metadata": {
    "colab": {
     "base_uri": "https://localhost:8080/",
     "height": 34
    },
    "colab_type": "code",
    "id": "1DuX1JJuykTh",
    "outputId": "6976e07d-1393-4047-f6b3-180b25438df5"
   },
   "outputs": [
    {
     "data": {
      "text/plain": [
       "(37197, 4)"
      ]
     },
     "execution_count": 8,
     "metadata": {
      "tags": []
     },
     "output_type": "execute_result"
    }
   ],
   "source": [
    "cf_data.shape"
   ]
  },
  {
   "cell_type": "code",
   "execution_count": 0,
   "metadata": {
    "colab": {},
    "colab_type": "code",
    "id": "svyeR57dw75-"
   },
   "outputs": [],
   "source": [
    "unique_user = cf_data.userId.unique()[:7600]\n",
    "unique_location = cf_data.locationId.unique()[:9929]"
   ]
  },
  {
   "cell_type": "code",
   "execution_count": 0,
   "metadata": {
    "colab": {},
    "colab_type": "code",
    "id": "YfeBOoS4xHBG"
   },
   "outputs": [],
   "source": [
    "input_data = pd.DataFrame(prediction)\n",
    "input_data.index = unique_user\n",
    "input_data.columns = unique_location"
   ]
  },
  {
   "cell_type": "code",
   "execution_count": 11,
   "metadata": {
    "colab": {
     "base_uri": "https://localhost:8080/",
     "height": 402
    },
    "colab_type": "code",
    "id": "EyT0y5YUybMx",
    "outputId": "038e1b42-69e4-4787-c5a7-36f539732dc0"
   },
   "outputs": [
    {
     "data": {
      "text/html": [
       "<div>\n",
       "<style scoped>\n",
       "    .dataframe tbody tr th:only-of-type {\n",
       "        vertical-align: middle;\n",
       "    }\n",
       "\n",
       "    .dataframe tbody tr th {\n",
       "        vertical-align: top;\n",
       "    }\n",
       "\n",
       "    .dataframe thead th {\n",
       "        text-align: right;\n",
       "    }\n",
       "</style>\n",
       "<table border=\"1\" class=\"dataframe\">\n",
       "  <thead>\n",
       "    <tr style=\"text-align: right;\">\n",
       "      <th></th>\n",
       "      <th>userId</th>\n",
       "      <th>locationId</th>\n",
       "      <th>rating</th>\n",
       "    </tr>\n",
       "  </thead>\n",
       "  <tbody>\n",
       "    <tr>\n",
       "      <th>0</th>\n",
       "      <td>F9AD0C1F6409A1574AD0AFC237D2A4CE</td>\n",
       "      <td>Hotel Gracery Seoul</td>\n",
       "      <td>5.753986e-13</td>\n",
       "    </tr>\n",
       "    <tr>\n",
       "      <th>1</th>\n",
       "      <td>F9AD0C1F6409A1574AD0AFC237D2A4CE</td>\n",
       "      <td>Hongik University Street</td>\n",
       "      <td>1.437255e-06</td>\n",
       "    </tr>\n",
       "    <tr>\n",
       "      <th>2</th>\n",
       "      <td>F9AD0C1F6409A1574AD0AFC237D2A4CE</td>\n",
       "      <td>Noonaholdak Hongdae</td>\n",
       "      <td>5.363232e-13</td>\n",
       "    </tr>\n",
       "    <tr>\n",
       "      <th>3</th>\n",
       "      <td>F9AD0C1F6409A1574AD0AFC237D2A4CE</td>\n",
       "      <td>L7 Hongdae</td>\n",
       "      <td>4.388336e-13</td>\n",
       "    </tr>\n",
       "    <tr>\n",
       "      <th>4</th>\n",
       "      <td>F9AD0C1F6409A1574AD0AFC237D2A4CE</td>\n",
       "      <td>Myeongdong Shopping Street</td>\n",
       "      <td>9.679204e-12</td>\n",
       "    </tr>\n",
       "    <tr>\n",
       "      <th>...</th>\n",
       "      <td>...</td>\n",
       "      <td>...</td>\n",
       "      <td>...</td>\n",
       "    </tr>\n",
       "    <tr>\n",
       "      <th>75460395</th>\n",
       "      <td>F6FCC0E18883E4DFEAE6C8A577DABD13</td>\n",
       "      <td>Itaewon Land</td>\n",
       "      <td>2.579776e-25</td>\n",
       "    </tr>\n",
       "    <tr>\n",
       "      <th>75460396</th>\n",
       "      <td>F6FCC0E18883E4DFEAE6C8A577DABD13</td>\n",
       "      <td>Hostel 88 Seoul Crown</td>\n",
       "      <td>2.848969e-25</td>\n",
       "    </tr>\n",
       "    <tr>\n",
       "      <th>75460397</th>\n",
       "      <td>F6FCC0E18883E4DFEAE6C8A577DABD13</td>\n",
       "      <td>Star Hostel Myeongdong Family</td>\n",
       "      <td>3.287108e-25</td>\n",
       "    </tr>\n",
       "    <tr>\n",
       "      <th>75460398</th>\n",
       "      <td>F6FCC0E18883E4DFEAE6C8A577DABD13</td>\n",
       "      <td>International Convention Center Jeju</td>\n",
       "      <td>1.810562e-25</td>\n",
       "    </tr>\n",
       "    <tr>\n",
       "      <th>75460399</th>\n",
       "      <td>F6FCC0E18883E4DFEAE6C8A577DABD13</td>\n",
       "      <td>Hotel Hana</td>\n",
       "      <td>3.151549e-25</td>\n",
       "    </tr>\n",
       "  </tbody>\n",
       "</table>\n",
       "<p>75460400 rows × 3 columns</p>\n",
       "</div>"
      ],
      "text/plain": [
       "                                    userId  ...        rating\n",
       "0         F9AD0C1F6409A1574AD0AFC237D2A4CE  ...  5.753986e-13\n",
       "1         F9AD0C1F6409A1574AD0AFC237D2A4CE  ...  1.437255e-06\n",
       "2         F9AD0C1F6409A1574AD0AFC237D2A4CE  ...  5.363232e-13\n",
       "3         F9AD0C1F6409A1574AD0AFC237D2A4CE  ...  4.388336e-13\n",
       "4         F9AD0C1F6409A1574AD0AFC237D2A4CE  ...  9.679204e-12\n",
       "...                                    ...  ...           ...\n",
       "75460395  F6FCC0E18883E4DFEAE6C8A577DABD13  ...  2.579776e-25\n",
       "75460396  F6FCC0E18883E4DFEAE6C8A577DABD13  ...  2.848969e-25\n",
       "75460397  F6FCC0E18883E4DFEAE6C8A577DABD13  ...  3.287108e-25\n",
       "75460398  F6FCC0E18883E4DFEAE6C8A577DABD13  ...  1.810562e-25\n",
       "75460399  F6FCC0E18883E4DFEAE6C8A577DABD13  ...  3.151549e-25\n",
       "\n",
       "[75460400 rows x 3 columns]"
      ]
     },
     "execution_count": 11,
     "metadata": {
      "tags": []
     },
     "output_type": "execute_result"
    }
   ],
   "source": [
    "input_data = pd.DataFrame(input_data.stack().reset_index())\n",
    "input_data.columns = ['userId', 'locationId', 'rating']\n",
    "input_data"
   ]
  },
  {
   "cell_type": "markdown",
   "metadata": {
    "colab_type": "text",
    "id": "ACccoPiF2WU8"
   },
   "source": [
    "#### 이 부분 수정해야함\n",
    ": 기존의 방식과 달리 timestamp를 어떻게 채워넣어야할지 고려해야한다."
   ]
  },
  {
   "cell_type": "code",
   "execution_count": 0,
   "metadata": {
    "colab": {},
    "colab_type": "code",
    "id": "u2T-y2Rw_FoM"
   },
   "outputs": [],
   "source": [
    "cf_data.timestamp = cf_data.timestamp.apply(lambda x: time.mktime(datetime.datetime.strptime(x, '%Y-%m-%d').timetuple()))"
   ]
  },
  {
   "cell_type": "code",
   "execution_count": 0,
   "metadata": {
    "colab": {},
    "colab_type": "code",
    "id": "G7SmWYFb0O6I"
   },
   "outputs": [],
   "source": [
    "id2time = {}\n",
    "for id, time in zip(cf_data.userId, cf_data.timestamp):\n",
    "  id2time[id] = time"
   ]
  },
  {
   "cell_type": "code",
   "execution_count": 0,
   "metadata": {
    "colab": {},
    "colab_type": "code",
    "id": "kPlC44jI0Chz"
   },
   "outputs": [],
   "source": [
    "input_data['timestamp'] = input_data.userId.map(id2time)"
   ]
  },
  {
   "cell_type": "code",
   "execution_count": 15,
   "metadata": {
    "colab": {
     "base_uri": "https://localhost:8080/",
     "height": 47
    },
    "colab_type": "code",
    "id": "MUpKgVnC0ud4",
    "outputId": "f4cbb034-8800-40ef-9156-75a4055bd73c"
   },
   "outputs": [
    {
     "data": {
      "text/html": [
       "<div>\n",
       "<style scoped>\n",
       "    .dataframe tbody tr th:only-of-type {\n",
       "        vertical-align: middle;\n",
       "    }\n",
       "\n",
       "    .dataframe tbody tr th {\n",
       "        vertical-align: top;\n",
       "    }\n",
       "\n",
       "    .dataframe thead th {\n",
       "        text-align: right;\n",
       "    }\n",
       "</style>\n",
       "<table border=\"1\" class=\"dataframe\">\n",
       "  <thead>\n",
       "    <tr style=\"text-align: right;\">\n",
       "      <th></th>\n",
       "      <th>userId</th>\n",
       "      <th>locationId</th>\n",
       "      <th>rating</th>\n",
       "      <th>timestamp</th>\n",
       "    </tr>\n",
       "  </thead>\n",
       "  <tbody>\n",
       "  </tbody>\n",
       "</table>\n",
       "</div>"
      ],
      "text/plain": [
       "Empty DataFrame\n",
       "Columns: [userId, locationId, rating, timestamp]\n",
       "Index: []"
      ]
     },
     "execution_count": 15,
     "metadata": {
      "tags": []
     },
     "output_type": "execute_result"
    }
   ],
   "source": [
    "input_data.loc[input_data.timestamp.isnull()]"
   ]
  },
  {
   "cell_type": "code",
   "execution_count": 16,
   "metadata": {
    "colab": {
     "base_uri": "https://localhost:8080/",
     "height": 195
    },
    "colab_type": "code",
    "id": "WMu_Vz_O1-Ub",
    "outputId": "d0ffa0c6-18f1-47d0-db0a-af5c050efb01"
   },
   "outputs": [
    {
     "name": "stdout",
     "output_type": "stream",
     "text": [
      "Collecting git+https://github.com/microsoft/recommenders\n",
      "  Cloning https://github.com/microsoft/recommenders to /tmp/pip-req-build-ew3hnwdn\n",
      "  Running command git clone -q https://github.com/microsoft/recommenders /tmp/pip-req-build-ew3hnwdn\n",
      "Requirement already satisfied (use --upgrade to upgrade): reco-utils==2019.9 from git+https://github.com/microsoft/recommenders in /usr/local/lib/python3.6/dist-packages\n",
      "Building wheels for collected packages: reco-utils\n",
      "  Building wheel for reco-utils (setup.py) ... \u001b[?25l\u001b[?25hdone\n",
      "  Created wheel for reco-utils: filename=reco_utils-2019.9-cp36-none-any.whl size=164194 sha256=175d1250369747b8d6e7a73e0ecfd9914dfb6717f7668beaad20fba2489d0b51\n",
      "  Stored in directory: /tmp/pip-ephem-wheel-cache-vjosbg73/wheels/b4/1c/70/c3f6005781b2b5a3370ec55bdd75c10ed1b07456bdfb1a0524\n",
      "Successfully built reco-utils\n"
     ]
    }
   ],
   "source": [
    "!pip install git+https://github.com/microsoft/recommenders"
   ]
  },
  {
   "cell_type": "code",
   "execution_count": 17,
   "metadata": {
    "colab": {
     "base_uri": "https://localhost:8080/",
     "height": 284
    },
    "colab_type": "code",
    "id": "8xtb7U1E3M5T",
    "outputId": "0c034031-7fb6-4ea3-df91-b438598ed83f"
   },
   "outputs": [
    {
     "data": {
      "text/html": [
       "<div>\n",
       "<style scoped>\n",
       "    .dataframe tbody tr th:only-of-type {\n",
       "        vertical-align: middle;\n",
       "    }\n",
       "\n",
       "    .dataframe tbody tr th {\n",
       "        vertical-align: top;\n",
       "    }\n",
       "\n",
       "    .dataframe thead th {\n",
       "        text-align: right;\n",
       "    }\n",
       "</style>\n",
       "<table border=\"1\" class=\"dataframe\">\n",
       "  <thead>\n",
       "    <tr style=\"text-align: right;\">\n",
       "      <th></th>\n",
       "      <th>userId</th>\n",
       "    </tr>\n",
       "  </thead>\n",
       "  <tbody>\n",
       "    <tr>\n",
       "      <th>count</th>\n",
       "      <td>9929.0</td>\n",
       "    </tr>\n",
       "    <tr>\n",
       "      <th>mean</th>\n",
       "      <td>7600.0</td>\n",
       "    </tr>\n",
       "    <tr>\n",
       "      <th>std</th>\n",
       "      <td>0.0</td>\n",
       "    </tr>\n",
       "    <tr>\n",
       "      <th>min</th>\n",
       "      <td>7600.0</td>\n",
       "    </tr>\n",
       "    <tr>\n",
       "      <th>25%</th>\n",
       "      <td>7600.0</td>\n",
       "    </tr>\n",
       "    <tr>\n",
       "      <th>50%</th>\n",
       "      <td>7600.0</td>\n",
       "    </tr>\n",
       "    <tr>\n",
       "      <th>75%</th>\n",
       "      <td>7600.0</td>\n",
       "    </tr>\n",
       "    <tr>\n",
       "      <th>max</th>\n",
       "      <td>7600.0</td>\n",
       "    </tr>\n",
       "  </tbody>\n",
       "</table>\n",
       "</div>"
      ],
      "text/plain": [
       "       userId\n",
       "count  9929.0\n",
       "mean   7600.0\n",
       "std       0.0\n",
       "min    7600.0\n",
       "25%    7600.0\n",
       "50%    7600.0\n",
       "75%    7600.0\n",
       "max    7600.0"
      ]
     },
     "execution_count": 17,
     "metadata": {
      "tags": []
     },
     "output_type": "execute_result"
    }
   ],
   "source": [
    "input_data.groupby('locationId').agg({'userId': \"count\"}).describe()"
   ]
  },
  {
   "cell_type": "markdown",
   "metadata": {
    "colab_type": "text",
    "id": "G6dQig8H3n_u"
   },
   "source": [
    "### data preprocessing & modeling"
   ]
  },
  {
   "cell_type": "code",
   "execution_count": 0,
   "metadata": {
    "colab": {},
    "colab_type": "code",
    "id": "9XEiDSnn3vCE"
   },
   "outputs": [],
   "source": [
    "df=input_data\n",
    "df.columns = ['id','location.locationId',\t'rating',\t'createdDate']"
   ]
  },
  {
   "cell_type": "code",
   "execution_count": 19,
   "metadata": {
    "colab": {
     "base_uri": "https://localhost:8080/",
     "height": 195
    },
    "colab_type": "code",
    "id": "13_VdokD4Kip",
    "outputId": "707971db-a5a9-41a4-d7d5-896ed237498a"
   },
   "outputs": [
    {
     "data": {
      "text/html": [
       "<div>\n",
       "<style scoped>\n",
       "    .dataframe tbody tr th:only-of-type {\n",
       "        vertical-align: middle;\n",
       "    }\n",
       "\n",
       "    .dataframe tbody tr th {\n",
       "        vertical-align: top;\n",
       "    }\n",
       "\n",
       "    .dataframe thead th {\n",
       "        text-align: right;\n",
       "    }\n",
       "</style>\n",
       "<table border=\"1\" class=\"dataframe\">\n",
       "  <thead>\n",
       "    <tr style=\"text-align: right;\">\n",
       "      <th></th>\n",
       "      <th>id</th>\n",
       "      <th>location.locationId</th>\n",
       "      <th>rating</th>\n",
       "      <th>createdDate</th>\n",
       "    </tr>\n",
       "  </thead>\n",
       "  <tbody>\n",
       "    <tr>\n",
       "      <th>0</th>\n",
       "      <td>F9AD0C1F6409A1574AD0AFC237D2A4CE</td>\n",
       "      <td>Hotel Gracery Seoul</td>\n",
       "      <td>5.753986e-13</td>\n",
       "      <td>1.583021e+09</td>\n",
       "    </tr>\n",
       "    <tr>\n",
       "      <th>1</th>\n",
       "      <td>F9AD0C1F6409A1574AD0AFC237D2A4CE</td>\n",
       "      <td>Hongik University Street</td>\n",
       "      <td>1.437255e-06</td>\n",
       "      <td>1.583021e+09</td>\n",
       "    </tr>\n",
       "    <tr>\n",
       "      <th>2</th>\n",
       "      <td>F9AD0C1F6409A1574AD0AFC237D2A4CE</td>\n",
       "      <td>Noonaholdak Hongdae</td>\n",
       "      <td>5.363232e-13</td>\n",
       "      <td>1.583021e+09</td>\n",
       "    </tr>\n",
       "    <tr>\n",
       "      <th>3</th>\n",
       "      <td>F9AD0C1F6409A1574AD0AFC237D2A4CE</td>\n",
       "      <td>L7 Hongdae</td>\n",
       "      <td>4.388336e-13</td>\n",
       "      <td>1.583021e+09</td>\n",
       "    </tr>\n",
       "    <tr>\n",
       "      <th>4</th>\n",
       "      <td>F9AD0C1F6409A1574AD0AFC237D2A4CE</td>\n",
       "      <td>Myeongdong Shopping Street</td>\n",
       "      <td>9.679204e-12</td>\n",
       "      <td>1.583021e+09</td>\n",
       "    </tr>\n",
       "  </tbody>\n",
       "</table>\n",
       "</div>"
      ],
      "text/plain": [
       "                                 id  ...   createdDate\n",
       "0  F9AD0C1F6409A1574AD0AFC237D2A4CE  ...  1.583021e+09\n",
       "1  F9AD0C1F6409A1574AD0AFC237D2A4CE  ...  1.583021e+09\n",
       "2  F9AD0C1F6409A1574AD0AFC237D2A4CE  ...  1.583021e+09\n",
       "3  F9AD0C1F6409A1574AD0AFC237D2A4CE  ...  1.583021e+09\n",
       "4  F9AD0C1F6409A1574AD0AFC237D2A4CE  ...  1.583021e+09\n",
       "\n",
       "[5 rows x 4 columns]"
      ]
     },
     "execution_count": 19,
     "metadata": {
      "tags": []
     },
     "output_type": "execute_result"
    }
   ],
   "source": [
    "df.head()"
   ]
  },
  {
   "cell_type": "code",
   "execution_count": 0,
   "metadata": {
    "colab": {},
    "colab_type": "code",
    "id": "zcOjFotkGpO6"
   },
   "outputs": [],
   "source": [
    "# RAM을 모두 사용하기 때문에 평점으로 필터링 해보자.\n",
    "df = df.loc[df.rating>=0.001]"
   ]
  },
  {
   "cell_type": "code",
   "execution_count": 0,
   "metadata": {
    "colab": {},
    "colab_type": "code",
    "id": "gVDq_ru74zde"
   },
   "outputs": [],
   "source": [
    "# top k items to recommend\n",
    "TOP_K = 10\n",
    "DATA_SIZE = df.shape[0]"
   ]
  },
  {
   "cell_type": "code",
   "execution_count": 0,
   "metadata": {
    "colab": {},
    "colab_type": "code",
    "id": "AUxyuFEf85x_"
   },
   "outputs": [],
   "source": [
    "DEFAULT_USER_COL= 'id',\n",
    "DEFAULT_ITEM_COL='location.locationId'\n",
    "DEFAULT_TIMESTAMP_COL='createdDate'"
   ]
  },
  {
   "cell_type": "code",
   "execution_count": 0,
   "metadata": {
    "colab": {},
    "colab_type": "code",
    "id": "kzyknucL4LjI"
   },
   "outputs": [],
   "source": [
    "# train / test split code \n",
    "def _do_stratification(\n",
    "    data,\n",
    "    ratio=0.75,\n",
    "    min_rating=1,\n",
    "    filter_by=\"user\",\n",
    "    is_random=True,\n",
    "    seed=42,\n",
    "    col_user=DEFAULT_USER_COL,\n",
    "    col_item=DEFAULT_ITEM_COL,\n",
    "    col_timestamp=DEFAULT_TIMESTAMP_COL,\n",
    "):\n",
    "    # A few preliminary checks.\n",
    "    if not (filter_by == \"user\" or filter_by == \"item\"):\n",
    "        raise ValueError(\"filter_by should be either 'user' or 'item'.\")\n",
    "\n",
    "    if min_rating < 1:\n",
    "        raise ValueError(\"min_rating should be integer and larger than or equal to 1.\")\n",
    "\n",
    "    if col_user not in data.columns:\n",
    "        raise ValueError(\"Schema of data not valid. Missing User Col\")\n",
    "\n",
    "    if col_item not in data.columns:\n",
    "        raise ValueError(\"Schema of data not valid. Missing Item Col\")\n",
    "\n",
    "    if not is_random:\n",
    "        if col_timestamp not in data.columns:\n",
    "            raise ValueError(\"Schema of data not valid. Missing Timestamp Col\")\n",
    "\n",
    "    multi_split, ratio = process_split_ratio(ratio)\n",
    "\n",
    "    split_by_column = col_user if filter_by == \"user\" else col_item\n",
    "\n",
    "    ratio = ratio if multi_split else [ratio, 1 - ratio]\n",
    "\n",
    "    if min_rating > 1:\n",
    "        data = min_rating_filter_pandas(\n",
    "            data,\n",
    "            min_rating=min_rating,\n",
    "            filter_by=filter_by,\n",
    "            col_user=col_user,\n",
    "            col_item=col_item,\n",
    "        )\n",
    "\n",
    "    # Split by each group and aggregate splits together.\n",
    "    splits = []\n",
    "\n",
    "    # If it is for chronological splitting, the split will be performed in a random way.\n",
    "    ### 여기서 그룹으로 묶을 때 !!! \n",
    "    ### data.sort_values(timestamp).groupby(userId)로 묶고 시작하게 됨 \n",
    "    df_grouped = (\n",
    "        data.sort_values(col_timestamp).groupby(split_by_column) \n",
    "        if is_random is False\n",
    "        else data.groupby(split_by_column)\n",
    "    )\n",
    "\n",
    "    for name, group in df_grouped:\n",
    "        group_splits = split_pandas_data_with_ratios(\n",
    "            df_grouped.get_group(name), ratio, shuffle=is_random, seed=seed\n",
    "        )\n",
    "\n",
    "        # Concatenate the list of split dataframes.\n",
    "        concat_group_splits = pd.concat(group_splits)\n",
    "\n",
    "        splits.append(concat_group_splits)\n",
    "\n",
    "    # Concatenate splits for all the groups together.\n",
    "    splits_all = pd.concat(splits)\n",
    "\n",
    "    # Take split by split_index\n",
    "    splits_list = [\n",
    "        splits_all[splits_all[\"split_index\"] == x].drop(\"split_index\", axis=1)\n",
    "        for x in range(len(ratio))\n",
    "    ]\n",
    "\n",
    "    return splits_list\n"
   ]
  },
  {
   "cell_type": "code",
   "execution_count": 0,
   "metadata": {
    "colab": {},
    "colab_type": "code",
    "id": "BQFdpgqY4czS"
   },
   "outputs": [],
   "source": [
    "def stratified_split(\n",
    "    data,\n",
    "    ratio=0.75,\n",
    "    min_rating=1,\n",
    "    filter_by=\"user\",\n",
    "    col_user=DEFAULT_USER_COL,\n",
    "    col_item=DEFAULT_ITEM_COL,\n",
    "    seed=42,\n",
    "):\n",
    "    \"\"\"Pandas stratified splitter.\n",
    "    \n",
    "    For each user / item, the split function takes proportions of ratings which is\n",
    "    specified by the split ratio(s). The split is stratified.\n",
    "\n",
    "    Args:\n",
    "        data (pd.DataFrame): Pandas DataFrame to be split.\n",
    "        ratio (float or list): Ratio for splitting data. If it is a single float number\n",
    "            it splits data into two halves and the ratio argument indicates the ratio of\n",
    "            training data set; if it is a list of float numbers, the splitter splits\n",
    "            data into several portions corresponding to the split ratios. If a list is\n",
    "            provided and the ratios are not summed to 1, they will be normalized.\n",
    "        seed (int): Seed.\n",
    "        min_rating (int): minimum number of ratings for user or item.\n",
    "        filter_by (str): either \"user\" or \"item\", depending on which of the two is to\n",
    "            filter with min_rating.\n",
    "        col_user (str): column name of user IDs.\n",
    "        col_item (str): column name of item IDs.\n",
    "\n",
    "    Returns:\n",
    "        list: Splits of the input data as pd.DataFrame.\n",
    "    \"\"\"\n",
    "    return _do_stratification(\n",
    "        data,\n",
    "        ratio=ratio,\n",
    "        min_rating=min_rating,\n",
    "        filter_by=filter_by,\n",
    "        col_user=col_user,\n",
    "        col_item=col_item,\n",
    "        is_random=True,\n",
    "        seed=seed,\n",
    "    )"
   ]
  },
  {
   "cell_type": "markdown",
   "metadata": {
    "colab_type": "text",
    "id": "JqHrEqjlASkz"
   },
   "source": [
    "##### 1) A matrix: (user, item) - stratified_split"
   ]
  },
  {
   "cell_type": "code",
   "execution_count": 0,
   "metadata": {
    "colab": {},
    "colab_type": "code",
    "id": "6K5Q7gZZ5VEp"
   },
   "outputs": [],
   "source": [
    "header = {\n",
    "    \"col_user\": \"id\",\n",
    "    \"col_item\": \"location.locationId\",\n",
    "    \"col_rating\": \"rating\",\n",
    "    \"col_timestamp\": \"createdDate\",\n",
    "}"
   ]
  },
  {
   "cell_type": "code",
   "execution_count": 0,
   "metadata": {
    "colab": {},
    "colab_type": "code",
    "id": "ZU37B1lq5VZV"
   },
   "outputs": [],
   "source": [
    "train, test = python_stratified_split(df, ratio=0.75, col_user=header[\"col_user\"], col_item=header[\"col_item\"], seed = 42 )"
   ]
  },
  {
   "cell_type": "code",
   "execution_count": 32,
   "metadata": {
    "colab": {
     "base_uri": "https://localhost:8080/",
     "height": 34
    },
    "colab_type": "code",
    "id": "cR35vouG5Vq4",
    "outputId": "8c9eda8d-7a4f-4ef4-ba56-4c1f9e673502"
   },
   "outputs": [
    {
     "name": "stdout",
     "output_type": "stream",
     "text": [
      "(227293, 4) (75816, 4)\n"
     ]
    }
   ],
   "source": [
    "print(train.shape, test.shape)"
   ]
  },
  {
   "cell_type": "markdown",
   "metadata": {
    "colab_type": "text",
    "id": "Yz2EoS895s8W"
   },
   "source": [
    "##### 2) A matrix : (user, item) - random split"
   ]
  },
  {
   "cell_type": "code",
   "execution_count": 0,
   "metadata": {
    "colab": {},
    "colab_type": "code",
    "id": "-3VFfLWn5V0u"
   },
   "outputs": [],
   "source": [
    "header = {\n",
    "    \"col_user\": \"id\",\n",
    "    \"col_item\": \"location.locationId\",\n",
    "    \"col_rating\": \"rating\",\n",
    "    \"col_timestamp\": \"createdDate\",\n",
    "}"
   ]
  },
  {
   "cell_type": "code",
   "execution_count": 0,
   "metadata": {
    "colab": {},
    "colab_type": "code",
    "id": "TnxQgxUf5V7t"
   },
   "outputs": [],
   "source": [
    "train, test = python_random_split(df, ratio=0.75, seed = 42)"
   ]
  },
  {
   "cell_type": "code",
   "execution_count": 57,
   "metadata": {
    "colab": {
     "base_uri": "https://localhost:8080/",
     "height": 34
    },
    "colab_type": "code",
    "id": "xlrUrAVW95rA",
    "outputId": "58e8de59-492b-48c0-8c87-fd68516e5d39"
   },
   "outputs": [
    {
     "name": "stdout",
     "output_type": "stream",
     "text": [
      "(227331, 4) (75778, 4)\n"
     ]
    }
   ],
   "source": [
    "print(train.shape, test.shape)"
   ]
  },
  {
   "cell_type": "code",
   "execution_count": 0,
   "metadata": {
    "colab": {},
    "colab_type": "code",
    "id": "lUgroJSZ98zV"
   },
   "outputs": [],
   "source": [
    "model = SARSingleNode(\n",
    "    similarity_type=\"cooccurrence\", # jaccard, lift, cooccurrence \n",
    "    time_decay_coefficient=100, \n",
    "    time_now=None, \n",
    "    timedecay_formula=True, \n",
    "    **header\n",
    ")"
   ]
  },
  {
   "cell_type": "code",
   "execution_count": 0,
   "metadata": {
    "colab": {},
    "colab_type": "code",
    "id": "so9NKAFi-BNL"
   },
   "outputs": [],
   "source": [
    "model.fit(train)"
   ]
  },
  {
   "cell_type": "code",
   "execution_count": 0,
   "metadata": {
    "colab": {},
    "colab_type": "code",
    "id": "YOeRFxoY-FO3"
   },
   "outputs": [],
   "source": [
    "top_k = model.recommend_k_items(test, remove_seen=True) # ^^..."
   ]
  },
  {
   "cell_type": "markdown",
   "metadata": {
    "colab_type": "text",
    "id": "G__-Q0asMRV0"
   },
   "source": [
    "###### example"
   ]
  },
  {
   "cell_type": "code",
   "execution_count": 62,
   "metadata": {
    "colab": {
     "base_uri": "https://localhost:8080/",
     "height": 580
    },
    "colab_type": "code",
    "id": "7-_saeEKJ03z",
    "outputId": "a511723a-c5e8-4a8b-e715-abce826d4959"
   },
   "outputs": [
    {
     "data": {
      "text/html": [
       "<div>\n",
       "<style scoped>\n",
       "    .dataframe tbody tr th:only-of-type {\n",
       "        vertical-align: middle;\n",
       "    }\n",
       "\n",
       "    .dataframe tbody tr th {\n",
       "        vertical-align: top;\n",
       "    }\n",
       "\n",
       "    .dataframe thead th {\n",
       "        text-align: right;\n",
       "    }\n",
       "</style>\n",
       "<table border=\"1\" class=\"dataframe\">\n",
       "  <thead>\n",
       "    <tr style=\"text-align: right;\">\n",
       "      <th></th>\n",
       "      <th>userId</th>\n",
       "      <th>locationId</th>\n",
       "      <th>rating</th>\n",
       "      <th>timestamp</th>\n",
       "    </tr>\n",
       "  </thead>\n",
       "  <tbody>\n",
       "    <tr>\n",
       "      <th>692</th>\n",
       "      <td>3E0FC52CB4D6963C7B14D54B2B133EDB</td>\n",
       "      <td>Somerset Central Bundang</td>\n",
       "      <td>5</td>\n",
       "      <td>1.539562e+09</td>\n",
       "    </tr>\n",
       "    <tr>\n",
       "      <th>693</th>\n",
       "      <td>3E0FC52CB4D6963C7B14D54B2B133EDB</td>\n",
       "      <td>Lotte Hotel Busan</td>\n",
       "      <td>5</td>\n",
       "      <td>1.539562e+09</td>\n",
       "    </tr>\n",
       "    <tr>\n",
       "      <th>694</th>\n",
       "      <td>3E0FC52CB4D6963C7B14D54B2B133EDB</td>\n",
       "      <td>Cheonggye Mountain Dam Baekmi</td>\n",
       "      <td>5</td>\n",
       "      <td>1.539562e+09</td>\n",
       "    </tr>\n",
       "    <tr>\n",
       "      <th>695</th>\n",
       "      <td>3E0FC52CB4D6963C7B14D54B2B133EDB</td>\n",
       "      <td>Starbucks Pangyo H Square</td>\n",
       "      <td>4</td>\n",
       "      <td>1.539562e+09</td>\n",
       "    </tr>\n",
       "    <tr>\n",
       "      <th>696</th>\n",
       "      <td>3E0FC52CB4D6963C7B14D54B2B133EDB</td>\n",
       "      <td>Gangnam Myeonok Seohyeon</td>\n",
       "      <td>4</td>\n",
       "      <td>1.539562e+09</td>\n",
       "    </tr>\n",
       "    <tr>\n",
       "      <th>697</th>\n",
       "      <td>3E0FC52CB4D6963C7B14D54B2B133EDB</td>\n",
       "      <td>Jeongja-dong Cafe Street</td>\n",
       "      <td>4</td>\n",
       "      <td>1.539562e+09</td>\n",
       "    </tr>\n",
       "    <tr>\n",
       "      <th>698</th>\n",
       "      <td>3E0FC52CB4D6963C7B14D54B2B133EDB</td>\n",
       "      <td>Hongruwon</td>\n",
       "      <td>5</td>\n",
       "      <td>1.533773e+09</td>\n",
       "    </tr>\n",
       "    <tr>\n",
       "      <th>699</th>\n",
       "      <td>3E0FC52CB4D6963C7B14D54B2B133EDB</td>\n",
       "      <td>Saint Augustin - Avenue France Pangyo</td>\n",
       "      <td>4</td>\n",
       "      <td>1.533773e+09</td>\n",
       "    </tr>\n",
       "    <tr>\n",
       "      <th>700</th>\n",
       "      <td>3E0FC52CB4D6963C7B14D54B2B133EDB</td>\n",
       "      <td>Mad for Garlic Seohyeon</td>\n",
       "      <td>5</td>\n",
       "      <td>1.533773e+09</td>\n",
       "    </tr>\n",
       "    <tr>\n",
       "      <th>701</th>\n",
       "      <td>3E0FC52CB4D6963C7B14D54B2B133EDB</td>\n",
       "      <td>Utaro</td>\n",
       "      <td>3</td>\n",
       "      <td>1.533773e+09</td>\n",
       "    </tr>\n",
       "    <tr>\n",
       "      <th>702</th>\n",
       "      <td>3E0FC52CB4D6963C7B14D54B2B133EDB</td>\n",
       "      <td>Seoul 24 Hours Gamjatang Seohyeon</td>\n",
       "      <td>4</td>\n",
       "      <td>1.533773e+09</td>\n",
       "    </tr>\n",
       "    <tr>\n",
       "      <th>703</th>\n",
       "      <td>3E0FC52CB4D6963C7B14D54B2B133EDB</td>\n",
       "      <td>Hwasumok</td>\n",
       "      <td>4</td>\n",
       "      <td>1.533773e+09</td>\n",
       "    </tr>\n",
       "    <tr>\n",
       "      <th>704</th>\n",
       "      <td>3E0FC52CB4D6963C7B14D54B2B133EDB</td>\n",
       "      <td>Seohyeon Restaurant</td>\n",
       "      <td>5</td>\n",
       "      <td>1.533773e+09</td>\n",
       "    </tr>\n",
       "    <tr>\n",
       "      <th>705</th>\n",
       "      <td>3E0FC52CB4D6963C7B14D54B2B133EDB</td>\n",
       "      <td>Four Seasons Hotel Seoul</td>\n",
       "      <td>5</td>\n",
       "      <td>1.532909e+09</td>\n",
       "    </tr>\n",
       "    <tr>\n",
       "      <th>706</th>\n",
       "      <td>3E0FC52CB4D6963C7B14D54B2B133EDB</td>\n",
       "      <td>The Shilla Seoul</td>\n",
       "      <td>4</td>\n",
       "      <td>1.532909e+09</td>\n",
       "    </tr>\n",
       "    <tr>\n",
       "      <th>707</th>\n",
       "      <td>3E0FC52CB4D6963C7B14D54B2B133EDB</td>\n",
       "      <td>Myeongdong Kyoja Main</td>\n",
       "      <td>5</td>\n",
       "      <td>1.532909e+09</td>\n",
       "    </tr>\n",
       "    <tr>\n",
       "      <th>708</th>\n",
       "      <td>3E0FC52CB4D6963C7B14D54B2B133EDB</td>\n",
       "      <td>Bukchon Hanok Village</td>\n",
       "      <td>5</td>\n",
       "      <td>1.532909e+09</td>\n",
       "    </tr>\n",
       "    <tr>\n",
       "      <th>709</th>\n",
       "      <td>3E0FC52CB4D6963C7B14D54B2B133EDB</td>\n",
       "      <td>Tosokchon Samgyetang</td>\n",
       "      <td>4</td>\n",
       "      <td>1.532909e+09</td>\n",
       "    </tr>\n",
       "  </tbody>\n",
       "</table>\n",
       "</div>"
      ],
      "text/plain": [
       "                               userId  ...     timestamp\n",
       "692  3E0FC52CB4D6963C7B14D54B2B133EDB  ...  1.539562e+09\n",
       "693  3E0FC52CB4D6963C7B14D54B2B133EDB  ...  1.539562e+09\n",
       "694  3E0FC52CB4D6963C7B14D54B2B133EDB  ...  1.539562e+09\n",
       "695  3E0FC52CB4D6963C7B14D54B2B133EDB  ...  1.539562e+09\n",
       "696  3E0FC52CB4D6963C7B14D54B2B133EDB  ...  1.539562e+09\n",
       "697  3E0FC52CB4D6963C7B14D54B2B133EDB  ...  1.539562e+09\n",
       "698  3E0FC52CB4D6963C7B14D54B2B133EDB  ...  1.533773e+09\n",
       "699  3E0FC52CB4D6963C7B14D54B2B133EDB  ...  1.533773e+09\n",
       "700  3E0FC52CB4D6963C7B14D54B2B133EDB  ...  1.533773e+09\n",
       "701  3E0FC52CB4D6963C7B14D54B2B133EDB  ...  1.533773e+09\n",
       "702  3E0FC52CB4D6963C7B14D54B2B133EDB  ...  1.533773e+09\n",
       "703  3E0FC52CB4D6963C7B14D54B2B133EDB  ...  1.533773e+09\n",
       "704  3E0FC52CB4D6963C7B14D54B2B133EDB  ...  1.533773e+09\n",
       "705  3E0FC52CB4D6963C7B14D54B2B133EDB  ...  1.532909e+09\n",
       "706  3E0FC52CB4D6963C7B14D54B2B133EDB  ...  1.532909e+09\n",
       "707  3E0FC52CB4D6963C7B14D54B2B133EDB  ...  1.532909e+09\n",
       "708  3E0FC52CB4D6963C7B14D54B2B133EDB  ...  1.532909e+09\n",
       "709  3E0FC52CB4D6963C7B14D54B2B133EDB  ...  1.532909e+09\n",
       "\n",
       "[18 rows x 4 columns]"
      ]
     },
     "execution_count": 62,
     "metadata": {
      "tags": []
     },
     "output_type": "execute_result"
    }
   ],
   "source": [
    "cf_data.loc[cf_data.userId =='3E0FC52CB4D6963C7B14D54B2B133EDB']"
   ]
  },
  {
   "cell_type": "code",
   "execution_count": 61,
   "metadata": {
    "colab": {
     "base_uri": "https://localhost:8080/",
     "height": 343
    },
    "colab_type": "code",
    "id": "5go-thmA-FFm",
    "outputId": "4236e66c-0fc9-46e6-aece-e054cf45169d"
   },
   "outputs": [
    {
     "data": {
      "text/html": [
       "<div>\n",
       "<style scoped>\n",
       "    .dataframe tbody tr th:only-of-type {\n",
       "        vertical-align: middle;\n",
       "    }\n",
       "\n",
       "    .dataframe tbody tr th {\n",
       "        vertical-align: top;\n",
       "    }\n",
       "\n",
       "    .dataframe thead th {\n",
       "        text-align: right;\n",
       "    }\n",
       "</style>\n",
       "<table border=\"1\" class=\"dataframe\">\n",
       "  <thead>\n",
       "    <tr style=\"text-align: right;\">\n",
       "      <th></th>\n",
       "      <th>id</th>\n",
       "      <th>location.locationId</th>\n",
       "      <th>prediction</th>\n",
       "    </tr>\n",
       "  </thead>\n",
       "  <tbody>\n",
       "    <tr>\n",
       "      <th>0</th>\n",
       "      <td>3E0FC52CB4D6963C7B14D54B2B133EDB</td>\n",
       "      <td>Millennium Hilton Seoul</td>\n",
       "      <td>8.736110</td>\n",
       "    </tr>\n",
       "    <tr>\n",
       "      <th>1</th>\n",
       "      <td>3E0FC52CB4D6963C7B14D54B2B133EDB</td>\n",
       "      <td>JW Marriott Dongdaemun Square Seoul</td>\n",
       "      <td>8.200241</td>\n",
       "    </tr>\n",
       "    <tr>\n",
       "      <th>2</th>\n",
       "      <td>3E0FC52CB4D6963C7B14D54B2B133EDB</td>\n",
       "      <td>Novotel Ambassador Seoul Dongdaemun</td>\n",
       "      <td>8.148831</td>\n",
       "    </tr>\n",
       "    <tr>\n",
       "      <th>3</th>\n",
       "      <td>3E0FC52CB4D6963C7B14D54B2B133EDB</td>\n",
       "      <td>Crown Park Hotel Seoul</td>\n",
       "      <td>8.071999</td>\n",
       "    </tr>\n",
       "    <tr>\n",
       "      <th>4</th>\n",
       "      <td>3E0FC52CB4D6963C7B14D54B2B133EDB</td>\n",
       "      <td>Staz Hotel Myeongdong II</td>\n",
       "      <td>7.546767</td>\n",
       "    </tr>\n",
       "    <tr>\n",
       "      <th>5</th>\n",
       "      <td>3E0FC52CB4D6963C7B14D54B2B133EDB</td>\n",
       "      <td>Pacific Hotel</td>\n",
       "      <td>7.279606</td>\n",
       "    </tr>\n",
       "    <tr>\n",
       "      <th>6</th>\n",
       "      <td>3E0FC52CB4D6963C7B14D54B2B133EDB</td>\n",
       "      <td>Ramada Hotel &amp; Suites By Wyndham Seoul Namdaemun</td>\n",
       "      <td>7.195145</td>\n",
       "    </tr>\n",
       "    <tr>\n",
       "      <th>7</th>\n",
       "      <td>3E0FC52CB4D6963C7B14D54B2B133EDB</td>\n",
       "      <td>Aloft Seoul Myeongdong</td>\n",
       "      <td>7.165271</td>\n",
       "    </tr>\n",
       "    <tr>\n",
       "      <th>8</th>\n",
       "      <td>3E0FC52CB4D6963C7B14D54B2B133EDB</td>\n",
       "      <td>Glory Inn</td>\n",
       "      <td>7.124995</td>\n",
       "    </tr>\n",
       "    <tr>\n",
       "      <th>9</th>\n",
       "      <td>3E0FC52CB4D6963C7B14D54B2B133EDB</td>\n",
       "      <td>Prince Hotel Seoul</td>\n",
       "      <td>7.016269</td>\n",
       "    </tr>\n",
       "  </tbody>\n",
       "</table>\n",
       "</div>"
      ],
      "text/plain": [
       "                                 id  ... prediction\n",
       "0  3E0FC52CB4D6963C7B14D54B2B133EDB  ...   8.736110\n",
       "1  3E0FC52CB4D6963C7B14D54B2B133EDB  ...   8.200241\n",
       "2  3E0FC52CB4D6963C7B14D54B2B133EDB  ...   8.148831\n",
       "3  3E0FC52CB4D6963C7B14D54B2B133EDB  ...   8.071999\n",
       "4  3E0FC52CB4D6963C7B14D54B2B133EDB  ...   7.546767\n",
       "5  3E0FC52CB4D6963C7B14D54B2B133EDB  ...   7.279606\n",
       "6  3E0FC52CB4D6963C7B14D54B2B133EDB  ...   7.195145\n",
       "7  3E0FC52CB4D6963C7B14D54B2B133EDB  ...   7.165271\n",
       "8  3E0FC52CB4D6963C7B14D54B2B133EDB  ...   7.124995\n",
       "9  3E0FC52CB4D6963C7B14D54B2B133EDB  ...   7.016269\n",
       "\n",
       "[10 rows x 3 columns]"
      ]
     },
     "execution_count": 61,
     "metadata": {
      "tags": []
     },
     "output_type": "execute_result"
    }
   ],
   "source": [
    "top_k.loc[top_k.id == '3E0FC52CB4D6963C7B14D54B2B133EDB']"
   ]
  },
  {
   "cell_type": "markdown",
   "metadata": {
    "colab_type": "text",
    "id": "0GP-rCUH52WV"
   },
   "source": [
    "##### 3) A matrix : (item, user)"
   ]
  },
  {
   "cell_type": "code",
   "execution_count": 0,
   "metadata": {
    "colab": {},
    "colab_type": "code",
    "id": "SGmLcP1M6Cjn"
   },
   "outputs": [],
   "source": [
    "header = {\n",
    "    \"col_user\": \"location.locationId\",\n",
    "    \"col_item\": \"id\",\n",
    "    \"col_rating\": \"rating\",\n",
    "    \"col_timestamp\": \"createdDate\",\n",
    "}"
   ]
  },
  {
   "cell_type": "code",
   "execution_count": 0,
   "metadata": {
    "colab": {},
    "colab_type": "code",
    "id": "YR1ZzgCY6Cgb"
   },
   "outputs": [],
   "source": [
    "train, test = python_stratified_split(df, ratio=0.75, col_user=header[\"col_user\"], col_item=header[\"col_item\"], seed = 42 )"
   ]
  },
  {
   "cell_type": "markdown",
   "metadata": {
    "colab_type": "text",
    "id": "TMiFbFvb57yW"
   },
   "source": [
    "(1) cooccurrence"
   ]
  },
  {
   "cell_type": "code",
   "execution_count": 0,
   "metadata": {
    "colab": {},
    "colab_type": "code",
    "id": "3USGwFET6CVZ"
   },
   "outputs": [],
   "source": [
    "model = SARSingleNode(\n",
    "    similarity_type=\"cooccurrence\", # jaccard, lift, cooccurrence \n",
    "    time_decay_coefficient=100, \n",
    "    time_now=None, \n",
    "    timedecay_formula=True, \n",
    "    **header\n",
    ")"
   ]
  },
  {
   "cell_type": "code",
   "execution_count": 0,
   "metadata": {
    "colab": {},
    "colab_type": "code",
    "id": "EF6JP1LV6CS9"
   },
   "outputs": [],
   "source": [
    "model.fit(train)"
   ]
  },
  {
   "cell_type": "code",
   "execution_count": 0,
   "metadata": {
    "colab": {},
    "colab_type": "code",
    "id": "8r864ZjZ6CQd"
   },
   "outputs": [],
   "source": [
    "top_k = model.recommend_k_items(test, remove_seen=True) # ^^..."
   ]
  },
  {
   "cell_type": "markdown",
   "metadata": {
    "colab_type": "text",
    "id": "Rv8ClAljL2dF"
   },
   "source": [
    "###### example"
   ]
  },
  {
   "cell_type": "code",
   "execution_count": 75,
   "metadata": {
    "colab": {
     "base_uri": "https://localhost:8080/",
     "height": 77
    },
    "colab_type": "code",
    "id": "7oW0vguNL_Xo",
    "outputId": "6636c5c3-5bef-432b-9950-80f3dedd3731"
   },
   "outputs": [
    {
     "data": {
      "text/html": [
       "<div>\n",
       "<style scoped>\n",
       "    .dataframe tbody tr th:only-of-type {\n",
       "        vertical-align: middle;\n",
       "    }\n",
       "\n",
       "    .dataframe tbody tr th {\n",
       "        vertical-align: top;\n",
       "    }\n",
       "\n",
       "    .dataframe thead th {\n",
       "        text-align: right;\n",
       "    }\n",
       "</style>\n",
       "<table border=\"1\" class=\"dataframe\">\n",
       "  <thead>\n",
       "    <tr style=\"text-align: right;\">\n",
       "      <th></th>\n",
       "      <th>userId</th>\n",
       "      <th>locationId</th>\n",
       "      <th>rating</th>\n",
       "      <th>timestamp</th>\n",
       "    </tr>\n",
       "  </thead>\n",
       "  <tbody>\n",
       "    <tr>\n",
       "      <th>5480</th>\n",
       "      <td>27A11E312001474155D10136E04B07ED</td>\n",
       "      <td>Nine Tree Hotel Myeong-dong</td>\n",
       "      <td>5</td>\n",
       "      <td>1.581984e+09</td>\n",
       "    </tr>\n",
       "  </tbody>\n",
       "</table>\n",
       "</div>"
      ],
      "text/plain": [
       "                                userId  ...     timestamp\n",
       "5480  27A11E312001474155D10136E04B07ED  ...  1.581984e+09\n",
       "\n",
       "[1 rows x 4 columns]"
      ]
     },
     "execution_count": 75,
     "metadata": {
      "tags": []
     },
     "output_type": "execute_result"
    }
   ],
   "source": [
    "cf_data.loc[cf_data.userId =='27A11E312001474155D10136E04B07ED']"
   ]
  },
  {
   "cell_type": "code",
   "execution_count": 73,
   "metadata": {
    "colab": {
     "base_uri": "https://localhost:8080/",
     "height": 639
    },
    "colab_type": "code",
    "id": "g_HdFiY_LgyS",
    "outputId": "c4bd51f3-605e-4a0f-8902-854a06a7e119"
   },
   "outputs": [
    {
     "data": {
      "text/html": [
       "<div>\n",
       "<style scoped>\n",
       "    .dataframe tbody tr th:only-of-type {\n",
       "        vertical-align: middle;\n",
       "    }\n",
       "\n",
       "    .dataframe tbody tr th {\n",
       "        vertical-align: top;\n",
       "    }\n",
       "\n",
       "    .dataframe thead th {\n",
       "        text-align: right;\n",
       "    }\n",
       "</style>\n",
       "<table border=\"1\" class=\"dataframe\">\n",
       "  <thead>\n",
       "    <tr style=\"text-align: right;\">\n",
       "      <th></th>\n",
       "      <th>location.locationId</th>\n",
       "      <th>id</th>\n",
       "      <th>prediction</th>\n",
       "    </tr>\n",
       "  </thead>\n",
       "  <tbody>\n",
       "    <tr>\n",
       "      <th>0</th>\n",
       "      <td>Hotel Skypark Central Myeongdong</td>\n",
       "      <td>27A11E312001474155D10136E04B07ED</td>\n",
       "      <td>128.159820</td>\n",
       "    </tr>\n",
       "    <tr>\n",
       "      <th>97</th>\n",
       "      <td>Hongik University Street</td>\n",
       "      <td>27A11E312001474155D10136E04B07ED</td>\n",
       "      <td>26.209803</td>\n",
       "    </tr>\n",
       "    <tr>\n",
       "      <th>138</th>\n",
       "      <td>THE PLAZA Seoul, Autograph Collection</td>\n",
       "      <td>27A11E312001474155D10136E04B07ED</td>\n",
       "      <td>93.334231</td>\n",
       "    </tr>\n",
       "    <tr>\n",
       "      <th>150</th>\n",
       "      <td>Solaria Nishitetsu Hotel Seoul Myeong-dong</td>\n",
       "      <td>27A11E312001474155D10136E04B07ED</td>\n",
       "      <td>27.669649</td>\n",
       "    </tr>\n",
       "    <tr>\n",
       "      <th>233</th>\n",
       "      <td>Myeongdong Kyoja Main</td>\n",
       "      <td>27A11E312001474155D10136E04B07ED</td>\n",
       "      <td>25.417656</td>\n",
       "    </tr>\n",
       "    <tr>\n",
       "      <th>270</th>\n",
       "      <td>La Seine</td>\n",
       "      <td>27A11E312001474155D10136E04B07ED</td>\n",
       "      <td>32.514149</td>\n",
       "    </tr>\n",
       "    <tr>\n",
       "      <th>320</th>\n",
       "      <td>K-guesthouse Myeongdong 1</td>\n",
       "      <td>27A11E312001474155D10136E04B07ED</td>\n",
       "      <td>25.305985</td>\n",
       "    </tr>\n",
       "    <tr>\n",
       "      <th>422</th>\n",
       "      <td>Ibis Styles Ambassador Seoul Myeongdong</td>\n",
       "      <td>27A11E312001474155D10136E04B07ED</td>\n",
       "      <td>151.378868</td>\n",
       "    </tr>\n",
       "    <tr>\n",
       "      <th>445</th>\n",
       "      <td>Hotel Hill House</td>\n",
       "      <td>27A11E312001474155D10136E04B07ED</td>\n",
       "      <td>93.908060</td>\n",
       "    </tr>\n",
       "    <tr>\n",
       "      <th>787</th>\n",
       "      <td>Hotel Skypark Myeongdong 3</td>\n",
       "      <td>27A11E312001474155D10136E04B07ED</td>\n",
       "      <td>47.079821</td>\n",
       "    </tr>\n",
       "    <tr>\n",
       "      <th>909</th>\n",
       "      <td>O'sulloc Tea House Myeongdong</td>\n",
       "      <td>27A11E312001474155D10136E04B07ED</td>\n",
       "      <td>5.866594</td>\n",
       "    </tr>\n",
       "    <tr>\n",
       "      <th>976</th>\n",
       "      <td>Kwangjang Market</td>\n",
       "      <td>27A11E312001474155D10136E04B07ED</td>\n",
       "      <td>21.717290</td>\n",
       "    </tr>\n",
       "    <tr>\n",
       "      <th>1049</th>\n",
       "      <td>Yousung Hotel</td>\n",
       "      <td>27A11E312001474155D10136E04B07ED</td>\n",
       "      <td>5.218029</td>\n",
       "    </tr>\n",
       "    <tr>\n",
       "      <th>1277</th>\n",
       "      <td>Hotel BS</td>\n",
       "      <td>27A11E312001474155D10136E04B07ED</td>\n",
       "      <td>5.759392</td>\n",
       "    </tr>\n",
       "    <tr>\n",
       "      <th>1366</th>\n",
       "      <td>Aria</td>\n",
       "      <td>27A11E312001474155D10136E04B07ED</td>\n",
       "      <td>5.757791</td>\n",
       "    </tr>\n",
       "    <tr>\n",
       "      <th>1453</th>\n",
       "      <td>Seoraksan National Park</td>\n",
       "      <td>27A11E312001474155D10136E04B07ED</td>\n",
       "      <td>15.978208</td>\n",
       "    </tr>\n",
       "    <tr>\n",
       "      <th>1465</th>\n",
       "      <td>Congdu</td>\n",
       "      <td>27A11E312001474155D10136E04B07ED</td>\n",
       "      <td>34.925545</td>\n",
       "    </tr>\n",
       "    <tr>\n",
       "      <th>1565</th>\n",
       "      <td>Cheong Yeon Jae Hanok Hotel</td>\n",
       "      <td>27A11E312001474155D10136E04B07ED</td>\n",
       "      <td>3.492555</td>\n",
       "    </tr>\n",
       "    <tr>\n",
       "      <th>1584</th>\n",
       "      <td>Haevichi Hotel &amp; Resort Jeju</td>\n",
       "      <td>27A11E312001474155D10136E04B07ED</td>\n",
       "      <td>2.845349</td>\n",
       "    </tr>\n",
       "    <tr>\n",
       "      <th>1739</th>\n",
       "      <td>Korean Folk Village</td>\n",
       "      <td>27A11E312001474155D10136E04B07ED</td>\n",
       "      <td>6.468606</td>\n",
       "    </tr>\n",
       "  </tbody>\n",
       "</table>\n",
       "</div>"
      ],
      "text/plain": [
       "                             location.locationId  ...  prediction\n",
       "0               Hotel Skypark Central Myeongdong  ...  128.159820\n",
       "97                      Hongik University Street  ...   26.209803\n",
       "138        THE PLAZA Seoul, Autograph Collection  ...   93.334231\n",
       "150   Solaria Nishitetsu Hotel Seoul Myeong-dong  ...   27.669649\n",
       "233                        Myeongdong Kyoja Main  ...   25.417656\n",
       "270                                     La Seine  ...   32.514149\n",
       "320                    K-guesthouse Myeongdong 1  ...   25.305985\n",
       "422      Ibis Styles Ambassador Seoul Myeongdong  ...  151.378868\n",
       "445                             Hotel Hill House  ...   93.908060\n",
       "787                   Hotel Skypark Myeongdong 3  ...   47.079821\n",
       "909                O'sulloc Tea House Myeongdong  ...    5.866594\n",
       "976                             Kwangjang Market  ...   21.717290\n",
       "1049                               Yousung Hotel  ...    5.218029\n",
       "1277                                    Hotel BS  ...    5.759392\n",
       "1366                                        Aria  ...    5.757791\n",
       "1453                     Seoraksan National Park  ...   15.978208\n",
       "1465                                      Congdu  ...   34.925545\n",
       "1565                 Cheong Yeon Jae Hanok Hotel  ...    3.492555\n",
       "1584                Haevichi Hotel & Resort Jeju  ...    2.845349\n",
       "1739                         Korean Folk Village  ...    6.468606\n",
       "\n",
       "[20 rows x 3 columns]"
      ]
     },
     "execution_count": 73,
     "metadata": {
      "tags": []
     },
     "output_type": "execute_result"
    }
   ],
   "source": [
    "top_k.loc[top_k.id =='27A11E312001474155D10136E04B07ED']"
   ]
  },
  {
   "cell_type": "code",
   "execution_count": 0,
   "metadata": {
    "colab": {},
    "colab_type": "code",
    "id": "g-Xml2096CHf"
   },
   "outputs": [],
   "source": [
    "# all ranking metrics have the same arguments\n",
    "args = [test, top_k]\n",
    "kwargs = dict(col_user='location.locationId', \n",
    "              col_item='id', \n",
    "              col_rating='rating', \n",
    "              col_prediction='prediction', \n",
    "              relevancy_method='top_k', \n",
    "              k=TOP_K)\n",
    "\n",
    "eval_map = map_at_k(*args, **kwargs)\n",
    "eval_ndcg = ndcg_at_k(*args, **kwargs)\n",
    "eval_precision = precision_at_k(*args, **kwargs)\n",
    "eval_recall = recall_at_k(*args, **kwargs)"
   ]
  },
  {
   "cell_type": "code",
   "execution_count": 47,
   "metadata": {
    "colab": {
     "base_uri": "https://localhost:8080/",
     "height": 122
    },
    "colab_type": "code",
    "id": "82KvnVmm-kDq",
    "outputId": "85a8eaab-17c9-46a7-f0f0-6ae14800d4e8"
   },
   "outputs": [
    {
     "name": "stdout",
     "output_type": "stream",
     "text": [
      "Model:\n",
      "Top K:\t\t 10\n",
      "MAP:\t\t 0.016635\n",
      "NDCG:\t\t 0.533339\n",
      "Precision@K:\t 0.521622\n",
      "Recall@K:\t 0.024184\n"
     ]
    }
   ],
   "source": [
    "\n",
    "print(f\"Model:\",\n",
    "      f\"Top K:\\t\\t {TOP_K}\",\n",
    "      f\"MAP:\\t\\t {eval_map:f}\",\n",
    "      f\"NDCG:\\t\\t {eval_ndcg:f}\",\n",
    "      f\"Precision@K:\\t {eval_precision:f}\",\n",
    "      f\"Recall@K:\\t {eval_recall:f}\", sep='\\n')"
   ]
  },
  {
   "cell_type": "markdown",
   "metadata": {
    "colab_type": "text",
    "id": "zA49ahHX5_VV"
   },
   "source": [
    "(2) jaccard / lift"
   ]
  },
  {
   "cell_type": "code",
   "execution_count": 0,
   "metadata": {
    "colab": {},
    "colab_type": "code",
    "id": "278LtDKt5WIK"
   },
   "outputs": [],
   "source": [
    "model = SARSingleNode(\n",
    "    similarity_type=\"lift\", # jaccard, lift, cooccurrence \n",
    "    time_decay_coefficient=100, \n",
    "    time_now=None, \n",
    "    timedecay_formula=True, \n",
    "    **header\n",
    ")"
   ]
  },
  {
   "cell_type": "code",
   "execution_count": 0,
   "metadata": {
    "colab": {},
    "colab_type": "code",
    "id": "Ml4HGBFB5WSP"
   },
   "outputs": [],
   "source": [
    "model.fit(train)"
   ]
  },
  {
   "cell_type": "code",
   "execution_count": 0,
   "metadata": {
    "colab": {},
    "colab_type": "code",
    "id": "ph3Fjs9f5Wbs"
   },
   "outputs": [],
   "source": [
    "top_k = model.recommend_k_items(test, remove_seen=True)"
   ]
  },
  {
   "cell_type": "code",
   "execution_count": 80,
   "metadata": {
    "colab": {
     "base_uri": "https://localhost:8080/",
     "height": 195
    },
    "colab_type": "code",
    "id": "8NRKY1Qb5Wf1",
    "outputId": "982c59bc-3b62-423a-be4a-3e9b8fa16429"
   },
   "outputs": [
    {
     "data": {
      "text/html": [
       "<div>\n",
       "<style scoped>\n",
       "    .dataframe tbody tr th:only-of-type {\n",
       "        vertical-align: middle;\n",
       "    }\n",
       "\n",
       "    .dataframe tbody tr th {\n",
       "        vertical-align: top;\n",
       "    }\n",
       "\n",
       "    .dataframe thead th {\n",
       "        text-align: right;\n",
       "    }\n",
       "</style>\n",
       "<table border=\"1\" class=\"dataframe\">\n",
       "  <thead>\n",
       "    <tr style=\"text-align: right;\">\n",
       "      <th></th>\n",
       "      <th>location.locationId</th>\n",
       "      <th>id</th>\n",
       "      <th>prediction</th>\n",
       "    </tr>\n",
       "  </thead>\n",
       "  <tbody>\n",
       "    <tr>\n",
       "      <th>0</th>\n",
       "      <td>Hotel Skypark Central Myeongdong</td>\n",
       "      <td>B5AC32907B60B2F01D80F49590B76070</td>\n",
       "      <td>0.089716</td>\n",
       "    </tr>\n",
       "    <tr>\n",
       "      <th>1</th>\n",
       "      <td>Hotel Skypark Central Myeongdong</td>\n",
       "      <td>CF324B6FBFB06E0D384B281713AF108D</td>\n",
       "      <td>0.089436</td>\n",
       "    </tr>\n",
       "    <tr>\n",
       "      <th>2</th>\n",
       "      <td>Hotel Skypark Central Myeongdong</td>\n",
       "      <td>31D52F7AAD77A051297260EE55492183</td>\n",
       "      <td>0.089082</td>\n",
       "    </tr>\n",
       "    <tr>\n",
       "      <th>3</th>\n",
       "      <td>Hotel Skypark Central Myeongdong</td>\n",
       "      <td>5CDB18A7B6DF351D755005E45A091714</td>\n",
       "      <td>0.088873</td>\n",
       "    </tr>\n",
       "    <tr>\n",
       "      <th>4</th>\n",
       "      <td>Hotel Skypark Central Myeongdong</td>\n",
       "      <td>6BD5C0FB32760436D6DB09ACD33E2F83</td>\n",
       "      <td>0.088866</td>\n",
       "    </tr>\n",
       "  </tbody>\n",
       "</table>\n",
       "</div>"
      ],
      "text/plain": [
       "                location.locationId  ... prediction\n",
       "0  Hotel Skypark Central Myeongdong  ...   0.089716\n",
       "1  Hotel Skypark Central Myeongdong  ...   0.089436\n",
       "2  Hotel Skypark Central Myeongdong  ...   0.089082\n",
       "3  Hotel Skypark Central Myeongdong  ...   0.088873\n",
       "4  Hotel Skypark Central Myeongdong  ...   0.088866\n",
       "\n",
       "[5 rows x 3 columns]"
      ]
     },
     "metadata": {
      "tags": []
     },
     "output_type": "display_data"
    }
   ],
   "source": [
    "display(top_k.head(5))"
   ]
  },
  {
   "cell_type": "markdown",
   "metadata": {
    "colab_type": "text",
    "id": "LSblrpwkMpbj"
   },
   "source": [
    "###### example"
   ]
  },
  {
   "cell_type": "code",
   "execution_count": 85,
   "metadata": {
    "colab": {
     "base_uri": "https://localhost:8080/",
     "height": 94
    },
    "colab_type": "code",
    "id": "Oc1ThlGpMnXC",
    "outputId": "892c4c41-4b80-47d6-abee-7c7ecca96a51"
   },
   "outputs": [
    {
     "data": {
      "text/html": [
       "<div>\n",
       "<style scoped>\n",
       "    .dataframe tbody tr th:only-of-type {\n",
       "        vertical-align: middle;\n",
       "    }\n",
       "\n",
       "    .dataframe tbody tr th {\n",
       "        vertical-align: top;\n",
       "    }\n",
       "\n",
       "    .dataframe thead th {\n",
       "        text-align: right;\n",
       "    }\n",
       "</style>\n",
       "<table border=\"1\" class=\"dataframe\">\n",
       "  <thead>\n",
       "    <tr style=\"text-align: right;\">\n",
       "      <th></th>\n",
       "      <th>userId</th>\n",
       "      <th>locationId</th>\n",
       "      <th>rating</th>\n",
       "      <th>timestamp</th>\n",
       "    </tr>\n",
       "  </thead>\n",
       "  <tbody>\n",
       "    <tr>\n",
       "      <th>10248</th>\n",
       "      <td>CF324B6FBFB06E0D384B281713AF108D</td>\n",
       "      <td>Ramada Hotel &amp; Suites By Wyndham Seoul Namdaemun</td>\n",
       "      <td>4</td>\n",
       "      <td>1.534896e+09</td>\n",
       "    </tr>\n",
       "  </tbody>\n",
       "</table>\n",
       "</div>"
      ],
      "text/plain": [
       "                                 userId  ...     timestamp\n",
       "10248  CF324B6FBFB06E0D384B281713AF108D  ...  1.534896e+09\n",
       "\n",
       "[1 rows x 4 columns]"
      ]
     },
     "execution_count": 85,
     "metadata": {
      "tags": []
     },
     "output_type": "execute_result"
    }
   ],
   "source": [
    "cf_data.loc[cf_data.userId == '6BD5C0FB32760436D6DB09ACD33E2F83']"
   ]
  },
  {
   "cell_type": "code",
   "execution_count": 87,
   "metadata": {
    "colab": {
     "base_uri": "https://localhost:8080/",
     "height": 284
    },
    "colab_type": "code",
    "id": "lBNv3Of2MeT0",
    "outputId": "1dfe5038-68c7-47e5-e67a-8d9406247d5d"
   },
   "outputs": [
    {
     "data": {
      "text/html": [
       "<div>\n",
       "<style scoped>\n",
       "    .dataframe tbody tr th:only-of-type {\n",
       "        vertical-align: middle;\n",
       "    }\n",
       "\n",
       "    .dataframe tbody tr th {\n",
       "        vertical-align: top;\n",
       "    }\n",
       "\n",
       "    .dataframe thead th {\n",
       "        text-align: right;\n",
       "    }\n",
       "</style>\n",
       "<table border=\"1\" class=\"dataframe\">\n",
       "  <thead>\n",
       "    <tr style=\"text-align: right;\">\n",
       "      <th></th>\n",
       "      <th>location.locationId</th>\n",
       "      <th>id</th>\n",
       "      <th>prediction</th>\n",
       "    </tr>\n",
       "  </thead>\n",
       "  <tbody>\n",
       "    <tr>\n",
       "      <th>4</th>\n",
       "      <td>Hotel Skypark Central Myeongdong</td>\n",
       "      <td>6BD5C0FB32760436D6DB09ACD33E2F83</td>\n",
       "      <td>0.088866</td>\n",
       "    </tr>\n",
       "    <tr>\n",
       "      <th>172</th>\n",
       "      <td>Myeongdong NANTA Theater</td>\n",
       "      <td>6BD5C0FB32760436D6DB09ACD33E2F83</td>\n",
       "      <td>0.026209</td>\n",
       "    </tr>\n",
       "    <tr>\n",
       "      <th>190</th>\n",
       "      <td>Nine Tree Hotel Myeong-dong</td>\n",
       "      <td>6BD5C0FB32760436D6DB09ACD33E2F83</td>\n",
       "      <td>0.113875</td>\n",
       "    </tr>\n",
       "    <tr>\n",
       "      <th>258</th>\n",
       "      <td>National Museum of Korea</td>\n",
       "      <td>6BD5C0FB32760436D6DB09ACD33E2F83</td>\n",
       "      <td>0.043149</td>\n",
       "    </tr>\n",
       "    <tr>\n",
       "      <th>357</th>\n",
       "      <td>Hotel DaeYoung Seoul</td>\n",
       "      <td>6BD5C0FB32760436D6DB09ACD33E2F83</td>\n",
       "      <td>0.026142</td>\n",
       "    </tr>\n",
       "    <tr>\n",
       "      <th>392</th>\n",
       "      <td>Hotel PJ Myeongdong</td>\n",
       "      <td>6BD5C0FB32760436D6DB09ACD33E2F83</td>\n",
       "      <td>0.152551</td>\n",
       "    </tr>\n",
       "    <tr>\n",
       "      <th>965</th>\n",
       "      <td>Staz Hotel Myeongdong 1</td>\n",
       "      <td>6BD5C0FB32760436D6DB09ACD33E2F83</td>\n",
       "      <td>0.020525</td>\n",
       "    </tr>\n",
       "    <tr>\n",
       "      <th>1459</th>\n",
       "      <td>Seoraksan National Park</td>\n",
       "      <td>6BD5C0FB32760436D6DB09ACD33E2F83</td>\n",
       "      <td>0.011907</td>\n",
       "    </tr>\n",
       "  </tbody>\n",
       "</table>\n",
       "</div>"
      ],
      "text/plain": [
       "                   location.locationId  ... prediction\n",
       "4     Hotel Skypark Central Myeongdong  ...   0.088866\n",
       "172           Myeongdong NANTA Theater  ...   0.026209\n",
       "190        Nine Tree Hotel Myeong-dong  ...   0.113875\n",
       "258           National Museum of Korea  ...   0.043149\n",
       "357               Hotel DaeYoung Seoul  ...   0.026142\n",
       "392                Hotel PJ Myeongdong  ...   0.152551\n",
       "965            Staz Hotel Myeongdong 1  ...   0.020525\n",
       "1459           Seoraksan National Park  ...   0.011907\n",
       "\n",
       "[8 rows x 3 columns]"
      ]
     },
     "execution_count": 87,
     "metadata": {
      "tags": []
     },
     "output_type": "execute_result"
    }
   ],
   "source": [
    "top_k.loc[top_k.id == '6BD5C0FB32760436D6DB09ACD33E2F83']"
   ]
  },
  {
   "cell_type": "markdown",
   "metadata": {
    "colab_type": "text",
    "id": "GMYUcxXaNaU9"
   },
   "source": [
    ": 결과 값이 안나올 수도있다. 자카드 유사도 특징 상 겹치지 않으면 추천을 하지 못하기 때문에, top_k가 모두 채워지지 않을 수 있다는 단점이 있다."
   ]
  },
  {
   "cell_type": "code",
   "execution_count": 0,
   "metadata": {
    "colab": {},
    "colab_type": "code",
    "id": "VVY3oBfC5Wvc"
   },
   "outputs": [],
   "source": [
    "# all ranking metrics have the same arguments\n",
    "args = [test, top_k]\n",
    "kwargs = dict(col_user='location.locationId', \n",
    "              col_item='id', \n",
    "              col_rating='rating', \n",
    "              col_prediction='prediction', \n",
    "              relevancy_method='top_k', \n",
    "              k=TOP_K)\n",
    "\n",
    "eval_map = map_at_k(*args, **kwargs)\n",
    "eval_ndcg = ndcg_at_k(*args, **kwargs)\n",
    "eval_precision = precision_at_k(*args, **kwargs)\n",
    "eval_recall = recall_at_k(*args, **kwargs)"
   ]
  },
  {
   "cell_type": "code",
   "execution_count": 89,
   "metadata": {
    "colab": {
     "base_uri": "https://localhost:8080/",
     "height": 122
    },
    "colab_type": "code",
    "id": "X_15h6Nz5W9n",
    "outputId": "6808f59d-208f-4ea5-cdfb-aabf13987a0f"
   },
   "outputs": [
    {
     "name": "stdout",
     "output_type": "stream",
     "text": [
      "Model:\n",
      "Top K:\t\t 10\n",
      "MAP:\t\t 0.007733\n",
      "NDCG:\t\t 0.250486\n",
      "Precision@K:\t 0.253514\n",
      "Recall@K:\t 0.014206\n"
     ]
    }
   ],
   "source": [
    "print(f\"Model:\",\n",
    "      f\"Top K:\\t\\t {TOP_K}\",\n",
    "      f\"MAP:\\t\\t {eval_map:f}\",\n",
    "      f\"NDCG:\\t\\t {eval_ndcg:f}\",\n",
    "      f\"Precision@K:\\t {eval_precision:f}\",\n",
    "      f\"Recall@K:\\t {eval_recall:f}\", sep='\\n')"
   ]
  },
  {
   "cell_type": "code",
   "execution_count": 0,
   "metadata": {
    "colab": {},
    "colab_type": "code",
    "id": "WFyPhVL15XME"
   },
   "outputs": [],
   "source": []
  },
  {
   "cell_type": "code",
   "execution_count": 0,
   "metadata": {
    "colab": {},
    "colab_type": "code",
    "id": "XijRp7dw5WY9"
   },
   "outputs": [],
   "source": []
  },
  {
   "cell_type": "code",
   "execution_count": 0,
   "metadata": {
    "colab": {},
    "colab_type": "code",
    "id": "0dcpi99_5WWm"
   },
   "outputs": [],
   "source": []
  },
  {
   "cell_type": "code",
   "execution_count": 0,
   "metadata": {
    "colab": {},
    "colab_type": "code",
    "id": "DdtpKM7v5WO9"
   },
   "outputs": [],
   "source": []
  },
  {
   "cell_type": "code",
   "execution_count": 0,
   "metadata": {
    "colab": {},
    "colab_type": "code",
    "id": "4Sn6hOPC5WMl"
   },
   "outputs": [],
   "source": []
  },
  {
   "cell_type": "code",
   "execution_count": 0,
   "metadata": {
    "colab": {},
    "colab_type": "code",
    "id": "xnJeDc_I5WEp"
   },
   "outputs": [],
   "source": []
  }
 ],
 "metadata": {
  "accelerator": "GPU",
  "colab": {
   "collapsed_sections": [],
   "name": "HJ_vae_sar.ipynb",
   "provenance": []
  },
  "kernelspec": {
   "display_name": "Python 3",
   "language": "python",
   "name": "python3"
  },
  "language_info": {
   "codemirror_mode": {
    "name": "ipython",
    "version": 3
   },
   "file_extension": ".py",
   "mimetype": "text/x-python",
   "name": "python",
   "nbconvert_exporter": "python",
   "pygments_lexer": "ipython3",
   "version": "3.7.6"
  }
 },
 "nbformat": 4,
 "nbformat_minor": 1
}
