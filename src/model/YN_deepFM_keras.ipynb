{
 "cells": [
  {
   "cell_type": "markdown",
   "metadata": {},
   "source": [
    "https://github.com/busesese/DeepFM_Keras/blob/master/DeepFM/deepfm.py"
   ]
  },
  {
   "cell_type": "code",
   "execution_count": 1,
   "metadata": {},
   "outputs": [
    {
     "name": "stderr",
     "output_type": "stream",
     "text": [
      "Using TensorFlow backend.\n"
     ]
    }
   ],
   "source": [
    "import numpy as np \n",
    "from keras.layers import Input, Dense, Embedding, Add, Concatenate, RepeatVector,Multiply,Subtract,Lambda,Dropout,Reshape,Flatten\n",
    "from keras.models import Model\n",
    "from keras.utils import plot_model\n",
    "from mylayers import MySumLayer\n",
    "from keras.optimizers import Adam\n",
    "# import config\n",
    "from keras.metrics import binary_accuracy\n",
    "# from metrics import auc\n",
    "import warnings\n",
    "warnings.filterwarnings('ignore')\n",
    "from sklearn.preprocessing import LabelEncoder \n",
    "from keras.optimizers import *\n",
    "import matplotlib.pyplot as plt\n",
    "%matplotlib inline\n",
    "from IPython.display import Image\n",
    "from keras.utils.vis_utils import model_to_dot"
   ]
  },
  {
   "cell_type": "markdown",
   "metadata": {},
   "source": [
    "## Data Loading"
   ]
  },
  {
   "cell_type": "code",
   "execution_count": 2,
   "metadata": {
    "scrolled": true
   },
   "outputs": [
    {
     "data": {
      "text/html": [
       "<div>\n",
       "<style scoped>\n",
       "    .dataframe tbody tr th:only-of-type {\n",
       "        vertical-align: middle;\n",
       "    }\n",
       "\n",
       "    .dataframe tbody tr th {\n",
       "        vertical-align: top;\n",
       "    }\n",
       "\n",
       "    .dataframe thead th {\n",
       "        text-align: right;\n",
       "    }\n",
       "</style>\n",
       "<table border=\"1\" class=\"dataframe\">\n",
       "  <thead>\n",
       "    <tr style=\"text-align: right;\">\n",
       "      <th></th>\n",
       "      <th>locationId</th>\n",
       "      <th>place.name</th>\n",
       "      <th>category</th>\n",
       "      <th>rating</th>\n",
       "      <th>createdDate</th>\n",
       "      <th>is_fch</th>\n",
       "      <th>photonum</th>\n",
       "      <th>is_local</th>\n",
       "      <th>rated_count</th>\n",
       "      <th>average_photonum</th>\n",
       "      <th>average_rating</th>\n",
       "      <th>user_mean_rating</th>\n",
       "      <th>user_reviewcount</th>\n",
       "      <th>userID</th>\n",
       "      <th>category_l</th>\n",
       "      <th>land.addr</th>\n",
       "    </tr>\n",
       "  </thead>\n",
       "  <tbody>\n",
       "    <tr>\n",
       "      <th>0</th>\n",
       "      <td>788542</td>\n",
       "      <td>마르코 폴로</td>\n",
       "      <td>EAT</td>\n",
       "      <td>5.0</td>\n",
       "      <td>20180314</td>\n",
       "      <td>0</td>\n",
       "      <td>0</td>\n",
       "      <td>1</td>\n",
       "      <td>20</td>\n",
       "      <td>0.05</td>\n",
       "      <td>3.95</td>\n",
       "      <td>4.363636</td>\n",
       "      <td>11</td>\n",
       "      <td>14256</td>\n",
       "      <td>1</td>\n",
       "      <td>서울 강남구 삼성동 159-1 트레이드타워 52층</td>\n",
       "    </tr>\n",
       "    <tr>\n",
       "      <th>1</th>\n",
       "      <td>788542</td>\n",
       "      <td>마르코 폴로</td>\n",
       "      <td>EAT</td>\n",
       "      <td>4.0</td>\n",
       "      <td>20171207</td>\n",
       "      <td>0</td>\n",
       "      <td>0</td>\n",
       "      <td>1</td>\n",
       "      <td>20</td>\n",
       "      <td>0.05</td>\n",
       "      <td>3.95</td>\n",
       "      <td>4.000000</td>\n",
       "      <td>6</td>\n",
       "      <td>722</td>\n",
       "      <td>1</td>\n",
       "      <td>서울 강남구 삼성동 159-1 트레이드타워 52층</td>\n",
       "    </tr>\n",
       "    <tr>\n",
       "      <th>2</th>\n",
       "      <td>788542</td>\n",
       "      <td>마르코 폴로</td>\n",
       "      <td>EAT</td>\n",
       "      <td>5.0</td>\n",
       "      <td>20161110</td>\n",
       "      <td>0</td>\n",
       "      <td>0</td>\n",
       "      <td>0</td>\n",
       "      <td>20</td>\n",
       "      <td>0.05</td>\n",
       "      <td>3.95</td>\n",
       "      <td>5.000000</td>\n",
       "      <td>1</td>\n",
       "      <td>30372</td>\n",
       "      <td>1</td>\n",
       "      <td>서울 강남구 삼성동 159-1 트레이드타워 52층</td>\n",
       "    </tr>\n",
       "    <tr>\n",
       "      <th>3</th>\n",
       "      <td>788542</td>\n",
       "      <td>마르코 폴로</td>\n",
       "      <td>EAT</td>\n",
       "      <td>3.0</td>\n",
       "      <td>20160611</td>\n",
       "      <td>0</td>\n",
       "      <td>0</td>\n",
       "      <td>0</td>\n",
       "      <td>20</td>\n",
       "      <td>0.05</td>\n",
       "      <td>3.95</td>\n",
       "      <td>4.250000</td>\n",
       "      <td>4</td>\n",
       "      <td>2116</td>\n",
       "      <td>1</td>\n",
       "      <td>서울 강남구 삼성동 159-1 트레이드타워 52층</td>\n",
       "    </tr>\n",
       "    <tr>\n",
       "      <th>4</th>\n",
       "      <td>788542</td>\n",
       "      <td>마르코 폴로</td>\n",
       "      <td>EAT</td>\n",
       "      <td>4.0</td>\n",
       "      <td>20151204</td>\n",
       "      <td>0</td>\n",
       "      <td>0</td>\n",
       "      <td>1</td>\n",
       "      <td>20</td>\n",
       "      <td>0.05</td>\n",
       "      <td>3.95</td>\n",
       "      <td>4.095238</td>\n",
       "      <td>42</td>\n",
       "      <td>3208</td>\n",
       "      <td>1</td>\n",
       "      <td>서울 강남구 삼성동 159-1 트레이드타워 52층</td>\n",
       "    </tr>\n",
       "  </tbody>\n",
       "</table>\n",
       "</div>"
      ],
      "text/plain": [
       "   locationId place.name category  rating  createdDate  is_fch  photonum  \\\n",
       "0      788542     마르코 폴로      EAT     5.0     20180314       0         0   \n",
       "1      788542     마르코 폴로      EAT     4.0     20171207       0         0   \n",
       "2      788542     마르코 폴로      EAT     5.0     20161110       0         0   \n",
       "3      788542     마르코 폴로      EAT     3.0     20160611       0         0   \n",
       "4      788542     마르코 폴로      EAT     4.0     20151204       0         0   \n",
       "\n",
       "   is_local  rated_count  average_photonum  average_rating  user_mean_rating  \\\n",
       "0         1           20              0.05            3.95          4.363636   \n",
       "1         1           20              0.05            3.95          4.000000   \n",
       "2         0           20              0.05            3.95          5.000000   \n",
       "3         0           20              0.05            3.95          4.250000   \n",
       "4         1           20              0.05            3.95          4.095238   \n",
       "\n",
       "   user_reviewcount  userID  category_l                    land.addr  \n",
       "0                11   14256           1  서울 강남구 삼성동 159-1 트레이드타워 52층  \n",
       "1                 6     722           1  서울 강남구 삼성동 159-1 트레이드타워 52층  \n",
       "2                 1   30372           1  서울 강남구 삼성동 159-1 트레이드타워 52층  \n",
       "3                 4    2116           1  서울 강남구 삼성동 159-1 트레이드타워 52층  \n",
       "4                42    3208           1  서울 강남구 삼성동 159-1 트레이드타워 52층  "
      ]
     },
     "execution_count": 2,
     "metadata": {},
     "output_type": "execute_result"
    }
   ],
   "source": [
    "import pandas as pd    \n",
    "import gc\n",
    "import os\n",
    "\n",
    "df = pd.read_csv(os.path.join(\"..\",\"..\",\"data\",\"YN_final_df.csv\"))\n",
    "df.head()"
   ]
  },
  {
   "cell_type": "markdown",
   "metadata": {},
   "source": [
    "### 로컬 / 글로벌 데이터 분리"
   ]
  },
  {
   "cell_type": "code",
   "execution_count": 3,
   "metadata": {},
   "outputs": [
    {
     "name": "stdout",
     "output_type": "stream",
     "text": [
      "local_df shape: (459903, 16) global_df shape : (93722, 16)\n"
     ]
    }
   ],
   "source": [
    "# 로컬 / 글로벌 데이터 분리\n",
    "local_df = df.loc[df['is_local']==1]\n",
    "global_df = df.loc[df['is_local']==0]\n",
    "print('local_df shape:',local_df.shape, 'global_df shape :',global_df.shape)"
   ]
  },
  {
   "cell_type": "markdown",
   "metadata": {},
   "source": [
    "### 장소 전처리"
   ]
  },
  {
   "cell_type": "markdown",
   "metadata": {},
   "source": [
    "## 1. local"
   ]
  },
  {
   "cell_type": "code",
   "execution_count": 4,
   "metadata": {},
   "outputs": [
    {
     "name": "stdout",
     "output_type": "stream",
     "text": [
      "의미없을만한 식당 제거 후 local데이터 크기: (129503, 16)\n"
     ]
    }
   ],
   "source": [
    "local_df_acm = local_df.loc[local_df['category'] == 'ACM']\n",
    "local_df_eat = local_df.loc[local_df['category'] == 'EAT']\n",
    "\n",
    "# 평균평점 이상의 식당만 남김.\n",
    "local_df_eat = local_df_eat.loc[local_df_eat['average_rating']>=local_df_eat['average_rating'].median()]\n",
    "local_df = pd.concat([local_df_acm, local_df_eat])\n",
    "\n",
    "# local이기에 global과 차이를 두기위해 최대한 의미없는 체인 제거 \n",
    "local_df = local_df.loc[local_df['is_fch']==0]\n",
    "\n",
    "# 의미없는 추천 식당 제거 \n",
    "fch_lst = ['써브웨이', '던킨도너츠','노브랜드버거','바르다김선생',' 폴바셋',' 안동찜닭',' 속초코다리냉면',' 할매순대국&양선지해장국',' 노브랜드버거 남부터미널점','바르다김선생' ,'유가네','24시 중식당 취빈','매머드커피','압구정봉구비어','카페베네','쥬씨','피자스쿨','매머드익스프레스','김밥천국','한국맥도날드','메머드커피','신전떡볶이','어사또', '공차', '북촌손만두', '오징어세상' ,'사월에보리밥', '땡스브레드엔커피', '피자몰', '나주소나주곰탕', '새마을식당','싸다김밥', '교동짬뽕', '토마토김밥', '화화쿵주마라탕', '샐러데이즈', '더차이','뚜레쥬르','스쿨푸드','자연별곡','죠스떡볶이','국대떡볶이', '도쿄스테이크','이디야커피', '코스트코코리아양재점푸드코트', '불고기브라더스','알라딘중고서점카페','배스킨라빈스','할리스커피', '와플대학', '파리바게뜨공덕역사', '파리바게뜨','아웃백','설빙', '봉추찜닭', '하겐다즈','아라마크연세의료원종합관']\n",
    "fch_idx = local_df[local_df['place.name'].apply(lambda x: any(i in x for i in fch_lst))].index.tolist()\n",
    "idx = local_df[local_df['place.name'].apply(lambda x: x[-1] == '점')].index.tolist()\n",
    "\n",
    "for i in idx:\n",
    "    if i not in fch_idx:\n",
    "        fch_idx.append(i)\n",
    "\n",
    "local_df = local_df.drop(fch_idx)\n",
    "print('의미없을만한 식당 제거 후 local데이터 크기:',local_df.shape)"
   ]
  },
  {
   "cell_type": "code",
   "execution_count": 1329,
   "metadata": {},
   "outputs": [],
   "source": [
    "# # 데이터 저장\n",
    "# local_df.to_csv(os.path.join(\"..\",\"realtime_model\",'local_df(deepFM).csv'), index=False)"
   ]
  },
  {
   "cell_type": "code",
   "execution_count": 22,
   "metadata": {},
   "outputs": [],
   "source": [
    "RANDOMSTATE = 2018\n",
    "\n",
    "COLS=['locationId',  'createdDate', 'photonum', 'rated_count', 'average_photonum',\n",
    "        'average_rating', 'user_mean_rating', 'user_reviewcount','userID' ] "
   ]
  },
  {
   "cell_type": "code",
   "execution_count": 23,
   "metadata": {},
   "outputs": [
    {
     "data": {
      "text/plain": [
       "{'locationId': 5032,\n",
       " 'createdDate': 2698,\n",
       " 'photonum': 39,\n",
       " 'rated_count': 220,\n",
       " 'average_photonum': 1036,\n",
       " 'average_rating': 1516,\n",
       " 'user_mean_rating': 27285,\n",
       " 'user_reviewcount': 174,\n",
       " 'userID': 45781}"
      ]
     },
     "execution_count": 23,
     "metadata": {},
     "output_type": "execute_result"
    }
   ],
   "source": [
    "def get_data(column, df) :\n",
    "    \n",
    "    vocab = {}\n",
    "    num = 0\n",
    "\n",
    "    for i in df[column]: \n",
    "        if vocab.get(i) != None:\n",
    "            continue\n",
    "\n",
    "        vocab[i] = num\n",
    "        num += 1\n",
    "\n",
    "    encoded = [vocab[i] for i in df[column]]\n",
    "    \n",
    "    return encoded, num, vocab\n",
    "\n",
    "encoded_locationId, num_locationId, vocab_locationId = get_data('locationId', local_df) \n",
    "encoded_createdDate,  num_createdDate, vocab_createdDate = get_data('createdDate', local_df) \n",
    "encoded_photonum,  num_photonum, vocab_photonum = get_data('photonum', local_df) \n",
    "encoded_rated_count,  num_rated_count, vocab_rated_count = get_data('rated_count', local_df) \n",
    "encoded_average_photonum,  num_average_photonum, vocab_average_photonum = get_data('average_photonum', local_df) \n",
    "encoded_average_rating,  num_average_rating, vocab_average_rating = get_data('average_rating', local_df) \n",
    "encoded_users_mean_rating, num_users_mean_rating, vocab_users_mean_rating = get_data('user_mean_rating', local_df) \n",
    "encoded_user_reviewcount,  num_user_reviewcount, vocab_user_reviewcount = get_data('user_reviewcount', local_df) \n",
    "encoded_userID, num_userID, vocab_userID = get_data('userID', local_df) \n",
    "\n",
    "\n",
    "feat_nu_dict = {}\n",
    "feat_nu_dict['locationId'] = num_locationId\n",
    "feat_nu_dict['createdDate'] = num_createdDate\n",
    "feat_nu_dict['photonum'] = num_photonum\n",
    "feat_nu_dict['rated_count'] = num_rated_count\n",
    "feat_nu_dict['average_photonum'] = num_average_photonum\n",
    "feat_nu_dict['average_rating'] = num_average_rating\n",
    "feat_nu_dict['user_mean_rating'] = num_users_mean_rating\n",
    "feat_nu_dict['user_reviewcount'] = num_user_reviewcount\n",
    "feat_nu_dict['userID'] = num_userID\n",
    "feat_nu_dict"
   ]
  },
  {
   "cell_type": "code",
   "execution_count": 24,
   "metadata": {},
   "outputs": [],
   "source": [
    "k = 8 #the number of embedding dim\n",
    "\n",
    "input_cols = []\n",
    "cols = []\n",
    "embed_col = []\n",
    "for col in COLS:\n",
    "    in_neu = Input(shape=(1,), name=col) #None*1\n",
    "    input_cols.append(in_neu)\n",
    "    in_embed = RepeatVector(1, name='FM_'+col)(Dense(k)(in_neu)) #None*1*k\n",
    "    cols.append(in_neu)\n",
    "    embed_col.append(in_embed)\n",
    "con_numeric = Concatenate(axis=1)(cols) #None*len(config.COLS)\n",
    "dense_numeric = RepeatVector(1)(Dense(1)(con_numeric)) #None*1*1"
   ]
  },
  {
   "cell_type": "code",
   "execution_count": 26,
   "metadata": {},
   "outputs": [],
   "source": [
    "# 모델 구조 아키텍쳐\n",
    "#first order\n",
    "y_first_order = dense_numeric #Concatenate(axis=1)([dense_numeric, con_cate]) #None*len*1\n",
    "y_first_order = MySumLayer(axis=1)(y_first_order) #None*1\n",
    "\n",
    "#second order\n",
    "emb = Concatenate(axis=1)(embed_col) #None*s*k\n",
    "\n",
    "summed_feature_emb = MySumLayer(axis=1)(emb) #None*k\n",
    "summed_feature_emb_squred = Multiply()([summed_feature_emb,summed_feature_emb]) #None*k\n",
    "\n",
    "squared_feature_emb = Multiply()([emb,emb]) #None*s*k\n",
    "squared_sum_feature_emb = MySumLayer(axis=1)(squared_feature_emb) #None*k\n",
    "\n",
    "sub = Subtract()([summed_feature_emb_squred,squared_sum_feature_emb]) #None*k\n",
    "sub = Lambda(lambda x: x*0.5)(sub) #None*k\n",
    "y_second_order = MySumLayer(axis=1)(sub)\n",
    "\n",
    "#deep order\n",
    "y_deep = Flatten()(emb) #None*(s*k)\n",
    "y_deep = Dropout(0.5)(Dense(32,activation='relu')(y_deep)) #None*32\n",
    "y_deep = Dropout(0.5)(Dense(32,activation='relu')(y_deep)) #None*32\n",
    "y_deep = Dropout(0.5)(Dense(1,activation='relu')(y_deep)) #None*1\n",
    "\n",
    "#deep fm\n",
    "y = Concatenate()([y_first_order,y_second_order,y_deep]) #None*3\n",
    "prediction = Dense(1,activation='sigmoid')(y)"
   ]
  },
  {
   "cell_type": "code",
   "execution_count": 27,
   "metadata": {},
   "outputs": [],
   "source": [
    "from keras.callbacks import ModelCheckpoint\n",
    "\n",
    "# 모델 저장 위치 설정 \n",
    "model_save_path = os.path.join(\"..\",\"..\",\"data\",\"model_weights\")\n",
    "if not os.path.exists(model_save_path):\n",
    "    os.mkdir(model_save_path)\n",
    "\n",
    "# 콜백모델 저장 -> 모델명 설정     \n",
    "checkpoint_path = os.path.join(model_save_path ,\"local_{epoch:02d}-{val_loss:.4f}.hdf5\")\n",
    "checkpoint_path_json = os.path.join(model_save_path ,\"local_{epoch:02d}.json\")\n",
    "\n",
    "cb_checkpoint1 = ModelCheckpoint(filepath = checkpoint_path, monitor = 'val_loss', \n",
    "                                verbose=1, save_best_only=True, save_weights_only=True)\n",
    "cb_checkpoint2 = ModelCheckpoint(filepath = checkpoint_path_json, monitor = 'val_loss', \n",
    "                                verbose=1, save_best_only=True, save_weights_only=True)"
   ]
  },
  {
   "cell_type": "code",
   "execution_count": 44,
   "metadata": {
    "scrolled": true
   },
   "outputs": [
    {
     "name": "stdout",
     "output_type": "stream",
     "text": [
      "Train on 128855 samples, validate on 648 samples\n",
      "Epoch 1/100\n",
      "128855/128855 [==============================] - 1s 12us/step - loss: 20.6344 - auc_17: 0.0000e+00 - val_loss: 20.3600 - val_auc_17: 0.0000e+00\n",
      "\n",
      "Epoch 00001: val_loss did not improve from 12.33681\n",
      "\n",
      "Epoch 00001: val_loss did not improve from 12.33681\n",
      "Epoch 2/100\n",
      "128855/128855 [==============================] - 1s 5us/step - loss: 20.6344 - auc_17: 0.0000e+00 - val_loss: 20.3600 - val_auc_17: 0.0000e+00\n",
      "\n",
      "Epoch 00002: val_loss did not improve from 12.33681\n",
      "\n",
      "Epoch 00002: val_loss did not improve from 12.33681\n",
      "Epoch 3/100\n",
      "128855/128855 [==============================] - 1s 5us/step - loss: 20.6352 - auc_17: 0.0000e+00 - val_loss: 20.3600 - val_auc_17: 0.0000e+00\n",
      "\n",
      "Epoch 00003: val_loss did not improve from 12.33681\n",
      "\n",
      "Epoch 00003: val_loss did not improve from 12.33681\n",
      "Epoch 4/100\n",
      "128855/128855 [==============================] - 1s 6us/step - loss: 20.6344 - auc_17: 0.0000e+00 - val_loss: 20.3600 - val_auc_17: 0.0000e+00\n",
      "\n",
      "Epoch 00004: val_loss did not improve from 12.33681\n",
      "\n",
      "Epoch 00004: val_loss did not improve from 12.33681\n",
      "Epoch 5/100\n",
      "128855/128855 [==============================] - 1s 6us/step - loss: 20.6336 - auc_17: 0.0000e+00 - val_loss: 20.3600 - val_auc_17: 0.0000e+00\n",
      "\n",
      "Epoch 00005: val_loss did not improve from 12.33681\n",
      "\n",
      "Epoch 00005: val_loss did not improve from 12.33681\n",
      "Epoch 6/100\n",
      "128855/128855 [==============================] - 1s 5us/step - loss: 20.6343 - auc_17: 0.0000e+00 - val_loss: 20.3600 - val_auc_17: 0.0000e+00\n",
      "\n",
      "Epoch 00006: val_loss did not improve from 12.33681\n",
      "\n",
      "Epoch 00006: val_loss did not improve from 12.33681\n",
      "Epoch 7/100\n",
      "128855/128855 [==============================] - 1s 5us/step - loss: 20.6353 - auc_17: 0.0000e+00 - val_loss: 20.3600 - val_auc_17: 0.0000e+00\n",
      "\n",
      "Epoch 00007: val_loss did not improve from 12.33681\n",
      "\n",
      "Epoch 00007: val_loss did not improve from 12.33681\n",
      "Epoch 8/100\n"
     ]
    },
    {
     "ename": "KeyboardInterrupt",
     "evalue": "",
     "output_type": "error",
     "traceback": [
      "\u001b[0;31m---------------------------------------------------------------------------\u001b[0m",
      "\u001b[0;31mKeyboardInterrupt\u001b[0m                         Traceback (most recent call last)",
      "\u001b[0;32m<ipython-input-44-e27e2596753b>\u001b[0m in \u001b[0;36m<module>\u001b[0;34m\u001b[0m\n\u001b[1;32m     12\u001b[0m                              encoded_average_rating], local_df['rating'], \n\u001b[1;32m     13\u001b[0m                         \u001b[0mbatch_size\u001b[0m\u001b[0;34m=\u001b[0m\u001b[0mbatch_size\u001b[0m\u001b[0;34m,\u001b[0m \u001b[0mepochs\u001b[0m\u001b[0;34m=\u001b[0m\u001b[0mepochs\u001b[0m\u001b[0;34m,\u001b[0m \u001b[0mvalidation_split\u001b[0m\u001b[0;34m=\u001b[0m\u001b[0;36m0.005\u001b[0m\u001b[0;34m,\u001b[0m\u001b[0;34m\u001b[0m\u001b[0;34m\u001b[0m\u001b[0m\n\u001b[0;32m---> 14\u001b[0;31m                         callbacks = [cb_checkpoint1, cb_checkpoint2])\n\u001b[0m\u001b[1;32m     15\u001b[0m \u001b[0;34m\u001b[0m\u001b[0m\n\u001b[1;32m     16\u001b[0m \u001b[0;34m\u001b[0m\u001b[0m\n",
      "\u001b[0;32m~/opt/anaconda3/lib/python3.7/site-packages/keras/engine/training.py\u001b[0m in \u001b[0;36mfit\u001b[0;34m(self, x, y, batch_size, epochs, verbose, callbacks, validation_split, validation_data, shuffle, class_weight, sample_weight, initial_epoch, steps_per_epoch, validation_steps, validation_freq, max_queue_size, workers, use_multiprocessing, **kwargs)\u001b[0m\n\u001b[1;32m   1237\u001b[0m                                         \u001b[0msteps_per_epoch\u001b[0m\u001b[0;34m=\u001b[0m\u001b[0msteps_per_epoch\u001b[0m\u001b[0;34m,\u001b[0m\u001b[0;34m\u001b[0m\u001b[0;34m\u001b[0m\u001b[0m\n\u001b[1;32m   1238\u001b[0m                                         \u001b[0mvalidation_steps\u001b[0m\u001b[0;34m=\u001b[0m\u001b[0mvalidation_steps\u001b[0m\u001b[0;34m,\u001b[0m\u001b[0;34m\u001b[0m\u001b[0;34m\u001b[0m\u001b[0m\n\u001b[0;32m-> 1239\u001b[0;31m                                         validation_freq=validation_freq)\n\u001b[0m\u001b[1;32m   1240\u001b[0m \u001b[0;34m\u001b[0m\u001b[0m\n\u001b[1;32m   1241\u001b[0m     def evaluate(self,\n",
      "\u001b[0;32m~/opt/anaconda3/lib/python3.7/site-packages/keras/engine/training_arrays.py\u001b[0m in \u001b[0;36mfit_loop\u001b[0;34m(model, fit_function, fit_inputs, out_labels, batch_size, epochs, verbose, callbacks, val_function, val_inputs, shuffle, initial_epoch, steps_per_epoch, validation_steps, validation_freq)\u001b[0m\n\u001b[1;32m    194\u001b[0m                     \u001b[0mins_batch\u001b[0m\u001b[0;34m[\u001b[0m\u001b[0mi\u001b[0m\u001b[0;34m]\u001b[0m \u001b[0;34m=\u001b[0m \u001b[0mins_batch\u001b[0m\u001b[0;34m[\u001b[0m\u001b[0mi\u001b[0m\u001b[0;34m]\u001b[0m\u001b[0;34m.\u001b[0m\u001b[0mtoarray\u001b[0m\u001b[0;34m(\u001b[0m\u001b[0;34m)\u001b[0m\u001b[0;34m\u001b[0m\u001b[0;34m\u001b[0m\u001b[0m\n\u001b[1;32m    195\u001b[0m \u001b[0;34m\u001b[0m\u001b[0m\n\u001b[0;32m--> 196\u001b[0;31m                 \u001b[0mouts\u001b[0m \u001b[0;34m=\u001b[0m \u001b[0mfit_function\u001b[0m\u001b[0;34m(\u001b[0m\u001b[0mins_batch\u001b[0m\u001b[0;34m)\u001b[0m\u001b[0;34m\u001b[0m\u001b[0;34m\u001b[0m\u001b[0m\n\u001b[0m\u001b[1;32m    197\u001b[0m                 \u001b[0mouts\u001b[0m \u001b[0;34m=\u001b[0m \u001b[0mto_list\u001b[0m\u001b[0;34m(\u001b[0m\u001b[0mouts\u001b[0m\u001b[0;34m)\u001b[0m\u001b[0;34m\u001b[0m\u001b[0;34m\u001b[0m\u001b[0m\n\u001b[1;32m    198\u001b[0m                 \u001b[0;32mfor\u001b[0m \u001b[0ml\u001b[0m\u001b[0;34m,\u001b[0m \u001b[0mo\u001b[0m \u001b[0;32min\u001b[0m \u001b[0mzip\u001b[0m\u001b[0;34m(\u001b[0m\u001b[0mout_labels\u001b[0m\u001b[0;34m,\u001b[0m \u001b[0mouts\u001b[0m\u001b[0;34m)\u001b[0m\u001b[0;34m:\u001b[0m\u001b[0;34m\u001b[0m\u001b[0;34m\u001b[0m\u001b[0m\n",
      "\u001b[0;32m~/opt/anaconda3/lib/python3.7/site-packages/tensorflow_core/python/keras/backend.py\u001b[0m in \u001b[0;36m__call__\u001b[0;34m(self, inputs)\u001b[0m\n\u001b[1;32m   3725\u001b[0m         \u001b[0mvalue\u001b[0m \u001b[0;34m=\u001b[0m \u001b[0mmath_ops\u001b[0m\u001b[0;34m.\u001b[0m\u001b[0mcast\u001b[0m\u001b[0;34m(\u001b[0m\u001b[0mvalue\u001b[0m\u001b[0;34m,\u001b[0m \u001b[0mtensor\u001b[0m\u001b[0;34m.\u001b[0m\u001b[0mdtype\u001b[0m\u001b[0;34m)\u001b[0m\u001b[0;34m\u001b[0m\u001b[0;34m\u001b[0m\u001b[0m\n\u001b[1;32m   3726\u001b[0m       \u001b[0mconverted_inputs\u001b[0m\u001b[0;34m.\u001b[0m\u001b[0mappend\u001b[0m\u001b[0;34m(\u001b[0m\u001b[0mvalue\u001b[0m\u001b[0;34m)\u001b[0m\u001b[0;34m\u001b[0m\u001b[0;34m\u001b[0m\u001b[0m\n\u001b[0;32m-> 3727\u001b[0;31m     \u001b[0moutputs\u001b[0m \u001b[0;34m=\u001b[0m \u001b[0mself\u001b[0m\u001b[0;34m.\u001b[0m\u001b[0m_graph_fn\u001b[0m\u001b[0;34m(\u001b[0m\u001b[0;34m*\u001b[0m\u001b[0mconverted_inputs\u001b[0m\u001b[0;34m)\u001b[0m\u001b[0;34m\u001b[0m\u001b[0;34m\u001b[0m\u001b[0m\n\u001b[0m\u001b[1;32m   3728\u001b[0m \u001b[0;34m\u001b[0m\u001b[0m\n\u001b[1;32m   3729\u001b[0m     \u001b[0;31m# EagerTensor.numpy() will often make a copy to ensure memory safety.\u001b[0m\u001b[0;34m\u001b[0m\u001b[0;34m\u001b[0m\u001b[0;34m\u001b[0m\u001b[0m\n",
      "\u001b[0;32m~/opt/anaconda3/lib/python3.7/site-packages/tensorflow_core/python/eager/function.py\u001b[0m in \u001b[0;36m__call__\u001b[0;34m(self, *args, **kwargs)\u001b[0m\n\u001b[1;32m   1549\u001b[0m       \u001b[0mTypeError\u001b[0m\u001b[0;34m:\u001b[0m \u001b[0mFor\u001b[0m \u001b[0minvalid\u001b[0m \u001b[0mpositional\u001b[0m\u001b[0;34m/\u001b[0m\u001b[0mkeyword\u001b[0m \u001b[0margument\u001b[0m \u001b[0mcombinations\u001b[0m\u001b[0;34m.\u001b[0m\u001b[0;34m\u001b[0m\u001b[0;34m\u001b[0m\u001b[0m\n\u001b[1;32m   1550\u001b[0m     \"\"\"\n\u001b[0;32m-> 1551\u001b[0;31m     \u001b[0;32mreturn\u001b[0m \u001b[0mself\u001b[0m\u001b[0;34m.\u001b[0m\u001b[0m_call_impl\u001b[0m\u001b[0;34m(\u001b[0m\u001b[0margs\u001b[0m\u001b[0;34m,\u001b[0m \u001b[0mkwargs\u001b[0m\u001b[0;34m)\u001b[0m\u001b[0;34m\u001b[0m\u001b[0;34m\u001b[0m\u001b[0m\n\u001b[0m\u001b[1;32m   1552\u001b[0m \u001b[0;34m\u001b[0m\u001b[0m\n\u001b[1;32m   1553\u001b[0m   \u001b[0;32mdef\u001b[0m \u001b[0m_call_impl\u001b[0m\u001b[0;34m(\u001b[0m\u001b[0mself\u001b[0m\u001b[0;34m,\u001b[0m \u001b[0margs\u001b[0m\u001b[0;34m,\u001b[0m \u001b[0mkwargs\u001b[0m\u001b[0;34m,\u001b[0m \u001b[0mcancellation_manager\u001b[0m\u001b[0;34m=\u001b[0m\u001b[0;32mNone\u001b[0m\u001b[0;34m)\u001b[0m\u001b[0;34m:\u001b[0m\u001b[0;34m\u001b[0m\u001b[0;34m\u001b[0m\u001b[0m\n",
      "\u001b[0;32m~/opt/anaconda3/lib/python3.7/site-packages/tensorflow_core/python/eager/function.py\u001b[0m in \u001b[0;36m_call_impl\u001b[0;34m(self, args, kwargs, cancellation_manager)\u001b[0m\n\u001b[1;32m   1589\u001b[0m       raise TypeError(\"Keyword arguments {} unknown. Expected {}.\".format(\n\u001b[1;32m   1590\u001b[0m           list(kwargs.keys()), list(self._arg_keywords)))\n\u001b[0;32m-> 1591\u001b[0;31m     \u001b[0;32mreturn\u001b[0m \u001b[0mself\u001b[0m\u001b[0;34m.\u001b[0m\u001b[0m_call_flat\u001b[0m\u001b[0;34m(\u001b[0m\u001b[0margs\u001b[0m\u001b[0;34m,\u001b[0m \u001b[0mself\u001b[0m\u001b[0;34m.\u001b[0m\u001b[0mcaptured_inputs\u001b[0m\u001b[0;34m,\u001b[0m \u001b[0mcancellation_manager\u001b[0m\u001b[0;34m)\u001b[0m\u001b[0;34m\u001b[0m\u001b[0;34m\u001b[0m\u001b[0m\n\u001b[0m\u001b[1;32m   1592\u001b[0m \u001b[0;34m\u001b[0m\u001b[0m\n\u001b[1;32m   1593\u001b[0m   \u001b[0;32mdef\u001b[0m \u001b[0m_filtered_call\u001b[0m\u001b[0;34m(\u001b[0m\u001b[0mself\u001b[0m\u001b[0;34m,\u001b[0m \u001b[0margs\u001b[0m\u001b[0;34m,\u001b[0m \u001b[0mkwargs\u001b[0m\u001b[0;34m)\u001b[0m\u001b[0;34m:\u001b[0m\u001b[0;34m\u001b[0m\u001b[0;34m\u001b[0m\u001b[0m\n",
      "\u001b[0;32m~/opt/anaconda3/lib/python3.7/site-packages/tensorflow_core/python/eager/function.py\u001b[0m in \u001b[0;36m_call_flat\u001b[0;34m(self, args, captured_inputs, cancellation_manager)\u001b[0m\n\u001b[1;32m   1690\u001b[0m       \u001b[0;31m# No tape is watching; skip to running the function.\u001b[0m\u001b[0;34m\u001b[0m\u001b[0;34m\u001b[0m\u001b[0;34m\u001b[0m\u001b[0m\n\u001b[1;32m   1691\u001b[0m       return self._build_call_outputs(self._inference_function.call(\n\u001b[0;32m-> 1692\u001b[0;31m           ctx, args, cancellation_manager=cancellation_manager))\n\u001b[0m\u001b[1;32m   1693\u001b[0m     forward_backward = self._select_forward_and_backward_functions(\n\u001b[1;32m   1694\u001b[0m         \u001b[0margs\u001b[0m\u001b[0;34m,\u001b[0m\u001b[0;34m\u001b[0m\u001b[0;34m\u001b[0m\u001b[0m\n",
      "\u001b[0;32m~/opt/anaconda3/lib/python3.7/site-packages/tensorflow_core/python/eager/function.py\u001b[0m in \u001b[0;36mcall\u001b[0;34m(self, ctx, args, cancellation_manager)\u001b[0m\n\u001b[1;32m    543\u001b[0m               \u001b[0minputs\u001b[0m\u001b[0;34m=\u001b[0m\u001b[0margs\u001b[0m\u001b[0;34m,\u001b[0m\u001b[0;34m\u001b[0m\u001b[0;34m\u001b[0m\u001b[0m\n\u001b[1;32m    544\u001b[0m               \u001b[0mattrs\u001b[0m\u001b[0;34m=\u001b[0m\u001b[0;34m(\u001b[0m\u001b[0;34m\"executor_type\"\u001b[0m\u001b[0;34m,\u001b[0m \u001b[0mexecutor_type\u001b[0m\u001b[0;34m,\u001b[0m \u001b[0;34m\"config_proto\"\u001b[0m\u001b[0;34m,\u001b[0m \u001b[0mconfig\u001b[0m\u001b[0;34m)\u001b[0m\u001b[0;34m,\u001b[0m\u001b[0;34m\u001b[0m\u001b[0;34m\u001b[0m\u001b[0m\n\u001b[0;32m--> 545\u001b[0;31m               ctx=ctx)\n\u001b[0m\u001b[1;32m    546\u001b[0m         \u001b[0;32melse\u001b[0m\u001b[0;34m:\u001b[0m\u001b[0;34m\u001b[0m\u001b[0;34m\u001b[0m\u001b[0m\n\u001b[1;32m    547\u001b[0m           outputs = execute.execute_with_cancellation(\n",
      "\u001b[0;32m~/opt/anaconda3/lib/python3.7/site-packages/tensorflow_core/python/eager/execute.py\u001b[0m in \u001b[0;36mquick_execute\u001b[0;34m(op_name, num_outputs, inputs, attrs, ctx, name)\u001b[0m\n\u001b[1;32m     59\u001b[0m     tensors = pywrap_tensorflow.TFE_Py_Execute(ctx._handle, device_name,\n\u001b[1;32m     60\u001b[0m                                                \u001b[0mop_name\u001b[0m\u001b[0;34m,\u001b[0m \u001b[0minputs\u001b[0m\u001b[0;34m,\u001b[0m \u001b[0mattrs\u001b[0m\u001b[0;34m,\u001b[0m\u001b[0;34m\u001b[0m\u001b[0;34m\u001b[0m\u001b[0m\n\u001b[0;32m---> 61\u001b[0;31m                                                num_outputs)\n\u001b[0m\u001b[1;32m     62\u001b[0m   \u001b[0;32mexcept\u001b[0m \u001b[0mcore\u001b[0m\u001b[0;34m.\u001b[0m\u001b[0m_NotOkStatusException\u001b[0m \u001b[0;32mas\u001b[0m \u001b[0me\u001b[0m\u001b[0;34m:\u001b[0m\u001b[0;34m\u001b[0m\u001b[0;34m\u001b[0m\u001b[0m\n\u001b[1;32m     63\u001b[0m     \u001b[0;32mif\u001b[0m \u001b[0mname\u001b[0m \u001b[0;32mis\u001b[0m \u001b[0;32mnot\u001b[0m \u001b[0;32mNone\u001b[0m\u001b[0;34m:\u001b[0m\u001b[0;34m\u001b[0m\u001b[0;34m\u001b[0m\u001b[0m\n",
      "\u001b[0;31mKeyboardInterrupt\u001b[0m: "
     ]
    }
   ],
   "source": [
    "lr = 1e-2\n",
    "epochs = 100\n",
    "batch_size = 200000\n",
    "\n",
    "model = Model(inputs=input_cols, outputs=prediction)\n",
    "model.compile(loss=\"mse\", optimizer=RMSprop(lr=lr), metrics=[tf.keras.metrics.AUC()])\n",
    "\n",
    "history = model.fit([encoded_userID, encoded_users_mean_rating, \n",
    "                             encoded_user_reviewcount, encoded_locationId, \n",
    "                             encoded_createdDate, encoded_photonum,\n",
    "                             encoded_rated_count,encoded_average_photonum, \n",
    "                             encoded_average_rating], local_df['rating'], \n",
    "                        batch_size=batch_size, epochs=epochs, validation_split=0.005,\n",
    "                        callbacks = [cb_checkpoint1, cb_checkpoint2])\n",
    "\n",
    "\n",
    "plt.plot(history.history[\"loss\"], label=\"train loss\")\n",
    "plt.plot(history.history[\"val_loss\"], label=\"validation loss\")\n",
    "plt.legend() \n",
    "plt.title(\"Loss\")\n",
    "plt.show()"
   ]
  },
  {
   "cell_type": "code",
   "execution_count": null,
   "metadata": {},
   "outputs": [],
   "source": []
  },
  {
   "cell_type": "code",
   "execution_count": 317,
   "metadata": {},
   "outputs": [],
   "source": [
    "# Image(model_to_dot(model,show_shapes=True, show_layer_names=False).create(prog='dot', format='png'))"
   ]
  },
  {
   "cell_type": "code",
   "execution_count": 34,
   "metadata": {},
   "outputs": [
    {
     "ename": "JSONDecodeError",
     "evalue": "Expecting value: line 1 column 1 (char 0)",
     "output_type": "error",
     "traceback": [
      "\u001b[0;31m---------------------------------------------------------------------------\u001b[0m",
      "\u001b[0;31mJSONDecodeError\u001b[0m                           Traceback (most recent call last)",
      "\u001b[0;32m<ipython-input-34-3d653d55b93f>\u001b[0m in \u001b[0;36m<module>\u001b[0;34m\u001b[0m\n\u001b[1;32m      6\u001b[0m \u001b[0mjson_file\u001b[0m\u001b[0;34m.\u001b[0m\u001b[0mclose\u001b[0m\u001b[0;34m(\u001b[0m\u001b[0;34m)\u001b[0m\u001b[0;34m\u001b[0m\u001b[0;34m\u001b[0m\u001b[0m\n\u001b[1;32m      7\u001b[0m \u001b[0;34m\u001b[0m\u001b[0m\n\u001b[0;32m----> 8\u001b[0;31m \u001b[0mloaded_model\u001b[0m \u001b[0;34m=\u001b[0m \u001b[0mmodel_from_json\u001b[0m\u001b[0;34m(\u001b[0m\u001b[0mloaded_model_json\u001b[0m\u001b[0;34m)\u001b[0m\u001b[0;31m# ,custom_objects={'tf': tf, 'n_factors':8})\u001b[0m\u001b[0;34m\u001b[0m\u001b[0;34m\u001b[0m\u001b[0m\n\u001b[0m\u001b[1;32m      9\u001b[0m \u001b[0;34m\u001b[0m\u001b[0m\n\u001b[1;32m     10\u001b[0m \u001b[0mloaded_model\u001b[0m\u001b[0;34m.\u001b[0m\u001b[0mload_weights\u001b[0m\u001b[0;34m(\u001b[0m\u001b[0mos\u001b[0m\u001b[0;34m.\u001b[0m\u001b[0mpath\u001b[0m\u001b[0;34m.\u001b[0m\u001b[0mjoin\u001b[0m\u001b[0;34m(\u001b[0m\u001b[0mmodel_save_path\u001b[0m\u001b[0;34m,\u001b[0m\u001b[0;34m\"local_01-12.3368.hdf5\"\u001b[0m\u001b[0;34m)\u001b[0m\u001b[0;34m)\u001b[0m\u001b[0;34m\u001b[0m\u001b[0;34m\u001b[0m\u001b[0m\n",
      "\u001b[0;32m~/opt/anaconda3/lib/python3.7/site-packages/keras/engine/saving.py\u001b[0m in \u001b[0;36mmodel_from_json\u001b[0;34m(json_string, custom_objects)\u001b[0m\n\u001b[1;32m    660\u001b[0m         \u001b[0mA\u001b[0m \u001b[0mKeras\u001b[0m \u001b[0mmodel\u001b[0m \u001b[0minstance\u001b[0m \u001b[0;34m(\u001b[0m\u001b[0muncompiled\u001b[0m\u001b[0;34m)\u001b[0m\u001b[0;34m.\u001b[0m\u001b[0;34m\u001b[0m\u001b[0;34m\u001b[0m\u001b[0m\n\u001b[1;32m    661\u001b[0m     \"\"\"\n\u001b[0;32m--> 662\u001b[0;31m     \u001b[0mconfig\u001b[0m \u001b[0;34m=\u001b[0m \u001b[0mjson\u001b[0m\u001b[0;34m.\u001b[0m\u001b[0mloads\u001b[0m\u001b[0;34m(\u001b[0m\u001b[0mjson_string\u001b[0m\u001b[0;34m)\u001b[0m\u001b[0;34m\u001b[0m\u001b[0;34m\u001b[0m\u001b[0m\n\u001b[0m\u001b[1;32m    663\u001b[0m     \u001b[0;32mfrom\u001b[0m \u001b[0;34m.\u001b[0m\u001b[0;34m.\u001b[0m\u001b[0mlayers\u001b[0m \u001b[0;32mimport\u001b[0m \u001b[0mdeserialize\u001b[0m\u001b[0;34m\u001b[0m\u001b[0;34m\u001b[0m\u001b[0m\n\u001b[1;32m    664\u001b[0m     \u001b[0;32mreturn\u001b[0m \u001b[0mdeserialize\u001b[0m\u001b[0;34m(\u001b[0m\u001b[0mconfig\u001b[0m\u001b[0;34m,\u001b[0m \u001b[0mcustom_objects\u001b[0m\u001b[0;34m=\u001b[0m\u001b[0mcustom_objects\u001b[0m\u001b[0;34m)\u001b[0m\u001b[0;34m\u001b[0m\u001b[0;34m\u001b[0m\u001b[0m\n",
      "\u001b[0;32m~/opt/anaconda3/lib/python3.7/json/__init__.py\u001b[0m in \u001b[0;36mloads\u001b[0;34m(s, encoding, cls, object_hook, parse_float, parse_int, parse_constant, object_pairs_hook, **kw)\u001b[0m\n\u001b[1;32m    346\u001b[0m             \u001b[0mparse_int\u001b[0m \u001b[0;32mis\u001b[0m \u001b[0;32mNone\u001b[0m \u001b[0;32mand\u001b[0m \u001b[0mparse_float\u001b[0m \u001b[0;32mis\u001b[0m \u001b[0;32mNone\u001b[0m \u001b[0;32mand\u001b[0m\u001b[0;34m\u001b[0m\u001b[0;34m\u001b[0m\u001b[0m\n\u001b[1;32m    347\u001b[0m             parse_constant is None and object_pairs_hook is None and not kw):\n\u001b[0;32m--> 348\u001b[0;31m         \u001b[0;32mreturn\u001b[0m \u001b[0m_default_decoder\u001b[0m\u001b[0;34m.\u001b[0m\u001b[0mdecode\u001b[0m\u001b[0;34m(\u001b[0m\u001b[0ms\u001b[0m\u001b[0;34m)\u001b[0m\u001b[0;34m\u001b[0m\u001b[0;34m\u001b[0m\u001b[0m\n\u001b[0m\u001b[1;32m    349\u001b[0m     \u001b[0;32mif\u001b[0m \u001b[0mcls\u001b[0m \u001b[0;32mis\u001b[0m \u001b[0;32mNone\u001b[0m\u001b[0;34m:\u001b[0m\u001b[0;34m\u001b[0m\u001b[0;34m\u001b[0m\u001b[0m\n\u001b[1;32m    350\u001b[0m         \u001b[0mcls\u001b[0m \u001b[0;34m=\u001b[0m \u001b[0mJSONDecoder\u001b[0m\u001b[0;34m\u001b[0m\u001b[0;34m\u001b[0m\u001b[0m\n",
      "\u001b[0;32m~/opt/anaconda3/lib/python3.7/json/decoder.py\u001b[0m in \u001b[0;36mdecode\u001b[0;34m(self, s, _w)\u001b[0m\n\u001b[1;32m    335\u001b[0m \u001b[0;34m\u001b[0m\u001b[0m\n\u001b[1;32m    336\u001b[0m         \"\"\"\n\u001b[0;32m--> 337\u001b[0;31m         \u001b[0mobj\u001b[0m\u001b[0;34m,\u001b[0m \u001b[0mend\u001b[0m \u001b[0;34m=\u001b[0m \u001b[0mself\u001b[0m\u001b[0;34m.\u001b[0m\u001b[0mraw_decode\u001b[0m\u001b[0;34m(\u001b[0m\u001b[0ms\u001b[0m\u001b[0;34m,\u001b[0m \u001b[0midx\u001b[0m\u001b[0;34m=\u001b[0m\u001b[0m_w\u001b[0m\u001b[0;34m(\u001b[0m\u001b[0ms\u001b[0m\u001b[0;34m,\u001b[0m \u001b[0;36m0\u001b[0m\u001b[0;34m)\u001b[0m\u001b[0;34m.\u001b[0m\u001b[0mend\u001b[0m\u001b[0;34m(\u001b[0m\u001b[0;34m)\u001b[0m\u001b[0;34m)\u001b[0m\u001b[0;34m\u001b[0m\u001b[0;34m\u001b[0m\u001b[0m\n\u001b[0m\u001b[1;32m    338\u001b[0m         \u001b[0mend\u001b[0m \u001b[0;34m=\u001b[0m \u001b[0m_w\u001b[0m\u001b[0;34m(\u001b[0m\u001b[0ms\u001b[0m\u001b[0;34m,\u001b[0m \u001b[0mend\u001b[0m\u001b[0;34m)\u001b[0m\u001b[0;34m.\u001b[0m\u001b[0mend\u001b[0m\u001b[0;34m(\u001b[0m\u001b[0;34m)\u001b[0m\u001b[0;34m\u001b[0m\u001b[0;34m\u001b[0m\u001b[0m\n\u001b[1;32m    339\u001b[0m         \u001b[0;32mif\u001b[0m \u001b[0mend\u001b[0m \u001b[0;34m!=\u001b[0m \u001b[0mlen\u001b[0m\u001b[0;34m(\u001b[0m\u001b[0ms\u001b[0m\u001b[0;34m)\u001b[0m\u001b[0;34m:\u001b[0m\u001b[0;34m\u001b[0m\u001b[0;34m\u001b[0m\u001b[0m\n",
      "\u001b[0;32m~/opt/anaconda3/lib/python3.7/json/decoder.py\u001b[0m in \u001b[0;36mraw_decode\u001b[0;34m(self, s, idx)\u001b[0m\n\u001b[1;32m    353\u001b[0m             \u001b[0mobj\u001b[0m\u001b[0;34m,\u001b[0m \u001b[0mend\u001b[0m \u001b[0;34m=\u001b[0m \u001b[0mself\u001b[0m\u001b[0;34m.\u001b[0m\u001b[0mscan_once\u001b[0m\u001b[0;34m(\u001b[0m\u001b[0ms\u001b[0m\u001b[0;34m,\u001b[0m \u001b[0midx\u001b[0m\u001b[0;34m)\u001b[0m\u001b[0;34m\u001b[0m\u001b[0;34m\u001b[0m\u001b[0m\n\u001b[1;32m    354\u001b[0m         \u001b[0;32mexcept\u001b[0m \u001b[0mStopIteration\u001b[0m \u001b[0;32mas\u001b[0m \u001b[0merr\u001b[0m\u001b[0;34m:\u001b[0m\u001b[0;34m\u001b[0m\u001b[0;34m\u001b[0m\u001b[0m\n\u001b[0;32m--> 355\u001b[0;31m             \u001b[0;32mraise\u001b[0m \u001b[0mJSONDecodeError\u001b[0m\u001b[0;34m(\u001b[0m\u001b[0;34m\"Expecting value\"\u001b[0m\u001b[0;34m,\u001b[0m \u001b[0ms\u001b[0m\u001b[0;34m,\u001b[0m \u001b[0merr\u001b[0m\u001b[0;34m.\u001b[0m\u001b[0mvalue\u001b[0m\u001b[0;34m)\u001b[0m \u001b[0;32mfrom\u001b[0m \u001b[0;32mNone\u001b[0m\u001b[0;34m\u001b[0m\u001b[0;34m\u001b[0m\u001b[0m\n\u001b[0m\u001b[1;32m    356\u001b[0m         \u001b[0;32mreturn\u001b[0m \u001b[0mobj\u001b[0m\u001b[0;34m,\u001b[0m \u001b[0mend\u001b[0m\u001b[0;34m\u001b[0m\u001b[0;34m\u001b[0m\u001b[0m\n",
      "\u001b[0;31mJSONDecodeError\u001b[0m: Expecting value: line 1 column 1 (char 0)"
     ]
    }
   ],
   "source": [
    "# 모델 불러오기 \n",
    "from keras.models import model_from_json \n",
    "\n",
    "json_file = open(os.path.join(model_save_path ,\"local_01.json\"), \"r\",encoding=\"utf8\", errors='ignore') \n",
    "loaded_model_json = json_file.read() \n",
    "json_file.close() \n",
    "\n",
    "loaded_model = model_from_json(loaded_model_json)# ,custom_objects={'tf': tf, 'n_factors':8})\n",
    "\n",
    "loaded_model.load_weights(os.path.join(model_save_path,\"local_01-12.3368.hdf5\"))\n",
    "                               \n",
    "print(\"Loaded model from disk\")"
   ]
  },
  {
   "cell_type": "markdown",
   "metadata": {},
   "source": [
    "# 유사도 아이템"
   ]
  },
  {
   "cell_type": "code",
   "execution_count": 345,
   "metadata": {},
   "outputs": [],
   "source": [
    "def latent_to_vec(feature, model, location_df, h_size, input_features):\n",
    "    layer_name = feature\n",
    "    intermediate_layer_model = Model(inputs=model.input,\n",
    "                                 outputs=model.get_layer(layer_name).output)\n",
    "    test = input_features\n",
    "                             \n",
    "    locationId_latent_vector = intermediate_layer_model.predict(test)\n",
    "    \n",
    "    locationId_latent_vector = locationId_latent_vector.T.reshape(-1, h_size)\n",
    "    vec = pd.DataFrame(locationId_latent_vector)\n",
    "    location_df = location_df.reset_index()\n",
    "    vec['locationId'] = location_df['locationId']\n",
    "    \n",
    "    # 아이템별 의미 벡터 생성 \n",
    "    vec = vec.groupby('locationId').agg([('0','mean')]).reset_index()\n",
    "\n",
    "    vec = pd.DataFrame(vec.iloc[:,1:].values)\n",
    "    vec['locationId'] = location_df['locationId'].unique()\n",
    "    vec = vec.set_index('locationId')\n",
    "    return vec"
   ]
  },
  {
   "cell_type": "code",
   "execution_count": 346,
   "metadata": {},
   "outputs": [
    {
     "data": {
      "text/html": [
       "<div>\n",
       "<style scoped>\n",
       "    .dataframe tbody tr th:only-of-type {\n",
       "        vertical-align: middle;\n",
       "    }\n",
       "\n",
       "    .dataframe tbody tr th {\n",
       "        vertical-align: top;\n",
       "    }\n",
       "\n",
       "    .dataframe thead th {\n",
       "        text-align: right;\n",
       "    }\n",
       "</style>\n",
       "<table border=\"1\" class=\"dataframe\">\n",
       "  <thead>\n",
       "    <tr style=\"text-align: right;\">\n",
       "      <th></th>\n",
       "      <th>0</th>\n",
       "      <th>1</th>\n",
       "      <th>2</th>\n",
       "      <th>3</th>\n",
       "      <th>4</th>\n",
       "      <th>5</th>\n",
       "      <th>6</th>\n",
       "      <th>7</th>\n",
       "    </tr>\n",
       "    <tr>\n",
       "      <th>locationId</th>\n",
       "      <th></th>\n",
       "      <th></th>\n",
       "      <th></th>\n",
       "      <th></th>\n",
       "      <th></th>\n",
       "      <th></th>\n",
       "      <th></th>\n",
       "      <th></th>\n",
       "    </tr>\n",
       "  </thead>\n",
       "  <tbody>\n",
       "    <tr>\n",
       "      <th>1011796922</th>\n",
       "      <td>-1591.948853</td>\n",
       "      <td>-1764.590576</td>\n",
       "      <td>-1764.605591</td>\n",
       "      <td>-1764.614502</td>\n",
       "      <td>-1764.626587</td>\n",
       "      <td>-1764.635620</td>\n",
       "      <td>-1764.647583</td>\n",
       "      <td>-1764.662598</td>\n",
       "    </tr>\n",
       "    <tr>\n",
       "      <th>37903636</th>\n",
       "      <td>-1213.981567</td>\n",
       "      <td>-1205.876709</td>\n",
       "      <td>-1180.816406</td>\n",
       "      <td>-1182.152954</td>\n",
       "      <td>-1181.658691</td>\n",
       "      <td>-1189.380737</td>\n",
       "      <td>-1165.646973</td>\n",
       "      <td>-1153.326416</td>\n",
       "    </tr>\n",
       "    <tr>\n",
       "      <th>13217405</th>\n",
       "      <td>-373.306152</td>\n",
       "      <td>-369.998199</td>\n",
       "      <td>-358.292908</td>\n",
       "      <td>-374.359711</td>\n",
       "      <td>-359.352814</td>\n",
       "      <td>-358.451721</td>\n",
       "      <td>-350.410065</td>\n",
       "      <td>-354.332031</td>\n",
       "    </tr>\n",
       "    <tr>\n",
       "      <th>20315170</th>\n",
       "      <td>-221.339493</td>\n",
       "      <td>-221.378540</td>\n",
       "      <td>-221.417603</td>\n",
       "      <td>-221.417603</td>\n",
       "      <td>-221.417603</td>\n",
       "      <td>-221.417603</td>\n",
       "      <td>-221.456665</td>\n",
       "      <td>-221.495712</td>\n",
       "    </tr>\n",
       "    <tr>\n",
       "      <th>20509127</th>\n",
       "      <td>-1486.157715</td>\n",
       "      <td>-2112.266846</td>\n",
       "      <td>-1654.587646</td>\n",
       "      <td>-2112.342041</td>\n",
       "      <td>-2112.384277</td>\n",
       "      <td>-2112.435303</td>\n",
       "      <td>-2112.480469</td>\n",
       "      <td>-2112.531250</td>\n",
       "    </tr>\n",
       "    <tr>\n",
       "      <th>...</th>\n",
       "      <td>...</td>\n",
       "      <td>...</td>\n",
       "      <td>...</td>\n",
       "      <td>...</td>\n",
       "      <td>...</td>\n",
       "      <td>...</td>\n",
       "      <td>...</td>\n",
       "      <td>...</td>\n",
       "    </tr>\n",
       "    <tr>\n",
       "      <th>9129031</th>\n",
       "      <td>-6586.104980</td>\n",
       "      <td>-6644.750488</td>\n",
       "      <td>-6217.422852</td>\n",
       "      <td>-6566.066406</td>\n",
       "      <td>-6891.367676</td>\n",
       "      <td>-6929.129883</td>\n",
       "      <td>-6141.178223</td>\n",
       "      <td>-6470.263672</td>\n",
       "    </tr>\n",
       "    <tr>\n",
       "      <th>12816960</th>\n",
       "      <td>-3583.235840</td>\n",
       "      <td>-3098.814697</td>\n",
       "      <td>-3334.675293</td>\n",
       "      <td>-3141.650879</td>\n",
       "      <td>-3203.452393</td>\n",
       "      <td>-3658.818604</td>\n",
       "      <td>-3936.301025</td>\n",
       "      <td>-4152.042969</td>\n",
       "    </tr>\n",
       "    <tr>\n",
       "      <th>16656485</th>\n",
       "      <td>-3032.288574</td>\n",
       "      <td>-3026.968018</td>\n",
       "      <td>-3468.062012</td>\n",
       "      <td>-3216.107910</td>\n",
       "      <td>-3216.196045</td>\n",
       "      <td>-3248.051514</td>\n",
       "      <td>-3558.815186</td>\n",
       "      <td>-3505.575195</td>\n",
       "    </tr>\n",
       "    <tr>\n",
       "      <th>4030185</th>\n",
       "      <td>-2310.744385</td>\n",
       "      <td>-1859.068237</td>\n",
       "      <td>-1783.842041</td>\n",
       "      <td>-1692.007690</td>\n",
       "      <td>-2262.783447</td>\n",
       "      <td>-2144.507812</td>\n",
       "      <td>-2292.930176</td>\n",
       "      <td>-2268.537354</td>\n",
       "    </tr>\n",
       "    <tr>\n",
       "      <th>9382578</th>\n",
       "      <td>-3983.697998</td>\n",
       "      <td>-4028.791016</td>\n",
       "      <td>-3983.839355</td>\n",
       "      <td>-3876.505859</td>\n",
       "      <td>-4122.409180</td>\n",
       "      <td>-3737.442139</td>\n",
       "      <td>-4122.533691</td>\n",
       "      <td>-4122.617188</td>\n",
       "    </tr>\n",
       "  </tbody>\n",
       "</table>\n",
       "<p>5601 rows × 8 columns</p>\n",
       "</div>"
      ],
      "text/plain": [
       "                      0            1            2            3            4  \\\n",
       "locationId                                                                    \n",
       "1011796922 -1591.948853 -1764.590576 -1764.605591 -1764.614502 -1764.626587   \n",
       "37903636   -1213.981567 -1205.876709 -1180.816406 -1182.152954 -1181.658691   \n",
       "13217405    -373.306152  -369.998199  -358.292908  -374.359711  -359.352814   \n",
       "20315170    -221.339493  -221.378540  -221.417603  -221.417603  -221.417603   \n",
       "20509127   -1486.157715 -2112.266846 -1654.587646 -2112.342041 -2112.384277   \n",
       "...                 ...          ...          ...          ...          ...   \n",
       "9129031    -6586.104980 -6644.750488 -6217.422852 -6566.066406 -6891.367676   \n",
       "12816960   -3583.235840 -3098.814697 -3334.675293 -3141.650879 -3203.452393   \n",
       "16656485   -3032.288574 -3026.968018 -3468.062012 -3216.107910 -3216.196045   \n",
       "4030185    -2310.744385 -1859.068237 -1783.842041 -1692.007690 -2262.783447   \n",
       "9382578    -3983.697998 -4028.791016 -3983.839355 -3876.505859 -4122.409180   \n",
       "\n",
       "                      5            6            7  \n",
       "locationId                                         \n",
       "1011796922 -1764.635620 -1764.647583 -1764.662598  \n",
       "37903636   -1189.380737 -1165.646973 -1153.326416  \n",
       "13217405    -358.451721  -350.410065  -354.332031  \n",
       "20315170    -221.417603  -221.456665  -221.495712  \n",
       "20509127   -2112.435303 -2112.480469 -2112.531250  \n",
       "...                 ...          ...          ...  \n",
       "9129031    -6929.129883 -6141.178223 -6470.263672  \n",
       "12816960   -3658.818604 -3936.301025 -4152.042969  \n",
       "16656485   -3248.051514 -3558.815186 -3505.575195  \n",
       "4030185    -2144.507812 -2292.930176 -2268.537354  \n",
       "9382578    -3737.442139 -4122.533691 -4122.617188  \n",
       "\n",
       "[5601 rows x 8 columns]"
      ]
     },
     "execution_count": 346,
     "metadata": {},
     "output_type": "execute_result"
    }
   ],
   "source": [
    "vec = latent_to_vec('FM_locationId', loaded_model, local_df, 8, [encoded_userID, encoded_users_mean_rating, \n",
    "                             encoded_user_reviewcount, encoded_locationId, \n",
    "                             encoded_createdDate, encoded_photonum,\n",
    "                        encoded_rated_count,\n",
    "                                  encoded_average_photonum, encoded_average_rating])\n",
    "vec"
   ]
  },
  {
   "cell_type": "code",
   "execution_count": 352,
   "metadata": {},
   "outputs": [],
   "source": [
    "vec.to_csv(os.path.join(\"..\",\"realtime_model\",'deepFM_local_vec.csv'))"
   ]
  },
  {
   "cell_type": "code",
   "execution_count": 347,
   "metadata": {},
   "outputs": [],
   "source": [
    "from numpy import dot\n",
    "from numpy.linalg import norm\n",
    "import numpy as np\n",
    "import random\n",
    "\n",
    "def cosim_id(df, vec, item_id):\n",
    "    def cos_sim(A, B):\n",
    "           return dot(A, B)/(norm(A)*norm(B)) \n",
    "    new_vec = vec.copy() \n",
    "    sim = []\n",
    "    \n",
    "    # 인풋 호텔 정보 데이터에 없는 경우 종료 \n",
    "    if item_id not in vec.index.tolist():\n",
    "        return \n",
    "        \n",
    "    for i in range(len(vec)):\n",
    "        sim.append(cos_sim(vec.loc[item_id,:], vec.iloc[i,:]))\n",
    "\n",
    "    new_vec['sim'] = sim\n",
    "    # sim 높은 순 \n",
    "    new_vec = new_vec['sim'].reset_index().sort_values('sim', ascending=False)\n",
    "    sim_sorted = new_vec['locationId'].tolist()\n",
    "    # 인풋 호텔정보 빼고 유사도 높은 순대로 id \n",
    "    if item_id in sim_sorted:\n",
    "        sim_sorted.remove(item_id) \n",
    "    return sim_sorted \n",
    "\n",
    "def sim_item(vec, df, item_id, top):\n",
    "    top_id = cosim_id(df, vec, item_id)\n",
    "    \n",
    "    if type(top_id) == list :\n",
    "        df = df.drop_duplicates(['locationId'], keep='last')\n",
    "        recommend_rst = []\n",
    "        for x in top_id:\n",
    "            if df.loc[df['locationId']==x].category.values[0]== 'EAT':\n",
    "                recommend_rst.append([df.loc[df['locationId']==x][['place.name', 'land.addr']]])\n",
    "\n",
    "        print('input hotel:', local_df.loc[local_df['locationId']==item_id]['place.name'].unique()[0])\n",
    "        print('-'*10)\n",
    "        for i in range(len(recommend_rst[:top])):\n",
    "            print('top', i+1, recommend_rst[i][0]['place.name'].values[0])\n",
    "            print('  주소', recommend_rst[i][0]['land.addr'].values[0])\n",
    "        \n",
    "    else:\n",
    "        answer_lst = ['해당 호텔 정보가 없습니다. 다른 호텔을 입력해주세요.', '해당 호텔 정보가 없습니다. 다른 호텔을 추천받아보세요.']\n",
    "        x = random.randint(0, len(answer_lst)-1)\n",
    "        return answer_lst[x]\n",
    "    "
   ]
  },
  {
   "cell_type": "code",
   "execution_count": 349,
   "metadata": {
    "scrolled": true
   },
   "outputs": [
    {
     "name": "stdout",
     "output_type": "stream",
     "text": [
      "input hotel: Conrad Seoul\n",
      "----------\n",
      "top 1 테이블스타\n",
      "  주소 서울특별시 강남구 신사동 545-22\n",
      "top 2 대동문\n",
      "  주소 서울특별시 영등포구 여의도동 35-2 백상빌딩\n",
      "top 3 Parmi Italiano\n",
      "  주소 error\n",
      "top 4 올레김밥\n",
      "  주소 서울특별시 송파구 잠실동 35-2 트리지움\n",
      "top 5 Jogaechon\n",
      "  주소 error\n",
      "top 6 슌미\n",
      "  주소 서울특별시 강남구 역삼동 603 노보텔 앰배서더 강남 서울\n",
      "top 7 초반식당\n",
      "  주소 서울 중구 수표로6길 8-1\n",
      "top 8 문립\n",
      "  주소 서울특별시 동대문구 이문동 305-59\n",
      "top 9 하늘빛우렁쌈밥\n",
      "  주소 서울특별시 광진구 구의동 234-9\n",
      "top 10 라운드오프\n",
      "  주소 서울 종로구 인사동5길 26\n"
     ]
    }
   ],
   "source": [
    "sim_item(vec, local_df, 3477158, 10)"
   ]
  },
  {
   "cell_type": "code",
   "execution_count": 350,
   "metadata": {},
   "outputs": [
    {
     "data": {
      "text/plain": [
       "'해당 호텔 정보가 없습니다. 다른 호텔을 입력해주세요.'"
      ]
     },
     "execution_count": 350,
     "metadata": {},
     "output_type": "execute_result"
    }
   ],
   "source": [
    "sim_item(vec, local_df, 0, 10)"
   ]
  },
  {
   "cell_type": "code",
   "execution_count": 351,
   "metadata": {
    "scrolled": true
   },
   "outputs": [
    {
     "name": "stdout",
     "output_type": "stream",
     "text": [
      "input hotel: ibis styles Ambassador Seoul Gangnam\n",
      "----------\n",
      "top 1 오양회참치\n",
      "  주소 서울특별시 중구 정동 2-1 오양수산빌딩\n",
      "top 2 삐싱궈\n",
      "  주소 서울특별시 강북구 미아동 54-138\n",
      "top 3 연남동질리\n",
      "  주소 서울특별시 마포구 연남동 390-24 j2빌딩\n",
      "top 4 찜닭상륙작전\n",
      "  주소 서울특별시 강남구 역삼동 637-36\n",
      "top 5 중화요리온\n",
      "  주소 서울특별시 양천구 목동 514-18 어바니엘\n",
      "top 6 백암왕순대\n",
      "  주소 서울특별시 송파구 방이동 206-3 삼영빌딩\n",
      "top 7 돈돼랑\n",
      "  주소 서울특별시 강서구 화곡동 1072-1\n",
      "top 8 돈짱\n",
      "  주소 서울특별시 강동구 길동 359-23\n",
      "top 9 오근내2닭구이&닭갈비\n",
      "  주소 서울특별시 용산구 한강로3가 40-9 용일빌딩\n",
      "top 10 케이크하우스밀레\n",
      "  주소 서울특별시 중랑구 중화동 288-27 차돌체육관\n"
     ]
    }
   ],
   "source": [
    "sim_item(vec, local_df, 299533, 10)"
   ]
  },
  {
   "cell_type": "code",
   "execution_count": 713,
   "metadata": {
    "scrolled": true
   },
   "outputs": [
    {
     "name": "stdout",
     "output_type": "stream",
     "text": [
      "input hotel: Best Western Premier Seoul Garden Hotel\n",
      "----------\n",
      "top 1 미추원주추어탕서울본점\n",
      "  주소 서울특별시 관악구 봉천동 1595-8\n",
      "top 2 빠리가옥\n",
      "  주소 서울특별시 종로구 익선동 166-26\n",
      "top 3 다담\n",
      "  주소 서울특별시 강남구 청담동 97-1 M빌딩\n",
      "top 4 깐부치킨 신사역점\n",
      "  주소 서울특별시 강남구 신사동 514-5\n",
      "top 5 스위트스페이스 현대시티아루렛동대문점\n",
      "  주소 서울특별시 중구 을지로6가 17-2 현대시티타워\n",
      "top 6 크앙분식 - 혜화본점\n",
      "  주소 서울특별시 종로구 연건동 195-38\n",
      "top 7 호치킨 창동역점\n",
      "  주소 서울특별시 도봉구 창동 75-13\n",
      "top 8 Guksuga\n",
      "  주소 서울특별시 중구 충무로5가 86-3\n",
      "top 9 인생닭강정\n",
      "  주소 서울특별시 성북구 동선동1가 85-97\n",
      "top 10 소피스티케이크\n",
      "  주소 서울특별시 마포구 서교동 396-54\n"
     ]
    }
   ],
   "source": [
    "sim_item(vec, local_df, 299152, 10)"
   ]
  },
  {
   "cell_type": "code",
   "execution_count": 714,
   "metadata": {
    "scrolled": true
   },
   "outputs": [
    {
     "name": "stdout",
     "output_type": "stream",
     "text": [
      "input hotel: ibis budget Ambassador Seoul Dongdaemun\n",
      "----------\n",
      "top 1 바나프레소 길동역점\n",
      "  주소 서울특별시 강동구 길동 366-5\n",
      "top 2 진대포\n",
      "  주소 서울특별시 용산구 갈월동 98-1\n",
      "top 3 충무로쭈꾸미불고기\n",
      "  주소 서울특별시 중구 필동1가 3-20\n",
      "top 4 마녀김밥 노들점\n",
      "  주소 서울특별시 용산구 이촌동 302-146\n",
      "top 5 홀리차우\n",
      "  주소 서울특별시 중구 명동1가 8-1\n",
      "top 6 스타벅스 쌍문역점\n",
      "  주소 서울특별시 도봉구 창동 659-5\n",
      "top 7 김밥천국\n",
      "  주소 서울특별시 마포구 망원동 395-4\n",
      "top 8 내고향횡성한우정육점식당\n",
      "  주소 서울특별시 송파구 방이동 66-3 석촌씨티빌딩\n",
      "top 9 가야랑\n",
      "  주소 서울특별시 용산구 이태원2동 239-4\n",
      "top 10 돈수작 건대점\n",
      "  주소 서울특별시 광진구 화양동 9-19\n"
     ]
    }
   ],
   "source": [
    "sim_item(vec, local_df, 6998634, 10)"
   ]
  },
  {
   "cell_type": "code",
   "execution_count": 715,
   "metadata": {
    "scrolled": true
   },
   "outputs": [
    {
     "name": "stdout",
     "output_type": "stream",
     "text": [
      "input hotel: Banyan Tree Club & Spa Seoul\n",
      "----------\n",
      "top 1 조아저씨김치찌개와막겹구이\n",
      "  주소 서울특별시 중구 서소문동 23\n",
      "top 2 탐앤탐스\n",
      "  주소 서울특별시 서초구 반포동 20-45 반포자이플라자\n",
      "top 3 황소고집\n",
      "  주소 서울특별시 종로구 관철동 11-11\n",
      "top 4 서울감자탕\n",
      "  주소 서울특별시 강동구 성내동 199-11\n",
      "top 5 써브웨이 상암DMC푸르지오시티점\n",
      "  주소 서울특별시 마포구 상암동 1596 상암DMC푸르지오시티, S-City\n",
      "top 6 밥이답이다 신촌세브란스병원점\n",
      "  주소 서울특별시 서대문구 신촌동 134 신촌세브란스병원\n",
      "top 7 모힝\n",
      "  주소 서울특별시 관악구 봉천동 1598-6\n",
      "top 8 푸주옥\n",
      "  주소 서울특별시 양천구 신정동 1290-2\n",
      "top 9 마포 갈매기\n",
      "  주소 서울특별시 마포구 도화동 194-8\n",
      "top 10 돈암동찌개\n",
      "  주소 서울특별시 강북구 수유동 191-66\n"
     ]
    }
   ],
   "source": [
    "sim_item(vec, local_df, 1796658, 10)"
   ]
  },
  {
   "cell_type": "code",
   "execution_count": 716,
   "metadata": {
    "scrolled": true
   },
   "outputs": [
    {
     "name": "stdout",
     "output_type": "stream",
     "text": [
      "input hotel: Grand InterContinental Seoul Parnas\n",
      "----------\n",
      "top 1 곳온니플레이스\n",
      "  주소 서울특별시 영등포구 여의도동 17 여의도더샵아일랜드파크\n",
      "top 2 풀향기\n",
      "  주소 서울특별시 용산구 한남동 726-54 풀향기(음식점)\n",
      "top 3 센터커피\n",
      "  주소 서울 성동구 서울숲2길 28-11 2층\n",
      "top 4 그랜드뮤즈\n",
      "  주소 서울특별시 용산구 한남동 726-419\n",
      "top 5 달구벌반점\n",
      "  주소 서울특별시 성동구 성수동2가 278-25\n",
      "top 6 정성본 샤브수끼 칼국수 강남역점\n",
      "  주소 서울특별시 서초구 서초동 1321-9 풍림아이원매직\n",
      "top 7 브릭하우스76\n",
      "  주소 서울특별시 은평구 역촌동 35-29\n",
      "top 8 장군갈비\n",
      "  주소 서울특별시 영등포구 문래동3가 55-5 로데오 왘 쇼핑몰\n",
      "top 9 담소소사골순대육개장 가산디지털점\n",
      "  주소 서울특별시 금천구 가산동 60-11 스타밸리\n",
      "top 10 평양냉면\n",
      "  주소 서울특별시 구로구 오류동 13-55\n"
     ]
    }
   ],
   "source": [
    "sim_item(vec, local_df, 306118, 10)"
   ]
  },
  {
   "cell_type": "markdown",
   "metadata": {},
   "source": [
    "## 2. global"
   ]
  },
  {
   "cell_type": "code",
   "execution_count": 354,
   "metadata": {},
   "outputs": [
    {
     "data": {
      "text/plain": [
       "{'locationId': 3180,\n",
       " 'createdDate': 4213,\n",
       " 'photonum': 38,\n",
       " 'rated_count': 174,\n",
       " 'average_photonum': 672,\n",
       " 'average_rating': 623,\n",
       " 'user_mean_rating': 4893,\n",
       " 'user_reviewcount': 73,\n",
       " 'userID': 57332}"
      ]
     },
     "execution_count": 354,
     "metadata": {},
     "output_type": "execute_result"
    }
   ],
   "source": [
    "def get_data(column, df) :\n",
    "    \n",
    "    vocab = {}\n",
    "    num = 0\n",
    "\n",
    "    for i in df[column]: \n",
    "        if vocab.get(i) != None:\n",
    "            continue\n",
    "\n",
    "        vocab[i] = num\n",
    "        num += 1\n",
    "\n",
    "    encoded = [vocab[i] for i in df[column]]\n",
    "    \n",
    "    return encoded, num, vocab\n",
    "\n",
    "\n",
    "encoded_locationId, num_locationId, vocab_locationId = get_data('locationId', global_df) \n",
    "encoded_createdDate,  num_createdDate, vocab_createdDate = get_data('createdDate', global_df) \n",
    "encoded_photonum,  num_photonum, vocab_photonum = get_data('photonum', global_df) \n",
    "encoded_rated_count,  num_rated_count, vocab_rated_count = get_data('rated_count', global_df) \n",
    "encoded_average_photonum,  num_average_photonum, vocab_average_photonum = get_data('average_photonum', global_df) \n",
    "encoded_average_rating,  num_average_rating, vocab_average_rating = get_data('average_rating', global_df) \n",
    "encoded_users_mean_rating, num_users_mean_rating, vocab_users_mean_rating = get_data('user_mean_rating', global_df) \n",
    "encoded_user_reviewcount,  num_user_reviewcount, vocab_user_reviewcount = get_data('user_reviewcount', global_df) \n",
    "encoded_userID, num_userID, vocab_userID = get_data('userID', global_df) \n",
    "\n",
    "\n",
    "feat_nu_dict = {}\n",
    "feat_nu_dict['locationId'] = num_locationId\n",
    "feat_nu_dict['createdDate'] = num_createdDate\n",
    "feat_nu_dict['photonum'] = num_photonum\n",
    "feat_nu_dict['rated_count'] = num_rated_count\n",
    "feat_nu_dict['average_photonum'] = num_average_photonum\n",
    "feat_nu_dict['average_rating'] = num_average_rating\n",
    "feat_nu_dict['user_mean_rating'] = num_users_mean_rating\n",
    "feat_nu_dict['user_reviewcount'] = num_user_reviewcount\n",
    "feat_nu_dict['userID'] = num_userID\n",
    "feat_nu_dict"
   ]
  },
  {
   "cell_type": "code",
   "execution_count": 355,
   "metadata": {},
   "outputs": [],
   "source": [
    "k = 8 #the number of embedding dim\n",
    "\n",
    "input_cols = []\n",
    "cols = []\n",
    "embed_col = []\n",
    "for col in COLS:\n",
    "    in_neu = Input(shape=(1,), name=col) #None*1\n",
    "    input_cols.append(in_neu)\n",
    "#     cate_embedding = Embedding(feat_nu_dict[col], 1)(in_neu) #None*1*1\n",
    "#     in_embed = Embedding(feat_nu_dict[col], k, name = 'FM_'+col)(in_neu) #None*1*k\n",
    "    in_embed = RepeatVector(1, name='FM_'+col)(Dense(k)(in_neu)) #None*1*k\n",
    "    cols.append(in_neu)\n",
    "    embed_col.append(in_embed)\n",
    "con_numeric = Concatenate(axis=1)(cols) #None*len(config.COLS)\n",
    "dense_numeric = RepeatVector(1)(Dense(1)(con_numeric)) #None*1*1"
   ]
  },
  {
   "cell_type": "code",
   "execution_count": null,
   "metadata": {},
   "outputs": [],
   "source": [
    "# 모델 구조 아키텍쳐\n",
    "#first order\n",
    "y_first_order = dense_numeric #Concatenate(axis=1)([dense_numeric, con_cate]) #None*len*1\n",
    "y_first_order = MySumLayer(axis=1)(y_first_order) #None*1\n",
    "\n",
    "#second order\n",
    "emb = Concatenate(axis=1)(embed_col) #None*s*k\n",
    "\n",
    "summed_feature_emb = MySumLayer(axis=1)(emb) #None*k\n",
    "summed_feature_emb_squred = Multiply()([summed_feature_emb,summed_feature_emb]) #None*k\n",
    "\n",
    "squared_feature_emb = Multiply()([emb,emb]) #None*s*k\n",
    "squared_sum_feature_emb = MySumLayer(axis=1)(squared_feature_emb) #None*k\n",
    "\n",
    "sub = Subtract()([summed_feature_emb_squred,squared_sum_feature_emb]) #None*k\n",
    "sub = Lambda(lambda x: x*0.5)(sub) #None*k\n",
    "y_second_order = MySumLayer(axis=1)(sub)\n",
    "\n",
    "#deep order\n",
    "y_deep = Flatten()(emb) #None*(s*k)\n",
    "y_deep = Dropout(0.5)(Dense(32,activation='relu')(y_deep)) #None*32\n",
    "y_deep = Dropout(0.5)(Dense(32,activation='relu')(y_deep)) #None*32\n",
    "y_deep = Dropout(0.5)(Dense(1,activation='relu')(y_deep)) #None*1\n",
    "\n",
    "#deep fm\n",
    "y = Concatenate()([y_first_order,y_second_order,y_deep]) #None*3\n",
    "y = Dense(1,activation='sigmoid')(y)"
   ]
  },
  {
   "cell_type": "code",
   "execution_count": null,
   "metadata": {},
   "outputs": [],
   "source": [
    "from keras.callbacks import ModelCheckpoint\n",
    "\n",
    "# 모델 저장 위치 설정 \n",
    "model_save_path = os.path.join(\"..\",\"..\",\"data\",\"model_weights\")\n",
    "if not os.path.exists(model_save_path):\n",
    "    os.mkdir(model_save_path)\n",
    "\n",
    "# 콜백모델 저장 -> 모델명 설정     \n",
    "checkpoint_path = os.path.join(model_save_path ,\"local_{epoch:02d}-{val_loss:.4f}.hdf5\")\n",
    "checkpoint_path_json = os.path.join(model_save_path ,\"local_{epoch:02d}.json\")\n",
    "\n",
    "cb_checkpoint1 = ModelCheckpoint(filepath = checkpoint_path, monitor = 'val_loss', \n",
    "                                verbose=1, save_best_only=True, save_weights_only=True)\n",
    "cb_checkpoint2 = ModelCheckpoint(filepath = checkpoint_path_json, monitor = 'val_loss', \n",
    "                                verbose=1, save_best_only=True, save_weights_only=True)"
   ]
  },
  {
   "cell_type": "code",
   "execution_count": null,
   "metadata": {},
   "outputs": [],
   "source": [
    "lr = 1e-3\n",
    "epochs = 3000\n",
    "batch_size = 120000\n",
    "\n",
    "model = Model(inputs=input_cols, outputs=[y])\n",
    "model.compile(loss=\"mse\", optimizer=RMSprop(lr=lr), metrics=[tf.keras.metrics.AUC()])\n",
    "\n",
    "model.save_weights(checkpoint_path)\n",
    "\n",
    "history = model.fit([encoded_userID, encoded_users_mean_rating, \n",
    "                             encoded_user_reviewcount, encoded_locationId, \n",
    "                             encoded_createdDate, encoded_photonum,\n",
    "                             encoded_rated_count,encoded_average_photonum, \n",
    "                             encoded_average_rating], global_df['rating'], \n",
    "          batch_size=batch_size, epochs=epochs, validation_split=0.005,\n",
    "                   callbacks = [cb_checkpoint1, cb_checkpoint2])\n",
    "\n",
    "\n",
    "plt.plot(history.history[\"loss\"], label=\"train loss\")\n",
    "plt.plot(history.history[\"val_loss\"], label=\"validation loss\")\n",
    "plt.legend() \n",
    "plt.title(\"Loss\")\n",
    "plt.show()"
   ]
  },
  {
   "cell_type": "code",
   "execution_count": null,
   "metadata": {},
   "outputs": [],
   "source": [
    "# 모델 불러오기 \n",
    "from keras.models import model_from_json \n",
    "\n",
    "json_file = open(os.path.join(model_save_path ,\" .json\"), \"r\") \n",
    "loaded_model_json = json_file.read() \n",
    "json_file.close() \n",
    "\n",
    "loaded_model = model_from_json(loaded_model_json, # custom_objects={'tf': tf, 'n_factors':8})\n",
    "\n",
    "loaded_model.load_weights(os.path.join(model_save_path,\" .h5\"))\n",
    "print(\"Loaded model from disk\")"
   ]
  },
  {
   "cell_type": "markdown",
   "metadata": {},
   "source": [
    "# 유사도 아이템"
   ]
  },
  {
   "cell_type": "code",
   "execution_count": 222,
   "metadata": {},
   "outputs": [],
   "source": [
    "def latent_to_vec(feature, model, location_df, h_size, input_features):\n",
    "    layer_name = feature\n",
    "    intermediate_layer_model = Model(inputs=model.input,\n",
    "                                 outputs=model.get_layer(layer_name).output)\n",
    "    test = input_features\n",
    "                             \n",
    "    locationId_latent_vector = intermediate_layer_model.predict(test)\n",
    "    \n",
    "    locationId_latent_vector = locationId_latent_vector.T.reshape(-1, h_size)\n",
    "    vec = pd.DataFrame(locationId_latent_vector)\n",
    "    location_df = location_df.reset_index()\n",
    "    vec['locationId'] = location_df['locationId']\n",
    "    \n",
    "    # 아이템별 의미 벡터 생성 \n",
    "    vec = vec.groupby('locationId').agg([('0','mean')]).reset_index()\n",
    "\n",
    "    vec = pd.DataFrame(vec.iloc[:,1:].values)\n",
    "    vec['locationId'] = location_df['locationId'].unique()\n",
    "    vec = vec.set_index('locationId')\n",
    "    return vec"
   ]
  },
  {
   "cell_type": "code",
   "execution_count": 223,
   "metadata": {},
   "outputs": [
    {
     "data": {
      "text/html": [
       "<div>\n",
       "<style scoped>\n",
       "    .dataframe tbody tr th:only-of-type {\n",
       "        vertical-align: middle;\n",
       "    }\n",
       "\n",
       "    .dataframe tbody tr th {\n",
       "        vertical-align: top;\n",
       "    }\n",
       "\n",
       "    .dataframe thead th {\n",
       "        text-align: right;\n",
       "    }\n",
       "</style>\n",
       "<table border=\"1\" class=\"dataframe\">\n",
       "  <thead>\n",
       "    <tr style=\"text-align: right;\">\n",
       "      <th></th>\n",
       "      <th>0</th>\n",
       "      <th>1</th>\n",
       "      <th>2</th>\n",
       "      <th>3</th>\n",
       "      <th>4</th>\n",
       "      <th>5</th>\n",
       "      <th>6</th>\n",
       "      <th>7</th>\n",
       "    </tr>\n",
       "    <tr>\n",
       "      <th>locationId</th>\n",
       "      <th></th>\n",
       "      <th></th>\n",
       "      <th></th>\n",
       "      <th></th>\n",
       "      <th></th>\n",
       "      <th></th>\n",
       "      <th></th>\n",
       "      <th></th>\n",
       "    </tr>\n",
       "  </thead>\n",
       "  <tbody>\n",
       "    <tr>\n",
       "      <th>788542</th>\n",
       "      <td>-1537.253174</td>\n",
       "      <td>-1537.266357</td>\n",
       "      <td>-1537.279541</td>\n",
       "      <td>-1537.314453</td>\n",
       "      <td>-1447.767334</td>\n",
       "      <td>-1447.767334</td>\n",
       "      <td>-1447.780518</td>\n",
       "      <td>-1447.780518</td>\n",
       "    </tr>\n",
       "    <tr>\n",
       "      <th>4077917</th>\n",
       "      <td>-830.337341</td>\n",
       "      <td>-871.947632</td>\n",
       "      <td>-871.627380</td>\n",
       "      <td>-765.864197</td>\n",
       "      <td>-765.837524</td>\n",
       "      <td>-750.090576</td>\n",
       "      <td>-662.776184</td>\n",
       "      <td>-685.335754</td>\n",
       "    </tr>\n",
       "    <tr>\n",
       "      <th>9732387</th>\n",
       "      <td>-1109.489136</td>\n",
       "      <td>-1388.345825</td>\n",
       "      <td>-1144.588257</td>\n",
       "      <td>-1388.380493</td>\n",
       "      <td>-1137.427734</td>\n",
       "      <td>-1388.411743</td>\n",
       "      <td>-1388.431519</td>\n",
       "      <td>-1388.451294</td>\n",
       "    </tr>\n",
       "    <tr>\n",
       "      <th>13833720</th>\n",
       "      <td>-385.016907</td>\n",
       "      <td>-385.016907</td>\n",
       "      <td>-385.016907</td>\n",
       "      <td>-385.016907</td>\n",
       "      <td>-385.016907</td>\n",
       "      <td>-385.016907</td>\n",
       "      <td>-385.016907</td>\n",
       "      <td>-385.016907</td>\n",
       "    </tr>\n",
       "    <tr>\n",
       "      <th>8977925</th>\n",
       "      <td>-804.521362</td>\n",
       "      <td>-1029.487427</td>\n",
       "      <td>-1029.499146</td>\n",
       "      <td>-1029.504883</td>\n",
       "      <td>-1029.516602</td>\n",
       "      <td>-1029.529663</td>\n",
       "      <td>-1029.542847</td>\n",
       "      <td>-1029.557495</td>\n",
       "    </tr>\n",
       "    <tr>\n",
       "      <th>...</th>\n",
       "      <td>...</td>\n",
       "      <td>...</td>\n",
       "      <td>...</td>\n",
       "      <td>...</td>\n",
       "      <td>...</td>\n",
       "      <td>...</td>\n",
       "      <td>...</td>\n",
       "      <td>...</td>\n",
       "    </tr>\n",
       "    <tr>\n",
       "      <th>9597806</th>\n",
       "      <td>-148.596954</td>\n",
       "      <td>-153.404205</td>\n",
       "      <td>-153.406769</td>\n",
       "      <td>-35.644745</td>\n",
       "      <td>-153.408722</td>\n",
       "      <td>-153.411285</td>\n",
       "      <td>-148.605774</td>\n",
       "      <td>-200.125015</td>\n",
       "    </tr>\n",
       "    <tr>\n",
       "      <th>1149130</th>\n",
       "      <td>-265.883179</td>\n",
       "      <td>-266.655426</td>\n",
       "      <td>-266.654724</td>\n",
       "      <td>-264.719025</td>\n",
       "      <td>-272.489685</td>\n",
       "      <td>-273.921692</td>\n",
       "      <td>-271.398651</td>\n",
       "      <td>-271.191956</td>\n",
       "    </tr>\n",
       "    <tr>\n",
       "      <th>3595040</th>\n",
       "      <td>-184.902512</td>\n",
       "      <td>-172.722931</td>\n",
       "      <td>-172.722931</td>\n",
       "      <td>-172.728180</td>\n",
       "      <td>-172.728180</td>\n",
       "      <td>-172.726868</td>\n",
       "      <td>-223.797028</td>\n",
       "      <td>-172.732117</td>\n",
       "    </tr>\n",
       "    <tr>\n",
       "      <th>13369640</th>\n",
       "      <td>-539.402954</td>\n",
       "      <td>-539.408813</td>\n",
       "      <td>-543.603333</td>\n",
       "      <td>-548.325012</td>\n",
       "      <td>-601.862061</td>\n",
       "      <td>-601.862549</td>\n",
       "      <td>-601.864868</td>\n",
       "      <td>-601.870300</td>\n",
       "    </tr>\n",
       "    <tr>\n",
       "      <th>7043495</th>\n",
       "      <td>-285.754547</td>\n",
       "      <td>-274.807343</td>\n",
       "      <td>-375.382904</td>\n",
       "      <td>-375.460602</td>\n",
       "      <td>-375.839478</td>\n",
       "      <td>-376.107117</td>\n",
       "      <td>-376.171600</td>\n",
       "      <td>-377.835449</td>\n",
       "    </tr>\n",
       "  </tbody>\n",
       "</table>\n",
       "<p>15934 rows × 8 columns</p>\n",
       "</div>"
      ],
      "text/plain": [
       "                      0            1            2            3            4  \\\n",
       "locationId                                                                    \n",
       "788542     -1537.253174 -1537.266357 -1537.279541 -1537.314453 -1447.767334   \n",
       "4077917     -830.337341  -871.947632  -871.627380  -765.864197  -765.837524   \n",
       "9732387    -1109.489136 -1388.345825 -1144.588257 -1388.380493 -1137.427734   \n",
       "13833720    -385.016907  -385.016907  -385.016907  -385.016907  -385.016907   \n",
       "8977925     -804.521362 -1029.487427 -1029.499146 -1029.504883 -1029.516602   \n",
       "...                 ...          ...          ...          ...          ...   \n",
       "9597806     -148.596954  -153.404205  -153.406769   -35.644745  -153.408722   \n",
       "1149130     -265.883179  -266.655426  -266.654724  -264.719025  -272.489685   \n",
       "3595040     -184.902512  -172.722931  -172.722931  -172.728180  -172.728180   \n",
       "13369640    -539.402954  -539.408813  -543.603333  -548.325012  -601.862061   \n",
       "7043495     -285.754547  -274.807343  -375.382904  -375.460602  -375.839478   \n",
       "\n",
       "                      5            6            7  \n",
       "locationId                                         \n",
       "788542     -1447.767334 -1447.780518 -1447.780518  \n",
       "4077917     -750.090576  -662.776184  -685.335754  \n",
       "9732387    -1388.411743 -1388.431519 -1388.451294  \n",
       "13833720    -385.016907  -385.016907  -385.016907  \n",
       "8977925    -1029.529663 -1029.542847 -1029.557495  \n",
       "...                 ...          ...          ...  \n",
       "9597806     -153.411285  -148.605774  -200.125015  \n",
       "1149130     -273.921692  -271.398651  -271.191956  \n",
       "3595040     -172.726868  -223.797028  -172.732117  \n",
       "13369640    -601.862549  -601.864868  -601.870300  \n",
       "7043495     -376.107117  -376.171600  -377.835449  \n",
       "\n",
       "[15934 rows x 8 columns]"
      ]
     },
     "execution_count": 223,
     "metadata": {},
     "output_type": "execute_result"
    }
   ],
   "source": [
    "vec = latent_to_vec('FM_locationId', loaded_model, global_df, 8, [encoded_userID, encoded_users_mean_rating, \n",
    "                             encoded_user_reviewcount, encoded_locationId, \n",
    "                             encoded_createdDate, encoded_photonum,\n",
    "                        encoded_rated_count,\n",
    "                                  encoded_average_photonum, encoded_average_rating])\n",
    "vec"
   ]
  },
  {
   "cell_type": "code",
   "execution_count": 224,
   "metadata": {},
   "outputs": [],
   "source": [
    "vec.to_csv(os.path.join(\"..\",\"realtime_model\",'deepFM_global_vec.csv'))#, index=False)\n"
   ]
  },
  {
   "cell_type": "code",
   "execution_count": 225,
   "metadata": {},
   "outputs": [],
   "source": [
    "from numpy import dot\n",
    "from numpy.linalg import norm\n",
    "import numpy as np\n",
    "\n",
    "\n",
    "def cosim_id(df, vec, item_id):\n",
    "    def cos_sim(A, B):\n",
    "           return dot(A, B)/(norm(A)*norm(B)) \n",
    "    new_vec = vec.copy() \n",
    "    sim = []\n",
    "    \n",
    "    # 인풋 호텔 정보 데이터에 없는 경우 종료 \n",
    "    if item_id not in vec.index.tolist():\n",
    "        return \n",
    "        \n",
    "    for i in range(len(vec)):\n",
    "        sim.append(cos_sim(vec.loc[item_id,:], vec.iloc[i,:]))\n",
    "\n",
    "    new_vec['sim'] = sim\n",
    "    # sim 높은 순 \n",
    "    new_vec = new_vec['sim'].reset_index().sort_values('sim', ascending=False)\n",
    "    sim_sorted = new_vec['locationId'].tolist()\n",
    "    # 인풋 호텔정보 빼고 유사도 높은 순대로 id \n",
    "    if item_id in sim_sorted:\n",
    "        sim_sorted.remove(item_id) \n",
    "    return sim_sorted "
   ]
  },
  {
   "cell_type": "code",
   "execution_count": 226,
   "metadata": {},
   "outputs": [],
   "source": [
    "import random\n",
    "\n",
    "def sim_item(vec, df, item_id, top):\n",
    "    top_id = cosim_id(df, vec, item_id)\n",
    "    \n",
    "    if type(top_id) == list :\n",
    "        df = df.drop_duplicates(['locationId'], keep='last')\n",
    "        recommend_rst = []\n",
    "        for x in top_id:\n",
    "            if df.loc[df['locationId']==x].category.values[0]== 'EAT':\n",
    "                recommend_rst.append([df.loc[df['locationId']==x][['place.name', 'land.addr']]])\n",
    "\n",
    "        print('input hotel:', local_df.loc[local_df['locationId']==item_id]['place.name'].unique()[0])\n",
    "        print('-'*10)\n",
    "        for i in range(len(recommend_rst[:top])):\n",
    "            print('top', i+1, recommend_rst[i][0]['place.name'].values[0])\n",
    "            print('  주소', recommend_rst[i][0]['land.addr'].values[0])\n",
    "        \n",
    "    else:\n",
    "        answer_lst = ['해당 호텔 정보가 없습니다. 다른 호텔을 입력해주세요.', '해당 호텔 정보가 없습니다. 다른 호텔을 추천받아보세요.']\n",
    "        x = random.randint(0, len(answer_lst)-1)\n",
    "        return answer_lst[x]\n",
    "    "
   ]
  },
  {
   "cell_type": "code",
   "execution_count": 227,
   "metadata": {
    "scrolled": true
   },
   "outputs": [
    {
     "name": "stdout",
     "output_type": "stream",
     "text": [
      "input hotel: Conrad Seoul\n",
      "----------\n",
      "top 1 김경애 떡방\n",
      "  주소 서울특별시 강남구 대치동 316 은마아파트\n",
      "top 2 오리올\n",
      "  주소 서울특별시 용산구 후암동 406-99\n",
      "top 3 블랑제리 더 플라자\n",
      "  주소 서울특별시 중구 태평로2가 23 더 플라자\n",
      "top 4 버거킹 센트럴시티점\n",
      "  주소 서울특별시 서초구 반포동 19-3 센트럴시티\n",
      "top 5 피자스쿨 신풍역점\n",
      "  주소 서울특별시 영등포구 신길동 3894\n",
      "top 6 라밥 노량진2호점\n",
      "  주소 서울특별시 동작구 노량진동 119-166\n",
      "top 7 영미네 곱창\n",
      "  주소 서울특별시 중구 황학동 1783\n",
      "top 8 삼미식당 홍대점\n",
      "  주소 서울특별시 마포구 서교동 347-24\n",
      "top 9 인생닭강정 장승백이점\n",
      "  주소 서울특별시 동작구 상도동 364-23\n",
      "top 10 성수동 대림창고\n",
      "  주소 서울특별시 성동구 성수동2가 322-32 대림창고\n"
     ]
    }
   ],
   "source": [
    "sim_item(vec, global_df, 3477158, 10)"
   ]
  },
  {
   "cell_type": "code",
   "execution_count": 228,
   "metadata": {},
   "outputs": [
    {
     "data": {
      "text/plain": [
       "'해당 호텔 정보가 없습니다. 다른 호텔을 입력해주세요.'"
      ]
     },
     "execution_count": 228,
     "metadata": {},
     "output_type": "execute_result"
    }
   ],
   "source": [
    "sim_item(vec, global_df, 0, 10)"
   ]
  },
  {
   "cell_type": "code",
   "execution_count": 229,
   "metadata": {
    "scrolled": true
   },
   "outputs": [
    {
     "name": "stdout",
     "output_type": "stream",
     "text": [
      "input hotel: ibis styles Ambassador Seoul Gangnam\n",
      "----------\n",
      "top 1 감동식당\n",
      "  주소 서울특별시 노원구 상계동 434-49\n",
      "top 2 인하순대국\n",
      "  주소 서울특별시 서초구 서초동 1555-16\n",
      "top 3 라떼또뜨\n",
      "  주소 서울특별시 서초구 방배동 875-1\n",
      "top 4 상도늘보리 본점\n",
      "  주소 서울특별시 동작구 상도2동 367-6\n",
      "top 5 비파티세리\n",
      "  주소 서울특별시 강남구 신사동 546-17 인자빌딩\n",
      "top 6 매화반점\n",
      "  주소 서울특별시 광진구 자양4동 4-11\n",
      "top 7 등촌샤브칼국수\n",
      "  주소 서울특별시 송파구 문정동 76-3\n",
      "top 8 원조양평해장국직영점\n",
      "  주소 서울특별시 은평구 갈현동 460-18\n",
      "top 9 우리집김밥 서초점\n",
      "  주소 서울특별시 서초구 서초동 1330-11 금성상가\n",
      "top 10 일상밥상\n",
      "  주소 서울특별시 양천구 목동 905-22 목동트윈빌\n"
     ]
    }
   ],
   "source": [
    "sim_item(vec, global_df, 299533, 10)"
   ]
  },
  {
   "cell_type": "code",
   "execution_count": 713,
   "metadata": {
    "scrolled": true
   },
   "outputs": [
    {
     "name": "stdout",
     "output_type": "stream",
     "text": [
      "input hotel: Best Western Premier Seoul Garden Hotel\n",
      "----------\n",
      "top 1 미추원주추어탕서울본점\n",
      "  주소 서울특별시 관악구 봉천동 1595-8\n",
      "top 2 빠리가옥\n",
      "  주소 서울특별시 종로구 익선동 166-26\n",
      "top 3 다담\n",
      "  주소 서울특별시 강남구 청담동 97-1 M빌딩\n",
      "top 4 깐부치킨 신사역점\n",
      "  주소 서울특별시 강남구 신사동 514-5\n",
      "top 5 스위트스페이스 현대시티아루렛동대문점\n",
      "  주소 서울특별시 중구 을지로6가 17-2 현대시티타워\n",
      "top 6 크앙분식 - 혜화본점\n",
      "  주소 서울특별시 종로구 연건동 195-38\n",
      "top 7 호치킨 창동역점\n",
      "  주소 서울특별시 도봉구 창동 75-13\n",
      "top 8 Guksuga\n",
      "  주소 서울특별시 중구 충무로5가 86-3\n",
      "top 9 인생닭강정\n",
      "  주소 서울특별시 성북구 동선동1가 85-97\n",
      "top 10 소피스티케이크\n",
      "  주소 서울특별시 마포구 서교동 396-54\n"
     ]
    }
   ],
   "source": [
    "sim_item(vec, global_df, 299152, 10)"
   ]
  },
  {
   "cell_type": "code",
   "execution_count": 714,
   "metadata": {
    "scrolled": true
   },
   "outputs": [
    {
     "name": "stdout",
     "output_type": "stream",
     "text": [
      "input hotel: ibis budget Ambassador Seoul Dongdaemun\n",
      "----------\n",
      "top 1 바나프레소 길동역점\n",
      "  주소 서울특별시 강동구 길동 366-5\n",
      "top 2 진대포\n",
      "  주소 서울특별시 용산구 갈월동 98-1\n",
      "top 3 충무로쭈꾸미불고기\n",
      "  주소 서울특별시 중구 필동1가 3-20\n",
      "top 4 마녀김밥 노들점\n",
      "  주소 서울특별시 용산구 이촌동 302-146\n",
      "top 5 홀리차우\n",
      "  주소 서울특별시 중구 명동1가 8-1\n",
      "top 6 스타벅스 쌍문역점\n",
      "  주소 서울특별시 도봉구 창동 659-5\n",
      "top 7 김밥천국\n",
      "  주소 서울특별시 마포구 망원동 395-4\n",
      "top 8 내고향횡성한우정육점식당\n",
      "  주소 서울특별시 송파구 방이동 66-3 석촌씨티빌딩\n",
      "top 9 가야랑\n",
      "  주소 서울특별시 용산구 이태원2동 239-4\n",
      "top 10 돈수작 건대점\n",
      "  주소 서울특별시 광진구 화양동 9-19\n"
     ]
    }
   ],
   "source": [
    "sim_item(vec, global_df, 6998634, 10)"
   ]
  },
  {
   "cell_type": "code",
   "execution_count": 715,
   "metadata": {
    "scrolled": true
   },
   "outputs": [
    {
     "name": "stdout",
     "output_type": "stream",
     "text": [
      "input hotel: Banyan Tree Club & Spa Seoul\n",
      "----------\n",
      "top 1 조아저씨김치찌개와막겹구이\n",
      "  주소 서울특별시 중구 서소문동 23\n",
      "top 2 탐앤탐스\n",
      "  주소 서울특별시 서초구 반포동 20-45 반포자이플라자\n",
      "top 3 황소고집\n",
      "  주소 서울특별시 종로구 관철동 11-11\n",
      "top 4 서울감자탕\n",
      "  주소 서울특별시 강동구 성내동 199-11\n",
      "top 5 써브웨이 상암DMC푸르지오시티점\n",
      "  주소 서울특별시 마포구 상암동 1596 상암DMC푸르지오시티, S-City\n",
      "top 6 밥이답이다 신촌세브란스병원점\n",
      "  주소 서울특별시 서대문구 신촌동 134 신촌세브란스병원\n",
      "top 7 모힝\n",
      "  주소 서울특별시 관악구 봉천동 1598-6\n",
      "top 8 푸주옥\n",
      "  주소 서울특별시 양천구 신정동 1290-2\n",
      "top 9 마포 갈매기\n",
      "  주소 서울특별시 마포구 도화동 194-8\n",
      "top 10 돈암동찌개\n",
      "  주소 서울특별시 강북구 수유동 191-66\n"
     ]
    }
   ],
   "source": [
    "sim_item(vec, global_df, 1796658, 10)"
   ]
  },
  {
   "cell_type": "code",
   "execution_count": 716,
   "metadata": {
    "scrolled": true
   },
   "outputs": [
    {
     "name": "stdout",
     "output_type": "stream",
     "text": [
      "input hotel: Grand InterContinental Seoul Parnas\n",
      "----------\n",
      "top 1 곳온니플레이스\n",
      "  주소 서울특별시 영등포구 여의도동 17 여의도더샵아일랜드파크\n",
      "top 2 풀향기\n",
      "  주소 서울특별시 용산구 한남동 726-54 풀향기(음식점)\n",
      "top 3 센터커피\n",
      "  주소 서울 성동구 서울숲2길 28-11 2층\n",
      "top 4 그랜드뮤즈\n",
      "  주소 서울특별시 용산구 한남동 726-419\n",
      "top 5 달구벌반점\n",
      "  주소 서울특별시 성동구 성수동2가 278-25\n",
      "top 6 정성본 샤브수끼 칼국수 강남역점\n",
      "  주소 서울특별시 서초구 서초동 1321-9 풍림아이원매직\n",
      "top 7 브릭하우스76\n",
      "  주소 서울특별시 은평구 역촌동 35-29\n",
      "top 8 장군갈비\n",
      "  주소 서울특별시 영등포구 문래동3가 55-5 로데오 왘 쇼핑몰\n",
      "top 9 담소소사골순대육개장 가산디지털점\n",
      "  주소 서울특별시 금천구 가산동 60-11 스타밸리\n",
      "top 10 평양냉면\n",
      "  주소 서울특별시 구로구 오류동 13-55\n"
     ]
    }
   ],
   "source": [
    "sim_item(vec, global_df, 306118, 10)"
   ]
  },
  {
   "cell_type": "code",
   "execution_count": null,
   "metadata": {},
   "outputs": [],
   "source": []
  },
  {
   "cell_type": "code",
   "execution_count": null,
   "metadata": {},
   "outputs": [],
   "source": []
  }
 ],
 "metadata": {
  "kernelspec": {
   "display_name": "Python 3",
   "language": "python",
   "name": "python3"
  },
  "language_info": {
   "codemirror_mode": {
    "name": "ipython",
    "version": 3
   },
   "file_extension": ".py",
   "mimetype": "text/x-python",
   "name": "python",
   "nbconvert_exporter": "python",
   "pygments_lexer": "ipython3",
   "version": "3.7.6"
  }
 },
 "nbformat": 4,
 "nbformat_minor": 4
}
