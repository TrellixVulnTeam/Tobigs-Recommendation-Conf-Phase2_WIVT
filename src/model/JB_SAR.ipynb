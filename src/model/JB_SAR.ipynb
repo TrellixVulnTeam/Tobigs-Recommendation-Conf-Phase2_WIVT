{
  "cells": [
    {
      "cell_type": "markdown",
      "metadata": {
        "id": "K9wsNC75Rvhz",
        "colab_type": "text"
      },
      "source": [
        "# SAR \n",
        "* cooccurrence : 성능 그나마 아주 아주 아주 쪼끔 나옴 \n",
        "* jaccard, lift : 성능 0...ㅎ"
      ]
    },
    {
      "cell_type": "markdown",
      "metadata": {},
      "source": [
        "## 1. Load Data"
      ]
    },
    {
      "cell_type": "code",
      "metadata": {
        "id": "7g4yfub4IjPj",
        "colab_type": "code",
        "colab": {
          "base_uri": "https://localhost:8080/",
          "height": 204
        },
        "outputId": "f292d201-3d20-40ba-eca1-a801c7a3a5f3"
      },
      "source": [
        "import pandas as pd\n",
        "import numpy as np\n",
        "import re\n",
        "pd.set_option('display.max_columns', 25)\n",
        "\n",
        "df = pd.read_csv(os.path.join(\"..\",\"..\",\"data\",\"TA_User_Reviws_Korea_all_new_df.csv\"))\n",
        "df.head()"
      ],
      "execution_count": 26,
      "outputs": [
        {
          "output_type": "execute_result",
          "data": {
            "text/plain": "   userID  rating  location.locationId       location.name location.placeType  \\\n0       0       4               306130   Lotte Hotel Seoul      ACCOMMODATION   \n1       0       2              6352819          VIP TRAVEL         ATTRACTION   \n2       1       5              9033360         Haagen Dazs             EATERY   \n3       1       5              9017499             Gongcha             EATERY   \n4       1       5              4076062  Mr. Pizza Terminal             EATERY   \n\n   location.reviewSummary.count  location.reviewSummary.rating  \\\n0                        4033.0                            4.5   \n1                         276.0                            4.5   \n2                          10.0                            4.5   \n3                           8.0                            4.0   \n4                           7.0                            4.0   \n\n   location.reviewSummary.locationId tripInfo.stayDate  \\\n0                           306130.0        2016-02-29   \n1                          6352819.0        2016-02-29   \n2                          9033360.0        2015-08-31   \n3                          9017499.0        2015-11-30   \n4                          4076062.0        2015-06-30   \n\n  userProfile.hometown.location.name  \n0                            Jakarta  \n1                            Jakarta  \n2                              Seoul  \n3                              Seoul  \n4                              Seoul  ",
            "text/html": "<div>\n<style scoped>\n    .dataframe tbody tr th:only-of-type {\n        vertical-align: middle;\n    }\n\n    .dataframe tbody tr th {\n        vertical-align: top;\n    }\n\n    .dataframe thead th {\n        text-align: right;\n    }\n</style>\n<table border=\"1\" class=\"dataframe\">\n  <thead>\n    <tr style=\"text-align: right;\">\n      <th></th>\n      <th>userID</th>\n      <th>rating</th>\n      <th>location.locationId</th>\n      <th>location.name</th>\n      <th>location.placeType</th>\n      <th>location.reviewSummary.count</th>\n      <th>location.reviewSummary.rating</th>\n      <th>location.reviewSummary.locationId</th>\n      <th>tripInfo.stayDate</th>\n      <th>userProfile.hometown.location.name</th>\n    </tr>\n  </thead>\n  <tbody>\n    <tr>\n      <th>0</th>\n      <td>0</td>\n      <td>4</td>\n      <td>306130</td>\n      <td>Lotte Hotel Seoul</td>\n      <td>ACCOMMODATION</td>\n      <td>4033.0</td>\n      <td>4.5</td>\n      <td>306130.0</td>\n      <td>2016-02-29</td>\n      <td>Jakarta</td>\n    </tr>\n    <tr>\n      <th>1</th>\n      <td>0</td>\n      <td>2</td>\n      <td>6352819</td>\n      <td>VIP TRAVEL</td>\n      <td>ATTRACTION</td>\n      <td>276.0</td>\n      <td>4.5</td>\n      <td>6352819.0</td>\n      <td>2016-02-29</td>\n      <td>Jakarta</td>\n    </tr>\n    <tr>\n      <th>2</th>\n      <td>1</td>\n      <td>5</td>\n      <td>9033360</td>\n      <td>Haagen Dazs</td>\n      <td>EATERY</td>\n      <td>10.0</td>\n      <td>4.5</td>\n      <td>9033360.0</td>\n      <td>2015-08-31</td>\n      <td>Seoul</td>\n    </tr>\n    <tr>\n      <th>3</th>\n      <td>1</td>\n      <td>5</td>\n      <td>9017499</td>\n      <td>Gongcha</td>\n      <td>EATERY</td>\n      <td>8.0</td>\n      <td>4.0</td>\n      <td>9017499.0</td>\n      <td>2015-11-30</td>\n      <td>Seoul</td>\n    </tr>\n    <tr>\n      <th>4</th>\n      <td>1</td>\n      <td>5</td>\n      <td>4076062</td>\n      <td>Mr. Pizza Terminal</td>\n      <td>EATERY</td>\n      <td>7.0</td>\n      <td>4.0</td>\n      <td>4076062.0</td>\n      <td>2015-06-30</td>\n      <td>Seoul</td>\n    </tr>\n  </tbody>\n</table>\n</div>"
          },
          "metadata": {},
          "execution_count": 26
        }
      ]
    },
    {
      "cell_type": "code",
      "metadata": {
        "id": "b4z0kRK_JXii",
        "colab_type": "code",
        "colab": {
          "base_uri": "https://localhost:8080/",
          "height": 204
        },
        "outputId": "9dbb4137-a134-4553-d356-75b17f61b9ca"
      },
      "source": [
        "COLUMNS = ['userID', 'location.locationId', 'rating', 'tripInfo.stayDate']\n",
        "df = df.loc[:,COLUMNS]\n",
        "df.head()"
      ],
      "execution_count": 33,
      "outputs": [
        {
          "output_type": "execute_result",
          "data": {
            "text/plain": "   userID  location.locationId  rating tripInfo.stayDate\n0       0               306130       4        2016-02-29\n1       0              6352819       2        2016-02-29\n2       1              9033360       5        2015-08-31\n3       1              9017499       5        2015-11-30\n4       1              4076062       5        2015-06-30",
            "text/html": "<div>\n<style scoped>\n    .dataframe tbody tr th:only-of-type {\n        vertical-align: middle;\n    }\n\n    .dataframe tbody tr th {\n        vertical-align: top;\n    }\n\n    .dataframe thead th {\n        text-align: right;\n    }\n</style>\n<table border=\"1\" class=\"dataframe\">\n  <thead>\n    <tr style=\"text-align: right;\">\n      <th></th>\n      <th>userID</th>\n      <th>location.locationId</th>\n      <th>rating</th>\n      <th>tripInfo.stayDate</th>\n    </tr>\n  </thead>\n  <tbody>\n    <tr>\n      <th>0</th>\n      <td>0</td>\n      <td>306130</td>\n      <td>4</td>\n      <td>2016-02-29</td>\n    </tr>\n    <tr>\n      <th>1</th>\n      <td>0</td>\n      <td>6352819</td>\n      <td>2</td>\n      <td>2016-02-29</td>\n    </tr>\n    <tr>\n      <th>2</th>\n      <td>1</td>\n      <td>9033360</td>\n      <td>5</td>\n      <td>2015-08-31</td>\n    </tr>\n    <tr>\n      <th>3</th>\n      <td>1</td>\n      <td>9017499</td>\n      <td>5</td>\n      <td>2015-11-30</td>\n    </tr>\n    <tr>\n      <th>4</th>\n      <td>1</td>\n      <td>4076062</td>\n      <td>5</td>\n      <td>2015-06-30</td>\n    </tr>\n  </tbody>\n</table>\n</div>"
          },
          "metadata": {},
          "execution_count": 33
        }
      ]
    },
    {
      "cell_type": "markdown",
      "metadata": {},
      "source": [
        "## 2. git\n",
        "* https://github.com/microsoft/recommenders/tree/master/reco_utils/recommender/sar "
      ]
    },
    {
      "cell_type": "code",
      "execution_count": null,
      "metadata": {},
      "outputs": [],
      "source": [
        "pip install git+https://github.com/microsoft/recommenders "
      ]
    },
    {
      "cell_type": "code",
      "metadata": {
        "id": "lXRffjxRJxPt",
        "colab_type": "code",
        "colab": {}
      },
      "source": [
        "import sys\n",
        "sys.path.append(\"../../\")\n",
        "\n",
        "import itertools\n",
        "import logging\n",
        "import os\n",
        "\n",
        "import papermill as pm\n",
        "\n",
        "from reco_utils.dataset.python_splitters import python_stratified_split\n",
        "from reco_utils.evaluation.python_evaluation import map_at_k, ndcg_at_k, precision_at_k, recall_at_k\n",
        "from reco_utils.recommender.sar.sar_singlenode import SARSingleNode"
      ],
      "execution_count": 3,
      "outputs": []
    },
    {
      "cell_type": "code",
      "metadata": {
        "id": "4TSLBFglLEYL",
        "colab_type": "code",
        "colab": {}
      },
      "source": [
        "import datetime\n",
        "import time "
      ],
      "execution_count": 4,
      "outputs": []
    },
    {
      "cell_type": "markdown",
      "metadata": {},
      "source": [
        "## 3. Data Preprocessing "
      ]
    },
    {
      "cell_type": "code",
      "metadata": {
        "id": "2kGlEvAbKcKS",
        "colab_type": "code",
        "colab": {}
      },
      "source": [
        "# top k items to recommend\n",
        "TOP_K = 10\n",
        "DATA_SIZE = df.shape[0]"
      ],
      "execution_count": 5,
      "outputs": []
    },
    {
      "cell_type": "code",
      "metadata": {
        "id": "gY0NP7k9KuBo",
        "colab_type": "code",
        "colab": {}
      },
      "source": [
        "df[\"tripInfo.stayDate\"] = df.apply(lambda x : time.mktime(datetime.datetime.strptime(x[\"tripInfo.stayDate\"], \"%Y-%m-%d\").timetuple()), axis=1)"
      ],
      "execution_count": 34,
      "outputs": []
    },
    {
      "cell_type": "code",
      "metadata": {
        "id": "zpc7xkpGMTjs",
        "colab_type": "code",
        "colab": {
          "base_uri": "https://localhost:8080/",
          "height": 204
        },
        "outputId": "6a71112d-6974-40b5-a7cf-cb27efc70e3f"
      },
      "source": [
        "df.head()"
      ],
      "execution_count": 35,
      "outputs": [
        {
          "output_type": "execute_result",
          "data": {
            "text/plain": "   userID  location.locationId  rating  tripInfo.stayDate\n0       0               306130       4       1.456672e+09\n1       0              6352819       2       1.456672e+09\n2       1              9033360       5       1.440947e+09\n3       1              9017499       5       1.448809e+09\n4       1              4076062       5       1.435590e+09",
            "text/html": "<div>\n<style scoped>\n    .dataframe tbody tr th:only-of-type {\n        vertical-align: middle;\n    }\n\n    .dataframe tbody tr th {\n        vertical-align: top;\n    }\n\n    .dataframe thead th {\n        text-align: right;\n    }\n</style>\n<table border=\"1\" class=\"dataframe\">\n  <thead>\n    <tr style=\"text-align: right;\">\n      <th></th>\n      <th>userID</th>\n      <th>location.locationId</th>\n      <th>rating</th>\n      <th>tripInfo.stayDate</th>\n    </tr>\n  </thead>\n  <tbody>\n    <tr>\n      <th>0</th>\n      <td>0</td>\n      <td>306130</td>\n      <td>4</td>\n      <td>1.456672e+09</td>\n    </tr>\n    <tr>\n      <th>1</th>\n      <td>0</td>\n      <td>6352819</td>\n      <td>2</td>\n      <td>1.456672e+09</td>\n    </tr>\n    <tr>\n      <th>2</th>\n      <td>1</td>\n      <td>9033360</td>\n      <td>5</td>\n      <td>1.440947e+09</td>\n    </tr>\n    <tr>\n      <th>3</th>\n      <td>1</td>\n      <td>9017499</td>\n      <td>5</td>\n      <td>1.448809e+09</td>\n    </tr>\n    <tr>\n      <th>4</th>\n      <td>1</td>\n      <td>4076062</td>\n      <td>5</td>\n      <td>1.435590e+09</td>\n    </tr>\n  </tbody>\n</table>\n</div>"
          },
          "metadata": {},
          "execution_count": 35
        }
      ]
    },
    {
      "cell_type": "code",
      "metadata": {
        "id": "8NbjnqcIO0ph",
        "colab_type": "code",
        "colab": {}
      },
      "source": [
        "header = {\n",
        "    \"col_user\": \"userID\",\n",
        "    \"col_item\": \"location.locationId\",\n",
        "    \"col_rating\": \"rating\",\n",
        "    \"col_timestamp\": \"tripInfo.stayDate\",\n",
        "}"
      ],
      "execution_count": 36,
      "outputs": []
    },
    {
      "cell_type": "code",
      "metadata": {
        "id": "2cDSvrU7PWQV",
        "colab_type": "code",
        "colab": {}
      },
      "source": [
        "train, test = python_stratified_split(df, ratio=0.75, col_user=header[\"col_user\"], col_item=header[\"col_item\"], seed=42)"
      ],
      "execution_count": 37,
      "outputs": []
    },
    {
      "cell_type": "code",
      "metadata": {
        "id": "X8Qqx3f6PZyM",
        "colab_type": "code",
        "colab": {
          "base_uri": "https://localhost:8080/",
          "height": 35
        },
        "outputId": "3d0fe105-5947-4aac-a145-9337d5fb3034"
      },
      "source": [
        "print(train.shape, test.shape)"
      ],
      "execution_count": 38,
      "outputs": [
        {
          "output_type": "stream",
          "name": "stdout",
          "text": "(22167, 4) (6394, 4)\n"
        }
      ]
    },
    {
      "cell_type": "markdown",
      "metadata": {},
      "source": [
        "## 4. Modeling "
      ]
    },
    {
      "cell_type": "code",
      "metadata": {
        "id": "nWw0in7TPmrt",
        "colab_type": "code",
        "colab": {}
      },
      "source": [
        "model = SARSingleNode(\n",
        "    similarity_type=\"cooccurrence\", # jaccard, lift, cooccurrence \n",
        "    time_decay_coefficient=100, # 100일 \n",
        "    time_now=None, \n",
        "    timedecay_formula=True, \n",
        "    **header\n",
        ")"
      ],
      "execution_count": 11,
      "outputs": []
    },
    {
      "cell_type": "code",
      "metadata": {
        "id": "dHztYjd9Pojv",
        "colab_type": "code",
        "colab": {}
      },
      "source": [
        "model.fit(train) # 1초 걸림 "
      ],
      "execution_count": 12,
      "outputs": []
    },
    {
      "cell_type": "code",
      "metadata": {
        "id": "okvhy5EIPrR2",
        "colab_type": "code",
        "colab": {}
      },
      "source": [
        "top_k = model.recommend_k_items(test, remove_seen=True)"
      ],
      "execution_count": 13,
      "outputs": []
    },
    {
      "cell_type": "code",
      "metadata": {
        "id": "8y3AQMZVP5P1",
        "colab_type": "code",
        "colab": {
          "base_uri": "https://localhost:8080/",
          "height": 669
        },
        "outputId": "bbf58866-96ae-4197-f191-36b59ff3cd64"
      },
      "source": [
        "display(top_k.head(20))"
      ],
      "execution_count": 14,
      "outputs": [
        {
          "output_type": "display_data",
          "data": {
            "text/plain": "    userID  location.locationId  prediction\n0        1              1169465    0.001202\n1        1               553546    0.001172\n2        1               324888    0.001117\n3        1              2194168    0.001058\n4        1               301815    0.000873\n5        1               301253    0.000768\n6        1              3477158    0.000735\n7        1               592506    0.000723\n8        1               306139    0.000718\n9        1              1379963    0.000648\n10       2               324888    0.236662\n11       2              1379963    0.155741\n12       2               592506    0.150169\n13       2               320359    0.123903\n14       2              1046419    0.111963\n15       2               324907    0.094453\n16       2               554582    0.090473\n17       2              6671988    0.087554\n18       2               554537    0.078799\n19       2               301815    0.069513",
            "text/html": "<div>\n<style scoped>\n    .dataframe tbody tr th:only-of-type {\n        vertical-align: middle;\n    }\n\n    .dataframe tbody tr th {\n        vertical-align: top;\n    }\n\n    .dataframe thead th {\n        text-align: right;\n    }\n</style>\n<table border=\"1\" class=\"dataframe\">\n  <thead>\n    <tr style=\"text-align: right;\">\n      <th></th>\n      <th>userID</th>\n      <th>location.locationId</th>\n      <th>prediction</th>\n    </tr>\n  </thead>\n  <tbody>\n    <tr>\n      <th>0</th>\n      <td>1</td>\n      <td>1169465</td>\n      <td>0.001202</td>\n    </tr>\n    <tr>\n      <th>1</th>\n      <td>1</td>\n      <td>553546</td>\n      <td>0.001172</td>\n    </tr>\n    <tr>\n      <th>2</th>\n      <td>1</td>\n      <td>324888</td>\n      <td>0.001117</td>\n    </tr>\n    <tr>\n      <th>3</th>\n      <td>1</td>\n      <td>2194168</td>\n      <td>0.001058</td>\n    </tr>\n    <tr>\n      <th>4</th>\n      <td>1</td>\n      <td>301815</td>\n      <td>0.000873</td>\n    </tr>\n    <tr>\n      <th>5</th>\n      <td>1</td>\n      <td>301253</td>\n      <td>0.000768</td>\n    </tr>\n    <tr>\n      <th>6</th>\n      <td>1</td>\n      <td>3477158</td>\n      <td>0.000735</td>\n    </tr>\n    <tr>\n      <th>7</th>\n      <td>1</td>\n      <td>592506</td>\n      <td>0.000723</td>\n    </tr>\n    <tr>\n      <th>8</th>\n      <td>1</td>\n      <td>306139</td>\n      <td>0.000718</td>\n    </tr>\n    <tr>\n      <th>9</th>\n      <td>1</td>\n      <td>1379963</td>\n      <td>0.000648</td>\n    </tr>\n    <tr>\n      <th>10</th>\n      <td>2</td>\n      <td>324888</td>\n      <td>0.236662</td>\n    </tr>\n    <tr>\n      <th>11</th>\n      <td>2</td>\n      <td>1379963</td>\n      <td>0.155741</td>\n    </tr>\n    <tr>\n      <th>12</th>\n      <td>2</td>\n      <td>592506</td>\n      <td>0.150169</td>\n    </tr>\n    <tr>\n      <th>13</th>\n      <td>2</td>\n      <td>320359</td>\n      <td>0.123903</td>\n    </tr>\n    <tr>\n      <th>14</th>\n      <td>2</td>\n      <td>1046419</td>\n      <td>0.111963</td>\n    </tr>\n    <tr>\n      <th>15</th>\n      <td>2</td>\n      <td>324907</td>\n      <td>0.094453</td>\n    </tr>\n    <tr>\n      <th>16</th>\n      <td>2</td>\n      <td>554582</td>\n      <td>0.090473</td>\n    </tr>\n    <tr>\n      <th>17</th>\n      <td>2</td>\n      <td>6671988</td>\n      <td>0.087554</td>\n    </tr>\n    <tr>\n      <th>18</th>\n      <td>2</td>\n      <td>554537</td>\n      <td>0.078799</td>\n    </tr>\n    <tr>\n      <th>19</th>\n      <td>2</td>\n      <td>301815</td>\n      <td>0.069513</td>\n    </tr>\n  </tbody>\n</table>\n</div>"
          },
          "metadata": {}
        }
      ]
    },
    {
      "cell_type": "code",
      "metadata": {
        "id": "rfmFrp-MQcme",
        "colab_type": "code",
        "colab": {
          "base_uri": "https://localhost:8080/",
          "height": 419
        },
        "outputId": "f09a1f65-2398-462b-ecce-d2da761625d3"
      },
      "source": [
        "top_k.loc[top_k[\"prediction\"]!=0] "
      ],
      "execution_count": 15,
      "outputs": [
        {
          "output_type": "execute_result",
          "data": {
            "text/plain": "       userID  location.locationId  prediction\n0           1              1169465    0.001202\n1           1               553546    0.001172\n2           1               324888    0.001117\n3           1              2194168    0.001058\n4           1               301815    0.000873\n...       ...                  ...         ...\n17975    4552               308007    0.013322\n17976    4552              1643534    0.013322\n17977    4552             17678712    0.013322\n17978    4552              3687319    0.013322\n17979    4552               306130    0.013322\n\n[17925 rows x 3 columns]",
            "text/html": "<div>\n<style scoped>\n    .dataframe tbody tr th:only-of-type {\n        vertical-align: middle;\n    }\n\n    .dataframe tbody tr th {\n        vertical-align: top;\n    }\n\n    .dataframe thead th {\n        text-align: right;\n    }\n</style>\n<table border=\"1\" class=\"dataframe\">\n  <thead>\n    <tr style=\"text-align: right;\">\n      <th></th>\n      <th>userID</th>\n      <th>location.locationId</th>\n      <th>prediction</th>\n    </tr>\n  </thead>\n  <tbody>\n    <tr>\n      <th>0</th>\n      <td>1</td>\n      <td>1169465</td>\n      <td>0.001202</td>\n    </tr>\n    <tr>\n      <th>1</th>\n      <td>1</td>\n      <td>553546</td>\n      <td>0.001172</td>\n    </tr>\n    <tr>\n      <th>2</th>\n      <td>1</td>\n      <td>324888</td>\n      <td>0.001117</td>\n    </tr>\n    <tr>\n      <th>3</th>\n      <td>1</td>\n      <td>2194168</td>\n      <td>0.001058</td>\n    </tr>\n    <tr>\n      <th>4</th>\n      <td>1</td>\n      <td>301815</td>\n      <td>0.000873</td>\n    </tr>\n    <tr>\n      <th>...</th>\n      <td>...</td>\n      <td>...</td>\n      <td>...</td>\n    </tr>\n    <tr>\n      <th>17975</th>\n      <td>4552</td>\n      <td>308007</td>\n      <td>0.013322</td>\n    </tr>\n    <tr>\n      <th>17976</th>\n      <td>4552</td>\n      <td>1643534</td>\n      <td>0.013322</td>\n    </tr>\n    <tr>\n      <th>17977</th>\n      <td>4552</td>\n      <td>17678712</td>\n      <td>0.013322</td>\n    </tr>\n    <tr>\n      <th>17978</th>\n      <td>4552</td>\n      <td>3687319</td>\n      <td>0.013322</td>\n    </tr>\n    <tr>\n      <th>17979</th>\n      <td>4552</td>\n      <td>306130</td>\n      <td>0.013322</td>\n    </tr>\n  </tbody>\n</table>\n<p>17925 rows × 3 columns</p>\n</div>"
          },
          "metadata": {},
          "execution_count": 15
        }
      ]
    },
    {
      "cell_type": "code",
      "execution_count": 18,
      "metadata": {},
      "outputs": [
        {
          "output_type": "execute_result",
          "data": {
            "text/plain": "   userID  location.locationId  prediction\n0       1              1169465    0.001202\n1       1               553546    0.001172\n2       1               324888    0.001117\n3       1              2194168    0.001058\n4       1               301815    0.000873\n5       1               301253    0.000768\n6       1              3477158    0.000735\n7       1               592506    0.000723\n8       1               306139    0.000718\n9       1              1379963    0.000648",
            "text/html": "<div>\n<style scoped>\n    .dataframe tbody tr th:only-of-type {\n        vertical-align: middle;\n    }\n\n    .dataframe tbody tr th {\n        vertical-align: top;\n    }\n\n    .dataframe thead th {\n        text-align: right;\n    }\n</style>\n<table border=\"1\" class=\"dataframe\">\n  <thead>\n    <tr style=\"text-align: right;\">\n      <th></th>\n      <th>userID</th>\n      <th>location.locationId</th>\n      <th>prediction</th>\n    </tr>\n  </thead>\n  <tbody>\n    <tr>\n      <th>0</th>\n      <td>1</td>\n      <td>1169465</td>\n      <td>0.001202</td>\n    </tr>\n    <tr>\n      <th>1</th>\n      <td>1</td>\n      <td>553546</td>\n      <td>0.001172</td>\n    </tr>\n    <tr>\n      <th>2</th>\n      <td>1</td>\n      <td>324888</td>\n      <td>0.001117</td>\n    </tr>\n    <tr>\n      <th>3</th>\n      <td>1</td>\n      <td>2194168</td>\n      <td>0.001058</td>\n    </tr>\n    <tr>\n      <th>4</th>\n      <td>1</td>\n      <td>301815</td>\n      <td>0.000873</td>\n    </tr>\n    <tr>\n      <th>5</th>\n      <td>1</td>\n      <td>301253</td>\n      <td>0.000768</td>\n    </tr>\n    <tr>\n      <th>6</th>\n      <td>1</td>\n      <td>3477158</td>\n      <td>0.000735</td>\n    </tr>\n    <tr>\n      <th>7</th>\n      <td>1</td>\n      <td>592506</td>\n      <td>0.000723</td>\n    </tr>\n    <tr>\n      <th>8</th>\n      <td>1</td>\n      <td>306139</td>\n      <td>0.000718</td>\n    </tr>\n    <tr>\n      <th>9</th>\n      <td>1</td>\n      <td>1379963</td>\n      <td>0.000648</td>\n    </tr>\n  </tbody>\n</table>\n</div>"
          },
          "metadata": {},
          "execution_count": 18
        }
      ],
      "source": [
        "user1 = top_k.loc[top_k[\"userID\"]==1]\n",
        "user1"
      ]
    },
    {
      "cell_type": "code",
      "execution_count": 28,
      "metadata": {},
      "outputs": [
        {
          "output_type": "execute_result",
          "data": {
            "text/plain": "   userID  rating  location.locationId       location.name location.placeType  \\\n0       0       4               306130   Lotte Hotel Seoul      ACCOMMODATION   \n1       0       2              6352819          VIP TRAVEL         ATTRACTION   \n2       1       5              9033360         Haagen Dazs             EATERY   \n3       1       5              9017499             Gongcha             EATERY   \n4       1       5              4076062  Mr. Pizza Terminal             EATERY   \n\n   location.reviewSummary.count  location.reviewSummary.rating  \\\n0                        4033.0                            4.5   \n1                         276.0                            4.5   \n2                          10.0                            4.5   \n3                           8.0                            4.0   \n4                           7.0                            4.0   \n\n   location.reviewSummary.locationId tripInfo.stayDate  \\\n0                           306130.0        2016-02-29   \n1                          6352819.0        2016-02-29   \n2                          9033360.0        2015-08-31   \n3                          9017499.0        2015-11-30   \n4                          4076062.0        2015-06-30   \n\n  userProfile.hometown.location.name  \n0                            Jakarta  \n1                            Jakarta  \n2                              Seoul  \n3                              Seoul  \n4                              Seoul  ",
            "text/html": "<div>\n<style scoped>\n    .dataframe tbody tr th:only-of-type {\n        vertical-align: middle;\n    }\n\n    .dataframe tbody tr th {\n        vertical-align: top;\n    }\n\n    .dataframe thead th {\n        text-align: right;\n    }\n</style>\n<table border=\"1\" class=\"dataframe\">\n  <thead>\n    <tr style=\"text-align: right;\">\n      <th></th>\n      <th>userID</th>\n      <th>rating</th>\n      <th>location.locationId</th>\n      <th>location.name</th>\n      <th>location.placeType</th>\n      <th>location.reviewSummary.count</th>\n      <th>location.reviewSummary.rating</th>\n      <th>location.reviewSummary.locationId</th>\n      <th>tripInfo.stayDate</th>\n      <th>userProfile.hometown.location.name</th>\n    </tr>\n  </thead>\n  <tbody>\n    <tr>\n      <th>0</th>\n      <td>0</td>\n      <td>4</td>\n      <td>306130</td>\n      <td>Lotte Hotel Seoul</td>\n      <td>ACCOMMODATION</td>\n      <td>4033.0</td>\n      <td>4.5</td>\n      <td>306130.0</td>\n      <td>2016-02-29</td>\n      <td>Jakarta</td>\n    </tr>\n    <tr>\n      <th>1</th>\n      <td>0</td>\n      <td>2</td>\n      <td>6352819</td>\n      <td>VIP TRAVEL</td>\n      <td>ATTRACTION</td>\n      <td>276.0</td>\n      <td>4.5</td>\n      <td>6352819.0</td>\n      <td>2016-02-29</td>\n      <td>Jakarta</td>\n    </tr>\n    <tr>\n      <th>2</th>\n      <td>1</td>\n      <td>5</td>\n      <td>9033360</td>\n      <td>Haagen Dazs</td>\n      <td>EATERY</td>\n      <td>10.0</td>\n      <td>4.5</td>\n      <td>9033360.0</td>\n      <td>2015-08-31</td>\n      <td>Seoul</td>\n    </tr>\n    <tr>\n      <th>3</th>\n      <td>1</td>\n      <td>5</td>\n      <td>9017499</td>\n      <td>Gongcha</td>\n      <td>EATERY</td>\n      <td>8.0</td>\n      <td>4.0</td>\n      <td>9017499.0</td>\n      <td>2015-11-30</td>\n      <td>Seoul</td>\n    </tr>\n    <tr>\n      <th>4</th>\n      <td>1</td>\n      <td>5</td>\n      <td>4076062</td>\n      <td>Mr. Pizza Terminal</td>\n      <td>EATERY</td>\n      <td>7.0</td>\n      <td>4.0</td>\n      <td>4076062.0</td>\n      <td>2015-06-30</td>\n      <td>Seoul</td>\n    </tr>\n  </tbody>\n</table>\n</div>"
          },
          "metadata": {},
          "execution_count": 28
        }
      ],
      "source": [
        "df.head()"
      ]
    },
    {
      "cell_type": "code",
      "execution_count": 32,
      "metadata": {},
      "outputs": [
        {
          "output_type": "execute_result",
          "data": {
            "text/plain": "   userID  location.locationId  prediction  \\\n0       1              1169465    0.001202   \n1       1               553546    0.001172   \n2       1               324888    0.001117   \n3       1              2194168    0.001058   \n4       1               301815    0.000873   \n5       1               301253    0.000768   \n6       1              3477158    0.000735   \n7       1               592506    0.000723   \n8       1               306139    0.000718   \n9       1              1379963    0.000648   \n\n                           location.name  \n0                          N Seoul Tower  \n1             Myeongdong Shopping Street  \n2                   Gyeongbokgung Palace  \n3                            Seoul Metro  \n4                The Westin Chosun Seoul  \n5                       The Shilla Seoul  \n6                           Conrad Seoul  \n7                               Insadong  \n8  THE PLAZA Seoul, Autograph Collection  \n9                  Bukchon Hanok Village  ",
            "text/html": "<div>\n<style scoped>\n    .dataframe tbody tr th:only-of-type {\n        vertical-align: middle;\n    }\n\n    .dataframe tbody tr th {\n        vertical-align: top;\n    }\n\n    .dataframe thead th {\n        text-align: right;\n    }\n</style>\n<table border=\"1\" class=\"dataframe\">\n  <thead>\n    <tr style=\"text-align: right;\">\n      <th></th>\n      <th>userID</th>\n      <th>location.locationId</th>\n      <th>prediction</th>\n      <th>location.name</th>\n    </tr>\n  </thead>\n  <tbody>\n    <tr>\n      <th>0</th>\n      <td>1</td>\n      <td>1169465</td>\n      <td>0.001202</td>\n      <td>N Seoul Tower</td>\n    </tr>\n    <tr>\n      <th>1</th>\n      <td>1</td>\n      <td>553546</td>\n      <td>0.001172</td>\n      <td>Myeongdong Shopping Street</td>\n    </tr>\n    <tr>\n      <th>2</th>\n      <td>1</td>\n      <td>324888</td>\n      <td>0.001117</td>\n      <td>Gyeongbokgung Palace</td>\n    </tr>\n    <tr>\n      <th>3</th>\n      <td>1</td>\n      <td>2194168</td>\n      <td>0.001058</td>\n      <td>Seoul Metro</td>\n    </tr>\n    <tr>\n      <th>4</th>\n      <td>1</td>\n      <td>301815</td>\n      <td>0.000873</td>\n      <td>The Westin Chosun Seoul</td>\n    </tr>\n    <tr>\n      <th>5</th>\n      <td>1</td>\n      <td>301253</td>\n      <td>0.000768</td>\n      <td>The Shilla Seoul</td>\n    </tr>\n    <tr>\n      <th>6</th>\n      <td>1</td>\n      <td>3477158</td>\n      <td>0.000735</td>\n      <td>Conrad Seoul</td>\n    </tr>\n    <tr>\n      <th>7</th>\n      <td>1</td>\n      <td>592506</td>\n      <td>0.000723</td>\n      <td>Insadong</td>\n    </tr>\n    <tr>\n      <th>8</th>\n      <td>1</td>\n      <td>306139</td>\n      <td>0.000718</td>\n      <td>THE PLAZA Seoul, Autograph Collection</td>\n    </tr>\n    <tr>\n      <th>9</th>\n      <td>1</td>\n      <td>1379963</td>\n      <td>0.000648</td>\n      <td>Bukchon Hanok Village</td>\n    </tr>\n  </tbody>\n</table>\n</div>"
          },
          "metadata": {},
          "execution_count": 32
        }
      ],
      "source": [
        "user1.join(df[['location.locationId', 'location.name']].drop_duplicates().set_index('location.locationId'), \n",
        "                                on='location.locationId', how='left')"
      ]
    },
    {
      "cell_type": "markdown",
      "metadata": {},
      "source": [
        "## 5. Evaluate the Result"
      ]
    },
    {
      "cell_type": "code",
      "metadata": {
        "id": "B03MWu-uQWVu",
        "colab_type": "code",
        "colab": {}
      },
      "source": [
        "# all ranking metrics have the same arguments\n",
        "args = [test, top_k]\n",
        "kwargs = dict(col_user='userID', \n",
        "              col_item='location.locationId', \n",
        "              col_rating='rating', \n",
        "              col_prediction='prediction', \n",
        "              relevancy_method='top_k', \n",
        "              k=TOP_K)\n",
        "\n",
        "eval_map = map_at_k(*args, **kwargs)\n",
        "eval_ndcg = ndcg_at_k(*args, **kwargs)\n",
        "eval_precision = precision_at_k(*args, **kwargs)\n",
        "eval_recall = recall_at_k(*args, **kwargs)"
      ],
      "execution_count": 16,
      "outputs": []
    },
    {
      "cell_type": "code",
      "metadata": {
        "id": "sSvqVDvVQ8Hp",
        "colab_type": "code",
        "colab": {
          "base_uri": "https://localhost:8080/",
          "height": 125
        },
        "outputId": "2059a89c-28b9-4d1a-92af-1e864fbe39dc"
      },
      "source": [
        "print(f\"Model:\",\n",
        "      f\"Top K:\\t\\t {TOP_K}\",\n",
        "      f\"MAP:\\t\\t {eval_map:f}\",\n",
        "      f\"NDCG:\\t\\t {eval_ndcg:f}\",\n",
        "      f\"Precision@K:\\t {eval_precision:f}\",\n",
        "      f\"Recall@K:\\t {eval_recall:f}\", sep='\\n')"
      ],
      "execution_count": 17,
      "outputs": [
        {
          "output_type": "stream",
          "name": "stdout",
          "text": "Model:\nTop K:\t\t 10\nMAP:\t\t 0.101020\nNDCG:\t\t 0.146850\nPrecision@K:\t 0.044605\nRecall@K:\t 0.211364\n"
        }
      ]
    },
    {
      "cell_type": "markdown",
      "metadata": {},
      "source": [
        "### + Lift / Jaccard : 성능 0 ~ "
      ]
    },
    {
      "cell_type": "code",
      "execution_count": 39,
      "metadata": {},
      "outputs": [],
      "source": [
        "model = SARSingleNode(\n",
        "    similarity_type=\"lift\", # jaccard, lift, cooccurrence \n",
        "    time_decay_coefficient=100, # 100일 \n",
        "    time_now=None, \n",
        "    timedecay_formula=True, \n",
        "    **header\n",
        ")"
      ]
    },
    {
      "cell_type": "code",
      "execution_count": 40,
      "metadata": {},
      "outputs": [],
      "source": [
        "model.fit(train) # cooccurrence 보다는 쪼끔 더 걸림 "
      ]
    },
    {
      "cell_type": "code",
      "execution_count": 41,
      "metadata": {},
      "outputs": [],
      "source": [
        "top_k = model.recommend_k_items(test, remove_seen=True)"
      ]
    },
    {
      "cell_type": "code",
      "execution_count": 42,
      "metadata": {},
      "outputs": [
        {
          "output_type": "display_data",
          "data": {
            "text/plain": "    userID  location.locationId  prediction\n0        1              9314172         0.0\n1        1              9070095         0.0\n2        1              7748061         0.0\n3        1              8990236         0.0\n4        1              9003589         0.0\n5        1              9028032         0.0\n6        1              6876823         0.0\n7        1              3938967         0.0\n8        1              8634423         0.0\n9        1             12951821         0.0\n10       2              9127120         0.0\n11       2             11778748         0.0\n12       2              4032868         0.0\n13       2              8965056         0.0\n14       2              9066867         0.0\n15       2              8969006         0.0\n16       2              9401054         0.0\n17       2             10915548         0.0\n18       2             10376613         0.0\n19       2             12951821         0.0",
            "text/html": "<div>\n<style scoped>\n    .dataframe tbody tr th:only-of-type {\n        vertical-align: middle;\n    }\n\n    .dataframe tbody tr th {\n        vertical-align: top;\n    }\n\n    .dataframe thead th {\n        text-align: right;\n    }\n</style>\n<table border=\"1\" class=\"dataframe\">\n  <thead>\n    <tr style=\"text-align: right;\">\n      <th></th>\n      <th>userID</th>\n      <th>location.locationId</th>\n      <th>prediction</th>\n    </tr>\n  </thead>\n  <tbody>\n    <tr>\n      <th>0</th>\n      <td>1</td>\n      <td>9314172</td>\n      <td>0.0</td>\n    </tr>\n    <tr>\n      <th>1</th>\n      <td>1</td>\n      <td>9070095</td>\n      <td>0.0</td>\n    </tr>\n    <tr>\n      <th>2</th>\n      <td>1</td>\n      <td>7748061</td>\n      <td>0.0</td>\n    </tr>\n    <tr>\n      <th>3</th>\n      <td>1</td>\n      <td>8990236</td>\n      <td>0.0</td>\n    </tr>\n    <tr>\n      <th>4</th>\n      <td>1</td>\n      <td>9003589</td>\n      <td>0.0</td>\n    </tr>\n    <tr>\n      <th>5</th>\n      <td>1</td>\n      <td>9028032</td>\n      <td>0.0</td>\n    </tr>\n    <tr>\n      <th>6</th>\n      <td>1</td>\n      <td>6876823</td>\n      <td>0.0</td>\n    </tr>\n    <tr>\n      <th>7</th>\n      <td>1</td>\n      <td>3938967</td>\n      <td>0.0</td>\n    </tr>\n    <tr>\n      <th>8</th>\n      <td>1</td>\n      <td>8634423</td>\n      <td>0.0</td>\n    </tr>\n    <tr>\n      <th>9</th>\n      <td>1</td>\n      <td>12951821</td>\n      <td>0.0</td>\n    </tr>\n    <tr>\n      <th>10</th>\n      <td>2</td>\n      <td>9127120</td>\n      <td>0.0</td>\n    </tr>\n    <tr>\n      <th>11</th>\n      <td>2</td>\n      <td>11778748</td>\n      <td>0.0</td>\n    </tr>\n    <tr>\n      <th>12</th>\n      <td>2</td>\n      <td>4032868</td>\n      <td>0.0</td>\n    </tr>\n    <tr>\n      <th>13</th>\n      <td>2</td>\n      <td>8965056</td>\n      <td>0.0</td>\n    </tr>\n    <tr>\n      <th>14</th>\n      <td>2</td>\n      <td>9066867</td>\n      <td>0.0</td>\n    </tr>\n    <tr>\n      <th>15</th>\n      <td>2</td>\n      <td>8969006</td>\n      <td>0.0</td>\n    </tr>\n    <tr>\n      <th>16</th>\n      <td>2</td>\n      <td>9401054</td>\n      <td>0.0</td>\n    </tr>\n    <tr>\n      <th>17</th>\n      <td>2</td>\n      <td>10915548</td>\n      <td>0.0</td>\n    </tr>\n    <tr>\n      <th>18</th>\n      <td>2</td>\n      <td>10376613</td>\n      <td>0.0</td>\n    </tr>\n    <tr>\n      <th>19</th>\n      <td>2</td>\n      <td>12951821</td>\n      <td>0.0</td>\n    </tr>\n  </tbody>\n</table>\n</div>"
          },
          "metadata": {}
        }
      ],
      "source": [
        "display(top_k.head(20))"
      ]
    },
    {
      "cell_type": "code",
      "execution_count": 43,
      "metadata": {},
      "outputs": [
        {
          "output_type": "execute_result",
          "data": {
            "text/plain": "Empty DataFrame\nColumns: [userID, location.locationId, prediction]\nIndex: []",
            "text/html": "<div>\n<style scoped>\n    .dataframe tbody tr th:only-of-type {\n        vertical-align: middle;\n    }\n\n    .dataframe tbody tr th {\n        vertical-align: top;\n    }\n\n    .dataframe thead th {\n        text-align: right;\n    }\n</style>\n<table border=\"1\" class=\"dataframe\">\n  <thead>\n    <tr style=\"text-align: right;\">\n      <th></th>\n      <th>userID</th>\n      <th>location.locationId</th>\n      <th>prediction</th>\n    </tr>\n  </thead>\n  <tbody>\n  </tbody>\n</table>\n</div>"
          },
          "metadata": {},
          "execution_count": 43
        }
      ],
      "source": [
        "top_k.loc[top_k[\"prediction\"] != 0]"
      ]
    },
    {
      "cell_type": "code",
      "execution_count": 44,
      "metadata": {},
      "outputs": [],
      "source": [
        "# all ranking metrics have the same arguments\n",
        "args = [test, top_k]\n",
        "kwargs = dict(col_user='userID', \n",
        "              col_item='location.locationId', \n",
        "              col_rating='rating', \n",
        "              col_prediction='prediction', \n",
        "              relevancy_method='top_k', \n",
        "              k=TOP_K)\n",
        "\n",
        "eval_map = map_at_k(*args, **kwargs)\n",
        "eval_ndcg = ndcg_at_k(*args, **kwargs)\n",
        "eval_precision = precision_at_k(*args, **kwargs)\n",
        "eval_recall = recall_at_k(*args, **kwargs)"
      ]
    },
    {
      "cell_type": "code",
      "execution_count": 45,
      "metadata": {},
      "outputs": [
        {
          "output_type": "stream",
          "name": "stdout",
          "text": "Model:\nTop K:\t\t 10\nMAP:\t\t 0.000012\nNDCG:\t\t 0.000245\nPrecision@K:\t 0.000111\nRecall@K:\t 0.000012\n"
        }
      ],
      "source": [
        "print(f\"Model:\",\n",
        "      f\"Top K:\\t\\t {TOP_K}\",\n",
        "      f\"MAP:\\t\\t {eval_map:f}\",\n",
        "      f\"NDCG:\\t\\t {eval_ndcg:f}\",\n",
        "      f\"Precision@K:\\t {eval_precision:f}\",\n",
        "      f\"Recall@K:\\t {eval_recall:f}\", sep='\\n')"
      ]
    }
  ],
  "metadata": {
    "colab": {
      "name": "JB_SAR.ipynb",
      "provenance": [],
      "collapsed_sections": []
    },
    "kernelspec": {
      "name": "python3",
      "display_name": "Python 3"
    },
    "accelerator": "GPU"
  },
  "nbformat": 4,
  "nbformat_minor": 0
}