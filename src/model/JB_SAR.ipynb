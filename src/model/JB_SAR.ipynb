{
  "cells": [
    {
      "cell_type": "markdown",
      "metadata": {
        "id": "K9wsNC75Rvhz",
        "colab_type": "text"
      },
      "source": [
        "# SAR \n",
        "* cooccurrence : 성능 그나마 아주 아주 아주 쪼끔 나옴 \n",
        "* jaccard, lift : 성능 0...ㅎ"
      ]
    },
    {
      "cell_type": "markdown",
      "metadata": {},
      "source": [
        "## 1. Load Data"
      ]
    },
    {
      "cell_type": "code",
      "metadata": {
        "id": "7g4yfub4IjPj",
        "colab_type": "code",
        "colab": {
          "base_uri": "https://localhost:8080/",
          "height": 204
        },
        "outputId": "f292d201-3d20-40ba-eca1-a801c7a3a5f3"
      },
      "source": [
        "import pandas as pd\n",
        "import numpy as np\n",
        "import re\n",
        "pd.set_option('display.max_columns', 25)\n",
        "\n",
        "df = pd.read_csv(os.path.join(\"..\",\"..\",\"data\",\"TA_User_Reviws_Korea_all_new_df.csv\")\n",
        "df.head()"
      ],
      "execution_count": 3,
      "outputs": [
        {
          "output_type": "execute_result",
          "data": {
            "text/html": [
              "<div>\n",
              "<style scoped>\n",
              "    .dataframe tbody tr th:only-of-type {\n",
              "        vertical-align: middle;\n",
              "    }\n",
              "\n",
              "    .dataframe tbody tr th {\n",
              "        vertical-align: top;\n",
              "    }\n",
              "\n",
              "    .dataframe thead th {\n",
              "        text-align: right;\n",
              "    }\n",
              "</style>\n",
              "<table border=\"1\" class=\"dataframe\">\n",
              "  <thead>\n",
              "    <tr style=\"text-align: right;\">\n",
              "      <th></th>\n",
              "      <th>userID</th>\n",
              "      <th>rating</th>\n",
              "      <th>location.locationId</th>\n",
              "      <th>location.name</th>\n",
              "      <th>location.placeType</th>\n",
              "      <th>location.reviewSummary.count</th>\n",
              "      <th>location.reviewSummary.rating</th>\n",
              "      <th>location.reviewSummary.locationId</th>\n",
              "      <th>tripInfo.stayDate</th>\n",
              "      <th>userProfile.hometown.location.name</th>\n",
              "    </tr>\n",
              "  </thead>\n",
              "  <tbody>\n",
              "    <tr>\n",
              "      <th>0</th>\n",
              "      <td>0</td>\n",
              "      <td>4</td>\n",
              "      <td>306130</td>\n",
              "      <td>Lotte Hotel Seoul</td>\n",
              "      <td>ACCOMMODATION</td>\n",
              "      <td>4033.0</td>\n",
              "      <td>4.5</td>\n",
              "      <td>306130.0</td>\n",
              "      <td>2016-02-29</td>\n",
              "      <td>Jakarta</td>\n",
              "    </tr>\n",
              "    <tr>\n",
              "      <th>1</th>\n",
              "      <td>0</td>\n",
              "      <td>2</td>\n",
              "      <td>6352819</td>\n",
              "      <td>VIP TRAVEL</td>\n",
              "      <td>ATTRACTION</td>\n",
              "      <td>276.0</td>\n",
              "      <td>4.5</td>\n",
              "      <td>6352819.0</td>\n",
              "      <td>2016-02-29</td>\n",
              "      <td>Jakarta</td>\n",
              "    </tr>\n",
              "    <tr>\n",
              "      <th>2</th>\n",
              "      <td>1</td>\n",
              "      <td>5</td>\n",
              "      <td>9033360</td>\n",
              "      <td>Haagen Dazs</td>\n",
              "      <td>EATERY</td>\n",
              "      <td>10.0</td>\n",
              "      <td>4.5</td>\n",
              "      <td>9033360.0</td>\n",
              "      <td>2015-08-31</td>\n",
              "      <td>Seoul</td>\n",
              "    </tr>\n",
              "    <tr>\n",
              "      <th>3</th>\n",
              "      <td>1</td>\n",
              "      <td>5</td>\n",
              "      <td>9017499</td>\n",
              "      <td>Gongcha</td>\n",
              "      <td>EATERY</td>\n",
              "      <td>8.0</td>\n",
              "      <td>4.0</td>\n",
              "      <td>9017499.0</td>\n",
              "      <td>2015-11-30</td>\n",
              "      <td>Seoul</td>\n",
              "    </tr>\n",
              "    <tr>\n",
              "      <th>4</th>\n",
              "      <td>1</td>\n",
              "      <td>5</td>\n",
              "      <td>4076062</td>\n",
              "      <td>Mr. Pizza Terminal</td>\n",
              "      <td>EATERY</td>\n",
              "      <td>7.0</td>\n",
              "      <td>4.0</td>\n",
              "      <td>4076062.0</td>\n",
              "      <td>2015-06-30</td>\n",
              "      <td>Seoul</td>\n",
              "    </tr>\n",
              "  </tbody>\n",
              "</table>\n",
              "</div>"
            ],
            "text/plain": [
              "   userID  rating  location.locationId       location.name location.placeType  \\\n",
              "0       0       4               306130   Lotte Hotel Seoul      ACCOMMODATION   \n",
              "1       0       2              6352819          VIP TRAVEL         ATTRACTION   \n",
              "2       1       5              9033360         Haagen Dazs             EATERY   \n",
              "3       1       5              9017499             Gongcha             EATERY   \n",
              "4       1       5              4076062  Mr. Pizza Terminal             EATERY   \n",
              "\n",
              "   location.reviewSummary.count  location.reviewSummary.rating  \\\n",
              "0                        4033.0                            4.5   \n",
              "1                         276.0                            4.5   \n",
              "2                          10.0                            4.5   \n",
              "3                           8.0                            4.0   \n",
              "4                           7.0                            4.0   \n",
              "\n",
              "   location.reviewSummary.locationId tripInfo.stayDate  \\\n",
              "0                           306130.0        2016-02-29   \n",
              "1                          6352819.0        2016-02-29   \n",
              "2                          9033360.0        2015-08-31   \n",
              "3                          9017499.0        2015-11-30   \n",
              "4                          4076062.0        2015-06-30   \n",
              "\n",
              "  userProfile.hometown.location.name  \n",
              "0                            Jakarta  \n",
              "1                            Jakarta  \n",
              "2                              Seoul  \n",
              "3                              Seoul  \n",
              "4                              Seoul  "
            ]
          },
          "metadata": {
            "tags": []
          },
          "execution_count": 3
        }
      ]
    },
    {
      "cell_type": "code",
      "metadata": {
        "id": "b4z0kRK_JXii",
        "colab_type": "code",
        "colab": {
          "base_uri": "https://localhost:8080/",
          "height": 204
        },
        "outputId": "9dbb4137-a134-4553-d356-75b17f61b9ca"
      },
      "source": [
        "COLUMNS = ['userID', 'location.locationId', 'rating', 'tripInfo.stayDate']\n",
        "df = df.loc[:,COLUMNS]\n",
        "df.head()"
      ],
      "execution_count": 5,
      "outputs": [
        {
          "output_type": "execute_result",
          "data": {
            "text/html": [
              "<div>\n",
              "<style scoped>\n",
              "    .dataframe tbody tr th:only-of-type {\n",
              "        vertical-align: middle;\n",
              "    }\n",
              "\n",
              "    .dataframe tbody tr th {\n",
              "        vertical-align: top;\n",
              "    }\n",
              "\n",
              "    .dataframe thead th {\n",
              "        text-align: right;\n",
              "    }\n",
              "</style>\n",
              "<table border=\"1\" class=\"dataframe\">\n",
              "  <thead>\n",
              "    <tr style=\"text-align: right;\">\n",
              "      <th></th>\n",
              "      <th>userID</th>\n",
              "      <th>location.locationId</th>\n",
              "      <th>rating</th>\n",
              "      <th>tripInfo.stayDate</th>\n",
              "    </tr>\n",
              "  </thead>\n",
              "  <tbody>\n",
              "    <tr>\n",
              "      <th>0</th>\n",
              "      <td>0</td>\n",
              "      <td>306130</td>\n",
              "      <td>4</td>\n",
              "      <td>2016-02-29</td>\n",
              "    </tr>\n",
              "    <tr>\n",
              "      <th>1</th>\n",
              "      <td>0</td>\n",
              "      <td>6352819</td>\n",
              "      <td>2</td>\n",
              "      <td>2016-02-29</td>\n",
              "    </tr>\n",
              "    <tr>\n",
              "      <th>2</th>\n",
              "      <td>1</td>\n",
              "      <td>9033360</td>\n",
              "      <td>5</td>\n",
              "      <td>2015-08-31</td>\n",
              "    </tr>\n",
              "    <tr>\n",
              "      <th>3</th>\n",
              "      <td>1</td>\n",
              "      <td>9017499</td>\n",
              "      <td>5</td>\n",
              "      <td>2015-11-30</td>\n",
              "    </tr>\n",
              "    <tr>\n",
              "      <th>4</th>\n",
              "      <td>1</td>\n",
              "      <td>4076062</td>\n",
              "      <td>5</td>\n",
              "      <td>2015-06-30</td>\n",
              "    </tr>\n",
              "  </tbody>\n",
              "</table>\n",
              "</div>"
            ],
            "text/plain": [
              "   userID  location.locationId  rating tripInfo.stayDate\n",
              "0       0               306130       4        2016-02-29\n",
              "1       0              6352819       2        2016-02-29\n",
              "2       1              9033360       5        2015-08-31\n",
              "3       1              9017499       5        2015-11-30\n",
              "4       1              4076062       5        2015-06-30"
            ]
          },
          "metadata": {
            "tags": []
          },
          "execution_count": 5
        }
      ]
    },
    {
      "cell_type": "markdown",
      "metadata": {},
      "source": [
        "## 2. git\n",
        "* https://github.com/microsoft/recommenders/tree/master/reco_utils/recommender/sar "
      ]
    },
    {
      "cell_type": "code",
      "metadata": {
        "id": "YB80OQ1aJd60",
        "colab_type": "code",
        "colab": {
          "base_uri": "https://localhost:8080/",
          "height": 197
        },
        "outputId": "6d92146c-8f72-41d0-dd22-ee2c481ba684"
      },
      "source": [
        "pip install git+https://github.com/microsoft/recommenders "
      ],
      "execution_count": 6,
      "outputs": [
        {
          "output_type": "stream",
          "text": [
            "Collecting git+https://github.com/microsoft/recommenders\n",
            "  Cloning https://github.com/microsoft/recommenders to /tmp/pip-req-build-kn331z8d\n",
            "  Running command git clone -q https://github.com/microsoft/recommenders /tmp/pip-req-build-kn331z8d\n",
            "Building wheels for collected packages: reco-utils\n",
            "  Building wheel for reco-utils (setup.py) ... \u001b[?25l\u001b[?25hdone\n",
            "  Created wheel for reco-utils: filename=reco_utils-2019.9-cp36-none-any.whl size=164194 sha256=a416450a2c0177d071787ed4e7983296c571ede72191b3cb804a18e50ea95a10\n",
            "  Stored in directory: /tmp/pip-ephem-wheel-cache-0kmoj8zx/wheels/b4/1c/70/c3f6005781b2b5a3370ec55bdd75c10ed1b07456bdfb1a0524\n",
            "Successfully built reco-utils\n",
            "Installing collected packages: reco-utils\n",
            "Successfully installed reco-utils-2019.9\n"
          ],
          "name": "stdout"
        }
      ]
    },
    {
      "cell_type": "code",
      "metadata": {
        "id": "D_ABdJhIKdjX",
        "colab_type": "code",
        "colab": {
          "base_uri": "https://localhost:8080/",
          "height": 953
        },
        "outputId": "b599b8cb-3809-4915-cf5b-ac7ca172ff7a"
      },
      "source": [
        "!pip install papermill"
      ],
      "execution_count": 8,
      "outputs": [
        {
          "output_type": "stream",
          "text": [
            "Collecting papermill\n",
            "  Downloading https://files.pythonhosted.org/packages/ed/70/69799316f1b92bc3518f1bbb71a8aaa2406e05ef73f15edf2b98fc23901c/papermill-2.1.1-py3-none-any.whl\n",
            "Collecting tenacity\n",
            "  Downloading https://files.pythonhosted.org/packages/b5/05/ff089032442058bd3386f9cd991cd88ccac81dca1494d78751621ee35e62/tenacity-6.2.0-py2.py3-none-any.whl\n",
            "Requirement already satisfied: requests in /usr/local/lib/python3.6/dist-packages (from papermill) (2.23.0)\n",
            "Collecting black\n",
            "\u001b[?25l  Downloading https://files.pythonhosted.org/packages/fd/bb/ad34bbc93d1bea3de086d7c59e528d4a503ac8fe318bd1fa48605584c3d2/black-19.10b0-py36-none-any.whl (97kB)\n",
            "\u001b[K     |████████████████████████████████| 102kB 4.4MB/s \n",
            "\u001b[?25hRequirement already satisfied: jupyter-client in /usr/local/lib/python3.6/dist-packages (from papermill) (5.3.4)\n",
            "Requirement already satisfied: pyyaml in /usr/local/lib/python3.6/dist-packages (from papermill) (3.13)\n",
            "Requirement already satisfied: click in /usr/local/lib/python3.6/dist-packages (from papermill) (7.1.2)\n",
            "Requirement already satisfied: nbformat in /usr/local/lib/python3.6/dist-packages (from papermill) (5.0.6)\n",
            "Collecting ansiwrap\n",
            "  Downloading https://files.pythonhosted.org/packages/03/50/43e775a63e0d632d9be3b3fa1c9b2cbaf3b7870d203655710a3426f47c26/ansiwrap-0.8.4-py2.py3-none-any.whl\n",
            "Requirement already satisfied: tqdm>=4.32.2 in /usr/local/lib/python3.6/dist-packages (from papermill) (4.41.1)\n",
            "Requirement already satisfied: entrypoints in /usr/local/lib/python3.6/dist-packages (from papermill) (0.3)\n",
            "Collecting nbclient>=0.2.0\n",
            "\u001b[?25l  Downloading https://files.pythonhosted.org/packages/e7/d8/65dac094885423b6a8e8c4e2071f980c81deecf0a66e70eed591c617402d/nbclient-0.3.1-py3-none-any.whl (70kB)\n",
            "\u001b[K     |████████████████████████████████| 71kB 5.6MB/s \n",
            "\u001b[?25hRequirement already satisfied: six>=1.9.0 in /usr/local/lib/python3.6/dist-packages (from tenacity->papermill) (1.12.0)\n",
            "Requirement already satisfied: chardet<4,>=3.0.2 in /usr/local/lib/python3.6/dist-packages (from requests->papermill) (3.0.4)\n",
            "Requirement already satisfied: idna<3,>=2.5 in /usr/local/lib/python3.6/dist-packages (from requests->papermill) (2.9)\n",
            "Requirement already satisfied: certifi>=2017.4.17 in /usr/local/lib/python3.6/dist-packages (from requests->papermill) (2020.4.5.1)\n",
            "Requirement already satisfied: urllib3!=1.25.0,!=1.25.1,<1.26,>=1.21.1 in /usr/local/lib/python3.6/dist-packages (from requests->papermill) (1.24.3)\n",
            "Collecting pathspec<1,>=0.6\n",
            "  Downloading https://files.pythonhosted.org/packages/5d/d0/887c58853bd4b6ffc7aa9cdba4fc57d7b979b45888a6bd47e4568e1cf868/pathspec-0.8.0-py2.py3-none-any.whl\n",
            "Collecting appdirs\n",
            "  Downloading https://files.pythonhosted.org/packages/3b/00/2344469e2084fb287c2e0b57b72910309874c3245463acd6cf5e3db69324/appdirs-1.4.4-py2.py3-none-any.whl\n",
            "Collecting toml>=0.9.4\n",
            "  Downloading https://files.pythonhosted.org/packages/9f/e1/1b40b80f2e1663a6b9f497123c11d7d988c0919abbf3c3f2688e448c5363/toml-0.10.1-py2.py3-none-any.whl\n",
            "Requirement already satisfied: regex in /usr/local/lib/python3.6/dist-packages (from black->papermill) (2019.12.20)\n",
            "Requirement already satisfied: attrs>=18.1.0 in /usr/local/lib/python3.6/dist-packages (from black->papermill) (19.3.0)\n",
            "Collecting typed-ast>=1.4.0\n",
            "\u001b[?25l  Downloading https://files.pythonhosted.org/packages/90/ed/5459080d95eb87a02fe860d447197be63b6e2b5e9ff73c2b0a85622994f4/typed_ast-1.4.1-cp36-cp36m-manylinux1_x86_64.whl (737kB)\n",
            "\u001b[K     |████████████████████████████████| 747kB 8.5MB/s \n",
            "\u001b[?25hRequirement already satisfied: python-dateutil>=2.1 in /usr/local/lib/python3.6/dist-packages (from jupyter-client->papermill) (2.8.1)\n",
            "Requirement already satisfied: tornado>=4.1 in /usr/local/lib/python3.6/dist-packages (from jupyter-client->papermill) (4.5.3)\n",
            "Requirement already satisfied: jupyter-core>=4.6.0 in /usr/local/lib/python3.6/dist-packages (from jupyter-client->papermill) (4.6.3)\n",
            "Requirement already satisfied: pyzmq>=13 in /usr/local/lib/python3.6/dist-packages (from jupyter-client->papermill) (19.0.1)\n",
            "Requirement already satisfied: traitlets in /usr/local/lib/python3.6/dist-packages (from jupyter-client->papermill) (4.3.3)\n",
            "Requirement already satisfied: ipython-genutils in /usr/local/lib/python3.6/dist-packages (from nbformat->papermill) (0.2.0)\n",
            "Requirement already satisfied: jsonschema!=2.5.0,>=2.4 in /usr/local/lib/python3.6/dist-packages (from nbformat->papermill) (2.6.0)\n",
            "Collecting textwrap3>=0.9.2\n",
            "  Downloading https://files.pythonhosted.org/packages/77/9c/a53e561d496ee5866bbeea4d3a850b3b545ed854f8a21007c1e0d872e94d/textwrap3-0.9.2-py2.py3-none-any.whl\n",
            "Collecting nest-asyncio\n",
            "  Downloading https://files.pythonhosted.org/packages/74/b4/b24e0a271fb78990c2c62238321686454824b1357ce7abcf20f431fd903d/nest_asyncio-1.3.3-py3-none-any.whl\n",
            "Collecting async-generator\n",
            "  Downloading https://files.pythonhosted.org/packages/71/52/39d20e03abd0ac9159c162ec24b93fbcaa111e8400308f2465432495ca2b/async_generator-1.10-py3-none-any.whl\n",
            "Requirement already satisfied: decorator in /usr/local/lib/python3.6/dist-packages (from traitlets->jupyter-client->papermill) (4.4.2)\n",
            "\u001b[31mERROR: nbclient 0.3.1 has requirement jupyter-client>=6.1.0, but you'll have jupyter-client 5.3.4 which is incompatible.\u001b[0m\n",
            "Installing collected packages: tenacity, pathspec, appdirs, toml, typed-ast, black, textwrap3, ansiwrap, nest-asyncio, async-generator, nbclient, papermill\n",
            "Successfully installed ansiwrap-0.8.4 appdirs-1.4.4 async-generator-1.10 black-19.10b0 nbclient-0.3.1 nest-asyncio-1.3.3 papermill-2.1.1 pathspec-0.8.0 tenacity-6.2.0 textwrap3-0.9.2 toml-0.10.1 typed-ast-1.4.1\n"
          ],
          "name": "stdout"
        }
      ]
    },
    {
      "cell_type": "code",
      "metadata": {
        "id": "lXRffjxRJxPt",
        "colab_type": "code",
        "colab": {}
      },
      "source": [
        "import sys\n",
        "sys.path.append(\"../../\")\n",
        "\n",
        "import itertools\n",
        "import logging\n",
        "import os\n",
        "\n",
        "import papermill as pm\n",
        "\n",
        "from reco_utils.dataset.python_splitters import python_stratified_split\n",
        "from reco_utils.evaluation.python_evaluation import map_at_k, ndcg_at_k, precision_at_k, recall_at_k\n",
        "from reco_utils.recommender.sar.sar_singlenode import SARSingleNode"
      ],
      "execution_count": 0,
      "outputs": []
    },
    {
      "cell_type": "code",
      "metadata": {
        "id": "4TSLBFglLEYL",
        "colab_type": "code",
        "colab": {}
      },
      "source": [
        "import datetime\n",
        "import time "
      ],
      "execution_count": 0,
      "outputs": []
    },
    {
      "cell_type": "markdown",
      "metadata": {},
      "source": [
        "## 3. Data Preprocessing "
      ]
    },
    {
      "cell_type": "code",
      "metadata": {
        "id": "2kGlEvAbKcKS",
        "colab_type": "code",
        "colab": {}
      },
      "source": [
        "# top k items to recommend\n",
        "TOP_K = 10\n",
        "DATA_SIZE = df.shape[0]"
      ],
      "execution_count": 0,
      "outputs": []
    },
    {
      "cell_type": "code",
      "metadata": {
        "id": "gY0NP7k9KuBo",
        "colab_type": "code",
        "colab": {}
      },
      "source": [
        "df[\"tripInfo.stayDate\"] = df.apply(lambda x : time.mktime(datetime.datetime.strptime(x[\"tripInfo.stayDate\"], \"%Y-%m-%d\").timetuple()), axis=1)"
      ],
      "execution_count": 0,
      "outputs": []
    },
    {
      "cell_type": "code",
      "metadata": {
        "id": "zpc7xkpGMTjs",
        "colab_type": "code",
        "colab": {
          "base_uri": "https://localhost:8080/",
          "height": 204
        },
        "outputId": "6a71112d-6974-40b5-a7cf-cb27efc70e3f"
      },
      "source": [
        "df.head()"
      ],
      "execution_count": 26,
      "outputs": [
        {
          "output_type": "execute_result",
          "data": {
            "text/html": [
              "<div>\n",
              "<style scoped>\n",
              "    .dataframe tbody tr th:only-of-type {\n",
              "        vertical-align: middle;\n",
              "    }\n",
              "\n",
              "    .dataframe tbody tr th {\n",
              "        vertical-align: top;\n",
              "    }\n",
              "\n",
              "    .dataframe thead th {\n",
              "        text-align: right;\n",
              "    }\n",
              "</style>\n",
              "<table border=\"1\" class=\"dataframe\">\n",
              "  <thead>\n",
              "    <tr style=\"text-align: right;\">\n",
              "      <th></th>\n",
              "      <th>userID</th>\n",
              "      <th>location.locationId</th>\n",
              "      <th>rating</th>\n",
              "      <th>tripInfo.stayDate</th>\n",
              "    </tr>\n",
              "  </thead>\n",
              "  <tbody>\n",
              "    <tr>\n",
              "      <th>0</th>\n",
              "      <td>0</td>\n",
              "      <td>306130</td>\n",
              "      <td>4</td>\n",
              "      <td>1.456704e+09</td>\n",
              "    </tr>\n",
              "    <tr>\n",
              "      <th>1</th>\n",
              "      <td>0</td>\n",
              "      <td>6352819</td>\n",
              "      <td>2</td>\n",
              "      <td>1.456704e+09</td>\n",
              "    </tr>\n",
              "    <tr>\n",
              "      <th>2</th>\n",
              "      <td>1</td>\n",
              "      <td>9033360</td>\n",
              "      <td>5</td>\n",
              "      <td>1.440979e+09</td>\n",
              "    </tr>\n",
              "    <tr>\n",
              "      <th>3</th>\n",
              "      <td>1</td>\n",
              "      <td>9017499</td>\n",
              "      <td>5</td>\n",
              "      <td>1.448842e+09</td>\n",
              "    </tr>\n",
              "    <tr>\n",
              "      <th>4</th>\n",
              "      <td>1</td>\n",
              "      <td>4076062</td>\n",
              "      <td>5</td>\n",
              "      <td>1.435622e+09</td>\n",
              "    </tr>\n",
              "  </tbody>\n",
              "</table>\n",
              "</div>"
            ],
            "text/plain": [
              "   userID  location.locationId  rating  tripInfo.stayDate\n",
              "0       0               306130       4       1.456704e+09\n",
              "1       0              6352819       2       1.456704e+09\n",
              "2       1              9033360       5       1.440979e+09\n",
              "3       1              9017499       5       1.448842e+09\n",
              "4       1              4076062       5       1.435622e+09"
            ]
          },
          "metadata": {
            "tags": []
          },
          "execution_count": 26
        }
      ]
    },
    {
      "cell_type": "code",
      "metadata": {
        "id": "8NbjnqcIO0ph",
        "colab_type": "code",
        "colab": {}
      },
      "source": [
        "header = {\n",
        "    \"col_user\": \"userID\",\n",
        "    \"col_item\": \"location.locationId\",\n",
        "    \"col_rating\": \"rating\",\n",
        "    \"col_timestamp\": \"tripInfo.stayDate\",\n",
        "}"
      ],
      "execution_count": 0,
      "outputs": []
    },
    {
      "cell_type": "code",
      "metadata": {
        "id": "2cDSvrU7PWQV",
        "colab_type": "code",
        "colab": {}
      },
      "source": [
        "train, test = python_stratified_split(df, ratio=0.75, col_user=header[\"col_user\"], col_item=header[\"col_item\"], seed=42)"
      ],
      "execution_count": 0,
      "outputs": []
    },
    {
      "cell_type": "code",
      "metadata": {
        "id": "X8Qqx3f6PZyM",
        "colab_type": "code",
        "colab": {
          "base_uri": "https://localhost:8080/",
          "height": 35
        },
        "outputId": "3d0fe105-5947-4aac-a145-9337d5fb3034"
      },
      "source": [
        "print(train.shape, test.shape)"
      ],
      "execution_count": 30,
      "outputs": [
        {
          "output_type": "stream",
          "text": [
            "(22167, 4) (6394, 4)\n"
          ],
          "name": "stdout"
        }
      ]
    },
    {
      "cell_type": "markdown",
      "metadata": {},
      "source": [
        "## 4. Modeling "
      ]
    },
    {
      "cell_type": "code",
      "metadata": {
        "id": "nWw0in7TPmrt",
        "colab_type": "code",
        "colab": {}
      },
      "source": [
        "model = SARSingleNode(\n",
        "    similarity_type=\"cooccurrence\", # jaccard, lift, cooccurrence \n",
        "    time_decay_coefficient=100, \n",
        "    time_now=None, \n",
        "    timedecay_formula=True, \n",
        "    **header\n",
        ")"
      ],
      "execution_count": 0,
      "outputs": []
    },
    {
      "cell_type": "code",
      "metadata": {
        "id": "dHztYjd9Pojv",
        "colab_type": "code",
        "colab": {}
      },
      "source": [
        "model.fit(train)"
      ],
      "execution_count": 0,
      "outputs": []
    },
    {
      "cell_type": "code",
      "metadata": {
        "id": "okvhy5EIPrR2",
        "colab_type": "code",
        "colab": {}
      },
      "source": [
        "top_k = model.recommend_k_items(test, remove_seen=True)"
      ],
      "execution_count": 0,
      "outputs": []
    },
    {
      "cell_type": "code",
      "metadata": {
        "id": "8y3AQMZVP5P1",
        "colab_type": "code",
        "colab": {
          "base_uri": "https://localhost:8080/",
          "height": 669
        },
        "outputId": "bbf58866-96ae-4197-f191-36b59ff3cd64"
      },
      "source": [
        "display(top_k.head(20))"
      ],
      "execution_count": 61,
      "outputs": [
        {
          "output_type": "display_data",
          "data": {
            "text/html": [
              "<div>\n",
              "<style scoped>\n",
              "    .dataframe tbody tr th:only-of-type {\n",
              "        vertical-align: middle;\n",
              "    }\n",
              "\n",
              "    .dataframe tbody tr th {\n",
              "        vertical-align: top;\n",
              "    }\n",
              "\n",
              "    .dataframe thead th {\n",
              "        text-align: right;\n",
              "    }\n",
              "</style>\n",
              "<table border=\"1\" class=\"dataframe\">\n",
              "  <thead>\n",
              "    <tr style=\"text-align: right;\">\n",
              "      <th></th>\n",
              "      <th>userID</th>\n",
              "      <th>location.locationId</th>\n",
              "      <th>prediction</th>\n",
              "    </tr>\n",
              "  </thead>\n",
              "  <tbody>\n",
              "    <tr>\n",
              "      <th>0</th>\n",
              "      <td>1</td>\n",
              "      <td>1169465</td>\n",
              "      <td>0.001202</td>\n",
              "    </tr>\n",
              "    <tr>\n",
              "      <th>1</th>\n",
              "      <td>1</td>\n",
              "      <td>553546</td>\n",
              "      <td>0.001172</td>\n",
              "    </tr>\n",
              "    <tr>\n",
              "      <th>2</th>\n",
              "      <td>1</td>\n",
              "      <td>324888</td>\n",
              "      <td>0.001117</td>\n",
              "    </tr>\n",
              "    <tr>\n",
              "      <th>3</th>\n",
              "      <td>1</td>\n",
              "      <td>2194168</td>\n",
              "      <td>0.001058</td>\n",
              "    </tr>\n",
              "    <tr>\n",
              "      <th>4</th>\n",
              "      <td>1</td>\n",
              "      <td>301815</td>\n",
              "      <td>0.000873</td>\n",
              "    </tr>\n",
              "    <tr>\n",
              "      <th>5</th>\n",
              "      <td>1</td>\n",
              "      <td>301253</td>\n",
              "      <td>0.000768</td>\n",
              "    </tr>\n",
              "    <tr>\n",
              "      <th>6</th>\n",
              "      <td>1</td>\n",
              "      <td>3477158</td>\n",
              "      <td>0.000735</td>\n",
              "    </tr>\n",
              "    <tr>\n",
              "      <th>7</th>\n",
              "      <td>1</td>\n",
              "      <td>592506</td>\n",
              "      <td>0.000723</td>\n",
              "    </tr>\n",
              "    <tr>\n",
              "      <th>8</th>\n",
              "      <td>1</td>\n",
              "      <td>306139</td>\n",
              "      <td>0.000718</td>\n",
              "    </tr>\n",
              "    <tr>\n",
              "      <th>9</th>\n",
              "      <td>1</td>\n",
              "      <td>1379963</td>\n",
              "      <td>0.000648</td>\n",
              "    </tr>\n",
              "    <tr>\n",
              "      <th>10</th>\n",
              "      <td>2</td>\n",
              "      <td>324888</td>\n",
              "      <td>0.236662</td>\n",
              "    </tr>\n",
              "    <tr>\n",
              "      <th>11</th>\n",
              "      <td>2</td>\n",
              "      <td>1379963</td>\n",
              "      <td>0.155741</td>\n",
              "    </tr>\n",
              "    <tr>\n",
              "      <th>12</th>\n",
              "      <td>2</td>\n",
              "      <td>592506</td>\n",
              "      <td>0.150169</td>\n",
              "    </tr>\n",
              "    <tr>\n",
              "      <th>13</th>\n",
              "      <td>2</td>\n",
              "      <td>320359</td>\n",
              "      <td>0.123903</td>\n",
              "    </tr>\n",
              "    <tr>\n",
              "      <th>14</th>\n",
              "      <td>2</td>\n",
              "      <td>1046419</td>\n",
              "      <td>0.111963</td>\n",
              "    </tr>\n",
              "    <tr>\n",
              "      <th>15</th>\n",
              "      <td>2</td>\n",
              "      <td>324907</td>\n",
              "      <td>0.094453</td>\n",
              "    </tr>\n",
              "    <tr>\n",
              "      <th>16</th>\n",
              "      <td>2</td>\n",
              "      <td>554582</td>\n",
              "      <td>0.090473</td>\n",
              "    </tr>\n",
              "    <tr>\n",
              "      <th>17</th>\n",
              "      <td>2</td>\n",
              "      <td>6671988</td>\n",
              "      <td>0.087554</td>\n",
              "    </tr>\n",
              "    <tr>\n",
              "      <th>18</th>\n",
              "      <td>2</td>\n",
              "      <td>554537</td>\n",
              "      <td>0.078799</td>\n",
              "    </tr>\n",
              "    <tr>\n",
              "      <th>19</th>\n",
              "      <td>2</td>\n",
              "      <td>301815</td>\n",
              "      <td>0.069513</td>\n",
              "    </tr>\n",
              "  </tbody>\n",
              "</table>\n",
              "</div>"
            ],
            "text/plain": [
              "    userID  location.locationId  prediction\n",
              "0        1              1169465    0.001202\n",
              "1        1               553546    0.001172\n",
              "2        1               324888    0.001117\n",
              "3        1              2194168    0.001058\n",
              "4        1               301815    0.000873\n",
              "5        1               301253    0.000768\n",
              "6        1              3477158    0.000735\n",
              "7        1               592506    0.000723\n",
              "8        1               306139    0.000718\n",
              "9        1              1379963    0.000648\n",
              "10       2               324888    0.236662\n",
              "11       2              1379963    0.155741\n",
              "12       2               592506    0.150169\n",
              "13       2               320359    0.123903\n",
              "14       2              1046419    0.111963\n",
              "15       2               324907    0.094453\n",
              "16       2               554582    0.090473\n",
              "17       2              6671988    0.087554\n",
              "18       2               554537    0.078799\n",
              "19       2               301815    0.069513"
            ]
          },
          "metadata": {
            "tags": []
          }
        }
      ]
    },
    {
      "cell_type": "code",
      "metadata": {
        "id": "rfmFrp-MQcme",
        "colab_type": "code",
        "colab": {
          "base_uri": "https://localhost:8080/",
          "height": 419
        },
        "outputId": "f09a1f65-2398-462b-ecce-d2da761625d3"
      },
      "source": [
        "top_k.loc[top_k[\"prediction\"]!=0] ## ㅋㅋmuzi...? "
      ],
      "execution_count": 62,
      "outputs": [
        {
          "output_type": "execute_result",
          "data": {
            "text/html": [
              "<div>\n",
              "<style scoped>\n",
              "    .dataframe tbody tr th:only-of-type {\n",
              "        vertical-align: middle;\n",
              "    }\n",
              "\n",
              "    .dataframe tbody tr th {\n",
              "        vertical-align: top;\n",
              "    }\n",
              "\n",
              "    .dataframe thead th {\n",
              "        text-align: right;\n",
              "    }\n",
              "</style>\n",
              "<table border=\"1\" class=\"dataframe\">\n",
              "  <thead>\n",
              "    <tr style=\"text-align: right;\">\n",
              "      <th></th>\n",
              "      <th>userID</th>\n",
              "      <th>location.locationId</th>\n",
              "      <th>prediction</th>\n",
              "    </tr>\n",
              "  </thead>\n",
              "  <tbody>\n",
              "    <tr>\n",
              "      <th>0</th>\n",
              "      <td>1</td>\n",
              "      <td>1169465</td>\n",
              "      <td>0.001202</td>\n",
              "    </tr>\n",
              "    <tr>\n",
              "      <th>1</th>\n",
              "      <td>1</td>\n",
              "      <td>553546</td>\n",
              "      <td>0.001172</td>\n",
              "    </tr>\n",
              "    <tr>\n",
              "      <th>2</th>\n",
              "      <td>1</td>\n",
              "      <td>324888</td>\n",
              "      <td>0.001117</td>\n",
              "    </tr>\n",
              "    <tr>\n",
              "      <th>3</th>\n",
              "      <td>1</td>\n",
              "      <td>2194168</td>\n",
              "      <td>0.001058</td>\n",
              "    </tr>\n",
              "    <tr>\n",
              "      <th>4</th>\n",
              "      <td>1</td>\n",
              "      <td>301815</td>\n",
              "      <td>0.000873</td>\n",
              "    </tr>\n",
              "    <tr>\n",
              "      <th>...</th>\n",
              "      <td>...</td>\n",
              "      <td>...</td>\n",
              "      <td>...</td>\n",
              "    </tr>\n",
              "    <tr>\n",
              "      <th>17975</th>\n",
              "      <td>4552</td>\n",
              "      <td>308007</td>\n",
              "      <td>0.013322</td>\n",
              "    </tr>\n",
              "    <tr>\n",
              "      <th>17976</th>\n",
              "      <td>4552</td>\n",
              "      <td>1643534</td>\n",
              "      <td>0.013322</td>\n",
              "    </tr>\n",
              "    <tr>\n",
              "      <th>17977</th>\n",
              "      <td>4552</td>\n",
              "      <td>17678712</td>\n",
              "      <td>0.013322</td>\n",
              "    </tr>\n",
              "    <tr>\n",
              "      <th>17978</th>\n",
              "      <td>4552</td>\n",
              "      <td>3687319</td>\n",
              "      <td>0.013322</td>\n",
              "    </tr>\n",
              "    <tr>\n",
              "      <th>17979</th>\n",
              "      <td>4552</td>\n",
              "      <td>306130</td>\n",
              "      <td>0.013322</td>\n",
              "    </tr>\n",
              "  </tbody>\n",
              "</table>\n",
              "<p>17925 rows × 3 columns</p>\n",
              "</div>"
            ],
            "text/plain": [
              "       userID  location.locationId  prediction\n",
              "0           1              1169465    0.001202\n",
              "1           1               553546    0.001172\n",
              "2           1               324888    0.001117\n",
              "3           1              2194168    0.001058\n",
              "4           1               301815    0.000873\n",
              "...       ...                  ...         ...\n",
              "17975    4552               308007    0.013322\n",
              "17976    4552              1643534    0.013322\n",
              "17977    4552             17678712    0.013322\n",
              "17978    4552              3687319    0.013322\n",
              "17979    4552               306130    0.013322\n",
              "\n",
              "[17925 rows x 3 columns]"
            ]
          },
          "metadata": {
            "tags": []
          },
          "execution_count": 62
        }
      ]
    },
    {
      "cell_type": "markdown",
      "metadata": {},
      "source": [
        "## 5. Evaluate the Result"
      ]
    },
    {
      "cell_type": "code",
      "metadata": {
        "id": "B03MWu-uQWVu",
        "colab_type": "code",
        "colab": {}
      },
      "source": [
        "# all ranking metrics have the same arguments\n",
        "args = [test, top_k]\n",
        "kwargs = dict(col_user='userID', \n",
        "              col_item='location.locationId', \n",
        "              col_rating='rating', \n",
        "              col_prediction='prediction', \n",
        "              relevancy_method='top_k', \n",
        "              k=TOP_K)\n",
        "\n",
        "eval_map = map_at_k(*args, **kwargs)\n",
        "eval_ndcg = ndcg_at_k(*args, **kwargs)\n",
        "eval_precision = precision_at_k(*args, **kwargs)\n",
        "eval_recall = recall_at_k(*args, **kwargs)"
      ],
      "execution_count": 0,
      "outputs": []
    },
    {
      "cell_type": "code",
      "metadata": {
        "id": "sSvqVDvVQ8Hp",
        "colab_type": "code",
        "colab": {
          "base_uri": "https://localhost:8080/",
          "height": 125
        },
        "outputId": "2059a89c-28b9-4d1a-92af-1e864fbe39dc"
      },
      "source": [
        "print(f\"Model:\",\n",
        "      f\"Top K:\\t\\t {TOP_K}\",\n",
        "      f\"MAP:\\t\\t {eval_map:f}\",\n",
        "      f\"NDCG:\\t\\t {eval_ndcg:f}\",\n",
        "      f\"Precision@K:\\t {eval_precision:f}\",\n",
        "      f\"Recall@K:\\t {eval_recall:f}\", sep='\\n')"
      ],
      "execution_count": 64,
      "outputs": [
        {
          "output_type": "stream",
          "text": [
            "Model:\n",
            "Top K:\t\t 10\n",
            "MAP:\t\t 0.101074\n",
            "NDCG:\t\t 0.146962\n",
            "Precision@K:\t 0.044661\n",
            "Recall@K:\t 0.211642\n"
          ],
          "name": "stdout"
        }
      ]
    }
  ],
  "metadata": {
    "colab": {
      "name": "JB_SAR.ipynb",
      "provenance": [],
      "collapsed_sections": []
    },
    "kernelspec": {
      "name": "python3",
      "display_name": "Python 3"
    },
    "accelerator": "GPU"
  },
  "nbformat": 4,
  "nbformat_minor": 0
}