{
 "cells": [
  {
   "cell_type": "markdown",
   "metadata": {
    "colab_type": "text",
    "id": "cocvcMdgOYEL"
   },
   "source": [
    "https://nbviewer.jupyter.org/github/microsoft/recommenders/blob/master/notebooks/00_quick_start/sar_movielens.ipynb"
   ]
  },
  {
   "cell_type": "code",
   "execution_count": 125,
   "metadata": {
    "colab": {
     "base_uri": "https://localhost:8080/",
     "height": 678
    },
    "colab_type": "code",
    "executionInfo": {
     "elapsed": 14882,
     "status": "ok",
     "timestamp": 1590489863063,
     "user": {
      "displayName": "­배유나[경영학부]",
      "photoUrl": "",
      "userId": "16097689920782289219"
     },
     "user_tz": -540
    },
    "id": "5RXrcytkOYjp",
    "outputId": "fdc9a512-c969-4248-8ae4-0a830f21dc78"
   },
   "outputs": [
    {
     "data": {
      "text/html": [
       "<div>\n",
       "<style scoped>\n",
       "    .dataframe tbody tr th:only-of-type {\n",
       "        vertical-align: middle;\n",
       "    }\n",
       "\n",
       "    .dataframe tbody tr th {\n",
       "        vertical-align: top;\n",
       "    }\n",
       "\n",
       "    .dataframe thead th {\n",
       "        text-align: right;\n",
       "    }\n",
       "</style>\n",
       "<table border=\"1\" class=\"dataframe\">\n",
       "  <thead>\n",
       "    <tr style=\"text-align: right;\">\n",
       "      <th></th>\n",
       "      <th>userID</th>\n",
       "      <th>rating</th>\n",
       "      <th>location.locationId</th>\n",
       "      <th>location.name</th>\n",
       "      <th>location.placeType</th>\n",
       "      <th>location.reviewSummary.count</th>\n",
       "      <th>location.reviewSummary.rating</th>\n",
       "      <th>location.reviewSummary.locationId</th>\n",
       "      <th>tripInfo.stayDate</th>\n",
       "      <th>userProfile.hometown.location.name</th>\n",
       "    </tr>\n",
       "  </thead>\n",
       "  <tbody>\n",
       "    <tr>\n",
       "      <th>0</th>\n",
       "      <td>0</td>\n",
       "      <td>4</td>\n",
       "      <td>306130</td>\n",
       "      <td>Lotte Hotel Seoul</td>\n",
       "      <td>ACCOMMODATION</td>\n",
       "      <td>4033.0</td>\n",
       "      <td>4.5</td>\n",
       "      <td>306130.0</td>\n",
       "      <td>2016-02-29</td>\n",
       "      <td>Jakarta</td>\n",
       "    </tr>\n",
       "    <tr>\n",
       "      <th>1</th>\n",
       "      <td>0</td>\n",
       "      <td>2</td>\n",
       "      <td>6352819</td>\n",
       "      <td>VIP TRAVEL</td>\n",
       "      <td>ATTRACTION</td>\n",
       "      <td>276.0</td>\n",
       "      <td>4.5</td>\n",
       "      <td>6352819.0</td>\n",
       "      <td>2016-02-29</td>\n",
       "      <td>Jakarta</td>\n",
       "    </tr>\n",
       "    <tr>\n",
       "      <th>2</th>\n",
       "      <td>1</td>\n",
       "      <td>5</td>\n",
       "      <td>9033360</td>\n",
       "      <td>Haagen Dazs</td>\n",
       "      <td>EATERY</td>\n",
       "      <td>10.0</td>\n",
       "      <td>4.5</td>\n",
       "      <td>9033360.0</td>\n",
       "      <td>2015-08-31</td>\n",
       "      <td>Seoul</td>\n",
       "    </tr>\n",
       "    <tr>\n",
       "      <th>3</th>\n",
       "      <td>1</td>\n",
       "      <td>5</td>\n",
       "      <td>9017499</td>\n",
       "      <td>Gongcha</td>\n",
       "      <td>EATERY</td>\n",
       "      <td>8.0</td>\n",
       "      <td>4.0</td>\n",
       "      <td>9017499.0</td>\n",
       "      <td>2015-11-30</td>\n",
       "      <td>Seoul</td>\n",
       "    </tr>\n",
       "    <tr>\n",
       "      <th>4</th>\n",
       "      <td>1</td>\n",
       "      <td>5</td>\n",
       "      <td>4076062</td>\n",
       "      <td>Mr. Pizza Terminal</td>\n",
       "      <td>EATERY</td>\n",
       "      <td>7.0</td>\n",
       "      <td>4.0</td>\n",
       "      <td>4076062.0</td>\n",
       "      <td>2015-06-30</td>\n",
       "      <td>Seoul</td>\n",
       "    </tr>\n",
       "  </tbody>\n",
       "</table>\n",
       "</div>"
      ],
      "text/plain": [
       "   userID  rating  location.locationId       location.name location.placeType  \\\n",
       "0       0       4               306130   Lotte Hotel Seoul      ACCOMMODATION   \n",
       "1       0       2              6352819          VIP TRAVEL         ATTRACTION   \n",
       "2       1       5              9033360         Haagen Dazs             EATERY   \n",
       "3       1       5              9017499             Gongcha             EATERY   \n",
       "4       1       5              4076062  Mr. Pizza Terminal             EATERY   \n",
       "\n",
       "   location.reviewSummary.count  location.reviewSummary.rating  \\\n",
       "0                        4033.0                            4.5   \n",
       "1                         276.0                            4.5   \n",
       "2                          10.0                            4.5   \n",
       "3                           8.0                            4.0   \n",
       "4                           7.0                            4.0   \n",
       "\n",
       "   location.reviewSummary.locationId tripInfo.stayDate  \\\n",
       "0                           306130.0        2016-02-29   \n",
       "1                          6352819.0        2016-02-29   \n",
       "2                          9033360.0        2015-08-31   \n",
       "3                          9017499.0        2015-11-30   \n",
       "4                          4076062.0        2015-06-30   \n",
       "\n",
       "  userProfile.hometown.location.name  \n",
       "0                            Jakarta  \n",
       "1                            Jakarta  \n",
       "2                              Seoul  \n",
       "3                              Seoul  \n",
       "4                              Seoul  "
      ]
     },
     "execution_count": 125,
     "metadata": {},
     "output_type": "execute_result"
    }
   ],
   "source": [
    "import pandas as pd\n",
    "import numpy as np\n",
    "import re\n",
    "pd.set_option('display.max_columns', 25)\n",
    "\n",
    "df = pd.read_csv(os.path.join(\"..\",\"..\",\"data\",\"TA_User_Reviws_Korea_all_new_df.csv\"))\n",
    "df.head()"
   ]
  },
  {
   "cell_type": "code",
   "execution_count": 126,
   "metadata": {
    "colab": {},
    "colab_type": "code",
    "id": "EuN8WnCXO5nB"
   },
   "outputs": [
    {
     "ename": "KeyError",
     "evalue": "'Passing list-likes to .loc or [] with any missing labels is no longer supported, see https://pandas.pydata.org/pandas-docs/stable/user_guide/indexing.html#deprecate-loc-reindex-listlike'",
     "output_type": "error",
     "traceback": [
      "\u001b[0;31m---------------------------------------------------------------------------\u001b[0m",
      "\u001b[0;31mKeyError\u001b[0m                                  Traceback (most recent call last)",
      "\u001b[0;32m<ipython-input-126-c7e479ebe9f5>\u001b[0m in \u001b[0;36m<module>\u001b[0;34m\u001b[0m\n\u001b[1;32m      1\u001b[0m \u001b[0mCOLUMNS\u001b[0m \u001b[0;34m=\u001b[0m \u001b[0;34m[\u001b[0m\u001b[0;34m'userID'\u001b[0m\u001b[0;34m,\u001b[0m \u001b[0;34m'location.locationId'\u001b[0m\u001b[0;34m,\u001b[0m \u001b[0;34m'rating'\u001b[0m\u001b[0;34m,\u001b[0m \u001b[0;34m'stayDate'\u001b[0m\u001b[0;34m]\u001b[0m\u001b[0;34m\u001b[0m\u001b[0;34m\u001b[0m\u001b[0m\n\u001b[0;32m----> 2\u001b[0;31m \u001b[0mdf\u001b[0m \u001b[0;34m=\u001b[0m \u001b[0mdf\u001b[0m\u001b[0;34m.\u001b[0m\u001b[0mloc\u001b[0m\u001b[0;34m[\u001b[0m\u001b[0;34m:\u001b[0m\u001b[0;34m,\u001b[0m\u001b[0mCOLUMNS\u001b[0m\u001b[0;34m]\u001b[0m\u001b[0;34m\u001b[0m\u001b[0;34m\u001b[0m\u001b[0m\n\u001b[0m\u001b[1;32m      3\u001b[0m \u001b[0mdf\u001b[0m\u001b[0;34m.\u001b[0m\u001b[0mhead\u001b[0m\u001b[0;34m(\u001b[0m\u001b[0;34m)\u001b[0m\u001b[0;34m\u001b[0m\u001b[0;34m\u001b[0m\u001b[0m\n",
      "\u001b[0;32m~/opt/anaconda3/lib/python3.7/site-packages/pandas/core/indexing.py\u001b[0m in \u001b[0;36m__getitem__\u001b[0;34m(self, key)\u001b[0m\n\u001b[1;32m   1759\u001b[0m                 \u001b[0;32mexcept\u001b[0m \u001b[0;34m(\u001b[0m\u001b[0mKeyError\u001b[0m\u001b[0;34m,\u001b[0m \u001b[0mIndexError\u001b[0m\u001b[0;34m,\u001b[0m \u001b[0mAttributeError\u001b[0m\u001b[0;34m)\u001b[0m\u001b[0;34m:\u001b[0m\u001b[0;34m\u001b[0m\u001b[0;34m\u001b[0m\u001b[0m\n\u001b[1;32m   1760\u001b[0m                     \u001b[0;32mpass\u001b[0m\u001b[0;34m\u001b[0m\u001b[0;34m\u001b[0m\u001b[0m\n\u001b[0;32m-> 1761\u001b[0;31m             \u001b[0;32mreturn\u001b[0m \u001b[0mself\u001b[0m\u001b[0;34m.\u001b[0m\u001b[0m_getitem_tuple\u001b[0m\u001b[0;34m(\u001b[0m\u001b[0mkey\u001b[0m\u001b[0;34m)\u001b[0m\u001b[0;34m\u001b[0m\u001b[0;34m\u001b[0m\u001b[0m\n\u001b[0m\u001b[1;32m   1762\u001b[0m         \u001b[0;32melse\u001b[0m\u001b[0;34m:\u001b[0m\u001b[0;34m\u001b[0m\u001b[0;34m\u001b[0m\u001b[0m\n\u001b[1;32m   1763\u001b[0m             \u001b[0;31m# we by definition only have the 0th axis\u001b[0m\u001b[0;34m\u001b[0m\u001b[0;34m\u001b[0m\u001b[0;34m\u001b[0m\u001b[0m\n",
      "\u001b[0;32m~/opt/anaconda3/lib/python3.7/site-packages/pandas/core/indexing.py\u001b[0m in \u001b[0;36m_getitem_tuple\u001b[0;34m(self, tup)\u001b[0m\n\u001b[1;32m   1286\u001b[0m                 \u001b[0;32mcontinue\u001b[0m\u001b[0;34m\u001b[0m\u001b[0;34m\u001b[0m\u001b[0m\n\u001b[1;32m   1287\u001b[0m \u001b[0;34m\u001b[0m\u001b[0m\n\u001b[0;32m-> 1288\u001b[0;31m             \u001b[0mretval\u001b[0m \u001b[0;34m=\u001b[0m \u001b[0mgetattr\u001b[0m\u001b[0;34m(\u001b[0m\u001b[0mretval\u001b[0m\u001b[0;34m,\u001b[0m \u001b[0mself\u001b[0m\u001b[0;34m.\u001b[0m\u001b[0mname\u001b[0m\u001b[0;34m)\u001b[0m\u001b[0;34m.\u001b[0m\u001b[0m_getitem_axis\u001b[0m\u001b[0;34m(\u001b[0m\u001b[0mkey\u001b[0m\u001b[0;34m,\u001b[0m \u001b[0maxis\u001b[0m\u001b[0;34m=\u001b[0m\u001b[0mi\u001b[0m\u001b[0;34m)\u001b[0m\u001b[0;34m\u001b[0m\u001b[0;34m\u001b[0m\u001b[0m\n\u001b[0m\u001b[1;32m   1289\u001b[0m \u001b[0;34m\u001b[0m\u001b[0m\n\u001b[1;32m   1290\u001b[0m         \u001b[0;32mreturn\u001b[0m \u001b[0mretval\u001b[0m\u001b[0;34m\u001b[0m\u001b[0;34m\u001b[0m\u001b[0m\n",
      "\u001b[0;32m~/opt/anaconda3/lib/python3.7/site-packages/pandas/core/indexing.py\u001b[0m in \u001b[0;36m_getitem_axis\u001b[0;34m(self, key, axis)\u001b[0m\n\u001b[1;32m   1951\u001b[0m                     \u001b[0;32mraise\u001b[0m \u001b[0mValueError\u001b[0m\u001b[0;34m(\u001b[0m\u001b[0;34m\"Cannot index with multidimensional key\"\u001b[0m\u001b[0;34m)\u001b[0m\u001b[0;34m\u001b[0m\u001b[0;34m\u001b[0m\u001b[0m\n\u001b[1;32m   1952\u001b[0m \u001b[0;34m\u001b[0m\u001b[0m\n\u001b[0;32m-> 1953\u001b[0;31m                 \u001b[0;32mreturn\u001b[0m \u001b[0mself\u001b[0m\u001b[0;34m.\u001b[0m\u001b[0m_getitem_iterable\u001b[0m\u001b[0;34m(\u001b[0m\u001b[0mkey\u001b[0m\u001b[0;34m,\u001b[0m \u001b[0maxis\u001b[0m\u001b[0;34m=\u001b[0m\u001b[0maxis\u001b[0m\u001b[0;34m)\u001b[0m\u001b[0;34m\u001b[0m\u001b[0;34m\u001b[0m\u001b[0m\n\u001b[0m\u001b[1;32m   1954\u001b[0m \u001b[0;34m\u001b[0m\u001b[0m\n\u001b[1;32m   1955\u001b[0m             \u001b[0;31m# nested tuple slicing\u001b[0m\u001b[0;34m\u001b[0m\u001b[0;34m\u001b[0m\u001b[0;34m\u001b[0m\u001b[0m\n",
      "\u001b[0;32m~/opt/anaconda3/lib/python3.7/site-packages/pandas/core/indexing.py\u001b[0m in \u001b[0;36m_getitem_iterable\u001b[0;34m(self, key, axis)\u001b[0m\n\u001b[1;32m   1592\u001b[0m         \u001b[0;32melse\u001b[0m\u001b[0;34m:\u001b[0m\u001b[0;34m\u001b[0m\u001b[0;34m\u001b[0m\u001b[0m\n\u001b[1;32m   1593\u001b[0m             \u001b[0;31m# A collection of keys\u001b[0m\u001b[0;34m\u001b[0m\u001b[0;34m\u001b[0m\u001b[0;34m\u001b[0m\u001b[0m\n\u001b[0;32m-> 1594\u001b[0;31m             \u001b[0mkeyarr\u001b[0m\u001b[0;34m,\u001b[0m \u001b[0mindexer\u001b[0m \u001b[0;34m=\u001b[0m \u001b[0mself\u001b[0m\u001b[0;34m.\u001b[0m\u001b[0m_get_listlike_indexer\u001b[0m\u001b[0;34m(\u001b[0m\u001b[0mkey\u001b[0m\u001b[0;34m,\u001b[0m \u001b[0maxis\u001b[0m\u001b[0;34m,\u001b[0m \u001b[0mraise_missing\u001b[0m\u001b[0;34m=\u001b[0m\u001b[0;32mFalse\u001b[0m\u001b[0;34m)\u001b[0m\u001b[0;34m\u001b[0m\u001b[0;34m\u001b[0m\u001b[0m\n\u001b[0m\u001b[1;32m   1595\u001b[0m             return self.obj._reindex_with_indexers(\n\u001b[1;32m   1596\u001b[0m                 \u001b[0;34m{\u001b[0m\u001b[0maxis\u001b[0m\u001b[0;34m:\u001b[0m \u001b[0;34m[\u001b[0m\u001b[0mkeyarr\u001b[0m\u001b[0;34m,\u001b[0m \u001b[0mindexer\u001b[0m\u001b[0;34m]\u001b[0m\u001b[0;34m}\u001b[0m\u001b[0;34m,\u001b[0m \u001b[0mcopy\u001b[0m\u001b[0;34m=\u001b[0m\u001b[0;32mTrue\u001b[0m\u001b[0;34m,\u001b[0m \u001b[0mallow_dups\u001b[0m\u001b[0;34m=\u001b[0m\u001b[0;32mTrue\u001b[0m\u001b[0;34m\u001b[0m\u001b[0;34m\u001b[0m\u001b[0m\n",
      "\u001b[0;32m~/opt/anaconda3/lib/python3.7/site-packages/pandas/core/indexing.py\u001b[0m in \u001b[0;36m_get_listlike_indexer\u001b[0;34m(self, key, axis, raise_missing)\u001b[0m\n\u001b[1;32m   1550\u001b[0m \u001b[0;34m\u001b[0m\u001b[0m\n\u001b[1;32m   1551\u001b[0m         self._validate_read_indexer(\n\u001b[0;32m-> 1552\u001b[0;31m             \u001b[0mkeyarr\u001b[0m\u001b[0;34m,\u001b[0m \u001b[0mindexer\u001b[0m\u001b[0;34m,\u001b[0m \u001b[0mo\u001b[0m\u001b[0;34m.\u001b[0m\u001b[0m_get_axis_number\u001b[0m\u001b[0;34m(\u001b[0m\u001b[0maxis\u001b[0m\u001b[0;34m)\u001b[0m\u001b[0;34m,\u001b[0m \u001b[0mraise_missing\u001b[0m\u001b[0;34m=\u001b[0m\u001b[0mraise_missing\u001b[0m\u001b[0;34m\u001b[0m\u001b[0;34m\u001b[0m\u001b[0m\n\u001b[0m\u001b[1;32m   1553\u001b[0m         )\n\u001b[1;32m   1554\u001b[0m         \u001b[0;32mreturn\u001b[0m \u001b[0mkeyarr\u001b[0m\u001b[0;34m,\u001b[0m \u001b[0mindexer\u001b[0m\u001b[0;34m\u001b[0m\u001b[0;34m\u001b[0m\u001b[0m\n",
      "\u001b[0;32m~/opt/anaconda3/lib/python3.7/site-packages/pandas/core/indexing.py\u001b[0m in \u001b[0;36m_validate_read_indexer\u001b[0;34m(self, key, indexer, axis, raise_missing)\u001b[0m\n\u001b[1;32m   1652\u001b[0m             \u001b[0;32mif\u001b[0m \u001b[0;32mnot\u001b[0m \u001b[0;34m(\u001b[0m\u001b[0max\u001b[0m\u001b[0;34m.\u001b[0m\u001b[0mis_categorical\u001b[0m\u001b[0;34m(\u001b[0m\u001b[0;34m)\u001b[0m \u001b[0;32mor\u001b[0m \u001b[0max\u001b[0m\u001b[0;34m.\u001b[0m\u001b[0mis_interval\u001b[0m\u001b[0;34m(\u001b[0m\u001b[0;34m)\u001b[0m\u001b[0;34m)\u001b[0m\u001b[0;34m:\u001b[0m\u001b[0;34m\u001b[0m\u001b[0;34m\u001b[0m\u001b[0m\n\u001b[1;32m   1653\u001b[0m                 raise KeyError(\n\u001b[0;32m-> 1654\u001b[0;31m                     \u001b[0;34m\"Passing list-likes to .loc or [] with any missing labels \"\u001b[0m\u001b[0;34m\u001b[0m\u001b[0;34m\u001b[0m\u001b[0m\n\u001b[0m\u001b[1;32m   1655\u001b[0m                     \u001b[0;34m\"is no longer supported, see \"\u001b[0m\u001b[0;34m\u001b[0m\u001b[0;34m\u001b[0m\u001b[0m\n\u001b[1;32m   1656\u001b[0m                     \u001b[0;34m\"https://pandas.pydata.org/pandas-docs/stable/user_guide/indexing.html#deprecate-loc-reindex-listlike\"\u001b[0m  \u001b[0;31m# noqa:E501\u001b[0m\u001b[0;34m\u001b[0m\u001b[0;34m\u001b[0m\u001b[0m\n",
      "\u001b[0;31mKeyError\u001b[0m: 'Passing list-likes to .loc or [] with any missing labels is no longer supported, see https://pandas.pydata.org/pandas-docs/stable/user_guide/indexing.html#deprecate-loc-reindex-listlike'"
     ]
    }
   ],
   "source": [
    "COLUMNS = ['userID', 'location.locationId', 'rating', 'stayDate']\n",
    "df = df.loc[:,COLUMNS]\n",
    "df.head()"
   ]
  },
  {
   "cell_type": "code",
   "execution_count": 127,
   "metadata": {
    "colab": {},
    "colab_type": "code",
    "id": "IU54dlh8PMRP"
   },
   "outputs": [],
   "source": [
    "# ! pip install papermill"
   ]
  },
  {
   "cell_type": "code",
   "execution_count": 128,
   "metadata": {
    "colab": {},
    "colab_type": "code",
    "id": "fJpAA8AZPKmq"
   },
   "outputs": [],
   "source": [
    "# set the environment path to find Recommenders\n",
    "import sys\n",
    "sys.path.append(\"../../\")\n",
    "\n",
    "import itertools\n",
    "import logging\n",
    "import os\n",
    "\n",
    "import numpy as np\n",
    "import pandas as pd\n",
    "import papermill as pm\n",
    "\n",
    "from reco_utils.dataset.python_splitters import python_random_split\n",
    "from reco_utils.evaluation.python_evaluation import map_at_k, ndcg_at_k, precision_at_k, recall_at_k\n",
    "from reco_utils.recommender.sar.sar_singlenode import SARSingleNode"
   ]
  },
  {
   "cell_type": "code",
   "execution_count": 129,
   "metadata": {
    "colab": {},
    "colab_type": "code",
    "id": "epTiTAKIhdib"
   },
   "outputs": [],
   "source": [
    "# top k items to recommend\n",
    "TOP_K = 10"
   ]
  },
  {
   "cell_type": "code",
   "execution_count": 130,
   "metadata": {},
   "outputs": [
    {
     "data": {
      "text/html": [
       "<div>\n",
       "<style scoped>\n",
       "    .dataframe tbody tr th:only-of-type {\n",
       "        vertical-align: middle;\n",
       "    }\n",
       "\n",
       "    .dataframe tbody tr th {\n",
       "        vertical-align: top;\n",
       "    }\n",
       "\n",
       "    .dataframe thead th {\n",
       "        text-align: right;\n",
       "    }\n",
       "</style>\n",
       "<table border=\"1\" class=\"dataframe\">\n",
       "  <thead>\n",
       "    <tr style=\"text-align: right;\">\n",
       "      <th></th>\n",
       "      <th>userID</th>\n",
       "      <th>rating</th>\n",
       "      <th>location.locationId</th>\n",
       "      <th>location.name</th>\n",
       "      <th>location.placeType</th>\n",
       "      <th>location.reviewSummary.count</th>\n",
       "      <th>location.reviewSummary.rating</th>\n",
       "      <th>location.reviewSummary.locationId</th>\n",
       "      <th>tripInfo.stayDate</th>\n",
       "      <th>userProfile.hometown.location.name</th>\n",
       "    </tr>\n",
       "  </thead>\n",
       "  <tbody>\n",
       "    <tr>\n",
       "      <th>0</th>\n",
       "      <td>0</td>\n",
       "      <td>4.0</td>\n",
       "      <td>306130</td>\n",
       "      <td>Lotte Hotel Seoul</td>\n",
       "      <td>ACCOMMODATION</td>\n",
       "      <td>4033.0</td>\n",
       "      <td>4.5</td>\n",
       "      <td>306130.0</td>\n",
       "      <td>2016-02-29</td>\n",
       "      <td>Jakarta</td>\n",
       "    </tr>\n",
       "    <tr>\n",
       "      <th>1</th>\n",
       "      <td>0</td>\n",
       "      <td>2.0</td>\n",
       "      <td>6352819</td>\n",
       "      <td>VIP TRAVEL</td>\n",
       "      <td>ATTRACTION</td>\n",
       "      <td>276.0</td>\n",
       "      <td>4.5</td>\n",
       "      <td>6352819.0</td>\n",
       "      <td>2016-02-29</td>\n",
       "      <td>Jakarta</td>\n",
       "    </tr>\n",
       "    <tr>\n",
       "      <th>2</th>\n",
       "      <td>1</td>\n",
       "      <td>5.0</td>\n",
       "      <td>9033360</td>\n",
       "      <td>Haagen Dazs</td>\n",
       "      <td>EATERY</td>\n",
       "      <td>10.0</td>\n",
       "      <td>4.5</td>\n",
       "      <td>9033360.0</td>\n",
       "      <td>2015-08-31</td>\n",
       "      <td>Seoul</td>\n",
       "    </tr>\n",
       "    <tr>\n",
       "      <th>3</th>\n",
       "      <td>1</td>\n",
       "      <td>5.0</td>\n",
       "      <td>9017499</td>\n",
       "      <td>Gongcha</td>\n",
       "      <td>EATERY</td>\n",
       "      <td>8.0</td>\n",
       "      <td>4.0</td>\n",
       "      <td>9017499.0</td>\n",
       "      <td>2015-11-30</td>\n",
       "      <td>Seoul</td>\n",
       "    </tr>\n",
       "    <tr>\n",
       "      <th>4</th>\n",
       "      <td>1</td>\n",
       "      <td>5.0</td>\n",
       "      <td>4076062</td>\n",
       "      <td>Mr. Pizza Terminal</td>\n",
       "      <td>EATERY</td>\n",
       "      <td>7.0</td>\n",
       "      <td>4.0</td>\n",
       "      <td>4076062.0</td>\n",
       "      <td>2015-06-30</td>\n",
       "      <td>Seoul</td>\n",
       "    </tr>\n",
       "  </tbody>\n",
       "</table>\n",
       "</div>"
      ],
      "text/plain": [
       "   userID  rating  location.locationId       location.name location.placeType  \\\n",
       "0       0     4.0               306130   Lotte Hotel Seoul      ACCOMMODATION   \n",
       "1       0     2.0              6352819          VIP TRAVEL         ATTRACTION   \n",
       "2       1     5.0              9033360         Haagen Dazs             EATERY   \n",
       "3       1     5.0              9017499             Gongcha             EATERY   \n",
       "4       1     5.0              4076062  Mr. Pizza Terminal             EATERY   \n",
       "\n",
       "   location.reviewSummary.count  location.reviewSummary.rating  \\\n",
       "0                        4033.0                            4.5   \n",
       "1                         276.0                            4.5   \n",
       "2                          10.0                            4.5   \n",
       "3                           8.0                            4.0   \n",
       "4                           7.0                            4.0   \n",
       "\n",
       "   location.reviewSummary.locationId tripInfo.stayDate  \\\n",
       "0                           306130.0        2016-02-29   \n",
       "1                          6352819.0        2016-02-29   \n",
       "2                          9033360.0        2015-08-31   \n",
       "3                          9017499.0        2015-11-30   \n",
       "4                          4076062.0        2015-06-30   \n",
       "\n",
       "  userProfile.hometown.location.name  \n",
       "0                            Jakarta  \n",
       "1                            Jakarta  \n",
       "2                              Seoul  \n",
       "3                              Seoul  \n",
       "4                              Seoul  "
      ]
     },
     "execution_count": 130,
     "metadata": {},
     "output_type": "execute_result"
    }
   ],
   "source": [
    "# Convert the float precision to 32-bit in order to reduce memory consumption \n",
    "df.loc[:, 'rating'] = df['rating'].astype(np.float64)\n",
    "df.head()"
   ]
  },
  {
   "cell_type": "code",
   "execution_count": 131,
   "metadata": {},
   "outputs": [
    {
     "name": "stdout",
     "output_type": "stream",
     "text": [
      "<class 'pandas.core.frame.DataFrame'>\n",
      "RangeIndex: 28561 entries, 0 to 28560\n",
      "Data columns (total 10 columns):\n",
      " #   Column                              Non-Null Count  Dtype  \n",
      "---  ------                              --------------  -----  \n",
      " 0   userID                              28561 non-null  int64  \n",
      " 1   rating                              28561 non-null  float64\n",
      " 2   location.locationId                 28561 non-null  int64  \n",
      " 3   location.name                       28561 non-null  object \n",
      " 4   location.placeType                  28561 non-null  object \n",
      " 5   location.reviewSummary.count        28561 non-null  float64\n",
      " 6   location.reviewSummary.rating       28561 non-null  float64\n",
      " 7   location.reviewSummary.locationId   28561 non-null  float64\n",
      " 8   tripInfo.stayDate                   28561 non-null  object \n",
      " 9   userProfile.hometown.location.name  28561 non-null  object \n",
      "dtypes: float64(4), int64(2), object(4)\n",
      "memory usage: 2.2+ MB\n"
     ]
    }
   ],
   "source": [
    "df.info()"
   ]
  },
  {
   "cell_type": "code",
   "execution_count": 132,
   "metadata": {},
   "outputs": [],
   "source": [
    "# import datetime\n",
    "\n",
    "# def convert_date(str_date):\n",
    "#   return datetime.datetime.strptime(str_date, \"%Y-%m-%d\")\n",
    "\n",
    "# df['stayDate'] = df['stayDate'].apply(convert_date)\n",
    "# print(df.info())"
   ]
  },
  {
   "cell_type": "code",
   "execution_count": 134,
   "metadata": {},
   "outputs": [
    {
     "data": {
      "text/html": [
       "<div>\n",
       "<style scoped>\n",
       "    .dataframe tbody tr th:only-of-type {\n",
       "        vertical-align: middle;\n",
       "    }\n",
       "\n",
       "    .dataframe tbody tr th {\n",
       "        vertical-align: top;\n",
       "    }\n",
       "\n",
       "    .dataframe thead th {\n",
       "        text-align: right;\n",
       "    }\n",
       "</style>\n",
       "<table border=\"1\" class=\"dataframe\">\n",
       "  <thead>\n",
       "    <tr style=\"text-align: right;\">\n",
       "      <th></th>\n",
       "      <th>userID</th>\n",
       "      <th>rating</th>\n",
       "      <th>location.locationId</th>\n",
       "      <th>location.name</th>\n",
       "      <th>location.placeType</th>\n",
       "      <th>location.reviewSummary.count</th>\n",
       "      <th>location.reviewSummary.rating</th>\n",
       "      <th>location.reviewSummary.locationId</th>\n",
       "      <th>tripInfo.stayDate</th>\n",
       "      <th>userProfile.hometown.location.name</th>\n",
       "      <th>stayDate</th>\n",
       "    </tr>\n",
       "  </thead>\n",
       "  <tbody>\n",
       "    <tr>\n",
       "      <th>0</th>\n",
       "      <td>0</td>\n",
       "      <td>4.0</td>\n",
       "      <td>306130</td>\n",
       "      <td>Lotte Hotel Seoul</td>\n",
       "      <td>ACCOMMODATION</td>\n",
       "      <td>4033.0</td>\n",
       "      <td>4.5</td>\n",
       "      <td>306130.0</td>\n",
       "      <td>2016-02-29</td>\n",
       "      <td>Jakarta</td>\n",
       "      <td>20160229</td>\n",
       "    </tr>\n",
       "    <tr>\n",
       "      <th>1</th>\n",
       "      <td>0</td>\n",
       "      <td>2.0</td>\n",
       "      <td>6352819</td>\n",
       "      <td>VIP TRAVEL</td>\n",
       "      <td>ATTRACTION</td>\n",
       "      <td>276.0</td>\n",
       "      <td>4.5</td>\n",
       "      <td>6352819.0</td>\n",
       "      <td>2016-02-29</td>\n",
       "      <td>Jakarta</td>\n",
       "      <td>20160229</td>\n",
       "    </tr>\n",
       "    <tr>\n",
       "      <th>2</th>\n",
       "      <td>1</td>\n",
       "      <td>5.0</td>\n",
       "      <td>9033360</td>\n",
       "      <td>Haagen Dazs</td>\n",
       "      <td>EATERY</td>\n",
       "      <td>10.0</td>\n",
       "      <td>4.5</td>\n",
       "      <td>9033360.0</td>\n",
       "      <td>2015-08-31</td>\n",
       "      <td>Seoul</td>\n",
       "      <td>20150831</td>\n",
       "    </tr>\n",
       "    <tr>\n",
       "      <th>3</th>\n",
       "      <td>1</td>\n",
       "      <td>5.0</td>\n",
       "      <td>9017499</td>\n",
       "      <td>Gongcha</td>\n",
       "      <td>EATERY</td>\n",
       "      <td>8.0</td>\n",
       "      <td>4.0</td>\n",
       "      <td>9017499.0</td>\n",
       "      <td>2015-11-30</td>\n",
       "      <td>Seoul</td>\n",
       "      <td>20151130</td>\n",
       "    </tr>\n",
       "    <tr>\n",
       "      <th>4</th>\n",
       "      <td>1</td>\n",
       "      <td>5.0</td>\n",
       "      <td>4076062</td>\n",
       "      <td>Mr. Pizza Terminal</td>\n",
       "      <td>EATERY</td>\n",
       "      <td>7.0</td>\n",
       "      <td>4.0</td>\n",
       "      <td>4076062.0</td>\n",
       "      <td>2015-06-30</td>\n",
       "      <td>Seoul</td>\n",
       "      <td>20150630</td>\n",
       "    </tr>\n",
       "  </tbody>\n",
       "</table>\n",
       "</div>"
      ],
      "text/plain": [
       "   userID  rating  location.locationId       location.name location.placeType  \\\n",
       "0       0     4.0               306130   Lotte Hotel Seoul      ACCOMMODATION   \n",
       "1       0     2.0              6352819          VIP TRAVEL         ATTRACTION   \n",
       "2       1     5.0              9033360         Haagen Dazs             EATERY   \n",
       "3       1     5.0              9017499             Gongcha             EATERY   \n",
       "4       1     5.0              4076062  Mr. Pizza Terminal             EATERY   \n",
       "\n",
       "   location.reviewSummary.count  location.reviewSummary.rating  \\\n",
       "0                        4033.0                            4.5   \n",
       "1                         276.0                            4.5   \n",
       "2                          10.0                            4.5   \n",
       "3                           8.0                            4.0   \n",
       "4                           7.0                            4.0   \n",
       "\n",
       "   location.reviewSummary.locationId tripInfo.stayDate  \\\n",
       "0                           306130.0        2016-02-29   \n",
       "1                          6352819.0        2016-02-29   \n",
       "2                          9033360.0        2015-08-31   \n",
       "3                          9017499.0        2015-11-30   \n",
       "4                          4076062.0        2015-06-30   \n",
       "\n",
       "  userProfile.hometown.location.name  stayDate  \n",
       "0                            Jakarta  20160229  \n",
       "1                            Jakarta  20160229  \n",
       "2                              Seoul  20150831  \n",
       "3                              Seoul  20151130  \n",
       "4                              Seoul  20150630  "
      ]
     },
     "execution_count": 134,
     "metadata": {},
     "output_type": "execute_result"
    }
   ],
   "source": [
    "def clean(date):\n",
    "  return date.replace('-','')\n",
    "\n",
    "df['stayDate'] = df['tripInfo.stayDate'].apply(clean)\n",
    "df.head()"
   ]
  },
  {
   "cell_type": "code",
   "execution_count": 135,
   "metadata": {},
   "outputs": [
    {
     "name": "stdout",
     "output_type": "stream",
     "text": [
      "<class 'pandas.core.frame.DataFrame'>\n",
      "RangeIndex: 28561 entries, 0 to 28560\n",
      "Data columns (total 11 columns):\n",
      " #   Column                              Non-Null Count  Dtype  \n",
      "---  ------                              --------------  -----  \n",
      " 0   userID                              28561 non-null  int64  \n",
      " 1   rating                              28561 non-null  float64\n",
      " 2   location.locationId                 28561 non-null  int64  \n",
      " 3   location.name                       28561 non-null  object \n",
      " 4   location.placeType                  28561 non-null  object \n",
      " 5   location.reviewSummary.count        28561 non-null  float64\n",
      " 6   location.reviewSummary.rating       28561 non-null  float64\n",
      " 7   location.reviewSummary.locationId   28561 non-null  float64\n",
      " 8   tripInfo.stayDate                   28561 non-null  object \n",
      " 9   userProfile.hometown.location.name  28561 non-null  object \n",
      " 10  stayDate                            28561 non-null  object \n",
      "dtypes: float64(4), int64(2), object(5)\n",
      "memory usage: 2.4+ MB\n"
     ]
    }
   ],
   "source": [
    "df.info()"
   ]
  },
  {
   "cell_type": "code",
   "execution_count": 136,
   "metadata": {},
   "outputs": [],
   "source": [
    "df['stayDate'] = df['stayDate'].astype('int')"
   ]
  },
  {
   "cell_type": "code",
   "execution_count": 137,
   "metadata": {},
   "outputs": [
    {
     "data": {
      "text/html": [
       "<div>\n",
       "<style scoped>\n",
       "    .dataframe tbody tr th:only-of-type {\n",
       "        vertical-align: middle;\n",
       "    }\n",
       "\n",
       "    .dataframe tbody tr th {\n",
       "        vertical-align: top;\n",
       "    }\n",
       "\n",
       "    .dataframe thead th {\n",
       "        text-align: right;\n",
       "    }\n",
       "</style>\n",
       "<table border=\"1\" class=\"dataframe\">\n",
       "  <thead>\n",
       "    <tr style=\"text-align: right;\">\n",
       "      <th></th>\n",
       "      <th>userID</th>\n",
       "      <th>rating</th>\n",
       "      <th>location.locationId</th>\n",
       "      <th>location.name</th>\n",
       "      <th>location.placeType</th>\n",
       "      <th>location.reviewSummary.count</th>\n",
       "      <th>location.reviewSummary.rating</th>\n",
       "      <th>location.reviewSummary.locationId</th>\n",
       "      <th>tripInfo.stayDate</th>\n",
       "      <th>userProfile.hometown.location.name</th>\n",
       "      <th>stayDate</th>\n",
       "    </tr>\n",
       "  </thead>\n",
       "  <tbody>\n",
       "    <tr>\n",
       "      <th>0</th>\n",
       "      <td>0</td>\n",
       "      <td>4.0</td>\n",
       "      <td>306130</td>\n",
       "      <td>Lotte Hotel Seoul</td>\n",
       "      <td>ACCOMMODATION</td>\n",
       "      <td>4033.0</td>\n",
       "      <td>4.5</td>\n",
       "      <td>306130.0</td>\n",
       "      <td>2016-02-29</td>\n",
       "      <td>Jakarta</td>\n",
       "      <td>20160229</td>\n",
       "    </tr>\n",
       "    <tr>\n",
       "      <th>1</th>\n",
       "      <td>0</td>\n",
       "      <td>2.0</td>\n",
       "      <td>6352819</td>\n",
       "      <td>VIP TRAVEL</td>\n",
       "      <td>ATTRACTION</td>\n",
       "      <td>276.0</td>\n",
       "      <td>4.5</td>\n",
       "      <td>6352819.0</td>\n",
       "      <td>2016-02-29</td>\n",
       "      <td>Jakarta</td>\n",
       "      <td>20160229</td>\n",
       "    </tr>\n",
       "    <tr>\n",
       "      <th>2</th>\n",
       "      <td>1</td>\n",
       "      <td>5.0</td>\n",
       "      <td>9033360</td>\n",
       "      <td>Haagen Dazs</td>\n",
       "      <td>EATERY</td>\n",
       "      <td>10.0</td>\n",
       "      <td>4.5</td>\n",
       "      <td>9033360.0</td>\n",
       "      <td>2015-08-31</td>\n",
       "      <td>Seoul</td>\n",
       "      <td>20150831</td>\n",
       "    </tr>\n",
       "    <tr>\n",
       "      <th>3</th>\n",
       "      <td>1</td>\n",
       "      <td>5.0</td>\n",
       "      <td>9017499</td>\n",
       "      <td>Gongcha</td>\n",
       "      <td>EATERY</td>\n",
       "      <td>8.0</td>\n",
       "      <td>4.0</td>\n",
       "      <td>9017499.0</td>\n",
       "      <td>2015-11-30</td>\n",
       "      <td>Seoul</td>\n",
       "      <td>20151130</td>\n",
       "    </tr>\n",
       "    <tr>\n",
       "      <th>4</th>\n",
       "      <td>1</td>\n",
       "      <td>5.0</td>\n",
       "      <td>4076062</td>\n",
       "      <td>Mr. Pizza Terminal</td>\n",
       "      <td>EATERY</td>\n",
       "      <td>7.0</td>\n",
       "      <td>4.0</td>\n",
       "      <td>4076062.0</td>\n",
       "      <td>2015-06-30</td>\n",
       "      <td>Seoul</td>\n",
       "      <td>20150630</td>\n",
       "    </tr>\n",
       "  </tbody>\n",
       "</table>\n",
       "</div>"
      ],
      "text/plain": [
       "   userID  rating  location.locationId       location.name location.placeType  \\\n",
       "0       0     4.0               306130   Lotte Hotel Seoul      ACCOMMODATION   \n",
       "1       0     2.0              6352819          VIP TRAVEL         ATTRACTION   \n",
       "2       1     5.0              9033360         Haagen Dazs             EATERY   \n",
       "3       1     5.0              9017499             Gongcha             EATERY   \n",
       "4       1     5.0              4076062  Mr. Pizza Terminal             EATERY   \n",
       "\n",
       "   location.reviewSummary.count  location.reviewSummary.rating  \\\n",
       "0                        4033.0                            4.5   \n",
       "1                         276.0                            4.5   \n",
       "2                          10.0                            4.5   \n",
       "3                           8.0                            4.0   \n",
       "4                           7.0                            4.0   \n",
       "\n",
       "   location.reviewSummary.locationId tripInfo.stayDate  \\\n",
       "0                           306130.0        2016-02-29   \n",
       "1                          6352819.0        2016-02-29   \n",
       "2                          9033360.0        2015-08-31   \n",
       "3                          9017499.0        2015-11-30   \n",
       "4                          4076062.0        2015-06-30   \n",
       "\n",
       "  userProfile.hometown.location.name  stayDate  \n",
       "0                            Jakarta  20160229  \n",
       "1                            Jakarta  20160229  \n",
       "2                              Seoul  20150831  \n",
       "3                              Seoul  20151130  \n",
       "4                              Seoul  20150630  "
      ]
     },
     "execution_count": 137,
     "metadata": {},
     "output_type": "execute_result"
    }
   ],
   "source": [
    "df.head()"
   ]
  },
  {
   "cell_type": "code",
   "execution_count": 138,
   "metadata": {},
   "outputs": [],
   "source": [
    "train, test = python_random_split(df, 0.75)"
   ]
  },
  {
   "cell_type": "code",
   "execution_count": 139,
   "metadata": {},
   "outputs": [],
   "source": [
    "header = {\n",
    "    \"col_user\": \"userID\",\n",
    "    \"col_item\": \"location.locationId\",\n",
    "    \"col_rating\": \"rating\",\n",
    "    \"col_timestamp\": \"stayDate\",\n",
    "    \"col_prediction\": \"Prediction\",\n",
    "}"
   ]
  },
  {
   "cell_type": "code",
   "execution_count": 140,
   "metadata": {},
   "outputs": [],
   "source": [
    "# set log level to INFO\n",
    "logging.basicConfig(level=logging.DEBUG, \n",
    "                    format='%(asctime)s %(levelname)-8s %(message)s')\n",
    "\n",
    "model = SARSingleNode(\n",
    "    similarity_type=\"jaccard\", \n",
    "    time_decay_coefficient=30, \n",
    "    time_now=None, \n",
    "    timedecay_formula=True, \n",
    "    **header\n",
    ")"
   ]
  },
  {
   "cell_type": "code",
   "execution_count": 141,
   "metadata": {},
   "outputs": [
    {
     "name": "stderr",
     "output_type": "stream",
     "text": [
      "2020-05-28 15:42:38,183 INFO     Collecting user affinity matrix\n",
      "2020-05-28 15:42:38,186 INFO     Calculating time-decayed affinities\n",
      "2020-05-28 15:42:38,204 INFO     Creating index columns\n",
      "2020-05-28 15:42:38,246 INFO     Building user affinity sparse matrix\n",
      "2020-05-28 15:42:38,249 INFO     Calculating item co-occurrence\n",
      "2020-05-28 15:42:38,413 INFO     Calculating item similarity\n",
      "2020-05-28 15:42:38,413 INFO     Using jaccard based similarity\n",
      "2020-05-28 15:42:42,861 INFO     Done training\n"
     ]
    }
   ],
   "source": [
    "model.fit(train)"
   ]
  },
  {
   "cell_type": "code",
   "execution_count": 142,
   "metadata": {},
   "outputs": [
    {
     "ename": "ValueError",
     "evalue": "SAR cannot score users that are not in the training set",
     "output_type": "error",
     "traceback": [
      "\u001b[0;31m---------------------------------------------------------------------------\u001b[0m",
      "\u001b[0;31mValueError\u001b[0m                                Traceback (most recent call last)",
      "\u001b[0;32m<ipython-input-142-0be2c7b004e7>\u001b[0m in \u001b[0;36m<module>\u001b[0;34m\u001b[0m\n\u001b[0;32m----> 1\u001b[0;31m \u001b[0mtop_k\u001b[0m \u001b[0;34m=\u001b[0m \u001b[0mmodel\u001b[0m\u001b[0;34m.\u001b[0m\u001b[0mrecommend_k_items\u001b[0m\u001b[0;34m(\u001b[0m\u001b[0mtest\u001b[0m\u001b[0;34m,\u001b[0m \u001b[0mremove_seen\u001b[0m\u001b[0;34m=\u001b[0m\u001b[0;32mTrue\u001b[0m\u001b[0;34m)\u001b[0m\u001b[0;34m\u001b[0m\u001b[0;34m\u001b[0m\u001b[0m\n\u001b[0m",
      "\u001b[0;32m~/Tobigs-Recommendation-Conf-Phase2/src/model/reco_utils/recommender/sar/sar_singlenode.py\u001b[0m in \u001b[0;36mrecommend_k_items\u001b[0;34m(self, test, top_k, sort_top_k, remove_seen, normalize)\u001b[0m\n\u001b[1;32m    454\u001b[0m         \"\"\"\n\u001b[1;32m    455\u001b[0m \u001b[0;34m\u001b[0m\u001b[0m\n\u001b[0;32m--> 456\u001b[0;31m         \u001b[0mtest_scores\u001b[0m \u001b[0;34m=\u001b[0m \u001b[0mself\u001b[0m\u001b[0;34m.\u001b[0m\u001b[0mscore\u001b[0m\u001b[0;34m(\u001b[0m\u001b[0mtest\u001b[0m\u001b[0;34m,\u001b[0m \u001b[0mremove_seen\u001b[0m\u001b[0;34m=\u001b[0m\u001b[0mremove_seen\u001b[0m\u001b[0;34m,\u001b[0m \u001b[0mnormalize\u001b[0m\u001b[0;34m=\u001b[0m\u001b[0mnormalize\u001b[0m\u001b[0;34m)\u001b[0m\u001b[0;34m\u001b[0m\u001b[0;34m\u001b[0m\u001b[0m\n\u001b[0m\u001b[1;32m    457\u001b[0m \u001b[0;34m\u001b[0m\u001b[0m\n\u001b[1;32m    458\u001b[0m         top_items, top_scores = get_top_k_scored_items(\n",
      "\u001b[0;32m~/Tobigs-Recommendation-Conf-Phase2/src/model/reco_utils/recommender/sar/sar_singlenode.py\u001b[0m in \u001b[0;36mscore\u001b[0;34m(self, test, remove_seen, normalize)\u001b[0m\n\u001b[1;32m    307\u001b[0m         )\n\u001b[1;32m    308\u001b[0m         \u001b[0;32mif\u001b[0m \u001b[0many\u001b[0m\u001b[0;34m(\u001b[0m\u001b[0mnp\u001b[0m\u001b[0;34m.\u001b[0m\u001b[0misnan\u001b[0m\u001b[0;34m(\u001b[0m\u001b[0muser_ids\u001b[0m\u001b[0;34m)\u001b[0m\u001b[0;34m)\u001b[0m\u001b[0;34m:\u001b[0m\u001b[0;34m\u001b[0m\u001b[0;34m\u001b[0m\u001b[0m\n\u001b[0;32m--> 309\u001b[0;31m             \u001b[0;32mraise\u001b[0m \u001b[0mValueError\u001b[0m\u001b[0;34m(\u001b[0m\u001b[0;34m\"SAR cannot score users that are not in the training set\"\u001b[0m\u001b[0;34m)\u001b[0m\u001b[0;34m\u001b[0m\u001b[0;34m\u001b[0m\u001b[0m\n\u001b[0m\u001b[1;32m    310\u001b[0m \u001b[0;34m\u001b[0m\u001b[0m\n\u001b[1;32m    311\u001b[0m         \u001b[0;31m# calculate raw scores with a matrix multiplication\u001b[0m\u001b[0;34m\u001b[0m\u001b[0;34m\u001b[0m\u001b[0;34m\u001b[0m\u001b[0m\n",
      "\u001b[0;31mValueError\u001b[0m: SAR cannot score users that are not in the training set"
     ]
    }
   ],
   "source": [
    "top_k = model.recommend_k_items(test, remove_seen=True)"
   ]
  },
  {
   "cell_type": "code",
   "execution_count": 143,
   "metadata": {},
   "outputs": [
    {
     "ename": "NameError",
     "evalue": "name 'top_k' is not defined",
     "output_type": "error",
     "traceback": [
      "\u001b[0;31m---------------------------------------------------------------------------\u001b[0m",
      "\u001b[0;31mNameError\u001b[0m                                 Traceback (most recent call last)",
      "\u001b[0;32m<ipython-input-143-de2d57c8861d>\u001b[0m in \u001b[0;36m<module>\u001b[0;34m\u001b[0m\n\u001b[0;32m----> 1\u001b[0;31m \u001b[0mtop_k\u001b[0m\u001b[0;34m.\u001b[0m\u001b[0mshape\u001b[0m\u001b[0;34m\u001b[0m\u001b[0;34m\u001b[0m\u001b[0m\n\u001b[0m",
      "\u001b[0;31mNameError\u001b[0m: name 'top_k' is not defined"
     ]
    }
   ],
   "source": [
    "top_k.shape"
   ]
  },
  {
   "cell_type": "code",
   "execution_count": null,
   "metadata": {},
   "outputs": [],
   "source": [
    "top_k_with_titles = (top_k.join(data[['location.locationId', 'location.name']].drop_duplicates().set_index('location.locationId'), \n",
    "                                on='location.locationId', \n",
    "                                how='inner').sort_values(by=['userId', 'Prediction'], ascending=False))\n",
    "display(top_k_with_titles.head(10))"
   ]
  },
  {
   "cell_type": "markdown",
   "metadata": {},
   "source": [
    "## Evaluate the results  \n",
    "항목 유사도 행렬 S와 사용자 선호도 행렬 A가 행렬 곱으로생성된 추천 점수는 movielens 데이터 세트의 원래 명시적 등급과 동일한 축을 가져야 합니다.  \n",
    "즉, SAR 알고리즘은 사용자 - 항목 쌍에 대한 명시적 등급을 “예측하는 것”이 아니라 관련되는 항목을 사용자에게 “추천하는 작업”을 의미합니다.  \n",
    "RMSE와 같은 평가 지표보다 precision@k, recall@k 등과 같은 순위측정 기준은 SAR 알고리즘을 평가하는 데 더 적합합니다.  \n",
    "다음은reco_utils에 제공된 평가 함수를 사용하여 SAR 모델을 평가하는 방법을 보여줍니다."
   ]
  },
  {
   "cell_type": "code",
   "execution_count": null,
   "metadata": {},
   "outputs": [],
   "source": [
    "# all ranking metrics have the same arguments\n",
    "args = [test, top_k]\n",
    "kwargs = dict(col_user='userID', \n",
    "              col_item='location.locationId', \n",
    "              col_rating='rating', \n",
    "              col_prediction='Prediction', \n",
    "              relevancy_method='top_k', \n",
    "              k=TOP_K)\n",
    "\n",
    "eval_map = map_at_k(*args, **kwargs)\n",
    "eval_ndcg = ndcg_at_k(*args, **kwargs)\n",
    "eval_precision = precision_at_k(*args, **kwargs)\n",
    "eval_recall = recall_at_k(*args, **kwargs)"
   ]
  },
  {
   "cell_type": "code",
   "execution_count": null,
   "metadata": {},
   "outputs": [],
   "source": [
    "to_k.head()\n"
   ]
  },
  {
   "cell_type": "code",
   "execution_count": null,
   "metadata": {},
   "outputs": [],
   "source": [
    "print({model.model_str},{TOP_K},{eval_map},{eval_ndcg},{eval_precision},{eval_recall}, sep='\\n')"
   ]
  },
  {
   "cell_type": "code",
   "execution_count": null,
   "metadata": {},
   "outputs": [],
   "source": []
  },
  {
   "cell_type": "code",
   "execution_count": null,
   "metadata": {},
   "outputs": [],
   "source": []
  }
 ],
 "metadata": {
  "colab": {
   "authorship_tag": "ABX9TyOLoeloAaSZ79/m0x8Gfpk2",
   "collapsed_sections": [],
   "name": "YN_SAR_based_Recommender.ipynb",
   "provenance": []
  },
  "kernelspec": {
   "display_name": "Python 3",
   "language": "python",
   "name": "python3"
  },
  "language_info": {
   "codemirror_mode": {
    "name": "ipython",
    "version": 3
   },
   "file_extension": ".py",
   "mimetype": "text/x-python",
   "name": "python",
   "nbconvert_exporter": "python",
   "pygments_lexer": "ipython3",
   "version": "3.7.4"
  }
 },
 "nbformat": 4,
 "nbformat_minor": 4
}
