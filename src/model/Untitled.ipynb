{
 "cells": [
  {
   "cell_type": "code",
   "execution_count": 3,
   "metadata": {
    "scrolled": true
   },
   "outputs": [
    {
     "data": {
      "text/html": [
       "<div>\n",
       "<style scoped>\n",
       "    .dataframe tbody tr th:only-of-type {\n",
       "        vertical-align: middle;\n",
       "    }\n",
       "\n",
       "    .dataframe tbody tr th {\n",
       "        vertical-align: top;\n",
       "    }\n",
       "\n",
       "    .dataframe thead th {\n",
       "        text-align: right;\n",
       "    }\n",
       "</style>\n",
       "<table border=\"1\" class=\"dataframe\">\n",
       "  <thead>\n",
       "    <tr style=\"text-align: right;\">\n",
       "      <th></th>\n",
       "      <th>locationId</th>\n",
       "      <th>rated_count</th>\n",
       "      <th>average_photonum</th>\n",
       "      <th>average_rating</th>\n",
       "      <th>userID</th>\n",
       "      <th>users_mean_rating</th>\n",
       "      <th>user_reviewcount</th>\n",
       "      <th>rating</th>\n",
       "      <th>placeType</th>\n",
       "      <th>createdDate</th>\n",
       "      <th>islocal</th>\n",
       "      <th>photonum</th>\n",
       "    </tr>\n",
       "  </thead>\n",
       "  <tbody>\n",
       "    <tr>\n",
       "      <th>0</th>\n",
       "      <td>299152</td>\n",
       "      <td>13</td>\n",
       "      <td>2.846154</td>\n",
       "      <td>3.692308</td>\n",
       "      <td>4842</td>\n",
       "      <td>3.677083</td>\n",
       "      <td>96</td>\n",
       "      <td>5</td>\n",
       "      <td>ACCOMMODATION</td>\n",
       "      <td>20171009</td>\n",
       "      <td>1</td>\n",
       "      <td>12</td>\n",
       "    </tr>\n",
       "    <tr>\n",
       "      <th>1</th>\n",
       "      <td>299152</td>\n",
       "      <td>13</td>\n",
       "      <td>2.846154</td>\n",
       "      <td>3.692308</td>\n",
       "      <td>9212</td>\n",
       "      <td>3.791667</td>\n",
       "      <td>240</td>\n",
       "      <td>3</td>\n",
       "      <td>ACCOMMODATION</td>\n",
       "      <td>20180306</td>\n",
       "      <td>1</td>\n",
       "      <td>0</td>\n",
       "    </tr>\n",
       "    <tr>\n",
       "      <th>2</th>\n",
       "      <td>299152</td>\n",
       "      <td>13</td>\n",
       "      <td>2.846154</td>\n",
       "      <td>3.692308</td>\n",
       "      <td>14262</td>\n",
       "      <td>4.500000</td>\n",
       "      <td>2</td>\n",
       "      <td>4</td>\n",
       "      <td>ACCOMMODATION</td>\n",
       "      <td>20121220</td>\n",
       "      <td>0</td>\n",
       "      <td>1</td>\n",
       "    </tr>\n",
       "    <tr>\n",
       "      <th>3</th>\n",
       "      <td>299152</td>\n",
       "      <td>13</td>\n",
       "      <td>2.846154</td>\n",
       "      <td>3.692308</td>\n",
       "      <td>20235</td>\n",
       "      <td>3.000000</td>\n",
       "      <td>4</td>\n",
       "      <td>1</td>\n",
       "      <td>ACCOMMODATION</td>\n",
       "      <td>20161127</td>\n",
       "      <td>0</td>\n",
       "      <td>4</td>\n",
       "    </tr>\n",
       "    <tr>\n",
       "      <th>4</th>\n",
       "      <td>299152</td>\n",
       "      <td>13</td>\n",
       "      <td>2.846154</td>\n",
       "      <td>3.692308</td>\n",
       "      <td>21432</td>\n",
       "      <td>4.200000</td>\n",
       "      <td>5</td>\n",
       "      <td>4</td>\n",
       "      <td>ACCOMMODATION</td>\n",
       "      <td>20120416</td>\n",
       "      <td>0</td>\n",
       "      <td>0</td>\n",
       "    </tr>\n",
       "  </tbody>\n",
       "</table>\n",
       "</div>"
      ],
      "text/plain": [
       "   locationId  rated_count  average_photonum  average_rating  userID  \\\n",
       "0      299152           13          2.846154        3.692308    4842   \n",
       "1      299152           13          2.846154        3.692308    9212   \n",
       "2      299152           13          2.846154        3.692308   14262   \n",
       "3      299152           13          2.846154        3.692308   20235   \n",
       "4      299152           13          2.846154        3.692308   21432   \n",
       "\n",
       "   users_mean_rating  user_reviewcount  rating      placeType  createdDate  \\\n",
       "0           3.677083                96       5  ACCOMMODATION     20171009   \n",
       "1           3.791667               240       3  ACCOMMODATION     20180306   \n",
       "2           4.500000                 2       4  ACCOMMODATION     20121220   \n",
       "3           3.000000                 4       1  ACCOMMODATION     20161127   \n",
       "4           4.200000                 5       4  ACCOMMODATION     20120416   \n",
       "\n",
       "   islocal  photonum  \n",
       "0        1        12  \n",
       "1        1         0  \n",
       "2        0         1  \n",
       "3        0         4  \n",
       "4        0         0  "
      ]
     },
     "execution_count": 3,
     "metadata": {},
     "output_type": "execute_result"
    }
   ],
   "source": [
    "import pandas as pd\n",
    "import os\n",
    "\n",
    "new_df = pd.read_csv(os.path.join(\"..\",\"..\",\"data\",\"TA_User_Reviws_Korea_all_v2_new_df.csv\"))\n",
    "new_df = new_df.drop(['location_name'], axis=1)\n",
    "new_df.head()  "
   ]
  },
  {
   "cell_type": "markdown",
   "metadata": {},
   "source": [
    "### 로컬 / 글로벌 데이터 분리"
   ]
  },
  {
   "cell_type": "code",
   "execution_count": 4,
   "metadata": {},
   "outputs": [
    {
     "name": "stdout",
     "output_type": "stream",
     "text": [
      "local_df shape: (43294, 12) global_df shape : (94196, 12)\n"
     ]
    }
   ],
   "source": [
    "# 로컬 / 글로벌 데이터 분리\n",
    "local_df = new_df.loc[new_df['islocal']==1]\n",
    "global_df = new_df.loc[new_df['islocal']==0]\n",
    "print('local_df shape:',local_df.shape, 'global_df shape :',global_df.shape)"
   ]
  },
  {
   "cell_type": "markdown",
   "metadata": {},
   "source": [
    "## 1. local_modeling"
   ]
  },
  {
   "cell_type": "code",
   "execution_count": 5,
   "metadata": {
    "colab": {},
    "colab_type": "code",
    "id": "zRtVazapcakN"
   },
   "outputs": [],
   "source": [
    "def get_data(column, df) :\n",
    "    \n",
    "    vocab = {}\n",
    "    num = 0\n",
    "\n",
    "    for i in df[column]: # np.hstack([train[column], test[column]]): \n",
    "        if vocab.get(i) != None:\n",
    "            continue\n",
    "\n",
    "        vocab[i] = num\n",
    "        num += 1\n",
    "\n",
    "    encoded = [vocab[i] for i in df[column]]\n",
    "    # encoded_d = [vocab[i] for i in test[column]]\n",
    "    \n",
    "    return encoded, num, vocab"
   ]
  },
  {
   "cell_type": "code",
   "execution_count": 6,
   "metadata": {},
   "outputs": [],
   "source": [
    "encoded_userID, num_userID, vocab_userID = get_data('userID', local_df) \n",
    "\n",
    "encoded_users_mean_rating, num_users_mean_rating, vocab_users_mean_rating = get_data('users_mean_rating', local_df) \n",
    "\n",
    "encoded_user_reviewcount,  num_user_reviewcount, vocab_user_reviewcount = get_data('user_reviewcount', local_df) \n",
    "\n",
    "encoded_locationId, num_locationId, vocab_locationId = get_data('locationId', local_df) \n",
    "encoded_placeType,  num_placeType, vocab_placeType = get_data('placeType', local_df) \n",
    "\n",
    "encoded_createdDate,  num_createdDate, vocab_createdDate = get_data('createdDate', local_df) \n",
    "encoded_photonum,  num_photonum, vocab_photonum = get_data('photonum', local_df) "
   ]
  },
  {
   "cell_type": "code",
   "execution_count": null,
   "metadata": {},
   "outputs": [],
   "source": [
    "import numpy as np\n",
    "import torch\n",
    "import torch.nn.functional as F\n",
    "\n",
    "from torchfm.layer import FeaturesEmbedding, FeaturesLinear, AttentionalFactorizationMachine\n",
    "\n",
    "output_dim = 8 "
   ]
  },
  {
   "cell_type": "code",
   "execution_count": null,
   "metadata": {},
   "outputs": [],
   "source": [
    "def FeaturesLinear(field_dims, output_dim):\n",
    "    fc = torch.nn.Embedding(sum(field_dims), output_dim)\n",
    "    bias = torch.nn.Parameter(torch.zeros((output_dim,)))\n",
    "    offsets = np.array((0, *np.cumsum(field_dims)[:-1]), dtype=np.long)\n",
    "\n",
    "    x = x + x.new_tensor(self.offsets).unsqueeze(0)\n",
    "    return torch.sum(self.fc(x), dim=1) + self.bias\n"
   ]
  },
  {
   "cell_type": "code",
   "execution_count": null,
   "metadata": {},
   "outputs": [],
   "source": [
    "def FeaturesEmbedding():\n",
    "\n",
    "    embedding = torch.nn.Embedding(sum(field_dims), embed_dim)\n",
    "    offsets = np.array((0, *np.cumsum(field_dims)[:-1]), dtype=np.long)\n",
    "    torch.nn.init.xavier_uniform_(embedding.weight.data)\n",
    "\n",
    "    x = x + x.new_tensor(offsets).unsqueeze(0)\n",
    "    return embedding(x)\n"
   ]
  },
  {
   "cell_type": "code",
   "execution_count": null,
   "metadata": {},
   "outputs": [],
   "source": [
    "class AttentionalFactorizationMachineModel(torch.nn.Module):\n",
    "\n",
    "    def __init__(self, field_dims, embed_dim, attn_size, dropouts):\n",
    "        super().__init__()\n",
    "        self.num_fields = len(field_dims)\n",
    "        self.embedding = FeaturesEmbedding(field_dims, embed_dim)\n",
    "        self.linear = FeaturesLinear(field_dims)\n",
    "        self.afm = AttentionalFactorizationMachine(embed_dim, attn_size, dropouts)\n",
    "\n",
    "    def forward(self, x):\n",
    "        \"\"\"\n",
    "        :param x: Long tensor of size ``(batch_size, num_fields)``\n",
    "        \"\"\"\n",
    "        x = self.linear(x) + self.afm(self.embedding(x))\n",
    "        return torch.sigmoid(x.squeeze(1))"
   ]
  },
  {
   "cell_type": "code",
   "execution_count": null,
   "metadata": {},
   "outputs": [],
   "source": []
  },
  {
   "cell_type": "code",
   "execution_count": null,
   "metadata": {},
   "outputs": [],
   "source": [
    "num_fields = len(field_dims)\n",
    "embedding = FeaturesEmbedding(field_dims, embed_dim)\n",
    "linear = FeaturesLinear(field_dims)\n",
    "afm = AttentionalFactorizationMachine(embed_dim, attn_size, dropouts)\n",
    "\n"
   ]
  },
  {
   "cell_type": "code",
   "execution_count": null,
   "metadata": {},
   "outputs": [],
   "source": [
    "x = linear(x) + afm(embedding(x))\n",
    "return torch.sigmoid(x.squeeze(1))"
   ]
  },
  {
   "cell_type": "code",
   "execution_count": null,
   "metadata": {},
   "outputs": [],
   "source": []
  },
  {
   "cell_type": "code",
   "execution_count": null,
   "metadata": {},
   "outputs": [],
   "source": []
  },
  {
   "cell_type": "code",
   "execution_count": null,
   "metadata": {},
   "outputs": [],
   "source": []
  },
  {
   "cell_type": "code",
   "execution_count": null,
   "metadata": {},
   "outputs": [],
   "source": []
  },
  {
   "cell_type": "code",
   "execution_count": null,
   "metadata": {},
   "outputs": [],
   "source": []
  },
  {
   "cell_type": "code",
   "execution_count": null,
   "metadata": {},
   "outputs": [],
   "source": []
  },
  {
   "cell_type": "code",
   "execution_count": null,
   "metadata": {},
   "outputs": [],
   "source": []
  }
 ],
 "metadata": {
  "kernelspec": {
   "display_name": "Python 3",
   "language": "python",
   "name": "python3"
  },
  "language_info": {
   "codemirror_mode": {
    "name": "ipython",
    "version": 3
   },
   "file_extension": ".py",
   "mimetype": "text/x-python",
   "name": "python",
   "nbconvert_exporter": "python",
   "pygments_lexer": "ipython3",
   "version": "3.7.6"
  }
 },
 "nbformat": 4,
 "nbformat_minor": 4
}
