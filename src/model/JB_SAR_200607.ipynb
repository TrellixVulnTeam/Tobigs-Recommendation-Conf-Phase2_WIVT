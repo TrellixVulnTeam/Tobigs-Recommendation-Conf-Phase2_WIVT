{
  "cells": [
    {
      "cell_type": "markdown",
      "metadata": {
        "id": "K9wsNC75Rvhz",
        "colab_type": "text"
      },
      "source": [
        "# SAR \n",
        "* cooccurrence : 성능 그나마 아주 아주 아주 쪼끔 나옴 \n",
        "* jaccard, lift : 성능 0...ㅎ"
      ]
    },
    {
      "cell_type": "markdown",
      "metadata": {},
      "source": [
        "## 1. Load Data"
      ]
    },
    {
      "cell_type": "code",
      "metadata": {
        "id": "7g4yfub4IjPj",
        "colab_type": "code",
        "colab": {
          "base_uri": "https://localhost:8080/",
          "height": 204
        },
        "outputId": "f292d201-3d20-40ba-eca1-a801c7a3a5f3"
      },
      "source": [
        "import pandas as pd\n",
        "import numpy as np\n",
        "import re\n",
        "pd.set_option('display.max_columns', 25)\n",
        "\n",
        "df = pd.read_csv(\"TA_User_Reviews_Korea_all_new_df.csv\")\n",
        "df.head()"
      ],
      "execution_count": 4,
      "outputs": [
        {
          "output_type": "execute_result",
          "data": {
            "text/plain": "   userID  rating  location.locationId       location.name location.placeType  \\\n0       0       4               306130   Lotte Hotel Seoul      ACCOMMODATION   \n1       0       2              6352819          VIP TRAVEL         ATTRACTION   \n2       1       5              9033360         Haagen Dazs             EATERY   \n3       1       5              9017499             Gongcha             EATERY   \n4       1       5              4076062  Mr. Pizza Terminal             EATERY   \n\n   location.reviewSummary.count  location.reviewSummary.rating  \\\n0                        4033.0                            4.5   \n1                         276.0                            4.5   \n2                          10.0                            4.5   \n3                           8.0                            4.0   \n4                           7.0                            4.0   \n\n   location.reviewSummary.locationId tripInfo.stayDate  \\\n0                           306130.0        2016-02-29   \n1                          6352819.0        2016-02-29   \n2                          9033360.0        2015-08-31   \n3                          9017499.0        2015-11-30   \n4                          4076062.0        2015-06-30   \n\n  userProfile.hometown.location.name  \n0                            Jakarta  \n1                            Jakarta  \n2                              Seoul  \n3                              Seoul  \n4                              Seoul  ",
            "text/html": "<div>\n<style scoped>\n    .dataframe tbody tr th:only-of-type {\n        vertical-align: middle;\n    }\n\n    .dataframe tbody tr th {\n        vertical-align: top;\n    }\n\n    .dataframe thead th {\n        text-align: right;\n    }\n</style>\n<table border=\"1\" class=\"dataframe\">\n  <thead>\n    <tr style=\"text-align: right;\">\n      <th></th>\n      <th>userID</th>\n      <th>rating</th>\n      <th>location.locationId</th>\n      <th>location.name</th>\n      <th>location.placeType</th>\n      <th>location.reviewSummary.count</th>\n      <th>location.reviewSummary.rating</th>\n      <th>location.reviewSummary.locationId</th>\n      <th>tripInfo.stayDate</th>\n      <th>userProfile.hometown.location.name</th>\n    </tr>\n  </thead>\n  <tbody>\n    <tr>\n      <th>0</th>\n      <td>0</td>\n      <td>4</td>\n      <td>306130</td>\n      <td>Lotte Hotel Seoul</td>\n      <td>ACCOMMODATION</td>\n      <td>4033.0</td>\n      <td>4.5</td>\n      <td>306130.0</td>\n      <td>2016-02-29</td>\n      <td>Jakarta</td>\n    </tr>\n    <tr>\n      <th>1</th>\n      <td>0</td>\n      <td>2</td>\n      <td>6352819</td>\n      <td>VIP TRAVEL</td>\n      <td>ATTRACTION</td>\n      <td>276.0</td>\n      <td>4.5</td>\n      <td>6352819.0</td>\n      <td>2016-02-29</td>\n      <td>Jakarta</td>\n    </tr>\n    <tr>\n      <th>2</th>\n      <td>1</td>\n      <td>5</td>\n      <td>9033360</td>\n      <td>Haagen Dazs</td>\n      <td>EATERY</td>\n      <td>10.0</td>\n      <td>4.5</td>\n      <td>9033360.0</td>\n      <td>2015-08-31</td>\n      <td>Seoul</td>\n    </tr>\n    <tr>\n      <th>3</th>\n      <td>1</td>\n      <td>5</td>\n      <td>9017499</td>\n      <td>Gongcha</td>\n      <td>EATERY</td>\n      <td>8.0</td>\n      <td>4.0</td>\n      <td>9017499.0</td>\n      <td>2015-11-30</td>\n      <td>Seoul</td>\n    </tr>\n    <tr>\n      <th>4</th>\n      <td>1</td>\n      <td>5</td>\n      <td>4076062</td>\n      <td>Mr. Pizza Terminal</td>\n      <td>EATERY</td>\n      <td>7.0</td>\n      <td>4.0</td>\n      <td>4076062.0</td>\n      <td>2015-06-30</td>\n      <td>Seoul</td>\n    </tr>\n  </tbody>\n</table>\n</div>"
          },
          "metadata": {},
          "execution_count": 4
        }
      ]
    },
    {
      "cell_type": "code",
      "metadata": {
        "id": "b4z0kRK_JXii",
        "colab_type": "code",
        "colab": {
          "base_uri": "https://localhost:8080/",
          "height": 204
        },
        "outputId": "9dbb4137-a134-4553-d356-75b17f61b9ca"
      },
      "source": [
        "COLUMNS = ['userID', 'location.locationId', 'location.name', 'location.placeType' ,'rating', 'tripInfo.stayDate']\n",
        "df = df.loc[:,COLUMNS]\n",
        "df.head()"
      ],
      "execution_count": 5,
      "outputs": [
        {
          "output_type": "execute_result",
          "data": {
            "text/plain": "   userID  location.locationId       location.name location.placeType  rating  \\\n0       0               306130   Lotte Hotel Seoul      ACCOMMODATION       4   \n1       0              6352819          VIP TRAVEL         ATTRACTION       2   \n2       1              9033360         Haagen Dazs             EATERY       5   \n3       1              9017499             Gongcha             EATERY       5   \n4       1              4076062  Mr. Pizza Terminal             EATERY       5   \n\n  tripInfo.stayDate  \n0        2016-02-29  \n1        2016-02-29  \n2        2015-08-31  \n3        2015-11-30  \n4        2015-06-30  ",
            "text/html": "<div>\n<style scoped>\n    .dataframe tbody tr th:only-of-type {\n        vertical-align: middle;\n    }\n\n    .dataframe tbody tr th {\n        vertical-align: top;\n    }\n\n    .dataframe thead th {\n        text-align: right;\n    }\n</style>\n<table border=\"1\" class=\"dataframe\">\n  <thead>\n    <tr style=\"text-align: right;\">\n      <th></th>\n      <th>userID</th>\n      <th>location.locationId</th>\n      <th>location.name</th>\n      <th>location.placeType</th>\n      <th>rating</th>\n      <th>tripInfo.stayDate</th>\n    </tr>\n  </thead>\n  <tbody>\n    <tr>\n      <th>0</th>\n      <td>0</td>\n      <td>306130</td>\n      <td>Lotte Hotel Seoul</td>\n      <td>ACCOMMODATION</td>\n      <td>4</td>\n      <td>2016-02-29</td>\n    </tr>\n    <tr>\n      <th>1</th>\n      <td>0</td>\n      <td>6352819</td>\n      <td>VIP TRAVEL</td>\n      <td>ATTRACTION</td>\n      <td>2</td>\n      <td>2016-02-29</td>\n    </tr>\n    <tr>\n      <th>2</th>\n      <td>1</td>\n      <td>9033360</td>\n      <td>Haagen Dazs</td>\n      <td>EATERY</td>\n      <td>5</td>\n      <td>2015-08-31</td>\n    </tr>\n    <tr>\n      <th>3</th>\n      <td>1</td>\n      <td>9017499</td>\n      <td>Gongcha</td>\n      <td>EATERY</td>\n      <td>5</td>\n      <td>2015-11-30</td>\n    </tr>\n    <tr>\n      <th>4</th>\n      <td>1</td>\n      <td>4076062</td>\n      <td>Mr. Pizza Terminal</td>\n      <td>EATERY</td>\n      <td>5</td>\n      <td>2015-06-30</td>\n    </tr>\n  </tbody>\n</table>\n</div>"
          },
          "metadata": {},
          "execution_count": 5
        }
      ]
    },
    {
      "cell_type": "markdown",
      "metadata": {},
      "source": [
        "## 2. git\n",
        "* https://github.com/microsoft/recommenders/tree/master/reco_utils/recommender/sar "
      ]
    },
    {
      "cell_type": "code",
      "execution_count": null,
      "metadata": {},
      "outputs": [],
      "source": [
        "pip install git+https://github.com/microsoft/recommenders "
      ]
    },
    {
      "cell_type": "code",
      "metadata": {
        "id": "lXRffjxRJxPt",
        "colab_type": "code",
        "colab": {}
      },
      "source": [
        "import sys\n",
        "sys.path.append(\"../../\")\n",
        "\n",
        "import itertools\n",
        "import logging\n",
        "import os\n",
        "\n",
        "import papermill as pm\n",
        "\n",
        "from reco_utils.dataset.python_splitters import python_stratified_split\n",
        "from reco_utils.evaluation.python_evaluation import map_at_k, ndcg_at_k, precision_at_k, recall_at_k\n",
        "from reco_utils.recommender.sar.sar_singlenode import SARSingleNode"
      ],
      "execution_count": 6,
      "outputs": []
    },
    {
      "cell_type": "code",
      "metadata": {
        "id": "4TSLBFglLEYL",
        "colab_type": "code",
        "colab": {}
      },
      "source": [
        "import datetime\n",
        "import time "
      ],
      "execution_count": 7,
      "outputs": []
    },
    {
      "cell_type": "markdown",
      "metadata": {},
      "source": [
        "## 3. Data Preprocessing "
      ]
    },
    {
      "cell_type": "code",
      "metadata": {
        "id": "2kGlEvAbKcKS",
        "colab_type": "code",
        "colab": {}
      },
      "source": [
        "# top k items to recommend\n",
        "TOP_K = 10\n",
        "DATA_SIZE = df.shape[0]"
      ],
      "execution_count": 8,
      "outputs": []
    },
    {
      "cell_type": "code",
      "metadata": {
        "id": "gY0NP7k9KuBo",
        "colab_type": "code",
        "colab": {}
      },
      "source": [
        "df[\"tripInfo.stayDate\"] = df.apply(lambda x : time.mktime(datetime.datetime.strptime(x[\"tripInfo.stayDate\"], \"%Y-%m-%d\").timetuple()), axis=1)"
      ],
      "execution_count": 9,
      "outputs": []
    },
    {
      "cell_type": "code",
      "metadata": {
        "id": "zpc7xkpGMTjs",
        "colab_type": "code",
        "colab": {
          "base_uri": "https://localhost:8080/",
          "height": 204
        },
        "outputId": "6a71112d-6974-40b5-a7cf-cb27efc70e3f"
      },
      "source": [
        "df.head()"
      ],
      "execution_count": 10,
      "outputs": [
        {
          "output_type": "execute_result",
          "data": {
            "text/plain": "   userID  location.locationId       location.name location.placeType  rating  \\\n0       0               306130   Lotte Hotel Seoul      ACCOMMODATION       4   \n1       0              6352819          VIP TRAVEL         ATTRACTION       2   \n2       1              9033360         Haagen Dazs             EATERY       5   \n3       1              9017499             Gongcha             EATERY       5   \n4       1              4076062  Mr. Pizza Terminal             EATERY       5   \n\n   tripInfo.stayDate  \n0       1.456672e+09  \n1       1.456672e+09  \n2       1.440947e+09  \n3       1.448809e+09  \n4       1.435590e+09  ",
            "text/html": "<div>\n<style scoped>\n    .dataframe tbody tr th:only-of-type {\n        vertical-align: middle;\n    }\n\n    .dataframe tbody tr th {\n        vertical-align: top;\n    }\n\n    .dataframe thead th {\n        text-align: right;\n    }\n</style>\n<table border=\"1\" class=\"dataframe\">\n  <thead>\n    <tr style=\"text-align: right;\">\n      <th></th>\n      <th>userID</th>\n      <th>location.locationId</th>\n      <th>location.name</th>\n      <th>location.placeType</th>\n      <th>rating</th>\n      <th>tripInfo.stayDate</th>\n    </tr>\n  </thead>\n  <tbody>\n    <tr>\n      <th>0</th>\n      <td>0</td>\n      <td>306130</td>\n      <td>Lotte Hotel Seoul</td>\n      <td>ACCOMMODATION</td>\n      <td>4</td>\n      <td>1.456672e+09</td>\n    </tr>\n    <tr>\n      <th>1</th>\n      <td>0</td>\n      <td>6352819</td>\n      <td>VIP TRAVEL</td>\n      <td>ATTRACTION</td>\n      <td>2</td>\n      <td>1.456672e+09</td>\n    </tr>\n    <tr>\n      <th>2</th>\n      <td>1</td>\n      <td>9033360</td>\n      <td>Haagen Dazs</td>\n      <td>EATERY</td>\n      <td>5</td>\n      <td>1.440947e+09</td>\n    </tr>\n    <tr>\n      <th>3</th>\n      <td>1</td>\n      <td>9017499</td>\n      <td>Gongcha</td>\n      <td>EATERY</td>\n      <td>5</td>\n      <td>1.448809e+09</td>\n    </tr>\n    <tr>\n      <th>4</th>\n      <td>1</td>\n      <td>4076062</td>\n      <td>Mr. Pizza Terminal</td>\n      <td>EATERY</td>\n      <td>5</td>\n      <td>1.435590e+09</td>\n    </tr>\n  </tbody>\n</table>\n</div>"
          },
          "metadata": {},
          "execution_count": 10
        }
      ]
    },
    {
      "cell_type": "code",
      "execution_count": 11,
      "metadata": {},
      "outputs": [],
      "source": [
        "df2 = df.copy()"
      ]
    },
    {
      "cell_type": "code",
      "metadata": {
        "id": "8NbjnqcIO0ph",
        "colab_type": "code",
        "colab": {}
      },
      "source": [
        "header = {\n",
        "    \"col_user\": \"userID\",\n",
        "    \"col_item\": \"location.locationId\",\n",
        "    \"col_rating\": \"rating\",\n",
        "    \"col_timestamp\": \"tripInfo.stayDate\",\n",
        "}"
      ],
      "execution_count": 12,
      "outputs": []
    },
    {
      "cell_type": "code",
      "metadata": {
        "id": "2cDSvrU7PWQV",
        "colab_type": "code",
        "colab": {}
      },
      "source": [
        "train, test = python_stratified_split(df, ratio=0.75, col_user=header[\"col_user\"], col_item=header[\"col_item\"], seed=42)"
      ],
      "execution_count": 13,
      "outputs": []
    },
    {
      "cell_type": "code",
      "metadata": {
        "id": "X8Qqx3f6PZyM",
        "colab_type": "code",
        "colab": {
          "base_uri": "https://localhost:8080/",
          "height": 35
        },
        "outputId": "3d0fe105-5947-4aac-a145-9337d5fb3034"
      },
      "source": [
        "print(train.shape, test.shape)"
      ],
      "execution_count": 14,
      "outputs": [
        {
          "output_type": "stream",
          "name": "stdout",
          "text": "(22167, 6) (6394, 6)\n"
        }
      ]
    },
    {
      "cell_type": "markdown",
      "metadata": {},
      "source": [
        "## 4. Modeling "
      ]
    },
    {
      "cell_type": "code",
      "metadata": {
        "id": "nWw0in7TPmrt",
        "colab_type": "code",
        "colab": {}
      },
      "source": [
        "model = SARSingleNode(\n",
        "    similarity_type=\"cooccurrence\", # jaccard, lift, cooccurrence \n",
        "    time_decay_coefficient=100, # 100일 \n",
        "    time_now=None, \n",
        "    timedecay_formula=True, \n",
        "    **header\n",
        ")"
      ],
      "execution_count": 15,
      "outputs": []
    },
    {
      "cell_type": "code",
      "metadata": {
        "id": "dHztYjd9Pojv",
        "colab_type": "code",
        "colab": {}
      },
      "source": [
        "model.fit(train) # 1초 걸림 "
      ],
      "execution_count": 16,
      "outputs": []
    },
    {
      "cell_type": "code",
      "metadata": {
        "id": "okvhy5EIPrR2",
        "colab_type": "code",
        "colab": {}
      },
      "source": [
        "top_k = model.recommend_k_items(test, remove_seen=True)"
      ],
      "execution_count": 17,
      "outputs": []
    },
    {
      "cell_type": "code",
      "metadata": {
        "id": "8y3AQMZVP5P1",
        "colab_type": "code",
        "colab": {
          "base_uri": "https://localhost:8080/",
          "height": 669
        },
        "outputId": "bbf58866-96ae-4197-f191-36b59ff3cd64"
      },
      "source": [
        "display(top_k.head(20))"
      ],
      "execution_count": 18,
      "outputs": [
        {
          "output_type": "display_data",
          "data": {
            "text/plain": "    userID  location.locationId  prediction\n0        1              1169465    0.001202\n1        1               553546    0.001172\n2        1               324888    0.001117\n3        1              2194168    0.001058\n4        1               301815    0.000873\n5        1               301253    0.000768\n6        1              3477158    0.000735\n7        1               592506    0.000723\n8        1               306139    0.000718\n9        1              1379963    0.000648\n10       2               324888    0.236662\n11       2              1379963    0.155741\n12       2               592506    0.150169\n13       2               320359    0.123903\n14       2              1046419    0.111963\n15       2               324907    0.094453\n16       2               554582    0.090473\n17       2              6671988    0.087554\n18       2               554537    0.078799\n19       2               301815    0.069513",
            "text/html": "<div>\n<style scoped>\n    .dataframe tbody tr th:only-of-type {\n        vertical-align: middle;\n    }\n\n    .dataframe tbody tr th {\n        vertical-align: top;\n    }\n\n    .dataframe thead th {\n        text-align: right;\n    }\n</style>\n<table border=\"1\" class=\"dataframe\">\n  <thead>\n    <tr style=\"text-align: right;\">\n      <th></th>\n      <th>userID</th>\n      <th>location.locationId</th>\n      <th>prediction</th>\n    </tr>\n  </thead>\n  <tbody>\n    <tr>\n      <th>0</th>\n      <td>1</td>\n      <td>1169465</td>\n      <td>0.001202</td>\n    </tr>\n    <tr>\n      <th>1</th>\n      <td>1</td>\n      <td>553546</td>\n      <td>0.001172</td>\n    </tr>\n    <tr>\n      <th>2</th>\n      <td>1</td>\n      <td>324888</td>\n      <td>0.001117</td>\n    </tr>\n    <tr>\n      <th>3</th>\n      <td>1</td>\n      <td>2194168</td>\n      <td>0.001058</td>\n    </tr>\n    <tr>\n      <th>4</th>\n      <td>1</td>\n      <td>301815</td>\n      <td>0.000873</td>\n    </tr>\n    <tr>\n      <th>5</th>\n      <td>1</td>\n      <td>301253</td>\n      <td>0.000768</td>\n    </tr>\n    <tr>\n      <th>6</th>\n      <td>1</td>\n      <td>3477158</td>\n      <td>0.000735</td>\n    </tr>\n    <tr>\n      <th>7</th>\n      <td>1</td>\n      <td>592506</td>\n      <td>0.000723</td>\n    </tr>\n    <tr>\n      <th>8</th>\n      <td>1</td>\n      <td>306139</td>\n      <td>0.000718</td>\n    </tr>\n    <tr>\n      <th>9</th>\n      <td>1</td>\n      <td>1379963</td>\n      <td>0.000648</td>\n    </tr>\n    <tr>\n      <th>10</th>\n      <td>2</td>\n      <td>324888</td>\n      <td>0.236662</td>\n    </tr>\n    <tr>\n      <th>11</th>\n      <td>2</td>\n      <td>1379963</td>\n      <td>0.155741</td>\n    </tr>\n    <tr>\n      <th>12</th>\n      <td>2</td>\n      <td>592506</td>\n      <td>0.150169</td>\n    </tr>\n    <tr>\n      <th>13</th>\n      <td>2</td>\n      <td>320359</td>\n      <td>0.123903</td>\n    </tr>\n    <tr>\n      <th>14</th>\n      <td>2</td>\n      <td>1046419</td>\n      <td>0.111963</td>\n    </tr>\n    <tr>\n      <th>15</th>\n      <td>2</td>\n      <td>324907</td>\n      <td>0.094453</td>\n    </tr>\n    <tr>\n      <th>16</th>\n      <td>2</td>\n      <td>554582</td>\n      <td>0.090473</td>\n    </tr>\n    <tr>\n      <th>17</th>\n      <td>2</td>\n      <td>6671988</td>\n      <td>0.087554</td>\n    </tr>\n    <tr>\n      <th>18</th>\n      <td>2</td>\n      <td>554537</td>\n      <td>0.078799</td>\n    </tr>\n    <tr>\n      <th>19</th>\n      <td>2</td>\n      <td>301815</td>\n      <td>0.069513</td>\n    </tr>\n  </tbody>\n</table>\n</div>"
          },
          "metadata": {}
        }
      ]
    },
    {
      "cell_type": "code",
      "metadata": {
        "id": "rfmFrp-MQcme",
        "colab_type": "code",
        "colab": {
          "base_uri": "https://localhost:8080/",
          "height": 419
        },
        "outputId": "f09a1f65-2398-462b-ecce-d2da761625d3"
      },
      "source": [
        "top_k.loc[top_k[\"prediction\"]!=0] "
      ],
      "execution_count": 19,
      "outputs": [
        {
          "output_type": "execute_result",
          "data": {
            "text/plain": "       userID  location.locationId  prediction\n0           1              1169465    0.001202\n1           1               553546    0.001172\n2           1               324888    0.001117\n3           1              2194168    0.001058\n4           1               301815    0.000873\n...       ...                  ...         ...\n17975    4552               308007    0.013322\n17976    4552              1643534    0.013322\n17977    4552             17678712    0.013322\n17978    4552              3687319    0.013322\n17979    4552               306130    0.013322\n\n[17925 rows x 3 columns]",
            "text/html": "<div>\n<style scoped>\n    .dataframe tbody tr th:only-of-type {\n        vertical-align: middle;\n    }\n\n    .dataframe tbody tr th {\n        vertical-align: top;\n    }\n\n    .dataframe thead th {\n        text-align: right;\n    }\n</style>\n<table border=\"1\" class=\"dataframe\">\n  <thead>\n    <tr style=\"text-align: right;\">\n      <th></th>\n      <th>userID</th>\n      <th>location.locationId</th>\n      <th>prediction</th>\n    </tr>\n  </thead>\n  <tbody>\n    <tr>\n      <th>0</th>\n      <td>1</td>\n      <td>1169465</td>\n      <td>0.001202</td>\n    </tr>\n    <tr>\n      <th>1</th>\n      <td>1</td>\n      <td>553546</td>\n      <td>0.001172</td>\n    </tr>\n    <tr>\n      <th>2</th>\n      <td>1</td>\n      <td>324888</td>\n      <td>0.001117</td>\n    </tr>\n    <tr>\n      <th>3</th>\n      <td>1</td>\n      <td>2194168</td>\n      <td>0.001058</td>\n    </tr>\n    <tr>\n      <th>4</th>\n      <td>1</td>\n      <td>301815</td>\n      <td>0.000873</td>\n    </tr>\n    <tr>\n      <th>...</th>\n      <td>...</td>\n      <td>...</td>\n      <td>...</td>\n    </tr>\n    <tr>\n      <th>17975</th>\n      <td>4552</td>\n      <td>308007</td>\n      <td>0.013322</td>\n    </tr>\n    <tr>\n      <th>17976</th>\n      <td>4552</td>\n      <td>1643534</td>\n      <td>0.013322</td>\n    </tr>\n    <tr>\n      <th>17977</th>\n      <td>4552</td>\n      <td>17678712</td>\n      <td>0.013322</td>\n    </tr>\n    <tr>\n      <th>17978</th>\n      <td>4552</td>\n      <td>3687319</td>\n      <td>0.013322</td>\n    </tr>\n    <tr>\n      <th>17979</th>\n      <td>4552</td>\n      <td>306130</td>\n      <td>0.013322</td>\n    </tr>\n  </tbody>\n</table>\n<p>17925 rows × 3 columns</p>\n</div>"
          },
          "metadata": {},
          "execution_count": 19
        }
      ]
    },
    {
      "cell_type": "markdown",
      "metadata": {},
      "source": [
        "## 5. Evaluate the Result"
      ]
    },
    {
      "cell_type": "code",
      "metadata": {
        "id": "B03MWu-uQWVu",
        "colab_type": "code",
        "colab": {}
      },
      "source": [
        "# all ranking metrics have the same arguments\n",
        "args = [test, top_k]\n",
        "kwargs = dict(col_user='userID', \n",
        "              col_item='location.locationId', \n",
        "              col_rating='rating', \n",
        "              col_prediction='prediction', \n",
        "              relevancy_method='top_k', \n",
        "              k=TOP_K)\n",
        "\n",
        "eval_map = map_at_k(*args, **kwargs)\n",
        "eval_ndcg = ndcg_at_k(*args, **kwargs)\n",
        "eval_precision = precision_at_k(*args, **kwargs)\n",
        "eval_recall = recall_at_k(*args, **kwargs)"
      ],
      "execution_count": 21,
      "outputs": []
    },
    {
      "cell_type": "code",
      "metadata": {
        "id": "sSvqVDvVQ8Hp",
        "colab_type": "code",
        "colab": {
          "base_uri": "https://localhost:8080/",
          "height": 125
        },
        "outputId": "2059a89c-28b9-4d1a-92af-1e864fbe39dc"
      },
      "source": [
        "print(f\"Model:\",\n",
        "      f\"Top K:\\t\\t {TOP_K}\",\n",
        "      f\"MAP:\\t\\t {eval_map:f}\",\n",
        "      f\"NDCG:\\t\\t {eval_ndcg:f}\",\n",
        "      f\"Precision@K:\\t {eval_precision:f}\",\n",
        "      f\"Recall@K:\\t {eval_recall:f}\", sep='\\n')"
      ],
      "execution_count": 22,
      "outputs": [
        {
          "output_type": "stream",
          "name": "stdout",
          "text": "Model:\nTop K:\t\t 10\nMAP:\t\t 0.101020\nNDCG:\t\t 0.146850\nPrecision@K:\t 0.044605\nRecall@K:\t 0.211364\n"
        }
      ]
    },
    {
      "cell_type": "markdown",
      "metadata": {},
      "source": [
        "### user별로 살펴보기 "
      ]
    },
    {
      "cell_type": "code",
      "execution_count": 20,
      "metadata": {},
      "outputs": [
        {
          "output_type": "execute_result",
          "data": {
            "text/plain": "   userID  location.locationId       location.name location.placeType  rating  \\\n0       0               306130   Lotte Hotel Seoul      ACCOMMODATION       4   \n1       0              6352819          VIP TRAVEL         ATTRACTION       2   \n2       1              9033360         Haagen Dazs             EATERY       5   \n3       1              9017499             Gongcha             EATERY       5   \n4       1              4076062  Mr. Pizza Terminal             EATERY       5   \n\n   tripInfo.stayDate  \n0       1.456672e+09  \n1       1.456672e+09  \n2       1.440947e+09  \n3       1.448809e+09  \n4       1.435590e+09  ",
            "text/html": "<div>\n<style scoped>\n    .dataframe tbody tr th:only-of-type {\n        vertical-align: middle;\n    }\n\n    .dataframe tbody tr th {\n        vertical-align: top;\n    }\n\n    .dataframe thead th {\n        text-align: right;\n    }\n</style>\n<table border=\"1\" class=\"dataframe\">\n  <thead>\n    <tr style=\"text-align: right;\">\n      <th></th>\n      <th>userID</th>\n      <th>location.locationId</th>\n      <th>location.name</th>\n      <th>location.placeType</th>\n      <th>rating</th>\n      <th>tripInfo.stayDate</th>\n    </tr>\n  </thead>\n  <tbody>\n    <tr>\n      <th>0</th>\n      <td>0</td>\n      <td>306130</td>\n      <td>Lotte Hotel Seoul</td>\n      <td>ACCOMMODATION</td>\n      <td>4</td>\n      <td>1.456672e+09</td>\n    </tr>\n    <tr>\n      <th>1</th>\n      <td>0</td>\n      <td>6352819</td>\n      <td>VIP TRAVEL</td>\n      <td>ATTRACTION</td>\n      <td>2</td>\n      <td>1.456672e+09</td>\n    </tr>\n    <tr>\n      <th>2</th>\n      <td>1</td>\n      <td>9033360</td>\n      <td>Haagen Dazs</td>\n      <td>EATERY</td>\n      <td>5</td>\n      <td>1.440947e+09</td>\n    </tr>\n    <tr>\n      <th>3</th>\n      <td>1</td>\n      <td>9017499</td>\n      <td>Gongcha</td>\n      <td>EATERY</td>\n      <td>5</td>\n      <td>1.448809e+09</td>\n    </tr>\n    <tr>\n      <th>4</th>\n      <td>1</td>\n      <td>4076062</td>\n      <td>Mr. Pizza Terminal</td>\n      <td>EATERY</td>\n      <td>5</td>\n      <td>1.435590e+09</td>\n    </tr>\n  </tbody>\n</table>\n</div>"
          },
          "metadata": {},
          "execution_count": 20
        }
      ],
      "source": [
        "df2.head()"
      ]
    },
    {
      "cell_type": "code",
      "execution_count": 25,
      "metadata": {},
      "outputs": [],
      "source": [
        "def usercheck(i): \n",
        "    useri = top_k.loc[top_k[\"userID\"]==i]\n",
        "\n",
        "    userj = useri.join(df2[['location.locationId', 'location.name', 'location.placeType']].drop_duplicates().set_index('location.locationId'),\n",
        "                            on='location.locationId', how='left')\n",
        "    \n",
        "    return userj "
      ]
    },
    {
      "cell_type": "code",
      "execution_count": 38,
      "metadata": {},
      "outputs": [
        {
          "output_type": "execute_result",
          "data": {
            "text/plain": "    userID  location.locationId                               location.name  \\\n2        1              9033360                                 Haagen Dazs   \n3        1              9017499                                     Gongcha   \n4        1              4076062                          Mr. Pizza Terminal   \n5        1              9418352                                  Mos Burger   \n6        1              4075465                      Amoje Sinsegye Gangnam   \n7        1              4075829              Hollys Coffee Sinsegye Gangnam   \n8        1              9417118                                  Mongsyusyu   \n9        1              8991046                                      Hanuri   \n10       1              9404826                                    Menmusya   \n11       1              4050184              Nolbu Budaejjigae Central City   \n12       1              4049718                    Burger King Central City   \n13       1              8936445                               Airisi Potato   \n14       1               609340                       Myeong-dong Cathedral   \n15       1              8871100                      Myeongdong Korokke 32G   \n16       1              9435366                           Koko Walnut Snack   \n17       1              2372525      TAJ - Tase of India (Myeongdong Store)   \n18       1              4034990                                     Donburi   \n19       1              3869160              Starbucks Myeongdong Seongdang   \n20       1              4034607                                     Benares   \n21       1              4075550            Bongchu Jjimdak Korea University   \n22       1              4074438                    Youngcheol Street Burger   \n23       1              4075192                                 Jade Garden   \n24       1               306130                           Lotte Hotel Seoul   \n25       1              4549964                                  The Lounge   \n26       1              9254937                               Sushi Hiro Ba   \n27       1              1370728                          Myoungdong Sundubu   \n28       1              7266517                      Kofoo Plate Myeongdong   \n29       1              1371742                      Myongdong Yongyang Juk   \n30       1              3869176  Starbucks Myung-Dong M Plaza Shopping Mall   \n31       1              7272222                      Chicken 678 Myeongdong   \n32       1              2391063                          El Plato Garosugil   \n33       1              1519813                                Hangang Park   \n34       1              2159977            Sheraton Seoul D Cube City Hotel   \n35       1              9245836                 Starbucks Hyundai D-Cube B2   \n\n   location.placeType  rating  tripInfo.stayDate  \n2              EATERY       5       1.440947e+09  \n3              EATERY       5       1.448809e+09  \n4              EATERY       5       1.435590e+09  \n5              EATERY       5       1.448809e+09  \n6              EATERY       5       1.448809e+09  \n7              EATERY       4       1.446217e+09  \n8              EATERY       5       1.451488e+09  \n9              EATERY       5       1.446217e+09  \n10             EATERY       5       1.443539e+09  \n11             EATERY       4       1.432998e+09  \n12             EATERY       4       1.438268e+09  \n13             EATERY       4       1.448809e+09  \n14         ATTRACTION       4       1.427728e+09  \n15             EATERY       5       1.448809e+09  \n16             EATERY       5       1.446217e+09  \n17             EATERY       4       1.440947e+09  \n18             EATERY       4       1.451488e+09  \n19             EATERY       5       1.454166e+09  \n20             EATERY       5       1.448809e+09  \n21             EATERY       5       1.435590e+09  \n22             EATERY       5       1.425049e+09  \n23             EATERY       5       1.425049e+09  \n24      ACCOMMODATION       5       1.438268e+09  \n25             EATERY       5       1.438268e+09  \n26             EATERY       5       1.427728e+09  \n27             EATERY       4       1.438268e+09  \n28             EATERY       5       1.435590e+09  \n29             EATERY       5       1.422630e+09  \n30             EATERY       4       1.446217e+09  \n31             EATERY       4       1.440947e+09  \n32             EATERY       3       1.432998e+09  \n33         ATTRACTION       4       1.443539e+09  \n34      ACCOMMODATION       5       1.440947e+09  \n35             EATERY       5       1.440947e+09  ",
            "text/html": "<div>\n<style scoped>\n    .dataframe tbody tr th:only-of-type {\n        vertical-align: middle;\n    }\n\n    .dataframe tbody tr th {\n        vertical-align: top;\n    }\n\n    .dataframe thead th {\n        text-align: right;\n    }\n</style>\n<table border=\"1\" class=\"dataframe\">\n  <thead>\n    <tr style=\"text-align: right;\">\n      <th></th>\n      <th>userID</th>\n      <th>location.locationId</th>\n      <th>location.name</th>\n      <th>location.placeType</th>\n      <th>rating</th>\n      <th>tripInfo.stayDate</th>\n    </tr>\n  </thead>\n  <tbody>\n    <tr>\n      <th>2</th>\n      <td>1</td>\n      <td>9033360</td>\n      <td>Haagen Dazs</td>\n      <td>EATERY</td>\n      <td>5</td>\n      <td>1.440947e+09</td>\n    </tr>\n    <tr>\n      <th>3</th>\n      <td>1</td>\n      <td>9017499</td>\n      <td>Gongcha</td>\n      <td>EATERY</td>\n      <td>5</td>\n      <td>1.448809e+09</td>\n    </tr>\n    <tr>\n      <th>4</th>\n      <td>1</td>\n      <td>4076062</td>\n      <td>Mr. Pizza Terminal</td>\n      <td>EATERY</td>\n      <td>5</td>\n      <td>1.435590e+09</td>\n    </tr>\n    <tr>\n      <th>5</th>\n      <td>1</td>\n      <td>9418352</td>\n      <td>Mos Burger</td>\n      <td>EATERY</td>\n      <td>5</td>\n      <td>1.448809e+09</td>\n    </tr>\n    <tr>\n      <th>6</th>\n      <td>1</td>\n      <td>4075465</td>\n      <td>Amoje Sinsegye Gangnam</td>\n      <td>EATERY</td>\n      <td>5</td>\n      <td>1.448809e+09</td>\n    </tr>\n    <tr>\n      <th>7</th>\n      <td>1</td>\n      <td>4075829</td>\n      <td>Hollys Coffee Sinsegye Gangnam</td>\n      <td>EATERY</td>\n      <td>4</td>\n      <td>1.446217e+09</td>\n    </tr>\n    <tr>\n      <th>8</th>\n      <td>1</td>\n      <td>9417118</td>\n      <td>Mongsyusyu</td>\n      <td>EATERY</td>\n      <td>5</td>\n      <td>1.451488e+09</td>\n    </tr>\n    <tr>\n      <th>9</th>\n      <td>1</td>\n      <td>8991046</td>\n      <td>Hanuri</td>\n      <td>EATERY</td>\n      <td>5</td>\n      <td>1.446217e+09</td>\n    </tr>\n    <tr>\n      <th>10</th>\n      <td>1</td>\n      <td>9404826</td>\n      <td>Menmusya</td>\n      <td>EATERY</td>\n      <td>5</td>\n      <td>1.443539e+09</td>\n    </tr>\n    <tr>\n      <th>11</th>\n      <td>1</td>\n      <td>4050184</td>\n      <td>Nolbu Budaejjigae Central City</td>\n      <td>EATERY</td>\n      <td>4</td>\n      <td>1.432998e+09</td>\n    </tr>\n    <tr>\n      <th>12</th>\n      <td>1</td>\n      <td>4049718</td>\n      <td>Burger King Central City</td>\n      <td>EATERY</td>\n      <td>4</td>\n      <td>1.438268e+09</td>\n    </tr>\n    <tr>\n      <th>13</th>\n      <td>1</td>\n      <td>8936445</td>\n      <td>Airisi Potato</td>\n      <td>EATERY</td>\n      <td>4</td>\n      <td>1.448809e+09</td>\n    </tr>\n    <tr>\n      <th>14</th>\n      <td>1</td>\n      <td>609340</td>\n      <td>Myeong-dong Cathedral</td>\n      <td>ATTRACTION</td>\n      <td>4</td>\n      <td>1.427728e+09</td>\n    </tr>\n    <tr>\n      <th>15</th>\n      <td>1</td>\n      <td>8871100</td>\n      <td>Myeongdong Korokke 32G</td>\n      <td>EATERY</td>\n      <td>5</td>\n      <td>1.448809e+09</td>\n    </tr>\n    <tr>\n      <th>16</th>\n      <td>1</td>\n      <td>9435366</td>\n      <td>Koko Walnut Snack</td>\n      <td>EATERY</td>\n      <td>5</td>\n      <td>1.446217e+09</td>\n    </tr>\n    <tr>\n      <th>17</th>\n      <td>1</td>\n      <td>2372525</td>\n      <td>TAJ - Tase of India (Myeongdong Store)</td>\n      <td>EATERY</td>\n      <td>4</td>\n      <td>1.440947e+09</td>\n    </tr>\n    <tr>\n      <th>18</th>\n      <td>1</td>\n      <td>4034990</td>\n      <td>Donburi</td>\n      <td>EATERY</td>\n      <td>4</td>\n      <td>1.451488e+09</td>\n    </tr>\n    <tr>\n      <th>19</th>\n      <td>1</td>\n      <td>3869160</td>\n      <td>Starbucks Myeongdong Seongdang</td>\n      <td>EATERY</td>\n      <td>5</td>\n      <td>1.454166e+09</td>\n    </tr>\n    <tr>\n      <th>20</th>\n      <td>1</td>\n      <td>4034607</td>\n      <td>Benares</td>\n      <td>EATERY</td>\n      <td>5</td>\n      <td>1.448809e+09</td>\n    </tr>\n    <tr>\n      <th>21</th>\n      <td>1</td>\n      <td>4075550</td>\n      <td>Bongchu Jjimdak Korea University</td>\n      <td>EATERY</td>\n      <td>5</td>\n      <td>1.435590e+09</td>\n    </tr>\n    <tr>\n      <th>22</th>\n      <td>1</td>\n      <td>4074438</td>\n      <td>Youngcheol Street Burger</td>\n      <td>EATERY</td>\n      <td>5</td>\n      <td>1.425049e+09</td>\n    </tr>\n    <tr>\n      <th>23</th>\n      <td>1</td>\n      <td>4075192</td>\n      <td>Jade Garden</td>\n      <td>EATERY</td>\n      <td>5</td>\n      <td>1.425049e+09</td>\n    </tr>\n    <tr>\n      <th>24</th>\n      <td>1</td>\n      <td>306130</td>\n      <td>Lotte Hotel Seoul</td>\n      <td>ACCOMMODATION</td>\n      <td>5</td>\n      <td>1.438268e+09</td>\n    </tr>\n    <tr>\n      <th>25</th>\n      <td>1</td>\n      <td>4549964</td>\n      <td>The Lounge</td>\n      <td>EATERY</td>\n      <td>5</td>\n      <td>1.438268e+09</td>\n    </tr>\n    <tr>\n      <th>26</th>\n      <td>1</td>\n      <td>9254937</td>\n      <td>Sushi Hiro Ba</td>\n      <td>EATERY</td>\n      <td>5</td>\n      <td>1.427728e+09</td>\n    </tr>\n    <tr>\n      <th>27</th>\n      <td>1</td>\n      <td>1370728</td>\n      <td>Myoungdong Sundubu</td>\n      <td>EATERY</td>\n      <td>4</td>\n      <td>1.438268e+09</td>\n    </tr>\n    <tr>\n      <th>28</th>\n      <td>1</td>\n      <td>7266517</td>\n      <td>Kofoo Plate Myeongdong</td>\n      <td>EATERY</td>\n      <td>5</td>\n      <td>1.435590e+09</td>\n    </tr>\n    <tr>\n      <th>29</th>\n      <td>1</td>\n      <td>1371742</td>\n      <td>Myongdong Yongyang Juk</td>\n      <td>EATERY</td>\n      <td>5</td>\n      <td>1.422630e+09</td>\n    </tr>\n    <tr>\n      <th>30</th>\n      <td>1</td>\n      <td>3869176</td>\n      <td>Starbucks Myung-Dong M Plaza Shopping Mall</td>\n      <td>EATERY</td>\n      <td>4</td>\n      <td>1.446217e+09</td>\n    </tr>\n    <tr>\n      <th>31</th>\n      <td>1</td>\n      <td>7272222</td>\n      <td>Chicken 678 Myeongdong</td>\n      <td>EATERY</td>\n      <td>4</td>\n      <td>1.440947e+09</td>\n    </tr>\n    <tr>\n      <th>32</th>\n      <td>1</td>\n      <td>2391063</td>\n      <td>El Plato Garosugil</td>\n      <td>EATERY</td>\n      <td>3</td>\n      <td>1.432998e+09</td>\n    </tr>\n    <tr>\n      <th>33</th>\n      <td>1</td>\n      <td>1519813</td>\n      <td>Hangang Park</td>\n      <td>ATTRACTION</td>\n      <td>4</td>\n      <td>1.443539e+09</td>\n    </tr>\n    <tr>\n      <th>34</th>\n      <td>1</td>\n      <td>2159977</td>\n      <td>Sheraton Seoul D Cube City Hotel</td>\n      <td>ACCOMMODATION</td>\n      <td>5</td>\n      <td>1.440947e+09</td>\n    </tr>\n    <tr>\n      <th>35</th>\n      <td>1</td>\n      <td>9245836</td>\n      <td>Starbucks Hyundai D-Cube B2</td>\n      <td>EATERY</td>\n      <td>5</td>\n      <td>1.440947e+09</td>\n    </tr>\n  </tbody>\n</table>\n</div>"
          },
          "metadata": {},
          "execution_count": 38
        }
      ],
      "source": [
        "df2.loc[df2[\"userID\"]==1]"
      ]
    },
    {
      "cell_type": "code",
      "execution_count": 26,
      "metadata": {},
      "outputs": [
        {
          "output_type": "execute_result",
          "data": {
            "text/plain": "   userID  location.locationId  prediction  \\\n0       1              1169465    0.001202   \n1       1               553546    0.001172   \n2       1               324888    0.001117   \n3       1              2194168    0.001058   \n4       1               301815    0.000873   \n5       1               301253    0.000768   \n6       1              3477158    0.000735   \n7       1               592506    0.000723   \n8       1               306139    0.000718   \n9       1              1379963    0.000648   \n\n                           location.name location.placeType  \n0                          N Seoul Tower         ATTRACTION  \n1             Myeongdong Shopping Street         ATTRACTION  \n2                   Gyeongbokgung Palace         ATTRACTION  \n3                            Seoul Metro         ATTRACTION  \n4                The Westin Chosun Seoul      ACCOMMODATION  \n5                       The Shilla Seoul      ACCOMMODATION  \n6                           Conrad Seoul      ACCOMMODATION  \n7                               Insadong         ATTRACTION  \n8  THE PLAZA Seoul, Autograph Collection      ACCOMMODATION  \n9                  Bukchon Hanok Village         ATTRACTION  ",
            "text/html": "<div>\n<style scoped>\n    .dataframe tbody tr th:only-of-type {\n        vertical-align: middle;\n    }\n\n    .dataframe tbody tr th {\n        vertical-align: top;\n    }\n\n    .dataframe thead th {\n        text-align: right;\n    }\n</style>\n<table border=\"1\" class=\"dataframe\">\n  <thead>\n    <tr style=\"text-align: right;\">\n      <th></th>\n      <th>userID</th>\n      <th>location.locationId</th>\n      <th>prediction</th>\n      <th>location.name</th>\n      <th>location.placeType</th>\n    </tr>\n  </thead>\n  <tbody>\n    <tr>\n      <th>0</th>\n      <td>1</td>\n      <td>1169465</td>\n      <td>0.001202</td>\n      <td>N Seoul Tower</td>\n      <td>ATTRACTION</td>\n    </tr>\n    <tr>\n      <th>1</th>\n      <td>1</td>\n      <td>553546</td>\n      <td>0.001172</td>\n      <td>Myeongdong Shopping Street</td>\n      <td>ATTRACTION</td>\n    </tr>\n    <tr>\n      <th>2</th>\n      <td>1</td>\n      <td>324888</td>\n      <td>0.001117</td>\n      <td>Gyeongbokgung Palace</td>\n      <td>ATTRACTION</td>\n    </tr>\n    <tr>\n      <th>3</th>\n      <td>1</td>\n      <td>2194168</td>\n      <td>0.001058</td>\n      <td>Seoul Metro</td>\n      <td>ATTRACTION</td>\n    </tr>\n    <tr>\n      <th>4</th>\n      <td>1</td>\n      <td>301815</td>\n      <td>0.000873</td>\n      <td>The Westin Chosun Seoul</td>\n      <td>ACCOMMODATION</td>\n    </tr>\n    <tr>\n      <th>5</th>\n      <td>1</td>\n      <td>301253</td>\n      <td>0.000768</td>\n      <td>The Shilla Seoul</td>\n      <td>ACCOMMODATION</td>\n    </tr>\n    <tr>\n      <th>6</th>\n      <td>1</td>\n      <td>3477158</td>\n      <td>0.000735</td>\n      <td>Conrad Seoul</td>\n      <td>ACCOMMODATION</td>\n    </tr>\n    <tr>\n      <th>7</th>\n      <td>1</td>\n      <td>592506</td>\n      <td>0.000723</td>\n      <td>Insadong</td>\n      <td>ATTRACTION</td>\n    </tr>\n    <tr>\n      <th>8</th>\n      <td>1</td>\n      <td>306139</td>\n      <td>0.000718</td>\n      <td>THE PLAZA Seoul, Autograph Collection</td>\n      <td>ACCOMMODATION</td>\n    </tr>\n    <tr>\n      <th>9</th>\n      <td>1</td>\n      <td>1379963</td>\n      <td>0.000648</td>\n      <td>Bukchon Hanok Village</td>\n      <td>ATTRACTION</td>\n    </tr>\n  </tbody>\n</table>\n</div>"
          },
          "metadata": {},
          "execution_count": 26
        }
      ],
      "source": [
        "usercheck(1)"
      ]
    },
    {
      "cell_type": "code",
      "execution_count": 39,
      "metadata": {},
      "outputs": [
        {
          "output_type": "execute_result",
          "data": {
            "text/plain": "    userID  location.locationId               location.name  \\\n36       2              8587847    Four Seasons Hotel Seoul   \n37       2              1169465               N Seoul Tower   \n38       2               553546  Myeongdong Shopping Street   \n39       2               324888        Gyeongbokgung Palace   \n40       2              2194168                 Seoul Metro   \n41       2              2571660                     Itaewon   \n42       2              9452203     Shilla Stay Gwanghwamun   \n\n   location.placeType  rating  tripInfo.stayDate  \n36      ACCOMMODATION       5       1.488208e+09  \n37         ATTRACTION       4       1.488208e+09  \n38         ATTRACTION       4       1.488208e+09  \n39         ATTRACTION       5       1.488208e+09  \n40         ATTRACTION       4       1.488208e+09  \n41         ATTRACTION       4       1.488208e+09  \n42      ACCOMMODATION       5       1.488208e+09  ",
            "text/html": "<div>\n<style scoped>\n    .dataframe tbody tr th:only-of-type {\n        vertical-align: middle;\n    }\n\n    .dataframe tbody tr th {\n        vertical-align: top;\n    }\n\n    .dataframe thead th {\n        text-align: right;\n    }\n</style>\n<table border=\"1\" class=\"dataframe\">\n  <thead>\n    <tr style=\"text-align: right;\">\n      <th></th>\n      <th>userID</th>\n      <th>location.locationId</th>\n      <th>location.name</th>\n      <th>location.placeType</th>\n      <th>rating</th>\n      <th>tripInfo.stayDate</th>\n    </tr>\n  </thead>\n  <tbody>\n    <tr>\n      <th>36</th>\n      <td>2</td>\n      <td>8587847</td>\n      <td>Four Seasons Hotel Seoul</td>\n      <td>ACCOMMODATION</td>\n      <td>5</td>\n      <td>1.488208e+09</td>\n    </tr>\n    <tr>\n      <th>37</th>\n      <td>2</td>\n      <td>1169465</td>\n      <td>N Seoul Tower</td>\n      <td>ATTRACTION</td>\n      <td>4</td>\n      <td>1.488208e+09</td>\n    </tr>\n    <tr>\n      <th>38</th>\n      <td>2</td>\n      <td>553546</td>\n      <td>Myeongdong Shopping Street</td>\n      <td>ATTRACTION</td>\n      <td>4</td>\n      <td>1.488208e+09</td>\n    </tr>\n    <tr>\n      <th>39</th>\n      <td>2</td>\n      <td>324888</td>\n      <td>Gyeongbokgung Palace</td>\n      <td>ATTRACTION</td>\n      <td>5</td>\n      <td>1.488208e+09</td>\n    </tr>\n    <tr>\n      <th>40</th>\n      <td>2</td>\n      <td>2194168</td>\n      <td>Seoul Metro</td>\n      <td>ATTRACTION</td>\n      <td>4</td>\n      <td>1.488208e+09</td>\n    </tr>\n    <tr>\n      <th>41</th>\n      <td>2</td>\n      <td>2571660</td>\n      <td>Itaewon</td>\n      <td>ATTRACTION</td>\n      <td>4</td>\n      <td>1.488208e+09</td>\n    </tr>\n    <tr>\n      <th>42</th>\n      <td>2</td>\n      <td>9452203</td>\n      <td>Shilla Stay Gwanghwamun</td>\n      <td>ACCOMMODATION</td>\n      <td>5</td>\n      <td>1.488208e+09</td>\n    </tr>\n  </tbody>\n</table>\n</div>"
          },
          "metadata": {},
          "execution_count": 39
        }
      ],
      "source": [
        "df2.loc[df2[\"userID\"]==2]"
      ]
    },
    {
      "cell_type": "code",
      "execution_count": 27,
      "metadata": {},
      "outputs": [
        {
          "output_type": "execute_result",
          "data": {
            "text/plain": "    userID  location.locationId  prediction                  location.name  \\\n10       2               324888    0.236662           Gyeongbokgung Palace   \n11       2              1379963    0.155741          Bukchon Hanok Village   \n12       2               592506    0.150169                       Insadong   \n13       2               320359    0.123903           Changdeokgung Palace   \n14       2              1046419    0.111963          Cheonggyecheon Stream   \n15       2               324907    0.094453               Namdaemun Market   \n16       2               554582    0.090473                    Namsan Park   \n17       2              6671988    0.087554  Dongdaemun Design Plaza (DDP)   \n18       2               554537    0.078799      The War Memorial of Korea   \n19       2               301815    0.069513        The Westin Chosun Seoul   \n\n   location.placeType  \n10         ATTRACTION  \n11         ATTRACTION  \n12         ATTRACTION  \n13         ATTRACTION  \n14         ATTRACTION  \n15         ATTRACTION  \n16         ATTRACTION  \n17         ATTRACTION  \n18         ATTRACTION  \n19      ACCOMMODATION  ",
            "text/html": "<div>\n<style scoped>\n    .dataframe tbody tr th:only-of-type {\n        vertical-align: middle;\n    }\n\n    .dataframe tbody tr th {\n        vertical-align: top;\n    }\n\n    .dataframe thead th {\n        text-align: right;\n    }\n</style>\n<table border=\"1\" class=\"dataframe\">\n  <thead>\n    <tr style=\"text-align: right;\">\n      <th></th>\n      <th>userID</th>\n      <th>location.locationId</th>\n      <th>prediction</th>\n      <th>location.name</th>\n      <th>location.placeType</th>\n    </tr>\n  </thead>\n  <tbody>\n    <tr>\n      <th>10</th>\n      <td>2</td>\n      <td>324888</td>\n      <td>0.236662</td>\n      <td>Gyeongbokgung Palace</td>\n      <td>ATTRACTION</td>\n    </tr>\n    <tr>\n      <th>11</th>\n      <td>2</td>\n      <td>1379963</td>\n      <td>0.155741</td>\n      <td>Bukchon Hanok Village</td>\n      <td>ATTRACTION</td>\n    </tr>\n    <tr>\n      <th>12</th>\n      <td>2</td>\n      <td>592506</td>\n      <td>0.150169</td>\n      <td>Insadong</td>\n      <td>ATTRACTION</td>\n    </tr>\n    <tr>\n      <th>13</th>\n      <td>2</td>\n      <td>320359</td>\n      <td>0.123903</td>\n      <td>Changdeokgung Palace</td>\n      <td>ATTRACTION</td>\n    </tr>\n    <tr>\n      <th>14</th>\n      <td>2</td>\n      <td>1046419</td>\n      <td>0.111963</td>\n      <td>Cheonggyecheon Stream</td>\n      <td>ATTRACTION</td>\n    </tr>\n    <tr>\n      <th>15</th>\n      <td>2</td>\n      <td>324907</td>\n      <td>0.094453</td>\n      <td>Namdaemun Market</td>\n      <td>ATTRACTION</td>\n    </tr>\n    <tr>\n      <th>16</th>\n      <td>2</td>\n      <td>554582</td>\n      <td>0.090473</td>\n      <td>Namsan Park</td>\n      <td>ATTRACTION</td>\n    </tr>\n    <tr>\n      <th>17</th>\n      <td>2</td>\n      <td>6671988</td>\n      <td>0.087554</td>\n      <td>Dongdaemun Design Plaza (DDP)</td>\n      <td>ATTRACTION</td>\n    </tr>\n    <tr>\n      <th>18</th>\n      <td>2</td>\n      <td>554537</td>\n      <td>0.078799</td>\n      <td>The War Memorial of Korea</td>\n      <td>ATTRACTION</td>\n    </tr>\n    <tr>\n      <th>19</th>\n      <td>2</td>\n      <td>301815</td>\n      <td>0.069513</td>\n      <td>The Westin Chosun Seoul</td>\n      <td>ACCOMMODATION</td>\n    </tr>\n  </tbody>\n</table>\n</div>"
          },
          "metadata": {},
          "execution_count": 27
        }
      ],
      "source": [
        "usercheck(2)"
      ]
    },
    {
      "cell_type": "code",
      "execution_count": 40,
      "metadata": {},
      "outputs": [
        {
          "output_type": "execute_result",
          "data": {
            "text/plain": "    userID  location.locationId             location.name location.placeType  \\\n43       3              8587847  Four Seasons Hotel Seoul      ACCOMMODATION   \n\n    rating  tripInfo.stayDate  \n43       5       1.496156e+09  ",
            "text/html": "<div>\n<style scoped>\n    .dataframe tbody tr th:only-of-type {\n        vertical-align: middle;\n    }\n\n    .dataframe tbody tr th {\n        vertical-align: top;\n    }\n\n    .dataframe thead th {\n        text-align: right;\n    }\n</style>\n<table border=\"1\" class=\"dataframe\">\n  <thead>\n    <tr style=\"text-align: right;\">\n      <th></th>\n      <th>userID</th>\n      <th>location.locationId</th>\n      <th>location.name</th>\n      <th>location.placeType</th>\n      <th>rating</th>\n      <th>tripInfo.stayDate</th>\n    </tr>\n  </thead>\n  <tbody>\n    <tr>\n      <th>43</th>\n      <td>3</td>\n      <td>8587847</td>\n      <td>Four Seasons Hotel Seoul</td>\n      <td>ACCOMMODATION</td>\n      <td>5</td>\n      <td>1.496156e+09</td>\n    </tr>\n  </tbody>\n</table>\n</div>"
          },
          "metadata": {},
          "execution_count": 40
        }
      ],
      "source": [
        "# 호텔에 대한 평점이 있어야 모델 적용 가능할 것 같음 \n",
        "df2.loc[df2[\"userID\"]==3]"
      ]
    },
    {
      "cell_type": "code",
      "execution_count": 28,
      "metadata": {},
      "outputs": [
        {
          "output_type": "execute_result",
          "data": {
            "text/plain": "Empty DataFrame\nColumns: [userID, location.locationId, prediction, location.name, location.placeType]\nIndex: []",
            "text/html": "<div>\n<style scoped>\n    .dataframe tbody tr th:only-of-type {\n        vertical-align: middle;\n    }\n\n    .dataframe tbody tr th {\n        vertical-align: top;\n    }\n\n    .dataframe thead th {\n        text-align: right;\n    }\n</style>\n<table border=\"1\" class=\"dataframe\">\n  <thead>\n    <tr style=\"text-align: right;\">\n      <th></th>\n      <th>userID</th>\n      <th>location.locationId</th>\n      <th>prediction</th>\n      <th>location.name</th>\n      <th>location.placeType</th>\n    </tr>\n  </thead>\n  <tbody>\n  </tbody>\n</table>\n</div>"
          },
          "metadata": {},
          "execution_count": 28
        }
      ],
      "source": [
        "# 보안책 뭐야 뭐야 \n",
        "# ??? sparse 한 문제가 생기면 -> autoencoder 적용하고 해야할 것 같은데 ... \n",
        "# 3~5 값으로 다 채워줌 ㅜㅜ \n",
        "# 1->4.1??? : loss 해봐야 할 것 같은데 - mse 값 자체는 작게 나온다 \n",
        "usercheck(3)"
      ]
    },
    {
      "cell_type": "code",
      "execution_count": 41,
      "metadata": {},
      "outputs": [
        {
          "output_type": "execute_result",
          "data": {
            "text/plain": "    userID  location.locationId                        location.name  \\\n44       4             10692374                   Hotel28 Myeongdong   \n45       4               306118  Grand InterContinental Seoul Parnas   \n46       4               299154          InterContinental Seoul COEX   \n\n   location.placeType  rating  tripInfo.stayDate  \n44      ACCOMMODATION       5       1.556550e+09  \n45      ACCOMMODATION       5       1.556550e+09  \n46      ACCOMMODATION       5       1.556550e+09  ",
            "text/html": "<div>\n<style scoped>\n    .dataframe tbody tr th:only-of-type {\n        vertical-align: middle;\n    }\n\n    .dataframe tbody tr th {\n        vertical-align: top;\n    }\n\n    .dataframe thead th {\n        text-align: right;\n    }\n</style>\n<table border=\"1\" class=\"dataframe\">\n  <thead>\n    <tr style=\"text-align: right;\">\n      <th></th>\n      <th>userID</th>\n      <th>location.locationId</th>\n      <th>location.name</th>\n      <th>location.placeType</th>\n      <th>rating</th>\n      <th>tripInfo.stayDate</th>\n    </tr>\n  </thead>\n  <tbody>\n    <tr>\n      <th>44</th>\n      <td>4</td>\n      <td>10692374</td>\n      <td>Hotel28 Myeongdong</td>\n      <td>ACCOMMODATION</td>\n      <td>5</td>\n      <td>1.556550e+09</td>\n    </tr>\n    <tr>\n      <th>45</th>\n      <td>4</td>\n      <td>306118</td>\n      <td>Grand InterContinental Seoul Parnas</td>\n      <td>ACCOMMODATION</td>\n      <td>5</td>\n      <td>1.556550e+09</td>\n    </tr>\n    <tr>\n      <th>46</th>\n      <td>4</td>\n      <td>299154</td>\n      <td>InterContinental Seoul COEX</td>\n      <td>ACCOMMODATION</td>\n      <td>5</td>\n      <td>1.556550e+09</td>\n    </tr>\n  </tbody>\n</table>\n</div>"
          },
          "metadata": {},
          "execution_count": 41
        }
      ],
      "source": [
        "df2.loc[df2[\"userID\"]==4]"
      ]
    },
    {
      "cell_type": "code",
      "execution_count": 29,
      "metadata": {},
      "outputs": [
        {
          "output_type": "execute_result",
          "data": {
            "text/plain": "    userID  location.locationId  prediction  \\\n20       4               299154    3.509729   \n21       4               301815    3.190663   \n22       4               301253    3.190663   \n23       4              3477158    2.871597   \n24       4              2194168    2.552530   \n25       4               320359    1.914398   \n26       4              5113510    1.914398   \n27       4               325043    1.914398   \n28       4               306130    1.914398   \n29       4               306139    1.914398   \n\n                            location.name location.placeType  \n20            InterContinental Seoul COEX      ACCOMMODATION  \n21                The Westin Chosun Seoul      ACCOMMODATION  \n22                       The Shilla Seoul      ACCOMMODATION  \n23                           Conrad Seoul      ACCOMMODATION  \n24                            Seoul Metro         ATTRACTION  \n25                   Changdeokgung Palace         ATTRACTION  \n26    JW Marriott Dongdaemun Square Seoul      ACCOMMODATION  \n27               National Museum of Korea         ATTRACTION  \n28                      Lotte Hotel Seoul      ACCOMMODATION  \n29  THE PLAZA Seoul, Autograph Collection      ACCOMMODATION  ",
            "text/html": "<div>\n<style scoped>\n    .dataframe tbody tr th:only-of-type {\n        vertical-align: middle;\n    }\n\n    .dataframe tbody tr th {\n        vertical-align: top;\n    }\n\n    .dataframe thead th {\n        text-align: right;\n    }\n</style>\n<table border=\"1\" class=\"dataframe\">\n  <thead>\n    <tr style=\"text-align: right;\">\n      <th></th>\n      <th>userID</th>\n      <th>location.locationId</th>\n      <th>prediction</th>\n      <th>location.name</th>\n      <th>location.placeType</th>\n    </tr>\n  </thead>\n  <tbody>\n    <tr>\n      <th>20</th>\n      <td>4</td>\n      <td>299154</td>\n      <td>3.509729</td>\n      <td>InterContinental Seoul COEX</td>\n      <td>ACCOMMODATION</td>\n    </tr>\n    <tr>\n      <th>21</th>\n      <td>4</td>\n      <td>301815</td>\n      <td>3.190663</td>\n      <td>The Westin Chosun Seoul</td>\n      <td>ACCOMMODATION</td>\n    </tr>\n    <tr>\n      <th>22</th>\n      <td>4</td>\n      <td>301253</td>\n      <td>3.190663</td>\n      <td>The Shilla Seoul</td>\n      <td>ACCOMMODATION</td>\n    </tr>\n    <tr>\n      <th>23</th>\n      <td>4</td>\n      <td>3477158</td>\n      <td>2.871597</td>\n      <td>Conrad Seoul</td>\n      <td>ACCOMMODATION</td>\n    </tr>\n    <tr>\n      <th>24</th>\n      <td>4</td>\n      <td>2194168</td>\n      <td>2.552530</td>\n      <td>Seoul Metro</td>\n      <td>ATTRACTION</td>\n    </tr>\n    <tr>\n      <th>25</th>\n      <td>4</td>\n      <td>320359</td>\n      <td>1.914398</td>\n      <td>Changdeokgung Palace</td>\n      <td>ATTRACTION</td>\n    </tr>\n    <tr>\n      <th>26</th>\n      <td>4</td>\n      <td>5113510</td>\n      <td>1.914398</td>\n      <td>JW Marriott Dongdaemun Square Seoul</td>\n      <td>ACCOMMODATION</td>\n    </tr>\n    <tr>\n      <th>27</th>\n      <td>4</td>\n      <td>325043</td>\n      <td>1.914398</td>\n      <td>National Museum of Korea</td>\n      <td>ATTRACTION</td>\n    </tr>\n    <tr>\n      <th>28</th>\n      <td>4</td>\n      <td>306130</td>\n      <td>1.914398</td>\n      <td>Lotte Hotel Seoul</td>\n      <td>ACCOMMODATION</td>\n    </tr>\n    <tr>\n      <th>29</th>\n      <td>4</td>\n      <td>306139</td>\n      <td>1.914398</td>\n      <td>THE PLAZA Seoul, Autograph Collection</td>\n      <td>ACCOMMODATION</td>\n    </tr>\n  </tbody>\n</table>\n</div>"
          },
          "metadata": {},
          "execution_count": 29
        }
      ],
      "source": [
        "usercheck(4)"
      ]
    },
    {
      "cell_type": "code",
      "execution_count": 42,
      "metadata": {},
      "outputs": [
        {
          "output_type": "execute_result",
          "data": {
            "text/plain": "    userID  location.locationId                             location.name  \\\n47       5               306145                         Royal Hotel Seoul   \n48       5             10692374                        Hotel28 Myeongdong   \n49       5             10514149                        Amanti Hotel Seoul   \n50       5               554534                                  Everland   \n51       5              2642194                                   Q Hotel   \n52       5              7685101  Floral Hotel Namsancity Seoul Myeongdong   \n53       5              6671995                      One Mount Water Park   \n54       5              1483296                           Ilsan Lake Park   \n55       5               506121                        New Oriental Hotel   \n56       5              2194168                               Seoul Metro   \n57       5               554534                                  Everland   \n58       5              6104958                              Iamyourguide   \n\n   location.placeType  rating  tripInfo.stayDate  \n47      ACCOMMODATION       3       1.514646e+09  \n48      ACCOMMODATION       5       1.498748e+09  \n49      ACCOMMODATION       3       1.514646e+09  \n50         ATTRACTION       3       1.498748e+09  \n51      ACCOMMODATION       3       1.467212e+09  \n52      ACCOMMODATION       5       1.467212e+09  \n53         ATTRACTION       1       1.459350e+09  \n54         ATTRACTION       5       1.459350e+09  \n55      ACCOMMODATION       5       1.459350e+09  \n56         ATTRACTION       1       1.459350e+09  \n57         ATTRACTION       5       1.459350e+09  \n58         ATTRACTION       5       1.459350e+09  ",
            "text/html": "<div>\n<style scoped>\n    .dataframe tbody tr th:only-of-type {\n        vertical-align: middle;\n    }\n\n    .dataframe tbody tr th {\n        vertical-align: top;\n    }\n\n    .dataframe thead th {\n        text-align: right;\n    }\n</style>\n<table border=\"1\" class=\"dataframe\">\n  <thead>\n    <tr style=\"text-align: right;\">\n      <th></th>\n      <th>userID</th>\n      <th>location.locationId</th>\n      <th>location.name</th>\n      <th>location.placeType</th>\n      <th>rating</th>\n      <th>tripInfo.stayDate</th>\n    </tr>\n  </thead>\n  <tbody>\n    <tr>\n      <th>47</th>\n      <td>5</td>\n      <td>306145</td>\n      <td>Royal Hotel Seoul</td>\n      <td>ACCOMMODATION</td>\n      <td>3</td>\n      <td>1.514646e+09</td>\n    </tr>\n    <tr>\n      <th>48</th>\n      <td>5</td>\n      <td>10692374</td>\n      <td>Hotel28 Myeongdong</td>\n      <td>ACCOMMODATION</td>\n      <td>5</td>\n      <td>1.498748e+09</td>\n    </tr>\n    <tr>\n      <th>49</th>\n      <td>5</td>\n      <td>10514149</td>\n      <td>Amanti Hotel Seoul</td>\n      <td>ACCOMMODATION</td>\n      <td>3</td>\n      <td>1.514646e+09</td>\n    </tr>\n    <tr>\n      <th>50</th>\n      <td>5</td>\n      <td>554534</td>\n      <td>Everland</td>\n      <td>ATTRACTION</td>\n      <td>3</td>\n      <td>1.498748e+09</td>\n    </tr>\n    <tr>\n      <th>51</th>\n      <td>5</td>\n      <td>2642194</td>\n      <td>Q Hotel</td>\n      <td>ACCOMMODATION</td>\n      <td>3</td>\n      <td>1.467212e+09</td>\n    </tr>\n    <tr>\n      <th>52</th>\n      <td>5</td>\n      <td>7685101</td>\n      <td>Floral Hotel Namsancity Seoul Myeongdong</td>\n      <td>ACCOMMODATION</td>\n      <td>5</td>\n      <td>1.467212e+09</td>\n    </tr>\n    <tr>\n      <th>53</th>\n      <td>5</td>\n      <td>6671995</td>\n      <td>One Mount Water Park</td>\n      <td>ATTRACTION</td>\n      <td>1</td>\n      <td>1.459350e+09</td>\n    </tr>\n    <tr>\n      <th>54</th>\n      <td>5</td>\n      <td>1483296</td>\n      <td>Ilsan Lake Park</td>\n      <td>ATTRACTION</td>\n      <td>5</td>\n      <td>1.459350e+09</td>\n    </tr>\n    <tr>\n      <th>55</th>\n      <td>5</td>\n      <td>506121</td>\n      <td>New Oriental Hotel</td>\n      <td>ACCOMMODATION</td>\n      <td>5</td>\n      <td>1.459350e+09</td>\n    </tr>\n    <tr>\n      <th>56</th>\n      <td>5</td>\n      <td>2194168</td>\n      <td>Seoul Metro</td>\n      <td>ATTRACTION</td>\n      <td>1</td>\n      <td>1.459350e+09</td>\n    </tr>\n    <tr>\n      <th>57</th>\n      <td>5</td>\n      <td>554534</td>\n      <td>Everland</td>\n      <td>ATTRACTION</td>\n      <td>5</td>\n      <td>1.459350e+09</td>\n    </tr>\n    <tr>\n      <th>58</th>\n      <td>5</td>\n      <td>6104958</td>\n      <td>Iamyourguide</td>\n      <td>ATTRACTION</td>\n      <td>5</td>\n      <td>1.459350e+09</td>\n    </tr>\n  </tbody>\n</table>\n</div>"
          },
          "metadata": {},
          "execution_count": 42
        }
      ],
      "source": [
        "df2.loc[df2[\"userID\"]==5]"
      ]
    },
    {
      "cell_type": "code",
      "execution_count": 30,
      "metadata": {},
      "outputs": [
        {
          "output_type": "execute_result",
          "data": {
            "text/plain": "    userID  location.locationId  prediction  \\\n30       5               553546    0.037239   \n31       5               324888    0.019563   \n32       5              8692662    0.016733   \n33       5              1169465    0.016577   \n34       5              1046419    0.014717   \n35       5              1552278    0.014024   \n36       5             12287729    0.013276   \n37       5               301253    0.013238   \n38       5               299154    0.013222   \n39       5               306139    0.013028   \n\n                            location.name location.placeType  \n30             Myeongdong Shopping Street         ATTRACTION  \n31                   Gyeongbokgung Palace         ATTRACTION  \n32                 Crown Park Hotel Seoul      ACCOMMODATION  \n33                          N Seoul Tower         ATTRACTION  \n34                  Cheonggyecheon Stream         ATTRACTION  \n35                       Kwangjang Market         ATTRACTION  \n36                               G2 Hotel      ACCOMMODATION  \n37                       The Shilla Seoul      ACCOMMODATION  \n38            InterContinental Seoul COEX      ACCOMMODATION  \n39  THE PLAZA Seoul, Autograph Collection      ACCOMMODATION  ",
            "text/html": "<div>\n<style scoped>\n    .dataframe tbody tr th:only-of-type {\n        vertical-align: middle;\n    }\n\n    .dataframe tbody tr th {\n        vertical-align: top;\n    }\n\n    .dataframe thead th {\n        text-align: right;\n    }\n</style>\n<table border=\"1\" class=\"dataframe\">\n  <thead>\n    <tr style=\"text-align: right;\">\n      <th></th>\n      <th>userID</th>\n      <th>location.locationId</th>\n      <th>prediction</th>\n      <th>location.name</th>\n      <th>location.placeType</th>\n    </tr>\n  </thead>\n  <tbody>\n    <tr>\n      <th>30</th>\n      <td>5</td>\n      <td>553546</td>\n      <td>0.037239</td>\n      <td>Myeongdong Shopping Street</td>\n      <td>ATTRACTION</td>\n    </tr>\n    <tr>\n      <th>31</th>\n      <td>5</td>\n      <td>324888</td>\n      <td>0.019563</td>\n      <td>Gyeongbokgung Palace</td>\n      <td>ATTRACTION</td>\n    </tr>\n    <tr>\n      <th>32</th>\n      <td>5</td>\n      <td>8692662</td>\n      <td>0.016733</td>\n      <td>Crown Park Hotel Seoul</td>\n      <td>ACCOMMODATION</td>\n    </tr>\n    <tr>\n      <th>33</th>\n      <td>5</td>\n      <td>1169465</td>\n      <td>0.016577</td>\n      <td>N Seoul Tower</td>\n      <td>ATTRACTION</td>\n    </tr>\n    <tr>\n      <th>34</th>\n      <td>5</td>\n      <td>1046419</td>\n      <td>0.014717</td>\n      <td>Cheonggyecheon Stream</td>\n      <td>ATTRACTION</td>\n    </tr>\n    <tr>\n      <th>35</th>\n      <td>5</td>\n      <td>1552278</td>\n      <td>0.014024</td>\n      <td>Kwangjang Market</td>\n      <td>ATTRACTION</td>\n    </tr>\n    <tr>\n      <th>36</th>\n      <td>5</td>\n      <td>12287729</td>\n      <td>0.013276</td>\n      <td>G2 Hotel</td>\n      <td>ACCOMMODATION</td>\n    </tr>\n    <tr>\n      <th>37</th>\n      <td>5</td>\n      <td>301253</td>\n      <td>0.013238</td>\n      <td>The Shilla Seoul</td>\n      <td>ACCOMMODATION</td>\n    </tr>\n    <tr>\n      <th>38</th>\n      <td>5</td>\n      <td>299154</td>\n      <td>0.013222</td>\n      <td>InterContinental Seoul COEX</td>\n      <td>ACCOMMODATION</td>\n    </tr>\n    <tr>\n      <th>39</th>\n      <td>5</td>\n      <td>306139</td>\n      <td>0.013028</td>\n      <td>THE PLAZA Seoul, Autograph Collection</td>\n      <td>ACCOMMODATION</td>\n    </tr>\n  </tbody>\n</table>\n</div>"
          },
          "metadata": {},
          "execution_count": 30
        }
      ],
      "source": [
        "usercheck(5)"
      ]
    },
    {
      "cell_type": "code",
      "execution_count": 81,
      "metadata": {},
      "outputs": [
        {
          "output_type": "execute_result",
          "data": {
            "text/plain": "     userID  location.locationId                         location.name  \\\n76       13              2355154                        Hourglass Park   \n77       13             13399849                 Skybay Hotel Gyeongpo   \n78       13              9133515            Chodang Grandma Silky Tofu   \n79       13              3938069                        Gyeongpo Beach   \n80       13              1966431                              Ojukheon   \n..      ...                  ...                                   ...   \n143      13              3164604                           Dolsan Park   \n144      13              4031882                       Hwangso Sikdang   \n145      13              3164603                    Yi Sun Shin Square   \n146      13              2653511                      Elysian Gangchon   \n147      13              3805496  Chuncheon Myeongdong Dakgalbi Street   \n\n    location.placeType  rating  tripInfo.stayDate  \n76          ATTRACTION       3       1.527692e+09  \n77       ACCOMMODATION       4       1.527692e+09  \n78              EATERY       4       1.527692e+09  \n79          ATTRACTION       4       1.527692e+09  \n80          ATTRACTION       4       1.527692e+09  \n..                 ...     ...                ...  \n143         ATTRACTION       4       1.432998e+09  \n144             EATERY       4       1.432998e+09  \n145         ATTRACTION       3       1.432998e+09  \n146      ACCOMMODATION       4       1.414681e+09  \n147         ATTRACTION       3       1.414681e+09  \n\n[72 rows x 6 columns]",
            "text/html": "<div>\n<style scoped>\n    .dataframe tbody tr th:only-of-type {\n        vertical-align: middle;\n    }\n\n    .dataframe tbody tr th {\n        vertical-align: top;\n    }\n\n    .dataframe thead th {\n        text-align: right;\n    }\n</style>\n<table border=\"1\" class=\"dataframe\">\n  <thead>\n    <tr style=\"text-align: right;\">\n      <th></th>\n      <th>userID</th>\n      <th>location.locationId</th>\n      <th>location.name</th>\n      <th>location.placeType</th>\n      <th>rating</th>\n      <th>tripInfo.stayDate</th>\n    </tr>\n  </thead>\n  <tbody>\n    <tr>\n      <th>76</th>\n      <td>13</td>\n      <td>2355154</td>\n      <td>Hourglass Park</td>\n      <td>ATTRACTION</td>\n      <td>3</td>\n      <td>1.527692e+09</td>\n    </tr>\n    <tr>\n      <th>77</th>\n      <td>13</td>\n      <td>13399849</td>\n      <td>Skybay Hotel Gyeongpo</td>\n      <td>ACCOMMODATION</td>\n      <td>4</td>\n      <td>1.527692e+09</td>\n    </tr>\n    <tr>\n      <th>78</th>\n      <td>13</td>\n      <td>9133515</td>\n      <td>Chodang Grandma Silky Tofu</td>\n      <td>EATERY</td>\n      <td>4</td>\n      <td>1.527692e+09</td>\n    </tr>\n    <tr>\n      <th>79</th>\n      <td>13</td>\n      <td>3938069</td>\n      <td>Gyeongpo Beach</td>\n      <td>ATTRACTION</td>\n      <td>4</td>\n      <td>1.527692e+09</td>\n    </tr>\n    <tr>\n      <th>80</th>\n      <td>13</td>\n      <td>1966431</td>\n      <td>Ojukheon</td>\n      <td>ATTRACTION</td>\n      <td>4</td>\n      <td>1.527692e+09</td>\n    </tr>\n    <tr>\n      <th>...</th>\n      <td>...</td>\n      <td>...</td>\n      <td>...</td>\n      <td>...</td>\n      <td>...</td>\n      <td>...</td>\n    </tr>\n    <tr>\n      <th>143</th>\n      <td>13</td>\n      <td>3164604</td>\n      <td>Dolsan Park</td>\n      <td>ATTRACTION</td>\n      <td>4</td>\n      <td>1.432998e+09</td>\n    </tr>\n    <tr>\n      <th>144</th>\n      <td>13</td>\n      <td>4031882</td>\n      <td>Hwangso Sikdang</td>\n      <td>EATERY</td>\n      <td>4</td>\n      <td>1.432998e+09</td>\n    </tr>\n    <tr>\n      <th>145</th>\n      <td>13</td>\n      <td>3164603</td>\n      <td>Yi Sun Shin Square</td>\n      <td>ATTRACTION</td>\n      <td>3</td>\n      <td>1.432998e+09</td>\n    </tr>\n    <tr>\n      <th>146</th>\n      <td>13</td>\n      <td>2653511</td>\n      <td>Elysian Gangchon</td>\n      <td>ACCOMMODATION</td>\n      <td>4</td>\n      <td>1.414681e+09</td>\n    </tr>\n    <tr>\n      <th>147</th>\n      <td>13</td>\n      <td>3805496</td>\n      <td>Chuncheon Myeongdong Dakgalbi Street</td>\n      <td>ATTRACTION</td>\n      <td>3</td>\n      <td>1.414681e+09</td>\n    </tr>\n  </tbody>\n</table>\n<p>72 rows × 6 columns</p>\n</div>"
          },
          "metadata": {},
          "execution_count": 81
        }
      ],
      "source": [
        "# EATERY 많이 평가한 user13 (47개 평가)\n",
        "df2.loc[df2[\"userID\"]==13]"
      ]
    },
    {
      "cell_type": "code",
      "execution_count": 82,
      "metadata": {},
      "outputs": [
        {
          "output_type": "execute_result",
          "data": {
            "text/plain": "    userID  location.locationId  prediction               location.name  \\\n60      13               553546    0.146499  Myeongdong Shopping Street   \n61      13              5541269    0.126048       Sokcho Jungang Market   \n62      13               301253    0.125464            The Shilla Seoul   \n63      13              1174982    0.113172        Tosokchon Samgyetang   \n64      13               554537    0.104970   The War Memorial of Korea   \n65      13               320359    0.104967        Changdeokgung Palace   \n66      13               609340    0.104929       Myeong-dong Cathedral   \n67      13              4031198    0.104928          Pyeongyang Myeonok   \n68      13              6656879    0.104916      Samcheongdong-gil Road   \n69      13               306105    0.104910       Imperial Palace Seoul   \n\n   location.placeType  \n60         ATTRACTION  \n61         ATTRACTION  \n62      ACCOMMODATION  \n63             EATERY  \n64         ATTRACTION  \n65         ATTRACTION  \n66         ATTRACTION  \n67             EATERY  \n68         ATTRACTION  \n69      ACCOMMODATION  ",
            "text/html": "<div>\n<style scoped>\n    .dataframe tbody tr th:only-of-type {\n        vertical-align: middle;\n    }\n\n    .dataframe tbody tr th {\n        vertical-align: top;\n    }\n\n    .dataframe thead th {\n        text-align: right;\n    }\n</style>\n<table border=\"1\" class=\"dataframe\">\n  <thead>\n    <tr style=\"text-align: right;\">\n      <th></th>\n      <th>userID</th>\n      <th>location.locationId</th>\n      <th>prediction</th>\n      <th>location.name</th>\n      <th>location.placeType</th>\n    </tr>\n  </thead>\n  <tbody>\n    <tr>\n      <th>60</th>\n      <td>13</td>\n      <td>553546</td>\n      <td>0.146499</td>\n      <td>Myeongdong Shopping Street</td>\n      <td>ATTRACTION</td>\n    </tr>\n    <tr>\n      <th>61</th>\n      <td>13</td>\n      <td>5541269</td>\n      <td>0.126048</td>\n      <td>Sokcho Jungang Market</td>\n      <td>ATTRACTION</td>\n    </tr>\n    <tr>\n      <th>62</th>\n      <td>13</td>\n      <td>301253</td>\n      <td>0.125464</td>\n      <td>The Shilla Seoul</td>\n      <td>ACCOMMODATION</td>\n    </tr>\n    <tr>\n      <th>63</th>\n      <td>13</td>\n      <td>1174982</td>\n      <td>0.113172</td>\n      <td>Tosokchon Samgyetang</td>\n      <td>EATERY</td>\n    </tr>\n    <tr>\n      <th>64</th>\n      <td>13</td>\n      <td>554537</td>\n      <td>0.104970</td>\n      <td>The War Memorial of Korea</td>\n      <td>ATTRACTION</td>\n    </tr>\n    <tr>\n      <th>65</th>\n      <td>13</td>\n      <td>320359</td>\n      <td>0.104967</td>\n      <td>Changdeokgung Palace</td>\n      <td>ATTRACTION</td>\n    </tr>\n    <tr>\n      <th>66</th>\n      <td>13</td>\n      <td>609340</td>\n      <td>0.104929</td>\n      <td>Myeong-dong Cathedral</td>\n      <td>ATTRACTION</td>\n    </tr>\n    <tr>\n      <th>67</th>\n      <td>13</td>\n      <td>4031198</td>\n      <td>0.104928</td>\n      <td>Pyeongyang Myeonok</td>\n      <td>EATERY</td>\n    </tr>\n    <tr>\n      <th>68</th>\n      <td>13</td>\n      <td>6656879</td>\n      <td>0.104916</td>\n      <td>Samcheongdong-gil Road</td>\n      <td>ATTRACTION</td>\n    </tr>\n    <tr>\n      <th>69</th>\n      <td>13</td>\n      <td>306105</td>\n      <td>0.104910</td>\n      <td>Imperial Palace Seoul</td>\n      <td>ACCOMMODATION</td>\n    </tr>\n  </tbody>\n</table>\n</div>"
          },
          "metadata": {},
          "execution_count": 82
        }
      ],
      "source": [
        "usercheck(13)"
      ]
    },
    {
      "cell_type": "markdown",
      "metadata": {},
      "source": [
        "### + Lift / Jaccard : 성능 0 ~ "
      ]
    },
    {
      "cell_type": "code",
      "execution_count": 39,
      "metadata": {},
      "outputs": [],
      "source": [
        "model = SARSingleNode(\n",
        "    similarity_type=\"lift\", # jaccard, lift, cooccurrence \n",
        "    time_decay_coefficient=100, # 100일 \n",
        "    time_now=None, \n",
        "    timedecay_formula=True, \n",
        "    **header\n",
        ")"
      ]
    },
    {
      "cell_type": "code",
      "execution_count": 40,
      "metadata": {},
      "outputs": [],
      "source": [
        "model.fit(train) # cooccurrence 보다는 쪼끔 더 걸림 "
      ]
    },
    {
      "cell_type": "code",
      "execution_count": 41,
      "metadata": {},
      "outputs": [],
      "source": [
        "top_k = model.recommend_k_items(test, remove_seen=True)"
      ]
    },
    {
      "cell_type": "code",
      "execution_count": 42,
      "metadata": {},
      "outputs": [
        {
          "output_type": "display_data",
          "data": {
            "text/plain": "    userID  location.locationId  prediction\n0        1              9314172         0.0\n1        1              9070095         0.0\n2        1              7748061         0.0\n3        1              8990236         0.0\n4        1              9003589         0.0\n5        1              9028032         0.0\n6        1              6876823         0.0\n7        1              3938967         0.0\n8        1              8634423         0.0\n9        1             12951821         0.0\n10       2              9127120         0.0\n11       2             11778748         0.0\n12       2              4032868         0.0\n13       2              8965056         0.0\n14       2              9066867         0.0\n15       2              8969006         0.0\n16       2              9401054         0.0\n17       2             10915548         0.0\n18       2             10376613         0.0\n19       2             12951821         0.0",
            "text/html": "<div>\n<style scoped>\n    .dataframe tbody tr th:only-of-type {\n        vertical-align: middle;\n    }\n\n    .dataframe tbody tr th {\n        vertical-align: top;\n    }\n\n    .dataframe thead th {\n        text-align: right;\n    }\n</style>\n<table border=\"1\" class=\"dataframe\">\n  <thead>\n    <tr style=\"text-align: right;\">\n      <th></th>\n      <th>userID</th>\n      <th>location.locationId</th>\n      <th>prediction</th>\n    </tr>\n  </thead>\n  <tbody>\n    <tr>\n      <th>0</th>\n      <td>1</td>\n      <td>9314172</td>\n      <td>0.0</td>\n    </tr>\n    <tr>\n      <th>1</th>\n      <td>1</td>\n      <td>9070095</td>\n      <td>0.0</td>\n    </tr>\n    <tr>\n      <th>2</th>\n      <td>1</td>\n      <td>7748061</td>\n      <td>0.0</td>\n    </tr>\n    <tr>\n      <th>3</th>\n      <td>1</td>\n      <td>8990236</td>\n      <td>0.0</td>\n    </tr>\n    <tr>\n      <th>4</th>\n      <td>1</td>\n      <td>9003589</td>\n      <td>0.0</td>\n    </tr>\n    <tr>\n      <th>5</th>\n      <td>1</td>\n      <td>9028032</td>\n      <td>0.0</td>\n    </tr>\n    <tr>\n      <th>6</th>\n      <td>1</td>\n      <td>6876823</td>\n      <td>0.0</td>\n    </tr>\n    <tr>\n      <th>7</th>\n      <td>1</td>\n      <td>3938967</td>\n      <td>0.0</td>\n    </tr>\n    <tr>\n      <th>8</th>\n      <td>1</td>\n      <td>8634423</td>\n      <td>0.0</td>\n    </tr>\n    <tr>\n      <th>9</th>\n      <td>1</td>\n      <td>12951821</td>\n      <td>0.0</td>\n    </tr>\n    <tr>\n      <th>10</th>\n      <td>2</td>\n      <td>9127120</td>\n      <td>0.0</td>\n    </tr>\n    <tr>\n      <th>11</th>\n      <td>2</td>\n      <td>11778748</td>\n      <td>0.0</td>\n    </tr>\n    <tr>\n      <th>12</th>\n      <td>2</td>\n      <td>4032868</td>\n      <td>0.0</td>\n    </tr>\n    <tr>\n      <th>13</th>\n      <td>2</td>\n      <td>8965056</td>\n      <td>0.0</td>\n    </tr>\n    <tr>\n      <th>14</th>\n      <td>2</td>\n      <td>9066867</td>\n      <td>0.0</td>\n    </tr>\n    <tr>\n      <th>15</th>\n      <td>2</td>\n      <td>8969006</td>\n      <td>0.0</td>\n    </tr>\n    <tr>\n      <th>16</th>\n      <td>2</td>\n      <td>9401054</td>\n      <td>0.0</td>\n    </tr>\n    <tr>\n      <th>17</th>\n      <td>2</td>\n      <td>10915548</td>\n      <td>0.0</td>\n    </tr>\n    <tr>\n      <th>18</th>\n      <td>2</td>\n      <td>10376613</td>\n      <td>0.0</td>\n    </tr>\n    <tr>\n      <th>19</th>\n      <td>2</td>\n      <td>12951821</td>\n      <td>0.0</td>\n    </tr>\n  </tbody>\n</table>\n</div>"
          },
          "metadata": {}
        }
      ],
      "source": [
        "display(top_k.head(20))"
      ]
    },
    {
      "cell_type": "code",
      "execution_count": 43,
      "metadata": {},
      "outputs": [
        {
          "output_type": "execute_result",
          "data": {
            "text/plain": "Empty DataFrame\nColumns: [userID, location.locationId, prediction]\nIndex: []",
            "text/html": "<div>\n<style scoped>\n    .dataframe tbody tr th:only-of-type {\n        vertical-align: middle;\n    }\n\n    .dataframe tbody tr th {\n        vertical-align: top;\n    }\n\n    .dataframe thead th {\n        text-align: right;\n    }\n</style>\n<table border=\"1\" class=\"dataframe\">\n  <thead>\n    <tr style=\"text-align: right;\">\n      <th></th>\n      <th>userID</th>\n      <th>location.locationId</th>\n      <th>prediction</th>\n    </tr>\n  </thead>\n  <tbody>\n  </tbody>\n</table>\n</div>"
          },
          "metadata": {},
          "execution_count": 43
        }
      ],
      "source": [
        "top_k.loc[top_k[\"prediction\"] != 0]"
      ]
    },
    {
      "cell_type": "code",
      "execution_count": 44,
      "metadata": {},
      "outputs": [],
      "source": [
        "# all ranking metrics have the same arguments\n",
        "args = [test, top_k]\n",
        "kwargs = dict(col_user='userID', \n",
        "              col_item='location.locationId', \n",
        "              col_rating='rating', \n",
        "              col_prediction='prediction', \n",
        "              relevancy_method='top_k', \n",
        "              k=TOP_K)\n",
        "\n",
        "eval_map = map_at_k(*args, **kwargs)\n",
        "eval_ndcg = ndcg_at_k(*args, **kwargs)\n",
        "eval_precision = precision_at_k(*args, **kwargs)\n",
        "eval_recall = recall_at_k(*args, **kwargs)"
      ]
    },
    {
      "cell_type": "code",
      "execution_count": 45,
      "metadata": {},
      "outputs": [
        {
          "output_type": "stream",
          "name": "stdout",
          "text": "Model:\nTop K:\t\t 10\nMAP:\t\t 0.000012\nNDCG:\t\t 0.000245\nPrecision@K:\t 0.000111\nRecall@K:\t 0.000012\n"
        }
      ],
      "source": [
        "print(f\"Model:\",\n",
        "      f\"Top K:\\t\\t {TOP_K}\",\n",
        "      f\"MAP:\\t\\t {eval_map:f}\",\n",
        "      f\"NDCG:\\t\\t {eval_ndcg:f}\",\n",
        "      f\"Precision@K:\\t {eval_precision:f}\",\n",
        "      f\"Recall@K:\\t {eval_recall:f}\", sep='\\n')"
      ]
    }
  ],
  "metadata": {
    "colab": {
      "name": "JB_SAR.ipynb",
      "provenance": [],
      "collapsed_sections": []
    },
    "kernelspec": {
      "name": "python3",
      "display_name": "Python 3"
    },
    "accelerator": "GPU"
  },
  "nbformat": 4,
  "nbformat_minor": 0
}